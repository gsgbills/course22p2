{
 "cells": [
  {
   "cell_type": "markdown",
   "metadata": {},
   "source": [
    "# Clustering\n",
    "\n",
    "We now know how to multiply matrices, let's practice tensor manipulation in this 02_meanshift notebook.\n",
    "The goal is the homework, to get to a point where we can implement something like this but for a different algorithm. \n",
    "Tensor manipulation is like learning the times table, it comes up all the time.\n",
    "If we're not good at it, the rest gets difficult, we get slower,\n",
    "and it's frustrating to spend time thinking about the mechanical operations rather than getting work done.\n",
    "<br>\n",
    "When we have  an idea it is key to quickly translate it into working code.\n",
    "Code for GPUs and fast running CPUs is using broadcasting, Einstein notation, matrix modifications, etc.\n",
    "So this is important. \n",
    "We're going to practice it by developing a clustering algorithm, *mean shift clustering*,\n",
    "a fun algorithm that few come across, and it is useful. \n",
    "<br>\n",
    "Cluster analysis is different to anything that we've worked on in this course so far.\n",
    "There isn't a dependent variable that we're trying to match. \n",
    "Instead we're trying to find \"clusters\", groups of similar things in the data.\n",
    "There are many different areas with applications of cluster analysis. \n",
    "Sometimes cluster analysis can be overused or misused. \n",
    "It's best for when the various columns are the same kind of thing and have the same kind of scale. \n",
    "For example, pixels are all the same kind of thing.  \n",
    "But for market research with socio-demographic inputs may not be as good because they're different kinds of things. \n",
    "An OK example is data from surveys, e.g., with from one to five answers."
   ]
  },
  {
   "cell_type": "markdown",
   "metadata": {},
   "source": [
    "Clustering techniques are unsupervised learning algorithms that try to group unlabelled data into \"clusters\", using the (typically spatial) structure of the data itself.\n",
    "To demonstrate how clustering works lets generate some data and show clustering in action. "
   ]
  },
  {
   "cell_type": "code",
   "execution_count": 1,
   "metadata": {},
   "outputs": [],
   "source": [
    "import torch\n",
    "torch.manual_seed(42)\n",
    "torch.set_printoptions(precision=3, linewidth=140, sci_mode=False)"
   ]
  },
  {
   "cell_type": "markdown",
   "metadata": {},
   "source": [
    "## Create data (synthetic)\n",
    "We create some some synthetic data which we know how we want it to behave.\n",
    "Lets create six clusters, each is going to have a random < 1000 samples in it. \n",
    "First we randomly create six centroids, the \"middle\" of where the clusters are. "
   ]
  },
  {
   "cell_type": "code",
   "execution_count": 2,
   "metadata": {},
   "outputs": [],
   "source": [
    "n_clusters=6"
   ]
  },
  {
   "cell_type": "code",
   "execution_count": 3,
   "metadata": {},
   "outputs": [
    {
     "data": {
      "text/plain": [
       "(4029, [708, 903, 501, 832, 600, 485])"
      ]
     },
     "execution_count": 3,
     "metadata": {},
     "output_type": "execute_result"
    }
   ],
   "source": [
    "from random import sample\n",
    "#n_samples=[250,300,75,125,500,400] # this is needed to have clusters of different size\n",
    "n_samples = sample(range(1, 1000), n_clusters)\n",
    "assert n_clusters==len(n_samples)\n",
    "total_samples = sum(n_samples)\n",
    "total_samples, n_samples"
   ]
  },
  {
   "cell_type": "markdown",
   "metadata": {},
   "source": [
    "First we randomly create six centroids, the \"middle\" of where the clusters are. \n",
    "We need them n_clusters by 2 because we need an X and a Y coordinate for each one. "
   ]
  },
  {
   "cell_type": "code",
   "execution_count": 32,
   "metadata": {},
   "outputs": [],
   "source": [
    "centroids = torch.randint(-35, 35, (n_clusters, 2)).float()\n",
    "\n",
    "#centroids = torch.rand(n_clusters, 2)*70-35"
   ]
  },
  {
   "cell_type": "code",
   "execution_count": 5,
   "metadata": {},
   "outputs": [],
   "source": [
    "from torch.distributions.multivariate_normal import MultivariateNormal\n",
    "from torch import tensor"
   ]
  },
  {
   "cell_type": "raw",
   "metadata": {},
   "source": [
    "MultivariateNormal: Creates a multivariate normal (also called Gaussian) distribution\n",
    "parameterized by a mean vector and a covariance matrix.\n",
    "Args:\n",
    "    loc (Tensor): mean of the distribution\n",
    "    covariance_matrix (Tensor): positive-definite covariance matrix\n",
    "    precision_matrix (Tensor): positive-definite precision matrix\n",
    "    scale_tril (Tensor): lower-triangular factor of covariance, with positive-valued diagonal\n"
   ]
  },
  {
   "cell_type": "markdown",
   "metadata": {},
   "source": [
    "Now we randomly generate cordinates data (x,y) around those six centroids,\n",
    "using `sample(m)` to run on each of the six `m` centroids. \n",
    "Each centroid contains an X and a Y. \n",
    "`MultivariateNormal()` is just like normal, will give back normally distributed data, but more than one item (multivariate)\n",
    "We pass in a mean for X and a mean for Y, and that's the mean of the returned data.\n",
    "The standard deviation is going to be five. \n",
    "We use `torch.diag(tensor([5.,  5.]))` because for multivariate normal distributions, \n",
    "there is one standard deviation for each column that we get back. \n",
    "There could also be a connection between columns, so columns might not be independent. \n",
    "So we need a *covariance matrix*, not just a variance. "
   ]
  },
  {
   "cell_type": "code",
   "execution_count": 33,
   "metadata": {},
   "outputs": [],
   "source": [
    "def sample(m,n_samples): return MultivariateNormal(m, torch.diag(tensor([5.,5.]))).sample((n_samples,))"
   ]
  },
  {
   "cell_type": "markdown",
   "metadata": {},
   "source": [
    "We combine all the data point coordinates."
   ]
  },
  {
   "cell_type": "code",
   "execution_count": 34,
   "metadata": {},
   "outputs": [
    {
     "data": {
      "text/plain": [
       "(torch.Size([4029, 2]), torch.Size([4029]))"
      ]
     },
     "execution_count": 34,
     "metadata": {},
     "output_type": "execute_result"
    }
   ],
   "source": [
    "slices,labels = zip(*[(sample(c,s),torch.tensor([label]*s)) for label,(c,s) in enumerate(zip(centroids,n_samples))])\n",
    "data = torch.cat(slices)\n",
    "labels = torch.cat(labels)\n",
    "data.shape, labels.shape"
   ]
  },
  {
   "cell_type": "markdown",
   "metadata": {},
   "source": [
    "Below we can see each centroid marked w/ X, and the coloring associated to each respective cluster."
   ]
  },
  {
   "cell_type": "code",
   "execution_count": 8,
   "metadata": {},
   "outputs": [],
   "source": [
    "import matplotlib.pyplot as plt"
   ]
  },
  {
   "cell_type": "markdown",
   "metadata": {},
   "source": [
    "Here we want to plot the centroids and the data.\n",
    "We loop through each `centroids`, grab that centroid `samples`, and create a scatterplot with the samples on them.  \n",
    "We've created an axis here, we'll see why later that we can also pass one in.\n",
    "But we are not passing one in. \n",
    "So we create a plot and an axis.  \n",
    "In Matplotlib we can keep plotting things on the same axis. \n",
    "We plot on the centroid a big black X, which is black,and then a smaller X, which is magenta. "
   ]
  },
  {
   "cell_type": "code",
   "execution_count": 9,
   "metadata": {},
   "outputs": [],
   "source": [
    "def plot_data(centroids, data, labels, ax=None):\n",
    "    if ax is None: _,ax = plt.subplots()\n",
    "    for i,(c,s) in enumerate(zip(centroids,labels.unique())):\n",
    "        samples = data[labels==s]\n",
    "        ax.scatter(samples[:,0], samples[:,1], s=1)\n",
    "        ax.plot(*c, markersize=10, marker=\"x\", color='k', mew=5)\n",
    "        ax.plot(*c, markersize=5, marker=\"x\", color='m', mew=2)"
   ]
  },
  {
   "cell_type": "markdown",
   "metadata": {},
   "source": [
    "So the Xs are the six centroids and the colored dots is the data. \n",
    "Given this data without the Xs, the problem is figuring out where the Xs would have been. \n",
    "If we get data, the goal is to find out that there are a few discreetly, \n",
    "distinctly different types of data in the data set. "
   ]
  },
  {
   "cell_type": "code",
   "execution_count": 35,
   "metadata": {},
   "outputs": [
    {
     "data": {
      "image/png": "[encoded data removed]",
      "text/plain": [
       "<Figure size 640x480 with 1 Axes>"
      ]
     },
     "metadata": {},
     "output_type": "display_data"
    }
   ],
   "source": [
    "plot_data(centroids, data, labels)"
   ]
  },
  {
   "cell_type": "code",
   "execution_count": 36,
   "metadata": {},
   "outputs": [
    {
     "data": {
      "text/plain": [
       "tensor([6.673, 4.344])"
      ]
     },
     "execution_count": 36,
     "metadata": {},
     "output_type": "execute_result"
    }
   ],
   "source": [
    "midp = data.mean(0)\n",
    "midp"
   ]
  },
  {
   "cell_type": "code",
   "execution_count": 37,
   "metadata": {},
   "outputs": [
    {
     "data": {
      "image/png": "[encoded data removed]",
      "text/plain": [
       "<Figure size 640x480 with 1 Axes>"
      ]
     },
     "metadata": {},
     "output_type": "display_data"
    }
   ],
   "source": [
    "plot_data([midp]*6, data, labels)"
   ]
  },
  {
   "cell_type": "markdown",
   "metadata": {},
   "source": [
    "## [Mean shift](https://en.wikipedia.org/wiki/Mean_shift) Algorithm\n",
    "\n",
    "In the clustering problem, the centroids are not given, we need to find them. <br>\n",
    "Mean shift is a procedure for locating the maxima—the modes—of a density function given discrete data sampled from that function."
   ]
  },
  {
   "cell_type": "markdown",
   "metadata": {},
   "source": [
    "Most known clustering algorithm is **k-means**. Mean shift clustering is a newer and less well-known approach, but it has some important advantages:\n",
    "* It doesn't require selecting the number of clusters in advance, but instead just requires a **bandwidth** to be specified, which can be easily chosen automatically\n",
    "* It can handle clusters of any shape, whereas k-means (without using special extensions) requires that clusters be roughly ball shaped."
   ]
  },
  {
   "cell_type": "markdown",
   "metadata": {},
   "source": [
    "The algorithm is as follows:\n",
    "* For each data point x in the sample X, find the distance between that point x and every other point in X\n",
    "* Create weights for each point in X by using the **Gaussian kernel** of that point's distance to x\n",
    "    * This weighting approach penalizes points further away from x\n",
    "    * The rate at which the weights fall to zero is determined by the **bandwidth**, which is the standard deviation of the Gaussian\n",
    "* Update x as the weighted average of all other points in X, weighted based on the previous step\n",
    "\n",
    "This will iteratively push points that are close together even closer until they are next to each other."
   ]
  },
  {
   "cell_type": "markdown",
   "metadata": {},
   "source": [
    "The definition of the gaussian kernel:\n",
    "$$f(x) = \\frac{1}{\\sigma \\sqrt{2\\pi} } e^{-\\frac{1}{2}\\left(\\frac{x-\\mu}{\\sigma}\\right)^2}$$\n",
    "or \n",
    "$$g(x) = \\frac{1}{\\sigma\\sqrt{2\\pi}} \\exp\\left( -\\frac{1}{2} \\frac{(x - \\mu)^2}{\\sigma^2} \\right)$$\n",
    "Below: $\\sigma$ = `bw`    and   $(x - \\mu) =$ `d`"
   ]
  },
  {
   "cell_type": "markdown",
   "metadata": {},
   "source": [
    "Mean Shift is a good clustering approach, we don't have to say how many clusters there are.\n",
    "Other algorithms, e.g., *k-means* require us to say how many. \n",
    "Instead, we just have to pass a bandwidth which can be chosen automatically.\n",
    "It can also handle clusters of any shape, they don't have to be ball-shaped.\n",
    "<br>\n",
    "We're going to pick a point, and find the distance between that point and every other point in a big list. \n",
    "Now we take a weighted average of all of those points, such that\n",
    "a point that is a very close (far) from our point of interest should have a very high (low) weight.\n",
    "A Gaussian kernel creates weights for every point compared to the one that we're currently interested in using.\n",
    "Points that are further away are penalized, at a rate determined by the bandwidth,  \n",
    "which is the standard deviation of our Gaussian. \n",
    "The weighted average is mainly going to be a weighted average of the points that are nearby. \n",
    "And the weighted average of those points, is going to move all of these points in closer, like a gravitational center. "
   ]
  },
  {
   "cell_type": "code",
   "execution_count": 13,
   "metadata": {},
   "outputs": [],
   "source": [
    "import math\n",
    "def gaussian(d, bw): return torch.exp(-0.5*((d/bw))**2) / (bw*math.sqrt(2*math.pi))"
   ]
  },
  {
   "cell_type": "raw",
   "metadata": {},
   "source": [
    "linspace(start, end, steps, *, out=None, dtype=None, layout=torch.strided, device=None, requires_grad=False) -> Tensor\n",
    "\n",
    "Creates a one-dimensional tensor of size :attr:`steps` whose values are evenly\n",
    "spaced from :attr:`start` to :attr:`end`, inclusive."
   ]
  },
  {
   "cell_type": "code",
   "execution_count": 14,
   "metadata": {},
   "outputs": [
    {
     "data": {
      "image/png": "[encoded data removed]",
      "text/plain": [
       "<Figure size 640x480 with 1 Axes>"
      ]
     },
     "metadata": {},
     "output_type": "display_data"
    }
   ],
   "source": [
    "#x indicates the distance from a point.\n",
    "x = torch.linspace(0,10,100)\n",
    "plt.plot(x, gaussian(x,2.5), label='Gaussian');"
   ]
  },
  {
   "cell_type": "markdown",
   "metadata": {},
   "source": [
    "It is helpful to have something that can quickly plot any function. \n",
    "It doesn't come with Matplotlib, lets write it. \n",
    "For X, let's use all the numbers from 0 to 10, 100 of them spaced evenly. \n",
    "That's what linspace() does, linearly spaced 100 numbers in this range. \n",
    "We plot those Xs and plot f(X), the Ys in `plot_func` we want. "
   ]
  },
  {
   "cell_type": "code",
   "execution_count": 15,
   "metadata": {},
   "outputs": [],
   "source": [
    "#Alternative using partial\n",
    "from functools import partial\n",
    "\n",
    "def plot_func(f):\n",
    "    x = torch.linspace(0,10,100)\n",
    "    plt.plot(x, f(x))"
   ]
  },
  {
   "cell_type": "code",
   "execution_count": 16,
   "metadata": {},
   "outputs": [
    {
     "data": {
      "image/png": "[encoded data removed]",
      "text/plain": [
       "<Figure size 640x480 with 1 Axes>"
      ]
     },
     "metadata": {},
     "output_type": "display_data"
    }
   ],
   "source": [
    "plot_func(partial(gaussian, bw=2.5))"
   ]
  },
  {
   "cell_type": "markdown",
   "metadata": {},
   "source": [
    "With partial we define a new function, here is the function Gaussian, and is going to automatically pass bw equals 2.5. \n",
    "This is a partially applied function.  We use partial function application a lot, it is a very important tool. \n",
    "Without it plotting this function would have been more  complicated. "
   ]
  },
  {
   "cell_type": "code",
   "execution_count": 17,
   "metadata": {},
   "outputs": [],
   "source": [
    "f = partial(gaussian, bw=2.5)"
   ]
  },
  {
   "cell_type": "markdown",
   "metadata": {},
   "source": [
    "So f(tensor(4)), is just like the graph, about 0.44. "
   ]
  },
  {
   "cell_type": "code",
   "execution_count": 18,
   "metadata": {},
   "outputs": [
    {
     "data": {
      "text/plain": [
       "tensor(0.044)"
      ]
     },
     "execution_count": 18,
     "metadata": {},
     "output_type": "execute_result"
    }
   ],
   "source": [
    "f(tensor(4))"
   ]
  },
  {
   "cell_type": "markdown",
   "metadata": {},
   "source": [
    "An alternative would be to create an inline function using lambda. "
   ]
  },
  {
   "cell_type": "code",
   "execution_count": 19,
   "metadata": {},
   "outputs": [
    {
     "data": {
      "image/png": "[encoded data removed]",
      "text/plain": [
       "<Figure size 640x480 with 1 Axes>"
      ]
     },
     "metadata": {},
     "output_type": "display_data"
    }
   ],
   "source": [
    "plot_func(lambda x: gaussian(x, bw=2.5))"
   ]
  },
  {
   "cell_type": "raw",
   "metadata": {},
   "source": [
    " This person at the science march certainly remembered!\n",
    "\n",
    "<img src=\"http://i.imgur.com/nijQLHw.jpg\" width=400>"
   ]
  },
  {
   "cell_type": "markdown",
   "metadata": {},
   "source": [
    "We managed to plot this function for a bandwidth of 2.5, using functools `partial`. \n",
    "To find out where something comes from, just to type it and press shift enter, and it'll tell you where it comes from. \n",
    "And you can get its help with question mark, and we can get it source code with two question marks. \n",
    "n application. "
   ]
  },
  {
   "cell_type": "code",
   "execution_count": 20,
   "metadata": {},
   "outputs": [
    {
     "data": {
      "text/plain": [
       "functools.partial"
      ]
     },
     "execution_count": 20,
     "metadata": {},
     "output_type": "execute_result"
    }
   ],
   "source": [
    "partial"
   ]
  },
  {
   "cell_type": "markdown",
   "metadata": {},
   "source": [
    "We choose the bandwidth to be 2.5. \n",
    "One easy way to choose bandwidth is to find which bandwidth covers about one third of the data."
   ]
  },
  {
   "cell_type": "markdown",
   "metadata": {},
   "source": [
    "Often when we see something that is on the complicated side, like a Gaussian, we can often simplify things. \n",
    "If we look at the shape, it looks a lot like the shape of a triangular weighting, which is just using a linear with `clamp_min()`. \n",
    "We probably can use this just as well, so we define `tri()` and then we can try both. "
   ]
  },
  {
   "cell_type": "code",
   "execution_count": 21,
   "metadata": {},
   "outputs": [
    {
     "data": {
      "image/png": "[encoded data removed]",
      "text/plain": [
       "<Figure size 640x480 with 1 Axes>"
      ]
     },
     "metadata": {},
     "output_type": "display_data"
    }
   ],
   "source": [
    "#Alternative function that is simpler and very similar\n",
    "def tri(d, i): return (-d+i).clamp_min(0)/i\n",
    "plot_func(partial(tri, i=9))"
   ]
  },
  {
   "cell_type": "markdown",
   "metadata": {},
   "source": [
    "We start with the Gaussian version, and move all the  points towards their \"center of gravity\". \n",
    "We don't want to mess up our original data, so we clone it with `torch.clone()`.\n",
    "`X` is our matrix of data, `x` is our first point."
   ]
  },
  {
   "cell_type": "code",
   "execution_count": 22,
   "metadata": {},
   "outputs": [
    {
     "data": {
      "text/plain": [
       "tensor([26.204, 26.349])"
      ]
     },
     "execution_count": 22,
     "metadata": {},
     "output_type": "execute_result"
    }
   ],
   "source": [
    "X = data.clone() # Data\n",
    "x = data[0]  # first point\n",
    "x"
   ]
  },
  {
   "cell_type": "markdown",
   "metadata": {},
   "source": [
    "`x` is our first point, a rank-1 tensor of shape 2.\n",
    "`X` is a rank-2 tensor of 1,500 data points by 2, the x and y. "
   ]
  },
  {
   "cell_type": "code",
   "execution_count": 23,
   "metadata": {},
   "outputs": [
    {
     "data": {
      "text/plain": [
       "(torch.Size([2]), torch.Size([4029, 2]))"
      ]
     },
     "execution_count": 23,
     "metadata": {},
     "output_type": "execute_result"
    }
   ],
   "source": [
    "x.shape, X.shape"
   ]
  },
  {
   "cell_type": "markdown",
   "metadata": {},
   "source": [
    "We want to find the distance from `x` to everything in `X`.\n",
    "We got shapes of different lengths, we can use the shorter length and\n",
    "it's going to add unit axes to the front to make it as long as necessary.\n",
    "It works as the dimension is compatible, we go right to left, the last axes match.\n",
    "If an axis doesn't exist, it pretends that there is a unit axis. "
   ]
  },
  {
   "cell_type": "code",
   "execution_count": 24,
   "metadata": {},
   "outputs": [
    {
     "data": {
      "text/plain": [
       "tensor([[ 0.000,  0.000],\n",
       "        [ 0.513, -3.865],\n",
       "        [-4.227, -2.345],\n",
       "        [ 0.557, -3.685],\n",
       "        [-5.033, -3.745],\n",
       "        [-4.073, -0.638],\n",
       "        [-3.415, -5.601],\n",
       "        [-1.920, -5.686]])"
      ]
     },
     "execution_count": 24,
     "metadata": {},
     "output_type": "execute_result"
    }
   ],
   "source": [
    "(x-X)[:8]"
   ]
  },
  {
   "cell_type": "markdown",
   "metadata": {},
   "source": [
    "We get the distances on each coordinate, between our first point x and all of the other points in the data. \n",
    "Just looking at the first eight of them here. \n",
    "The first distance is zero on both axes as it is the first point. \n",
    "Because of the way we created the clusters, the data of the first cluster is all next to each other in the list,\n",
    "none are too far away from each other. \n",
    "\n",
    "Now that we've got all the X and Y distances, it's easy to get the Euclidean distance: \n",
    "square that difference and sum, and square root. "
   ]
  },
  {
   "cell_type": "code",
   "execution_count": 25,
   "metadata": {},
   "outputs": [
    {
     "data": {
      "text/plain": [
       "tensor([ 0.000,  3.899,  4.834,  ..., 20.737, 24.496, 24.511])"
      ]
     },
     "execution_count": 25,
     "metadata": {},
     "output_type": "execute_result"
    }
   ],
   "source": [
    "Edist = ((x-X)**2).sum(1).sqrt()\n",
    "Edist"
   ]
  },
  {
   "cell_type": "code",
   "execution_count": 26,
   "metadata": {},
   "outputs": [],
   "source": [
    "def tdist(x, X):\n",
    "    return ((x-X)**2).sum(1)\n",
    "\n",
    "def edist (x, X):\n",
    "    return ((x-X)**2).sum(1).sqrt()"
   ]
  },
  {
   "cell_type": "code",
   "execution_count": 27,
   "metadata": {},
   "outputs": [
    {
     "name": "stdout",
     "output_type": "stream",
     "text": [
      "CPU times: user 2.8 ms, sys: 407 µs, total: 3.21 ms\n",
      "Wall time: 498 µs\n",
      "CPU times: user 3.51 ms, sys: 1.31 ms, total: 4.82 ms\n",
      "Wall time: 864 µs\n"
     ]
    },
    {
     "data": {
      "text/plain": [
       "(tensor([ 0.000, 15.199, 23.369, 13.887, 39.350, 16.993, 43.031, 36.020]),\n",
       " tensor([0.000, 3.899, 4.834, 3.726, 6.273, 4.122, 6.560, 6.002]))"
      ]
     },
     "execution_count": 27,
     "metadata": {},
     "output_type": "execute_result"
    }
   ],
   "source": [
    "# the distance of x to every point in X with different norms\n",
    "%time t = tdist(x, X)\n",
    "%time e = edist(x, X)\n",
    "t[:8], e[:8]"
   ]
  },
  {
   "cell_type": "code",
   "execution_count": 38,
   "metadata": {},
   "outputs": [
    {
     "data": {
      "text/plain": [
       "torch.Size([4029])"
      ]
     },
     "execution_count": 38,
     "metadata": {},
     "output_type": "execute_result"
    }
   ],
   "source": [
    "dist = t\n",
    "t.shape"
   ]
  },
  {
   "cell_type": "code",
   "execution_count": 29,
   "metadata": {},
   "outputs": [
    {
     "name": "stdout",
     "output_type": "stream",
     "text": [
      "CPU times: user 1.51 ms, sys: 392 µs, total: 1.9 ms\n",
      "Wall time: 324 µs\n",
      "CPU times: user 3.2 ms, sys: 1.39 ms, total: 4.6 ms\n",
      "Wall time: 771 µs\n"
     ]
    },
    {
     "data": {
      "text/plain": [
       "(tensor([ 0.000, 15.199, 23.369, 13.887, 39.350, 16.993, 43.031, 36.020]),\n",
       " tensor([0.000, 3.899, 4.834, 3.726, 6.273, 4.122, 6.560, 6.002]))"
      ]
     },
     "execution_count": 29,
     "metadata": {},
     "output_type": "execute_result"
    }
   ],
   "source": [
    "#TODO HW: Rewrite using torch.einsum\n",
    "v = x - X\n",
    "%time d2 = torch.einsum('ij,ij->i',v,v)\n",
    "%time e2 = torch.einsum('ij,ij->i',v,v).sqrt()\n",
    "d2[:8], e2[:8]"
   ]
  },
  {
   "cell_type": "code",
   "execution_count": 30,
   "metadata": {},
   "outputs": [
    {
     "name": "stdout",
     "output_type": "stream",
     "text": [
      "CPU times: user 3.14 ms, sys: 984 µs, total: 4.12 ms\n",
      "Wall time: 833 µs\n"
     ]
    },
    {
     "data": {
      "text/plain": [
       "tensor([ 0.000, 15.199, 23.369, 13.887, 39.350, 16.993, 43.031, 36.020])"
      ]
     },
     "execution_count": 30,
     "metadata": {},
     "output_type": "execute_result"
    }
   ],
   "source": [
    "#TODO HW: Rewrite using torch.einsum\n",
    "%time dist2 = torch.einsum('ij,ij->i',(x-X),(x-X))\n",
    "dist2[:8]"
   ]
  },
  {
   "cell_type": "code",
   "execution_count": 39,
   "metadata": {},
   "outputs": [],
   "source": [
    "from fastcore.test import test_close\n",
    "test_close(dist, dist2)"
   ]
  },
  {
   "cell_type": "markdown",
   "metadata": {},
   "source": [
    "## Compute Weights\n",
    "Now we can get the weights by passing the distances to our Gaussian. \n",
    "The biggest weight is up to 0.16, the closest one is itself.\n",
    "The other ones get reasonable weights and the data points that are in totally different clusters\n",
    "have weights small enough that at three significant figures they appear to be 0. "
   ]
  },
  {
   "cell_type": "code",
   "execution_count": 40,
   "metadata": {},
   "outputs": [
    {
     "data": {
      "text/plain": [
       "tensor([    0.160,     0.000,     0.000,  ...,     0.000,     0.000,     0.000])"
      ]
     },
     "execution_count": 40,
     "metadata": {},
     "output_type": "execute_result"
    }
   ],
   "source": [
    "weight = gaussian(dist, 2.5)\n",
    "weight"
   ]
  },
  {
   "cell_type": "code",
   "execution_count": 41,
   "metadata": {},
   "outputs": [
    {
     "data": {
      "text/plain": [
       "(torch.Size([4029]), torch.Size([4029, 2]))"
      ]
     },
     "execution_count": 41,
     "metadata": {},
     "output_type": "execute_result"
    }
   ],
   "source": [
    "weight.shape,X.shape"
   ]
  },
  {
   "cell_type": "markdown",
   "metadata": {},
   "source": [
    "### Extra stuff\n",
    "Let's take a look at how the distances and weights to the first point are distributed:"
   ]
  },
  {
   "cell_type": "code",
   "execution_count": 42,
   "metadata": {},
   "outputs": [
    {
     "data": {
      "image/png": "[encoded data removed]",
      "text/plain": [
       "<Figure size 2000x600 with 6 Axes>"
      ]
     },
     "metadata": {},
     "output_type": "display_data"
    }
   ],
   "source": [
    "plt.figure(figsize=(20,6))\n",
    "\n",
    "fs = [weight, weight[labels.argsort()], weight[dist.argsort()]]\n",
    "\n",
    "for i in range (1,4):\n",
    "    plt.subplot(1,3,i)\n",
    "    plt.scatter(range(len(weight)),fs[i-1],color='b',s=2,label='dist')\n",
    "    plt.legend(loc='upper left')\n",
    "    plt.gca().twinx().scatter(range(len(weight)),weight,color='r',s=1,label='weight')\n",
    "    plt.legend(loc='upper right')\n",
    "    plt.title('Compare distance and weight (unsorted)')"
   ]
  },
  {
   "cell_type": "code",
   "execution_count": 43,
   "metadata": {},
   "outputs": [
    {
     "data": {
      "image/png": "[encoded data removed]",
      "text/plain": [
       "<Figure size 640x480 with 4 Axes>"
      ]
     },
     "metadata": {},
     "output_type": "display_data"
    }
   ],
   "source": [
    "plt.subplot(1,3,2)\n",
    "plt.scatter(range(len(weight)),dist[labels.argsort()],color='b',s=2,label='dist')\n",
    "#plt.ylabel('dist')\n",
    "plt.legend(loc='upper left')\n",
    "plt.gca().twinx().scatter(range(len(weight)),weight[labels.argsort()],color='r',s=1,label='weight')\n",
    "#plt.ylabel('weight')\n",
    "plt.legend(loc='upper right')\n",
    "plt.title('Compare distance and weight (sorted by label)')\n",
    "\n",
    "plt.subplot(1,3,3)\n",
    "plt.scatter(range(len(weight)),dist[dist.argsort()],color='b',s=2,label='dist')\n",
    "#plt.ylabel('dist')\n",
    "plt.legend(loc='upper left')\n",
    "plt.gca().twinx().scatter(range(len(weight)),weight[dist.argsort()],color='r',s=1,label='weight')\n",
    "#plt.ylabel('weight')\n",
    "plt.legend(loc='upper right')\n",
    "plt.title('Compare distance and weight (sorted by distance)');"
   ]
  },
  {
   "cell_type": "markdown",
   "metadata": {},
   "source": [
    "We now want a weighted average\n",
    "Formally, the weighted mean of a non-empty finite tuple of data $$\\left( x_1, x_2, \\dots , x_n \\right)$$\n",
    "with corresponding non-negative weight function|weights $$( w_1, w_2, \\dots , w_n)$$ is\n",
    "$$\\bar{x} = \\frac{ \\sum\\limits_{i=1}^n w_i x_i}{\\sum\\limits_{i=1}^n w_i}$$\n",
    "which expands to:\n",
    "$$\\bar{x} = \\frac{w_1 x_1 + w_2 x_2 + \\cdots + w_n x_n}{w_1 + w_2 + \\cdots + w_n}.$$"
   ]
  },
  {
   "cell_type": "markdown",
   "metadata": {},
   "source": [
    "Need to add a trailing axis to the weights to be able to multiply"
   ]
  },
  {
   "cell_type": "code",
   "execution_count": 44,
   "metadata": {},
   "outputs": [
    {
     "data": {
      "text/plain": [
       "tensor([[    4.182,     4.205],\n",
       "        [    0.000,     0.000],\n",
       "        [    0.000,     0.000],\n",
       "        ...,\n",
       "        [    0.000,     0.000],\n",
       "        [    0.000,     0.000],\n",
       "        [    0.000,     0.000]])"
      ]
     },
     "execution_count": 44,
     "metadata": {},
     "output_type": "execute_result"
    }
   ],
   "source": [
    "(weight[:,None]*X)"
   ]
  },
  {
   "cell_type": "code",
   "execution_count": 45,
   "metadata": {},
   "outputs": [
    {
     "data": {
      "text/plain": [
       "tensor([26.329, 26.854])"
      ]
     },
     "execution_count": 45,
     "metadata": {},
     "output_type": "execute_result"
    }
   ],
   "source": [
    "(weight[:,None]*X).sum(0)/weight.sum()"
   ]
  },
  {
   "cell_type": "markdown",
   "metadata": {},
   "source": [
    "Now all together in a single cell for a single update."
   ]
  },
  {
   "cell_type": "code",
   "execution_count": 46,
   "metadata": {},
   "outputs": [],
   "source": [
    "def one_update(X):\n",
    "    for i, x in enumerate(X):\n",
    "        #dist = torch.sqrt(((x-X)**2).sum(1))\n",
    "        dist = torch.einsum('ij,ij->i',(x-X), (x-X)).sqrt()\n",
    "        #weight = gaussian(dist, 2.5)\n",
    "        weight = tri(dist, 8)\n",
    "        X[i] = (weight[:,None]*X).sum(0)/weight.sum()"
   ]
  },
  {
   "cell_type": "code",
   "execution_count": 47,
   "metadata": {},
   "outputs": [],
   "source": [
    "def meanshift(data):\n",
    "    X = data.clone()\n",
    "    for it in range(5): one_update(X)\n",
    "    return X"
   ]
  },
  {
   "cell_type": "code",
   "execution_count": 48,
   "metadata": {},
   "outputs": [
    {
     "name": "stdout",
     "output_type": "stream",
     "text": [
      "CPU times: user 18 s, sys: 473 ms, total: 18.4 s\n",
      "Wall time: 3.14 s\n"
     ]
    }
   ],
   "source": [
    "%time X=meanshift(data)"
   ]
  },
  {
   "cell_type": "markdown",
   "metadata": {},
   "source": [
    "We can see that mean shift clustering has almost reproduced our original clustering. The one exception are the very close clusters, but if we really wanted to differentiate them we could lower the bandwidth.\n",
    "\n",
    "What is impressive is that this algorithm nearly reproduced the original clusters without telling it how many clusters there should be."
   ]
  },
  {
   "cell_type": "code",
   "execution_count": 49,
   "metadata": {},
   "outputs": [],
   "source": [
    "n_samples = labels"
   ]
  },
  {
   "cell_type": "code",
   "execution_count": 50,
   "metadata": {},
   "outputs": [
    {
     "data": {
      "image/png": "[encoded data removed]",
      "text/plain": [
       "<Figure size 640x480 with 1 Axes>"
      ]
     },
     "metadata": {},
     "output_type": "display_data"
    }
   ],
   "source": [
    "plot_data(centroids+2, X, labels) #n_samples)"
   ]
  },
  {
   "cell_type": "markdown",
   "metadata": {},
   "source": [
    "All the computation is happening in the <tt>for</tt> loop, which isn't accelerated by pytorch. Each iteration launches a new cuda kernel, which takes time and slows the algorithm down as a whole. Furthermore, each iteration doesn't have enough processing to do to fill up all of the threads of the GPU. But at least the results are correct...\n",
    "\n",
    "We should be able to accelerate this algorithm with a GPU."
   ]
  },
  {
   "cell_type": "markdown",
   "metadata": {},
   "source": [
    "## Animation"
   ]
  },
  {
   "cell_type": "code",
   "execution_count": 51,
   "metadata": {},
   "outputs": [],
   "source": [
    "from matplotlib.animation import FuncAnimation\n",
    "from IPython.display import HTML"
   ]
  },
  {
   "cell_type": "code",
   "execution_count": 52,
   "metadata": {},
   "outputs": [],
   "source": [
    "def do_one(d):\n",
    "    if not d: return plot_data(centroids+2, X, n_samples, ax=ax)\n",
    "    one_update(X)\n",
    "    ax.clear()\n",
    "    plot_data(centroids+2, X, n_samples, ax=ax)"
   ]
  },
  {
   "cell_type": "code",
   "execution_count": 53,
   "metadata": {},
   "outputs": [
    {
     "data": {
      "text/html": [
       "\n",
       "<link rel=\"stylesheet\"\n",
       "href=\"https://maxcdn.bootstrapcdn.com/font-awesome/4.4.0/css/font-awesome.min.css\">\n",
       "<script language=\"javascript\">\n",
       "  function isInternetExplorer() {\n",
       "    ua = navigator.userAgent;\n",
       "    /* MSIE used to detect old browsers and Trident used to newer ones*/\n",
       "    return ua.indexOf(\"MSIE \") > -1 || ua.indexOf(\"Trident/\") > -1;\n",
       "  }\n",
       "\n",
       "  /* Define the Animation class */\n",
       "  function Animation(frames, img_id, slider_id, interval, loop_select_id){\n",
       "    this.img_id = img_id;\n",
       "    this.slider_id = slider_id;\n",
       "    this.loop_select_id = loop_select_id;\n",
       "    this.interval = interval;\n",
       "    this.current_frame = 0;\n",
       "    this.direction = 0;\n",
       "    this.timer = null;\n",
       "    this.frames = new Array(frames.length);\n",
       "\n",
       "    for (var i=0; i<frames.length; i++)\n",
       "    {\n",
       "     this.frames[i] = new Image();\n",
       "     this.frames[i].src = frames[i];\n",
       "    }\n",
       "    var slider = document.getElementById(this.slider_id);\n",
       "    slider.max = this.frames.length - 1;\n",
       "    if (isInternetExplorer()) {\n",
       "        // switch from oninput to onchange because IE <= 11 does not conform\n",
       "        // with W3C specification. It ignores oninput and onchange behaves\n",
       "        // like oninput. In contrast, Microsoft Edge behaves correctly.\n",
       "        slider.setAttribute('onchange', slider.getAttribute('oninput'));\n",
       "        slider.setAttribute('oninput', null);\n",
       "    }\n",
       "    this.set_frame(this.current_frame);\n",
       "  }\n",
       "\n",
       "  Animation.prototype.get_loop_state = function(){\n",
       "    var button_group = document[this.loop_select_id].state;\n",
       "    for (var i = 0; i < button_group.length; i++) {\n",
       "        var button = button_group[i];\n",
       "        if (button.checked) {\n",
       "            return button.value;\n",
       "        }\n",
       "    }\n",
       "    return undefined;\n",
       "  }\n",
       "\n",
       "  Animation.prototype.set_frame = function(frame){\n",
       "    this.current_frame = frame;\n",
       "    document.getElementById(this.img_id).src =\n",
       "            this.frames[this.current_frame].src;\n",
       "    document.getElementById(this.slider_id).value = this.current_frame;\n",
       "  }\n",
       "\n",
       "  Animation.prototype.next_frame = function()\n",
       "  {\n",
       "    this.set_frame(Math.min(this.frames.length - 1, this.current_frame + 1));\n",
       "  }\n",
       "\n",
       "  Animation.prototype.previous_frame = function()\n",
       "  {\n",
       "    this.set_frame(Math.max(0, this.current_frame - 1));\n",
       "  }\n",
       "\n",
       "  Animation.prototype.first_frame = function()\n",
       "  {\n",
       "    this.set_frame(0);\n",
       "  }\n",
       "\n",
       "  Animation.prototype.last_frame = function()\n",
       "  {\n",
       "    this.set_frame(this.frames.length - 1);\n",
       "  }\n",
       "\n",
       "  Animation.prototype.slower = function()\n",
       "  {\n",
       "    this.interval /= 0.7;\n",
       "    if(this.direction > 0){this.play_animation();}\n",
       "    else if(this.direction < 0){this.reverse_animation();}\n",
       "  }\n",
       "\n",
       "  Animation.prototype.faster = function()\n",
       "  {\n",
       "    this.interval *= 0.7;\n",
       "    if(this.direction > 0){this.play_animation();}\n",
       "    else if(this.direction < 0){this.reverse_animation();}\n",
       "  }\n",
       "\n",
       "  Animation.prototype.anim_step_forward = function()\n",
       "  {\n",
       "    this.current_frame += 1;\n",
       "    if(this.current_frame < this.frames.length){\n",
       "      this.set_frame(this.current_frame);\n",
       "    }else{\n",
       "      var loop_state = this.get_loop_state();\n",
       "      if(loop_state == \"loop\"){\n",
       "        this.first_frame();\n",
       "      }else if(loop_state == \"reflect\"){\n",
       "        this.last_frame();\n",
       "        this.reverse_animation();\n",
       "      }else{\n",
       "        this.pause_animation();\n",
       "        this.last_frame();\n",
       "      }\n",
       "    }\n",
       "  }\n",
       "\n",
       "  Animation.prototype.anim_step_reverse = function()\n",
       "  {\n",
       "    this.current_frame -= 1;\n",
       "    if(this.current_frame >= 0){\n",
       "      this.set_frame(this.current_frame);\n",
       "    }else{\n",
       "      var loop_state = this.get_loop_state();\n",
       "      if(loop_state == \"loop\"){\n",
       "        this.last_frame();\n",
       "      }else if(loop_state == \"reflect\"){\n",
       "        this.first_frame();\n",
       "        this.play_animation();\n",
       "      }else{\n",
       "        this.pause_animation();\n",
       "        this.first_frame();\n",
       "      }\n",
       "    }\n",
       "  }\n",
       "\n",
       "  Animation.prototype.pause_animation = function()\n",
       "  {\n",
       "    this.direction = 0;\n",
       "    if (this.timer){\n",
       "      clearInterval(this.timer);\n",
       "      this.timer = null;\n",
       "    }\n",
       "  }\n",
       "\n",
       "  Animation.prototype.play_animation = function()\n",
       "  {\n",
       "    this.pause_animation();\n",
       "    this.direction = 1;\n",
       "    var t = this;\n",
       "    if (!this.timer) this.timer = setInterval(function() {\n",
       "        t.anim_step_forward();\n",
       "    }, this.interval);\n",
       "  }\n",
       "\n",
       "  Animation.prototype.reverse_animation = function()\n",
       "  {\n",
       "    this.pause_animation();\n",
       "    this.direction = -1;\n",
       "    var t = this;\n",
       "    if (!this.timer) this.timer = setInterval(function() {\n",
       "        t.anim_step_reverse();\n",
       "    }, this.interval);\n",
       "  }\n",
       "</script>\n",
       "\n",
       "<style>\n",
       ".animation {\n",
       "    display: inline-block;\n",
       "    text-align: center;\n",
       "}\n",
       "input[type=range].anim-slider {\n",
       "    width: 374px;\n",
       "    margin-left: auto;\n",
       "    margin-right: auto;\n",
       "}\n",
       ".anim-buttons {\n",
       "    margin: 8px 0px;\n",
       "}\n",
       ".anim-buttons button {\n",
       "    padding: 0;\n",
       "    width: 36px;\n",
       "}\n",
       ".anim-state label {\n",
       "    margin-right: 8px;\n",
       "}\n",
       ".anim-state input {\n",
       "    margin: 0;\n",
       "    vertical-align: middle;\n",
       "}\n",
       "</style>\n",
       "\n",
       "<div class=\"animation\">\n",
       "  <img id=\"_anim_img2e43fd2c20374d2097a90388ae3f3910\">\n",
       "  <div class=\"anim-controls\">\n",
       "    <input id=\"_anim_slider2e43fd2c20374d2097a90388ae3f3910\" type=\"range\" class=\"anim-slider\"\n",
       "           name=\"points\" min=\"0\" max=\"1\" step=\"1\" value=\"0\"\n",
       "           oninput=\"anim2e43fd2c20374d2097a90388ae3f3910.set_frame(parseInt(this.value));\">\n",
       "    <div class=\"anim-buttons\">\n",
       "      <button title=\"Decrease speed\" aria-label=\"Decrease speed\" onclick=\"anim2e43fd2c20374d2097a90388ae3f3910.slower()\">\n",
       "          <i class=\"fa fa-minus\"></i></button>\n",
       "      <button title=\"First frame\" aria-label=\"First frame\" onclick=\"anim2e43fd2c20374d2097a90388ae3f3910.first_frame()\">\n",
       "        <i class=\"fa fa-fast-backward\"></i></button>\n",
       "      <button title=\"Previous frame\" aria-label=\"Previous frame\" onclick=\"anim2e43fd2c20374d2097a90388ae3f3910.previous_frame()\">\n",
       "          <i class=\"fa fa-step-backward\"></i></button>\n",
       "      <button title=\"Play backwards\" aria-label=\"Play backwards\" onclick=\"anim2e43fd2c20374d2097a90388ae3f3910.reverse_animation()\">\n",
       "          <i class=\"fa fa-play fa-flip-horizontal\"></i></button>\n",
       "      <button title=\"Pause\" aria-label=\"Pause\" onclick=\"anim2e43fd2c20374d2097a90388ae3f3910.pause_animation()\">\n",
       "          <i class=\"fa fa-pause\"></i></button>\n",
       "      <button title=\"Play\" aria-label=\"Play\" onclick=\"anim2e43fd2c20374d2097a90388ae3f3910.play_animation()\">\n",
       "          <i class=\"fa fa-play\"></i></button>\n",
       "      <button title=\"Next frame\" aria-label=\"Next frame\" onclick=\"anim2e43fd2c20374d2097a90388ae3f3910.next_frame()\">\n",
       "          <i class=\"fa fa-step-forward\"></i></button>\n",
       "      <button title=\"Last frame\" aria-label=\"Last frame\" onclick=\"anim2e43fd2c20374d2097a90388ae3f3910.last_frame()\">\n",
       "          <i class=\"fa fa-fast-forward\"></i></button>\n",
       "      <button title=\"Increase speed\" aria-label=\"Increase speed\" onclick=\"anim2e43fd2c20374d2097a90388ae3f3910.faster()\">\n",
       "          <i class=\"fa fa-plus\"></i></button>\n",
       "    </div>\n",
       "    <form title=\"Repetition mode\" aria-label=\"Repetition mode\" action=\"#n\" name=\"_anim_loop_select2e43fd2c20374d2097a90388ae3f3910\"\n",
       "          class=\"anim-state\">\n",
       "      <input type=\"radio\" name=\"state\" value=\"once\" id=\"_anim_radio1_2e43fd2c20374d2097a90388ae3f3910\"\n",
       "             checked>\n",
       "      <label for=\"_anim_radio1_2e43fd2c20374d2097a90388ae3f3910\">Once</label>\n",
       "      <input type=\"radio\" name=\"state\" value=\"loop\" id=\"_anim_radio2_2e43fd2c20374d2097a90388ae3f3910\"\n",
       "             >\n",
       "      <label for=\"_anim_radio2_2e43fd2c20374d2097a90388ae3f3910\">Loop</label>\n",
       "      <input type=\"radio\" name=\"state\" value=\"reflect\" id=\"_anim_radio3_2e43fd2c20374d2097a90388ae3f3910\"\n",
       "             >\n",
       "      <label for=\"_anim_radio3_2e43fd2c20374d2097a90388ae3f3910\">Reflect</label>\n",
       "    </form>\n",
       "  </div>\n",
       "</div>\n",
       "\n",
       "\n",
       "<script language=\"javascript\">\n",
       "  /* Instantiate the Animation class. */\n",
       "  /* The IDs given should match those used in the template above. */\n",
       "  (function() {\n",
       "    var img_id = \"_anim_img2e43fd2c20374d2097a90388ae3f3910\";\n",
       "    var slider_id = \"_anim_slider2e43fd2c20374d2097a90388ae3f3910\";\n",
       "    var loop_select_id = \"_anim_loop_select2e43fd2c20374d2097a90388ae3f3910\";\n",
       "    var frames = new Array(5);\n",
       "    \n",
       "  frames[0] = \"data:image/png;base64,iVBORw0KGgoAAAANSUhEUgAAAoAAAAHgCAYAAAA10dzkAAAAOXRFWHRTb2Z0d2FyZQBNYXRwbG90\\\n",
       "bGliIHZlcnNpb24zLjUuMiwgaHR0cHM6Ly9tYXRwbG90bGliLm9yZy8qNh9FAAAACXBIWXMAAA9h\\\n",
       "AAAPYQGoP6dpAACl3UlEQVR4nOzde3yU9Zn//9d9zymTZBJIgBBIIBwCFAKo1G21rCJWa6st6opL\\\n",
       "u7Ww3e1P7a5rtSfdropaq9aK9Wu/q35313roVlbcKq1aKhXFWm2LKIeAQOQUAgFCQiaZHOZ0f35/\\\n",
       "3HPfuWcykwMh5HQ9vw9+QjJzzz1D95c31+dzXR9NKaUQQgghhBAjhj7QNyCEEEIIIc4sCYBCCCGE\\\n",
       "ECOMBEAhhBBCiBFGAqAQQgghxAgjAVAIIYQQYoSRACiEEEIIMcJIABRCCCGEGGEkAAohhBBCjDAS\\\n",
       "AIUQQgghRhgJgEIIIYQQI4wEQCGEEEKIEUYCoBBCCCHECCMBUAghhBBihJEAKIQQQggxwkgAFEII\\\n",
       "IYQYYSQACiGEEEKMMBIAhRBCCCFGGAmAQgghhBAjjARAIYQQQogRRgKgEEIIIcQIIwFQCCGEEGKE\\\n",
       "kQAohBBCCDHCSAAUQgghhBhhJAAKIYQQQowwEgCFEEIIIUYYCYBCCCGEECOMBEAhhBBCiBFGAqAQ\\\n",
       "QgghxAgjAVAIIYQQYoSRACiEEEIIMcJIABRCCCGEGGEkAAohhBBCjDASAIUQQgghRhgJgEIIIYQQ\\\n",
       "I4wEQCGEEEKIEUYCoBBCCCHECCMBUAghhBBihJEAKIQQQggxwkgAFEIIIYQYYSQACiGEEEKMMBIA\\\n",
       "hRBCCCFGGAmAQgghhBAjjARAIYQQQogRRgKgEEIIIcQIIwFQCCGEEGKEkQAohBBCCDHCSAAUQggh\\\n",
       "hBhhJAAKIYQQQowwEgCFEEIIIUYYCYBCCCGEECOMBEAhhBBCiBFGAqAQQgghxAgjAVAIIYQQYoSR\\\n",
       "ACiEEEIIMcJIABRCCCGEGGEkAAohhBBCjDDugb6BocwwDI4cOUIgEEDTtIG+HSGEEEL0gFKK5uZm\\\n",
       "JkyYgK6PzFqYBMA+OHLkCKWlpQN9G0IIIYQ4BYcOHaKkpGSgb2NASADsg0AgAJj/A8rLyxvguxFC\\\n",
       "CCFETzQ1NVFaWmr/HB+JJAD2gbXsm5eXJwFQCCGEGGJG8vatkbnwLYQQQggxgkkAFEIIIYQYYSQA\\\n",
       "CiGEEEKMMBIAhRBCCCFGGAmAQgghhBAjjARAIYQQQogRRgKgEEIIIcQIIwFQCCGEEGKEkQAohBBC\\\n",
       "CDHCSAAUQgghhBhhJAAKIYQQQowwEgCFEEIIIUYY90DfgBAbnq9k9LYGTs4rYPGXKwb6doQQQohh\\\n",
       "TyqAYsCN3tbAWKUxelvDQN+KEEIIMSJIABQD7uS8Auo0xcl5BQN9K0IIIcSIIEvAYsAt/nIFfHmg\\\n",
       "70IIIYQYOYZtBfDxxx9n3rx55OXlkZeXx3nnncdvf/tb+/tKKVauXMmECRPw+/0sWrSIHTt2DOAd\\\n",
       "CyGEEEKcGcM2AJaUlPDAAw/w/vvv8/7777N48WKWLFlih7wf//jHrFq1ip/97Gds2rSJ8ePHc8kl\\\n",
       "l9Dc3DzAdy4Guw3PV/Lh7W+z4fnKgb4VIYQQ4pRoSik10DdxphQUFPDQQw/x9a9/nQkTJvCtb32L\\\n",
       "73//+wCEw2GKiop48MEHuf7663t0vaamJvLz8wkGg+Tl5fXnrYtB5MPb32as0qjTFGfff8FA344Q\\\n",
       "Qohekp/fw7gC6BSPx1m9ejUtLS2cd9557N+/n6NHj3LppZfaj/H5fFx44YW8++67Ga8TDodpampK\\\n",
       "+iWGh95U9XrStCJVQiGEEIPZsG4C2b59O+eddx7t7e3k5uby0ksvMXv2bDvkFRUVJT2+qKiIgwcP\\\n",
       "Zrze/fffz913392v9ywGhjWKhm0N3Tak9KRppTfXE0IIIc60YR0AZ86cyZYtW2hsbOR///d/Wb58\\\n",
       "ORs3brS/r2la0uOVUp2+5nT77bdz66232n9uamqitLT09N+4SGvTi4/yzo4aFs4p4dxrbu7z45xO\\\n",
       "ziuAxDDqvl6rq+sJIYQQg8GwDoBer5fp06cD8MlPfpJNmzbx6KOP2vv+jh49SnFxsf3448ePd6oK\\\n",
       "Ovl8Pnw+X//etMjonR01BFUO7+yo4dxr+v44p0xVvVO5VlfXE0IIIQaDEbEH0KKUIhwOM2XKFMaP\\\n",
       "H8/69evt70UiETZu3Mj5558/gHc48mx68VEeufu7bHrx0bR/dlo4p4R8rYWFc0q6vGZPH9cTp/Na\\\n",
       "QgghxGAxbCuA//qv/8rnP/95SktLaW5uZvXq1bz11lusW7cOTdP41re+xY9+9CPKy8spLy/nRz/6\\\n",
       "EdnZ2XzlK18Z6FsfUKe65HmqUitsXVXczr3m5h5V4Xr6uJ44ndcSQgghBothGwCPHTvGddddR21t\\\n",
       "Lfn5+cybN49169ZxySWXAPC9732PtrY2vvnNb3Ly5Ek+9alP8frrrxMIBAb4zgfWqS55nqqFc0rs\\\n",
       "wOn889ScSXx4+9ucnFdgLqf20YbnKxmd2JPX1fVSH9fT553OexBCCCH624iaA3i6Dcc5QqejAng6\\\n",
       "gs7pnrXXk+tteL6SaVsbcNHxuL7eh/OzsDqDZX6gEEIMrOH487u3hm0FUJya07HkmToCxQqVpXlw\\\n",
       "qAm72mdV+spPzAM0js7vCIynu4u2Lt9DQWOUunxPl/ftQiOOOeNvw/OVjFeKJut+ToHzs5DOYCGE\\\n",
       "EIOFBEBx2qUGHWtZuSlooNB5Z0cNAEGVQ1VzEwusXqStHTPzTkcXrbP6NjYYxYXG2GC02/uuy/cw\\\n",
       "dlsDPqXIQ6dOU0mVzN5UOJ2fhXQGCyGEGCxkCbgPpITcM6kVwNI8+DjoQgNm5U7k7BPz0dFowmD2\\\n",
       "AxfazzuVpeRNLz7K25V1zIyWMzU+hbzEcq61BGuF0q6uu/O2t8lDow1FSKPT46xl4SYU4TTfF0II\\\n",
       "MbjJz2+pAI4YZ7q71yl1WfmRu79LO1loiX96fDzfCmeFzHY871RO03hnRw3N5LDLXcvUeBl1zoCW\\\n",
       "WI7euL2F+foUJm6l03U3PF/J9MTvoyjOvv/C1Jewq3o+pRirdDntQwghxJAjAXCY6C7gnenu3kz3\\\n",
       "1hy9mPJIBZvd+1Ea7GxuJGvPM0wtnMSkbfPZQKXdfevcf5fu/aWrEC6cU8LblXUUGn5+m7WeCyrG\\\n",
       "stjxebyzo4aQlsNW90Emxid0uu7obQ3oiX2AR+d3BNJO3cFUMn5rA00YnJxXeGY/UCGEEKKPRtQg\\\n",
       "6OHMGfDSOd0DjTc8X8mHt7/Nhucru/3+25V1BFUOb1fWMXpbA2fFp3JebCa5KgvQEnsBmxmrNEZv\\\n",
       "awDM6l8eOmHN3A+Y+v6sjl3nc8CsNn575Q856a6hGXenz2PhnBICxJgVK+bo/MJO1z05r4CrfnkT\\\n",
       "169dmfQ8qxo5fmsDH97+Nj++5yb+4Zf/Yn8v0+cghBBCDEZSARwmUufppequu9dZ4Qp43ki6VrrK\\\n",
       "YurybGqFzPq+b2sDc12z2eauZmas2F4+JVDGxcGJ1OrV7HTXMNbIZbXvbcoDeZzNBZ0aSabmTKKq\\\n",
       "uYmpuZPs13ehoVDU5Xvs16/L9xBp3kO7Owu/1t7p80j9HAIvmhXD8kgFrz/wHrf/+418cGgrAMY9\\\n",
       "/8LiL28AzGDo29pALvD9l1fyu11vAbD8lzfz0lceG3LLwAO5JUAIIcTAkwA4TPR1fEtHYKvnNV+I\\\n",
       "kJaT1K2bunScGtBSA6EzMM2OlzIzXsLe+R178TY8X8nhys3sch+gIjadSnc1IS3KvpZqNr34KFv3\\\n",
       "1LBwQQmLr7mZTS8+SlVziPmxqYypnwhAdeFW3mgOMT9WxtjgRHxbG8hDo7Axygu+WsKai3ytvdtw\\\n",
       "0xy9mKXt5rLvNY7wB7B+15tce+21fPfaz/DnXSfA52PdC6/w9q4/2495/9BWrvrlTdz3zcdP6+Dq\\\n",
       "/jaQWwKEEEIMPAmAI8DrD7zHzMYou0d5uPS289I+pqOxQWN+bCpb3ftYWJFcAXRKHWniDIRWNe6A\\\n",
       "y6zuzYtNwl0xLykYjd9az1rfIcKa4kP3fj4Zm8ZW9wEWVoxOezycuW/vAPP8ZWx68VG2hOpRms5W\\\n",
       "936+EJ6IBwVoxFCMM/Jo0dspzU9+jxuer6RsawMe4KBHIzJ7NNO2muFv6S9v4s+O8GdZs2YNu3d8\\\n",
       "xFVL/4Y1a55n566dnR7z/qGt/ODfb+SlrzxGwdYGex/jqThTp4V0VzEWQggxvMkYmD4YKm3kB297\\\n",
       "2x5wPPmBrk+gOB0B5LUf/IKd7hqixAhrMQLEuKBibNKS487b3uZXvreIaQZuBdeFF7N7lIfR0//C\\\n",
       "hspaFHBxRTHnJiqAG7cnKoDGRN7K+g1BlYOGwYLoNM6KT8VAEbJe3/cuIa2dLNrxaXGm5kxiUv18\\\n",
       "fAry0ABQKJox/3xNhvDn5HK5iMfjXT7mU6XzefErj3V70kdXn/HpPgFFCCFEZ0Pl53d/kgrgCLB7\\\n",
       "lMeuAE7u5rHphhW//sB70Lyfbe4qLpw7qttl1Z3uakJaBJ9yka+1UJoHr1XWo7CWlR/l7aw6UOap\\\n",
       "HG6tnckPXMDxFx/l1cp6IAs/Hcu3H+46SIgAu12HaB19gnDIhZ92FlcU0xxdQDxxfFtYU2zzbyAU\\\n",
       "B7cy0DTHsGmlcdUvb2JcTgFPLFnJQY/GhKj5b5/CnMwnc1RQQSWVdviz/pyOb1ShPXMwE+dxc+n2\\\n",
       "DaarpA6VZWUhhBBDhwTAYSbd5n5r2be78JfJzMYoa3zVhDTFa5X1wKOdQqDzdcsDAaqamygP5LHk\\\n",
       "O3fw8Mp/Q6GjKUVpPry2vQGlufERI8fRqGGGwxwADOXhlR88wy73AULkgQYntBbam8O0a1n4lJ54\\\n",
       "vTfYPeqvmJk45m1/uwGaTgz4XEWxedxc7iQ+//NvUHloNwB/6zvM31y5lLFM5Lge5Oarv0H8V/C7\\\n",
       "XW8mvaflLGcFK3iSJ1nNapaxjOu5nqd5mmd4JumxV8y6iAe/cCezu6napR43B2kqgolQaFUDh1qD\\\n",
       "iRBCiMFPAuAwczo29zs7ascGo7R4NObFJvGeew9K0+0qnjNoOl/3lrseSrrezGg5u9y1jDH87Agq\\\n",
       "lKahKZgbm84V9y23H7dwTgm/334C8LIgNpNt7oOENIWuNAyl0NBoxQAFcTqaUxa1n20f8+b2xYmh\\\n",
       "AxpHDugsav8iK1Z/2w5/AO9t3UMw+hLXXrMUpcE29x4g806I67meZSwjH3NT4QpWsJnNdiXw87Mu\\\n",
       "4vEld9PUxTWsz7VUgYEy92MmqnrOBppNHsfMxHkXy9nBQggh+oUEwGHmdGzutwJJQaN5fi4xxcL7\\\n",
       "v8Jox5FuZhUvh99vP8E7O75LaR7Q1MLUnEl2NyxAa6LTd4wxioN6AwodlKJQ5bDFvZf3V95JRX4b\\\n",
       "19zyEOdeczPuzYmqFwCKbe4qZsXK2OU+TEiLoBIhy6V0spSb8ugUWtwahVHFcf0QLpVFjBhoGh82\\\n",
       "1/OtXy7nQPWBTu9x586dvLbmN1y59CqeefG/qdy1q9NjrCrfClbY4Q/gSZ60w98Vsy5i1ZKVxFHU\\\n",
       "jPIwm8x7/EZva8Cf2IM4szHKhufNZhHnsu/WpCCd/uxgWRoWQgjRVxIAh5m+jIOxlnGnFk6C+vns\\\n",
       "z/qIfcYJezbfzp0naTJy2NVo2FU88BJULmgyh0xv3N5E0L2D47samBUrYZe7lpCmaNEbUJoGKNA0\\\n",
       "TtAKmjmHfEfQj3XLdfke6poPsM19gLGuMNF4nO3uagIqixARdDQ8uFgQm8qUeAl+NIy4YrfrMH9y\\\n",
       "V6E0QGmgFE8/8wwHqw9mfL9/+egDNt+3tcvmDmcIBAgSZDWrAfC4PNx49ddZ636H+bEpjA2aI2qc\\\n",
       "MxA/3NYxGsYcjVNPjesI29wHmVVZDCQHuKk5k9jZ3Ei7ymLTi52X2p3Xl6VhIYQQp0pOAhE2axl3\\\n",
       "X0s1Z99/AQf5OGk23/64ma1i6ASIsSA2hdmBUeRrZuVv4/YQIS3Kfv0YIS3K++59ZCk3uSqLyUYB\\\n",
       "+VoLzqVWt9LNPKh07r/rDtb+5DFo3s977t2EtDAH4hDWXIS1OCe0FtDAg4vrwhdSEi8hmrhOGNia\\\n",
       "OFouMQ0GH24COYGM77UiEbyczR2ZOKt/+eSzjGUARONR/vXlewlpEba699lVz5PzCqjTFKCSTipZ\\\n",
       "/OUKZj9wIds9Owhp7ez2VAEdgW7a1gbKT8zHg4ew5sp4qot1/XRLw92d0CKEEEKABMBh6VRDQOpx\\\n",
       "cc4/b6ishUTAmuKCb6/8IVfct5wl37mJ0jz4sLmeVmL4lE6Zi0QQ0zihNQNxRufrLJxTgoc4KMUU\\\n",
       "YwxXhxeRixdDM4PeluZ6RxUPphhF+JTbDnUWI7Hcusv/Eat977Dd/xHlgQC5ystUYxy5Kov5sSn8\\\n",
       "6ov/lytmXdTpfS5nOY/xmB3klrGMx3iM5Szv9Nh/4V+4iqsIErS/dj3X24Fx6849vLzmefI89fxh\\\n",
       "9wu8+Mh37cfVjPKmDWrTc4vIVR6m5xYBZqCLo8zldhSzYsUEiGVcxl/85QrOvv+CTsu/mY7HE0II\\\n",
       "IVLJHMA+GKxzhNLNkuvr0V/3rPw3DNzoyuCLkc8m7T+7e+Wd5t4+wKfieMiilRhGogoGGrnKg6a1\\\n",
       "0YwbUORrrUSUizblxfx3iLk0bIc9BX8fXkwL8L5nB/v0Y7gxKDEKOaG3MTtWwk73IUJamFzl4+LI\\\n",
       "ZzihH2ar+yDjjHwO68eAOHNj07nn5R+zaac5wLmCCh7jMft9BQkmVfhu4iZ7f9+n+BQP8ECPuoBn\\\n",
       "z/4ES5dei4bBl8KfZawyO33t008SUmcaWn8/PRnW3R3r7z3d6wohhOgwWH9+n0lSARyGTs4rYItr\\\n",
       "Hxt8r7PpxUeB5O7g7qRWEDe9+CgGLgAMdHu50vr+nPw2wMBNFE2LEtKieNAIEKMivxWfctFOnBbl\\\n",
       "SawAawRVNm1kmfsANfNrTm50do/ycHR+ARdG5/CZ2Eyy8FGj1xPS2vmL+2NaiYCCFsKs9W7gj+7d\\\n",
       "hLR29uvHCFtVRfdevrD0GmbPng1AJZU8yZP262Rq7gD4M3/mJm6y9/ytZjU3cVOn8Aewc+dHrFmz\\\n",
       "BgVs82+wK3qjt5mf087b3ua1H/yC17Y3ENKibHXvx6ewP8Oxwajdydybvxsna2lYwp8QQojuSAAc\\\n",
       "pPqyl2vxlyuo8lbSjNsOfKnLu12x9qRZy4jmNcyy3BQXSeEG4JpbHmLlynv4t5X3cXGFuXw5NzaZ\\\n",
       "uVmXM+34F/HgJqYZZkUwUd3zGi6wis8pNWi3Mv9nubnt97RWbmb3KA9b3fsIaVFiVk7UsK+ntMTt\\\n",
       "2UvH4/ApNz7ltkfCLL1mKS6XGWJXszppSReSmzucrEDocXmS/pxOS6gF0DkQN4dvW8u/o7eZ5xTv\\\n",
       "dNeYzTMYzIpNJM/xGXa1r6+rvxunTEvDQgghRCoJgINUVz/oeyI18J17zc3cctdDPVr+Ta0gluaB\\\n",
       "hkFFfivL71zJ3vmdK4xgLmN+tNVDSLlp0FuZ1RhlrNKYFyuzGz4A0MCrefFZTehWeEv8PoZBTDMI\\\n",
       "a3F2uWuZ2RilPJBHvtZCRX5bx75Ai+r4rxudYmM014Qv4KvhC5hqFIGCNS+usRs+nDP9LM7mjlSX\\\n",
       "zLqIdc99wPzZMzJ+Zp8qnc89X/s+WmLv4thg1A5jJ+cVYKCYH5tMrvLyhYpCsisWJH2GPQ1vPQ2K\\\n",
       "QgghRFdkDMwg5ZwNdyr6Mg4m4HmDP3jqUYkKoqF8KHQONOby4e1vE8v3sMtdQyjxfft1mg+wz30c\\\n",
       "NNinH+O4r5H5sTJmx0vY7N5LTDPMxymz0cGDm/fcVXblzhkCwcCnFPNik3ChUX5iHkseuIkNz1fy\\\n",
       "1WMNrPVu4gTNoBnm3sHEk2OawVb3AcriE9HQKDZG8eCvfsZOxx7A67nefq/OPYDXcz2Vif9n+dys\\\n",
       "Raz7aAMA/+H5Jt+469/ZunNP0uc1dVIZ9371+8yITmT8qLMYG4wm/b0t/nIFG6hkzDaY5y/DvTkK\\\n",
       "8zCrtL0c2p3uqD4hhBCityQADlJn+ge9c7jw1j01KHLQMFg4p4RjH45il7uWcUY+67xvQxtMNApB\\\n",
       "b2CUKuT+u34IxMDttsOcG42QFuaP7t3U6o2OVzK4fG4h516znNd/8HzSPbiVBsRxoZgbm06du5Z3\\\n",
       "3Xv4k7sKDy72/eAAM+NT2OU6bHYX23sHzeaRMSpAM21EibPfVcMn4iXc+vIP7fAH5hLu0zyd8Yi3\\\n",
       "1CXeVlrt3zdHL+bnXzqbWwL3sfHPrwNm+Lvu75ezVe3DVTHX/D+oRNXW2XgT8MBbWTWUN1cwVk2F\\\n",
       "bQ0sXND3od1CCCHEqZAu4D44k11Embp4+9rda3F2Du8d9xt2BP3MSZzQYY0XWeN7l5DWDkCu8nLO\\\n",
       "rC/xwa7fENLC5kUU+NDJ0yLUJfbeWeHMjUFMgwnuEC1xV2JodCMhTdnVv1yVxZLw+ex3HTaPgaM9\\\n",
       "qTdEU3CefURcO1Y3cZORTZkxlmKjgHfde+wQuubFNUnhz6mCiqSwl/pnp4vPO4vLP/dZyiMVnBWf\\\n",
       "yu89H/DQr54kHory2FfvYav7AGOMbGr0emLojFEB2rV2Yloz7WQl5h+aR9cFiLE4fKndRS2neggh\\\n",
       "xJknXcCyB3DISNfFu+H5SjZuD/W4uxfMwPjI3d9N2rsHyXvLDjWBQudQk/m9xV+uYO/8AsYZeWaY\\\n",
       "UzpjjBy27nmGQrSkWX1hLU6dcgE6KA1NKVxanJimAzpHonkElXmE3IVzR+FTGm50fMrNvNhksoDN\\\n",
       "7r2EtHb0RHgEQCmUBu+6d6OUStyHojQPcvDSrIU7wh/mvbS0tGT8HKywZzWGdNXcsffwSYIqh+3u\\\n",
       "j6nTFAf1BpYuvZYvr/g7ZsUncnX4M5zQ28z3qMEJrZmQFkUDex+mtSfzgoqx9l4/mdsnhBBioMgS\\\n",
       "8BCR7ozf0dsamK9PZat7HwsrOi8jpqsOOoOkc9+Zc8m54RFoChrm+b7A2p88RlVzE1E9ChpkKbdZ\\\n",
       "7VI5tGrNnDfzy7RXbuEv7o8T+/GwGzL+Kjadze6PiCdPeQG8uDefjcf7DmEtQpbyoAH/4/sjccy9\\\n",
       "gh5cTDBGs1+vS5oR2EI40SyiU9mYDVqUENGO8JdoNl6xfAVPP/10xuPgKmZXcM01f8MLXVQKp04q\\\n",
       "4+9X/D0xDMDHFu+7SYOqNTTaMZgXm8Rf3B8Tw2CMyiasNXFBRXFSVTZ1n9/obQ24MOf21eV7+PD2\\\n",
       "t6nL99h7CKUiKIQQor/IEnAfDFQJ2Vo2tMJCXb6HSPMednuqGKO7qYt7KA/ksa+lmqDKIV9r4Za7\\\n",
       "HgKSQyFg/745erFjD+Az9vMWzinhte0nURr4lE6W3szCOSW8WlmPNcD58ooC3JvPZrvbHNiMZi7X\\\n",
       "Ks2sFsYw0DHw4GGCUcAR3ax2fTI2nShxdroPolSUlsSKsVvpxDEoVAEatRYzfFmNIpDcNJL6tcTv\\\n",
       "c5WPKHHCWswMgQeTQ+Ds2bP5/tX/zHhjFNvcB/nNCy/z9q4/Jz1m8qTJrPj7FfiUjlUsDxNLvD/F\\\n",
       "0vDFgOLo/EIAxm+tJxeN3a7DbHXvo2xUI4eaoDQPDgZ9zIyWk12xwA52zuVfq+vbGrHjHOIthBDi\\\n",
       "9JIlYKkADklWWCAxauTD29/mDW8tIdyE4qC0KFXNTVw4N3OTwcFDNewI+lHk8FplPQuim5mRpjnh\\\n",
       "nR01KC0HTcHswGiWfOfOxPO/S2UwG9DYUFmL21fHzGg5+fmF7GuppjQfqhqzCIM5s0/pRIiRU3CA\\\n",
       "rCZzP9y77t2cFSjknIlLeHvXi3aIc6ET0wzqaTarbRZnyHN+zfF7nzLnC0aJEyEGwIoVK3j65x2V\\\n",
       "wNmzZ7N06VL2q2MUG6MYZ+Rz0bWXceLFJnbu/AjoCH8oiBPDhU5YA7eCOAZzRrUx+xYzoM3GrJJ+\\\n",
       "4AsxP1bGVvcBQlo08fnqNDWaYXi7+xCeXTUEXnyDc6+5OanquoFKcIR6q4vYGRKtv3upDgohhOgr\\\n",
       "qQD2wUBXAJ2NBK2VmztVAJd856ZOj7eqex1jV6yj2jSWhi9i9ygPo6f/JW2VMPX3b1TW2pmsnSzA\\\n",
       "wE+ExRXFNEcv5oNdawlp0eQqHQoPMaJY+wQVPjxEiKESlUMvbqLEMVLTnoY5PNpaDnbQ0dAxw2Oc\\\n",
       "uDkw2lEl9Cqd//fMf5Gfk8eypdcQTqwTWz0oVpBcs2YNLaEW/mn59bRoYfvrPuXCg4vyQMD+XKGj\\\n",
       "otpuBAhrBrnKx1S9gI9UNVFcuJWLScY4jusnExXJOAFifHvlD3v09zxta4NdEQQ6HfEnhBCi96QC\\\n",
       "KAGwT4bK/4CcHb6xBR/aS7oAHqJkaxFGx0o4obcxK1ZMlbeSoMohi3Y74E3Pj9sVrY4Q58FDlKhy\\\n",
       "Y6apxAsqxfmxmWhobHXvZ15sCntcRxyjW0ie+wfoSusIfKlzARWdln1dSieuGfZjNAUuNGKOruJ0\\\n",
       "19ASZwy/5elYrk732j7chLUYKDNcGiimGkXMjc2xl2ydgdo8Azmb+bEyJsYnsMa3wTz1Q8GXIos5\\\n",
       "Oa+A1srN7HLXMitWzBX3Le+2g9v6ezNQhFDUjPJS0hjFWnaWKqAQQpyaofLzuz9JF/AI4OzwPfea\\\n",
       "mzkrUIhPufCpOJdWjOOWux6i3lVHSGtnt6cq0fxh0I6PNrJoJysp/IFGVHnwqThR3EmNHwBoGu+6\\\n",
       "9/BH926yVIzN7r0d4U+BT7mZahShqY7nGFbnRmpwI83XNDrCX+IaSoNY2oqhGfr0xP2VGWPZ5Tps\\\n",
       "hz8wv3d+bGbS8+IYoMCjRe1726cfY4PvdSKVWzmhH+aDXb+hNM/s9P3s3DF8IfwZPhEvATQmGwWJ\\\n",
       "5WyN2IIPWfzlCrIrFnBx5Hy8gRl8ePvbvF1Z12UHd12+hziKMIo8dMYGo4Q1yEOXrmEhhBB9InsA\\\n",
       "hylndWnxl29OGiq95Ds3MSHxfcvk/DA7gjqT88OJ8S+JfxsoRZYWZnp+nENN0Kx8GLhxo+PBS5gI\\\n",
       "5qM1dDSzYcNapgVOYJindYBdWZttFHNWtJx9vmPd7+tTZvJzJRokkr7vqPTlKi/txBLdusnfV4mA\\\n",
       "mKuyuCg6lxd87ya/BhrvuXcnXddqPIniwUqYbgyacVPprobEoOvKoJ8sIhw5oFMONGFwdH4hk7iY\\\n",
       "E4klcKvj2trzZ1X2ZkbL2e2pojxiLuMHPG8kLbFvawuhuaYyMT6RkPP4tz6cECOEEEKABMBhK9O4\\\n",
       "l0zfd87+WzinhN9vDwI6AeWlXlM0tIQAF7PzwxxozGZ+bApR4vzFXQWahgedOFFATxrZomGgVEfl\\\n",
       "MKzFqNKPUc50cpSHFiLWA012pS8R5DQziMatCqHzMY4KYivRjrmBziPlFOQoHxrm8XMA82OT+bO7\\\n",
       "KtGdrCV1GbsTZUjz2DrrTWj4VJy5sens9lQxJ1bOcb2JkN4Omk47WexsbqTK9665vPvlCwEIvPhG\\\n",
       "2iack/MK8G2tZ2p8ClPjZeSh07S1gdd8IUJaR0UwpOWw1W2eMJK03CtHwQkhhOgjWQIewjY8X8mH\\\n",
       "t7/Nhuc7DzG2Bg9nOmYs9fvOP597zc18atbVzI2VckJrQaFzJBYgqHI40DiKef6LGGNMJKviLD4Z\\\n",
       "m0quymJubBJuLWJf341OrvLh1uKJpV3N3oM3OzaJw64jtGrRxNcdVTsriCkXYxPLsM7sZwc6BWVG\\\n",
       "nn0anKEpx1nDJDWeaJrinFlfoujsRl7wvYkCVoQv4vzYjI6l58R//Vq048lJLcgezopPZXH4Ulq9\\\n",
       "IfbrHdVLnzL/HWUtoVvOveZmbrnroU77+xZ/uYKwppGXCJt1ibXw+bGp5CoPC+eUMDVnErnKbOaR\\\n",
       "vX5CCCFON6kADmH2OJhtDZ2qQudec3Payl9Pvr/pxUfZuqeGiMcFZAGgY5Ctspgfm8qYxPgZgLU/\\\n",
       "eZNoc5Tt7o8pdEc4EvPiVm4mGWM57jwDWIGPOJ+dO4adOz9mfxy70udTirDzBhL7+eqU205+yhHo\\\n",
       "WglzfmwmtfpJFE3JS8iOKqFb6UCMVq2Nt3etwao0bnbvpCQ+gW3uA47Hm0u8US2GpinAYzZ/KIUb\\\n",
       "g/mx6TRhcHJeIft21dsdy2cZpZwVLWez/yMO8nGPz/U9Oa/AXsq1OrnHbNM4Z9Zczr2mgg9vf5sF\\\n",
       "SqMucvp7tOT4OSGEEBIAhzBniOir31UeJ0YOv9veiF+L0kwOKIUbDRcxyke1czCoCBPh5LwCNjxf\\\n",
       "yfitDez0NRLW4oCLI7FcQCcLD4f1erOLFhc+5eKTsemMMSYS40P2Gx17BLOImCNkUk8KUcm/H6Oy\\\n",
       "OUELoKE02Oo+YJ8IkrZjWIOYMnADBq6k64fRqXEdYX5sCu+799rDneNKJ0ZWou1F4xOxWQDsdFfj\\\n",
       "wUU4cc/zYmVsc1czO1aCQZw1vneZFSnmlvseSnoLvQlazpmAcHr/blN19Q8HIYQQI4MEwCEsNTRA\\\n",
       "z0NH6giSGOaZuDEUbcoDWhw0nSzl4+LIRbzV9BuacVPlreSWLy/nw9vf5rDrMGHi9jXdyoULF+1E\\\n",
       "Hc0YOl4tTJgI67xvEt5uzfFTuLUY0/Pj7GwEI3V0iyOwacAJrdXeW2ieG1zGUb2R/foxcrQYocQy\\\n",
       "rDWyxXpiTFnNLI7vaRqb3Xu5Lnwhn4iX8JGrhq3uA4x1hak1zNE3k/PD7Gw8SBRFWIux1b2Pc2bN\\\n",
       "ZfzWBvIoZVa8hI/nF/Dh7tWEcLPbU8UVKZ9xV0GruxCW7u/2dOkqXEp1UAghRgbZAzjMWMGiuzEh\\\n",
       "ziYQgIr8tkT3LsQ0RRYRAsSYFSvm5LyCTnsG92d9xLspnbMG5lFpMXs+n8JDlMn5YTa79xHWOoYv\\\n",
       "fzI2lc9VjKMy6MfQ7IfjUnryHj7rt47GjjAx/uKu4rBez1mBQqIqyw6NOpq5Jy/xfDc6euLw3gLl\\\n",
       "x+f4N49CEUcxMT6Bef5FFIan0K7M0TeVwWxziDUGAWJcODc3EYjMC4dQLP5yBRdUjCVAjJnR8k57\\\n",
       "MZ3jdyB5z2bq986kxV+u4Oz7L0gb8Hr6vx8hhBBDm1QAh6hMQ4SrC7fyRnMT5YE8zibzaRHWMW9W\\\n",
       "oLvmloeY/OKj/H77CcDLJwITWfKdmxKv8wwL55SwcE4Jb1fWcezDZ9jtPo5KqdjZlTeV+P9oGkp5\\\n",
       "ORjUUFb1Djdnx8rwVpzFOzueAXLMp2gGl1cU2sHUuk5HRc9IHARiduXGMIhh8GHoBM5yYQyDT8XK\\\n",
       "iRJnq3s3oCe6fDVO0MpUYxz79eMElMEzvjeJYTDB00xTWyFRd8fStPm+DPK0GG0qm7oPC9kQrYT5\\\n",
       "hYS3NXByXiGzMfdSujebY13iWxvYQKUdrBZ/uYJNnkfZuqOGwIsljN52tl31O/v+C1h7+DGqdjXR\\\n",
       "/JM3HZ91DaV52N3Y6QZE96f+XHoWQggxeEgAHKIyjXnZ11JNSMthX0t1p+ekhsbUJhBnmLGaD5yv\\\n",
       "E1Eu2shiu/uQ/Rw3uj03T9PiKDQqRrVRGfQDGjEUM6Pl7HIfZn5sChPjE5n9wAVsevFR2o0s3InH\\\n",
       "oOm8VlnPnHwINnYEMatLV1M6OWiENCtkWo/RkmcJJvYHzvMvIiu8laBy2d8co3I4rjehNKjHSDT5\\\n",
       "ahyJBUCL4laa42i4RIeu0kGLsNV9gMu2TTKbXxxLs5tefJS3fXXMjc5mdrzUrJw5vu/8/ObPuzgp\\\n",
       "XFU1NxFKnNvsfGxT0EChZxzh05/6c+lZCCHE4CFLwENUpjEvXY1/SV32TSd1adJ5vWhin2CcOLMD\\\n",
       "o8jXWpgbGE2W3WShATp7gy48xEEpyozReAMz+EJ4IRPjE6gas5UHV97Gq5X1hDUXoJnLssqcQ1jV\\\n",
       "mGWGSksi3BWqgONgOoVXucyl3UTw8+GmzBgNClqJ8Je212lRXsyFaZ0AcabGJxAlik/FGZM45q3j\\\n",
       "RcCttWHPnFEKn3KbswUxTwaxml+co3d+t72eZtz8xb2HOk3R4tY4eNvbvP7Ae50+v9Sl1/JAnj3q\\\n",
       "xfnYOfltXY7wEUIIIfpq2J4FfP/99/OrX/2KXbt24ff7Of/883nwwQeZObPjyC+lFHfffTf/7//9\\\n",
       "P06ePMmnPvUp/u///b/MmTOnR68x1M4S7O7sWUumRoAHV95GG1n4aef7Kx/otGRp/bdFeYnhIYt2\\\n",
       "Lq4otodKz42VsttTRbOz8Jza/KFgigvq4l7GGnmccB1lilbKPqOBkGYOiwkQ40vtl/JL3wZ7GXqM\\\n",
       "yiasNyVfG/ApyNJbGB0r4aBunoHsUy4ixMxlaQCl8GthFlcUc/BQDTuCfsZg0KSy7A5h671s3B4y\\\n",
       "R+EYEzn7/gtYeddK+74vnzua329vBmBBbCqX3veVXn/2Qggh+t9Q+/ndH4ZtBXDjxo380z/9E3/6\\\n",
       "059Yv349sViMSy+9lJaWFvsxP/7xj1m1ahU/+9nP2LRpE+PHj+eSSy6hubl5AO+8/1iDiQEeufu7\\\n",
       "bHrx0bSPy9QIsLiimHythWn5cR65+7u8UVlLUOVwqAluueshrrnlIW656yGz+ge042VDZS1hzSCs\\\n",
       "xdjtqWJmtNycz6cADHSto4vYCoENqoVZsYnU6SFmRsu5+q7ruXBuNn7ayaKdmdFy/GgUqoD9nHo9\\\n",
       "xOT8MB1DnM1u4YnGOABq9RP27L44qmNPonLzydhUvr/yAc695mauueUh7lp5D03Ka46xSYS7CfFJ\\\n",
       "bNzeSEiLstW9z66QTnGZ15ziMiusYS1GWIuxzd0xEBq6r75uevHRLv9OMj22q2HgQgghRCbDdg/g\\\n",
       "unXrkv7885//nHHjxrF582YuuOAClFL89Kc/5Qc/+AFXX301AM888wxFRUX88pe/5Prrrx+I2z4j\\\n",
       "ujsmLl0jgLOC9XZlHc248ak4+XrHUuWLj3yXHUE/xe4I7TEvCh0FuIkSw0U7inrffmL2EGgdH+20\\\n",
       "o6E0HZ9y41EapfmwuXEfStPs8Spm1exRNlTWst39MToumrVWu33YRZy9QXNJWcPgU7GZHNeb2Kcf\\\n",
       "A5WDX2snX2tnZnQ+W90HiGHgAy6LXJCh4SEKuOy9hsf1JubFytnh/ZCFFSWce41ZGV1+58qkz+iN\\\n",
       "ylo04MK5xUlXS2266e3fSabHLmqXmX5CCCF6b9gGwFTBYBCAggLzh/3+/fs5evQol156qf0Yn8/H\\\n",
       "hRdeyLvvvjusA2B3YSRdI4AzdMyMVrDdfYg4Ou2OU9x2BP0odGpjuXwh0dFbmgc7gl5AJ4rOAcOw\\\n",
       "z/cFg8UVZlB6u7KOmbEpZFcsYOueZ1CaGeQuqBibdA9t5IAGmzx7El81rxXDA2DvnWuOzmf/rhft\\\n",
       "gDgtP841tzzEhucrWVCps81dzaxYsX2iSarPzh3Da5X1KE1HUzAvNgkCU7jltq90eqy1ZN4872Ju\\\n",
       "W5l+dl53J7N093eS6bEno9K1K4QQovdGRABUSnHrrbeycOFCKirMH9BHjx4FoKioKOmxRUVFHDx4\\\n",
       "MO11wuEw4XDHoWVNTU39dMf9K10YybRHzbnPjyYrXC3As+sIYS1GDJddtZqTb3b/uolz5IDOovYv\\\n",
       "skG9jkIHDDzEiaOjlEJHw4Pi4KEaDjXBBRUlnHvNcgACL5bYlbSDh2p45+7v2mNoNlTW0oY3cU3H\\\n",
       "mb0aeIjbS9wAH//wKbPDF42DQR8f3v42zCvAXTGPi7eVpA1NLz7yXXY0ZjPZKKDMYwbWOaPauPSW\\\n",
       "zPv50g117u1A5e4CYpePlcqfEEKIXhq2ewCd/vmf/5lt27bx/PPPd/qeZjUCJCilOn3Ncv/995Of\\\n",
       "n2//Ki0t7Zf7PdM2vfgor1XWp92jZlX+9gZdhJWLDZW1BDxvUB7Ixad0fCqeNEswX2sjioeq5ibG\\\n",
       "Ko2Z0XLytRYurygkW4skjmXTzKHRmovKYHan1z33mpvxaXHayGJH0G9/vzl6MZeGv8DZuWPJ11rI\\\n",
       "11rtpl2fcjMrd2LSvTfEvJjfNZgZLbf3NWYahLzpxUepDGajNI2D+knq4h4UOocSOf/FR77L3Svv\\\n",
       "5HeVx+172vTio2zwvc4W176kQCkDlZH9iUIIMYgN+wB400038etf/5o333yTkpKO5bXx48cDHZVA\\\n",
       "y/HjxztVBS233347wWDQ/nXo0KG0jxtq3tlRg0qMXM40ViaKi3ayaCOLd3bUsOQ7N3H73Xdy+933\\\n",
       "JlUMrceXB/Ko0xTewAwWtX+R5ujFLJxTgp92fCqO23G0h4ZBaV5yY0q6kShWqJpUP7+j0qeZBUAP\\\n",
       "bibVz0+6d+sV/ETIrljQ6eSN1IDyRmVt4oKKycZoygN55Gst9r1VJpa4Y7jse3pnR419RJ4zUJ7q\\\n",
       "SR+9aQYZ7CQECyHE4DVsl4CVUtx000289NJLvPXWW0yZMiXp+1OmTGH8+PGsX7+es88+G4BIJMLG\\\n",
       "jRt58MEH017T5/Ph8/n6/d7PNOeestQRJdZy44Mrb0vss+scErsaMP3h7W87Tr+4meaouTRaXbiV\\\n",
       "XaHDxHDZDRxWuDz3mo6mD+d1N0Qrk/a7leZBMGhObh5j+Kku3Mpbd//Gfvy0/Dg7ggbT8uNp9zWm\\\n",
       "Lt3GE3MOPVqMFfd2fA6P3P1dgioHN1HimEvd19xiLTU/mnbv3qkOVO5NM8hgJ6eKCCHE4DVsA+A/\\\n",
       "/dM/8ctf/pK1a9cSCATsSl9+fj5+vx9N0/jWt77Fj370I8rLyykvL+dHP/oR2dnZfOUrnTf6D3Vd\\\n",
       "zaHLtP/M+ZzFFcUZn58aWpzPa045/cIOXfXzCcy7iA92rSWkRcmivdPw49TrpoYqc2nW3P930l3D\\\n",
       "yRYIqhw2bg/RHK3kUJM5XHpv0MUjiX2EzntPDSgu4kTx4KJjNM2mFx8loly4ieIhzucqxiVdo6u9\\\n",
       "e6cy+683zSCDnZwqIoQQg9ewDYCPP/44AIsWLUr6+s9//nNWrFgBwPe+9z3a2tr45je/aQ+Cfv31\\\n",
       "1wkEAmf4bvuHsxFh657eV5acAeyWux7K+LzU0GI97+3KOhaHkxshrLOKx7qi1O3yMM4oAL2BC+eO\\\n",
       "7hSSnNdNF6asphCFWQ3cG3ThUzrzY1MZva2BhQvM54eVKykYOs/qdQaUix0h13o96/g7DYMYnrSf\\\n",
       "X6agdyrVvN40gwghhBCnatgGwJ4ccKJpGitXrmTlypX9f0MDwLnEaYWh3lSWSvOgKWjuz+tKamix\\\n",
       "gtvoWAlveN9lVmUxYIYu66ziFsNAaVHQGzhn1hJ7rl6m61rLsKlVxsUVJTRHL+aDXWtp06JoxAkT\\\n",
       "MUNn4vmbXnzUPsEj9axeS2qIs17Pqkxap5x0d8Reus9h4ZySXncFCyGEEP1p2AZAkbzEufgUKkvW\\\n",
       "EuqhlGk3m1581K68XVxRnHZJGR7lte0NScOcoSMU2YHKMVS5K5mqjNYw5Pn6VN5170ZpGlXeSm75\\\n",
       "8vKk+7H2Hmbaj+asWro3v83Uwknsa6nu0fJtpmVbZ4B17oWUZVEhhBADTQLgMNbXPViZgo09kDnx\\\n",
       "+3TB8p0dNSgtBzBoR/HAytvssHgqS5yZqozWMOQx2+CswAk7tKXq7rOwrlceqbD3KC65/ya7K7er\\\n",
       "INiT9yQNEUIIIQYTCYCik6Thz2k4995lWlK2ApW1hy6a2D+X2tl7qtINQ469+CH7dvTtemt/8hir\\\n",
       "m9+mPJDH2Vxw2rpypSFCCCHEYCIBUHRihZ6moIFC7xR+enKSyLmO/XfOsHg6ApXztaz7PV3XtvYo\\\n",
       "7mupBs7MPj7ZHyiEEOJMkwAoOum0T68HjSOZwlfnsJh+bl5vOF8LsH/f0xEqXY1nsaqbYeVi04uP\\\n",
       "npF9fOmOkhNCCCH6kwRA0Ulv9+ltevFRwsqFn/Zuw9fpGHPi7E6eXNoRVlNDXabKWleVwnOvuZm3\\\n",
       "K/+NZty8XVmX9P3+2scn+wOFEEKcaRIARZ+9s6OGdnLI11r6tK8vnXTVOmd38jWJQJk6JgYyV9a6\\\n",
       "qxTOjJazy13LzFhx0tf7ax+f7A8UQghxpkkAFH3Wn6dXbKispY0cNlTW2sEu3eul+1qmylp3Vcjs\\\n",
       "igVcLBU5IYQQw5imejIxWaTV1NREfn4+wWCQvLxupiWLU/LAyttoJ4ss2rlt5QMDfTtCCCGGAfn5\\\n",
       "DfpA34AQXbm4oph8rYWLK4q7f/AQtOH5Sj68/W02PF850LcihBBiBJElYDGoDfezcaUDWAghxECQ\\\n",
       "ACgGja7GswxX0gEshBBiIMgSsBg0Uuf79SfriLdNLz7a768lhBBCDDYSAEVavQlIpytMLZxTQr7W\\\n",
       "0i/dxKnOZNjsirUEPHpbw4DehxBCiJFFloBFWr05Vu10nZd7Jvf79efomt6QJWAhhBADQQKgSKs3\\\n",
       "AWmwhKneGCzNJTIEWgghxECQOYB9IHOEhBBCiKFHfn7LHkAhhBBCiBFHAqAQQgghxAgjAVAIIYQQ\\\n",
       "YoSRACiEEEIIMcJIABRCCCGEGGEkAAohhBBn2NoPvs2v1s9k7QffHuhbESOUBEAhhBDiDIvXv0K+\\\n",
       "K0a8/pWBvhUxQkkAFEIIIfpBV1U+V+EVBONuXIVXDMCdCSGDoPtEBkkKIYTI5FfrZ5LvitFqaESV\\\n",
       "C1fhFSw55+GBvi2B/PwGqQAKIYQQ/cKq8gGy3CsGHQmAQgghRD9Ycs7DXH3JboyCJbLcKwYdWQLu\\\n",
       "AykhCyGEEEOP/PyWCqAQQogRTkayiJFIAqAQQogRbbiOZJFgK7oiAVAIIcSINlxHsqQLthIKhcU9\\\n",
       "0DcghBBCDCRzNEvvxrOs/eDbxOtfGdSjXVyFVxBM3KPFCoXB+lfo7XsWw4sEQCGEEKKXMgWpwRQM\\\n",
       "0wXbdKFQjEwSAIUQQoheyhSkzmSF7VTC5qlUO8XwJGNg+kDayIUQQjg5QxmA3rAWAKNgSZ8rgqmB\\\n",
       "zzppJBh3c/Ulu/t87yOJ/PyWJhAhhBDitLGGPy8552Hi9a+QrSuydXVaOoxTmzpa3cXElflfIXpL\\\n",
       "AqAQQgjRD1yFV9BqaLQa2mnZc5farZwdq8Wlmf8VordkD6AQQgjRD5ac8zBrPzArdy7H11OXiZ3L\\\n",
       "ul3t60vdv9fqLibXOCQVQHFKpAIohBBC9JN0s/icX0v9fm+GUksFUPSFVACFEEKMeL3tqO3q8c7v\\\n",
       "pesWTv2a8/euwitobVhLlhbjN7+f3mXzSE9Hulj30+ouNkPjIBhRIwaedAH3gXQRCSHE0NBdwLM6\\\n",
       "auMK2kZf2W1A6qoDt6/dudbzgR5d4xdvLmKccYjjeilfveitjNeLK3BpPbtmqsE03/B0kJ/fw3gJ\\\n",
       "+O233+aLX/wiEyZMQNM0Xn755aTvK6VYuXIlEyZMwO/3s2jRInbs2DEwNyuEEKJXenukmbW06j/5\\\n",
       "ctrnuAqvsAOStfz6izcX8fob0/jFm4vSPj7T8XHO76W7z+6+1tvmkXHGIVya+d9M1wvG3RzXS0/5\\\n",
       "yLvhel7ySDZsA2BLSwvz58/nZz/7Wdrv//jHP2bVqlX87Gc/Y9OmTYwfP55LLrmE5ubmM3ynQggh\\\n",
       "equ359ymC3hOS855mLbRVyYFpHTByvl4a9xLpu8BzNj5PJ9//zhl217odO96w1p+tX4mv3hzEdkn\\\n",
       "X7a/tuSch/niZz/mi5/9GKDboHtcLyWuzP8uWrSIa6+9Nuk1rMrdVy96i6sv2c1Dt73CnHn+Xp0H\\\n",
       "PFzPSx7Jhu0ewM9//vN8/vOfT/s9pRQ//elP+cEPfsDVV18NwDPPPENRURG//OUvuf7668/krQoh\\\n",
       "hOil3p5zm9SRmyHEpHbZHtdL7aXVUxGvf4WyQ234wwbTDrR3unePFiffFSPXOISuJb6H6nQN6z2t\\\n",
       "/SD9YGlr2XfRokVs3LgRgCONM7j1u277NazP5Nprr+WP6/cA8K8r/p0l29Iv56Yu+coJIsPPsK0A\\\n",
       "dmX//v0cPXqUSy+91P6az+fjwgsv5N133834vHA4TFNTU9IvIYQQZ166Cpy1dOrR4mmrW11V7dL5\\\n",
       "6kVvcenFewnkL+jVcrPzfvYU5xLCS+PUrwLJwcooWGIvzRqJ3BdH63QNq/LmHCxtBUHrmnPm+e3w\\\n",
       "B/DH9XtY/R/z7ddwFV7Btddey5o1a+zH7NzezqJFi9Leuyz5Dn8jMgAePXoUgKKioqSvFxUV2d9L\\\n",
       "5/777yc/P9/+VVp6av8qFEIIcfotOedhospln7zR232CmfQkDKW+lhX0Dsy7ltyVdZR87ZGka/lP\\\n",
       "vgzA1Zfs5qsXvUVrYvnZKFjS6T1ZodVVeIUdFLM0Zb/Wv674d3ZubyfVmjVr+O8HDtnLvs7wZ9m4\\\n",
       "cWPaENjfS76n6+9GnLoRGQAtmpb8Ly2lVKevOd1+++0Eg0H716FDnfeFCCGEGBg1z97CpX9sYEx1\\\n",
       "xK6Y9aaKlSmU9CQM9XSeX6a9iM6gl+k+lpzzMMf0UpQCPfH8RYsWpQ1/ljVr1uBza/aybzrpQmBv\\\n",
       "q6W9JRXGgTciA+D48eMBOlX7jh8/3qkq6OTz+cjLy0v6JYQQ4szpqnKUX7WaXCJM3RuzK2a9qWJl\\\n",
       "aizpyfiT1NeylqP9iXl+v3hzEb/5/XT0hrUc10sZUx3h0j82UPPsLYAZXpvvKKbm2Vu6DEfZsVo0\\\n",
       "DTNEFl7BuHHjMt5TBRUAROLJf07Huk5/V+as67e6i6WpZICNyAA4ZcoUxo8fz/r16+2vRSIRNm7c\\\n",
       "yPnnnz+AdyaEEKIrXYWjYPkymuPZBMuXdXmNnlb61n7wbfyJ7txMS8rW14CkCp51f14dsnVFkXHI\\\n",
       "3r+XHatl6t4YuUTIr1rN2g++TUHN0wRcrRTWPE2OHsNQJB3xlhqc2kZfCcB1/98HXHBhTqf3uJzl\\\n",
       "PMZjLMP8LJaxjMd4jOUs7/TYpUuX8sILL3T7+Z4O1vWzY7X9WmEU3Ru2ATAUCrFlyxa2bNkCmI0f\\\n",
       "W7Zsobq6Gk3T+Na3vsWPfvQjXnrpJSorK1mxYgXZ2dl85StfGdgbF0IIkVFXVb2Srz1C4N7aTvvt\\\n",
       "UsNMupmAv3hzEf6TL9PqLrZDSbz+FXOpNlFt6+pYN+e1rK8B9jy/aGLvnqHAo8XZM2maHVb1hrVU\\\n",
       "T/LT5tM5OMmPWzOXeIuMQ3b10Aqi4xJn/8brX0FvWEu2rrjzzqKkEFhBBStYAcD1XM/LvMz1mNMt\\\n",
       "VrAiqRLoDH9ghs54hvCZqSrYm6qhjJMZPIZtAHz//fc5++yzOfvsswG49dZbOfvss7nzzjsB+N73\\\n",
       "vse3vvUtvvnNb/LJT36Sw4cP8/rrrxMIBAbytoUQQnShN3vTMoWNdPvwrJl/441DdpCxnm+dDJLu\\\n",
       "eumuZT3OKFjCFz/7MUbBEuKYQbBdaWTrioNldQTurWVzhU6Wpjg8wc+b5xZQNT6bmMLe55etK/ve\\\n",
       "VOJ1xhmH7IAZMcxQ+Y27PsnSpUsBqKSSJ3nSvsd88u3fP8mTVFIJdA5/kP584e6qgr2pGvb33kLR\\\n",
       "c3IUXB/IUTJCCDH4pdvHZx2fVm9k4yNCGC9j9Va0Hh6V5rwm0OU+QefRcFYl0Xrsb34/nWxdmUu+\\\n",
       "iaBpPd766RxTEEUj6CohP16DC0U88eeixAzBVkPji5/9GI9HI2ZmQ17m5aTwFyTIlVwJgNfrJRwO\\\n",
       "9+iz6m4fZOpnORSOi5Of38O4AiiEEEJA+gqVVekq1FvJd8XwEaEl5SSQdKzj4TwNHSd3dNckYlUE\\\n",
       "Jx8Yy+KXfslf1X7B3iuYpZkpL6awn29VFTXN/OVJ/KT+6kVvEVUuph5t4+K/1DP34F57gHSWpvjU\\\n",
       "orF2+FvGsqTwB2Yl0NoTGIlEuPbaa5O+nynoWdVPax9kqtTPUjp7hwYJgEIIIYY1K4C1uou7PB+3\\\n",
       "q+VJq0t3weE9uDTwJCqFgBkgG17m929M4/n1c4H0++JmHt5tN3q89vtpZJ982Q5wsZQB0GGlEU4s\\\n",
       "74J5QojVBDKpuo3siMGMIyH7Mffde4y/bDwBmHsArT1/YFb+LNdzvb0HcM2aNUkhUG9Ya4faVNb3\\\n",
       "stOcpXw6zhoWZ54sAfeBlJCFEGLocC7FdrfEm6r5jmICrlZaXG7+eP4ojuulfPWit+yqWZ4eQ0vs\\\n",
       "02syzCPYsnWVFBLHVEeYcSTEwUl+Dk/wA2Z404Diw21M3helcepX+Uvxa52WjJ3X+6vaL1BQ8zTV\\\n",
       "k/zsLAqw6iE6zflbznJWsIIneZLVrGYZy7ie63map3mGZ5Iea+0FtJajIwa0KXdSJdD6HvRsiXyw\\\n",
       "k5/fUgEUQggxDPSkE/VUO1DXfvBt9k1zE8LLce9oFv65gU98HGPtB9+mbNsLXPrHBkYfjKOUuZRr\\\n",
       "NWhYr2V11m6fPI3f/1Uhhyf4zT1/iaYQTYOph9vssTDO+7SqkhP2j+ev/1jPFX8+RrP+P6w9tyRj\\\n",
       "+AN4hme4iZtYzWoAVrOam7ipU/gDsxK48NKZ9rFxMbROnc1GwRK7o1kqfMODVAD7QP4FIYQQA6vm\\\n",
       "2VvIr1rNvmluTkzy9rk6lW4fnLNyeNmm42RHDFq9OuvOHcfn3z+OP2zQHM8mcG+t/fzJB8Yyo3ov\\\n",
       "wfJlaSt6pQc0KuqOcWCSn+piPxNq2pmyP8LuiTM5MsU8pMBq+gBY/N5JcuJmsGzz6fzhrwq49OK9\\\n",
       "VCwoYccHh7t8T15XxzDoTObMy6Jya5v9GfhPvoyrhw0xQ5H8/JYKoBBCiCEsv2o1AVcr0w60d9rn\\\n",
       "11s1z97CJeueYvax5qRGBmdF7qOxc2j16nw0dg6uwiuoz/ZiAMExBms/+LZdsZtRvZeAqzVtRc9V\\\n",
       "eAUVJ47hjxiUHWpjUm0bU6vbaZz6VQ6W1dkDo8c5hkdXT/ERdWtE3BoHSv3UG9kA3PNADvPm+TK+\\\n",
       "pwsvzGHr08VcXeHJ+Jh583w8smpC0mcWVpmrff1xWoicDXzmSQAUQggxZFmnfzRO/SpXX7Kb7Fgt\\\n",
       "+a4YZdtesI9W66n8qtVkRwwmVbclBZ8l5zzMX9V+gcUv/RKAdeeOo2bBpwAoaImgA4WtkaTQGCxf\\\n",
       "RjsufN42plc+j0frKMHF61/hYGli8HOpn7JDbeTEY3ZYbDXMBhAF9iiY/eP9rP90IXvLsik71EbF\\\n",
       "kQa7KeSun0xmzrysTu/nb2Z7+Pa/jadqfDZX/Z/z+esLOp8YsnCym4dWTbTPFrbuL1tXRJUrbUOM\\\n",
       "s6vaeYQdJAe51O91Rc4GPvMkAAohhBiyUk//sKpt0w602xW47lihxTqdo6FkBUvOeZhfvLmI9W9M\\\n",
       "47XfT2PUvl8QcLXyiboddqes/+TL5gkeXp09xbm0uov5ze+n85vfT+et0g9RPoU3rph6uM2s5J18\\\n",
       "md+9MY3zdjcw4+MWGvPcHCr2c6DUvMauSfnE619hwv7xLPpLA/N3NfGZvzQw4Ugb0YIrmVgTYebH\\\n",
       "LfjDBtOPtNong7gKrwB3Yaf3FfZq9jDq7Fit3XHsFMsqoi1l/E1XeyVrnr2FS//YwJhqc96fVYG1\\\n",
       "PmdnkLO+V1DzdLeVPTkh5MxzD/QNCCGEEL1h7fsLli+zg5/FrFg9TE3tLajEY7o738kKLQfL6ljw\\\n",
       "jVr78daQZZ8Ge8uymLrXzZ6x0wjG6/BocVwaHCr2UzU+m6CrxAxjOkw80sbkQ1sJ5rmhKca+iWbT\\\n",
       "h66ZVZeiE2bVsKguwvZZ8FFRgCMT/BgqSr4Gs0/swB8xyKozH1d2qI3NEzcz40gIHTCAA6V+Jhxp\\\n",
       "o+xQG3/9zGPs2B3t9L5e2RKh4Zb/x5KND5vNIhtbOj3mT7sP84Nv/A/3PJBcHfRocWhYyy/e3GzO\\\n",
       "+UssX+dXrSbXFWHqXjfzVzxMTaUBjs/ZVXgFwcQeymC5gSvRrWxW9jIPh7b+3sSZIwFQCCHEkGJV\\\n",
       "lqhaDSQHQLuJo+IKlnyttlP4s77f6i62g40ztDhFlRn+lIID865l/oqHKXr2Fma8vZo9k6ZxsKzO\\\n",
       "Hs/iNw7ZY2AmH2rDHzagKcb/fno+gfwFeBpexos52PnYWC9FdRGOjfFyXC8lMHoBwfpX8GsxvBoc\\\n",
       "LPUz7UArmqEwAHdcseDwHg5O8jO5uo0Dk/xsnjiDq97Zzuf/q4nNB42Mn9W7b4fwubUum0B2fHCY\\\n",
       "u7/j466fmCEtXv8KuS5z7dlnHMLlgmAiwAXLlyUFPjOAP2J/zklB7hxY+4GedGKKGDxkCVgIIcSQ\\\n",
       "Yu37C5abp1o495319Nxa6zzdeP0rlGz+M5dtOs6Eza8mNSIU7S/mvD81MHpfsX1yR0HN0wRcrcw8\\\n",
       "bHbGBl0l9qkdKvHfA4n9fcE8N1e/t5WybS/g0zse88bsOegrgxT/cx1fvegt+94aVTZKQU2xn5hL\\\n",
       "w22AywBPTFF2qI3qYj+vX/Z1PvHVI3z1ordoHOViXE7mH+PWwGcr/Fl/Tid3lAdX4RWs/eDbeLQ4\\\n",
       "EcMcU5M63Hlzhc76C/LYXNGz+CBn/w5eEgCFEEIMKda+v80VOr9aP9M+pcKqNDkDS2ojQrpTKz5R\\\n",
       "t4PsiEHFiWNJ4XFG9V6yIwafqNthh8vqSX5avTp7y7LMkzFitbSNvpJWQ8PADHj7x/v5418VkN8U\\\n",
       "IztiMO1Au/n9REDMjtXa78UauTL7WDN/8+dDXPBePSW1bRwo9WNgDok2gH0T/cSUeSKHFVALmqO8\\\n",
       "sDQ7bYfvcpbzGI/ZR78tYxmP8RjLWd7psedfkMv3Hvn/WHKOWf0rP9rKhX9p4OwjX+SrF72VFOAy\\\n",
       "NYB01fCx+T8W0vqj0Wz+j4Wn+lcu+oHMAewDmSMkhBA9k+mc2b6w5vO1GhpR5Up7besED2tOX+o9\\\n",
       "6Q1rmXqklak1bVSOLeJQmbKvU/PsLRTUPE3Uq5EXihNDY2dZgO2TpzG/uorph1s56ipkTKjFnkMI\\\n",
       "HZVAcy9gG/UTV1DytUfs13OhKKttY0pNG/sm+jla4uf8PzeYy8ZATAfdgOZcF96o4mCpH4W5FzCY\\\n",
       "5yYvGKOhZAVa8L8prg+jAUt+3c5vPowAZqXvMR6z32eQYNK5wDdxE5VUAnB1hYdvPlpqz/tb+8G3\\\n",
       "uWTdU2RHDEJ4ef0zBUmf6y/eXMQ44xCj93lYUGM2ljTHzZE0zs/Z+fdtXa/Vq5P9rydPy999X8nP\\\n",
       "b6kACiGEOAP6Y8yHVc0zCpZkXGZMXS4GOHzfeRh35bPgD78gW1ccLfHz23PHce43dtnjXg7fdx5j\\\n",
       "qp5Dj0BeKI4GeFBM3RsjP17D9COt+CMGk1vr7DmEkcS5vIYyw9/UA624oop640V+8eYiMxCh8Okw\\\n",
       "pcbcJzj1cBtjqiPoEYhp0I6OyzB/OOeF4nw8IZvDE/yUVZuPH1cXITtiMGrfL8ivV+iYVcK1X8qy\\\n",
       "K4GVVPIkT9rv1xn+nuRJO/xdM9vNyu+MI2yYTR/WHMOGkhWE8NI8Bpa8d5Qv/fo/OXzfeYBZvXRp\\\n",
       "MKfuGLpmvtdg+bJOn7Pz79s5O1EMHhIAhRBC9Lv+GPNhDVWO17+SccxI6pgYgOLITnQNJpxsTzre\\\n",
       "zLnHrziykyxXlCwMexafUtCUVYYLsyrX5tWp9c625xB+/rN7ueTivYTRmHyoDW9M4TUUM2pDjE/s\\\n",
       "OfQmRrFYcwD3FOdSfiSETxm0xbLJWnmSA/6xKMxgN7XaHHBdObaIiEvD0CHq1mgcreOOK+KY8wIN\\\n",
       "Hf73b/x4Xeb1V7OaIMGkzyJI0D4azuuC//7bHKYfaWHKUXNMjd6wll+tn8nmCp3XP1PAqOYYLiNx\\\n",
       "VnF0J9Dx9/jR2Dk0x7M5Mu3rlHztkYzjeFyFV7DgG++Q/a8nWfCNd07D37o4XWQJuA+khCyEEAPL\\\n",
       "eUxbT48sO3zfeRRHdtKgCvGpNnuczK/Wz2T2sWYmVbdxUs2isL0KhaIha4YdGpvj2bxzYTZeHSIG\\\n",
       "fP6ze5OuedLrI1uP0pjnpuBEDKU09k/P4siEjrEtB0r9HC72o2kQVzCp1lwq3l/i5/AEP8f0Uhbv\\\n",
       "2Mn4E2GOjvEx4Z+P86v1M+1j59p8OvGwm1wiGMCOKQF0zeDOh07wq0pzHMwylnE913d670/ypB0C\\\n",
       "r5ntZs3SbKJujZhLs5ej7eD2h18w8WS7+f5GZ1Fy87HT8Dc2OMjPb6kACiGEGGKcXb+9rSzWPHsL\\\n",
       "+dGP2T4ljyy9mYCrlcKqZwmtHEv5kRAHi/388VMFvHm+j6x7T/D6VStoKDlEzK0RRcPjaqfsqHlm\\\n",
       "boyOycpWQCyIhvGHDcbXRWgodPPihfPYP96cAzj5YDv+sMG0A632gOfjeinVxX7e/VQBtRP96Brm\\\n",
       "HrvmKDowriGMcVc+Z38Q52TAjQG0Gh5cccOcLQiUfRzn7lcW2uGvgoqk8OesBF7P9XY38Is7Y1y9\\\n",
       "ph0F5nJ0TRtxBa1us+t5zAlz6Tvq0jiWXd7rk1XE4CYBUAghxKCWek6sc39ZV2NGrOf94s1F9vPz\\\n",
       "q1aTS4QZtSH2lmXRHM9GQyOXCNOPtOLCHNi84PAemu8opmzbC0w/0oI3rnChyMJg5sctTDjShlGw\\\n",
       "xH6tWu9sDAUNHp+9fFt0IsI44xA+3Vym/WjcbEJ4QZmBq/TjKF+96C2O66VMONLG+X/uCIWVY4po\\\n",
       "8+nohnk/k1vrGJ8YID06GsbvihFza4Tw8pWXI6xZs8a+l0oqeZqnAbPidyVX2nsCn+Zpew8gwEs7\\\n",
       "I1z1QgwDaAh4cCW6lDf/x0K8LjNQGnEt6WxjMTxIABRCCDGopTaQ9LTql27mX7B8GSG87CnO5cC8\\\n",
       "awncW8uOSbPsc3kt0/a3EnC1MvdAEycDHtp8OtWBAAbmD86ZH7fwuZeesStiE3/wHvrdQQp/cJwj\\\n",
       "ntkYgKHB6H0e4gpcGhwsqyN3ZR11+icwgGChxm9+P50x8UOUJYZHl34c5aJ3wyyoqaXBmEWDUYhS\\\n",
       "YCjNPgXkoH8srV6dhgIPy/83yCuVDZ3e+zM8w03cZC/3rmY1N3ETz/BMp8e+tr2FZWtaKWiO2g0h\\\n",
       "s+t2oGMG1xOjvWmbacTQJieBCCGEOCO6OsKtK6kndfT02DDrec5TP0oueRh4hPnA/MTjDpbVkeP3\\\n",
       "M/lQG81teRwqUxhxHYijA+NPhNkzPYedRTnUHyjj7MPb0YEsV5RxB39OdOXPcSlFvSubfK2NwrhG\\\n",
       "JO4hyxVlbvUJYoc19pZlEZp3JQD50Y/RgeL6MOVHW6kp9nOw1Hz9vcVZzN2faFKJ7iTuBs2AmOGm\\\n",
       "Le4hWL6MKYmRMpese4r65sxHfFiVPq/LHAbtrPylqm1VHJzkZ8pRc59iQ8BDcX0YHRh10iD3ZvPE\\\n",
       "jw0ffJu/rJ+ZNCrnVP5OxcCTCqAQQogzwjrCLdMyYupSr+VUT5OwnmcNMwbSXt9VeAWTEmNWZlUH\\\n",
       "ufqS3ZyYupz2uMfeZzepus3uaD0y9eu0oxNxa6CZ42F0DcYYrXjj5jKx7o0RcWl4XVF7ybk5uBkw\\\n",
       "zxW2KomTD7WhaebpH2+dW8D2ydM4UpBlLyPrBrR6dU6UX2d32e5/cDpf+vV/4osYrLtuNAsnuTJ+\\\n",
       "Blf8VTnNd+ZzzezM9Z6Fk1xc/9RCqov99j7F/HrFkalftzucLanV2O7+TnuiqyHSov9IABRCCHFG\\\n",
       "dLeM2B+zAjNd3xk6rNl3znsr+dojZN17giPTzBDUULKCBZUGzXcUA/DaZ8axr8wcgBy3joHDXDKN\\\n",
       "uDQaCjy446pj2bbUzzjjEAB5x3xomHP/GvPc/PW79VzwXj0TaiLMr66isDVCm0dHAU3ZbtZf9nUA\\\n",
       "2leOJnLvKMra6tAAFxBzaTx/7018ZlLn00CWLl3KLy9txmsonvm7XD67oLDTYxaWuVj9/53L1e9t\\\n",
       "ZVJtGwcnZxHCy+6JM/lL8WtsuOorSZW91OX307E0fDpCpOg9WQIWQghxRphB4hECGb6futTbW5mW\\\n",
       "I62vT540jSNTjuLR4ow++Cw5rhjavl8AmZcunfdsnSpC1WpcFV9h8qan8MYUBnDEO5u89gMEy5fx\\\n",
       "VumH/M2fttrhb/PEYk4WRzmulwJmQ4emgUvB+LqI3Us8ozZkNohEDPsYOHerTtm2F5hwoMms2MTN\\\n",
       "4OhKDHCLZhsU1jzN4/eM5cv/R2PHB4cBM/x9/5Ij+I+0ohS42+HXn1csb3OzZmcMgAsm66z/ei5a\\\n",
       "eBce3WD6vhaiHp09ZbkcnFhnjsTZ9BQ1lYb9eaYuv3f3d9oTwfJlkPh768t1RO/IHMA+kDlCQggx\\\n",
       "eGQ69s359fUX5JHvitkz+fYU5zJ/xSH7Mc7jzxZUGhRWPYuGRm3uKCZGTmDENU5MNY92q3n2Fibs\\\n",
       "fQpdMyt/H0ycy4JvvJM0T/CjsXM4WFaXdJza/gen21U8iwK2leURieZQUXeMhoCHcfUR3CgMHVwG\\\n",
       "dmNJTOm4UHhQ9lJxXIe1543noZtaKNZP8H9uu5FxB3+ON97xI95INJN85X9bON5i8NaKXPvruoa9\\\n",
       "LB3Cyxtf+pp9hFu6Y/SGOvn5LUvAQgghholMy5HW15uyyrj0jw2MqY6weeIMfvvJcRyYdy01z96C\\\n",
       "mwjtuDg03WMvE+dXrcbvipHlijK5rQ5vXOHFPK+35tlbGLXvFxiJn6Ia8Im6HYBZydxZFGD9ZV/n\\\n",
       "YFkd+a4YZdtesJecPzzHRcxtxj+rBBOOeyjUr2F+7VHchqJ5tBsXyt4HqIDqQICIRycLA1dK7UYz\\\n",
       "zNddvyzMr671MWHfU2iO/hCVCHltys+q7/8zv71uFFFDpy3utk8zqfV0nGqSblm8N05lX5/sBTyz\\\n",
       "pALYB/IvCCGEGDra7xhDlitKe9xD1r0n7K9b1b9Wr857ny4grqBt9JV88rfvUhzdiaFBTW6ASc3N\\\n",
       "6JingQAEXK1E3Bp6XOFScMA/linf/zhpKfqt0g8ZZxziM+82khOP0RzP5kRuDmVtdcQ1OJQ1ljGh\\\n",
       "FoLly+y9cABtXp1jvhwmNzfblcKIW6NhtIdxdRGUoRFHw42BpkGz4Sfv3qNsfbqUuYnl4pgGMeVC\\\n",
       "xTUasmbYS9SbK8xl5WkH2mmc+tUuu3d70+W79oNvm+cdF17B4pd+mbYa29U1M1Vw+4P8/JYKoBBC\\\n",
       "iGGgJ9Ujc8G0478Wq0K4Y2wRcQXH9VKWnPMwee0HzH18Lo1x4Ra7QhYsX0ZTVhkGcDzgo1150YCy\\\n",
       "1joO33ceY6qeI+BqZUzVc2THaplU24ZHxWmPe+zwpwG6gqaiMB6ijPv4abK0dmKGZg6UVrMo+3YN\\\n",
       "H0ycm6g5gopr5AVj6IBLV3g0A10HTYNc3Tyd5MC8a4m5EtVFl8ZrnxmL/956Jv7gPQL31rK5QmfG\\\n",
       "zueZd6CJXCKMqXquy8+uuwYN53PLtr3A598/Ttm2F7psDsl0TZk1eGZJE4gQQoghzwoV7qpnab5j\\\n",
       "tV3psipSS855mPryr3VUnhzPtRoZDq2fSX7iJAwwA4m27xd4VZTsiIEW34OGZu8L1F2Qf0InmDWV\\\n",
       "nMhONA0mRHYS1czaiq7F+cIf6/BhHqnWDhTF6+2KngbMO9CE5pjiYu3Hy2s/AJgzCqcHXeSF4oRj\\\n",
       "PjyxKBENPJpZ+TMSWbbWO5uJmE0aNZUGo/b9gsaAzqV/bKCm9ha70havf4WyQ232PSiU/dnl7H2K\\\n",
       "mmdJqsqla9BY+8G30RvWAnDRviC5rgiequeY4DKPr5t7oIkjUyFwb23apo5MTR+no6FE9JxUAIUQ\\\n",
       "QgwJXVWqrOqRhmZXl1LHypR87RF7ll46qSNOSr72SMfJHQqydHM/oN8VQ6HsalVe+wE0axRMIpy1\\\n",
       "xz2Jo+Pidtjy6VF8EQMFdvOG9T1DQdTQiSmd9sTAZ4DJB8aSFzKvEXC14XfFCKuspBrmkWlfp6B9\\\n",
       "D+13jLE/GxV3U3giRi4RCquetT83V+EV7CnOpR3zderLv8aeSdPMBhANuypnfdZAp88sXv8K2boi\\\n",
       "W1f2cXoKc+SNSsxNlJEug58EQCGEEINCd8u4XS1HWuHuRPl1djDr6ZFxlnQDpzf/x0KKo+bJHFqi\\\n",
       "27cdnYasGfZjmrLK7A5bMB8XxYOmdcQ0lfi6i47gpxREEo0YH5bMJZoFXt3Ap0fJ+ngtzXcUM6d6\\\n",
       "lz1fsCnXRatXJ6yZR9YpZVb+nM0qE/Y+xbiPnzaroZqRFIoLq55l8Uu/pFC/hqyVJ8m69wQlX3uE\\\n",
       "g2V17JmeQ6tXt4NnV5+1q/AKWg2NVkOzj9OrL/8azfFsjnhnd7uMK3P/BgdZAhZCCDEo2E0QVatx\\\n",
       "zuazmgaassog0ciQaZnQuYxoLvP27vSQVJ9InIkLHSEsEIpTFP4It0vhrnqWGF50F0SUhqYUMWUG\\\n",
       "qeyPfw6aQinzNI/sqJFU+Ws33PjvrQfg4PqZ5Pj9zPy4BU2DQurRdBLnAMPB7LE0jQkz7UA7BVq9\\\n",
       "ObZFwfufP5+ybTXMPKDjVQa6Bp7ErsGY0gncW2t/fh6iaT9fV+EV7OQVds/+sh1+u5rNl+4ovtTl\\\n",
       "266WcWXu3+AgXcB9IF1EQghx+gyG7tBUm/9jIXNrKzEMne0Tx7HgcK291KlpZgXv+PQVdsDKckXt\\\n",
       "+2y7oxC/K0Zb3I3PZTZvKCCMC91QGMpFfVY5ee0H2DNpGgfL6vjr95oYE2+l2fCTq7ehJ9aIFRB1\\\n",
       "aXjjiigaLhTBbDdZMYODk/xUjc/m7B3NTDzZjoYZDj8smZs0g7Dm2Vso+vhpXJpBgyrEp9q67O5N\\\n",
       "/fvo7bm/h+87j+LITnN/4g/eO01/I6eH/PyWJWAhhBCDRKY9egPVHVrz7C3MqN7L8bK/J2tlA4fK\\\n",
       "FMfHmpMADUfpxLrv+qxyDGUuCQM0ZM0wO3qzZnDQPxYDiKGRRRy3ZpDlilIc2UnA1crZNdv51F8K\\\n",
       "KIy3omng9of5sGSuPSdQAzxxRdStsbMswMufGU9uJI4/YjB1vzk6prA1Yoe/I9M6ZhA6j9Zza2aV\\\n",
       "sFCrt5dhMy29py7VOv9c8+wttN1RmLTvMFVxxFw6L47s7PZzlvl/Z54EQCGEEINad80bp6q74OEc\\\n",
       "5wLmUum7Mwr4zZf+kagyz941VEcLb177gaQO3sL2KjNstVfRVBQm7NMJZbuS9gvGlG53/k5IBCYF\\\n",
       "NOW7OVhWR9joOONXA2K6ue/OVXgFKjEfJh5xYRQsYU9xLiG8HJn2dbRDf+LKPx5l5vaQvQcyv2q1\\\n",
       "3axSrwrtUJ0a9KzPpSmrLCl4O4O4c99hpr18td7ZGIl9il2RPYEDQwKgEEKIEckKHhP2PpU2BKbO\\\n",
       "DbSaRBZUGnhcURTQ7OkIaFYzSFjz03xHMXriKA5dizP3QBP+sMGo1hi6Bq7E3sAmRnNk2tcxEkvK\\\n",
       "SplBLy8Yw1V4BSfKr7OrjYaC+pIVLDnnYZac8zDHy/6e5ng29eVfY8k5D1OoXwNAvfGi2bgCTGxo\\\n",
       "Z0GlmRStAHfEO5tc1YRPa6ew6tlOQc/6XPLaDyQFbyuIA3iIEjGSO5ZTTfzBe+h3B7td/pX5fwND\\\n",
       "mkCEEEKcUb3dS9ZfmrLKyE1U3fJTGiOApLmBOO45v2o1rkThr9BotR+f134A3QUF1KMnGjiiibPi\\\n",
       "nPsGrf+C+diWqtXENB2vZhBXGjqKk2qW2WxxDtQ8S9LnZe2ti2aPZf0FebgKdUowH5PrijCjNsaR\\\n",
       "0VlMbGhHc7w3q1GDO4rJckUTd23YQc9qyOiuSSO/anXSXseSNI/pDZn/NzAkAAohhDijMnX7nm7d\\\n",
       "Bc3C9io0l1lZSxd2nMHEakRxVz0LgIFZqavXsxmbeLwVnJqyypiQGAztwiBieAADQ2loKEKJBg8N\\\n",
       "iGvmiJZ2dJrj2WYjiR61l5FT7wM69taVtdURPpbDTl4BHrYHV+8tzuLAvGuh0rC7p913FKKhUZ9V\\\n",
       "TmGiegcQV7q5Z/GOYvtz6i6QSRfv8CBLwEIIIc6oM7XkZwVN5yBkJ2tpN2y4u61EOgdN+10xSCzV\\\n",
       "ZkU7P1aVfpojif1vDaoQhaI97qF2+t+j3x00TxHRIGRks7MsQJtPZ3dZLsHyZfZju/psar2z7aXi\\\n",
       "GR+3MPmAGUGtwdWF+jUsfumXgDnEOa/9gL1frziykyxXlLDKwnvPSfz31psVwF7sweuvPZnizJIA\\\n",
       "KIQQ4ow6UwEi3ekgTtbw4vryr3V7rdRB07VpBh47mxms/W8+ZZ7eEcVjv19nAD4w71p++8lxHJh3\\\n",
       "LWOqnjPDJcnHsVkdt5E7R9N+xxhU6ac5nNg3qAMzqvcm3WtqU0WwfBltcbcZQtPcd08CuXTqDj+y\\\n",
       "BCyEEGJYspYyrT1zTVllPTp71lo6Dmt+CrT6pDl2XQ08Trc0mvq1TsvSz95CflUTwXKjU9OJxeq4\\\n",
       "NRmMqXqOKB5qs2aTl2Ywdupr2nv/gIlp7rsne/DO1LK9OHNkEHQfyCBJIYQY/Ho7SNp6vNWsYSjQ\\\n",
       "7w72y71Yf7bGpViBLrUCWFj1LC7NwFAuFAq/K5b0fvq7scZ5feCMvVZ/VYnl57csAfPv//7vTJky\\\n",
       "haysLBYsWMAf/vCHgb4lIYQQp5FziXPtB9/mV+tnsvaDb3f7+HpVaAez7pZAM30/9eupy63B8mX2\\\n",
       "HMDUsSuWkq89gv/eerz3nORE+XUAnfYJFlY9a+937Op+TpVz2b6/5/bJXMAzY0QHwP/5n//hW9/6\\\n",
       "Fj/4wQ/48MMP+eu//ms+//nPU11dPdC3JoQQI97pCjHO8BKvf6XT6Riprwdm88SYe/bZc+y6CyWZ\\\n",
       "vp/69dT9jyVfe4Qj076edg9euvdfWPUsflfMXia2vq9hzpWx/tufIaq/m3is6zdllcm+w340ogPg\\\n",
       "qlWr+Id/+Af+8R//kU984hP89Kc/pbS0lMcff3ygb00IIUa8/ggxrsIrCMbd9ukYzpDV1et1F3oy\\\n",
       "fb8nYSlTU0y6Ezp8urkX0KUZTNj7lP19qznFqhCeakjrSeju7yYe6/q97U4WvTNi9wBGIhGys7NZ\\\n",
       "s2YNV111lf31m2++mS1btrBx48ZuryF7CIQQov+cib1gzj151pDngR5QbUl9/879ghHDQ5Yrap/7\\\n",
       "25P7XfvBt4nXv4Kr8ApzyHQaztfo6XX7S3/+/cvP7xHcBXzixAni8ThFRUVJXy8qKuLo0aNpnxMO\\\n",
       "hwmHw/afm5qa+vUehRBiJDsTJ0Q4O2a7e73TEUh6eg3rcU1ZZeRXrabmWcBxr9D7Rgxr+TtYbw6O\\\n",
       "TidYvoycvU9lPB3lTJITQvrXiA2AFs06jydBKdXpa5b777+fu++++0zclhBCiDOgNyHjdIxCsa6R\\\n",
       "s/cpap4lY3izHxfZie6CnL1PcWTa15OObOvJfTsD5+TwWD5Rt4OPxs7J+PiSrz2SdPSchK/ha8QG\\\n",
       "wDFjxuByuTpV+44fP96pKmi5/fbbufXWW+0/NzU1UVpa2q/3KYQQYnBwVgubErMFnTMCLZlGpgAU\\\n",
       "ErG7fruqsDmPlSvu4rzi7jhDaz6Q7TI6DY5OJZW3kWHENoF4vV4WLFjA+vXrk76+fv16zj///LTP\\\n",
       "8fl85OXlJf0SQggxMjibH6xQVhzZ2elxVugaU/VcUqOGNdA5Ynh63BiiSj9NxPDQFnefUtets6PW\\\n",
       "TaTbY+ZATv0YKUZsAAS49dZb+c///E+eeuopPvroI2655Raqq6u54YYbBvrWhBBCDGK1ibN+a72z\\\n",
       "O33PCl0KhZ4YJB0sX2Z//UT5dT3uos2vWk2WK0oM7yntO3R21KYeSdfVa0r37fA3YpeAAf72b/+W\\\n",
       "+vp67rnnHmpra6moqOC1115j8uTJA31rQgghBoFMTRvWsu/ENM+xllDTPzfz0mq6Lt10x8udynsY\\\n",
       "Q9SuInZ3ndPxmmLwG7FjYE4HaSMXQojhrbfHyPXFr9bPNLt0426uvmT3abvumXwPQ4X8/B7hS8BC\\\n",
       "CCFEV/r71Aun1CHVp0tv3oPs/xs5pALYB/IvCCGEEOmciSHW/WGkVAvl57dUAIUQQojTxqqgFVY9\\\n",
       "m7GRoj+rbH299pmseIqBNaKbQIQQQojTyeqgbY93jHpJbaQ4HQOlu3v97gZNZyIzAEcOqQAKIYQQ\\\n",
       "p0lPRr2cripbumpfsHxZyqBpIdKTPYB9IHsIhBBCDJRM+/WG6v7DM0l+fssSsBBCCDFg+hLWMs3r\\\n",
       "k2Vc0RNSAewD+ReEEEKIvhgpXbeDjfz8lj2AQgghxICRrlsxUKQC2AfyLwghhBBi6JGf31IBFEII\\\n",
       "IYQYcSQACiGEEEKMMBIAhRBCCCFGGAmAQgghhBAjjARAIYQQQogRRgKgEEIIIcQIIwFQCCGEEGKE\\\n",
       "kQAohBBCCDHCSAAUQgghhBhhJAAKIYQQQowwEgCFEEIIIUYYCYBCCCGEECOMBEAhhBBCiBFGAqAQ\\\n",
       "QgghxAgjAVAIIYQQYoSRACiEEEIIMcJIABRCCCGEGGEkAAoxSD2+dh3zX9rA42vXDfStCCGEGGYk\\\n",
       "AAoxSD1heDk2qoAnDO9A34oQQohhRgKgEP3sVCt5N+gRihobuEGPnPZrCyGEGNncA30DQgx3diWv\\\n",
       "sYEbe/G8G5dclvT4x9eu4wnDyw16hBuXXNanawshhBjZJAAK0c9u0CM80U0lD9IHPCdn2CPx2LNC\\\n",
       "QbYkXkMIIYToKQmAQnSju2DWndRKXiap1bzU13UGSeuxW4CtVy3u9T0JIYQY2WQPoBApUvfV9aQZ\\\n",
       "43TsxTsrFESPxzkrFEz7ujcuuYytVy22w2CgNUSrxyv7/4QQQvSaBEAxoqULbqnBqyfNGNZz7s0Z\\\n",
       "y/LnXjqlMLglNx/D5WJLbn63r3vjksvIjkRozsmVLmEhhBC9JkvAYkRL10SRumevJ0u4N+gR7o3H\\\n",
       "MVwu1hdPwnC5et2Y0dvX7eneQiGEECKVBEAxop0VCrI+kM9ZoaBjz13X++rS7Qm8ccllyY0Zufk9\\\n",
       "avpY5coFDc5vqEt6zvyXNnS75zBTQOzrnkUhhBDDnwRAMaI5l123GKQdqZIaqDKNXulps4flCcNL\\\n",
       "c14uAOt9frtqCOnvI929ZLqujIYRQgjRFdkDKEYU556/x9euo9XrJdAS4gY9krGxoqd7AnvbCHKD\\\n",
       "HiHQEiLQGuKS2mr7ml3t/etJQ0pP9iz2lQygFkKIoU0qgGLYc1bN7GaNeJyc9jaas3MpamzgxqsS\\\n",
       "g5Vf2pConkV6vSfwVCpv2VEz8JHnZ4tBl9dPdy/p9LYSeSqkyiiEEEObBEAxLKULfVZwspo10OhU\\\n",
       "KUsXsJyBqqslWOdze7tUC5mXfZ16ei/pPocbl1x2SvsD0z1HGlCEEGJokyVgMSw5l0qdS6I3LrmM\\\n",
       "O1rqKGps4NZYyJ6rZ7EHLhvp5+t1tQRrzekDuDdnbK+Wak9l2dZ5L5mWZFPvtydLyF29Tup7lSYT\\\n",
       "IYQYmoZlBfC+++7j1VdfZcuWLXi9XhobGzs9prq6mn/6p39iw4YN+P1+vvKVr/CTn/wEr1dmqvWX\\\n",
       "M9md6qxQOTt0Wbuu2+7ZVk8uzXm5SdW4x9f2/Oi1JwwvhstlD3XO1NGbeh/W7xetfpVd4yYw6/gR\\\n",
       "3lp2eY/eY6ZTRJz3a+55zLX3PPaUVPuEEGL4GZYBMBKJsHTpUs477zz+67/+q9P34/E4l19+OWPH\\\n",
       "juWdd96hvr6e5cuXo5TiscceG4A7HhnO5L6x1HCV6bWdo1hw59KcnUugNUSgJUSr16ysOTt/t9D9\\\n",
       "0WvOwLRq9Fiac3JZ1RJKe7xbqsfXrmPXuAmgaeZ/u/A/jzzAzHHjuPGFF8yA6whp1v2u/ck9nOWB\\\n",
       "G996i/JX37HfX1cBPPUez8SeQiGEEGfWsAyAd999NwBPP/102u+//vrr7Ny5k0OHDjFhgvlD9uGH\\\n",
       "H2bFihXcd9995OXlnalbHVEGspKU6bWdo1gCLSF7GbYjMJrNID2999Tw9MC6PwPQnJ3D5HV/JpI7\\\n",
       "DqXrGUfNtHpyQdNAKWYdP8Lja4+lDYyLFi1i48aNAFx77bW88MILSde7QY9w+799i+C7G9mYeDzf\\\n",
       "+aH5TdX1ZyUNHkIIMfwNywDYnffee4+Kigo7/AF87nOfIxwOs3nzZi666KK0zwuHw4TDYfvPTU1N\\\n",
       "/X6vw8lAVpLSvfbja9fR6B8FSuGLhLk1HrK7gVm7jlUpVcCuZgMuf+4l1hdPwuMbRdiXZYcnbyxK\\\n",
       "2OcDTTP/C+jxuB0k7eDn7ag+2vsVl13OfLsruSOMOcMfwJo1a+wQaHnzv58i+G7HYzZu3Mj0E9+k\\\n",
       "6N6fdhtincOxhRBCDE8jsgnk6NGjFBUVJX1t9OjReL1ejh49mvF5999/P/n5+fav0tLS/r7VYeVU\\\n",
       "Z8f118y5JwwvYV8WaBpRtyfpezcuuYzsaITm7PRn7VpVslXuXOa/tIHXJ0zGcLmIeLx2gHt87TrQ\\\n",
       "wBduxxduxx2LohkGM04cZZU7l/JX3mGVK5djowpAmR3J5zfUJb1O6mzC1PBnWbNmDbl/vZjyV95h\\\n",
       "wcILWLNmTafHfLxjO6Mfvafb/ZepZxILIYQYfoZMAFy5ciWapnX56/333+/x9TRN6/Q1pVTar1tu\\\n",
       "v/12gsGg/evQoUOn9F5GqlPpQO3L87pjDWLWDMM8hSPRTVv+yjuUv/oOZ4WCGQc+t3q8+MJhQlnZ\\\n",
       "HBtVgAI0w+DSIwfNvX+uXO7JHUdzdi5Rt4fbwo0UhppRus6eMeNpzs6lOSfXHkVza9zsSN6Sm5/U\\\n",
       "2bvKlUuzP4fmnFxu/bfb04Y/S8s7b/Lx1Yv54I9/yPiYjRs3msvBZA7WqR3JvQ3gMiRaCCEGvyGz\\\n",
       "BPzP//zPLFu2rMvHlJWV9eha48eP589//nPS106ePEk0Gu1UGXTy+Xz4Est4ove620eXqUGiv/YO\\\n",
       "Wsu6qTMDrT2BWyKRpIaP1OVazTBQug5Kga6DYfDpPD8P+Ebby70oheFy8YBvFBGPF1+4nUV1tbxb\\\n",
       "MBYU3BoPgY7doXyDTkcDiSsREhO00YUZ30sFFVRSCdFo8p/TGDduHJB5r19PG2gykT2EQggx+A2Z\\\n",
       "ADhmzBjGjBlzWq513nnncd9991FbW0txcTFgNob4fD4WLFhwWl5DdNbdHsDTdcZuqu46b51BsNXj\\\n",
       "xR2NEne5Ou2Bs+7PahZp9GebS8hKgaaZzR2Gl7CnYznZHYth6Dphb2IfoNfHp/P8PHP5Qvsx1j6/\\\n",
       "Va0hsiMR+z5XvfqO+QClCLS2EPjeSg7pOuGN65PuaznLWcEKnuRJVrOaZSzjeq7naZ7mGZ5JemzO\\\n",
       "wou46O++DvQ8WPc2gMvYGCGEGPw0pVQ3PYFDT3V1NQ0NDfz617/moYce4g9/MJfEpk+fTm5uLvF4\\\n",
       "nLPOOouioiIeeughGhoaWLFiBVdeeWWvxsA0NTWRn59PMBiUzuHToL/mBFoBK9ASIjsaMWfj5eYn\\\n",
       "jUxxdv5alb1Aa4gqR1CzGj1mnDjKSZ/fvo4dBA2DQHsrbR4fMY8HlMIdixHzeNDjcQxdB01L6jQ+\\\n",
       "KxTk3dFjibjdRDxelK7jC7cTdXvs13Ge4rHKlUvtg3fS8s6bgFnpe4yO/80GCZJPx969m7jJrgT6\\\n",
       "LryEUXf9mKLGhrSVzTMxn1EIIQYD+fk9TAPgihUreOaZZzp9/c0337T3P1VXV/PNb36z0yDo3izx\\\n",
       "yv+AhoaOpVsvzdm5dsWuqLGBVo+X5hxzOPKt8RBPGN6kyp4vEmZRXS1bcvPt5+uJo+T0eJxLaqvt\\\n",
       "5Vw07E7eFp/fPG4u8VpWqNTjce5oqbPDpvNa1n9VopqoGQa5ba2gwfkNdUn3ELrzVjsEWhW/VFZF\\\n",
       "EDrCn2YY3Bk6nhT0rIBs3VtvZgQKIcRQJD+/h2kAPFPkf0A9cypn1vblWl09996csRgulx2uIm4P\\\n",
       "YZ8vqdr3+Np13B0oMufxgR3OAi0h8/Eej/m9xLy+1KqeVVm0XkuPxxnbFOTYqNH26R6Pr13HKncu\\\n",
       "bR4fcZeLmXW17B9VSMTjJbetlebsHPREc0rqPWRHI7R6vHx89WJ7z9/LvJxU+QsS5EquBMDr9fLT\\\n",
       "F9am/dweX7uOB3yj7CXq1OpgKissOh8noVAIMdTIz+8h1AUshq6edPH25FxbK8CdSkewFVIuqa0m\\\n",
       "0BoCoDknl4jHQ6A1xPkNdXb375+a2vBFwmYFMNzOjBNH0QyDiNtDxOMxGz6UssMfhsHxvFH8T1s8\\\n",
       "6TVz2tsItIa4pLaaY6NG26d7TPj9Zv6nLU4oK5uYx4PSdfaPKiTs9aF0nebsHHNPodWRrhQzThw1\\\n",
       "u4792YwOt1H74J12+FvGsqTwB5BPPsswm6YikQj/+dCPMn7u1igc53zCTJwdwtbfkzXK5nR3aQsh\\\n",
       "hOg/Q6YJRAxdPWkK6OpcW4vzjF3ntZwVKOtxqdUo51Fu2ZGIvRSsdJ3sSIR3E0e2AaxPLN9aQeee\\\n",
       "scUoXTc7e5VCMwy8UXPAs2YY5pKtdXSbprGqJWQvB2uGwbujx3ZUCwHD5bIfawl7vB0VR8MAsKuG\\\n",
       "aBqHc/OJJMLin554lLBjD6Bz+de5B/B6rqcy8f8++OMf8Lkf4Imbb7PPRb5Bj3CDDqsSlU1vLNrt\\\n",
       "36WzIcfeW+kYXi2EEGJokAAo+l1PuniTHpNyrq3FGRLThbsnGhsA0obH0eE2jinF6HAbf+t38URj\\\n",
       "g93EMTrcxrH80YA5y++S2mq7SeQJw2zMADq6fYEpjSc46fPbewhRyl6ybfP5iOvm0q1d0bOqhY7r\\\n",
       "WIHQWk72hdsJe312s8jx/FH2c0L+bDSlOHn395K6gCup5GmeztgF7BwFE964nmBbC6vufJDm7Fwe\\\n",
       "CIcZ1dbCrYR4Ipp89J2lq+XdpL+Pq2TpVwghhhLZA9gHsodg4FmdsWhwa8xc2k0XWCb8frPdlHFX\\\n",
       "87GM35t1/Einzltrht/Mulq7cqcZBuOaGpM6ih9IHAOHYXQsE6cOFleKzx0+wJbcfI7njbLDpS8c\\\n",
       "xhuPmpVJx2Pta2gajSnhzyl17l9XcwBzFl5E7j2r7Pu0lsDXF0/iktpqnrnuKvuxsudPCDEcyc9v\\\n",
       "2QMoBrGenCjxhGFW4LIjyWHkT01t9nMfX7sOTyxmh6lVrtyka1xSW21/b8+Y8UlHvAF4YzGUrnM4\\\n",
       "N5/PHT6AHo/jMuIcG1XA6xMmc1YoyCpXrtlIAeiJ4KZZ/7Zy/BvLFwnz6Tw/rV4vrngcDANfOMxt\\\n",
       "4ZNmJ7GTpnUESUA1nMj4OdhhL3GkXabwBxBpCpojauKJPYuq4/i39cWTkj7vs0JB9Hg8aSZi6p5O\\\n",
       "OflDCCGGHgmAYtDqSfOIdZxboz+b8lc7ztZdXzzJfu4qd27HyRwAGklHvgH4IhH7nN5AS8g+4u0J\\\n",
       "wwuJIl7E7WZLbj6X1FYTcyzxri+elDjWTbPHuFiVv0BLCHc8Zoe4uMvFKrd5kkjM4yHQ1srByz7F\\\n",
       "jUsu49a4eSydzbFEXNTYwKT7/w+eeZkHlS9dupR5L6zDd+ElGR/jmXcOBT/9L9A04omu4vNP1tHo\\\n",
       "z7FPLXF+3unOBU49Kq6/juoTQgjRfyQAikErNWikc+OSy8iORgj7sszl08TZupfUVnc816qsKWXO\\\n",
       "+4uF7Mphc3Yur0+YTNhnduCe9PnJjkbsI97OCgW5NRYi0BIi7PVxbFQBv5tYZlbmEtf0xKL4wu34\\\n",
       "wmFy2tuYWVebaBSJgAYxd8fJIDHdRbM/p+MNaB0VNIBLjxw0l2ZTlo9bvV7Ob6jjEyt/zPQ5czt9\\\n",
       "DkuXLuWFF14wP7Pb7k0bAr1zz2bcQ0/YS8tK10GD9cWTzICcphM43d/BjUsuY+tVi+2K6w16hEBr\\\n",
       "iFaPV6qAQggxREgAFINWatBIZQWns0JBAi0hAq1muNt61WI+nee3H3drPIQej4Oukx01l4pv0CN2\\\n",
       "tc0bjeALt6MZBmeFgtygR8zHaxpbcvPtkGkHMmcDBxD2ZRHxeIl4PDTn5LJnzHhy21oTw6TNxhLn\\\n",
       "zEDr95phcH5DnV21XOXK5a2xxWa4TGkYac7OZUtuPluvWkxV5TYuvPBC+/XP+cxf88ILL9h787yx\\\n",
       "KKPu+jE5Cy+yH+OZt4CCR/7TPKFE0wi0tlDU2AAKey6iL9xOTritV38H1mOyIxGac3JPaTyPLB8L\\\n",
       "IcSZJwFQDBq9DQP2aJfcfKquWGgPci5/9R3uyR1nL0veuOQyLqmt7rSXLbe9lUBLiNvCjYxqa0Xp\\\n",
       "uh347mipS6p8WVUuZ/DT43ECrS12Nc2qGhouFxG3h6LGBs4/WZe8tc9R1VO6zrsF5jFwAM3ZOfY+\\\n",
       "wqTHJyqCjf5s+7N56623mD5nLvnnX0jF9beY8/jcZpCMuD3moOuVP8F34SV45p3D5B/9lEuPHCTQ\\\n",
       "GrKXfQHOP2m+z0uPHCTq9tCcncsqV26vQ1lPqrXpyPKxEEIMDAmAYkCkC3u9CQOPr11Hq9dLoCWU\\\n",
       "FDqeMMyj0qxj16zvvTvaPJXjrbHFlL9iBkSr4/YJw2suEyfGxDhZzSR/amojOxLBHYsB5p7BI59d\\\n",
       "QEuWv3OnLwCKrVctNvfOWcvFKZXDxMOwNxk6q36OBhJfNAqaRtiXxROGl0WrX2X8hg8JPfo0WT/8\\\n",
       "Kb+bMJljowpAQaA1ZM8LRNcZdeeD5p6/RKPHrbEQVVcsZEtuvh2erfu0ZiyikfT3sPy5l5jw+80s\\\n",
       "f+6ljH8fPakUpnOqwVEIIUTfSAAUAyJd2OtNGLCCnrWk67yGVeVKOtfWauRIzO2zAmLE7eHYqAJ7\\\n",
       "4PKeMeOT7s9qJrH+64+GKWpsYFHdEea/tIEZJ46aYS1l317Y62P5cy9xgx7BFw7bgU43DAItIXyR\\\n",
       "iH3+cFxP+T9DZ6DUNMJerzlnMB6n1eO1R9Eox5K0L9xOxO0mlJVtnyMcaA3xucMHKGpssN/nKndu\\\n",
       "p896+XMvcTxvFL5wO3e01HF+Q11StXR98SS7Q/h0O9XgKIQQom9kELQYEOlOB+nJwOiunt/VNc5v\\\n",
       "qGO9z8+ME0c5nJtvzw1c5eroELaGQMMC+/rWnL/U/9onhzQ2cHTx2fbZvhGX2z5Xd33xJD7dUkfU\\\n",
       "7bZDndI0sqPmfrlRbS2gQ8yd/H+GvnC7eTKIJfFcQ9dpzsk1zwXWdXPwdGK/YMTTMbBaMwxy21u5\\\n",
       "NRbixsRMv8nr/gRAxOXu9Dnd+/vNKF0n6vZw42WX8cRLG5I6fy+prbZnBELmLmQhhBBDhwRAMSB6\\\n",
       "E/ZO9flWU8RZoaBdxTrp81N1xUL7MX967iV+lzh7d1zwZNIQZIBP5/l5ZknHAOR7E9dJPf7MqkgW\\\n",
       "NTZwVl2tHZhWFYy1h0wDuOJxGv3Z+MLttHq9PODKTloa9oXDdkcukLQUbHXp5oTbaM7OtcMfSuGK\\\n",
       "x4klKn/eqHnU3aoWuDFx35HccYA50zB1kHNqwEsN1x2fSe/DnwyNFkKIwUlOAukDmSQ+8FIDhvPP\\\n",
       "1jKuHo/bna7eaARvLMat8RA3LrnMPulCj8e5o8VsjFjlyiXkN5dSnSdglL/6jn2+752h40mBZvlz\\\n",
       "L/H6hMm4EkOiQcMbixJxuwn7sgi0hMiORsy9emAHOs0w7OaRpE5hx2NSTygBM3CODrfZy8GB1hAR\\\n",
       "l5uIxxwwHfN4wDBwG3FiLrcdHu9oqbM/F+d768lneyrSnSQihBADTX5+yx5AMcSl7iV0/tna5zbj\\\n",
       "xFH0eByvNS8wJ5d7c8by+Np1iT167Ri6zgO+UeaQ5sQeQc0wkmbbWcun3pR9h4+vXcf64kkoXSfm\\\n",
       "8RD2ZRH2+WjOycUbj1HU2MDEUJDjeaOShjtrhmHPDNScx76l/ptM09g9tphWr/kerX1zf+t3EWht\\\n",
       "sY9yC3vNWYZxq5lD180ZhIlr5oTb+FNTG43+HDTDYHQ4+bSUvjTlZCJNHkIIMThJBbAP5F8QA2/5\\\n",
       "cy8lnWGbrmplVaHcsahZDVPKPgP31liIuwNFdtVNMwxc8Thxl8uupAVazM7Z8lfeoTkn127eSF1e\\\n",
       "dp7dqxsGhqbhi0a5LXySe3LHJVf6AHcsiqHp5nMtjqXeGSeOsmtsccfsQMwl4qjbzSW11R37EB2h\\\n",
       "EqXwRcIsqqs1B1anVBOtaihg/76osQEwO38DrSGyIxHOCgV5d/RYe6+kLN8KIYYT+fktAbBP5H9A\\\n",
       "A6+rJUbnHsAtufkczxuVFMKSlmWt8JZmOVYzDMY1NdrXuUGPsMplVgqdS7juWMxceoWOr2OeTNLo\\\n",
       "zybsy8IdjRJ3uczvGUan15t1/Ah7xoxnxomj7Bkz3g5rVmNHc1Y22Hv9oslH3IF9raJEA8vrEybb\\\n",
       "R9Pp8bgZHAvGgjJnAFrvB8yKX2uiS9oZDrdetfiM7uWTfYNCiP4mP7+lCUQMcakNC1Y3LgpInLn7\\\n",
       "et4octtbmVlXa++ZM0/nwAx1iev8qanNrppphmGPWVGaxrFRBbzr9ZIdifA/bXGax5nHuXmjUXNM\\\n",
       "S+JsXSv4WXsN0WB0uI1j+aPBMHAZBtMbjrNnzHiUppljABOhzRcJc9Lnx3C57PCX1NG75DImr/sz\\\n",
       "YZ8PbzSKN5YIgI4KoDsWw9B1zgoF7eaN1CB8foMZ/JwNLtDRMPJEYySp63n+Sxto9eTSnJfLE40N\\\n",
       "fWre6Ql76fkMvJYQQoxUUgHsA/kXxOBjVQTBHKcSdXvsKpq1F+0Jw0urt6Nr16pw2cu0QKAlxMRQ\\\n",
       "kF3jJlDUeJLG7Bw76Dkrdnc1H+NPTW32MvSn8/ydmlKcS8xA54YPpSgKnkyqxJ0VCpqnhLisf6Np\\\n",
       "WIcae+Mxzm+o492CsfbcP+u67niMmNuTtFRsBUHrs7FCaqA1ZJ+e8vjadaxy5dpLvtZ9WJ+TtTTc\\\n",
       "26rcqVTzpAIohOhv8vNbKoBiEDuVIHCDHuEex/KrJxYjnNiLZ13HWelyhi7nHL1b4yFuXHa5fR93\\\n",
       "e0fbYc1a6vVFwoB5wsYdLXX2zD1n1coMVVqn0Gft8ds9thhvNPk+btAj3HjdVcx/aQPNo3I7vUdv\\\n",
       "S8iuVLpjUfxtrTQnRtnEdXPZ1lru/t3EMpY/9xLPXHeVXS21lqNRHZ9xo3+U+TXgiUbzXo6NKiDQ\\\n",
       "0jHu5sarLuv130u6al53z+/riCAhhBDdkwAoBq2eLgV2ChSJP1vVK8AcxhzueE5qyDgrFOT1vFF4\\\n",
       "oxEW1dXyRG4+f3ruJbbk5tPqzU3ao3c4kE/EiOONx8yu4ezcjAGHxMkbqeHvjpY68Lu4VynziLc2\\\n",
       "s9PWer+sXUejf1SnBo9Aa4tZDExUFOO6i6orFnZqhln+3Et2SPzdxDLKX3mH85vaINfLorpae++f\\\n",
       "9RlrhmG+jGF0hNGU4NfbvxdIP7BblniFEGLgSQAUg4pzKfJ8x/68rqQGCmeVb1UrhLKyMVwunjC8\\\n",
       "GQPHltx8lK4zqq3VPid3fSDf3odnd/76/DRnm00SYV8WGAaaYdjHpj2+dh335pjDn59obODWWIgH\\\n",
       "wuZ8vpl1tfYsP2sGoXX9Vo+XiaEgdYkj2J7IzbcrctZ+xEBrC1VXLOTxtet4IGyeOKIwO6E/nedn\\\n",
       "S3OQT+f5eXztOrbk5jPr+BF7z2NzTi7rs8z9hVugo2Fm7bqkE0+cVblMn1WmU1jSSVfN683zhRBC\\\n",
       "9A/ZA9gHsofg9HPu4evp8ODulhR7smSZVLWDTiNerGVQq8HE2h9oVeKskTJW+HM2bzgHUjvPJ7Ze\\\n",
       "0+q8dXbwWq9lzx6MxzqNY5nw+80YiZl/Y5uD9hiXlkQjSVFjg31tzTC49MjBTl2/ss9OCDESyc9v\\\n",
       "GQQtBpkb9AiBlhCB1lDGClHq0OIbl1xmL2c6BxlbrMHJmcLh/Jc2AB1VMSsYPXPdVdzRUpfUPNKc\\\n",
       "nUt2NMJJnz+psSPicnNP7jjHiSNR8zg2dy436BF7rIpzqLJ1XxNDwaTlYet9Z0fM/1r79VLv/5La\\\n",
       "ansvYavHS6A1BIqkquL5J837vzN0nGeuu8r+HLob8pxuMHRPvieEEGJokCVgMaj0pAEg3R6yU91X\\\n",
       "lvq8TMvJgL1cagW0VYnj17zxGIC9ZOuNRoh4EsFKwZ+a2lC5Gu5olFZvR0i1guaeMePtPX6X1Faz\\\n",
       "avRY+yg6a28ejiZii7O7tzkntyOoNkbsyt+WaCSpimotsUf82V2G7K4+T9nDJ4QQQ59UAMWQYx0v\\\n",
       "Zs2os450y3TkWKaK1eNr19mVM+t56a5tcVYSb1xyGVWXL+TgZZ82x6Yo85SOQEsIbzyG0nX0eJxb\\\n",
       "46GOY+Lcbrsq6KzAWZW8zx0+wJbcfPsoOj0e59IjBylK7CXs6vMItITso+K2XrWY80/WoSf2Ezo9\\\n",
       "YZjB0KoqZqqadvV5yvFuQggx9MkewD6QPQQDy9ovmLq3LtPjnHsKnc0a6fYadnXCSKbroxSfO3yg\\\n",
       "0yxAq0NXaRpK13FHo/ygrT7tHrzUeXzO/YLWnsB0+wFTPwsrYKbev/P6QNIsRCGEGCnk57dUAMUQ\\\n",
       "lmlvXbrHWRUrqxq4ypVrN1D0tcp1gx6x9/CtL54EQKvXyypXLo+vXWfvJbROFom7XBn3Jd645DJu\\\n",
       "jZtDl//U1GZXIVe5zHEzYV+WOXYm5f2mfhap9+/c61h1xUKqLl/IrbFQp8+lJ/v6ZA+gEEIMfVIB\\\n",
       "7AP5F0RmZ+o0h96+jlUpSz3Zoq/365zD927BWHv+oFVdS60SWvv30r0PZ9ew3c1rzTRUCl8kAii8\\\n",
       "sZg5sDqlqzjde+iuonkqFU+pHAohhir5+S1NIKKfnKlGgd6eGnFWKMj6gHkerjOE9fV+O661gPJX\\\n",
       "3gGShyo7Z9/dmBL+nK+/qiUE7o6j6PaMGc/ocButHi++cBhvLAoaiWog3Bv3Q0pTSboA293svd7M\\\n",
       "5pM5fkIIMfRJABT9YrCGhC255nDnLbn5SV8/1ftNV3W7NR6yj5mzhyp3E1StYBpxuwn7sihqbOBk\\\n",
       "Yp7fnjHjzfOMlSLs89ljcpwDroEuA2x3r9+bIC1HtQkhxNAnewBFv+hq9l5/6Om+tK72xp3K/aab\\\n",
       "p3cq790Kpt54zL4/616tLmFrTuCt8RBVly/k0iMH7U5fZyew7M0TQgjRHQmAYljobrCxJTWc9WUg\\\n",
       "MqRvFjmVJgnrOrfGQkmjZm7QI2zJzeeS2mqKGhuSup2d1cwbl1xGdjRij5mRJg0hhBBdkSVgMSyc\\\n",
       "6hJud8/rbm9guuVQ536+J17a0KPGkkzLqta1tkCnhovUe7f+3Orp//2XZ6rJRwghRP+QACiGlEzB\\\n",
       "41T3pXX3vFMJlnYQ86YPYr0JT129fuq9W39+fO06ew9if5HTQIQQYmiTACiGlDMVPDpCWufKW3e6\\\n",
       "C2K9eQ+nEmxPR5NGdyF1sDb5CCGE6BkJgGJIOVPBI1NI6031LlMQGwrh6VSWvoUQQgwdEgDFkHKm\\\n",
       "gkemkHY6KpBDITwNhZAqhBDi1EkAFCKN01G9G8qNEkMhpAohhDh1EgCF6IXeBCNplBCD3Y+f28p/\\\n",
       "7zjM382ZyPeumz/QtyOEOINkDqAQ/STdjMDh4lRmHYrB5793HCaI4r93HB7oWxFCnGESAIXoJ92d\\\n",
       "CDKUQ1RPB2+Lnvvxc1uZf9tr/Pi5rWfsNf9uzkTy0fi7ORPP2GsKIQaHYRcADxw4wD/8wz8wZcoU\\\n",
       "/H4/06ZN46677iISSa7CVFdX88UvfpGcnBzGjBnDv/zLv3R6jBB91VXIG8ohajhXNwfKQFTjvnfd\\\n",
       "fLY+8AVZ/hViBBp2ewB37dqFYRg8+eSTTJ8+ncrKSr7xjW/Q0tLCT37yEwDi8TiXX345Y8eO5Z13\\\n",
       "3qG+vp7ly5ejlOKxxx4b4HcghpOu9gEO5U5baRI5/f5uzkR7P97p1pu9frIvUIiRQVNKqYG+if72\\\n",
       "0EMP8fjjj7Nv3z4Afvvb33LFFVdw6NAhJkyYAMDq1atZsWIFx48fJy8vr0fXbWpqIj8/n2Aw2OPn\\\n",
       "iJFlKHcCi8Gjr6Fs/m2vEUSRj8bWB75w2h7bX/crRH+Tn9/DcAk4nWAwSEFBgf3n9957j4qKCjv8\\\n",
       "AXzuc58jHA6zefPmjNcJh8M0NTUl/RKiK859gEN5z58485x7AnuzPJxuL2Fv9vqdjn2B/bmcPRB7\\\n",
       "JYUYjoZ9ANy7dy+PPfYYN9xwg/21o0ePUlRUlPS40aNH4/V6OXr0aMZr3X///eTn59u/SktL++2+\\\n",
       "xfAzlPf8iTPPGaJ6E8rSha+e7PWzghXQ6bFdha6+Bs7eks5lIU6PIRMAV65ciaZpXf56//33k55z\\\n",
       "5MgRLrvsMpYuXco//uM/Jn1P07ROr6GUSvt1y+23304wGLR/HTp06PS8OTEiSOOE6A1niOpNs4b1\\\n",
       "vBm5/rShLVOYSw1WPa1AnmrgPFWp4VIqgkKcmiGzB/DEiROcOHGiy8eUlZWRlZUFmOHvoosu4lOf\\\n",
       "+hRPP/00ut6Rde+8807Wrl3L1q0d/z+MkydPUlBQwIYNG7jooot6dE+yh0AIkc5g2ANn7eXTFNxY\\\n",
       "UWLfh/X1LAU+rSNgpt6zcy+gs0El9f109177+7M4HXsWxcgjP7+HUBfwmDFjGDNmTI8ee/jwYS66\\\n",
       "6CIWLFjAz3/+86TwB3Deeedx3333UVtbS3FxMQCvv/46Pp+PBQsWnPZ7F0KMLM6q2PcYmAD4d3Mm\\\n",
       "8nhlDUoj6T6sMNeiFO2a4qnKmrT3mBr6Mr2Prr4H/f9Z9Gf3tBDD2ZBZAu6pI0eOsGjRIkpLS/nJ\\\n",
       "T35CXV0dR48eTdrbd+mllzJ79myuu+46PvzwQ9544w2+853v8I1vfGPE/ktACHH6DIZlyu9dN58b\\\n",
       "K0o67cWzlmfdKbtdUpdyT8cy7o+f20pYmdXG/gpo6e7zVD5vWUoWI82wC4Cvv/46H3/8MRs2bKCk\\\n",
       "pITi4mL7l8XlcvHqq6+SlZXFZz7zGa699lquvPJKe06gEEL0RWoo6a5xob/CR1ch7uuJcPj1ihLA\\\n",
       "DGhZCloMxazvv3pK95L6Pv57x2HaNXOpuTdBsq+fx6k0ikhziRhphl0AXLFiBUqptL+cJk2axCuv\\\n",
       "vEJrayv19fU89thj+Hy+AbprIcRw1l1FsC/hoydhKd1jUsPh966bj0/TiOnQnlg27u41unsfvekG\\\n",
       "PtWxN+mcSheyHIsnRpphFwCFEGKw6a4i2FX46C7g9SQs9TRQWVXA1CXbTM/v6n0sWrSI939zn71H\\\n",
       "L939X3vttSxatKjTtWbk+tEUzMj1p73P7j6TU1m+lmPxxEgjAVAIIc6w1MDXVfiwgtHjlTVpA8+M\\\n",
       "XD8oaFEqYyDqLmDO+v6rzPr+qwDsevBydj14edK9ZHp+pq8/cd8/sHHjRtasWcOPfnRT2vB47bXX\\\n",
       "smbNGjZu3MiiRYuSrrUn1IbSYE+oLe37keVaIfpuyHQBCyHEcNFd56xTpm5eMMPb+82toEGMzt/v\\\n",
       "yetZ+/Ss3/fk+c7RLtbolR8/t5XHK2uoff42wocq7ccGd/0BgG/+a8c561b4s2zcuBG4ma1vvWV+\\\n",
       "4Tm67OyVzl8h+m7IzAEcjGSOkBAjx5ma7ZfudTK9tjUDDwVZwNxANntCbd3O64PkgPVUZQ1gNoZk\\\n",
       "ek3nn60KnDVLcEaun/ebWzuFP6elS5fywgsvdAp/ThdeeCFvWSFQiH4kP78lAPaJ/A9IiJHjTA0c\\\n",
       "zjSoOdWPn9vaKbg5hz9/MiUMOu8/rBTtmrnXb9eDl/fo/aYbDG1dR1N0Gf4sLreHeCza5WMkBIoz\\\n",
       "QX5+yx5AIYTokUz73foysqSrc3SBLve5pRux8ndzJqIpUBq839zaqUHDoyCoFNZhhDFIen3n/aS+\\\n",
       "33Tvf24gm3w0PhnIxpM9KuP7rKACwA5/1p/TGTduXI8+JyFE30gFsA/kXxBCiL5UBrt6rrXkOiPX\\\n",
       "n3ZZ11kBdC79AhmfN+X7r6I07CXjdgANPAqqHrw87f0s/eGbvN/cyicD2az5t4sy3vf8217j47X3\\\n",
       "07rrnaT3sZzlrGAFT/Ikq1nNMpZxPdfzNE/zDM8kPdZaJj6dn7EQ6cjPb6kACiFEn/RlflxXz7U6\\\n",
       "g/eE2tJWAq1Q167BpkS176nKGr533Xz+bs5Etje3ElaKTQcb7OrZJwPZaArODWTj0zQShUasRVlr\\\n",
       "DExYKZb+8E3m3/Yam5pbUYnXWPivv2P+ba8xI9ff6b7/bs5Eir50G9kzF9pfq6CCFawA4Hqu52Ve\\\n",
       "5nquB2AFK5IqgZnCX3efkxDi1EgAFEKIU2AtSwJ9nh/nDGmpTiX8WMvD7SlLwWv+7SL2P3g5504u\\\n",
       "oFWZzSMoKHG57fcSIzlUgvkYNKiJxwii2BNq6/Sev3fdfBQw9sqOEFhJJU/ypP2YfPLt3z/Jk1Ri\\\n",
       "7hnsKvxZ1+5qnqAQovckAAohxCno7Sy6pT98kynff5WlP3yz0zVS9+s59eQ4t3MTe/FSj3XLSjSD\\\n",
       "pAbI/95xmKgGaOZScLMRt18/5nyBRPAjsWxc4nJ3GUatCuMXvnoPuMwpY6tZTZBg0uOCBFnNagC8\\\n",
       "Xm+X4S/1s5LZf0KcHhIAhRDiFPS2Mvd+Yin1/ebWpGtkKXA5Tt/oruHB+X2rMpZuj6BPMwPhmn+7\\\n",
       "qFOA/Ls5E7GKe+1AQHfZJ2+cG8i2g58b7Me5gXd+9LmkSlzqvZ47uYA8TeO9/7kb4maUXMaypMof\\\n",
       "mJXAZSwDIBKJcO2116Z9f335vIUQXZMmkD6QTaRCiJ5K10wBJI1uubGixK50ZWp46Go8i/X4Wd9/\\\n",
       "1R7z8vWKkrRz/qzHAHbnsHOunxUq/6OyhqijUcR+nvWTw/G8sFIc+vUDdiNIBRU8RscA6CDBpDB4\\\n",
       "Ezd1WgburuEj00zEdGNxhMhEfn5LBVAIIc4Ia/+dM/xB8uiWrs7BtSpjqQ0YVmVsRq6/U+WsHXPI\\\n",
       "s7Uf8KnKGvsxX68o6bRMHFPm6Jntza121dCVuFY0cQ9x6+KOpeEI5vNq1j6Q1AVcSSVP8zRg7vm7\\\n",
       "kivtPYFP87Qd/gDWrFnDvE9dSlipTmcRO3V1LrH1Pv8jEQSFEJlJBbAP5F8QQgjoe/Up3SkbqRUw\\\n",
       "56kf56ZUEZ3fz3Is7VoBzU3HuZ/tGhmra1Z1z6MgW9MI6C5qEku5zmvFrApgooKIgrpfP9BpBIyl\\\n",
       "goqksJf6Z6fsWQuZvuT2jONeuqoA/ntljX2fBzIMuD4VZ+oUGHHmyM9vOQtYCCH6rCfn6XYl6azd\\\n",
       "58xKXRhzFMv2xJ7BuYFsNiXO/bX2ETpnBYaVwk1y8CPx+5xE4HM+fv5tr3U65s2nabQrZVYCNUUw\\\n",
       "Hut0LQzH7x2/jYcaM74/K+xZJ4FkCn8krpNa/cz4WaV8fdMPG+xl9nRONcg5q449/buV0CgGO1kC\\\n",
       "FkKIPnJ23fb1pJDvXTffDGKJoGcta+4JtVHicoOCiYkOW2cXcbuGuTybOJrt3P+/vfuPraq+/zj+\\\n",
       "Om3pbQulK+lGqa3KNwjMlbEMWFaGc84No50bfwzjV8MwJBIY3WJwA+aWyR/+KGiW7yIT43fBPwja\\\n",
       "uaDODF0ggeHMRCkRpCzK141Ry2iIqYFSoNDbz/ePcz6n557ee3v78972PB8JoZz763POid5335/P\\\n",
       "+/0pLVGB1+al0xjN3bhHktuy5rhXdfz8cXdKeEdLm87L6LwxkuNOR0vuF4RjpDLH8VvG9ASmfiX3\\\n",
       "byOp8v5GxapT7/CxfPlyfenh11Qyd0nK58Sqa1V5f6NOXryc0bUKC7a5SXbNh1pJPNRWPFQtI5eR\\\n",
       "AQSAQQpnd1JlpaS+QGBHS5t2bTqTsFtH+Gebjes2RkWSKvIL1BbvUYGR7p/nTg/Lcdu2SPKnjEvz\\\n",
       "83Um3qPr8gvU2RvX7FK3iMNO1/bKzQxub2mTdvaNrceR3+uvyPR9ng3w1gSms2/cuCdhyteRZLxp\\\n",
       "YMe4P8+4r1HtL27SlbbEDJ8t8Ni685i2m006p/7TxTb4k5G6Zfwq50zvQ/A62msePN/w7iiDke7+\\\n",
       "pmLHQdUychVrAIeBNQRANAUrVYNf9MkCFlv9my834Aru8xv++VjjXQkVvDHHSXgs1bSifU2BkSZ7\\\n",
       "1bjhSl1/zZ7Xz+9MvMfP9Enyz8Wuoysy0ofeOrrw+roiyZ/ylpSwHtAx0sWXH9Gn//7Afd+5t+iR\\\n",
       "R57pF6iZA/+j4+/tk+QGf3Pu36ILxiRcp+A6wGTBnj3PMvWds6183t7SJpPkeo/1VnJMBecmvr+Z\\\n",
       "AgaAQQtOCQ401Xfy4mUZr6eefU3w9emmF8MVvpIS9t61vfiueM/vkRvoxOUGYjYoKzBSXiAYbPOy\\\n",
       "hfKOF3lVx9sDQd5VI38KdUfg+CK7vi4wBVydX6CCXvdn40iT73lCsZpalcxZ4gd//ho6r7H1B+/u\\\n",
       "1fLly3XrrbfqyifHdazxLp3aUq/VXnPr4PXYuvOYtnvT1LtOnPHfT941nT2l2L8GkpuxWxt4n3TX\\\n",
       "eLBT9IPFVDByFVPAADBI4aKNdFN9foawNjEDFJxSDP68yusFaJ+/QfP9DN+OljZt0PyEaeVuKTHD\\\n",
       "Jylf0oO11X7WrsdIRY5XIBLY1k2O1Gvc4+97jart472O3NcHpoyL5Aa0tlL4mvfczt64Juc5fpWy\\\n",
       "HKnyvxu1qLREO1ra/M+/vzbxGiXbAeTw6Q5d8PYwltwMqi1+cUzfe9iqa3t97eN2N5TwtO1AU/RD\\\n",
       "Kd7JBFPByFVMAQ8DKWQAQ5Xp1GBw+tVOy9rXBqd6q/ML1B7vUY/62sTM2rBHPXmS0+tm5vKMG9gF\\\n",
       "K3h9dl1fKJgsMNJqG5QmmX51vD6Ctlq5x0g9eUpsGSMNOI1t+WsNjfTjwFSu/bd9zUDT8IO5vkzR\\\n",
       "Rg/f32QAASCldD3nhhs0JEwN7lTK90uX3Qpmxzp745rsrRm0VbSr51X7jaDlFYMEK3j9Hx335wK5\\\n",
       "Wb08uZlBOUrcGzjw2fYalObn+2OYZBJ7BPYEpomDmTvbrDlZUcwkuU2n5TXGXlha4rd2CW9nl1CI\\\n",
       "o/7XLZPM3lAKPICJgDWAAJBCul0ngseHso5soHWE4Z0/1nrZr607j2nuxj36rw17/MBL3hq+8C4i\\\n",
       "tqVMsPijTI6KJD/DZ78EjKRrNlD01izadjK2Tcz/BnYSsfsQB6uGbeAWnJJ2Qpk765rkT2MH1/c9\\\n",
       "6O1QMslI3cZo0Q3Tku6gYj/f7kuc7voC6I8AEABSSBVEhI8PZaG/LYawgUyRF/DYYMa+p51atWzT\\\n",
       "6d489U3lOtLxzktq9tbxnbx4OSGALPCaN88oKdSxxru0qrba337O9nW2PQMl9+/VtdX9Ai8btNmg\\\n",
       "K1g0EmwRE6w4vi6/ICFIs59tH7+ivmlnm837cEu9SrxeiOFrGgy2g2shwwF48PqGjXbhBzAesAZw\\\n",
       "GFhDAEAa/HqzYD+68Jo2x0hrvanecKsTu4ZuR0tbwo4fwWlT+3obHBWZvt1BHCOd8lq72PY0tneg\\\n",
       "DWaTbWlnp5rzjFTo9O8XmCc3a5hnpFLHrcptDhWVBNvKBKeureDj4Wt6+HTfDh8nL1721/7ZzymQ\\\n",
       "m73MtM1LcP3gWLeFQW7g+5sMIAAMWzjblCrDFNy5I5wxvP9L1/lZue1eEGazdcFso82Q/dg7/uPa\\\n",
       "apV407w2+LNZxTI57hq+QDZu685jmrXRnT423tpBO5V6+HSHuuX2+Hu2pU2zNuzR3I173Cykl3Xs\\\n",
       "UV8FseROFa/xxlIo+WsQF5aWyDHJv2ROXrzclzn0/swLbd8WvKY2mGzuvJSQfbUtdvKlQU33Mj0M\\\n",
       "EAACwIhLNSVsA4/r8gsS1urZbJcNmkxg6nOgtW6S/LV/wUIJG0D5lX6O9Gm8R7tOnEnYzq00L99f\\\n",
       "43c4lLXryXODQb99jNQXUPa9rZ+pm1daIhmpq9edurZTzHYK2o7fXgd/LaI3hR0UDKLtdbHnF5w6\\\n",
       "L5OjVbXVKad7k71fuulhICqoAgaAFIZa7Zuq95utOJ2/6Q1/rZ7UVxl7vPOSP30bfG24otWuvwsG\\\n",
       "isH3s1OskyRND07XemN7vqXND+TOxHsUS3UigebRRV6mLi4p3usVihgp35G/7VrMe26P95gNZuNy\\\n",
       "j4UrniUl9CoMstdkR0tbyqnhwVTwjna/P2C8IQMIAClkWtwRnvJNlWEKFmYEiz5sqxX7d7dxCxvC\\\n",
       "GbOErdRsY+QkO100e1O21wINn20bmQ0r5uvjLfVa5GXVrsv38gCBqt1FpSX+9LKdarYtaK457jrA\\\n",
       "f2+p1+p51Yp7r7Xbyk3yAsWK/ALF5AaOwYxneFeQIu+cC5L1JpSbfVz+2IGk92QwxRxM+wKJKAIZ\\\n",
       "BhaRAhNbphnATIsKgs+T+vanvWSMrnl99Eq8Xn5S6qKGgcYVLLIo6JUm5yUGj8HX2V1GJhl3LZ2U\\\n",
       "WAASZBtL5/VKpXmBPYfVv/jEBpThcw3370u2x284OyjjBpzhc7efRTEHBovvbzKAAJBSpmvFwtml\\\n",
       "ZJmprTuPqdu4VbnhrJ0NvPK997L76gbXCGaSYbT++Kvb/Mzd6nnVfnAU7Ldn2alXY6RYoPVKsnOw\\\n",
       "Wbpeb9pX6msfY9fn2WIWpchQBse+/LED2t7S5p/ns974drS0acOK+e57289Ick/I6gFDxxpAABim\\\n",
       "8Fq0ZOvNbP++Mjl9hRrh/YS9/X93bTqTsKNHsjWAydq1WMF2M8F1d/60cWBP3gJvt48Cp2/t4uwp\\\n",
       "xf4aw2db2vT8xjbJeNvIeQ2lO3vjml1a7E8327FuWDFf2tnXTubw6Q6dvHhZpXn52t7SpsOPdfi9\\\n",
       "BYPVvSdPXPbXKV7xzmH1PG895Lz+AV7wGiQ7d7Z2A9IjAwgAIyxZRjCY/QsLZ/SCr0/2WhtMhhsl\\\n",
       "26xdsKrXZtTse64NBYyrAmv87DhsexW/GtirCLb7CHf2xnWs8S6/0leBsdkATHLHZ1vetMV7ZBzp\\\n",
       "cOclP6sYrO61zbDtZw607jLVNUjXHBpAH9YADgNrCICJL5xRGijDlOzx4TQeTvZam/3qkTuNY4M3\\\n",
       "+9wi7//qtgF0uMlyurEGj8+eUqzjnZfc4hQjOY4bnxXI7dtn1xkG3z84hpjXFNpmAG1BSrrrEM7s\\\n",
       "XUnx/FRZUDv2LmPUk+bcEW18f5MBBIC0wpXAA1UGJ3t8OGvVkm0TZ5tBTw5tlxbsiyfJL6Dw/53B\\\n",
       "WO37H2u8S3/81W36cEu9Pt5Sr4+31uv/Ap9pp36d0PuHe/MtumGaJHcbuiK56/mC5xJm9y+2xSWp\\\n",
       "rpu9Bh9uqU8IXvv1PwSQFAEgAKQRDt4GCuZGujAhGBClaiwd3CUkXBxS5B0PSzUtnaqAxR6zn7nQ\\\n",
       "axUTnlIOjyG4+8kVrydgsnNJdl6ZNHgOn5Md56pQ+xoAifglCQDSCBd4DNR8ONnjw21CnKyx9EBT\\\n",
       "0atsQ+na5IFosqKUVGMNHjvWeJcOP9bhN5pOxw8y5U4Zn7x4WbNL+/ZBTmUwDZ7D5xQcJw2fgdQI\\\n",
       "AAFglKXaGSRTYxFUBtf92QAt2TEp0GjaG0eqzw8GmbbydzQN9zoDUcIUMACMstHYe3agqeZMdzEJ\\\n",
       "P98GertOnPGriZs7LyVkGhd6e/7mDbCebyjT4QPt7pHucfb4BTJHAAgA49BAwc5gA8Tg8/3dPNS3\\\n",
       "n28wkPzjr27Tv7fUqzS0NjFdw+pMt20bSpENgMEjAAQQOYPZQ3a8Gij4SldAEizCWOsVUyQLJJPt\\\n",
       "UZwqOEv1WHhsY11kA0TVhOwD+P3vf19Hjx7VuXPnVF5eru985zvasmWLqqqq/Oe0trZq3bp12r9/\\\n",
       "v4qLi3Xffffp6aefVmFhYcafQx8hYHwaTl++0TDau1eM1fmmO49Uj+XavUA08P09QTOAt912m15+\\\n",
       "+WV99NFH2r17t/75z3/qhz/8of94PB5XfX29urq69Pbbb6upqUm7d+/Www8/nMVRAxgruZZFGu1p\\\n",
       "zUz3Kk6VFd2685jmbtyjuRv3pM2appuWTvVYsnsx1AxtFDK7wEiZkBnAsNdff13Lli1Td3e3Jk2a\\\n",
       "pDfffFPf+9739Mknn/hZwaamJj3wwAM6d+5cxr8N8BsEgJEwEhnAwbxHsqxb8Fiwmja4w4iUfheP\\\n",
       "kTLUrKB9nWPUrz8hEMT39wTNAAZ1dHRo165dWrx4sSZNcrtWvfPOO6qtrU2YEr7jjjvU3d2tI0eO\\\n",
       "ZGuoACIqnB0bTCYrvP9vJlnEZFm3ZEUgwQKRIqOEptGjmW0baob2/i9dl7RoBUB/E7YP4MaNG7Vt\\\n",
       "2zZdunRJX//61/XnP//Zf6y9vV3Tp09PeH55ebkKCwvV3t6e8j27u7vV3d3t//vChQsjP3AA495w\\\n",
       "M3qD6fFnn1uk1NumhSXrK2iP2ebNkyR1y23xkuz5O1radMVx/x7phstDbQS9YcV8aafoBQhkYNxk\\\n",
       "ADdv3izHcdL+aW5u9p//85//XO+//7727t2r/Px8/ehHP1JwtttxnH6fYYxJetx68sknVVZW5v+p\\\n",
       "qakZ2ZMEMCEMd03fYDJgQ9k2LV32zjZv7tHAW7Zlw0CZR3oBApkZNxnAhoYG3XvvvWmfc+ONN/o/\\\n",
       "V1RUqKKiQrNnz9YXv/hF1dTU6NChQ6qrq1NlZaXefffdhNd+9tlnunbtWr/MYNAvfvELrV+/3v/3\\\n",
       "hQsXCAIB9DMaO3+MxHOtdBlGO/aBtmwbaKu50TLcHVAAuMZNAGgDuqGwmT87fVtXV6fHH39cZ8+e\\\n",
       "1YwZMyRJe/fuVSwW04IFC1K+TywWUywWG9IYAETHUKcwx0q6ADXTsY/lOQan1NnuDRgZE64K+L33\\\n",
       "3tN7772nJUuWqLy8XP/617/061//WmfPntWJEycUi8UUj8f1la98RdOnT9dTTz2ljo4OPfDAA1q2\\\n",
       "bJmeeeaZjD+LKiIAQzHaff8mkq07j2l7S5uMMzYVyIgGvr/H0RrATBUXF+uVV17R7bffrjlz5mjV\\\n",
       "qlWqra3VwYMH/exdfn6+9uzZo6KiIn3jG9/QPffco2XLlunpp5/O8ugBRAHbmWVu14kzMo67JR1Z\\\n",
       "P2DkjJsp4EzNmzdP+/fvH/B5119/fUJlMACMlcFOY0Y5Y+hfq9ronTswmibcFPBYIoUMYCywXRow\\\n",
       "svj+noBTwAAw0Yz11nVsqQZMfGQAh4HfIABMRGQcMdHx/U0GEAAQMtYZRwBjjwzgMPAbBAAA4w/f\\\n",
       "32QAAQAAIocAEAAwoVDEAgyMABAAMKHQaBsYGAEgAGBCoYgFGBhFIMPAIlIAAMYfvr/JAAIAAEQO\\\n",
       "ASAAAEDEEAACAABEDAEgAABAxBAAAgAARAwBIAAAQMQQAAIAAEQMASAAAEDEEAACAABEDAEgAABA\\\n",
       "xBAAAgAARAwBIAAAQMQQAAIAAERMQbYHMJ4ZYyRJFy5cyPJIAABApuz3tv0ejyICwGHo7OyUJNXU\\\n",
       "1GR5JAAAYLA6OztVVlaW7WFkhWOiHP4OU29vr/7zn/+otLRUjuNkezi+CxcuqKamRp988ommTp2a\\\n",
       "7eEgCe5R7uMe5T7uUe7L1XtkjFFnZ6eqqqqUlxfN1XBkAIchLy9P1dXV2R5GSlOnTs2p/+DQH/co\\\n",
       "93GPch/3KPfl4j2KaubPimbYCwAAEGEEgAAAABFDADgBxWIxPfroo4rFYtkeClLgHuU+7lHu4x7l\\\n",
       "Pu5R7qIIBAAAIGLIAAIAAEQMASAAAEDEEAACAABEDAEgAABAxBAATjCPP/64Fi9erJKSEn3uc59L\\\n",
       "+pzW1lbdfffdmjx5sioqKvTTn/5UV69eHduBRtyzzz6rmTNnqqioSAsWLNDf/va3bA8pst566y3d\\\n",
       "fffdqqqqkuM4eu211xIeN8Zo8+bNqqqqUnFxsb71rW/pxIkT2RlsBD355JNatGiRSktL9YUvfEHL\\\n",
       "li3TRx99lPAc7lF2bd++XV/+8pf9Zs91dXV68803/ce5P7mJAHCCuXr1qpYvX661a9cmfTwej6u+\\\n",
       "vl5dXV16++231dTUpN27d+vhhx8e45FG1x/+8Ac99NBD+uUvf6n3339ft9xyi+688061trZme2iR\\\n",
       "1NXVpfnz52vbtm1JH9+6dat+85vfaNu2bTp8+LAqKyv13e9+198LHKPr4MGDWrdunQ4dOqR9+/ap\\\n",
       "p6dHS5cuVVdXl/8c7lF2VVdXq7GxUc3NzWpubta3v/1t/eAHP/CDPO5PjjKYkF544QVTVlbW7/gb\\\n",
       "b7xh8vLyzJkzZ/xjL730konFYub8+fNjOMLo+trXvmbWrFmTcGzu3Llm06ZNWRoRLEnm1Vdf9f/d\\\n",
       "29trKisrTWNjo3/sypUrpqyszDz33HNZGCHOnTtnJJmDBw8aY7hHuaq8vNz8/ve/5/7kMDKAEfPO\\\n",
       "O++otrZWVVVV/rE77rhD3d3dOnLkSBZHFg1Xr17VkSNHtHTp0oTjS5cu1d///vcsjQqpnDp1Su3t\\\n",
       "7Qn3KxaL6dZbb+V+Zcn58+clSdOmTZPEPco18XhcTU1N6urqUl1dHfcnhxEARkx7e7umT5+ecKy8\\\n",
       "vFyFhYVqb2/P0qii49NPP1U8Hu93D6ZPn871z0H2nnC/coMxRuvXr9eSJUtUW1sriXuUK44fP64p\\\n",
       "U6YoFotpzZo1evXVV3XzzTdzf3IYAeA4sHnzZjmOk/ZPc3Nzxu/nOE6/Y8aYpMcxOsLXmuuf27hf\\\n",
       "uaGhoUEffPCBXnrppX6PcY+ya86cOTp69KgOHTqktWvXauXKlfrHP/7hP879yT0F2R4ABtbQ0KB7\\\n",
       "77037XNuvPHGjN6rsrJS7777bsKxzz77TNeuXev3GxpGXkVFhfLz8/v95nvu3Dmufw6qrKyU5GaZ\\\n",
       "ZsyY4R/nfo29n/zkJ3r99df11ltvqbq62j/OPcoNhYWFmjVrliRp4cKFOnz4sH77299q48aNkrg/\\\n",
       "uYgM4DhQUVGhuXPnpv1TVFSU0XvV1dWppaVFZ8+e9Y/t3btXsVhMCxYsGK1TgKewsFALFizQvn37\\\n",
       "Eo7v27dPixcvztKokMrMmTNVWVmZcL+uXr2qgwcPcr/GiDFGDQ0NeuWVV7R//37NnDkz4XHuUW4y\\\n",
       "xqi7u5v7k8PIAE4wra2t6ujoUGtrq+LxuI4ePSpJmjVrlqZMmaKlS5fq5ptv1ooVK/TUU0+po6ND\\\n",
       "P/vZz/Tggw9q6tSp2R18RKxfv14rVqzQwoULVVdXp+eff16tra1as2ZNtocWSRcvXtTHH3/s//vU\\\n",
       "qVM6evSopk2bpuuvv14PPfSQnnjiCd1000266aab9MQTT6ikpET33XdfFkcdHevWrdOLL76oP/3p\\\n",
       "TyotLfWz52VlZSouLpbjONyjLHvkkUd05513qqamRp2dnWpqatJf//pX/eUvf+H+5LLsFSBjNKxc\\\n",
       "udJI6vfnwIED/nNOnz5t6uvrTXFxsZk2bZppaGgwV65cyd6gI+h3v/udueGGG0xhYaH56le/6re0\\\n",
       "wNg7cOBA0v9mVq5caYxx24w8+uijprKy0sRiMfPNb37THD9+PLuDjpBk90aSeeGFF/zncI+ya9Wq\\\n",
       "Vf7/zz7/+c+b22+/3ezdu9d/nPuTmxxjjBn7sBMAAADZwhpAAACAiCEABAAAiBgCQAAAgIghAAQA\\\n",
       "AIgYAkAAAICIIQAEAACIGAJAAACAiCEABAAAiBgCQAAAgIghAAQAAIgYAkAAAICIIQAEAACIGAJA\\\n",
       "AACAiCEABAAAiBgCQAAAgIghAAQAAIgYAkAAAICIIQAEAACIGAJAAACAiCEABAAAiBgCQAAAgIgh\\\n",
       "AAQAAIgYAkAAAICIIQAEAACIGAJAAACAiCEABAAAiBgCQAAAgIghAAQAAIgYAkAAAICIIQAEAACI\\\n",
       "GAJAAACAiPl/S4oCZrxWKFEAAAAASUVORK5CYII=\\\n",
       "\"\n",
       "  frames[1] = \"data:image/png;base64,iVBORw0KGgoAAAANSUhEUgAAAoAAAAHgCAYAAAA10dzkAAAAOXRFWHRTb2Z0d2FyZQBNYXRwbG90\\\n",
       "bGliIHZlcnNpb24zLjUuMiwgaHR0cHM6Ly9tYXRwbG90bGliLm9yZy8qNh9FAAAACXBIWXMAAA9h\\\n",
       "AAAPYQGoP6dpAAA9rElEQVR4nO3de3xU9Z3/8fdMLpMQyUBMyEWuP0QbDFpFiyBVsDXiKi7rUpva\\\n",
       "1bBbWNREq+i2pWozcUXaamtbklpcrejDWsqv7aKPn5aFSoWioohYDVBWEAGBSLhNIMDkMuf3RzyH\\\n",
       "mWQmF3KZZL6v5z7mQeacMzPfjKd73vl+v5/vcVmWZQkAAADGcMe6AQAAAOhdBEAAAADDEAABAAAM\\\n",
       "QwAEAAAwDAEQAADAMARAAAAAwxAAAQAADEMABAAAMAwBEAAAwDAEQAAAAMMQAAEAAAxDAAQAADAM\\\n",
       "ARAAAMAwBEAAAADDEAABAAAMQwAEAAAwDAEQAADAMARAAAAAwxAAAQAADEMABAAAMAwBEAAAwDAE\\\n",
       "QAAAAMMQAAEAAAxDAAQAADAMARAAAMAwBEAAAADDEAABAAAMQwAEAAAwDAEQAADAMARAAAAAwxAA\\\n",
       "AQAADEMABAAAMAwBEAAAwDAEQAAAAMMQAAEAAAxDAAQAADAMARAAAMAwBEAAAADDEAABAAAMQwAE\\\n",
       "AAAwDAEQAADAMARAAAAAwxAAAQAADEMABAAAMAwBEAAAwDAEQAAAAMMQAAEAAAxDAAQAADAMARAA\\\n",
       "AMAwBEAAAADDEAABAAAMQwAEAAAwDAEQAADAMARAAAAAwxAAAQAADEMABAAAMExirBvQnwWDQe3b\\\n",
       "t08DBw6Uy+WKdXMAAEAHWJalY8eOKS8vT263mX1hBMAu2Ldvn4YNGxbrZgAAgDOwZ88eDR06NNbN\\\n",
       "iAkCYBcMHDhQUvMJlJ6eHuPWAACAjqitrdWwYcOc67iJCIBdYA/7pqenEwABAOhnTJ6+ZebANwAA\\\n",
       "gMEIgAAAAIYhAAIAABiGAAgAAGAYAiAAAIBhCICIOZ/Pp8rKyjaPqayslM/n650GAQAQ51gGBjHl\\\n",
       "8/lUXl7uPC8pKWl1TGVlpUpLS8NeAwAAzhw9gIiZluGvtLS0VU9gy/BXXl5OAAQAoIsIgIiJluHP\\\n",
       "FhoCW4Y/GyEQAICucVmWZcW6Ef1VbW2tvF6v/H4/dwLphGjhL1R+fr62bt3a5jFlZWUEQQBAp3H9\\\n",
       "pgcQMZCVlRV1X4EKJMkJf/bzzr4PAACIjgCIbtPRat6amhpVVFS02lesYi3SIhWpSJJUpCIt0iIV\\\n",
       "q7jVsRUVFRELRgAAQPsIgAZ6Yf0uXfHD1Xph/a5ue097WDdSIYfNntNXXl7eKgQWqECzNEuSNFdz\\\n",
       "tVzLNVdzJUmzNCusJ5DwBwBA1xAADfTk6zu09+hJPfn6jm55vzOt5g0NgVWq0mItdvZ75XV+XqzF\\\n",
       "qlKVJMIfAADdgQBooDumjNY5g1J1x5TRXX6vrlbz1tTUKD8/X5K0VEvllz/sGL/8WqqlkpoLQwh/\\\n",
       "AAB0HVXAXWBqFdEL63fpydd3KHv7y/rvZ37e5rEdqea1FanIGfYNtViLnRBIDyAAoKtMvX6HogcQ\\\n",
       "nWYPIa/dHYh6TGeqee39oeEvtCdwruY6r29rjiEAAOgYAiA67Y4po5Xgks665AaNuvGuVvs7U81r\\\n",
       "q1KVlmiJpOYevxma4cwJXKIlzhxAiRAIAEBXMQTcBfHQhWwP594xZbT+5fIRHT5+/IjB2rjriO6Y\\\n",
       "Mlr+jf/PmeNXoAIt0iLneL/8YQUdd+musDDXUoEKwva3fB6K4WAAwJmIh+t3V9EDaLiOVgTbS8cs\\\n",
       "eGWL9h49qVVbqiVJ7+w8rBeP5eu2+x6W1PFq3mjs/XZhSFvH19TUtPleAAAgMgKg4SJVBLdcJ/CF\\\n",
       "9btU9lKV9h49qZMNQUnSyYag9h49qVc+2Ke9R09qe+YVnarmLSsri9qmiooKbdmyJeJi0TZuAwcA\\\n",
       "wJlLjHUD0PteWL9Lj//PNknS/deerze+d7Wz/cnXd6gu0KijJxv0+P9sc543RZgoMCg1SVeel6WN\\\n",
       "u47o3INv6PnPCz6KVBTW8yc19wQWqUhLtVRbt25VVlaWysrKWi0hU3FTjkq+lCJJzvBuyyVkCH8A\\\n",
       "AHQNPYBx7O1lj2m/71y9veyxsO1Pvr5DR0826OjJBpW/vNnZ/vj/bNPeoyd19GSDBqUmSZLzXJIu\\\n",
       "PMer1KQE5/g0T6J+8Y2LdcvArXr+Jz+Q1LlqXjsE2ipuylHJuBPSuiecbSUlJWE9gYQ/AAC6jiKQ\\\n",
       "Loj1JNL2Cjj2+85Vrmq0X1l6bdprWvDKFmcIN5Ikt0sNwebTwSUpMcGlhpCuv9D99vNJ9Rud8Gcr\\\n",
       "VrFmaZazfp+9vt8SLdFzei7s2IqKCtXU1CgrK6u552/dE9Lke6XLvhV2nH0PYcIfAKCrYn397gsI\\\n",
       "gF0Q6xPoih+u1t6jJ3XOoFRnGNf2wvpd+mTFIv2r9d961vVP+r2r0OnJ6y7H3vt/OrzqVxH3daaa\\\n",
       "97b7HtZzjz/UrW0DACCaWF+/+wKGgPuxaAUcjz3yHV294mqdbGjSFYFf6GRDk14J3qHbEv/sHPfN\\\n",
       "hD9rnedufTPhz5HeukOaTvij7rPDXtLZw8KeR7L6/e1n3AYAANB59AB2QU/+BdHR9flaHnfFD1fr\\\n",
       "dyfnaKjroD61MjU58Aut89ytoa6DOmKlqU6pOmSl60LXx3K5pJb/9fdamZJL2hg8T+Pd/6snG2/U\\\n",
       "b5q+GvXzj677jfxv/DbivoKZ9+rEuV/RsOq/as2SH0U8ZuhXbtPCRx7u0BqEAAB0B3oA6QHsszq6\\\n",
       "Pp993OP/s01X/HB18wLNwfPUaLm1MXhe8zGNN+qIlSav6jTUddAJf5LkcoU/znEd1FDXQd3oflND\\\n",
       "XQf1SOKvtcXzr/p5UkXEHsNBk78p7xXfaNWujGtu14lzv6ImS2o4vzDiki5lZWXa8+fnCH8AAPQy\\\n",
       "AmAfFWl4t63jpOaK3Y27jugraTuV6ApqvPt/JcnpwXOHhL5oXK7W/w5wBTT980B4R+LLrV7TMgRe\\\n",
       "Neu7Sr/kBrldLg1KTdIdU0ZTzQsAQB/COoB91L9cPiKsZyzSkHDoen5pngQdPdmgA8dO6e8Z+fri\\\n",
       "yc90yErXZs8spapebWS+DnFJqrcSlaaT+mbCn1sNCw+a/E1JUsrAQdqT82VZltQQtJTmaT7Frvjh\\\n",
       "at0x5Qbddt9hrX5/u86d9q9dbBEAADhTzAHsgt6cQxCp4tfe1pI956/RcivRFX3Zl86yrOYeQXtu\\\n",
       "YXtSkxL0wPX5zjB1aE9lpMplAAB6A3MAGQLu8+zbso0fMbjVkPAdU0ZrUGqSBqUm6cJzvHKpOXT9\\\n",
       "qvFGfWpl6pXg5WqwXLKs1sUenWVZ0gfW/9GnVqaebLzR2d6yZzE1ya2EzzdmpCXrXy4fETac3dGh\\\n",
       "bQAA0HMYAu7j7N4zSa16zEKHiV9Yv0uH6up1x5TRenB5k15o+qq+mfBn3eh+05nPZ/fgdVTo8UeV\\\n",
       "pmVNU1rNAbRzpUuSNzVJ9197vtNuO+S1HM6299v7AABA76IHsI/raI+ZHRTLXqpS0ufVHnckvuws\\\n",
       "9RLaA9iZ3kDLkhottx5v/LruSHzZKQRxtwiSlppvDdeRQNfRCmcAANAzCIB93L9cPkJvfO/qdoPV\\\n",
       "HVNGK8ElNVnNQeycQanae8Ht2qdMHVWas8yL3atnh8CWwTD0Yb+mWhn6TdNX9eTnQ8tPNt6oj2+q\\\n",
       "1ntn3at/SfizLjzHGxZS2wt4ZzIMbA+Fv7B+V4dfAwAAIqMIpAv62iTSaJXC+/9cqdLGJUqxAmEh\\\n",
       "sFFu7fWM0bDANrlChntDi0eClvRQ479pmXWNcx/gGy/K0y+qb5X8e5z7DLdXsdxVbd32DgCAzuhr\\\n",
       "1+9YIAB2QV84gToatkbPf0XvJs/RYFed6qxkHVW6zrnh+9K6JyT/HklSk+VSrQbor9ZFutL9gVIS\\\n",
       "m4d+nz41ValJbmWkeU5/zoZntP+VhapomK7XB07v8VDWE6ESAGCmvnD9jjWKQPq50OHWqMFowzP6\\\n",
       "ILVMrqZGHbHStDZ4kS5LaF4kWpPvlVb/p/wnG/TjxpvDwtwL63fpmeVR7uF72bf0WtNX9XpIsUdP\\\n",
       "ilRIAgAAzgw9gF3QF/6C6FDP2BMFTi/f8ZRcHTvVqFzVSN5h0r1VYe/z0/+zURP2PidNvldXvDZK\\\n",
       "e4+eVIJLGpiSpKMnGxiCBQD0e33h+h1rBMAu6Dcn0IZnpNf+s3mtlqsfat627onm3r/LvhV+rB0W\\\n",
       "vcP0wsRXwpZz6egQLMO1AIC+rN9cv3sQAbAL4vIE2vCMjr/2mJ5svFG5Xy05owBHwQYAoC+Ly+t3\\\n",
       "J7EMDMJd9i1dq1+q8vhVZ7xOX3+/2wdLzgAA4h0BEK10NcB1dO3CvoqFqgEA8Y4qYLRiesXtHVNG\\\n",
       "h819BAAg3jAHsAuYQ9BxFIYAAPoKrt8MAfdPG55prtbd8EysW9JhDKsCANB3xG0AXLhwoS677DIN\\\n",
       "HDhQQ4YM0YwZM7Rt27awYyzLks/nU15enlJTUzVlyhRt3rw5Ri3uBPvuHeueiHVLOqy/F4YAABBP\\\n",
       "4jYArlmzRiUlJVq/fr1WrVqlxsZGFRYWqq6uzjnmxz/+sX7605+qoqJCGzZsUE5Ojq655hodO3Ys\\\n",
       "hi3vgMn3Ni/iPPneWLekXXZFraR+XRgCAEA8MWYOYE1NjYYMGaI1a9boyiuvlGVZysvL0z333KPv\\\n",
       "fve7kqRAIKDs7Gz96Ec/0ty5c9t9T+YQtI81AQEAfQ3X7zjuAWzJ7/dLkjIyMiRJO3fuVHV1tQoL\\\n",
       "C51jPB6PrrrqKr355psxaWM8YugXAIC+x4hlYCzL0rx58zR58mQVFBRIkqqrqyVJ2dnZYcdmZ2dr\\\n",
       "167ICwAHAgEFAgHneW1tbQ+1OH6YvqQMAAB9kRE9gKWlpfrggw/029/+ttU+l8sV9tyyrFbbbAsX\\\n",
       "LpTX63Uew4YN65H2AgAA9KS4D4B33XWXXn75Zf3lL3/R0KFDne05OTmSTvcE2g4cONCqV9A2f/58\\\n",
       "+f1+57Fnz56eazgAAEAPidsAaFmWSktL9cc//lGrV6/WqFGjwvaPGjVKOTk5WrVqlbOtvr5ea9as\\\n",
       "0aRJkyK+p8fjUXp6etgDAACgv4nbOYAlJSV68cUX9dJLL2ngwIFOT5/X61VqaqpcLpfuuecePfro\\\n",
       "oxozZozGjBmjRx99VAMGDNAtt9wS49YDAAD0nLgNgE8++aQkacqUKWHbn332Wc2aNUuS9J3vfEcn\\\n",
       "T57UnXfeqSNHjmjChAlauXKlBg4c2MutBQAA6D3GrAPYE1hHCACA/ofrdxzPAQQAAEBkBEAAAADD\\\n",
       "EAABAAAMQwAEAAAwDAEQAADAMARAAAAAwxAAAQAADEMABAAAMAwBEAAAwDAEQAAAAMMQAAEAAAxD\\\n",
       "AAQAADAMARAAAMAwBEAAAADDEAABAAAMQwAEAAAwDAEQAADAMARAAAAAwxAAAQAADEMABAAAMAwB\\\n",
       "EAAAwDAEQAAAAMMQAAEAAAxDAAQAADAMARAAAMAwBEAAAADDEAABAAAMQwAEAAAwDAEQAADAMARA\\\n",
       "AAAAwxAAAQAADEMABAAAMAwBEAAAwDAEQAAAAMMQAAEAAAxDAAQAADAMARAAAMAwBEAAAADDEAAB\\\n",
       "AAAMQwAEAAAwDAEQAADAMARAAAAAwxAAAQAADEMABAAAMAwBEAAAwDAEQAAAAMMQAAEAAAxDAAQA\\\n",
       "ADAMARAAAMAwBEAAAADDEAABAAAMQwAEAAAwTNwGwLVr12r69OnKy8uTy+XS8uXLw/ZbliWfz6e8\\\n",
       "vDylpqZqypQp2rx5c2waCwAA0IviNgDW1dXpoosuUkVFRcT9P/7xj/XTn/5UFRUV2rBhg3JycnTN\\\n",
       "Ndfo2LFjvdxSAADM5vP5VFlZ2eYxlZWV8vl8vdMgAyTGugE95brrrtN1110XcZ9lWfrZz36mBx54\\\n",
       "QDfddJMk6bnnnlN2drZefPFFzZ07tzebCgCAsXw+n8rLy53nJSUlrY6prKxUaWlp2GvQNXHbA9iW\\\n",
       "nTt3qrq6WoWFhc42j8ejq666Sm+++WbU1wUCAdXW1oY9AADAmWkZ/kpLS1v1BLYMf+Xl5QTAbmBk\\\n",
       "AKyurpYkZWdnh23Pzs529kWycOFCeb1e5zFs2LAebScAAPGqZfizhYbAluHPRgjsOiMDoM3lcoU9\\\n",
       "tyyr1bZQ8+fPl9/vdx579uzp6SYCABB3ooU/W2lpqcaOHRsx/NkIgV1jZADMycmRpFa9fQcOHGjV\\\n",
       "KxjK4/EoPT097AEAQLxatm2ZCn9fqGXblnXr+2ZlZUXdV6ACSdLWrVvDnnf2fdA2IwPgqFGjlJOT\\\n",
       "o1WrVjnb6uvrtWbNGk2aNCmGLQMAoO94+sOntb9uv57+8Olufd+SkpKIq3QUq1iLtEhFKpIkFalI\\\n",
       "i7RIxSpudWxFRUXEghF0TNxWAR8/flzbt293nu/cuVPvv/++MjIyNHz4cN1zzz169NFHNWbMGI0Z\\\n",
       "M0aPPvqoBgwYoFtuuSWGrQYAoO+YPW62nv7wac0eN7vb39sOb/Ywb4EKNEuzJElzNVdFKpJXXknS\\\n",
       "LM3SRm1UlaokEf66g8uyLCvWjegJr7/+uqZOndpqe3FxsZYsWSLLslReXq7FixfryJEjmjBhgior\\\n",
       "K1VQEL2ruaXa2lp5vV75/X6GgwEAOAOhhR5FKtJctV6KbbEWa6mWSuqe8Mf1O44DYG/gBAIA9EfL\\\n",
       "ti1zevZuPv/mMz6mu4wdO9aZ87dcy52eP0nyy68ZmiFJys/P15YtW7r8eVy/DZ0DCACAyToyt6+n\\\n",
       "5v+1VFlZ6YS/0GFfm1deZ07g1q1b271jCDqGAAgAgGFmj5ut3LTcNuf2deSYaDpaPRw6/FuggrDh\\\n",
       "X7/8zs9zNdepBo60WDQ6jwAIAIBhbj7/Zq2cubLNoV37GEmdXgqmI72HLRd5rlKVlmiJpOY5fzM0\\\n",
       "Q4u1WJK0REucAhCJENgdCIAAACCqtsJctJ6+9noPo93h4zk9p7t0l1PwsVRLdZfu0nN6rtWxhMCu\\\n",
       "IQACAIBW7HB38ZCLo4a5aOGwvR7GmpqaqJ9r9/Tl5+eHPe/s+6BtBEAAANCKHe5WfLIiaiXwmc4T\\\n",
       "9Pl8Kisri7q/oqJCW7ZsibhYtK2srIxbwXUBARAAAEgKH9KdPW623C63glYw6ly+m8+/2Vks+rtr\\\n",
       "v9upuYLRQmDoOn/R7hhC+Ou6uL0TCAAAaGav6XfxkIu16cCmqD16dq/fz9/7udKS0jRt5DTn+Ejv\\\n",
       "Z4e//XX79dknnzlhsaPrBtohrry8XFLkRZ5b3jGE8Nc9WAi6C1hIEgDQHxT+vlD76/Y7PXq5ablO\\\n",
       "hW9omJOaQ+CJhhPy1/ud4d1fvPcLBZoC8iR4dPcldzuhLzctVxcPuVgrPlmh7AHZ+uzEZ5o2cpp+\\\n",
       "dOWPnM/uyILSPp9PWVlZbd7ho7KyUjU1Nd0S/rh+MwQMAEDcs+fq5Wfky+1y6+IhFzv7Qgs57OKN\\\n",
       "uy+52wl3C95eIH+9X6eaTslf79eCtxcoIyXDeZ839r6hoBVUdV21glZQmw5sCvvsji4o/d5n73V6\\\n",
       "uRmcOQIgAABxyp7TJzWHwK2Ht7YKaXY4vHjIxZr828m64rdXSJJWzlypTQc2KWgFw94zaAW1+dBm\\\n",
       "Ba2gVnyyQoGmgCTJk+CJWBDSXqGIz+dTeXm5fv2fv1bVS1URg6K9bEx5eTnDv92EOYAAAMSplr1v\\\n",
       "QSvo9NxN/u1kWbL07Uu+rZUzV6rw94Xy1/ud10nSiYYTcsklS5FniwWtoJITkpWckKz6pnrVNdS1\\\n",
       "Oubm829uc+jXnv8nSftf2K/rRl0nzTx9TMs1A+3jCYJdwxzALmAOAQCgL4s0v8+e02eHPW+yV5Ys\\\n",
       "1TfVq8lqUkOwQSkJKUpOSFZtfa0SXYlqtBpbvXduWq7qGurkkkuSwt5v3TfWtduu+75/nz7946cR\\\n",
       "99vFINEWjJa6VgzC9ZsA2CWcQACA/mbZtmV6ZP0jsmTJJZcGJg9UbX2tJDlFIlJzkBuQNEDVddVR\\\n",
       "ewBtKQkpOtV0SpKU6EpUUEFNGzlN47PH6+kPn1ZGSoa2HNoiT4JH/3HZf2j+Q/P18f/9uM33zM/P\\\n",
       "19atW9s85kxDINdv5gACAGCUpz98WpYsuV1uPXj5g/r2Jd9WenK6vMle5WfkyyWX3HKrtr5WFw+5\\\n",
       "uHlIth12+JOkRqvRmR9oD0FvPrRZliydajqlpz98WlO+MCXqexWoQJKc8Gc/jyQrK6uDvzVaIgAC\\\n",
       "AGCQi4dcLLfLrWkjpznz8974xhta9411OnzqsCxZCiooS5Ze3fmq1u1tezg3muwB2U4ByAVnXxD2\\\n",
       "+c88/EzEBZ6LVaxFWqQiFUmSilSkRVqkYhW3OjbSmoHoOAIgAAAGsSt7V3yyotWSK6HLw9js4eHO\\\n",
       "2l+3X1JzNfHSG5YqNy3X+Xyp9V0+ClSgWZolSZqruVqu5ZqruZKkWZoV1hNI+Os6qoABADDI7HGz\\\n",
       "teDtBWG3eLMXeg4dym3p/F1nadwOrz4c7de2Ecc79FmPbXjMuQPJkVNH5JIrLGSG3uWjSlVarMVO\\\n",
       "6PPK6xy3WItVpSpJhL/uQhFIFzCJFADQn7S8JdzFQy7Wn3b+qVWRR6SwN3P1OTrrVKKCsvT2BYc7\\\n",
       "HAKl8OKS9OR0vfGNN8L2jx071pnzt1zLw8KfX37N0AxJzYUhW7Zs6fTv3RLXb4aAAQDo9+wFn9u7\\\n",
       "i8bP3/u59tft17q965yFniNV+I7b4dVZpxI1bsfpIPbhaL+CsuSWS5dvztA3VwxT0cqhOn/XWVE/\\\n",
       "zy233C63U1wiSfVN9WFtraysdMJfkYrCwp/U3BNozwncunWrKisrO/CNoD0EQAAA+rlot1trGQzt\\\n",
       "EGb/O3vcbKUkpDjHn79roGauPkcnkxsVlKUDg0/p+nXZKn51uC7fnPH5q5pfnxR0K6UxwQmDkYJg\\\n",
       "UEEFraD2HNujBy9/ULlpuUpOSHbaGrrOX4EKnOFfqbnnzzZXc505gKWlpYTAbkAABACgn4t2u7WW\\\n",
       "wfDuS+52Fn62Q6F9KzdJGrcjXWedSlRmrUduuTTkSIoyaz1yhfxfS3YYvPh/B2nm6nMiBkGXXM59\\\n",
       "hr99ybeVm5arYR8MC1vkuUpVWqIlkprn/M3QDC3WYknSEi1x5gBKhMDuwBzALmAOAQCgLwu9E4h9\\\n",
       "O7bC3xdqf91+pSen61j9sbAh4PN3naUJmzPklktBWapLadRZpxIjBj9b6Otdcul4SqN+f/XesGMe\\\n",
       "uvyhsNvBtXWHjwIVhIW9ls9DnWlBCNdvegABADDK7HGzdVn1Obr2f9J13q40Z3tuWq62jTiuty84\\\n",
       "rFOJTbJcajf8SQrrHbQ+HzYO7Qm8YM9g+X+xQn9b9arzmpqamqjvZ4e9/Pz8sOeRtPU+aBsBEACA\\\n",
       "OBVpbuDN59+sibvzlHYyIazII33Lcc1cfY4kqTHRUoJ1OtR1nEsj96fprFOJzpDwhX8/S7UHD+id\\\n",
       "5b93jvL5fCorK4v6LhUVFdqyZUvExaJtXbkXMAiAAADErWhzA780Y6YSvGnaNbb53r3S6fl/EzZn\\\n",
       "6MDgU5/fC8RqtwfQZn1+DxF7+Ngll846lagkd6ISvGl6a/g+Ldu2zClMGfuNsRFDYOiwbsvFom2E\\\n",
       "v65jDmAXMIcAANDfTf7tZPnr/a3m/0mSu53wZwfElv8Gkpq0ZWxAY7Yla9dY6dPRQe2v2+/cDcT+\\\n",
       "eeXMlfL5fCovL5cUfU5f6JzB7gh/XL+5EwgAAEa7+5K79Yv3fqGUxCQ1JFlKbmgOflYHegBDQ58k\\\n",
       "udzNCz4P/sJo3fjPVzoFKFLzcHTRqS+rdm2VPhjt1rQZ/yZJTpjLysqKWtBhb6+pqaHnr5vQA9gF\\\n",
       "/AUBAOhP/rbqVb2z/Pf60oyZuuiafwjb918l/6bagwcUSAoqqcElt1xypSYreDIQsZcvlPX5TMEB\\\n",
       "Zw3UqePHlZ45RHMqf93q8+3PiLa/t3D9Zg4gAADGeGf571sVZNjseYGHciwlpHiU6PHIk5Cs5Lyz\\\n",
       "OzQXcMTDxZpcdJvSM4foSzNmRjzmSzNmtrkfvYchYAAADPGlGTOdHsBQy7Yt09P+p1U3tU6FKwbK\\\n",
       "OlWvJrdbjYGAXCfcSs8comMHa+ROTFSwsbHV+yZ5UnT+7rN00TX/0KpnMVR7+9F76AEEAMAQF13z\\\n",
       "D5pT+etWIcxeLsYll3aNlRK8aTp/4mS53G5ZwaCOHWxeb++sQRn6whVXSi6XEpM9+ursO5WeOUSN\\\n",
       "gUDEXkX0XfQAAgBguNnjZp++Y8g3Tt+xY2h+gV779a9kBYNyud3O3MHr7/5O2OvXLX1e9SdP6m+r\\\n",
       "XqWHr5+gCKQLmEQKAIh3bRWO2PpKcUdHcf1mCBgAALQh2rBxqNDiDnuh52XblnXpc/+26lX9V8m/\\\n",
       "hd1CDt2HAAgAADokWrgLDYlPf/i00rcc0//+8Lkuhbe2KpbRdQRAAADQJrs3bsXyX7e6t3Do/r+t\\\n",
       "elWzx83WF3dmKPWEq0vhjSVjehZFIAAAoE12b9yFDV59OjrY6t7Cob11cyp/rb/dclbE5WY6gyVj\\\n",
       "ehYBEAAAtCl0/cB7IoSylusLEt76PqqAu4AqIgCAyTpSIdwXcf1mDiAAADhDFGr0XwRAAABwRijU\\\n",
       "6L8YAu4CupABAOh/uH7TAwgAAGAcAiAAAIBhCIAAAACGIQACAAAYhgAIAABgGAIgAACAYQiAAAAA\\\n",
       "hiEAAgAAGMb4APjLX/5So0aNUkpKisaPH6+//vWvsW4SAABAjzI6AP7ud7/TPffcowceeECbNm3S\\\n",
       "l7/8ZV133XXavXt3rJsGAADQY4y+FdyECRN0ySWX6Mknn3S25efna8aMGVq4cGG7r+dWMgAA9D9c\\\n",
       "vw3uAayvr9fGjRtVWFgYtr2wsFBvvvlmxNcEAgHV1taGPQAAAPobYwPgwYMH1dTUpOzs7LDt2dnZ\\\n",
       "qq6ujviahQsXyuv1Oo9hw4b1RlMBAAC6lbEB0OZyucKeW5bVaptt/vz58vv9zmPPnj290UQAAIBu\\\n",
       "lRjrBsRKZmamEhISWvX2HThwoFWvoM3j8cjj8fRG8wAAAHqMsT2AycnJGj9+vFatWhW2fdWqVZo0\\\n",
       "aVKMWgUAANDzjO0BlKR58+bp1ltv1aWXXqqJEyfqqaee0u7du3X77bfHumkAAAA9xugA+PWvf12H\\\n",
       "Dh3Sww8/rP3796ugoECvvvqqRowYEeumAQAA9Bij1wHsKtYRAgCg/+H6bfAcQAAAAFMRAAEAAAxD\\\n",
       "AAQAADAMARAAAMAwBEAAAADDEAABAAAMQwAEAAAwDAEQAADAMARAAAAAwxAAAQAADEMABAAAMAwB\\\n",
       "EAAAwDAEQAAAAMMQAAEAAAxDAAQAADAMARAAAMAwBEAAAADDEAABAAAMQwAEAAAwDAEQAADAMARA\\\n",
       "AAAAwxAAAQAADEMABAAAMAwBEAAAwDAEQAAAAMMQAAEAAAxDAAQAADAMARAAAMAwBEAAAADDEAAB\\\n",
       "AAAMQwAEAAAwDAEQAADAMARAAAAAwxAAAQAADEMABAAAMAwBEAAAwDAEQAAAAMMQAAEAAAxDAAQA\\\n",
       "ADAMARAAAMAwBEAAAADDEAABAAAMQwAEAAAwDAEQAADAMARAAAAAwxAAAQAADEMABAAAMAwBEAAA\\\n",
       "wDAEQAAAAMMQAAEAAAxDAAQAADBMXAbABQsWaNKkSRowYIAGDRoU8Zjdu3dr+vTpSktLU2Zmpu6+\\\n",
       "+27V19f3bkMBAABiIDHWDegJ9fX1+trXvqaJEyfqmWeeabW/qalJ119/vbKysrRu3TodOnRIxcXF\\\n",
       "sixLixYtikGLAQAAek9cBsDy8nJJ0pIlSyLuX7lypbZs2aI9e/YoLy9PkvSTn/xEs2bN0oIFC5Se\\\n",
       "nt5bTUWc8vl8ysrKUklJSdRjKisrVVNTI5/P13sNAwBAcRoA2/PWW2+poKDACX+SdO211yoQCGjj\\\n",
       "xo2aOnVqDFuH/s7n8zl/hEiKGAIrKytVWloa9hoAAHqLkQGwurpa2dnZYdsGDx6s5ORkVVdXR31d\\\n",
       "IBBQIBBwntfW1vZYG9E/tQx/dsgLDYEtw599PCEQANBb+k0RiM/nk8vlavPx7rvvdvj9XC5Xq22W\\\n",
       "ZUXcblu4cKG8Xq/zGDZs2Bn9LohPLcOfrbS0VJWVlZJahz9beXk5ARAA0Gv6TQ9gaWmpioqK2jxm\\\n",
       "5MiRHXqvnJwcvf3222Hbjhw5ooaGhlY9g6Hmz5+vefPmOc9ra2sJgZAUPfzZ7BC4devWqMfQEwgA\\\n",
       "6C39JgBmZmYqMzOzW95r4sSJWrBggfbv36/c3FxJzYUhHo9H48ePj/o6j8cjj8fTLW1AfMnKyoq6\\\n",
       "r0AFqlKVE/7s5519HwAAuku/GQLujN27d+v999/X7t271dTUpPfff1/vv/++jh8/LkkqLCzU2LFj\\\n",
       "deutt2rTpk167bXXdP/992vOnDlUAOOMlJSUqKKiotX2YhVrkRapSM2910Uq0iItUrGKWx1bUVHR\\\n",
       "ZtUwAADdxWVZlhXrRnS3WbNm6bnnnmu1/S9/+YumTJkiqTkk3nnnnVq9erVSU1N1yy236PHHH+9U\\\n",
       "D19tba28Xq/8fj/BsZ86snSpDj71X8r89zka3M4Ug44IneNXoAIt0ul1Jf3yyyuv8/wu3eX0BBL+\\\n",
       "AKD3cP2O0wDYWziB+r+Prv6KGvftU2Jensasfq1b3jM0BBapSHM1t9Uxi7VYS7VUEuEPAHob1+84\\\n",
       "HQIGOirz3+coMS9Pmf8+p9ves6SkRPn5+ZKkpVoqv/xh+/3yO+EvPz+f8AcA6HUEQMSFI0uX6qOr\\\n",
       "v6IjS5d26nWDi4o0ZvVr3TL8awut9i1SUdiwryR55XXmBG7dutVZIgYAgN5CAERcOPjUf6lx3z4d\\\n",
       "fOq/oh7TVkg8snSptk24XNsmXN7pEBmq5RzA0OHf0J7AuZqrAhVICl8nEACA3kAARL8VGuhCh3L3\\\n",
       "3ne/tl5QoJ0zvxYW+FqGRPv1e++7X9X/+YiCfr+Cfn+bIbLlZ++9737nM1ou8lylKi3REknNc/5m\\\n",
       "aIYWa7EkaYmWhC0FQwgEAPQmikC6gEmksRWpgOPI0qWq9rVYkDkhQTkPPShJYRW/2yZcrqA/fH6e\\\n",
       "2+vVkHvvcYaEo1UJ25+thASpqUlLg0E9/NH/Rmxny3X/2loHkIIQAOh5XL/pAUQ/FqmAI7T3LjEv\\\n",
       "r/mHpiZne7CuTgee+JmOLF0qK+S+zpLkSkmROy0tbNuBJ36mxn37dOCJn0X87PRp05SYl6dTF46L\\\n",
       "2k477NmFIdHCnyTV1NRE3QcAQHehB7AL+Aui79l73/2qffVVKTFRamyUQk9ve5uae/rCev/se0Bb\\\n",
       "lpSQoPRp03Ri0yY1HT4s69Qpub1enf/2+jY/u63bwdk9e9HuBSxJZWVl3AYOAHoB1+9+dCs4oCOO\\\n",
       "r1vXHOIaGlrv/Dz8SWo19OvyeGSdOtX8pKlJta+8ErLTpbMmT273s+3w1jIEhg7r2v+2DIGEPwBA\\\n",
       "b2IIGP1GpMKLvffdr635Y7V13IXNc/rq6s7ovZ3wF3GnpdpXXw2rEI5WUezz+VRWVuY8jzSnr+Vt\\\n",
       "4wh/AIDexhBwF9CF3LtaFl44//Yiu+CkvTuI+Hw+ZWVltVnQUVlZqZqaGsIfAPQyrt8EwC7hBOpd\\\n",
       "dkXugIsvVu2KFb0e/qTTVcKSuvUewgCA3sP1mwDYJZxAPSvaEiz2vur/fMTpCXQlJ8s6ebJnG+R2\\\n",
       "S8Fgt943GADQ+7h+MwcQfVhbd/cYXFSknIceVGJennIeelDZ3/2O3F6vXCkpPdcgy+r2+wYDABAL\\\n",
       "VAGjz8r89zlOD2Akg4uKwhZsliQrUvVvN0nMzaXnDwAQF+gBRJ81uKhIY1a/FhbyWlbe2vfwrS5/\\\n",
       "uHlplx6cF9i4f3/Y59ptaesewwAA9EXMAewC5hD0DnsuYLCuTkG/3xmGDd3m6MnK4MREJQ4Z4ny2\\\n",
       "XQUsqc2KYABA38L1mx5A9AN22JIUFv7sbfZdPNxer/I3Vyn/71uV4ytztnd2XmC0411JSc6cxNDb\\\n",
       "0EW6JR0AAH0ZcwDRp0Sq/A2dCxhaDRw6P7DlXEH7OHv7iQ3vNt8irmWHd8jt4SRJbnf4XUFCWCdP\\\n",
       "yu31Ou0IbQtLwQAA+hN6ANGnRKr8bTkXsKVo+wcXFTnhccBllyp/6xalX3998zCxLTT8Scr5wUPN\\\n",
       "6/zZxyQkhPUIutPSCHsAgH6PHkD0Ke1V/tpCg2Jbgcw+7sATP3PmDKqpSa6UFFkNDXIlJTX39iUk\\\n",
       "KOehB6P2MB544mdO+wAA6O8oAukCJpHGTluLREc6zi4WcXu9cqelOa/r6PsAAOIH128CYJdwAvUf\\\n",
       "BD0AgI3rN3MAYYj25hF2FWsBAgD6EwIg0A3aum0dAAB9DQEQ6AasBQgA6E+YA9gFzCEAAKD/4fpN\\\n",
       "DyAAAIBxCIAAAACGIQACAAAYhgAIAABgGAIgAACAYQiAAAAAhiEAAgAAGIYACAAAYBgCIAAAgGEI\\\n",
       "gAAAAIYhAAIAABiGAAgAAGAYAiAAAIBhCIAAAACGIQACAAAYhgAIAABgGAIgAACAYQiAAAAAhiEA\\\n",
       "AgAAGIYACAAAYBgCIAAAgGEIgAAAAIYhAAIAABiGAAgAAGAYAiAAAIBh4i4AfvLJJ/rWt76lUaNG\\\n",
       "KTU1VaNHj1ZZWZnq6+vDjtu9e7emT5+utLQ0ZWZm6u677251DAAAQDxKjHUDutvf//53BYNBLV68\\\n",
       "WOeee66qqqo0Z84c1dXV6fHHH5ckNTU16frrr1dWVpbWrVunQ4cOqbi4WJZladGiRTH+DQAAAHqW\\\n",
       "y7IsK9aN6GmPPfaYnnzySX388ceSpD/96U+64YYbtGfPHuXl5UmSli5dqlmzZunAgQNKT0/v0PvW\\\n",
       "1tbK6/XK7/d3+DUAACC2uH7H4RBwJH6/XxkZGc7zt956SwUFBU74k6Rrr71WgUBAGzdujEUTAQAA\\\n",
       "ek3cDQG3tGPHDi1atEg/+clPnG3V1dXKzs4OO27w4MFKTk5WdXV11PcKBAIKBALO89ra2u5vMAAA\\\n",
       "QA/rNz2APp9PLperzce7774b9pp9+/Zp2rRp+trXvqbZs2eH7XO5XK0+w7KsiNttCxculNfrdR7D\\\n",
       "hg3rnl8OAACgF/WbHsDS0lIVFRW1eczIkSOdn/ft26epU6dq4sSJeuqpp8KOy8nJ0dtvvx227ciR\\\n",
       "I2poaGjVMxhq/vz5mjdvnvO8traWEAgAAPqdfhMAMzMzlZmZ2aFj9+7dq6lTp2r8+PF69tln5XaH\\\n",
       "d3ROnDhRCxYs0P79+5WbmytJWrlypTwej8aPHx/1fT0ejzwez5n/EgAAAH1A3FUB79u3T1dddZWG\\\n",
       "Dx+u559/XgkJCc6+nJwcSc3LwHzxi19Udna2HnvsMR0+fFizZs3SjBkzOrUMDFVEAAD0P1y/+1EP\\\n",
       "YEetXLlS27dv1/bt2zV06NCwfXbWTUhI0CuvvKI777xTV1xxhVJTU3XLLbc46wQCAADEs7jrAexN\\\n",
       "/AUBAED/w/W7H1UBAwAAoHsQAAEAAAxDAAQAADAMARAA0Of5fD5VVla2eUxlZaV8Pl/vNAjo5+Ku\\\n",
       "ChgAEF98Pp/Ky8ud5yUlJa2OqaysVGlpadhrAERHDyAAoM9qGf5KS0tb9QS2DH/l5eUEQKAdBEAA\\\n",
       "QJ/UMvzZQkNgy/BnIwQCbWMdwC5gHSEA6BnRwl+o/Px8bd26tc1jysrKCIJohes3PYAAgD4oKysr\\\n",
       "6r4CFUiSE/7s5519H8BkBEAAQJ9TUlKiioqKVtuLVaxFWqQiFUmSilSkRVqkYhW3OraioiJiwQgA\\\n",
       "hoC7hC5kAOhZoXP8ClSgRVrk7PPLL6+8zvO7dJeqVCWJ8Ie2cf2mBxAA0IeF9gRWqUqLtdjZFxr+\\\n",
       "Fmsx4Q/oBHoAu4C/IACgd4wdO9aZ87dcy8PCn19+zdAMSc2FIVu2bIlFE9GPcP2mBxAA0MdVVlY6\\\n",
       "4a9IRWHhT2ruCbTnBG7durXdO4YAIAACAPqwlnMA52qus88vv/PzXM11qoEjLRYNIBwBEADQJ7Vc\\\n",
       "5LlKVVqiJZKa5/zN0AxnTuASLXHmAEqEQKA9zAHsAuYQAIhXVWv36r0Vn+iSaSNVcOU5be6XFPHn\\\n",
       "SK/rqGh3+JCaewJDw17L56EoCEEkXL/pAQQARPDeik907HBA7634pN390X62Va3dq+e//4aq1u7t\\\n",
       "8OfX1NRE3WeHvfz8/LDnnX0fwGQEQAAwUHuh7JJpIzUww+P06rW1P9rP9uesXbpNxw4HtH75jg4H\\\n",
       "QZ/PpxmT/zXq/lsL79WWLVsiLhZt4zZwQHQMAXcBXcgA+qvnv/+Gjh0OyOWWriw6P+pwbbSh3n0f\\\n",
       "HdVH736mxCS3rpg5RpK0fvkONTUGJUtKSHLr8hmjnR5Bl1tKTklU4ESjPAMSlZySEDZMHGnIuWrt\\\n",
       "Xj30wENavu7ZsDbdWnivvvPAfc5xkYaLCX9oC9dvAmCXcAIB6K/snjkrKA3M8Oi2R6+IeJwdFAdm\\\n",
       "eCTJ+fnYkYD0+dVjYIZHJ481qLEhGPXzxlyWrbwxg7R++Q4FTjZKlpyewvdWfKL6U00KnGiM2Baf\\\n",
       "z6fy8nJJ0ef0hYZAwh/aw/VbSox1AwAAvc/uPQvt3Wupau1enTzeILmknNGDtH/HUUnNuS8xya3G\\\n",
       "+ubAd+xwoN3P+2jDZ/pow2enN7jkhL9jhwPyDEiMOuRsh7msrKyoBR329pqaGsIf0AH0AHYBf0EA\\\n",
       "iGd275/U3FsXGvQSk9xt9vi1x+126ctF52n98h2SpMtnjO5S1TDQGVy/6QEEAGNFW+rF3p4zepDq\\\n",
       "Tx1SU0NQdf76sNd2JfxJUjBoac2L2yTJGV5+/vtvKGf0IO3efEiSNPyCs1W942iHlpRpb9kaAOGo\\\n",
       "AgYAQ7VcssWuDF6/fIeOHQ5o+8bPNPyCs9XUFFSwqecGi04eb9CaF5srhT/a8JkCJxoVONGo7Rs/\\\n",
       "a3MpmrZ+F9uZLEEDmIAACACGarlkix2iAicbJUlWsHnuntW1zr62ueTMJWy5/dzx2W0uRRMq2rI1\\\n",
       "7a1nCJiKOYBdwBwCAPEktDJYLjlVvlLX5/x1VNaIgTp1rL7bhnIZGkYkXL+ZAwgA+FxoZbAl6XhI\\\n",
       "0UdCkluNn6/x15MO7jnW5rqEnVVw5TkEPyAChoABAJLCe8vqjn4e/lzNRRrDLzhbntREJSa55XJ1\\\n",
       "32fa7+VOcEmu5mHn91Z8wtw9oIcRAAHAUC1Dll38sX75Dp07PlsutzTm0mzd9ugVqt5xVIETjUod\\\n",
       "mKSzBjdX7brczQs8nzHX5w9Jad5kXfWN88MWhz52OKC1S7cRAoEewBAwABgqtECi5TBp4bcuUOG3\\\n",
       "LnCe26Gs5S3h7NeFLvLsTnBFrBoOm0foOr2YtMutsPdav3yHmhqCYT2CDOMC3YsACACGahnq7Hv3\\\n",
       "Rqq6bTmXLvRnOyz+8s7VsoLNa/y1LBqxbwUXGhwjFWi8t+ITBU40VyGH3jMYQPeiCrgLqCICgNOW\\\n",
       "Ldygml3HnEreY4cDcrnVqaKOqrV7uTsIehzXb+YAAgC6yalj9c6/9rp8nQ1/7634RMMvOFvJKQk9\\\n",
       "2VTAeAwBA0Cc6u018EKHlM9k+RV7TuLxo58x9w/oYQRAAIhTbRV59ISurrlnB8ic0YOcewAD6BkE\\\n",
       "QACIUy2LPHrTmfQ+smgz0HsIgAAQp2IZqHq79xFA51AEAgDodnYRCMO4QN9EDyAAoNsxnAv0bfQA\\\n",
       "AgAAGIYACAAAYBgCIACg36pau1fPf/8NVa3dG+umAP0KARAA0G+FVhsD6DgCIACg36LaGDgzVAED\\\n",
       "APotqo2BM0MPIAAAgGEIgAAAAIYhAAIAABiGAAgAAGAYAiAAAIBh4jIA3njjjRo+fLhSUlKUm5ur\\\n",
       "W2+9Vfv27Qs7Zvfu3Zo+fbrS0tKUmZmpu+++W/X19TFqMQAAQO+JywA4depULVu2TNu2bdMf/vAH\\\n",
       "7dixQzNnznT2NzU16frrr1ddXZ3WrVunpUuX6g9/+IPuu+++GLYaAACgd7gsy7Ji3Yie9vLLL2vG\\\n",
       "jBkKBAJKSkrSn/70J91www3as2eP8vLyJElLly7VrFmzdODAAaWnp3fofWtra+X1euX3+zv8GgAA\\\n",
       "EFtcv+O0BzDU4cOH9Zvf/EaTJk1SUlKSJOmtt95SQUGBE/4k6dprr1UgENDGjRtj1VQAAIBeEbcB\\\n",
       "8Lvf/a7S0tJ09tlna/fu3XrppZecfdXV1crOzg47fvDgwUpOTlZ1dXXU9wwEAqqtrQ17AAAA9Df9\\\n",
       "JgD6fD65XK42H++++65z/H/8x39o06ZNWrlypRISEnTbbbcpdLTb5XK1+gzLsiJuty1cuFBer9d5\\\n",
       "DBs2rHt/SQAAgF7Qb+YAHjx4UAcPHmzzmJEjRyolJaXV9k8//VTDhg3Tm2++qYkTJ+oHP/iBXnrp\\\n",
       "Jf3tb39zjjly5IgyMjK0evVqTZ06NeL7BwIBBQIB53ltba2GDRtm9BwCAAD6G+YASomxbkBHZWZm\\\n",
       "KjMz84xea2dcO7xNnDhRCxYs0P79+5WbmytJWrlypTwej8aPHx/1fTwejzwezxm1AQAAoK/oNwGw\\\n",
       "o9555x298847mjx5sgYPHqyPP/5YP/jBDzR69GhNnDhRklRYWKixY8fq1ltv1WOPPabDhw/r/vvv\\\n",
       "15w5czr1l4AdLJkLCABA/2Fft/vJIGjPsOLMBx98YE2dOtXKyMiwPB6PNXLkSOv222+3Pv3007Dj\\\n",
       "du3aZV1//fVWamqqlZGRYZWWllqnTp3q1Gft2bPHksSDBw8ePHjw6IePPXv2dGcE6Vf6zRzAvigY\\\n",
       "DGrfvn0aOHBgm8UjfY09d3HPnj3Gzn2Q+B5C8V2cxnfRjO/hNL6L0+Llu7AsS8eOHVNeXp7c7n5T\\\n",
       "D9ut4m4IuDe53W4NHTo01s04Y+np6f36f8Ddhe/hNL6L0/gumvE9nMZ3cVo8fBderzfWTYgpM2Mv\\\n",
       "AACAwQiAAAAAhiEAGsjj8aisrMz4JW34Hk7juziN76IZ38NpfBen8V3ED4pAAAAADEMPIAAAgGEI\\\n",
       "gAAAAIYhAAIAABiGAAgAAGAYAqDhRo4cKZfLFfb43ve+F+tm9Ypf/vKXGjVqlFJSUjR+/Hj99a9/\\\n",
       "jXWTep3P52v13z8nJyfWzepxa9eu1fTp05WXlyeXy6Xly5eH7bcsSz6fT3l5eUpNTdWUKVO0efPm\\\n",
       "2DS2h7X3XcyaNavVOXL55ZfHprE9aOHChbrssss0cOBADRkyRDNmzNC2bdvCjjHlvOjId2HKeRHP\\\n",
       "CIDQww8/rP379zuPBx98MNZN6nG/+93vdM899+iBBx7Qpk2b9OUvf1nXXXeddu/eHeum9boLLrgg\\\n",
       "7L//hx9+GOsm9bi6ujpddNFFqqioiLj/xz/+sX7605+qoqJCGzZsUE5Ojq655hodO3asl1va89r7\\\n",
       "LiRp2rRpYefIq6++2ost7B1r1qxRSUmJ1q9fr1WrVqmxsVGFhYWqq6tzjjHlvOjIdyGZcV7EtRje\\\n",
       "hxh9wIgRI6wnnngi1s3odV/60pes22+/PWzbF77wBet73/tejFoUG2VlZdZFF10U62bElCTrv//7\\\n",
       "v53nwWDQysnJsX74wx86206dOmV5vV7rV7/6VQxa2HtafheWZVnFxcXWP/7jP8akPbF04MABS5K1\\\n",
       "Zs0ay7LMPi9afheWZe55EU/oAYR+9KMf6eyzz9YXv/hFLViwQPX19bFuUo+qr6/Xxo0bVVhYGLa9\\\n",
       "sLBQb775ZoxaFTsfffSR8vLyNGrUKBUVFenjjz+OdZNiaufOnaqurg47Pzwej6666iojzw9Jev31\\\n",
       "1zVkyBCdd955mjNnjg4cOBDrJvU4v98vScrIyJBk9nnR8ruwmXhexJPEWDcAsfXtb39bl1xyiQYP\\\n",
       "Hqx33nlH8+fP186dO/X000/Humk95uDBg2pqalJ2dnbY9uzsbFVXV8eoVbExYcIEPf/88zrvvPP0\\\n",
       "2Wef6ZFHHtGkSZO0efNmnX322bFuXkzY50Ck82PXrl2xaFJMXXfddfra176mESNGaOfOnXrooYd0\\\n",
       "9dVXa+PGjXF7NwjLsjRv3jxNnjxZBQUFksw9LyJ9F5KZ50W8IQDGIZ/Pp/Ly8jaP2bBhgy699FLd\\\n",
       "e++9zrYLL7xQgwcP1syZM51ewXjmcrnCnluW1WpbvLvuuuucn8eNG6eJEydq9OjReu655zRv3rwY\\\n",
       "tiz2OD+aff3rX3d+Ligo0KWXXqoRI0bolVde0U033RTDlvWc0tJSffDBB1q3bl2rfaadF9G+CxPP\\\n",
       "i3hDAIxDpaWlKioqavOYkSNHRtxuV3Ft3749bgNgZmamEhISWvX2HThwoNVf96ZJS0vTuHHj9NFH\\\n",
       "H8W6KTFjV0FXV1crNzfX2c750Sw3N1cjRoyI23Pkrrvu0ssvv6y1a9dq6NChznYTz4to30Uk8X5e\\\n",
       "xCPmAMahzMxMfeELX2jzkZKSEvG1mzZtkqSw/wcXb5KTkzV+/HitWrUqbPuqVas0adKkGLWqbwgE\\\n",
       "Atq6dWtc//dvz6hRo5STkxN2ftTX12vNmjXGnx+SdOjQIe3ZsyfuzhHLslRaWqo//vGPWr16tUaN\\\n",
       "GhW236Tzor3vIpJ4PS/iGT2ABnvrrbe0fv16TZ06VV6vVxs2bNC9996rG2+8UcOHD49183rUvHnz\\\n",
       "dOutt+rSSy/VxIkT9dRTT2n37t26/fbbY920XnX//fdr+vTpGj58uA4cOKBHHnlEtbW1Ki4ujnXT\\\n",
       "etTx48e1fft25/nOnTv1/vvvKyMjQ8OHD9c999yjRx99VGPGjNGYMWP06KOPasCAAbrlllti2Oqe\\\n",
       "0dZ3kZGRIZ/Pp3/+539Wbm6uPvnkE33/+99XZmam/umf/imGre5+JSUlevHFF/XSSy9p4MCBzgiB\\\n",
       "1+tVamqqXC6XMedFe9/F8ePHjTkv4loMK5ARYxs3brQmTJhgeb1eKyUlxTr//POtsrIyq66uLtZN\\\n",
       "6xWVlZXWiBEjrOTkZOuSSy4JW+LAFF//+tet3NxcKykpycrLy7Nuuukma/PmzbFuVo/7y1/+Yklq\\\n",
       "9SguLrYsq3nJj7KyMisnJ8fyeDzWlVdeaX344YexbXQPaeu7OHHihFVYWGhlZWVZSUlJ1vDhw63i\\\n",
       "4mJr9+7dsW52t4v0HUiynn32WecYU86L9r4Lk86LeOayLMvqzcAJAACA2GIOIAAAgGEIgAAAAIYh\\\n",
       "AAIAABiGAAgAAGAYAiAAAIBhCIAAAACGIQACAAAYhgAIAABgGAIgAACAYQiAAAAAhiEAAgAAGIYA\\\n",
       "CAAAYBgCIAAAgGEIgAAAAIYhAAIAABiGAAgAAGAYAiAAAIBhCIAAAACGIQACAAAYhgAIAABgGAIg\\\n",
       "AACAYQiAAAAAhiEAAgAAGIYACAAAYBgCIAAAgGEIgAAAAIYhAAIAABiGAAgAAGAYAiAAAIBhCIAA\\\n",
       "AACGIQACAAAY5v8DWvV2s5lniM4AAAAASUVORK5CYII=\\\n",
       "\"\n",
       "  frames[2] = \"data:image/png;base64,iVBORw0KGgoAAAANSUhEUgAAAoAAAAHgCAYAAAA10dzkAAAAOXRFWHRTb2Z0d2FyZQBNYXRwbG90\\\n",
       "bGliIHZlcnNpb24zLjUuMiwgaHR0cHM6Ly9tYXRwbG90bGliLm9yZy8qNh9FAAAACXBIWXMAAA9h\\\n",
       "AAAPYQGoP6dpAAAlMklEQVR4nO3df2xdd2H//5fbUjdFidcS127UtM2HlZHMDETKunRA20kEMtYt\\\n",
       "Y0NY1bdfR9pQKuyyUqGNjvHxDaLN+DE2yTYsaBMpf3TlHyhIdFKjFQJVW1aiRpAmQ3QUEq3NYrrq\\\n",
       "uu02B9rz+SPznX+mSRz72vf9eFRXyjn3+OadqwPn6fc959y2qqqqAABQjHOaPQAAABaXAAQAKIwA\\\n",
       "BAAojAAEACiMAAQAKIwABAAojAAEACiMAAQAKIwABAAojAAEACiMAAQAKIwABAAojAAEACiMAAQA\\\n",
       "KIwABAAojAAEACiMAAQAKIwABAAojAAEACiMAAQAKIwABAAojAAEACiMAAQAKIwABAAojAAEACiM\\\n",
       "AAQAKIwABAAojAAEACiMAAQAKIwABAAojAAEACiMAAQAKIwABAAojAAEACiMAAQAKIwABAAojAAE\\\n",
       "ACiMAAQAKIwABAAojAAEACiMAAQAKIwABAAojAAEACiMAAQAKIwABAAojAAEACiMAAQAKIwABAAo\\\n",
       "jAAEACiMAAQAKIwABAAojAAEACiMAAQAKIwABAAojAAEACiMAAQAKMx5zR7Acvbyyy/n6aefzsqV\\\n",
       "K9PW1tbs4QAAp6Cqqjz//PNZs2ZNzjmnzLkwATgPTz/9dNauXdvsYQAAZ+DIkSO57LLLmj2MphCA\\\n",
       "87By5cokJ3agVatWNXk0AMCpGBsby9q1axvH8RIJwHmY+Nh31apVAhAAlpmST98q84NvAICCCUAA\\\n",
       "gMIIQACAwghAAIDCCEDmVKvVMjIyctJtRkZGUqvVFmdAAMBZ4SpgZlWr1bJjx47Gcn9//4xtRkZG\\\n",
       "MjAwMOVnAIClzwwgM0yPv4GBgRkzgdPjb8eOHQIQAJYJAcgU0+NvwuQInB5/E0QgACwPbVVVVc0e\\\n",
       "xHI1NjaWjo6O1Ov1lrgR9FzxN9n69etz6NChk24zODgoBAFYslrt+H0mzADS0NnZOedzPelJkkb8\\\n",
       "TSyf7usAAM0nAGno7+/P8PDwjPV96ctQhtKb3iRJb3ozlKH0pW/GtsPDw7NeMAIALB2uAi5ArVZL\\\n",
       "Z2fnScNsZGQko6OjjY9uJ87x60lPtmVbkmR7tqc3velIR5JkW7ZlX/blQA4kEX8AsFwIwBY3n9u5\\\n",
       "DAwM5EAOZFd2ZXu2J0kj/pJkV3aJPwBYhlwEMg9L/STS2S7qmB5qs13RO3ERx4YNGxrn/N2X+6bE\\\n",
       "Xz31bM3WJCcuDDl48OAC/SsA4Oxa6sfvxeAcwBY139u5/PZv/3Yj/iZ/7DuhIx2NcwIPHTr0it8Y\\\n",
       "AgAsHWYA52Gp/gZxtm7nkpw4B3AoQ43leupTYvDW3OpjYACWlaV6/F5MZgBb0Nm6nUuSHMiB7M7u\\\n",
       "JCfO+duardmVXUmS3dndiL9k9m8MAQCWHjOA87CUf4OY7ePdvvRlW7ZlV3bl3tyb3vRme7Znd3bn\\\n",
       "7tx90tfrSc+U2Ju+PJmZQACWsqV8/F4sZgBb1PR7+k2/nct9ua9xZe+2bDulmcDkxEfHk5dnMzo6\\\n",
       "Op+hAwALTAC2sMkROHE7lwlz3c5ly5Ytc77e8PBwDh48OOvNoif4GjgAWPoEYIvr7+9vzNrdm3tT\\\n",
       "T33K8/XUc2/uTXJidu/+++/P4ODgjNeZ/LHuXN8YIv4AYHkQgC1uZGTktG/nUqvVpkTgbOf0TY9A\\\n",
       "8QcAy4dvAmlhky8E6UlP45y/ZOrtXLZnew78z38T20/E3Mm+Qm5i/eSvkAMAlj5XAc/DUr6KaL5X\\\n",
       "AbuSF4BWtZSP34tFAM7DUt2B5vqGj8TtXABgqR6/F5NzAFvQyW7D4nYuAIAAbEHTL+KYzu1cAKBs\\\n",
       "ArBFzRWBbucCAAjAFuZ2LgDAbNwGZom68iPfmLL8k7989xm9jtu5AADTuQp4HhbyKqKX/29H2tqS\\\n",
       "qkr+z/F7zjgAAYCpXAVsBnDJams78QAAONsE4BI1MS9bVckntvY0dzAAQEsRgEvUOR+vJ0nakvx/\\\n",
       "zR0KANBiXAUMAFAYAQgAUBgBCABQGAEIAFAYAQgAUBgBCABQGAEIAFAYAQgAUBgBCABQGAEIAFAY\\\n",
       "AQgAUBgBCABQGAEIAFAYAQgAUJiWDcCdO3fmLW95S1auXJlLLrkkW7duzQ9/+MMp21RVlVqtljVr\\\n",
       "1mTFihW5/vrr88QTTzRpxAAAi6NlA3Dv3r3p7+/Po48+mj179uQXv/hFNm/enBdffLGxzac+9al8\\\n",
       "9rOfzfDwcB577LF0d3fnHe94R55//vkmjhwAYGG1VVVVNXsQi2F0dDSXXHJJ9u7dm7e//e2pqipr\\\n",
       "1qzJbbfdlj/7sz9LkoyPj6erqyuf/OQns3379ld8zbGxsXR0dKRer2fVqlUL/U8AAM4Cx+8WngGc\\\n",
       "rl6vJ0kuvvjiJMlTTz2Vo0ePZvPmzY1t2tvbc9111+Xhhx9uyhgBABbDec0ewGKoqiq333573vrW\\\n",
       "t6anpydJcvTo0SRJV1fXlG27urry05/+dNbXGR8fz/j4eGN5bGxsgUYMALBwipgBHBgYyPe///38\\\n",
       "wz/8w4zn2trapixXVTVj3YSdO3emo6Oj8Vi7du2CjBcAYCG1fADeeuut+frXv55vfvObueyyyxrr\\\n",
       "u7u7k/zvTOCEY8eOzZgVnHDHHXekXq83HkeOHFm4gQMALJCWDcCqqjIwMJCvfOUrefDBB7Nu3bop\\\n",
       "z69bty7d3d3Zs2dPY93x48ezd+/eXHvttbO+Znt7e1atWjXlAQCw3LTsOYD9/f2555578rWvfS0r\\\n",
       "V65szPR1dHRkxYoVaWtry2233Za77rorV111Va666qrcddddufDCC3PTTTc1efQAAAunZQPw85//\\\n",
       "fJLk+uuvn7L+i1/8YrZt25Yk+dM//dP813/9Vz7wgQ/kueeeyzXXXJMHHnggK1euXOTRAgAsnmLu\\\n",
       "A7gQ3EcIAJYfx+8WPgcQAIDZCUAAgMIIQACAwghAAIDCCEAAgMIIQACAwghAAIDCCEAAgMIIQACA\\\n",
       "wghAAIDCCEAAgMIIQACAwghAAIDCCEAAgMIIQACAwghAAIDCCEAAgMIIQACAwghAAIDCCEAAgMII\\\n",
       "QACAwghAAIDCCEAAgMIIQACAwghAAIDCCEAAgMIIQACAwghAAIDCCEAAgMIIQACAwghAAIDCCEAA\\\n",
       "gMIIQACAwghAAIDCCEAAgMIIQACAwghAAIDCCEAAgMIIQACAwghAAIDCCEAAgMIIQACAwghAAIDC\\\n",
       "CEAAgMIIQACAwghAAIDCCEAAgMIIQACAwghAAIDCCEAAgMIIQACAwghAAIDCCEAAgMIIQACAwghA\\\n",
       "AIDCtGwAfvvb386NN96YNWvWpK2tLffdd9+U56uqSq1Wy5o1a7JixYpcf/31eeKJJ5ozWACARdSy\\\n",
       "Afjiiy/mjW98Y4aHh2d9/lOf+lQ++9nPZnh4OI899li6u7vzjne8I88///wijxQAYHGd1+wBLJQt\\\n",
       "W7Zky5Ytsz5XVVX+5m/+Jh/96Efznve8J0ly9913p6urK/fcc0+2b9++mEMFgOLVarV0dnamv79/\\\n",
       "zm1GRkYyOjqaWq22eANrUS0bgCfz1FNP5ejRo9m8eXNjXXt7e6677ro8/PDDAhAAFlGtVsuOHTsa\\\n",
       "y7NF4MjISAYGBqb8DGeuyAA8evRokqSrq2vK+q6urvz0pz+d8+fGx8czPj7eWB4bG1uYAQJAIabH\\\n",
       "30TkTY7A6fE3sb0IPHMtew7gqWhra5uyXFXVjHWT7dy5Mx0dHY3H2rVrF3qIANCypsffhIGBgYyM\\\n",
       "jCSZGX8TduzYIQDnocgA7O7uTvK/M4ETjh07NmNWcLI77rgj9Xq98Thy5MiCjhMAWtVc8TdhYGAg\\\n",
       "GzZsmDX+JojAM1dkAK5bty7d3d3Zs2dPY93x48ezd+/eXHvttXP+XHt7e1atWjXlAQCcvs7Ozjmf\\\n",
       "60lPkuTQoUNTlk/3dZhbywbgCy+8kP3792f//v1JTlz4sX///hw+fDhtbW257bbbctddd+WrX/1q\\\n",
       "Dhw4kG3btuXCCy/MTTfd1NyBA0AB+vv7Z71VW1/6MpSh9KY3SdKb3gxlKH3pm7Ht8PDwSa8aZm5t\\\n",
       "VVVVzR7EQvjWt76VG264Ycb6vr6+7N69O1VVZceOHdm1a1eee+65XHPNNRkZGUlPz9y/ZUw3NjaW\\\n",
       "jo6O1Ot1s4EAcAYmn+PXk54MZajxXD31dKSjsXxrbs2BHEgyv/hz/G7hAFwMdiAAmL/JEdib3mzP\\\n",
       "zNux7cqu3Jt7k8x/5s/xWwDOix0IAM6ODRs2NM75uy/3TZn5q6eerdmaJFm/fn0OHjw4r7/L8buF\\\n",
       "zwEEAJaHkZGRRvz1pndK/CVJRzoa5wQeOnSocYsYzpwABACaZvo5gJM//q2n3vjz9mxvXA08+T6B\\\n",
       "nBkBCAA0xfSbPB/IgezO7iQnzvnbmq3ZlV1Jkt3Z3bgAJBGB8+UcwHlwDgEAnJm5vuEjOTETODn2\\\n",
       "pi9PdiYXhDh+mwEEAJpgdHR0zucmYm/9+vVTlk/3dZibAAQAFl2tVsvg4OCczw8PD+fgwYOz3ix6\\\n",
       "wuDgoK+CO0MCEABoirkicPLHunN9Y4j4mx8BCAA0zfQInO2cvukRKP7m77xmDwAAKNtEzHV2ds55\\\n",
       "QcfE+tHRUfF3FrgKeB5cRQQAy4/jt4+AAYAloFarveJ9/UZGRsz+nSU+AgYAmqpWq2XHjh2N5dk+\\\n",
       "Bp5+30AhOD9mAAGAppkef7N9w8f0+NuxY4cAnCcBCAA0xfT4mzA5Auf6xhAROD8uApkHJ5ECwJmZ\\\n",
       "K/4mW79+fQ4dOnTSbc7kljCO32YAAYAm6OzsnPO5nvQkSSP+JpZP93WYmwAEABbdXN/w0Ze+DGUo\\\n",
       "velNkvSmN0MZSl/6Zmw7202jOTU+Ap4HU8gAMD+Tz/HrSU+GMtR4rp56OtLRWL41t+ZADiSZX/w5\\\n",
       "fpsBBACaaPJM4IEcyK7sajw3Of52ZddZiT9OMAM4D36DAICzY8OGDY1z/u7LfVPir556tmZrkhMX\\\n",
       "hhw8eHBef5fjtxlAAKDJRkZGGvHXm94p8ZecmAmcOCfw0KFDr/iNIbwy3wQCALyiN9z9hinLP+j7\\\n",
       "wVl53ennAG7P9sZzk88B3J7tOfA//01s72PgM2cGEABoiuk3eT6QA9md3UlOnPO3NVsb5wTuzu7G\\\n",
       "OYDJ7N8YwqkzAwgAnJL///61aUtbqlSZ5a4sp2Wub/i4O3dnX/Y1Yu/e3NuY+ZvOTOCZMwMIAJyS\\\n",
       "tkn/zdfo6Oicz03E3vr166csn+7rMDcBCAC8oo/9xsdSTfpvvmq1WgYHB+d8fnh4OAcPHpz1ZtET\\\n",
       "zuRr4DjBbWDmwWXkADA/s30n8PT7/M32cfF84s/x2wwgANBE02cCZ7vJ8/SvjTPzN38uAgEAmmoi\\\n",
       "5jo7O+e8oGNi/ejoqPg7C3wEPA+mkAFg+XH89hEwAEBxBCAAQGEEIABAYQQgAEBhBCAAQGEEIABA\\\n",
       "YQQgAEBhBCAAQGEEIABAYQQgAEBhBCAAQGEEIABAYQQgAEBhBCAAQGEEIABAYQQgAEBhBCAAQGEE\\\n",
       "IABAYQQgAEBhBCAAQGEEIABAYQQgAEBhBCAAQGEEIABAYYoPwM997nNZt25dLrjggmzcuDHf+c53\\\n",
       "mj0kAIAFVXQAfvnLX85tt92Wj370o3n88cfztre9LVu2bMnhw4ebPTQAgAXTVlVV1exBNMs111yT\\\n",
       "N7/5zfn85z/fWLd+/fps3bo1O3fufMWfHxsbS0dHR+r1elatWrWQQwUAzhLH74JnAI8fP559+/Zl\\\n",
       "8+bNU9Zv3rw5Dz/8cJNGBQCw8M5r9gCa5Wc/+1leeumldHV1TVnf1dWVo0ePzvoz4+PjGR8fbyyP\\\n",
       "jY0t6BgBABZCsTOAE9ra2qYsV1U1Y92EnTt3pqOjo/FYu3btYgwRAOCsKjYAV69enXPPPXfGbN+x\\\n",
       "Y8dmzApOuOOOO1Kv1xuPI0eOLMZQAQDOqmID8Pzzz8/GjRuzZ8+eKev37NmTa6+9dtafaW9vz6pV\\\n",
       "q6Y8AACWm2LPAUyS22+/PTfffHOuvvrqbNq0KV/4whdy+PDh3HLLLc0eGgDAgik6AN/3vvfl2Wef\\\n",
       "zcc//vE888wz6enpyf33358rrrii2UMDAFgwRd8HcL7cRwgAlh/H74LPAQQAKJUABAAojAAEACiM\\\n",
       "AAQAKIwABAAojAAEACiMAAQAKIwABAAojAAEACiMAAQAKIwABAAojAAEACiMAAQAKIwABAAojAAE\\\n",
       "ACiMAAQAKIwABAAojAAEACiMAAQAKIwABAAojAAEACiMAAQAKIwABAAojAAEACiMAAQAKIwABAAo\\\n",
       "jAAEACiMAAQAKIwABAAojAAEACiMAAQAKIwABAAojAAEACiMAAQAKIwABAAojAAEACiMAAQAKIwA\\\n",
       "BAAojAAEACiMAAQAKIwABAAojAAEACiMAAQAKIwABAAojAAEACiMAAQAKIwABAAojAAEACiMAAQA\\\n",
       "KIwABAAojAAEACiMAAQAKIwABAAojAAEACiMAAQAKExLBuCdd96Za6+9NhdeeGF+6Zd+adZtDh8+\\\n",
       "nBtvvDGvfvWrs3r16nzwgx/M8ePHF3egAABNcF6zB7AQjh8/nve+973ZtGlT/v7v/37G8y+99FLe\\\n",
       "/e53p7OzMw899FCeffbZ9PX1paqqDA0NNWHEAACLpyUDcMeOHUmS3bt3z/r8Aw88kIMHD+bIkSNZ\\\n",
       "s2ZNkuSv/uqvsm3bttx5551ZtWrVYg2VJqvVauns7Ex/f/+c24yMjGR0dDS1Wm3xBgYAC6glA/CV\\\n",
       "PPLII+np6WnEX5K8853vzPj4ePbt25cbbrhh1p8bHx/P+Ph4Y3lsbGzBx8rCqdVqjV8WkswagSMj\\\n",
       "IxkYGJjyMwCw3LXkOYCv5OjRo+nq6pqy7qKLLsr555+fo0ePzvlzO3fuTEdHR+Oxdu3ahR4qC2R6\\\n",
       "/A0MDGRkZGTKNtPjb8eOHQIQgJawbAKwVqulra3tpI/vfe97p/x6bW1tM9ZVVTXr+gl33HFH6vV6\\\n",
       "43HkyJEz+rfQXNPjb8LkCJwefxNEIACtYNl8BDwwMJDe3t6TbnPllVee0mt1d3fnu9/97pR1zz33\\\n",
       "XH7+85/PmBmcrL29Pe3t7af0d7A0zRV/EyYi8NChQ3NuM/HzQhCA5WrZBODq1auzevXqs/JamzZt\\\n",
       "yp133plnnnkml156aZITF4a0t7dn48aNZ+XvYGnq7Oyc87me9ORADjTib2L5dF8HAJa6ZfMR8Ok4\\\n",
       "fPhw9u/fn8OHD+ell17K/v37s3///rzwwgtJks2bN2fDhg25+eab8/jjj+ef/umf8uEPfzjvf//7\\\n",
       "XQHc4vr7+zM8PDxjfV/6MpSh9ObELHNvejOUofSlb8a2w8PDJ71qGACWuraqqqpmD+Js27ZtW+6+\\\n",
       "++4Z67/5zW/m+uuvT3IiEj/wgQ/kwQcfzIoVK3LTTTflM5/5zGl9xDs2NpaOjo7U63XhuMxMPsev\\\n",
       "Jz0Zyv/e/7GeejrS0Vi+Nbc2ZgLFH8Dy5/jdogG4WOxAy9vkCOxNb7Zn+4xtdmVX7s29ScQfQKtw\\\n",
       "/BaA82IHWv42bNjQOOfvvtw3Zeavnnq2ZmuSZP369Tl48GAzhgjAWeb43aLnAMKpmHy1b296p8Rf\\\n",
       "knSko3FO4KFDh2bcJxAAlisBSJGmnwM4+ePfeuqNP2/P9vSkJ8nsN4sGgOVIAFKc6Td5PpAD2Z3d\\\n",
       "SU6c87c1W7Mru5Iku7N7yq1gRCAArcA5gPPgHILlZ65v+Ehm3vfvZPcBdEEIwPLl+G0GkMKMjo7O\\\n",
       "+dxE7K1fv37K8um+DgAsdQKQotRqtQwODs75/PDwcA4ePDjrzaInDA4O+ho4AJY1AUhx5orAyR/r\\\n",
       "zvWNIeIPgFYgACnS9Aic7Zy+6REo/gBoFec1ewDQLBMx19nZOecFHRPrR0dHxR8ALcNVwPPgKiIA\\\n",
       "WH4cv80AskQdev36xp/X/8uhJo4EAFqPcwBZ8ibHIAAwfwIQAKAwAhAAoDDOAWRJct4fACwcM4AA\\\n",
       "AIURgAAAhRGAAACFEYAAAIURgAAAhRGAAACFEYAAAIURgAAAhRGAAACFEYAAAIURgAAAhRGAAACF\\\n",
       "EYAAAIURgAAAhRGAAACFEYAAAIURgAAAhRGAAACFEYAAAIURgAAAhRGAAACFEYAAAIURgAAAhRGA\\\n",
       "AACFEYAAAIURgAAAhRGAAACFEYAAAIURgAAAhRGAAACFEYAAAIURgAAAhRGAAACFEYAAAIURgAAA\\\n",
       "hRGAAACFEYAAAIURgAAAhRGAAACFabkA/MlPfpI/+qM/yrp167JixYq89rWvzeDgYI4fPz5lu8OH\\\n",
       "D+fGG2/Mq1/96qxevTof/OAHZ2wDANCKzmv2AM62f/mXf8nLL7+cXbt25Zd/+Zdz4MCBvP/978+L\\\n",
       "L76Yz3zmM0mSl156Ke9+97vT2dmZhx56KM8++2z6+vpSVVWGhoaa/C8AAFhYbVVVVc0exEL79Kc/\\\n",
       "nc9//vP58Y9/nCT5x3/8x/zO7/xOjhw5kjVr1iRJ7r333mzbti3Hjh3LqlWrTul1x8bG0tHRkXq9\\\n",
       "fso/AwA0l+N3C34EPJt6vZ6LL764sfzII4+kp6enEX9J8s53vjPj4+PZt2/fnK8zPj6esbGxKQ8A\\\n",
       "gOWm5QPwX//1XzM0NJRbbrmlse7o0aPp6uqast1FF12U888/P0ePHp3ztXbu3JmOjo7GY+3atQs2\\\n",
       "bgCAhbJsArBWq6Wtre2kj+9973tTfubpp5/Ou971rrz3ve/NH//xH095rq2tbcbfUVXVrOsn3HHH\\\n",
       "HanX643HkSNHzs4/DgBgES2bi0AGBgbS29t70m2uvPLKxp+ffvrp3HDDDdm0aVO+8IUvTNmuu7s7\\\n",
       "3/3ud6ese+655/Lzn/98xszgZO3t7Wlvbz/9wQMALCHLJgBXr16d1atXn9K2//Zv/5YbbrghGzdu\\\n",
       "zBe/+MWcc87Uic5NmzblzjvvzDPPPJNLL700SfLAAw+kvb09GzduPOtjBwBYSlruKuCnn3461113\\\n",
       "XS6//PJ86Utfyrnnntt4rru7O8mJ28C86U1vSldXVz796U/nP/7jP7Jt27Zs3br1tG4D4yoiAFh+\\\n",
       "HL+X0QzgqXrggQfy5JNP5sknn8xll1025bmJ1j333HPzjW98Ix/4wAfym7/5m1mxYkVuuummxn0C\\\n",
       "AQBaWcvNAC4mv0EAwPLj+L2MrgIGAODsEIAAAIURgAAAhRGAAACFEYAALAm1Wi0jIyMn3WZkZCS1\\\n",
       "Wm1xBgQtrOVuAwPA8lOr1bJjx47Gcn9//4xtRkZGMjAwMOVngDNjBhCAppoefwMDAzNmAqfH344d\\\n",
       "OwQgzIMABKBppsffhMkROD3+JohAOHNuBD0PbiQJcObmir/J1q9fn0OHDp10m8HBQSHIaXH8NgMI\\\n",
       "QJN0dnbO+VxPepKkEX8Ty6f7OsDsBCAATdHf35/h4eEZ6/vSl6EMpTe9SZLe9GYoQ+lL34xth4eH\\\n",
       "Z71gBDg5HwHPgylkgPmbfI5fT3oylKHGc/XU05GOxvKtuTUHciCJ+OPMOX6bAQSgySbPBB7IgezK\\\n",
       "rsZzk+NvV3aJPzhLzADOg98gAM6eDRs2NM75uy/3TYm/eurZmq1JTlwYcvDgwWYMkRbh+G0GEIAl\\\n",
       "YGRkpBF/vemdEn/JiZnAiXMCDx069IrfGAKcnAAEoKmmnwO4Pdsbz9VTb/x5e7Y3rgae7WbRwKkT\\\n",
       "gAA0zfSbPB/IgezO7iQnzvnbmq2NcwJ3Z3fjHMBEBMJ8OAdwHpxDAHDm5vqGj+TETODk2Ju+PJkL\\\n",
       "Qjhdjt9mAAFoktHR0Tmfm4i99evXT1k+3dcBZicAAWiKWq2WwcHBOZ8fHh7OwYMHZ71Z9ARfAwdn\\\n",
       "RgAC0DRzReDkj3Xn+sYQ8QdnTgAC0FTTI3C2c/qmR6D4g/k5r9kDAICJmOvs7Jzzgo6J9aOjo+IP\\\n",
       "5slVwPPgKiIAWH4cv30EDABQHB8BA3DKRm55cMpy/9/+VpNGAsyHGUAAgMIIQACAwvgIGIBT5iNf\\\n",
       "aA1mAAEACiMAAQAKIwABAAojAAEACiMAAQAKIwABAAojAAEACiMAAQAKIwABAAojAAEACiMAAQAK\\\n",
       "IwABAAojAAEACnNeswewnFVVlSQZGxtr8kgAgFM1cdyeOI6XSADOw/PPP58kWbt2bZNHAgCcruef\\\n",
       "fz4dHR3NHkZTtFUl5+88vfzyy3n66aezcuXKtLW1nfHrjI2NZe3atTly5EhWrVp1Fke4/Hlv5ua9\\\n",
       "mZv3Zm7em5Pz/sytld6bqqry/PPPZ82aNTnnnDLPhjMDOA/nnHNOLrvssrP2eqtWrVr2/6NaKN6b\\\n",
       "uXlv5ua9mZv35uS8P3Nrlfem1Jm/CWVmLwBAwQQgAEBhBOAS0N7ensHBwbS3tzd7KEuO92Zu3pu5\\\n",
       "eW/m5r05Oe/P3Lw3rcVFIAAAhTEDCABQGAEIAFAYAQgAUBgBCABQGAG4xFx55ZVpa2ub8vjIRz7S\\\n",
       "7GE1xec+97msW7cuF1xwQTZu3JjvfOc7zR7SklCr1WbsI93d3c0eVlN8+9vfzo033pg1a9akra0t\\\n",
       "991335Tnq6pKrVbLmjVrsmLFilx//fV54oknmjPYRfZK7822bdtm7Ee/8Ru/0ZzBLrKdO3fmLW95\\\n",
       "S1auXJlLLrkkW7duzQ9/+MMp25S675zKe1PyvtNKBOAS9PGPfzzPPPNM4/EXf/EXzR7Sovvyl7+c\\\n",
       "2267LR/96Efz+OOP521ve1u2bNmSw4cPN3toS8Kv/uqvTtlHfvCDHzR7SE3x4osv5o1vfGOGh4dn\\\n",
       "ff5Tn/pUPvvZz2Z4eDiPPfZYuru78453vKPxPd6t7JXemyR517veNWU/uv/++xdxhM2zd+/e9Pf3\\\n",
       "59FHH82ePXvyi1/8Ips3b86LL77Y2KbUfedU3puk3H2npVQsKVdccUX113/9180eRtP9+q//enXL\\\n",
       "LbdMWff617+++shHPtKkES0dg4OD1Rvf+MZmD2PJSVJ99atfbSy//PLLVXd3d/WXf/mXjXX//d//\\\n",
       "XXV0dFR/+7d/24QRNs/096aqqqqvr6/6vd/7vaaMZ6k5duxYlaTau3dvVVX2ncmmvzdVZd9pFWYA\\\n",
       "l6BPfvKTec1rXpM3velNufPOO3P8+PFmD2lRHT9+PPv27cvmzZunrN+8eXMefvjhJo1qafnRj36U\\\n",
       "NWvWZN26dent7c2Pf/zjZg9pyXnqqady9OjRKftRe3t7rrvuOvvR//jWt76VSy65JK973evy/ve/\\\n",
       "P8eOHWv2kJqiXq8nSS6++OIk9p3Jpr83E+w7y995zR4AU/3Jn/xJ3vzmN+eiiy7KP//zP+eOO+7I\\\n",
       "U089lb/7u79r9tAWzc9+9rO89NJL6erqmrK+q6srR48ebdKolo5rrrkmX/rSl/K6170u//7v/55P\\\n",
       "fOITufbaa/PEE0/kNa95TbOHt2RM7Cuz7Uc//elPmzGkJWXLli1573vfmyuuuCJPPfVUPvaxj+W3\\\n",
       "fuu3sm/fvqK+6aGqqtx+++1561vfmp6eniT2nQmzvTeJfadVCMBFUKvVsmPHjpNu89hjj+Xqq6/O\\\n",
       "hz70oca6X/u1X8tFF12UP/zDP2zMCpakra1tynJVVTPWlWjLli2NP7/hDW/Ipk2b8trXvjZ33313\\\n",
       "br/99iaObGmyH83ufe97X+PPPT09ufrqq3PFFVfkG9/4Rt7znvc0cWSLa2BgIN///vfz0EMPzXiu\\\n",
       "9H1nrvfGvtMaBOAiGBgYSG9v70m3ufLKK2ddP3Fl1ZNPPllMAK5evTrnnnvujNm+Y8eOzfiNnOTV\\\n",
       "r3513vCGN+RHP/pRs4eypExcGX306NFceumljfX2o9ldeumlueKKK4raj2699dZ8/etfz7e//e1c\\\n",
       "dtlljfX2nbnfm9mUuO+0AucALoLVq1fn9a9//UkfF1xwwaw/+/jjjyfJlP8TanXnn39+Nm7cmD17\\\n",
       "9kxZv2fPnlx77bVNGtXSNT4+nkOHDhW1j5yKdevWpbu7e8p+dPz48ezdu9d+NItnn302R44cKWI/\\\n",
       "qqoqAwMD+cpXvpIHH3ww69atm/J8yfvOK703sylp32klZgCXkEceeSSPPvpobrjhhnR0dOSxxx7L\\\n",
       "hz70ofzu7/5uLr/88mYPb1Hdfvvtufnmm3P11Vdn06ZN+cIXvpDDhw/nlltuafbQmu7DH/5wbrzx\\\n",
       "xlx++eU5duxYPvGJT2RsbCx9fX3NHtqie+GFF/Lkk082lp966qns378/F198cS6//PLcdtttueuu\\\n",
       "u3LVVVflqquuyl133ZULL7wwN910UxNHvThO9t5cfPHFqdVq+YM/+INceuml+clPfpI///M/z+rV\\\n",
       "q/P7v//7TRz14ujv788999yTr33ta1m5cmXj04aOjo6sWLEibW1txe47r/TevPDCC0XvOy2liVcg\\\n",
       "M82+ffuqa665puro6KguuOCC6ld+5VeqwcHB6sUXX2z20JpiZGSkuuKKK6rzzz+/evOb3zzlNgQl\\\n",
       "e9/73lddeuml1ate9apqzZo11Xve857qiSeeaPawmuKb3/xmlWTGo6+vr6qqE7fzGBwcrLq7u6v2\\\n",
       "9vbq7W9/e/WDH/yguYNeJCd7b/7zP/+z2rx5c9XZ2Vm96lWvqi6//PKqr6+vOnz4cLOHvShme1+S\\\n",
       "VF/84hcb25S677zSe1P6vtNK2qqqqhYzOAEAaC7nAAIAFEYAAgAURgACABRGAAIAFEYAAgAURgAC\\\n",
       "ABRGAAIAFEYAAgAURgACABRGAAIAFEYAAgAURgACABRGAAIAFEYAAgAURgACABRGAAIAFEYAAgAU\\\n",
       "RgACABRGAAIAFEYAAgAURgACABRGAAIAFEYAAgAURgACABRGAAIAFEYAAgAURgACABRGAAIAFEYA\\\n",
       "AgAURgACABRGAAIAFOb/AV1QtHQjqMRbAAAAAElFTkSuQmCC\\\n",
       "\"\n",
       "  frames[3] = \"data:image/png;base64,iVBORw0KGgoAAAANSUhEUgAAAoAAAAHgCAYAAAA10dzkAAAAOXRFWHRTb2Z0d2FyZQBNYXRwbG90\\\n",
       "bGliIHZlcnNpb24zLjUuMiwgaHR0cHM6Ly9tYXRwbG90bGliLm9yZy8qNh9FAAAACXBIWXMAAA9h\\\n",
       "AAAPYQGoP6dpAAAlA0lEQVR4nO3dfWydZ2H38Z/bUjdFidcS127UtI1YGcnMQKSsSwe0ndRAxrpl\\\n",
       "bKhWpcqRNpSqdlmpeDY6tscniDbjZWySbVjQJlL+YOUfKEh0UqMVAqiUlagRpMkQHaWJ1mYxXXXc\\\n",
       "dpsD7f38kcdnfk2TOPaxz/X5VEfzuc/tkytHN7u/ue6X01ZVVRUAAIpxTrMHAADA4hKAAACFEYAA\\\n",
       "AIURgAAAhRGAAACFEYAAAIURgAAAhRGAAACFEYAAAIURgAAAhRGAAACFEYAAAIURgAAAhRGAAACF\\\n",
       "EYAAAIURgAAAhRGAAACFEYAAAIURgAAAhRGAAACFEYAAAIURgAAAhRGAAACFEYAAAIURgAAAhRGA\\\n",
       "AACFEYAAAIURgAAAhRGAAACFEYAAAIURgAAAhRGAAACFEYAAAIURgAAAhRGAAACFEYAAAIURgAAA\\\n",
       "hRGAAACFEYAAAIURgAAAhRGAAACFEYAAAIURgAAAhRGAAACFEYAAAIURgAAAhRGAAACFEYAAAIUR\\\n",
       "gAAAhRGAAACFEYAAAIURgAAAhRGAAACFEYAAAIURgAAAhRGAAACFOa/ZA1jOXnnllTzzzDNZuXJl\\\n",
       "2tramj0cAOAUVFWVF154IWvWrMk555Q5FyYA5+GZZ57J2rVrmz0MAOAMHDlyJJdddlmzh9EUAnAe\\\n",
       "Vq5cmeTEBrRq1aomjwYAOBVjY2NZu3ZtYz9eIgE4DxOHfVetWiUAAWCZKfn0rTIPfAMAFEwAAgAU\\\n",
       "RgACABRGAAIAFEYAMqdarZaRkZGTrjMyMpJarbY4AwIAzgpXATOrWq2WHTt2NJ739/fPWGdkZCQD\\\n",
       "AwNTfgcAWPrMADLD9PgbGBiYMRM4Pf527NghAAFgmRCATDE9/iZMjsDp8TdBBALA8tBWVVXV7EEs\\\n",
       "V2NjY+no6Ei9Xm+JG0HPFX+TrV+/PocOHTrpOoODg0IQgCWr1fbfZ8IMIA2dnZ1zvtaTniRpxN/E\\\n",
       "89N9HwCg+QQgDf39/RkeHp6xvC99GcpQetObJOlNb4YylL70zVh3eHh41gtGAIClw1XABajVauns\\\n",
       "7DxpmI2MjGR0dLRx6HbiHL+e9GRbtiVJtmd7etObjnQkSbZlW/ZlXw7kQBLxBwDLhQBscfO5ncvA\\\n",
       "wEAO5EB2ZVe2Z3uSNOIvSXZll/gDgGXIRSDzsNRPIp3too7poTbbFb0TF3Fs2LChcc7fA3lgSvzV\\\n",
       "U8/WbE1y4sKQgwcPLtDfAgDOrqW+/14MzgFsUfO9nctv//ZvN+Jv8mHfCR3paJwTeOjQoVf9xhAA\\\n",
       "YOkwAzgPS/VfEGfrdi7JiXMAhzLUeF5PfUoM3pE7HAYGYFlZqvvvxWQGsAWdrdu5JMmBHMju7E5y\\\n",
       "4py/rdmaXdmVJNmd3Y34S2b/xhAAYOkxAzgPS/lfELMd3u1LX7ZlW3ZlV+7P/elNb7Zne3Znd+7L\\\n",
       "fSd9v570TIm96c8nMxMIwFK2lPffi8UMYIuafk+/6bdzeSAPNK7s3ZZtpzQTmJw4dDz5+WxGR0fn\\\n",
       "M3QAYIEJwBY2OQInbucyYa7buWzZsmXO9xseHs7BgwdnvVn0BF8DBwBLnwBscf39/Y1Zu/tzf+qp\\\n",
       "T3m9nnruz/1JTszuPfjggxkcHJzxPpMP6871jSHiDwCWBwHY4kZGRk77di61Wm1KBM52Tt/0CBR/\\\n",
       "ALB8+CaQFjb5QpCe9DTO+Uum3s5le7bnwP//b2L9iZg72VfITSyf/BVyAMDS5yrgeVjKVxHN9ypg\\\n",
       "V/IC0KqW8v57sQjAeViqG9Bc3/CRuJ0LACzV/fdicg5gCzrZbVjczgUAEIAtaPpFHNO5nQsAlE0A\\\n",
       "tqi5ItDtXAAAAdjC3M4FAJiN28C0OLdzAQCmcxXwPCzkVUSv/N+OtLUlVZWc89H6q/8CAHBKXAVs\\\n",
       "BnDJams78QAAONsE4BI1MS9bVYkOBADOJgG4RE0c9hV/AMDZ5ipgAIDCCEAAgMIIQACAwghAAIDC\\\n",
       "CEAAgMIIQACAwghAAIDCCEAAgMIIQACAwghAAIDCCEAAgMIIQACAwghAAIDCCEAAgMK0bADu3Lkz\\\n",
       "b3vb27Jy5cpccskl2bp1a370ox9NWaeqqtRqtaxZsyYrVqzI9ddfnyeeeKJJIwYAWBwtG4B79+5N\\\n",
       "f39/Hn300ezZsye/+MUvsnnz5rz00kuNdT7xiU/k05/+dIaHh/PYY4+lu7s7N954Y1544YUmjhwA\\\n",
       "YGG1VVVVNXsQi2F0dDSXXHJJ9u7dm3e+852pqipr1qzJnXfemT/7sz9LkoyPj6erqysf//jHs337\\\n",
       "9ld9z7GxsXR0dKRer2fVqlUL/VcAAM4C++8WngGcrl6vJ0kuvvjiJMlTTz2Vo0ePZvPmzY112tvb\\\n",
       "c9111+WRRx5pyhgBABbDec0ewGKoqip33XVX3v72t6enpydJcvTo0SRJV1fXlHW7urry9NNPz/o+\\\n",
       "4+PjGR8fbzwfGxtboBEDACycImYABwYG8oMf/CD/+I//OOO1tra2Kc+rqpqxbMLOnTvT0dHReKxd\\\n",
       "u3ZBxgsAsJBaPgDvuOOOfO1rX8s3vvGNXHbZZY3l3d3dSf53JnDCsWPHZswKTrj77rtTr9cbjyNH\\\n",
       "jizcwAEAFkjLBmBVVRkYGMiXv/zlPPzww1m3bt2U19etW5fu7u7s2bOnsez48ePZu3dvrr322lnf\\\n",
       "s729PatWrZryAABYblr2HMD+/v588YtfzFe/+tWsXLmyMdPX0dGRFStWpK2tLXfeeWfuvffeXHXV\\\n",
       "Vbnqqqty77335sILL8wtt9zS5NEDACyclg3Az372s0mS66+/fsryz3/+89m2bVuS5E//9E/z3//9\\\n",
       "37n99tvz/PPP55prrslDDz2UlStXLvJoAQAWTzH3AVwI7iMEAMuP/XcLnwMIAMDsBCAAQGEEIABA\\\n",
       "YQQgAEBhBCAAQGEEIABAYQQgAEBhBCAAQGEEIABAYQQgAEBhBCAAQGEEIABAYQQgAEBhBCAAQGEE\\\n",
       "IABAYQQgAEBhBCAAQGEEIABAYQQgAEBhBCAAQGEEIABAYQQgAEBhBCAAQGEEIABAYQQgAEBhBCAA\\\n",
       "QGEEIABAYQQgAEBhBCAAQGEEIABAYQQgAEBhBCAAQGEEIABAYQQgAEBhBCAAQGEEIABAYQQgAEBh\\\n",
       "BCAAQGEEIABAYQQgAEBhBCAAQGEEIABAYQQgAEBhBCAAQGEEIABAYQQgAEBhBCAAQGEEIABAYQQg\\\n",
       "AEBhBCAAQGEEIABAYQQgAEBhBCAAQGEEIABAYQQgAEBhWjYAv/Wtb+Wmm27KmjVr0tbWlgceeGDK\\\n",
       "61VVpVarZc2aNVmxYkWuv/76PPHEE80ZLADAImrZAHzppZfy5je/OcPDw7O+/olPfCKf/vSnMzw8\\\n",
       "nMceeyzd3d258cYb88ILLyzySAEAFtd5zR7AQtmyZUu2bNky62tVVeVv//Zv85GPfCTvfe97kyT3\\\n",
       "3Xdfurq68sUvfjHbt29fzKECQPFqtVo6OzvT398/5zojIyMZHR1NrVZbvIG1qJYNwJN56qmncvTo\\\n",
       "0WzevLmxrL29Pdddd10eeeQRAQgAi6hWq2XHjh2N57NF4MjISAYGBqb8DmeuyAA8evRokqSrq2vK\\\n",
       "8q6urjz99NNz/t74+HjGx8cbz8fGxhZmgABQiOnxNxF5kyNwevxNrC8Cz1zLngN4Ktra2qY8r6pq\\\n",
       "xrLJdu7cmY6OjsZj7dq1Cz1EAGhZ0+NvwsDAQEZGRpLMjL8JO3bsEIDzUGQAdnd3J/nfmcAJx44d\\\n",
       "mzErONndd9+der3eeBw5cmRBxwkArWqu+JswMDCQDRs2zBp/E0TgmSsyANetW5fu7u7s2bOnsez4\\\n",
       "8ePZu3dvrr322jl/r729PatWrZryAABOX2dn55yv9aQnSXLo0KEpz0/3fZhbywbgiy++mP3792f/\\\n",
       "/v1JTlz4sX///hw+fDhtbW258847c++99+YrX/lKDhw4kG3btuXCCy/MLbfc0tyBA0AB+vv7Z71V\\\n",
       "W1/6MpSh9KY3SdKb3gxlKH3pm7Hu8PDwSa8aZm5tVVVVzR7EQvjmN7+ZG264Ycbyvr6+7N69O1VV\\\n",
       "ZceOHdm1a1eef/75XHPNNRkZGUlPz9z/yphubGwsHR0dqdfrZgMB4AxMPsevJz0ZylDjtXrq6UhH\\\n",
       "4/kduSMHciDJ/OLP/ruFA3Ax2IAAYP4mR2BverM9M2/Htiu7cn/uTzL/mT/7bwE4LzYgADg7NmzY\\\n",
       "0Djn74E8MGXmr556tmZrkmT9+vU5ePDgvP4s++8WPgcQAFgeRkZGGvHXm94p8ZckHelonBN46NCh\\\n",
       "xi1iOHMCEABomunnAE4+/FtPvfHz9mxvXA08+T6BnBkBCAA0xfSbPB/IgezO7iQnzvnbmq3ZlV1J\\\n",
       "kt3Z3bgAJBGB8+UcwHlwDgEAnJm5vuEjOTETODn2pj+f7EwuCLH/NgMIADTB6OjonK9NxN769eun\\\n",
       "PD/d92FuAhAAWHS1Wi2Dg4Nzvj48PJyDBw/OerPoCYODg74K7gwJQACgKeaKwMmHdef6xhDxNz8C\\\n",
       "EABomukRONs5fdMjUPzN33nNHgAAULaJmOvs7Jzzgo6J5aOjo+LvLHAV8Dy4iggAlh/7b4eAAYAl\\\n",
       "oFarvep9/UZGRsz+nSUOAQMATVWr1bJjx47G89kOA0+/b6AQnB8zgABA00yPv9m+4WN6/O3YsUMA\\\n",
       "zpMABACaYnr8TZgcgXN9Y4gInB8XgcyDk0gB4MzMFX+TrV+/PocOHTrpOmdySxj7bzOAAEATdHZ2\\\n",
       "zvlaT3qSpBF/E89P932YmwAEABbdXN/w0Ze+DGUovelNkvSmN0MZSl/6Zqw7202jOTUOAc+DKWQA\\\n",
       "mJ/J5/j1pCdDGWq8Vk89HeloPL8jd+RADiSZX/zZf5sBBACaaPJM4IEcyK7sarw2Of52ZddZiT9O\\\n",
       "MAM4D/4FAQBnx4YNGxrn/D2QB6bEXz31bM3WJCcuDDl48OC8/iz7bzOAAECTjYyMNOKvN71T4i85\\\n",
       "MRM4cU7goUOHXvUbQ3h1AhAAaJrp5wBuz/bGa/XUGz9vz/bG1cCz3Sya0yMAAYCmmH6T5wM5kN3Z\\\n",
       "neTEOX9bs7VxTuDu7G6cA5iIwPlyDuA8OIcAgJJ88ubfTlvaUqXK//nSg/N6r7m+4SM5MRM4Ofam\\\n",
       "P5/sTC4Isf82AwgAnKK2Sf/N1+jo6JyvTcTe+vXrpzw/3fdhbgIQADgl1aT/5qtWq2VwcHDO14eH\\\n",
       "h3Pw4MFZbxY94Uy+Bo4Tzmv2AACA5WG+h32nm4i36d8JPPmw7sT/nX64WPzNjxlAAKBpps8EznZO\\\n",
       "3/SvjRN/82cGEABoqomY6+zsnPOCjonlo6Oj4u8scBXwPLiKCACWH/tvh4ABAIojAAEACiMAAQAK\\\n",
       "IwABAAojAAEACiMAAQAKIwABAAojAAEACiMAAQAKIwABAAojAAEACiMAAQAKIwABAAojAAEACiMA\\\n",
       "AQAKIwABAAojAAEACiMAAQAKIwABAAojAAEACiMAAQAKIwABAAojAAEACiMAAQAKU3wAfuYzn8m6\\\n",
       "detywQUXZOPGjfn2t7/d7CEBACyoogPwS1/6Uu6888585CMfyeOPP553vOMd2bJlSw4fPtzsoQEA\\\n",
       "LJi2qqqqZg+iWa655pq89a1vzWc/+9nGsvXr12fr1q3ZuXPnq/7+2NhYOjo6Uq/Xs2rVqoUcKgBw\\\n",
       "lth/FzwDePz48ezbty+bN2+esnzz5s155JFHmjQqAICFd16zB9AsP/vZz/Lyyy+nq6tryvKurq4c\\\n",
       "PXp01t8ZHx/P+Ph44/nY2NiCjhEAYCEUOwM4oa2tbcrzqqpmLJuwc+fOdHR0NB5r165djCECAJxV\\\n",
       "xQbg6tWrc+65586Y7Tt27NiMWcEJd999d+r1euNx5MiRxRgqAMBZVWwAnn/++dm4cWP27NkzZfme\\\n",
       "PXty7bXXzvo77e3tWbVq1ZQHAMByU+w5gEly11135dZbb83VV1+dTZs25XOf+1wOHz6c2267rdlD\\\n",
       "AwBYMEUH4M0335znnnsuH/3oR/Pss8+mp6cnDz74YK644opmDw0AYMEUfR/A+XIfIQBYfuy/Cz4H\\\n",
       "EACgVAIQAKAwAhAAoDACEACgMAIQAKAwAhAAoDACEACgMAIQAKAwAhAAoDACEACgMAIQAKAwAhAA\\\n",
       "oDACEACgMAIQAKAwAhAAoDACEACgMAIQAKAwAhAAoDACEACgMAIQAKAwAhAAoDACEACgMAIQAKAw\\\n",
       "AhAAoDACEACgMAIQAKAwAhAAoDACEACgMAIQAKAwAhAAoDACEACgMAIQAKAwAhAAoDACEACgMAIQ\\\n",
       "AKAwAhAAoDACEACgMAIQAKAwAhAAoDACEACgMAIQAKAwAhAAoDACEACgMAIQAKAwAhAAoDACEACg\\\n",
       "MAIQAKAwAhAAoDACEACgMAIQAKAwAhAAoDACEACgMAIQAKAwAhAAoDACEACgMC0ZgPfcc0+uvfba\\\n",
       "XHjhhfmlX/qlWdc5fPhwbrrpprz2ta/N6tWr84EPfCDHjx9f3IECADTBec0ewEI4fvx43ve+92XT\\\n",
       "pk35h3/4hxmvv/zyy3nPe96Tzs7OfOc738lzzz2Xvr6+VFWVoaGhJowYAGDxtGQA7tixI0mye/fu\\\n",
       "WV9/6KGHcvDgwRw5ciRr1qxJkvz1X/91tm3blnvuuSerVq1arKHSZLVaLZ2dnenv759znZGRkYyO\\\n",
       "jqZWqy3ewABgAbVkAL6a7373u+np6WnEX5K8613vyvj4ePbt25cbbrhh1t8bHx/P+Ph44/nY2NiC\\\n",
       "j5WFU6vVGv9YSDJrBI6MjGRgYGDK7wDActeS5wC+mqNHj6arq2vKsosuuijnn39+jh49Oufv7dy5\\\n",
       "Mx0dHY3H2rVrF3qoLJDp8TcwMJCRkZEp60yPvx07dghAAFrCsgnAWq2Wtra2kz6+//3vn/L7tbW1\\\n",
       "zVhWVdWsyyfcfffdqdfrjceRI0fO6O9Cc02PvwmTI3B6/E0QgQC0gmVzCHhgYCC9vb0nXefKK688\\\n",
       "pffq7u7O9773vSnLnn/++fz85z+fMTM4WXt7e9rb20/pz2Bpmiv+JkxE4KFDh+ZcZ+L3hSAAy9Wy\\\n",
       "CcDVq1dn9erVZ+W9Nm3alHvuuSfPPvtsLr300iQnLgxpb2/Pxo0bz8qfwdLU2dk552s96cmBHGjE\\\n",
       "38Tz030fAFjqls0h4NNx+PDh7N+/P4cPH87LL7+c/fv3Z//+/XnxxReTJJs3b86GDRty66235vHH\\\n",
       "H88///M/50Mf+lDe//73uwK4xfX392d4eHjG8r70ZShD6c2JWebe9GYoQ+lL34x1h4eHT3rVMAAs\\\n",
       "dW1VVVXNHsTZtm3bttx3330zln/jG9/I9ddfn+REJN5+++15+OGHs2LFitxyyy351Kc+dVqHeMfG\\\n",
       "xtLR0ZF6vS4cl5nJ5/j1pCdD+d/7P9ZTT0c6Gs/vyB2NmUDxB7D82X+3aAAuFhvQ8jY5AnvTm+3Z\\\n",
       "PmOdXdmV+3N/EvEH0CrsvwXgvNiAlr8NGzY0zvl7IA9Mmfmrp56t2ZokWb9+fQ4ePNiMIQJwltl/\\\n",
       "t+g5gHAqJl/t25veKfGXJB3paJwTeOjQoRn3CQSA5UoAUqTp5wBOPvxbT73x8/ZsT096ksx+s2gA\\\n",
       "WI4EIMWZfpPnAzmQ3dmd5MQ5f1uzNbuyK0myO7un3ApGBALQCpwDOA/OIVh+5vqGj2Tmff9Odh9A\\\n",
       "F4QALF/232YAKczo6Oicr03E3vr166c8P933AYClTgBSlFqtlsHBwTlfHx4ezsGDB2e9WfSEwcFB\\\n",
       "XwMHwLImACnOXBE4+bDuXN8YIv4AaAUCkCJNj8DZzumbHoHiD4BWcV6zBwDNMhFznZ2dc17QMbF8\\\n",
       "dHRU/AHQMlwFPA+uIgKA5cf+2yFgAIDiOATMknTojesbP6//10NNHAkAtB4zgAAAhRGAAACFcQiY\\\n",
       "JclhXwBYOGYAAQAKIwABAAojAAEACiMAAQAKIwABAAojAAEACiMAAQAKIwABAAojAAEACiMAAQAK\\\n",
       "IwABAAojAAEACiMAAQAKIwABAAojAAEACiMAAQAKIwABAAojAAEACiMAAQAKIwABAAojAAEACiMA\\\n",
       "AQAKIwABAAojAAEACiMAAQAKIwABAAojAAEACiMAAQAKIwABAAojAAEACiMAAQAKIwABAAojAAEA\\\n",
       "CiMAAQAKIwABAAojAAEACiMAAQAKIwABAAojAAEACtNyAfjTn/40f/RHf5R169ZlxYoVef3rX5/B\\\n",
       "wcEcP358ynqHDx/OTTfdlNe+9rVZvXp1PvCBD8xYBwCgFZ3X7AGcbf/6r/+aV155Jbt27cov//Iv\\\n",
       "58CBA3n/+9+fl156KZ/61KeSJC+//HLe8573pLOzM9/5znfy3HPPpa+vL1VVZWhoqMl/AwCAhdVW\\\n",
       "VVXV7EEstE9+8pP57Gc/m5/85CdJkn/6p3/K7/zO7+TIkSNZs2ZNkuT+++/Ptm3bcuzYsaxateqU\\\n",
       "3ndsbCwdHR2p1+un/DsAQHPZf7fgIeDZ1Ov1XHzxxY3n3/3ud9PT09OIvyR517velfHx8ezbt2/O\\\n",
       "9xkfH8/Y2NiUBwDActPyAfhv//ZvGRoaym233dZYdvTo0XR1dU1Z76KLLsr555+fo0ePzvleO3fu\\\n",
       "TEdHR+Oxdu3aBRs3AMBCWTYBWKvV0tbWdtLH97///Sm/88wzz+Td73533ve+9+WP//iPp7zW1tY2\\\n",
       "48+oqmrW5RPuvvvu1Ov1xuPIkSNn5y8HALCIls1FIAMDA+nt7T3pOldeeWXj52eeeSY33HBDNm3a\\\n",
       "lM997nNT1uvu7s73vve9Kcuef/75/PznP58xMzhZe3t72tvbT3/wAABLyLIJwNWrV2f16tWntO6/\\\n",
       "//u/54YbbsjGjRvz+c9/PuecM3Wic9OmTbnnnnvy7LPP5tJLL02SPPTQQ2lvb8/GjRvP+tgBAJaS\\\n",
       "lrsK+Jlnnsl1112Xyy+/PF/4whdy7rnnNl7r7u5OcuI2MG95y1vS1dWVT37yk/nP//zPbNu2LVu3\\\n",
       "bj2t28C4iggAlh/772U0A3iqHnrooTz55JN58sknc9lll015baJ1zz333Hz961/P7bffnt/8zd/M\\\n",
       "ihUrcssttzTuEwgA0MpabgZwMfkXBAAsP/bfy+gqYAAAzg4BCABQGAEIAFAYAQgAUBgBCMCSUKvV\\\n",
       "MjIyctJ1RkZGUqvVFmdA0MJa7jYwACw/tVotO3bsaDzv7++fsc7IyEgGBgam/A5wZswAAtBU0+Nv\\\n",
       "YGBgxkzg9PjbsWOHAIR5EIAANM30+JswOQKnx98EEQhnzo2g58GNJAHO3FzxN9n69etz6NChk64z\\\n",
       "ODgoBDkt9t9mAAFoks7Ozjlf60lPkjTib+L56b4PMDsBCEBT9Pf3Z3h4eMbyvvRlKEPpTW+SpDe9\\\n",
       "GcpQ+tI3Y93h4eFZLxgBTs4h4HkwhQwwf5PP8etJT4Yy1Hitnno60tF4fkfuyIEcSCL+OHP232YA\\\n",
       "AWiyyTOBB3Igu7Kr8drk+NuVXeIPzhIzgPPgXxAAZ8+GDRsa5/w9kAemxF899WzN1iQnLgw5ePBg\\\n",
       "M4ZIi7D/NgMIwBIwMjLSiL/e9E6Jv+TETODEOYGHDh161W8MAU5OAALQVNPPAdye7Y3X6qk3ft6e\\\n",
       "7Y2rgWe7WTRw6gQgAE0z/SbPB3Igu7M7yYlz/rZma+OcwN3Z3TgHMBGBMB/OAZwH5xAAnLm5vuEj\\\n",
       "OTETODn2pj+fzAUhnC77bzOAADTJ6OjonK9NxN769eunPD/d9wFmJwABaIparZbBwcE5Xx8eHs7B\\\n",
       "gwdnvVn0BF8DB2dGAALQNHNF4OTDunN9Y4j4gzMnAAFoqukRONs5fdMjUPzB/JzX7AEAwETMdXZ2\\\n",
       "znlBx8Ty0dFR8Qfz5CrgeXAVEQAsP/bfDgEDABTHIWAATsvIbQ83fu7/u99q4kiAM2UGEACgMAIQ\\\n",
       "AKAwDgEDcFoc9oXlzwwgAEBhBCAAQGEEIABAYQQgAEBhBCAAQGEEIABAYQQgAEBhBCAAQGEEIABA\\\n",
       "YQQgAEBhBCAAQGEEIABAYQQgAEBhzmv2AJazqqqSJGNjY00eCQBwqib22xP78RIJwHl44YUXkiRr\\\n",
       "165t8kgAgNP1wgsvpKOjo9nDaIq2quT8nadXXnklzzzzTFauXJm2trYzeo+xsbGsXbs2R44cyapV\\\n",
       "q87yCJc/n8/cfDZz89nMzWdzcj6fubXSZ1NVVV544YWsWbMm55xT5tlwZgDn4Zxzzslll112Vt5r\\\n",
       "1apVy/5/UAvJ5zM3n83cfDZz89mcnM9nbq3y2ZQ68zehzOwFACiYAAQAKIwAbLL29vYMDg6mvb29\\\n",
       "2UNZknw+c/PZzM1nMzefzcn5fObms2ktLgIBACiMGUAAgMIIQACAwghAAIDCCEAAgMIIwCXmyiuv\\\n",
       "TFtb25THhz/84WYPqyk+85nPZN26dbnggguycePGfPvb3272kJquVqvN2D66u7ubPaym+da3vpWb\\\n",
       "bropa9asSVtbWx544IEpr1dVlVqtljVr1mTFihW5/vrr88QTTzRnsIvs1T6bbdu2zdiWfuM3fqM5\\\n",
       "g11kO3fuzNve9rasXLkyl1xySbZu3Zof/ehHU9Ypdds5lc+m5G2nlQjAJeijH/1onn322cbjL/7i\\\n",
       "L5o9pEX3pS99KXfeeWc+8pGP5PHHH8873vGObNmyJYcPH2720JruV3/1V6dsHz/84Q+bPaSmeeml\\\n",
       "l/LmN785w8PDs77+iU98Ip/+9KczPDycxx57LN3d3bnxxhsb3+Pdyl7ts0mSd7/73VO2pQcffHAR\\\n",
       "R9g8e/fuTX9/fx599NHs2bMnv/jFL7J58+a89NJLjXVK3XZO5bNJyt12WkrFknLFFVdUf/M3f9Ps\\\n",
       "YTTdr//6r1e33XbblGVvfOMbqw9/+MNNGtHSMDg4WL35zW9u9jCWpCTVV77ylcbzV155peru7q7+\\\n",
       "6q/+qrHsf/7nf6qOjo7q7/7u75owwuaZ/tlUVVX19fVVv/d7v9eU8Sw1x44dq5JUe/furarKtjPZ\\\n",
       "9M+mqmw7rcIM4BL08Y9/PK973evylre8Jffcc0+OHz/e7CEtquPHj2ffvn3ZvHnzlOWbN2/OI488\\\n",
       "0qRRLR0//vGPs2bNmqxbty69vb35yU9+0uwhLUlPPfVUjh49OmU7am9vz3XXXWc7+v+++c1v5pJL\\\n",
       "Lskb3vCGvP/978+xY8eaPaSmqNfrSZKLL744iW1nsumfzQTbzvJ3XrMHwFR/8id/kre+9a256KKL\\\n",
       "8i//8i+5++6789RTT+Xv//7vmz20RfOzn/0sL7/8crq6uqYs7+rqytGjR5s0qqXhmmuuyRe+8IW8\\\n",
       "4Q1vyH/8x3/kYx/7WK699to88cQTed3rXtfs4S0pE9vKbNvR008/3YwhLSlbtmzJ+973vlxxxRV5\\\n",
       "6qmn8pd/+Zf5rd/6rezbt6+ob3qoqip33XVX3v72t6enpyeJbWfCbJ9NYttpFQJwEdRqtezYseOk\\\n",
       "6zz22GO5+uqr88EPfrCx7Nd+7ddy0UUX5Q//8A8bs4IlaWtrm/K8qqoZy0qzZcuWxs9vetObsmnT\\\n",
       "prz+9a/Pfffdl7vuuquJI1u6bEezu/nmmxs/9/T05Oqrr84VV1yRr3/963nve9/bxJEtroGBgfzg\\\n",
       "Bz/Id77znRmvlb7tzPXZ2HZagwBcBAMDA+nt7T3pOldeeeWsyyeurHryySeLCcDVq1fn3HPPnTHb\\\n",
       "d+zYsRn/Ii/da1/72rzpTW/Kj3/842YPZcmZuDr66NGjufTSSxvLbUezu/TSS3PFFVcUtS3dcccd\\\n",
       "+drXvpZvfetbueyyyxrLbTtzfzazKXHbaQXOAVwEq1evzhvf+MaTPi644IJZf/fxxx9Pkin/T6jV\\\n",
       "nX/++dm4cWP27NkzZfmePXty7bXXNmlUS9P4+HgOHTpU1PZxqtatW5fu7u4p29Hx48ezd+9e29Es\\\n",
       "nnvuuRw5cqSIbamqqgwMDOTLX/5yHn744axbt27K6yVvO6/22cympG2nlZgBXEK++93v5tFHH80N\\\n",
       "N9yQjo6OPPbYY/ngBz+Y3/3d383ll1/e7OEtqrvuuiu33nprrr766mzatCmf+9zncvjw4dx2223N\\\n",
       "HlpTfehDH8pNN92Uyy+/PMeOHcvHPvaxjI2Npa+vr9lDa4oXX3wxTz75ZOP5U089lf379+fiiy/O\\\n",
       "5ZdfnjvvvDP33ntvrrrqqlx11VW59957c+GFF+aWW25p4qgXx8k+m4svvji1Wi1/8Ad/kEsvvTQ/\\\n",
       "/elP8+d//udZvXp1fv/3f7+Jo14c/f39+eIXv5ivfvWrWblyZeNoQ0dHR1asWJG2trZit51X+2xe\\\n",
       "fPHForedltLEK5CZZt++fdU111xTdXR0VBdccEH1K7/yK9Xg4GD10ksvNXtoTTEyMlJdccUV1fnn\\\n",
       "n1+99a1vnXIbglLdfPPN1aWXXlq95jWvqdasWVO9973vrZ544olmD6tpvvGNb1RJZjz6+vqqqjpx\\\n",
       "O4/BwcGqu7u7am9vr975zndWP/zhD5s76EVyss/mv/7rv6rNmzdXnZ2d1Wte85rq8ssvr/r6+qrD\\\n",
       "hw83e9iLYrbPJUn1+c9/vrFOqdvOq302pW87raStqqpqMYMTAIDmcg4gAEBhBCAAQGEEIABAYQQg\\\n",
       "AEBhBCAAQGEEIABAYQQgAEBhBCAAQGEEIABAYQQgAEBhBCAAQGEEIABAYQQgAEBhBCAAQGEEIABA\\\n",
       "YQQgAEBhBCAAQGEEIABAYQQgAEBhBCAAQGEEIABAYQQgAEBhBCAAQGEEIABAYQQgAEBhBCAAQGEE\\\n",
       "IABAYQQgAEBhBCAAQGEEIABAYQQgAEBh/h/LzKQ/oermGAAAAABJRU5ErkJggg==\\\n",
       "\"\n",
       "  frames[4] = \"data:image/png;base64,iVBORw0KGgoAAAANSUhEUgAAAoAAAAHgCAYAAAA10dzkAAAAOXRFWHRTb2Z0d2FyZQBNYXRwbG90\\\n",
       "bGliIHZlcnNpb24zLjUuMiwgaHR0cHM6Ly9tYXRwbG90bGliLm9yZy8qNh9FAAAACXBIWXMAAA9h\\\n",
       "AAAPYQGoP6dpAAAlA0lEQVR4nO3dfWydZ2H38Z/bUjdFidcS127UtI1YGcnMQKSsSwe0ndRAxrpl\\\n",
       "bKhWpcqRNpSqdlmpeDY6tscniDbjZWySbVjQJlL+YOUfKEh0UqMVAqiUlagRpMkQHaWJ1mYxXXXc\\\n",
       "dpsD7f38kcdnfk2TOPaxz/X5VEfzuc/tkytHN7u/ue6X01ZVVRUAAIpxTrMHAADA4hKAAACFEYAA\\\n",
       "AIURgAAAhRGAAACFEYAAAIURgAAAhRGAAACFEYAAAIURgAAAhRGAAACFEYAAAIURgAAAhRGAAACF\\\n",
       "EYAAAIURgAAAhRGAAACFEYAAAIURgAAAhRGAAACFEYAAAIURgAAAhRGAAACFEYAAAIURgAAAhRGA\\\n",
       "AACFEYAAAIURgAAAhRGAAACFEYAAAIURgAAAhRGAAACFEYAAAIURgAAAhRGAAACFEYAAAIURgAAA\\\n",
       "hRGAAACFEYAAAIURgAAAhRGAAACFEYAAAIURgAAAhRGAAACFEYAAAIURgAAAhRGAAACFEYAAAIUR\\\n",
       "gAAAhRGAAACFEYAAAIURgAAAhRGAAACFEYAAAIURgAAAhRGAAACFOa/ZA1jOXnnllTzzzDNZuXJl\\\n",
       "2tramj0cAOAUVFWVF154IWvWrMk555Q5FyYA5+GZZ57J2rVrmz0MAOAMHDlyJJdddlmzh9EUAnAe\\\n",
       "Vq5cmeTEBrRq1aomjwYAOBVjY2NZu3ZtYz9eIgE4DxOHfVetWiUAAWCZKfn0rTIPfAMAFEwAAgAU\\\n",
       "RgACABRGAAIAFEYAMqdarZaRkZGTrjMyMpJarbY4AwIAzgpXATOrWq2WHTt2NJ739/fPWGdkZCQD\\\n",
       "AwNTfgcAWPrMADLD9PgbGBiYMRM4Pf527NghAAFgmRCATDE9/iZMjsDp8TdBBALA8tBWVVXV7EEs\\\n",
       "V2NjY+no6Ei9Xm+JG0HPFX+TrV+/PocOHTrpOoODg0IQgCWr1fbfZ8IMIA2dnZ1zvtaTniRpxN/E\\\n",
       "89N9HwCg+QQgDf39/RkeHp6xvC99GcpQetObJOlNb4YylL70zVh3eHh41gtGAIClw1XABajVauns\\\n",
       "7DxpmI2MjGR0dLRx6HbiHL+e9GRbtiVJtmd7etObjnQkSbZlW/ZlXw7kQBLxBwDLhQBscfO5ncvA\\\n",
       "wEAO5EB2ZVe2Z3uSNOIvSXZll/gDgGXIRSDzsNRPIp3too7poTbbFb0TF3Fs2LChcc7fA3lgSvzV\\\n",
       "U8/WbE1y4sKQgwcPLtDfAgDOrqW+/14MzgFsUfO9nctv//ZvN+Jv8mHfCR3paJwTeOjQoVf9xhAA\\\n",
       "YOkwAzgPS/VfEGfrdi7JiXMAhzLUeF5PfUoM3pE7HAYGYFlZqvvvxWQGsAWdrdu5JMmBHMju7E5y\\\n",
       "4py/rdmaXdmVJNmd3Y34S2b/xhAAYOkxAzgPS/lfELMd3u1LX7ZlW3ZlV+7P/elNb7Zne3Znd+7L\\\n",
       "fSd9v570TIm96c8nMxMIwFK2lPffi8UMYIuafk+/6bdzeSAPNK7s3ZZtpzQTmJw4dDz5+WxGR0fn\\\n",
       "M3QAYIEJwBY2OQInbucyYa7buWzZsmXO9xseHs7BgwdnvVn0BF8DBwBLnwBscf39/Y1Zu/tzf+qp\\\n",
       "T3m9nnruz/1JTszuPfjggxkcHJzxPpMP6871jSHiDwCWBwHY4kZGRk77di61Wm1KBM52Tt/0CBR/\\\n",
       "ALB8+CaQFjb5QpCe9DTO+Uum3s5le7bnwP//b2L9iZg72VfITSyf/BVyAMDS5yrgeVjKVxHN9ypg\\\n",
       "V/IC0KqW8v57sQjAeViqG9Bc3/CRuJ0LACzV/fdicg5gCzrZbVjczgUAEIAtaPpFHNO5nQsAlE0A\\\n",
       "tqi5ItDtXAAAAdjC3M4FAJiN28C0OLdzAQCmcxXwPCzkVUSv/N+OtLUlVZWc89H6q/8CAHBKXAVs\\\n",
       "BnDJams78QAAONsE4BI1MS9bVYkOBADOJgG4RE0c9hV/AMDZ5ipgAIDCCEAAgMIIQACAwghAAIDC\\\n",
       "CEAAgMIIQACAwghAAIDCCEAAgMIIQACAwghAAIDCCEAAgMIIQACAwghAAIDCCEAAgMK0bADu3Lkz\\\n",
       "b3vb27Jy5cpccskl2bp1a370ox9NWaeqqtRqtaxZsyYrVqzI9ddfnyeeeKJJIwYAWBwtG4B79+5N\\\n",
       "f39/Hn300ezZsye/+MUvsnnz5rz00kuNdT7xiU/k05/+dIaHh/PYY4+lu7s7N954Y1544YUmjhwA\\\n",
       "YGG1VVVVNXsQi2F0dDSXXHJJ9u7dm3e+852pqipr1qzJnXfemT/7sz9LkoyPj6erqysf//jHs337\\\n",
       "9ld9z7GxsXR0dKRer2fVqlUL/VcAAM4C++8WngGcrl6vJ0kuvvjiJMlTTz2Vo0ePZvPmzY112tvb\\\n",
       "c9111+WRRx5pyhgBABbDec0ewGKoqip33XVX3v72t6enpydJcvTo0SRJV1fXlHW7urry9NNPz/o+\\\n",
       "4+PjGR8fbzwfGxtboBEDACycImYABwYG8oMf/CD/+I//OOO1tra2Kc+rqpqxbMLOnTvT0dHReKxd\\\n",
       "u3ZBxgsAsJBaPgDvuOOOfO1rX8s3vvGNXHbZZY3l3d3dSf53JnDCsWPHZswKTrj77rtTr9cbjyNH\\\n",
       "jizcwAEAFkjLBmBVVRkYGMiXv/zlPPzww1m3bt2U19etW5fu7u7s2bOnsez48ePZu3dvrr322lnf\\\n",
       "s729PatWrZryAABYblr2HMD+/v588YtfzFe/+tWsXLmyMdPX0dGRFStWpK2tLXfeeWfuvffeXHXV\\\n",
       "Vbnqqqty77335sILL8wtt9zS5NEDACyclg3Az372s0mS66+/fsryz3/+89m2bVuS5E//9E/z3//9\\\n",
       "37n99tvz/PPP55prrslDDz2UlStXLvJoAQAWTzH3AVwI7iMEAMuP/XcLnwMIAMDsBCAAQGEEIABA\\\n",
       "YQQgAEBhBCAAQGEEIABAYQQgAEBhBCAAQGEEIABAYQQgAEBhBCAAQGEEIABAYQQgAEBhBCAAQGEE\\\n",
       "IABAYQQgAEBhBCAAQGEEIABAYQQgAEBhBCAAQGEEIABAYQQgAEBhBCAAQGEEIABAYQQgAEBhBCAA\\\n",
       "QGEEIABAYQQgAEBhBCAAQGEEIABAYQQgAEBhBCAAQGEEIABAYQQgAEBhBCAAQGEEIABAYQQgAEBh\\\n",
       "BCAAQGEEIABAYQQgAEBhBCAAQGEEIABAYQQgAEBhBCAAQGEEIABAYQQgAEBhBCAAQGEEIABAYQQg\\\n",
       "AEBhBCAAQGEEIABAYQQgAEBhBCAAQGEEIABAYQQgAEBhWjYAv/Wtb+Wmm27KmjVr0tbWlgceeGDK\\\n",
       "61VVpVarZc2aNVmxYkWuv/76PPHEE80ZLADAImrZAHzppZfy5je/OcPDw7O+/olPfCKf/vSnMzw8\\\n",
       "nMceeyzd3d258cYb88ILLyzySAEAFtd5zR7AQtmyZUu2bNky62tVVeVv//Zv85GPfCTvfe97kyT3\\\n",
       "3Xdfurq68sUvfjHbt29fzKECQPFqtVo6OzvT398/5zojIyMZHR1NrVZbvIG1qJYNwJN56qmncvTo\\\n",
       "0WzevLmxrL29Pdddd10eeeQRAQgAi6hWq2XHjh2N57NF4MjISAYGBqb8DmeuyAA8evRokqSrq2vK\\\n",
       "8q6urjz99NNz/t74+HjGx8cbz8fGxhZmgABQiOnxNxF5kyNwevxNrC8Cz1zLngN4Ktra2qY8r6pq\\\n",
       "xrLJdu7cmY6OjsZj7dq1Cz1EAGhZ0+NvwsDAQEZGRpLMjL8JO3bsEIDzUGQAdnd3J/nfmcAJx44d\\\n",
       "mzErONndd9+der3eeBw5cmRBxwkArWqu+JswMDCQDRs2zBp/E0TgmSsyANetW5fu7u7s2bOnsez4\\\n",
       "8ePZu3dvrr322jl/r729PatWrZryAABOX2dn55yv9aQnSXLo0KEpz0/3fZhbywbgiy++mP3792f/\\\n",
       "/v1JTlz4sX///hw+fDhtbW258847c++99+YrX/lKDhw4kG3btuXCCy/MLbfc0tyBA0AB+vv7Z71V\\\n",
       "W1/6MpSh9KY3SdKb3gxlKH3pm7Hu8PDwSa8aZm5tVVVVzR7EQvjmN7+ZG264Ycbyvr6+7N69O1VV\\\n",
       "ZceOHdm1a1eef/75XHPNNRkZGUlPz9z/yphubGwsHR0dqdfrZgMB4AxMPsevJz0ZylDjtXrq6UhH\\\n",
       "4/kduSMHciDJ/OLP/ruFA3Ax2IAAYP4mR2BverM9M2/Htiu7cn/uTzL/mT/7bwE4LzYgADg7NmzY\\\n",
       "0Djn74E8MGXmr556tmZrkmT9+vU5ePDgvP4s++8WPgcQAFgeRkZGGvHXm94p8ZckHelonBN46NCh\\\n",
       "xi1iOHMCEABomunnAE4+/FtPvfHz9mxvXA08+T6BnBkBCAA0xfSbPB/IgezO7iQnzvnbmq3ZlV1J\\\n",
       "kt3Z3bgAJBGB8+UcwHlwDgEAnJm5vuEjOTETODn2pj+f7EwuCLH/NgMIADTB6OjonK9NxN769eun\\\n",
       "PD/d92FuAhAAWHS1Wi2Dg4Nzvj48PJyDBw/OerPoCYODg74K7gwJQACgKeaKwMmHdef6xhDxNz8C\\\n",
       "EABomukRONs5fdMjUPzN33nNHgAAULaJmOvs7Jzzgo6J5aOjo+LvLHAV8Dy4iggAlh/7b4eAAYAl\\\n",
       "oFarvep9/UZGRsz+nSUOAQMATVWr1bJjx47G89kOA0+/b6AQnB8zgABA00yPv9m+4WN6/O3YsUMA\\\n",
       "zpMABACaYnr8TZgcgXN9Y4gInB8XgcyDk0gB4MzMFX+TrV+/PocOHTrpOmdySxj7bzOAAEATdHZ2\\\n",
       "zvlaT3qSpBF/E89P932YmwAEABbdXN/w0Ze+DGUovelNkvSmN0MZSl/6Zqw7202jOTUOAc+DKWQA\\\n",
       "mJ/J5/j1pCdDGWq8Vk89HeloPL8jd+RADiSZX/zZf5sBBACaaPJM4IEcyK7sarw2Of52ZddZiT9O\\\n",
       "MAM4D/4FAQBnx4YNGxrn/D2QB6bEXz31bM3WJCcuDDl48OC8/iz7bzOAAECTjYyMNOKvN71T4i85\\\n",
       "MRM4cU7goUOHXvUbQ3h1AhAAaJrp5wBuz/bGa/XUGz9vz/bG1cCz3Sya0yMAAYCmmH6T5wM5kN3Z\\\n",
       "neTEOX9bs7VxTuDu7G6cA5iIwPlyDuA8OIcAgJJ88ubfTlvaUqXK//nSg/N6r7m+4SM5MRM4Ofam\\\n",
       "P5/sTC4Isf82AwgAnKK2Sf/N1+jo6JyvTcTe+vXrpzw/3fdhbgIQADgl1aT/5qtWq2VwcHDO14eH\\\n",
       "h3Pw4MFZbxY94Uy+Bo4Tzmv2AACA5WG+h32nm4i36d8JPPmw7sT/nX64WPzNjxlAAKBpps8EznZO\\\n",
       "3/SvjRN/82cGEABoqomY6+zsnPOCjonlo6Oj4u8scBXwPLiKCACWH/tvh4ABAIojAAEACiMAAQAK\\\n",
       "IwABAAojAAEACiMAAQAKIwABAAojAAEACiMAAQAKIwABAAojAAEACiMAAQAKIwABAAojAAEACiMA\\\n",
       "AQAKIwABAAojAAEACiMAAQAKIwABAAojAAEACiMAAQAKIwABAAojAAEACiMAAQAKU3wAfuYzn8m6\\\n",
       "detywQUXZOPGjfn2t7/d7CEBACyoogPwS1/6Uu6888585CMfyeOPP553vOMd2bJlSw4fPtzsoQEA\\\n",
       "LJi2qqqqZg+iWa655pq89a1vzWc/+9nGsvXr12fr1q3ZuXPnq/7+2NhYOjo6Uq/Xs2rVqoUcKgBw\\\n",
       "lth/FzwDePz48ezbty+bN2+esnzz5s155JFHmjQqAICFd16zB9AsP/vZz/Lyyy+nq6tryvKurq4c\\\n",
       "PXp01t8ZHx/P+Ph44/nY2NiCjhEAYCEUOwM4oa2tbcrzqqpmLJuwc+fOdHR0NB5r165djCECAJxV\\\n",
       "xQbg6tWrc+65586Y7Tt27NiMWcEJd999d+r1euNx5MiRxRgqAMBZVWwAnn/++dm4cWP27NkzZfme\\\n",
       "PXty7bXXzvo77e3tWbVq1ZQHAMByU+w5gEly11135dZbb83VV1+dTZs25XOf+1wOHz6c2267rdlD\\\n",
       "AwBYMEUH4M0335znnnsuH/3oR/Pss8+mp6cnDz74YK644opmDw0AYMEUfR/A+XIfIQBYfuy/Cz4H\\\n",
       "EACgVAIQAKAwAhAAoDACEACgMAIQAKAwAhAAoDACEACgMAIQAKAwAhAAoDACEACgMAIQAKAwAhAA\\\n",
       "oDACEACgMAIQAKAwAhAAoDACEACgMAIQAKAwAhAAoDACEACgMAIQAKAwAhAAoDACEACgMAIQAKAw\\\n",
       "AhAAoDACEACgMAIQAKAwAhAAoDACEACgMAIQAKAwAhAAoDACEACgMAIQAKAwAhAAoDACEACgMAIQ\\\n",
       "AKAwAhAAoDACEACgMAIQAKAwAhAAoDACEACgMAIQAKAwAhAAoDACEACgMAIQAKAwAhAAoDACEACg\\\n",
       "MAIQAKAwAhAAoDACEACgMAIQAKAwAhAAoDACEACgMAIQAKAwAhAAoDACEACgMC0ZgPfcc0+uvfba\\\n",
       "XHjhhfmlX/qlWdc5fPhwbrrpprz2ta/N6tWr84EPfCDHjx9f3IECADTBec0ewEI4fvx43ve+92XT\\\n",
       "pk35h3/4hxmvv/zyy3nPe96Tzs7OfOc738lzzz2Xvr6+VFWVoaGhJowYAGDxtGQA7tixI0mye/fu\\\n",
       "WV9/6KGHcvDgwRw5ciRr1qxJkvz1X/91tm3blnvuuSerVq1arKHSZLVaLZ2dnenv759znZGRkYyO\\\n",
       "jqZWqy3ewABgAbVkAL6a7373u+np6WnEX5K8613vyvj4ePbt25cbbrhh1t8bHx/P+Ph44/nY2NiC\\\n",
       "j5WFU6vVGv9YSDJrBI6MjGRgYGDK7wDActeS5wC+mqNHj6arq2vKsosuuijnn39+jh49Oufv7dy5\\\n",
       "Mx0dHY3H2rVrF3qoLJDp8TcwMJCRkZEp60yPvx07dghAAFrCsgnAWq2Wtra2kz6+//3vn/L7tbW1\\\n",
       "zVhWVdWsyyfcfffdqdfrjceRI0fO6O9Cc02PvwmTI3B6/E0QgQC0gmVzCHhgYCC9vb0nXefKK688\\\n",
       "pffq7u7O9773vSnLnn/++fz85z+fMTM4WXt7e9rb20/pz2Bpmiv+JkxE4KFDh+ZcZ+L3hSAAy9Wy\\\n",
       "CcDVq1dn9erVZ+W9Nm3alHvuuSfPPvtsLr300iQnLgxpb2/Pxo0bz8qfwdLU2dk552s96cmBHGjE\\\n",
       "38Tz030fAFjqls0h4NNx+PDh7N+/P4cPH87LL7+c/fv3Z//+/XnxxReTJJs3b86GDRty66235vHH\\\n",
       "H88///M/50Mf+lDe//73uwK4xfX392d4eHjG8r70ZShD6c2JWebe9GYoQ+lL34x1h4eHT3rVMAAs\\\n",
       "dW1VVVXNHsTZtm3bttx3330zln/jG9/I9ddfn+REJN5+++15+OGHs2LFitxyyy351Kc+dVqHeMfG\\\n",
       "xtLR0ZF6vS4cl5nJ5/j1pCdD+d/7P9ZTT0c6Gs/vyB2NmUDxB7D82X+3aAAuFhvQ8jY5AnvTm+3Z\\\n",
       "PmOdXdmV+3N/EvEH0CrsvwXgvNiAlr8NGzY0zvl7IA9Mmfmrp56t2ZokWb9+fQ4ePNiMIQJwltl/\\\n",
       "t+g5gHAqJl/t25veKfGXJB3paJwTeOjQoRn3CQSA5UoAUqTp5wBOPvxbT73x8/ZsT096ksx+s2gA\\\n",
       "WI4EIMWZfpPnAzmQ3dmd5MQ5f1uzNbuyK0myO7un3ApGBALQCpwDOA/OIVh+5vqGj2Tmff9Odh9A\\\n",
       "F4QALF/232YAKczo6Oicr03E3vr166c8P933AYClTgBSlFqtlsHBwTlfHx4ezsGDB2e9WfSEwcFB\\\n",
       "XwMHwLImACnOXBE4+bDuXN8YIv4AaAUCkCJNj8DZzumbHoHiD4BWcV6zBwDNMhFznZ2dc17QMbF8\\\n",
       "dHRU/AHQMlwFPA+uIgKA5cf+2yFgAIDiOATMknTojesbP6//10NNHAkAtB4zgAAAhRGAAACFcQiY\\\n",
       "JclhXwBYOGYAAQAKIwABAAojAAEACiMAAQAKIwABAAojAAEACiMAAQAKIwABAAojAAEACiMAAQAK\\\n",
       "IwABAAojAAEACiMAAQAKIwABAAojAAEACiMAAQAKIwABAAojAAEACiMAAQAKIwABAAojAAEACiMA\\\n",
       "AQAKIwABAAojAAEACiMAAQAKIwABAAojAAEACiMAAQAKIwABAAojAAEACiMAAQAKIwABAAojAAEA\\\n",
       "CiMAAQAKIwABAAojAAEACiMAAQAKIwABAAojAAEACtNyAfjTn/40f/RHf5R169ZlxYoVef3rX5/B\\\n",
       "wcEcP358ynqHDx/OTTfdlNe+9rVZvXp1PvCBD8xYBwCgFZ3X7AGcbf/6r/+aV155Jbt27cov//Iv\\\n",
       "58CBA3n/+9+fl156KZ/61KeSJC+//HLe8573pLOzM9/5znfy3HPPpa+vL1VVZWhoqMl/AwCAhdVW\\\n",
       "VVXV7EEstE9+8pP57Gc/m5/85CdJkn/6p3/K7/zO7+TIkSNZs2ZNkuT+++/Ptm3bcuzYsaxateqU\\\n",
       "3ndsbCwdHR2p1+un/DsAQHPZf7fgIeDZ1Ov1XHzxxY3n3/3ud9PT09OIvyR517velfHx8ezbt2/O\\\n",
       "9xkfH8/Y2NiUBwDActPyAfhv//ZvGRoaym233dZYdvTo0XR1dU1Z76KLLsr555+fo0ePzvleO3fu\\\n",
       "TEdHR+Oxdu3aBRs3AMBCWTYBWKvV0tbWdtLH97///Sm/88wzz+Td73533ve+9+WP//iPp7zW1tY2\\\n",
       "48+oqmrW5RPuvvvu1Ov1xuPIkSNn5y8HALCIls1FIAMDA+nt7T3pOldeeWXj52eeeSY33HBDNm3a\\\n",
       "lM997nNT1uvu7s73vve9Kcuef/75/PznP58xMzhZe3t72tvbT3/wAABLyLIJwNWrV2f16tWntO6/\\\n",
       "//u/54YbbsjGjRvz+c9/PuecM3Wic9OmTbnnnnvy7LPP5tJLL02SPPTQQ2lvb8/GjRvP+tgBAJaS\\\n",
       "lrsK+Jlnnsl1112Xyy+/PF/4whdy7rnnNl7r7u5OcuI2MG95y1vS1dWVT37yk/nP//zPbNu2LVu3\\\n",
       "bj2t28C4iggAlh/772U0A3iqHnrooTz55JN58sknc9lll015baJ1zz333Hz961/P7bffnt/8zd/M\\\n",
       "ihUrcssttzTuEwgA0MpabgZwMfkXBAAsP/bfy+gqYAAAzg4BCABQGAEIAFAYAQgAUBgBCMCSUKvV\\\n",
       "MjIyctJ1RkZGUqvVFmdA0MJa7jYwACw/tVotO3bsaDzv7++fsc7IyEgGBgam/A5wZswAAtBU0+Nv\\\n",
       "YGBgxkzg9PjbsWOHAIR5EIAANM30+JswOQKnx98EEQhnzo2g58GNJAHO3FzxN9n69etz6NChk64z\\\n",
       "ODgoBDkt9t9mAAFoks7Ozjlf60lPkjTib+L56b4PMDsBCEBT9Pf3Z3h4eMbyvvRlKEPpTW+SpDe9\\\n",
       "GcpQ+tI3Y93h4eFZLxgBTs4h4HkwhQwwf5PP8etJT4Yy1Hitnno60tF4fkfuyIEcSCL+OHP232YA\\\n",
       "AWiyyTOBB3Igu7Kr8drk+NuVXeIPzhIzgPPgXxAAZ8+GDRsa5/w9kAemxF899WzN1iQnLgw5ePBg\\\n",
       "M4ZIi7D/NgMIwBIwMjLSiL/e9E6Jv+TETODEOYGHDh161W8MAU5OAALQVNPPAdye7Y3X6qk3ft6e\\\n",
       "7Y2rgWe7WTRw6gQgAE0z/SbPB3Igu7M7yYlz/rZma+OcwN3Z3TgHMBGBMB/OAZwH5xAAnLm5vuEj\\\n",
       "OTETODn2pj+fzAUhnC77bzOAADTJ6OjonK9NxN769eunPD/d9wFmJwABaIparZbBwcE5Xx8eHs7B\\\n",
       "gwdnvVn0BF8DB2dGAALQNHNF4OTDunN9Y4j4gzMnAAFoqukRONs5fdMjUPzB/JzX7AEAwETMdXZ2\\\n",
       "znlBx8Ty0dFR8Qfz5CrgeXAVEQAsP/bfDgEDABTHIWAATsvIbQ83fu7/u99q4kiAM2UGEACgMAIQ\\\n",
       "AKAwDgEDcFoc9oXlzwwgAEBhBCAAQGEEIABAYQQgAEBhBCAAQGEEIABAYQQgAEBhBCAAQGEEIABA\\\n",
       "YQQgAEBhBCAAQGEEIABAYQQgAEBhzmv2AJazqqqSJGNjY00eCQBwqib22xP78RIJwHl44YUXkiRr\\\n",
       "165t8kgAgNP1wgsvpKOjo9nDaIq2quT8nadXXnklzzzzTFauXJm2trYzeo+xsbGsXbs2R44cyapV\\\n",
       "q87yCJc/n8/cfDZz89nMzWdzcj6fubXSZ1NVVV544YWsWbMm55xT5tlwZgDn4Zxzzslll112Vt5r\\\n",
       "1apVy/5/UAvJ5zM3n83cfDZz89mcnM9nbq3y2ZQ68zehzOwFACiYAAQAKIwAbLL29vYMDg6mvb29\\\n",
       "2UNZknw+c/PZzM1nMzefzcn5fObms2ktLgIBACiMGUAAgMIIQACAwghAAIDCCEAAgMIIwCXmyiuv\\\n",
       "TFtb25THhz/84WYPqyk+85nPZN26dbnggguycePGfPvb3272kJquVqvN2D66u7ubPaym+da3vpWb\\\n",
       "bropa9asSVtbWx544IEpr1dVlVqtljVr1mTFihW5/vrr88QTTzRnsIvs1T6bbdu2zdiWfuM3fqM5\\\n",
       "g11kO3fuzNve9rasXLkyl1xySbZu3Zof/ehHU9Ypdds5lc+m5G2nlQjAJeijH/1onn322cbjL/7i\\\n",
       "L5o9pEX3pS99KXfeeWc+8pGP5PHHH8873vGObNmyJYcPH2720JruV3/1V6dsHz/84Q+bPaSmeeml\\\n",
       "l/LmN785w8PDs77+iU98Ip/+9KczPDycxx57LN3d3bnxxhsb3+Pdyl7ts0mSd7/73VO2pQcffHAR\\\n",
       "R9g8e/fuTX9/fx599NHs2bMnv/jFL7J58+a89NJLjXVK3XZO5bNJyt12WkrFknLFFVdUf/M3f9Ps\\\n",
       "YTTdr//6r1e33XbblGVvfOMbqw9/+MNNGtHSMDg4WL35zW9u9jCWpCTVV77ylcbzV155peru7q7+\\\n",
       "6q/+qrHsf/7nf6qOjo7q7/7u75owwuaZ/tlUVVX19fVVv/d7v9eU8Sw1x44dq5JUe/furarKtjPZ\\\n",
       "9M+mqmw7rcIM4BL08Y9/PK973evylre8Jffcc0+OHz/e7CEtquPHj2ffvn3ZvHnzlOWbN2/OI488\\\n",
       "0qRRLR0//vGPs2bNmqxbty69vb35yU9+0uwhLUlPPfVUjh49OmU7am9vz3XXXWc7+v+++c1v5pJL\\\n",
       "Lskb3vCGvP/978+xY8eaPaSmqNfrSZKLL744iW1nsumfzQTbzvJ3XrMHwFR/8id/kre+9a256KKL\\\n",
       "8i//8i+5++6789RTT+Xv//7vmz20RfOzn/0sL7/8crq6uqYs7+rqytGjR5s0qqXhmmuuyRe+8IW8\\\n",
       "4Q1vyH/8x3/kYx/7WK699to88cQTed3rXtfs4S0pE9vKbNvR008/3YwhLSlbtmzJ+973vlxxxRV5\\\n",
       "6qmn8pd/+Zf5rd/6rezbt6+ob3qoqip33XVX3v72t6enpyeJbWfCbJ9NYttpFQJwEdRqtezYseOk\\\n",
       "6zz22GO5+uqr88EPfrCx7Nd+7ddy0UUX5Q//8A8bs4IlaWtrm/K8qqoZy0qzZcuWxs9vetObsmnT\\\n",
       "prz+9a/Pfffdl7vuuquJI1u6bEezu/nmmxs/9/T05Oqrr84VV1yRr3/963nve9/bxJEtroGBgfzg\\\n",
       "Bz/Id77znRmvlb7tzPXZ2HZagwBcBAMDA+nt7T3pOldeeeWsyyeurHryySeLCcDVq1fn3HPPnTHb\\\n",
       "d+zYsRn/Ii/da1/72rzpTW/Kj3/842YPZcmZuDr66NGjufTSSxvLbUezu/TSS3PFFVcUtS3dcccd\\\n",
       "+drXvpZvfetbueyyyxrLbTtzfzazKXHbaQXOAVwEq1evzhvf+MaTPi644IJZf/fxxx9Pkin/T6jV\\\n",
       "nX/++dm4cWP27NkzZfmePXty7bXXNmlUS9P4+HgOHTpU1PZxqtatW5fu7u4p29Hx48ezd+9e29Es\\\n",
       "nnvuuRw5cqSIbamqqgwMDOTLX/5yHn744axbt27K6yVvO6/22cympG2nlZgBXEK++93v5tFHH80N\\\n",
       "N9yQjo6OPPbYY/ngBz+Y3/3d383ll1/e7OEtqrvuuiu33nprrr766mzatCmf+9zncvjw4dx2223N\\\n",
       "HlpTfehDH8pNN92Uyy+/PMeOHcvHPvaxjI2Npa+vr9lDa4oXX3wxTz75ZOP5U089lf379+fiiy/O\\\n",
       "5ZdfnjvvvDP33ntvrrrqqlx11VW59957c+GFF+aWW25p4qgXx8k+m4svvji1Wi1/8Ad/kEsvvTQ/\\\n",
       "/elP8+d//udZvXp1fv/3f7+Jo14c/f39+eIXv5ivfvWrWblyZeNoQ0dHR1asWJG2trZit51X+2xe\\\n",
       "fPHForedltLEK5CZZt++fdU111xTdXR0VBdccEH1K7/yK9Xg4GD10ksvNXtoTTEyMlJdccUV1fnn\\\n",
       "n1+99a1vnXIbglLdfPPN1aWXXlq95jWvqdasWVO9973vrZ544olmD6tpvvGNb1RJZjz6+vqqqjpx\\\n",
       "O4/BwcGqu7u7am9vr975zndWP/zhD5s76EVyss/mv/7rv6rNmzdXnZ2d1Wte85rq8ssvr/r6+qrD\\\n",
       "hw83e9iLYrbPJUn1+c9/vrFOqdvOq302pW87raStqqpqMYMTAIDmcg4gAEBhBCAAQGEEIABAYQQg\\\n",
       "AEBhBCAAQGEEIABAYQQgAEBhBCAAQGEEIABAYQQgAEBhBCAAQGEEIABAYQQgAEBhBCAAQGEEIABA\\\n",
       "YQQgAEBhBCAAQGEEIABAYQQgAEBhBCAAQGEEIABAYQQgAEBhBCAAQGEEIABAYQQgAEBhBCAAQGEE\\\n",
       "IABAYQQgAEBhBCAAQGEEIABAYQQgAEBh/h/LzKQ/oermGAAAAABJRU5ErkJggg==\\\n",
       "\"\n",
       "\n",
       "\n",
       "    /* set a timeout to make sure all the above elements are created before\n",
       "       the object is initialized. */\n",
       "    setTimeout(function() {\n",
       "        anim2e43fd2c20374d2097a90388ae3f3910 = new Animation(frames, img_id, slider_id, 500.0,\n",
       "                                 loop_select_id);\n",
       "    }, 0);\n",
       "  })()\n",
       "</script>\n"
      ],
      "text/plain": [
       "<IPython.core.display.HTML object>"
      ]
     },
     "execution_count": 53,
     "metadata": {},
     "output_type": "execute_result"
    }
   ],
   "source": [
    "X = data.clone()\n",
    "fig,ax = plt.subplots()\n",
    "ani = FuncAnimation(fig, do_one, frames=5, interval=500, repeat=False)\n",
    "plt.close()\n",
    "HTML(ani.to_jshtml())"
   ]
  },
  {
   "cell_type": "markdown",
   "metadata": {},
   "source": [
    "**Homework:**\n",
    "implement [k-means clustering](https://en.wikipedia.org/wiki/K-means_clustering), [dbscan](https://en.wikipedia.org/wiki/DBSCAN), \n",
    "[locality sensitive hashing](https://en.wikipedia.org/wiki/Locality-sensitive_hashing), \n",
    "or some other clustering, fast nearest neighbors, or similar algorithm of your choice, on the GPU. \n",
    "Check if your version is faster than a pure python or CPU version.\n",
    "\n",
    "Bonus: Implement it in APL too!\n",
    "\n",
    "Super Bonus: Invent a new meanshift algorithm which picks only the closest points to avoid quadratic time.\n",
    "SB+: Publish it!\n"
   ]
  },
  {
   "cell_type": "markdown",
   "metadata": {},
   "source": [
    "# Meanshift with bias and random sampling"
   ]
  },
  {
   "cell_type": "code",
   "execution_count": 54,
   "metadata": {},
   "outputs": [],
   "source": [
    "def tri_with_bias(d, i): return (-d+i).clamp_min(0)/i + 0.0001\n",
    "def dist_b(a,b): return (((a[None]-b[:,None])**2).sum(2)).sqrt()"
   ]
  },
  {
   "cell_type": "code",
   "execution_count": 55,
   "metadata": {},
   "outputs": [],
   "source": [
    "# This is more or less the same definition used in lesson 12 expect batching has been removing\n",
    "def vanilla_meanshift(data):\n",
    "    X = data.clone()\n",
    "    for it in range(5):\n",
    "        weight = tri_with_bias(dist_b(X, X), 8)\n",
    "        div = weight.sum(1, keepdim=True)\n",
    "        X = weight@X/div\n",
    "    return X"
   ]
  },
  {
   "cell_type": "code",
   "execution_count": 56,
   "metadata": {},
   "outputs": [],
   "source": [
    "n_datapoints = len(X)"
   ]
  },
  {
   "cell_type": "code",
   "execution_count": 57,
   "metadata": {},
   "outputs": [],
   "source": [
    "def meanshift_with_random_sampling(data, n=5, rs=n_datapoints):\n",
    "    X = data.clone()\n",
    "    for it in range(5):\n",
    "      rdx = torch.randint(0, X.shape[0], (rs,))\n",
    "      X_rand = X[rdx] \n",
    "      dist = ((X.unsqueeze(1) - X_rand.unsqueeze(0))**2).sum(2).sqrt()\n",
    "      w = tri_with_bias(dist, 8)\n",
    "      w_norm = w/w.sum(1, keepdim=True)\n",
    "      X = (X_rand.unsqueeze(0) * w_norm.unsqueeze(-1)).sum(1)\n",
    "    return X"
   ]
  },
  {
   "cell_type": "code",
   "execution_count": 58,
   "metadata": {},
   "outputs": [
    {
     "data": {
      "image/png": "[encoded data removed]",
      "text/plain": [
       "<Figure size 640x480 with 1 Axes>"
      ]
     },
     "metadata": {},
     "output_type": "display_data"
    }
   ],
   "source": [
    "plot_data(centroids+2, vanilla_meanshift(data).cpu(), n_samples, ax=None)"
   ]
  },
  {
   "cell_type": "code",
   "execution_count": 59,
   "metadata": {},
   "outputs": [
    {
     "data": {
      "image/png": "[encoded data removed]",
      "text/plain": [
       "<Figure size 640x480 with 1 Axes>"
      ]
     },
     "metadata": {},
     "output_type": "display_data"
    }
   ],
   "source": [
    "plot_data(centroids+2, meanshift_with_random_sampling(data, n=5, rs=int(0.05*n_datapoints)).cpu(), n_samples, ax=None)"
   ]
  },
  {
   "cell_type": "markdown",
   "metadata": {},
   "source": [
    "## Performance"
   ]
  },
  {
   "cell_type": "code",
   "execution_count": 60,
   "metadata": {},
   "outputs": [
    {
     "name": "stdout",
     "output_type": "stream",
     "text": [
      "CPU times: user 5.9 s, sys: 1.02 s, total: 6.92 s\n",
      "Wall time: 1.21 s\n"
     ]
    },
    {
     "data": {
      "text/plain": [
       "tensor([[-4.540, 23.457],\n",
       "        [-4.540, 23.457],\n",
       "        [-4.540, 23.457],\n",
       "        ...,\n",
       "        [24.977,  5.503],\n",
       "        [24.977,  5.503],\n",
       "        [24.977,  5.503]])"
      ]
     },
     "execution_count": 60,
     "metadata": {},
     "output_type": "execute_result"
    }
   ],
   "source": [
    "%time vanilla_meanshift(data)"
   ]
  },
  {
   "cell_type": "code",
   "execution_count": 61,
   "metadata": {},
   "outputs": [
    {
     "name": "stdout",
     "output_type": "stream",
     "text": [
      "CPU times: user 304 ms, sys: 37.1 ms, total: 341 ms\n",
      "Wall time: 59 ms\n"
     ]
    },
    {
     "data": {
      "text/plain": [
       "tensor([[-4.780, 24.002],\n",
       "        [-4.780, 24.002],\n",
       "        [-4.780, 24.002],\n",
       "        ...,\n",
       "        [25.189,  6.002],\n",
       "        [25.189,  6.002],\n",
       "        [25.189,  6.002]])"
      ]
     },
     "execution_count": 61,
     "metadata": {},
     "output_type": "execute_result"
    }
   ],
   "source": [
    "%time meanshift_with_random_sampling(data, n=5, rs=int(0.05*n_datapoints))"
   ]
  },
  {
   "cell_type": "code",
   "execution_count": 62,
   "metadata": {},
   "outputs": [
    {
     "name": "stdout",
     "output_type": "stream",
     "text": [
      "1.07 s ± 68 ms per loop (mean ± std. dev. of 10 runs, 5 loops each)\n"
     ]
    },
    {
     "data": {
      "text/plain": [
       "<TimeitResult : 1.07 s ± 68 ms per loop (mean ± std. dev. of 10 runs, 5 loops each)>"
      ]
     },
     "execution_count": 62,
     "metadata": {},
     "output_type": "execute_result"
    }
   ],
   "source": [
    "%timeit -n 5 -r 10 -o vanilla_meanshift(data) #.cpu()"
   ]
  },
  {
   "cell_type": "code",
   "execution_count": 63,
   "metadata": {},
   "outputs": [
    {
     "name": "stdout",
     "output_type": "stream",
     "text": [
      "50.6 ms ± 10 ms per loop (mean ± std. dev. of 10 runs, 5 loops each)\n"
     ]
    },
    {
     "data": {
      "text/plain": [
       "<TimeitResult : 50.6 ms ± 10 ms per loop (mean ± std. dev. of 10 runs, 5 loops each)>"
      ]
     },
     "execution_count": 63,
     "metadata": {},
     "output_type": "execute_result"
    }
   ],
   "source": [
    "%timeit -n 5 -r 10 -o meanshift_with_random_sampling(data, n=5, rs=int(0.05*n_datapoints)) #.cpu()"
   ]
  },
  {
   "cell_type": "markdown",
   "metadata": {},
   "source": [
    "Let's see how the performance varies based on the number of random samples k"
   ]
  },
  {
   "cell_type": "code",
   "execution_count": 64,
   "metadata": {},
   "outputs": [],
   "source": [
    "n_random_samples = torch.linspace(50, n_datapoints, 30)"
   ]
  },
  {
   "cell_type": "code",
   "execution_count": 65,
   "metadata": {},
   "outputs": [
    {
     "name": "stdout",
     "output_type": "stream",
     "text": [
      "12.8 ms ± 2.5 ms per loop (mean ± std. dev. of 100 runs, 5 loops each)\n",
      "50.5 ms ± 6.49 ms per loop (mean ± std. dev. of 100 runs, 5 loops each)\n",
      "97.4 ms ± 14.1 ms per loop (mean ± std. dev. of 100 runs, 5 loops each)\n",
      "132 ms ± 13.3 ms per loop (mean ± std. dev. of 100 runs, 5 loops each)\n",
      "158 ms ± 14.1 ms per loop (mean ± std. dev. of 100 runs, 5 loops each)\n",
      "193 ms ± 16.2 ms per loop (mean ± std. dev. of 100 runs, 5 loops each)\n",
      "266 ms ± 20 ms per loop (mean ± std. dev. of 100 runs, 5 loops each)\n",
      "319 ms ± 33.6 ms per loop (mean ± std. dev. of 100 runs, 5 loops each)\n",
      "348 ms ± 36.2 ms per loop (mean ± std. dev. of 100 runs, 5 loops each)\n",
      "385 ms ± 26.3 ms per loop (mean ± std. dev. of 100 runs, 5 loops each)\n",
      "417 ms ± 26.1 ms per loop (mean ± std. dev. of 100 runs, 5 loops each)\n",
      "461 ms ± 26.5 ms per loop (mean ± std. dev. of 100 runs, 5 loops each)\n",
      "506 ms ± 33.5 ms per loop (mean ± std. dev. of 100 runs, 5 loops each)\n",
      "531 ms ± 27 ms per loop (mean ± std. dev. of 100 runs, 5 loops each)\n",
      "586 ms ± 44 ms per loop (mean ± std. dev. of 100 runs, 5 loops each)\n",
      "637 ms ± 45 ms per loop (mean ± std. dev. of 100 runs, 5 loops each)\n",
      "676 ms ± 39.1 ms per loop (mean ± std. dev. of 100 runs, 5 loops each)\n",
      "The slowest run took 7.85 times longer than the fastest. This could mean that an intermediate result is being cached.\n",
      "1.11 s ± 756 ms per loop (mean ± std. dev. of 100 runs, 5 loops each)\n",
      "2.29 s ± 190 ms per loop (mean ± std. dev. of 100 runs, 5 loops each)\n",
      "2.38 s ± 134 ms per loop (mean ± std. dev. of 100 runs, 5 loops each)\n",
      "2.46 s ± 97.8 ms per loop (mean ± std. dev. of 100 runs, 5 loops each)\n",
      "2.63 s ± 155 ms per loop (mean ± std. dev. of 100 runs, 5 loops each)\n",
      "2.71 s ± 108 ms per loop (mean ± std. dev. of 100 runs, 5 loops each)\n",
      "2.82 s ± 115 ms per loop (mean ± std. dev. of 100 runs, 5 loops each)\n",
      "1.65 s ± 724 ms per loop (mean ± std. dev. of 100 runs, 5 loops each)\n",
      "1.19 s ± 101 ms per loop (mean ± std. dev. of 100 runs, 5 loops each)\n",
      "1.18 s ± 104 ms per loop (mean ± std. dev. of 100 runs, 5 loops each)\n",
      "1.21 s ± 209 ms per loop (mean ± std. dev. of 100 runs, 5 loops each)\n",
      "1.95 s ± 1.04 s per loop (mean ± std. dev. of 100 runs, 5 loops each)\n",
      "1.34 s ± 160 ms per loop (mean ± std. dev. of 100 runs, 5 loops each)\n"
     ]
    }
   ],
   "source": [
    "avg_run_times = []\n",
    "for n in n_random_samples:\n",
    "  result = %timeit -n 5 -r 100 -o meanshift_with_random_sampling(data, n=5, rs=int(n.item())).cpu()\n",
    "  avg_time_in_ms = round(1000*result.average, 2)\n",
    "  avg_run_times.append(avg_time_in_ms)"
   ]
  },
  {
   "cell_type": "code",
   "execution_count": 66,
   "metadata": {},
   "outputs": [
    {
     "data": {
      "image/png": "[encoded data removed]",
      "text/plain": [
       "<Figure size 640x480 with 1 Axes>"
      ]
     },
     "metadata": {},
     "output_type": "display_data"
    }
   ],
   "source": [
    "fig, ax = plt.subplots()\n",
    "ax.scatter(n_random_samples, avg_run_times)\n",
    "plt.xlabel('k')\n",
    "plt.ylabel('time (ms)')\n",
    "plt.title('Meanshift with random sampling')\n",
    "plt.savefig('meanshift_with_random_sampling_timing_data.png')"
   ]
  },
  {
   "cell_type": "code",
   "execution_count": 67,
   "metadata": {},
   "outputs": [
    {
     "ename": "SyntaxError",
     "evalue": "invalid syntax (4015990691.py, line 1)",
     "output_type": "error",
     "traceback": [
      "\u001b[0;36m  Cell \u001b[0;32mIn [67], line 1\u001b[0;36m\u001b[0m\n\u001b[0;31m    STOP: no GPU\u001b[0m\n\u001b[0m             ^\u001b[0m\n\u001b[0;31mSyntaxError\u001b[0m\u001b[0;31m:\u001b[0m invalid syntax\n"
     ]
    }
   ],
   "source": [
    "STOP: no GPU"
   ]
  },
  {
   "cell_type": "markdown",
   "metadata": {
    "tags": []
   },
   "source": [
    "## GPU batched algorithm"
   ]
  },
  {
   "cell_type": "markdown",
   "metadata": {},
   "source": [
    "To truly accelerate the algorithm, we need to be performing updates on a batch of points per iteration, instead of just one as we were doing."
   ]
  },
  {
   "cell_type": "code",
   "execution_count": null,
   "metadata": {},
   "outputs": [],
   "source": [
    "def dist_b(a,b): return torch.sqrt(((a[None]-b[:,None])**2).sum(2))"
   ]
  },
  {
   "cell_type": "code",
   "execution_count": null,
   "metadata": {},
   "outputs": [],
   "source": [
    "X=torch.rand(8,2)\n",
    "x=torch.rand(5,2)\n",
    "dist_b(X, x)"
   ]
  },
  {
   "cell_type": "code",
   "execution_count": null,
   "metadata": {},
   "outputs": [],
   "source": [
    "bs=5\n",
    "X = data.clone()\n",
    "x = X[:bs]\n",
    "weight = gaussian(dist_b(X, x), 2)\n",
    "weight"
   ]
  },
  {
   "cell_type": "code",
   "execution_count": null,
   "metadata": {},
   "outputs": [],
   "source": [
    "weight.shape,X.shape"
   ]
  },
  {
   "cell_type": "code",
   "execution_count": null,
   "metadata": {},
   "outputs": [],
   "source": [
    "num = (weight[...,None]*X[None]).sum(1)\n",
    "num.shape"
   ]
  },
  {
   "cell_type": "code",
   "execution_count": null,
   "metadata": {},
   "outputs": [],
   "source": [
    "div = weight.sum(1, keepdim=True)\n",
    "div.shape"
   ]
  },
  {
   "cell_type": "code",
   "execution_count": null,
   "metadata": {},
   "outputs": [],
   "source": [
    "num/div"
   ]
  },
  {
   "cell_type": "code",
   "execution_count": null,
   "metadata": {},
   "outputs": [],
   "source": [
    "from fastcore.all import chunked"
   ]
  },
  {
   "cell_type": "code",
   "execution_count": null,
   "metadata": {},
   "outputs": [],
   "source": [
    "def meanshift(data, bs=500):\n",
    "    n = len(data)\n",
    "    X = data.clone()\n",
    "    for it in range(5):\n",
    "        for i in range(0, n, bs):\n",
    "            s = slice(i, min(i+bs,n))\n",
    "            weight = gaussian(dist_b(X, X[s]), 2)\n",
    "            num = (weight[...,None]*X[None]).sum(1)\n",
    "            div = weight.sum(1, keepdim=True)\n",
    "            X[s] = num/div\n",
    "    return X"
   ]
  },
  {
   "cell_type": "markdown",
   "metadata": {},
   "source": [
    "Although each iteration still has to launch a new cuda kernel, there are now fewer iterations, and the acceleration from updating a batch of points more than makes up for it."
   ]
  },
  {
   "cell_type": "code",
   "execution_count": null,
   "metadata": {},
   "outputs": [],
   "source": [
    "data = data.cuda()"
   ]
  },
  {
   "cell_type": "code",
   "execution_count": null,
   "metadata": {},
   "outputs": [],
   "source": [
    "X = meanshift(data).cpu()"
   ]
  },
  {
   "cell_type": "code",
   "execution_count": null,
   "metadata": {},
   "outputs": [],
   "source": [
    "%timeit -n 1 X = meanshift(data).cpu()"
   ]
  },
  {
   "cell_type": "code",
   "execution_count": null,
   "metadata": {},
   "outputs": [],
   "source": [
    "plot_data(centroids+2, X, n_samples)"
   ]
  },
  {
   "cell_type": "code",
   "execution_count": null,
   "metadata": {},
   "outputs": [],
   "source": []
  }
 ],
 "metadata": {
  "anaconda-cloud": {},
  "kernelspec": {
   "display_name": "Python 3 (ipykernel)",
   "language": "python",
   "name": "python3"
  },
  "language_info": {
   "codemirror_mode": {
    "name": "ipython",
    "version": 3
   },
   "file_extension": ".py",
   "mimetype": "text/x-python",
   "name": "python",
   "nbconvert_exporter": "python",
   "pygments_lexer": "ipython3",
   "version": "3.9.15"
  },
  "toc": {
   "base_numbering": 1,
   "nav_menu": {},
   "number_sections": false,
   "sideBar": true,
   "skip_h1_title": false,
   "title_cell": "Table of Contents",
   "title_sidebar": "Contents",
   "toc_cell": false,
   "toc_position": {},
   "toc_section_display": true,
   "toc_window_display": false
  }
 },
 "nbformat": 4,
 "nbformat_minor": 4
}
