{
 "cells": [
  {
   "cell_type": "markdown",
   "metadata": {},
   "source": [
    "# Clustering : DBSCAN\n",
    "\n",
    "**Density Based Spatial Clustering of Applications with Noise** (abbreviated as DBSCAN) is a density-based unsupervised clustering algorithm. "
   ]
  },
  {
   "cell_type": "code",
   "execution_count": 1,
   "metadata": {},
   "outputs": [],
   "source": [
    "import torch\n",
    "torch.manual_seed(42);"
   ]
  },
  {
   "cell_type": "markdown",
   "metadata": {
    "tags": []
   },
   "source": [
    "## Create data (synthetic)"
   ]
  },
  {
   "cell_type": "code",
   "execution_count": 19,
   "metadata": {},
   "outputs": [],
   "source": [
    "n_clusters=6\n",
    "n_samples=[250,300,75,125,500,400] # this is needed to have clusters of different size\n",
    "assert n_clusters==len(n_samples)"
   ]
  },
  {
   "cell_type": "markdown",
   "metadata": {},
   "source": [
    "To generate our data, we're going to pick 6 random points, which we'll call centroids, and for each point we're going to generate 250 random points about it."
   ]
  },
  {
   "cell_type": "code",
   "execution_count": 20,
   "metadata": {},
   "outputs": [],
   "source": [
    "#centroids = torch.randint(-35, 35, (n_clusters, 2)).float()\n",
    "centroids = torch.rand(n_clusters, 2)*70-35"
   ]
  },
  {
   "cell_type": "code",
   "execution_count": 21,
   "metadata": {},
   "outputs": [],
   "source": [
    "from torch.distributions.multivariate_normal import MultivariateNormal\n",
    "from torch import tensor"
   ]
  },
  {
   "cell_type": "code",
   "execution_count": 22,
   "metadata": {},
   "outputs": [
    {
     "data": {
      "text/plain": [
       "(torch.Size([1650, 2]), torch.Size([1650]))"
      ]
     },
     "execution_count": 22,
     "metadata": {},
     "output_type": "execute_result"
    }
   ],
   "source": [
    "def sample(m,n_samples): return MultivariateNormal(m, torch.diag(tensor([5.,5.]))).sample((n_samples,))\n",
    "\n",
    "slices,labels = zip(*[(sample(c,s),torch.tensor([label]*s)) for label,(c,s) in enumerate(zip(centroids,n_samples))])\n",
    "data = torch.cat(slices)\n",
    "labels = torch.cat(labels)\n",
    "data.shape, labels.shape"
   ]
  },
  {
   "cell_type": "markdown",
   "metadata": {},
   "source": [
    "Below we can see each centroid marked w/ X, and the coloring associated to each respective cluster."
   ]
  },
  {
   "cell_type": "code",
   "execution_count": 23,
   "metadata": {},
   "outputs": [],
   "source": [
    "import matplotlib.pyplot as plt"
   ]
  },
  {
   "cell_type": "code",
   "execution_count": 24,
   "metadata": {},
   "outputs": [],
   "source": [
    "def plot_data(centroids, data, n_samples, ax=None):\n",
    "    if ax is None: _,ax = plt.subplots()\n",
    "    for i,(c,s) in enumerate(zip(centroids,labels.unique())):\n",
    "        samples = data[labels==s]\n",
    "        ax.scatter(samples[:,0], samples[:,1], s=1)\n",
    "        ax.plot(*c, markersize=10, marker=\"x\", color='k', mew=5)\n",
    "        ax.plot(*c, markersize=5, marker=\"x\", color='m', mew=2)"
   ]
  },
  {
   "cell_type": "code",
   "execution_count": 25,
   "metadata": {},
   "outputs": [
    {
     "data": {
      "image/png": "[encoded data removed]",
      "text/plain": [
       "<Figure size 432x288 with 1 Axes>"
      ]
     },
     "metadata": {
      "needs_background": "light"
     },
     "output_type": "display_data"
    }
   ],
   "source": [
    "plot_data(centroids, data, labels)"
   ]
  },
  {
   "cell_type": "markdown",
   "metadata": {},
   "source": [
    "## DBSCAN Algorithm\n",
    "In DBSCAN, clusters are formed from dense regions and separated by regions of no or low densities.\n",
    "\n",
    "The randomly selected data point p is called a **core point** if there are more than a minimum number of points (minPts) within a ε-neighborhood of p.<br>\n",
    "A data point is called a **border point** if it is within a ε-neighborhood of p and it has fewer than the minimum number of points (minPts) within its ε-neighborhood.<br>\n",
    "If a point that is not a core point or border point is called a **Noise point (Outlier)**.<br> \n",
    "A point x is **directly density reachable** from point p if a point p is a core point and x is in p’s ε-neighborhood. \n",
    "A point y is **density reachable** from point p if a point y is directly density reachable to core point x, which is also density reachable to core point p.\n",
    "\n",
    "\n",
    "STEPS:\n",
    "- Choose any point p randomly\n",
    "- Identify all density reachable points from p with ε and minPts parameter\n",
    "- If p is a core point, create a cluster (with ε and minPts)\n",
    "- If p is a border point, visit the next point in a dataset\n",
    "- Continue the algorithm until all points are visited"
   ]
  },
  {
   "cell_type": "markdown",
   "metadata": {},
   "source": [
    "DBSCAN does not require specifying the number of clusters initially. <br>\n",
    "However, DBSCAN requires two parameters viz. the **radius of neighborhoods** for a given data point p (eps or ε) <br>\n",
    "and the minimum number of data points in a given ε-neighborhood to form clusters (minPts).\n",
    "\n",
    "The DBSCAN algorithm can be abstracted into the following steps:[4]\n",
    "- Find the points in the ε (eps) neighborhood of every point, and identify the core points with more than minPts neighbors.\n",
    "- Find the connected components of core points on the neighbor graph, ignoring all non-core points.\n",
    "- Assign each non-core point to a nearby cluster if the cluster is an ε (eps) neighbor, otherwise assign it to noise."
   ]
  },
  {
   "cell_type": "markdown",
   "metadata": {},
   "source": [
    "DBSCAN(dataset, eps, MinPts){\n",
    "# cluster index\n",
    "C = 1\n",
    "for each unvisited point p in dataset {\n",
    "         mark p as visited\n",
    "         # find neighbors\n",
    "         Neighbors N = find the neighboring points of p\n",
    "\n",
    "         if |N|>=MinPts:\n",
    "             N = N U N'\n",
    "             if p' is not a member of any cluster:\n",
    "                 add p' to cluster C \n",
    "}"
   ]
  },
  {
   "cell_type": "code",
   "execution_count": 26,
   "metadata": {},
   "outputs": [
    {
     "data": {
      "text/plain": [
       "1650"
      ]
     },
     "execution_count": 26,
     "metadata": {},
     "output_type": "execute_result"
    }
   ],
   "source": [
    "X = data.clone() # Data\n",
    "len(X)"
   ]
  },
  {
   "cell_type": "code",
   "execution_count": 37,
   "metadata": {},
   "outputs": [],
   "source": [
    "import pandas as pd\n",
    "data = pd.DataFrame(X, columns = [\"X\", \"Y\"] )"
   ]
  },
  {
   "cell_type": "code",
   "execution_count": 39,
   "metadata": {},
   "outputs": [
    {
     "data": {
      "text/html": [
       "<div>\n",
       "<style scoped>\n",
       "    .dataframe tbody tr th:only-of-type {\n",
       "        vertical-align: middle;\n",
       "    }\n",
       "\n",
       "    .dataframe tbody tr th {\n",
       "        vertical-align: top;\n",
       "    }\n",
       "\n",
       "    .dataframe thead th {\n",
       "        text-align: right;\n",
       "    }\n",
       "</style>\n",
       "<table border=\"1\" class=\"dataframe\">\n",
       "  <thead>\n",
       "    <tr style=\"text-align: right;\">\n",
       "      <th></th>\n",
       "      <th>X</th>\n",
       "      <th>Y</th>\n",
       "    </tr>\n",
       "  </thead>\n",
       "  <tbody>\n",
       "    <tr>\n",
       "      <th>0</th>\n",
       "      <td>24.927757</td>\n",
       "      <td>17.575846</td>\n",
       "    </tr>\n",
       "    <tr>\n",
       "      <th>1</th>\n",
       "      <td>22.119335</td>\n",
       "      <td>16.729126</td>\n",
       "    </tr>\n",
       "    <tr>\n",
       "      <th>2</th>\n",
       "      <td>26.600422</td>\n",
       "      <td>21.040033</td>\n",
       "    </tr>\n",
       "    <tr>\n",
       "      <th>3</th>\n",
       "      <td>21.372105</td>\n",
       "      <td>18.391880</td>\n",
       "    </tr>\n",
       "    <tr>\n",
       "      <th>4</th>\n",
       "      <td>20.561390</td>\n",
       "      <td>17.142164</td>\n",
       "    </tr>\n",
       "  </tbody>\n",
       "</table>\n",
       "</div>"
      ],
      "text/plain": [
       "           X          Y\n",
       "0  24.927757  17.575846\n",
       "1  22.119335  16.729126\n",
       "2  26.600422  21.040033\n",
       "3  21.372105  18.391880\n",
       "4  20.561390  17.142164"
      ]
     },
     "execution_count": 39,
     "metadata": {},
     "output_type": "execute_result"
    }
   ],
   "source": [
    "data.head()"
   ]
  },
  {
   "cell_type": "code",
   "execution_count": 42,
   "metadata": {},
   "outputs": [],
   "source": [
    "def check_core_point(eps,minPts, df, index):\n",
    "    #get points from given index\n",
    "    x, y = df.iloc[index]['X']  ,  df.iloc[index]['Y']\n",
    "    \n",
    "    #check available points within radius\n",
    "    temp =  df[((np.abs(x - df['X']) <= eps) & (np.abs(y - df['Y']) <= eps)) & (df.index != index)]\n",
    "    \n",
    "    #check how many points are present within radius\n",
    "    if len(temp) >= minPts:\n",
    "        #return format (dataframe, is_core, is_border, is_noise)\n",
    "        return (temp.index , True, False, False)\n",
    "    \n",
    "    elif (len(temp) < minPts) and len(temp) > 0:\n",
    "        #return format (dataframe, is_core, is_border, is_noise)\n",
    "        return (temp.index , False, True, False)\n",
    "    \n",
    "    elif len(temp) == 0:\n",
    "        #return format (dataframe, is_core, is_border, is_noise)\n",
    "        return (temp.index , False, False, True)"
   ]
  },
  {
   "cell_type": "code",
   "execution_count": 43,
   "metadata": {},
   "outputs": [],
   "source": [
    "def cluster_with_stack(eps, minPts, df):\n",
    "    \n",
    "    #initiating cluster number\n",
    "    C = 1\n",
    "    #initiating stacks to maintain\n",
    "    current_stack = set()\n",
    "    unvisited = list(df.index)\n",
    "    clusters = []\n",
    "    \n",
    "    \n",
    "    while (len(unvisited) != 0): #run until all points have been visited\n",
    "\n",
    "        #identifier for first point of a cluster\n",
    "        first_point = True\n",
    "        \n",
    "        #choose a random unvisited point\n",
    "        current_stack.add(random.choice(unvisited))\n",
    "        \n",
    "        while len(current_stack) != 0: #run until a cluster is complete\n",
    "            \n",
    "            #pop current point from stack\n",
    "            curr_idx = current_stack.pop()\n",
    "            \n",
    "            #check if point is core, neighbour or border\n",
    "            neigh_indexes, iscore, isborder, isnoise = check_core_point(eps, minPts, df, curr_idx)\n",
    "            \n",
    "            #dealing with an edge case\n",
    "            if (isborder & first_point):\n",
    "                #for first border point, we label it aand its neighbours as noise \n",
    "                clusters.append((curr_idx, 0))\n",
    "                clusters.extend(list(zip(neigh_indexes,[0 for _ in range(len(neigh_indexes))])))\n",
    "                \n",
    "                #label as visited\n",
    "                unvisited.remove(curr_idx)\n",
    "                unvisited = [e for e in unvisited if e not in neigh_indexes]\n",
    "    \n",
    "                continue\n",
    "                \n",
    "            unvisited.remove(curr_idx) #remove point from unvisited list\n",
    "            \n",
    "            \n",
    "            neigh_indexes = set(neigh_indexes) & set(unvisited) #look at only unvisited points\n",
    "            \n",
    "            if iscore: #if current point is a core\n",
    "                first_point = False\n",
    "                \n",
    "                clusters.append((curr_idx,C)) #assign to a cluster\n",
    "                current_stack.update(neigh_indexes) #add neighbours to a stack\n",
    "\n",
    "            elif isborder: #if current point is a border point\n",
    "                clusters.append((curr_idx,C))\n",
    "                \n",
    "                continue\n",
    "\n",
    "            elif isnoise: #if current point is noise\n",
    "                clusters.append((curr_idx, 0))\n",
    "                \n",
    "                continue\n",
    "                \n",
    "        if not first_point:\n",
    "            #increment cluster number\n",
    "            C+=1\n",
    "        \n",
    "    return clusters\n",
    "            "
   ]
  },
  {
   "cell_type": "code",
   "execution_count": 55,
   "metadata": {},
   "outputs": [],
   "source": [
    "#radius of the circle defined as 0.6\n",
    "eps = 4\n",
    "#minimum neighbouring points set to 3\n",
    "minPts = 3"
   ]
  },
  {
   "cell_type": "code",
   "execution_count": 46,
   "metadata": {},
   "outputs": [],
   "source": [
    "import numpy as np"
   ]
  },
  {
   "cell_type": "code",
   "execution_count": 56,
   "metadata": {},
   "outputs": [],
   "source": [
    "clustered = cluster_with_stack(eps, minPts, data)"
   ]
  },
  {
   "cell_type": "code",
   "execution_count": 57,
   "metadata": {},
   "outputs": [],
   "source": [
    "idx , cluster = list(zip(*clustered))\n",
    "\n",
    "cluster_df = pd.DataFrame(clustered, columns = [\"idx\", \"cluster\"])"
   ]
  },
  {
   "cell_type": "code",
   "execution_count": 58,
   "metadata": {},
   "outputs": [
    {
     "data": {
      "text/plain": [
       "Text(0, 0.5, 'Y')"
      ]
     },
     "execution_count": 58,
     "metadata": {},
     "output_type": "execute_result"
    },
    {
     "data": {
      "image/png": "[encoded data removed]",
      "text/plain": [
       "<Figure size 720x504 with 1 Axes>"
      ]
     },
     "metadata": {
      "needs_background": "light"
     },
     "output_type": "display_data"
    }
   ],
   "source": [
    "plt.figure(figsize=(10,7))\n",
    "for clust in np.unique(cluster):\n",
    "    plt.scatter(X[cluster_df[\"idx\"][cluster_df[\"cluster\"] == clust].values, 0], X[cluster_df[\"idx\"][cluster_df[\"cluster\"] == clust].values, 1], s=10, label=f\"Cluster{clust}\")\n",
    "\n",
    "plt.legend([f\"Cluster {clust}\" for clust in np.unique(cluster)], loc =\"lower right\")\n",
    "plt.title('Clustered Data')\n",
    "plt.xlabel('X')\n",
    "plt.ylabel('Y')"
   ]
  },
  {
   "cell_type": "code",
   "execution_count": 40,
   "metadata": {},
   "outputs": [],
   "source": [
    "import random"
   ]
  },
  {
   "cell_type": "code",
   "execution_count": 41,
   "metadata": {},
   "outputs": [
    {
     "ename": "KeyError",
     "evalue": "480",
     "output_type": "error",
     "traceback": [
      "\u001b[0;31m---------------------------------------------------------------------------\u001b[0m",
      "\u001b[0;31mKeyError\u001b[0m                                  Traceback (most recent call last)",
      "File \u001b[0;32m~/mambaforge/lib/python3.9/site-packages/pandas/core/indexes/base.py:3621\u001b[0m, in \u001b[0;36mIndex.get_loc\u001b[0;34m(self, key, method, tolerance)\u001b[0m\n\u001b[1;32m   3620\u001b[0m \u001b[38;5;28;01mtry\u001b[39;00m:\n\u001b[0;32m-> 3621\u001b[0m     \u001b[38;5;28;01mreturn\u001b[39;00m \u001b[38;5;28;43mself\u001b[39;49m\u001b[38;5;241;43m.\u001b[39;49m\u001b[43m_engine\u001b[49m\u001b[38;5;241;43m.\u001b[39;49m\u001b[43mget_loc\u001b[49m\u001b[43m(\u001b[49m\u001b[43mcasted_key\u001b[49m\u001b[43m)\u001b[49m\n\u001b[1;32m   3622\u001b[0m \u001b[38;5;28;01mexcept\u001b[39;00m \u001b[38;5;167;01mKeyError\u001b[39;00m \u001b[38;5;28;01mas\u001b[39;00m err:\n",
      "File \u001b[0;32m~/mambaforge/lib/python3.9/site-packages/pandas/_libs/index.pyx:136\u001b[0m, in \u001b[0;36mpandas._libs.index.IndexEngine.get_loc\u001b[0;34m()\u001b[0m\n",
      "File \u001b[0;32m~/mambaforge/lib/python3.9/site-packages/pandas/_libs/index.pyx:163\u001b[0m, in \u001b[0;36mpandas._libs.index.IndexEngine.get_loc\u001b[0;34m()\u001b[0m\n",
      "File \u001b[0;32mpandas/_libs/hashtable_class_helper.pxi:5198\u001b[0m, in \u001b[0;36mpandas._libs.hashtable.PyObjectHashTable.get_item\u001b[0;34m()\u001b[0m\n",
      "File \u001b[0;32mpandas/_libs/hashtable_class_helper.pxi:5206\u001b[0m, in \u001b[0;36mpandas._libs.hashtable.PyObjectHashTable.get_item\u001b[0;34m()\u001b[0m\n",
      "\u001b[0;31mKeyError\u001b[0m: 480",
      "\nThe above exception was the direct cause of the following exception:\n",
      "\u001b[0;31mKeyError\u001b[0m                                  Traceback (most recent call last)",
      "Input \u001b[0;32mIn [41]\u001b[0m, in \u001b[0;36m<cell line: 1>\u001b[0;34m()\u001b[0m\n\u001b[0;32m----> 1\u001b[0m x \u001b[38;5;241m=\u001b[39m \u001b[43mdata\u001b[49m\u001b[43m[\u001b[49m\u001b[43mrandom\u001b[49m\u001b[38;5;241;43m.\u001b[39;49m\u001b[43mrandint\u001b[49m\u001b[43m(\u001b[49m\u001b[38;5;241;43m0\u001b[39;49m\u001b[43m,\u001b[49m\u001b[43m \u001b[49m\u001b[38;5;28;43mlen\u001b[39;49m\u001b[43m(\u001b[49m\u001b[43mX\u001b[49m\u001b[43m)\u001b[49m\u001b[43m)\u001b[49m\u001b[43m]\u001b[49m  \u001b[38;5;66;03m# first point\u001b[39;00m\n\u001b[1;32m      2\u001b[0m x\n",
      "File \u001b[0;32m~/mambaforge/lib/python3.9/site-packages/pandas/core/frame.py:3505\u001b[0m, in \u001b[0;36mDataFrame.__getitem__\u001b[0;34m(self, key)\u001b[0m\n\u001b[1;32m   3503\u001b[0m \u001b[38;5;28;01mif\u001b[39;00m \u001b[38;5;28mself\u001b[39m\u001b[38;5;241m.\u001b[39mcolumns\u001b[38;5;241m.\u001b[39mnlevels \u001b[38;5;241m>\u001b[39m \u001b[38;5;241m1\u001b[39m:\n\u001b[1;32m   3504\u001b[0m     \u001b[38;5;28;01mreturn\u001b[39;00m \u001b[38;5;28mself\u001b[39m\u001b[38;5;241m.\u001b[39m_getitem_multilevel(key)\n\u001b[0;32m-> 3505\u001b[0m indexer \u001b[38;5;241m=\u001b[39m \u001b[38;5;28;43mself\u001b[39;49m\u001b[38;5;241;43m.\u001b[39;49m\u001b[43mcolumns\u001b[49m\u001b[38;5;241;43m.\u001b[39;49m\u001b[43mget_loc\u001b[49m\u001b[43m(\u001b[49m\u001b[43mkey\u001b[49m\u001b[43m)\u001b[49m\n\u001b[1;32m   3506\u001b[0m \u001b[38;5;28;01mif\u001b[39;00m is_integer(indexer):\n\u001b[1;32m   3507\u001b[0m     indexer \u001b[38;5;241m=\u001b[39m [indexer]\n",
      "File \u001b[0;32m~/mambaforge/lib/python3.9/site-packages/pandas/core/indexes/base.py:3623\u001b[0m, in \u001b[0;36mIndex.get_loc\u001b[0;34m(self, key, method, tolerance)\u001b[0m\n\u001b[1;32m   3621\u001b[0m     \u001b[38;5;28;01mreturn\u001b[39;00m \u001b[38;5;28mself\u001b[39m\u001b[38;5;241m.\u001b[39m_engine\u001b[38;5;241m.\u001b[39mget_loc(casted_key)\n\u001b[1;32m   3622\u001b[0m \u001b[38;5;28;01mexcept\u001b[39;00m \u001b[38;5;167;01mKeyError\u001b[39;00m \u001b[38;5;28;01mas\u001b[39;00m err:\n\u001b[0;32m-> 3623\u001b[0m     \u001b[38;5;28;01mraise\u001b[39;00m \u001b[38;5;167;01mKeyError\u001b[39;00m(key) \u001b[38;5;28;01mfrom\u001b[39;00m \u001b[38;5;21;01merr\u001b[39;00m\n\u001b[1;32m   3624\u001b[0m \u001b[38;5;28;01mexcept\u001b[39;00m \u001b[38;5;167;01mTypeError\u001b[39;00m:\n\u001b[1;32m   3625\u001b[0m     \u001b[38;5;66;03m# If we have a listlike key, _check_indexing_error will raise\u001b[39;00m\n\u001b[1;32m   3626\u001b[0m     \u001b[38;5;66;03m#  InvalidIndexError. Otherwise we fall through and re-raise\u001b[39;00m\n\u001b[1;32m   3627\u001b[0m     \u001b[38;5;66;03m#  the TypeError.\u001b[39;00m\n\u001b[1;32m   3628\u001b[0m     \u001b[38;5;28mself\u001b[39m\u001b[38;5;241m.\u001b[39m_check_indexing_error(key)\n",
      "\u001b[0;31mKeyError\u001b[0m: 480"
     ]
    }
   ],
   "source": [
    "x = data[random.randint(0, len(X))]  # first point\n",
    "x"
   ]
  },
  {
   "cell_type": "code",
   "execution_count": 36,
   "metadata": {},
   "outputs": [
    {
     "data": {
      "text/plain": [
       "(torch.Size([2]), torch.Size([1650, 2]))"
      ]
     },
     "execution_count": 36,
     "metadata": {},
     "output_type": "execute_result"
    }
   ],
   "source": [
    "x.shape, X.shape"
   ]
  },
  {
   "cell_type": "code",
   "execution_count": null,
   "metadata": {},
   "outputs": [],
   "source": [
    "def check_core_point(eps,minPts, df, index):\n",
    "    #get points from given index\n",
    "    x, y = df.iloc[index]['X']  ,  df.iloc[index]['Y']\n",
    "    \n",
    "    #check available points within radius\n",
    "    temp =  df[((np.abs(x - df['X']) <= eps) & (np.abs(y - df['Y']) <= eps)) & (df.index != index)]\n",
    "    \n",
    "    #check how many points are present within radius\n",
    "    if len(temp) >= minPts:\n",
    "        #return format (dataframe, is_core, is_border, is_noise)\n",
    "        return (temp.index , True, False, False)\n",
    "    \n",
    "    elif (len(temp) < minPts) and len(temp) > 0:\n",
    "        #return format (dataframe, is_core, is_border, is_noise)\n",
    "        return (temp.index , False, True, False)\n",
    "    \n",
    "    elif len(temp) == 0:\n",
    "        #return format (dataframe, is_core, is_border, is_noise)\n",
    "        return (temp.index , False, False, True)"
   ]
  },
  {
   "cell_type": "code",
   "execution_count": 41,
   "metadata": {},
   "outputs": [
    {
     "data": {
      "text/plain": [
       "tensor([[ 0.0000,  0.0000],\n",
       "        [ 0.5130, -3.8647],\n",
       "        [-4.2275, -2.3448],\n",
       "        [ 0.5571, -3.6846],\n",
       "        [-5.0327, -3.7446],\n",
       "        [-4.0725, -0.6381],\n",
       "        [-3.4153, -5.6005],\n",
       "        [-1.9202, -5.6862]])"
      ]
     },
     "execution_count": 41,
     "metadata": {},
     "output_type": "execute_result"
    }
   ],
   "source": [
    "(x-X)[:8]"
   ]
  },
  {
   "cell_type": "code",
   "execution_count": 69,
   "metadata": {},
   "outputs": [
    {
     "name": "stdout",
     "output_type": "stream",
     "text": [
      "CPU times: user 932 µs, sys: 624 µs, total: 1.56 ms\n",
      "Wall time: 901 µs\n"
     ]
    },
    {
     "data": {
      "text/plain": [
       "tensor([0.0000, 3.8986, 4.8342, 3.7265, 6.2729, 4.1222, 6.5598, 6.0017])"
      ]
     },
     "execution_count": 69,
     "metadata": {},
     "output_type": "execute_result"
    }
   ],
   "source": [
    "# the distance of x to every point in X\n",
    "%time dist = torch.sqrt(((x-X)**2).sum(1))\n",
    "dist[:8]"
   ]
  },
  {
   "cell_type": "code",
   "execution_count": 44,
   "metadata": {},
   "outputs": [
    {
     "data": {
      "text/plain": [
       "torch.Size([3000])"
      ]
     },
     "execution_count": 44,
     "metadata": {},
     "output_type": "execute_result"
    }
   ],
   "source": [
    "dist.shape"
   ]
  },
  {
   "cell_type": "code",
   "execution_count": 70,
   "metadata": {},
   "outputs": [
    {
     "name": "stdout",
     "output_type": "stream",
     "text": [
      "CPU times: user 795 µs, sys: 759 µs, total: 1.55 ms\n",
      "Wall time: 861 µs\n"
     ]
    },
    {
     "data": {
      "text/plain": [
       "tensor([0.0000, 3.8986, 4.8342, 3.7265, 6.2729, 4.1222, 6.5598, 6.0017])"
      ]
     },
     "execution_count": 70,
     "metadata": {},
     "output_type": "execute_result"
    }
   ],
   "source": [
    "#TODO HW: Rewrite using torch.einsum\n",
    "\n",
    "%time dist2 = \n",
    "dist2[:8]torch.einsum('ij->i',(x-X)**2).sqrt()"
   ]
  },
  {
   "cell_type": "code",
   "execution_count": 64,
   "metadata": {},
   "outputs": [],
   "source": [
    "from fastcore.test import test_close\n",
    "test_close(dist, dist2)"
   ]
  },
  {
   "cell_type": "code",
   "execution_count": 58,
   "metadata": {},
   "outputs": [
    {
     "data": {
      "text/plain": [
       "tensor([1.5958e-01, 4.7304e-02, 2.4606e-02,  ..., 1.4362e-15, 3.0530e-17,\n",
       "        1.4439e-15])"
      ]
     },
     "execution_count": 58,
     "metadata": {},
     "output_type": "execute_result"
    }
   ],
   "source": [
    "weight = gaussian(dist, 2.5)\n",
    "weight"
   ]
  },
  {
   "cell_type": "code",
   "execution_count": 59,
   "metadata": {},
   "outputs": [
    {
     "data": {
      "text/plain": [
       "(torch.Size([3000]), torch.Size([3000, 2]))"
      ]
     },
     "execution_count": 59,
     "metadata": {},
     "output_type": "execute_result"
    }
   ],
   "source": [
    "weight.shape,X.shape"
   ]
  },
  {
   "cell_type": "markdown",
   "metadata": {},
   "source": [
    "We now want a weighted average\n",
    "Formally, the weighted mean of a non-empty finite tuple of data $$\\left( x_1, x_2, \\dots , x_n \\right)$$\n",
    "with corresponding non-negative weight function|weights $$( w_1, w_2, \\dots , w_n)$$ is\n",
    "$$\\bar{x} = \\frac{ \\sum\\limits_{i=1}^n w_i x_i}{\\sum\\limits_{i=1}^n w_i}$$\n",
    "which expands to:\n",
    "$$\\bar{x} = \\frac{w_1 x_1 + w_2 x_2 + \\cdots + w_n x_n}{w_1 + w_2 + \\cdots + w_n}.$$"
   ]
  },
  {
   "cell_type": "markdown",
   "metadata": {},
   "source": [
    "Need to add a trailing axis to the weights to be able to multiply"
   ]
  },
  {
   "cell_type": "code",
   "execution_count": 60,
   "metadata": {},
   "outputs": [
    {
     "data": {
      "text/plain": [
       "tensor([[-2.1631e+00, -1.1197e-01],\n",
       "        [-6.6548e-01,  1.4963e-01],\n",
       "        [-2.2951e-01,  4.0430e-02],\n",
       "        ...,\n",
       "        [-1.4289e-14,  2.7401e-14],\n",
       "        [-3.3403e-16,  6.2303e-16],\n",
       "        [-1.2635e-14,  2.7175e-14]])"
      ]
     },
     "execution_count": 60,
     "metadata": {},
     "output_type": "execute_result"
    }
   ],
   "source": [
    "(weight[:,None]*X)"
   ]
  },
  {
   "cell_type": "code",
   "execution_count": 61,
   "metadata": {},
   "outputs": [
    {
     "data": {
      "text/plain": [
       "tensor([-13.2007,   0.8931])"
      ]
     },
     "execution_count": 61,
     "metadata": {},
     "output_type": "execute_result"
    }
   ],
   "source": [
    "(weight[:,None]*X).sum(0)/weight.sum()"
   ]
  },
  {
   "cell_type": "markdown",
   "metadata": {},
   "source": [
    "Now all together in a single cell for a single update."
   ]
  },
  {
   "cell_type": "code",
   "execution_count": 71,
   "metadata": {},
   "outputs": [],
   "source": [
    "def one_update(X):\n",
    "    for i, x in enumerate(X):\n",
    "        #dist = torch.sqrt(((x-X)**2).sum(1))\n",
    "        dist = torch.einsum('ij->i',(x-X)**2).sqrt()\n",
    "        #weight = gaussian(dist, 2.5)\n",
    "        weight = tri(dist, 8)\n",
    "        X[i] = (weight[:,None]*X).sum(0)/weight.sum()"
   ]
  },
  {
   "cell_type": "code",
   "execution_count": 72,
   "metadata": {},
   "outputs": [],
   "source": [
    "def meanshift(data):\n",
    "    X = data.clone()\n",
    "    for it in range(5): one_update(X)\n",
    "    return X"
   ]
  },
  {
   "cell_type": "code",
   "execution_count": 73,
   "metadata": {},
   "outputs": [
    {
     "name": "stdout",
     "output_type": "stream",
     "text": [
      "CPU times: user 11.5 s, sys: 83.7 ms, total: 11.6 s\n",
      "Wall time: 1.94 s\n"
     ]
    }
   ],
   "source": [
    "%time X=meanshift(data)"
   ]
  },
  {
   "cell_type": "markdown",
   "metadata": {},
   "source": [
    "We can see that mean shift clustering has almost reproduced our original clustering. The one exception are the very close clusters, but if we really wanted to differentiate them we could lower the bandwidth.\n",
    "\n",
    "What is impressive is that this algorithm nearly reproduced the original clusters without telling it how many clusters there should be."
   ]
  },
  {
   "cell_type": "code",
   "execution_count": 75,
   "metadata": {},
   "outputs": [
    {
     "data": {
      "image/png": "[encoded data removed]",
      "text/plain": [
       "<Figure size 432x288 with 1 Axes>"
      ]
     },
     "metadata": {
      "needs_background": "light"
     },
     "output_type": "display_data"
    }
   ],
   "source": [
    "plot_data(centroids+2, X, n_samples)"
   ]
  },
  {
   "cell_type": "markdown",
   "metadata": {},
   "source": [
    "All the computation is happening in the <tt>for</tt> loop, which isn't accelerated by pytorch. Each iteration launches a new cuda kernel, which takes time and slows the algorithm down as a whole. Furthermore, each iteration doesn't have enough processing to do to fill up all of the threads of the GPU. But at least the results are correct...\n",
    "\n",
    "We should be able to accelerate this algorithm with a GPU."
   ]
  },
  {
   "cell_type": "markdown",
   "metadata": {},
   "source": [
    "## Animation"
   ]
  },
  {
   "cell_type": "code",
   "execution_count": 77,
   "metadata": {},
   "outputs": [],
   "source": [
    "from matplotlib.animation import FuncAnimation\n",
    "from IPython.display import HTML"
   ]
  },
  {
   "cell_type": "code",
   "execution_count": 78,
   "metadata": {},
   "outputs": [],
   "source": [
    "def do_one(d):\n",
    "    if not d: return plot_data(centroids+2, X, n_samples, ax=ax)\n",
    "    one_update(X)\n",
    "    ax.clear()\n",
    "    plot_data(centroids+2, X, n_samples, ax=ax)"
   ]
  },
  {
   "cell_type": "code",
   "execution_count": 79,
   "metadata": {},
   "outputs": [
    {
     "data": {
      "text/html": [
       "\n",
       "<link rel=\"stylesheet\"\n",
       "href=\"https://maxcdn.bootstrapcdn.com/font-awesome/4.4.0/css/font-awesome.min.css\">\n",
       "<script language=\"javascript\">\n",
       "  function isInternetExplorer() {\n",
       "    ua = navigator.userAgent;\n",
       "    /* MSIE used to detect old browsers and Trident used to newer ones*/\n",
       "    return ua.indexOf(\"MSIE \") > -1 || ua.indexOf(\"Trident/\") > -1;\n",
       "  }\n",
       "\n",
       "  /* Define the Animation class */\n",
       "  function Animation(frames, img_id, slider_id, interval, loop_select_id){\n",
       "    this.img_id = img_id;\n",
       "    this.slider_id = slider_id;\n",
       "    this.loop_select_id = loop_select_id;\n",
       "    this.interval = interval;\n",
       "    this.current_frame = 0;\n",
       "    this.direction = 0;\n",
       "    this.timer = null;\n",
       "    this.frames = new Array(frames.length);\n",
       "\n",
       "    for (var i=0; i<frames.length; i++)\n",
       "    {\n",
       "     this.frames[i] = new Image();\n",
       "     this.frames[i].src = frames[i];\n",
       "    }\n",
       "    var slider = document.getElementById(this.slider_id);\n",
       "    slider.max = this.frames.length - 1;\n",
       "    if (isInternetExplorer()) {\n",
       "        // switch from oninput to onchange because IE <= 11 does not conform\n",
       "        // with W3C specification. It ignores oninput and onchange behaves\n",
       "        // like oninput. In contrast, Microsoft Edge behaves correctly.\n",
       "        slider.setAttribute('onchange', slider.getAttribute('oninput'));\n",
       "        slider.setAttribute('oninput', null);\n",
       "    }\n",
       "    this.set_frame(this.current_frame);\n",
       "  }\n",
       "\n",
       "  Animation.prototype.get_loop_state = function(){\n",
       "    var button_group = document[this.loop_select_id].state;\n",
       "    for (var i = 0; i < button_group.length; i++) {\n",
       "        var button = button_group[i];\n",
       "        if (button.checked) {\n",
       "            return button.value;\n",
       "        }\n",
       "    }\n",
       "    return undefined;\n",
       "  }\n",
       "\n",
       "  Animation.prototype.set_frame = function(frame){\n",
       "    this.current_frame = frame;\n",
       "    document.getElementById(this.img_id).src =\n",
       "            this.frames[this.current_frame].src;\n",
       "    document.getElementById(this.slider_id).value = this.current_frame;\n",
       "  }\n",
       "\n",
       "  Animation.prototype.next_frame = function()\n",
       "  {\n",
       "    this.set_frame(Math.min(this.frames.length - 1, this.current_frame + 1));\n",
       "  }\n",
       "\n",
       "  Animation.prototype.previous_frame = function()\n",
       "  {\n",
       "    this.set_frame(Math.max(0, this.current_frame - 1));\n",
       "  }\n",
       "\n",
       "  Animation.prototype.first_frame = function()\n",
       "  {\n",
       "    this.set_frame(0);\n",
       "  }\n",
       "\n",
       "  Animation.prototype.last_frame = function()\n",
       "  {\n",
       "    this.set_frame(this.frames.length - 1);\n",
       "  }\n",
       "\n",
       "  Animation.prototype.slower = function()\n",
       "  {\n",
       "    this.interval /= 0.7;\n",
       "    if(this.direction > 0){this.play_animation();}\n",
       "    else if(this.direction < 0){this.reverse_animation();}\n",
       "  }\n",
       "\n",
       "  Animation.prototype.faster = function()\n",
       "  {\n",
       "    this.interval *= 0.7;\n",
       "    if(this.direction > 0){this.play_animation();}\n",
       "    else if(this.direction < 0){this.reverse_animation();}\n",
       "  }\n",
       "\n",
       "  Animation.prototype.anim_step_forward = function()\n",
       "  {\n",
       "    this.current_frame += 1;\n",
       "    if(this.current_frame < this.frames.length){\n",
       "      this.set_frame(this.current_frame);\n",
       "    }else{\n",
       "      var loop_state = this.get_loop_state();\n",
       "      if(loop_state == \"loop\"){\n",
       "        this.first_frame();\n",
       "      }else if(loop_state == \"reflect\"){\n",
       "        this.last_frame();\n",
       "        this.reverse_animation();\n",
       "      }else{\n",
       "        this.pause_animation();\n",
       "        this.last_frame();\n",
       "      }\n",
       "    }\n",
       "  }\n",
       "\n",
       "  Animation.prototype.anim_step_reverse = function()\n",
       "  {\n",
       "    this.current_frame -= 1;\n",
       "    if(this.current_frame >= 0){\n",
       "      this.set_frame(this.current_frame);\n",
       "    }else{\n",
       "      var loop_state = this.get_loop_state();\n",
       "      if(loop_state == \"loop\"){\n",
       "        this.last_frame();\n",
       "      }else if(loop_state == \"reflect\"){\n",
       "        this.first_frame();\n",
       "        this.play_animation();\n",
       "      }else{\n",
       "        this.pause_animation();\n",
       "        this.first_frame();\n",
       "      }\n",
       "    }\n",
       "  }\n",
       "\n",
       "  Animation.prototype.pause_animation = function()\n",
       "  {\n",
       "    this.direction = 0;\n",
       "    if (this.timer){\n",
       "      clearInterval(this.timer);\n",
       "      this.timer = null;\n",
       "    }\n",
       "  }\n",
       "\n",
       "  Animation.prototype.play_animation = function()\n",
       "  {\n",
       "    this.pause_animation();\n",
       "    this.direction = 1;\n",
       "    var t = this;\n",
       "    if (!this.timer) this.timer = setInterval(function() {\n",
       "        t.anim_step_forward();\n",
       "    }, this.interval);\n",
       "  }\n",
       "\n",
       "  Animation.prototype.reverse_animation = function()\n",
       "  {\n",
       "    this.pause_animation();\n",
       "    this.direction = -1;\n",
       "    var t = this;\n",
       "    if (!this.timer) this.timer = setInterval(function() {\n",
       "        t.anim_step_reverse();\n",
       "    }, this.interval);\n",
       "  }\n",
       "</script>\n",
       "\n",
       "<style>\n",
       ".animation {\n",
       "    display: inline-block;\n",
       "    text-align: center;\n",
       "}\n",
       "input[type=range].anim-slider {\n",
       "    width: 374px;\n",
       "    margin-left: auto;\n",
       "    margin-right: auto;\n",
       "}\n",
       ".anim-buttons {\n",
       "    margin: 8px 0px;\n",
       "}\n",
       ".anim-buttons button {\n",
       "    padding: 0;\n",
       "    width: 36px;\n",
       "}\n",
       ".anim-state label {\n",
       "    margin-right: 8px;\n",
       "}\n",
       ".anim-state input {\n",
       "    margin: 0;\n",
       "    vertical-align: middle;\n",
       "}\n",
       "</style>\n",
       "\n",
       "<div class=\"animation\">\n",
       "  <img id=\"_anim_img3b3e2012b952469bbe95e38dd9482976\">\n",
       "  <div class=\"anim-controls\">\n",
       "    <input id=\"_anim_slider3b3e2012b952469bbe95e38dd9482976\" type=\"range\" class=\"anim-slider\"\n",
       "           name=\"points\" min=\"0\" max=\"1\" step=\"1\" value=\"0\"\n",
       "           oninput=\"anim3b3e2012b952469bbe95e38dd9482976.set_frame(parseInt(this.value));\">\n",
       "    <div class=\"anim-buttons\">\n",
       "      <button title=\"Decrease speed\" aria-label=\"Decrease speed\" onclick=\"anim3b3e2012b952469bbe95e38dd9482976.slower()\">\n",
       "          <i class=\"fa fa-minus\"></i></button>\n",
       "      <button title=\"First frame\" aria-label=\"First frame\" onclick=\"anim3b3e2012b952469bbe95e38dd9482976.first_frame()\">\n",
       "        <i class=\"fa fa-fast-backward\"></i></button>\n",
       "      <button title=\"Previous frame\" aria-label=\"Previous frame\" onclick=\"anim3b3e2012b952469bbe95e38dd9482976.previous_frame()\">\n",
       "          <i class=\"fa fa-step-backward\"></i></button>\n",
       "      <button title=\"Play backwards\" aria-label=\"Play backwards\" onclick=\"anim3b3e2012b952469bbe95e38dd9482976.reverse_animation()\">\n",
       "          <i class=\"fa fa-play fa-flip-horizontal\"></i></button>\n",
       "      <button title=\"Pause\" aria-label=\"Pause\" onclick=\"anim3b3e2012b952469bbe95e38dd9482976.pause_animation()\">\n",
       "          <i class=\"fa fa-pause\"></i></button>\n",
       "      <button title=\"Play\" aria-label=\"Play\" onclick=\"anim3b3e2012b952469bbe95e38dd9482976.play_animation()\">\n",
       "          <i class=\"fa fa-play\"></i></button>\n",
       "      <button title=\"Next frame\" aria-label=\"Next frame\" onclick=\"anim3b3e2012b952469bbe95e38dd9482976.next_frame()\">\n",
       "          <i class=\"fa fa-step-forward\"></i></button>\n",
       "      <button title=\"Last frame\" aria-label=\"Last frame\" onclick=\"anim3b3e2012b952469bbe95e38dd9482976.last_frame()\">\n",
       "          <i class=\"fa fa-fast-forward\"></i></button>\n",
       "      <button title=\"Increase speed\" aria-label=\"Increase speed\" onclick=\"anim3b3e2012b952469bbe95e38dd9482976.faster()\">\n",
       "          <i class=\"fa fa-plus\"></i></button>\n",
       "    </div>\n",
       "    <form title=\"Repetition mode\" aria-label=\"Repetition mode\" action=\"#n\" name=\"_anim_loop_select3b3e2012b952469bbe95e38dd9482976\"\n",
       "          class=\"anim-state\">\n",
       "      <input type=\"radio\" name=\"state\" value=\"once\" id=\"_anim_radio1_3b3e2012b952469bbe95e38dd9482976\"\n",
       "             checked>\n",
       "      <label for=\"_anim_radio1_3b3e2012b952469bbe95e38dd9482976\">Once</label>\n",
       "      <input type=\"radio\" name=\"state\" value=\"loop\" id=\"_anim_radio2_3b3e2012b952469bbe95e38dd9482976\"\n",
       "             >\n",
       "      <label for=\"_anim_radio2_3b3e2012b952469bbe95e38dd9482976\">Loop</label>\n",
       "      <input type=\"radio\" name=\"state\" value=\"reflect\" id=\"_anim_radio3_3b3e2012b952469bbe95e38dd9482976\"\n",
       "             >\n",
       "      <label for=\"_anim_radio3_3b3e2012b952469bbe95e38dd9482976\">Reflect</label>\n",
       "    </form>\n",
       "  </div>\n",
       "</div>\n",
       "\n",
       "\n",
       "<script language=\"javascript\">\n",
       "  /* Instantiate the Animation class. */\n",
       "  /* The IDs given should match those used in the template above. */\n",
       "  (function() {\n",
       "    var img_id = \"_anim_img3b3e2012b952469bbe95e38dd9482976\";\n",
       "    var slider_id = \"_anim_slider3b3e2012b952469bbe95e38dd9482976\";\n",
       "    var loop_select_id = \"_anim_loop_select3b3e2012b952469bbe95e38dd9482976\";\n",
       "    var frames = new Array(5);\n",
       "    \n",
       "  frames[0] = \"data:image/png;base64,iVBORw0KGgoAAAANSUhEUgAAAbAAAAEgCAYAAADVKCZpAAAAOXRFWHRTb2Z0d2FyZQBNYXRwbG90\\\n",
       "bGliIHZlcnNpb24zLjUuMiwgaHR0cHM6Ly9tYXRwbG90bGliLm9yZy8qNh9FAAAACXBIWXMAAAsT\\\n",
       "AAALEwEAmpwYAAB5EUlEQVR4nO2deXiU1dn/P+eZyWQyCdlDErKzhDUsyioqKFUs+gouWKu2aGtV\\\n",
       "Wq0LXazWKlrb2lattVVrbf3RV6wV91dRsSioLAqyE3ZCQkKWyZ5MMpnMzPn98czzMAmTEBBIBs7n\\\n",
       "unJl5lnPE8h8c9/ne+5bSClRKBQKhSLc0Hp7AAqFQqFQHA9KwBQKhUIRligBUygUCkVYogRMoVAo\\\n",
       "FGGJEjCFQqFQhCVKwBQKhUIRligBUygUCkVYogRMoVAoFGGJEjCFQqFQhCVKwBQKhUIRligBUygU\\\n",
       "CkVYogRMoVAoFGGJEjCFQqFQhCVKwBQKhUIRligBUygUCkVYogRMoVAoFGGJEjCFQqFQhCVKwBQK\\\n",
       "hUIRligBUygUCkVYogRMoVAoFGGJEjCFQqFQhCVKwBQKhUIRligBUygUCkVYogRMoVAoFGGJEjCF\\\n",
       "QqFQhCVKwBQKhUIRligBUygUCkVYogRMoVAoFGGJEjCFQqFQhCVKwBQKhUIRligBUygUCkVYogRM\\\n",
       "oVAoFGGJEjCFQqFQhCVKwBQKhUIRllh7ewAni+TkZJmbm9vbw1AoFIqw4quvvqqWUqb09jh6wmkr\\\n",
       "YLm5uaxfv763h6FQKBRhhRCiuLfH0FNUClGhUCgUYYkSMIVCoVCEJUrAFAqFQhGW9CkBE0LYhRBf\\\n",
       "CiE2CyG2CyEWBrY/JIQoE0JsCnzN6u2xKhQKhaJ36WsmjjbgQillsxAiAvhcCPF+YN+TUso/9uLY\\\n",
       "FAqFQtGH6FMCJqWUQHPgbUTgS/beiBQKhULRV+lTKUQAIYRFCLEJqAI+klJ+Edh1uxBiixDin0KI\\\n",
       "hN4bYe9yqKqZX/19PYeqmo9+sEKhUJzG9DkBk1L6pJRjgUxgohBiFPAsMAgYC5QDj4c6VwhxixBi\\\n",
       "vRBivdPpPEUjPrU89/ZO/rWvkufe3tnbQ1EoFIpepc8JmIGUsh5YAVwipawMCJsf+DswsYtznpdS\\\n",
       "jpdSjk9JCYuF5MfMbbOH8d1Bqdw2e1hvD0WhUCh6lT4lYEKIFCFEfOB1FPANYKcQIj3osCuAbb0w\\\n",
       "vD7BgP4xPPyD8QzoH3NM56nUo0KhON3oUyYOIB1YJISwoIvrq1LKd4UQ/yuEGItu6DgA3Np7QwxP\\\n",
       "jNQjb8PDPxjf28NRKBSKr02fEjAp5RZgXIjt3+mF4ZxW3DZ7GLyNSj0qFIrThj4lYIqTh5F6VCgU\\\n",
       "itOFPjUHpuiImrdSKBSKrlEC1ofpyjKvhE2hUCiUgPVpurLMP/7qdv61r5LHX93eSyNTKBSK3kcJ\\\n",
       "WB+mK8u8EPr3rZWNKgpTKBRnLErATgGHqppZ8Jcv+MlfvzAF5+ukAe+ZO5IR9kh2t3u4+Zm1SsQU\\\n",
       "CsUZiRKwTpyM+aXn3t7J66XVvHaw2pzPMua3ggWo8727GsuA/jG88MPJ5EfYKHS38cSSw6lE45yN\\\n",
       "O6qO+hxqLk2hUIQzSsA6cTJqDd42exhXZSZzdVayOZ912+xhjLBHUuhuO0LUOr+/6ek1LPjLFx2E\\\n",
       "ZkD/GApSYwGQQfX6jXPufXkz/9pX2UHcTsWzKhQKxalCrQPrxMlY8DugfwyP3z7piG0v/HAyTyzZ\\\n",
       "jqvNx6Gq5iPufdvsYax/pp5Cdxu7SquJfnsnD/9gPBt3VHH/f7Zw18x8oiMtHcZqXKO6uY1dlZ4O\\\n",
       "4nYqnlWhUChOFSoC68Tx1hrsCZ1TdgP6x+CwWXi9VE8tBi82/tXf1wPw6LdGM8gawUCLlSvOzQbg\\\n",
       "/v9sodDdxp8+3N3lWOdMzmKEPZIbZuR1OZ6T+awKhUJxslER2AniUFUzz729k9tmDwspCIeqmrn5\\\n",
       "mbUUuts61CPsHAV1Pg5gn7cdgDc/L2Hc8P48+q3R3P+fLTz6rdFH3MdIC64v0yM34xyFQqE43VAC\\\n",
       "doI4WrHc597eSaG7jXybjRaPnjIc0D/GjIKM6MzV5qPQ3cYIe6Qpai1LfEgJV5ybza/+vp7bZg9j\\\n",
       "6UPf4FBVMz/56xdICQuuGQmAq83H1VnJXHxWOn/6cLcZtXXH0cRXoVAo+iIqhXiCOFqfLmP/6NTY\\\n",
       "Dm5EA0MAhYDvDkrlhR9OZkD/GCprWih0NnHDjDze/LzkCJPHawerzRTk469u5/XSaqSEz7dVmRHY\\\n",
       "0VBmDoVCEY6oCOwE0blYbnBUA3R47Qh6bXDb7GFmpBUcCRnzXQsWb8IqBJemxpuR2BXnZtPiOXzO\\\n",
       "T//0HhDDpooGfn7pMNaX1XPFudns2bOHIUOGdDl2ZeZQKBThiJDd2dTCmPHjx8v169f32v1/9ff1\\\n",
       "/GtfJd8dlArAv/ZVMsIeaUZWcGTqzjhnhD2SR781mjc/L2FkVhyPrdiDF0kjkILG+ZmJvF5azXcH\\\n",
       "pZqiOX36dD799DNSrn6IqIFnmRb9qe79vPL0XZx33nmsWLFCpQsVCkW3CCG+klKGResKlUI8SQSn\\\n",
       "FEOt+QJ4dPEW/rWvkkcXb+FQVTOuNh9DA4uT7/+Pvm/R2mJqA+Ll8IMTP+52LyPskZw7qj8/+esX\\\n",
       "ZA45i5UrVyKlH+drD3F2014e/dZoU7z8fj8rV65k+vTpKl2oUChOG/pUClEIYQc+BSLRx/aalPJB\\\n",
       "IUQi8B8gF70j8zVSyrreGmdP6JxS7Lzma0D/GPbUuQD4uLwOuXgzSyvruSozmUmRFkZmxfHHFXuZ\\\n",
       "XZCOd/MhhiREM3tyJn/6cDfudj+F7jYeX7qLlYvuoe3gNvM+Uvp589l7yImq4JWnf4/f7zf3rVy5\\\n",
       "kibXj7lq3pMdjCQKhUIRjvS1CKwNuFBKOQYYC1wihJgM3Assl1IOAZYH3ocVndd8ATz27TE4/NCq\\\n",
       "wb7aFr47KNVct/XPVQdw4udv60rY7fGwp87Fsg3lFLrbWFXdCECt8yCe0sIO95nDHOJkLE8+/jti\\\n",
       "/bHMYU6H/Ru/+gJ3fdkRRhJVVkqhUIQbfUrApI7xCRoR+JLAbGBRYPsi6PSpHCZ0diqOG96fxTdN\\\n",
       "IN9mY3BiNFecm83P/62XgEqKshKPwB2IoHZ7PLR4vPq2wL+aMz6Vcdf+2ixPP4c53MmdPMmT5JLL\\\n",
       "kzzJndxpipgQGrN+8AeITuOqzOQOpg2VWlQoFOFGnxIwACGERQixCagCPpJSfgGkSinLAQLfw2Jl\\\n",
       "bufCusARlS9SkxwICe9V1vGTxZvY7fEAUNPqpR5JS9C/0L7aFiLQTTeWQGZw0oTzue7HT6FpGitY\\\n",
       "wQEOkEsuL/IiueRygAOsYAUIwdnXPcq2hKG8V1lHdKSlwziOtgxAoVAo+hp9TsCklD4p5VggE5go\\\n",
       "hBjV03OFELcIIdYLIdY7nc6TNsbuCE7FGVGNYcgwopvOx+xq10XL7fMBkKNZWDBrKIOsEWQLjalx\\\n",
       "0cQj2NXuoTYgXFbg6qxkfnn9GBb/6Q7uvPtn1FPPQhZ2GM9CFlJPPYPPu4Hn7//eEUWFDVRZKYVC\\\n",
       "EW70KRNHMFLKeiHECuASoFIIkS6lLBdCpKNHZ6HOeR54HnQb/SkbbBBmKadn6nn0W6Np8fho9XjJ\\\n",
       "i4syDRzBVTuC139tqmgAr586v497395OLX6uzkpma0Uj9YHIy6eB5oc27XAV+qt+9BRvPPsY8cTz\\\n",
       "IA92GM+DPMjd3M3+zxdTVXI9j98+81T/SBQKheKk0KciMCFEihAiPvA6CvgGsBN4B5gXOGweZpXA\\\n",
       "vkewZf7+/2wB4L3KeooaWk0Dx22zh3FpajxrS+qorGnhnrkjiY608PNLh5GIoBGoxU8iGlsqG80I\\\n",
       "TQSiL0egI/P68nq++eOneOPZu0FKpjPdTBvexE1mOnE60/H7/cyaNYvr73qaQ1XNyrShUCjCnj61\\\n",
       "kFkIMRrdpGFBF9dXpZQPCyGSgFeBbKAEmCulrO3uWr25kHnjjipuWfQVTvxclZlMdKSFK87N5s3P\\\n",
       "S8wFxLMe+i+F7jZS0JiWlchrB/WFyS0eH68drCYeQaLFwn6fl35AU9D1YyQ0C/DUllH+wm0dGoLN\\\n",
       "YQ4rWEE99cQTz3Sm8xZvHT5ZCH748GskpWabC61D1W5UKBRnJuG0kLlPpRCllFuAcSG21wAzTv2I\\\n",
       "jg0jPdji8eHEzwh7JAuuGWnOK6UmOXju7Z1ccW42eXEOKtwenPhp8egLk0dmxfGPVQeYkdSPg01t\\\n",
       "7PZ4yLfZKHF7IJA69GvQT9Pob7GwPzGDyMyRHdaBvcVbIASx53yb+tWv8JZ8q8MY47NGQXSqWYaq\\\n",
       "urmNn/z1C+6ZO/Ko81+qiodCoehL9KkUYrhjzG1JebggLxDS1PFeZR0JViv5NhsCKHS3sfDj3exu\\\n",
       "97DS2aSLV4QNIcGtgdUP/QP/WuXST16cnfwIG2nX/Y7UvDGHByEE/a9eSN65NzD6mkdMiz1AdNYo\\\n",
       "4r79W96rrOel5UUUOptYWlkfsrhwd8+nrPYKhaIvoATsBGJY0RdcM9J09AV/6Bv775qZTwoa+7zt\\\n",
       "7PZ42FvbordZ0XR7vFeDKD8MTnSwq92DI7BtZFI/rIF5sKIGN49dN4YR9khmzX+KyKxRIASZVy0k\\\n",
       "auBZtPklDbljGXL1wwhNIyFnNMnX/Y5B1gjyI2y4271me5dQrsTunk9Z7RUKRV+gT6UQT0eMSu9X\\\n",
       "nJvNE0u2IyW8vfYgTvzkWKw0+XzsavdwaWoC1gZBtNXCuuYWWjXYVeMiP8LG7nYPKWggBd7AnxxJ\\\n",
       "kRHmPJur3Ufadb8jsvYQD185nYc+3k1rQARbB47jxvv/Q0L/LOpbPGysbaIWyRCizaLBPW142bk8\\\n",
       "lkKhUPQmKgI7TkK5+EKl2IwP/Tc/LzF7d62p1EtBNfn81CIZGmFjR3UThe429jS3mOfu87ZTkBrL\\\n",
       "CHskTvwcbHab+/a4WnHiJwUNS2BbVGIG/1h9gNbAv2qcJrg6K5nE1CxeL61mS20ztUii/Jj3M/qF\\\n",
       "KVeiQqEIN5SAHSehxOq22cO4OivZXO8VLArGvnybjVr8WP26VT4FjUGJDvb7vADUAwMtVi5Njefq\\\n",
       "rGQWXDOSR781mhH2SL5/Ti6J6HNa0UKQiMajs0dy72XDifJDPZLdHg+RgTRjBRIpdZPi1VnJPDp7\\\n",
       "JClotGqw3+c1uz4fqmrm5mfW8q99ldz8zFolYgqFIizoUzb6E8nJttGHcuQdqmrmxqfXsLvdY9rn\\\n",
       "O1vVD1U1M/uJz3Dix+GHFk0Xly2VjWYZqfwIG49dN4bFHxchJbS2e1laWU++zcZuj55OdKKrVDyC\\\n",
       "WCEokfr7DATNSBoAux9mpCfwXmUdV2UmIwS0erxIwGGzcs/ckQDc/Mxa09LvxK+s9QrFGYyy0Z/G\\\n",
       "BAtX5w/5597eyW6jLFS7lwXXjOzQ6Xjjjiru/88WfjJ9MIvWFnPXzHw+31Zl7n/81e1srWxkd7uH\\\n",
       "7y/6itqASEX5AQ2GJEQzOSaBc0f15963t1GLpB5JfdAfIS6gAUxxBMkIeyTudh/vVeodaK7KTEZK\\\n",
       "zDm5QndbhyaayqShUCjCARWBHSPBnZY7C9ihqmZuenoNu9o9XJ2VzB9/NKnDfmPxcr7NxuSshJDr\\\n",
       "qYKjOIDIQNmoFDTevuc8AOY+8SllSHNdWDA5FiujkmMAgT3CYkZvs1LjcdisSKk76187WA3o0Z/D\\\n",
       "ZlFruxQKBaAisNMaw1UYKkoZ0D+GF++YYkZowRyqaiY3LgqXx0uVp51/7aukZYkPh61jlY7ORGqQ\\\n",
       "E2HjJ7OG8vir29lW2UhZoC6iIV4RfmjXdLErxktkbQu7A87G7U69hsfmqkamZCbqUSEgX92OEPRo\\\n",
       "AbNCoVD0RVQEdoowIjdjnikFjfMzE3m9tNrcNsIeSV6cg/cq6wIWe79ZEzHeoplGjzQE1X5pWuqD\\\n",
       "iQ18bwRzziyYUJGhQqFQGIRTBKZciKeAZWtKeHefkwuTYnh09kjyI2xMTI3lhhl5pkXe4dfnovbU\\\n",
       "uQCItGj8Y97ZJKJRi5/9Pq/pLjw7NZ7Z2clcmprArNR4ZiT1Iz7gTmwMfCWiMTjBwdRYvRVLRmD/\\\n",
       "lspG02WorPMKhSKcUQJ2AgklCIeqmrnrza3U4mdTjYvPt1VRkBrLe5X1vPl5CY9+azQpaLRoMMIe\\\n",
       "yWPf1qtr7PZ4ePPzEsYlRZvXatNgkDWCPXUuXi+tJinGxi+vH0NGvIMX543n0tQEMhDEAg5NsLSy\\\n",
       "nh2NLdQjiYmIYKDFym6Ph8df3Q6o0lAKxYnE5Sxl1eLHcDlLe3soZwxKwE4gwYJgiNnjr26nRdNd\\\n",
       "geOSYvjXvkqEwCzJtPjjIpz4yY+w8cIPJzNueH9z3de5o/pT2tgGQFwggirz6OWnjDVcxj3f/LyE\\\n",
       "KJuFMiSNQKlfb45ZiyQx0AwzQtP/uY3yiKo0lEJx4ti0bDEf7Wll07LFvT2UMwZl4jiBBBs8DGG5\\\n",
       "OivZFInKmhbK/7OF6y/MIzXJweOvbmdjeb1+ckBUDlU1c/9/tlDobuNPH+5mV7uHoRE22v1+Gnxe\\\n",
       "3AFH4gs/nMy2fbW8u6+KCTEO1h6sI6tfJKAvhPYBxYE5s34WCxcOiOfis9L504e7uf7CPECVhlIo\\\n",
       "TiRjL74eWBz4rjgVKAE7SQTXQDTKNb35eUmH8k2vl+pW9hQ0dns8Ziqv87qs6uY2llbWk2OxEmnR\\\n",
       "eOzbYxjQP4bZT3xGLZLGxha8GlTVtDMjqR9FDW7w+82xFPu8TLNZWLahnEJ3G4s/Lupx/UOFQtEz\\\n",
       "olMymXr9z3t7GGcUSsBOIEbUxdvw8A/G8/APxpvuQ9N6HxC1xR8XcU6sg52Nbn4yfTDbDzaYqTzX\\\n",
       "q77gLihGcMaEAfH88UeTOFTVzE/++gX5sXZ8jW4G9bOzzqXPdX1V00R94PiBFivDk/thj9DXeRlz\\\n",
       "X6ep8VShUJxh9Kk5MCFElhDiEyHEDiHEdiHEnYHtDwkhyoQQmwJfs3p7rKG44txsRtgjueLcbHNb\\\n",
       "8DyTkbJ7aXkRrx2sZmdjK7X4WbS22EzlGVHYaweruf8/W/jXvkr21rZwVWYy98wdadYtfO1gNasa\\\n",
       "W7ggM5Gnbp3AIGsEAL6g8Zw1IJ6/3n0Oj98+iQH9Y1hwzUiz3YtyICpaKos4+Pebaaks6u2hnPEo\\\n",
       "A8jx0acEDPACC6SUw4HJwI+EECMC+56UUo4NfC3tvSF2TecUIRyeZwpeLGxEV+MS+zE0wkZuXFSH\\\n",
       "hpeGycMwc+xq9xAdaTH7ixW620zbvLvdx4D+MYxNiwOgCT3yyo+wcf2FeR2EKngsoQwnSszOLGre\\\n",
       "eZSssiXUvPNobw/ljEcZQI6PPiVgUspyKeWGwOsmYAeQ0buj6jk9cfUdqmo2q8M/cuM4JmUnsLSy\\\n",
       "nufe3mlGcNdfmMfDPxhvOhKHRtiobm4zq9p/d1Aq56TqgmWPsHCoqhkh4NLUeC5Njcdq0djdrtvw\\\n",
       "u7LKB49V2enPTJIuv5+DGXNJuvz+3h5KrxMqAqpyVvOH196lyll90u8/9uLruWhIlDKAHCN9thKH\\\n",
       "ECIX+BQYBdwD3Ii+Rnc9epRW1935fa0SB2Cm/wrdbWYNwnNH9eePS3eRFRtJaWMbu9o9Zp3F4OOB\\\n",
       "DvUXjcLAd83M508f7javubWi0XQuvnjHFIAjquaHGtfRjlH0Li2VRdS88yhJl9+PIzWvt4dz2rFq\\\n",
       "8WN8tKeVi4ZEmUaMP7z2Lo8nZbKgppSfXn3Z17q+y1nKpmW6QzE6JfNEDPmkEU6VOPqkiUMIEQO8\\\n",
       "DtwlpWwUQjwLPALIwPfHge+FOO8W4BaA7Ozszrt7HSP9N8IeiZTwr32VrC+rZ3e7h901esmnoRE2\\\n",
       "s5+YcfzQCBujUmM7RHYvLS+i0N3G797dwX6fl6ERNqSEXYEiwIMSHaYYHc0qr+z0fR8j3XfwHXD8\\\n",
       "4IXeHs5pRygL/Lxpk2HlWv3718RIEcJi5VQ8gfSpFCKAECICXbwWSynfAJBSVkopfVJKP/B3YGKo\\\n",
       "c6WUz0spx0spx6ekpJy6QfcQI233wg8nm4aKR7812jRgDLJGMCo1ltdLq3liyXZaPD6uykzmxTum\\\n",
       "cMOMPG5+Zi0bd1QBh+fRRODFqNRYFlwzkqERNgB21bhY8Jcv1LxWGNATM8WxpPuUOePYMSzwJys6\\\n",
       "UinCk0OfEjChfxr/A9ghpXwiaHt60GFXANtO9dhOBMEmCuP1uOH9TQPG2LQ4U9ik1J2I0ZEWtu2r\\\n",
       "Ze6L6yh0t3HLoq84VNXMPXP14/54/VjTWQhQkBZLvs3GPm87r5dWq3mtMKAnZgpHah5ZP3ihR+nD\\\n",
       "082ccSLnoo7lWotWruXxpEwWrVz7te97sgXyTKVPCRgwFfgOcGEny/zvhRBbhRBbgAuAu3t1lMdA\\\n",
       "Txx+wfZ2Q9gWXDOSq7OScbX5uPftbXg10PzgxM/Nz+i/UIYABjsLXztYzejUWK7OSuaqzOSQhhLl\\\n",
       "OuxbHK+ZoqtIK9T1wjkqO5FCcizXmjdtMgtqSk9IChGUVf5k0KcETEr5uZRSSClHB1vmpZTfkVIW\\\n",
       "BLZfLqUs7+2xhqKzMBgmjONx+A3oH4PDZuH10mrGJcWQgsZvL8xnhD2SQndbyOsFuxj/+KNJ5vqv\\\n",
       "zoRyHSpR6z2OJboKpnOkZYgUQFZgnswQra6iss7C1heF7niEpKtIq7trdT6nf0oyP736MvqnJB/T\\\n",
       "eLsSKmMe7Mt3XzxuIVMi2JE+JWDhRKgP/M7CEGza6M5afzSr+yPzzmLd777Jty4Zwgs/nNylVT/U\\\n",
       "OrRQhLL7Kyt9eFG3/TMiytZSEneBGWl1Fqng911Fed2dczI5llReT4Uk+JpdRVr9U5KZN20yi1au\\\n",
       "PeLeJyrS62pNlzEPBvK413yp9WKdkFKell9nn322PJk88Pw6mfPzd+UDz68zt5VVNskHnl8nyyqb\\\n",
       "Qr7viuDjenpOqHM3FFbKix5YJn/4xKoen9/V2BV9m0MLx0j5YKz+XUrpqtgvi5++Vhb/5Vrpqthv\\\n",
       "bit5/vvme4Pg7bXbPpWHFo6Rtds+lVLKI96fLH6/5P9k6scb5e+X/N9JuWZlldP83tN7dz6nu2t0\\\n",
       "R3PVQfn5S7+TzVUHe7S/q+NDbT/atU8EwHrZBz7De/LVZ9eBfV1O9jqwk7V26id//YLXDlb3uHOy\\\n",
       "UWvxu4NSAd2aDx3XjClOP+q2f4b79TuwX/U0CSPP4+Dfb9Zt9hlzzfRhVwQfC3Q471iu83UwoqR5\\\n",
       "0yZ3GVkV7trDA+sKeWTCCEYMHXJCrmkc9+zyzwHB/BlTuzz2aOvAulvbdSzrvkKtQetu+8kmnNaB\\\n",
       "qRTicRKqRNSJwPh7oru/K4LTl0Y68Ipzs3G1+bg0NZ6rs0KbNxSnD5HJmXjTxxOZnElLZRGyzUVJ\\\n",
       "yqweGUGC04lJl99PScosZJuLuu2fdXmdEz031pO04APrClmVkcMD6wqPSDmGSkF2dc3gYwt37WH+\\\n",
       "h6to8UueTc3pNl14tLm3L9990ZzTCsblLOWtF5/o8XxXVxZ7Zb0/OkrA+hjBjkQ4+lybIaRvfl4S\\\n",
       "6NIcyR9/pJs3lDHj9MWYq6p+7T4a/nYF2dVLQerbjyYywaYRR2oewhZNdvVS3K/fQXb1UoRN7wIe\\\n",
       "LFi9Yc1/ZMIIppYV88iEEUfMTx3LfFXwsYYoFvo15lceoMXr63IeLpQgdjRRGH9lyg7733rxCfa0\\\n",
       "xDLE0UhP5ruiUzIZe/H1bFq2uIPQhbLeKxNHR5SA9TE6R3ahzBWhTBjKmHFmYURRSEj3F1Gu5YGg\\\n",
       "RyJjRFN12z+j5K/fxt/kpCRlFvarnjYjs86C1Rt1E0cMHcLrN8xmxNAhHaKhKmc1LV4v8yuLu3Um\\\n",
       "GpHXpQVDmVd+gE/bfNyUkcTUsmIemzACh9V61Ciss2AEmygmXvY9LhoSxcTLDhcF2rRsMXtaYknW\\\n",
       "mrh4znWMmjqLIY5G8ifM6PZZe2rOUCaOjqg5sD5CV3NqX2euTdU4DG96Uv8w+BiA6iX3gYDkq3/T\\\n",
       "5TnGPFedL5YESyMAJcmzEJHR5r1C3buv1GM05qbmVx7AYbWaIhY8/1XlrGb+h6tYlZHDgppS1rp9\\\n",
       "rMrIYWpZMa/fMBvo2ZxZ53morua2jO35E2aw7K2X2dMSG3AcctTzXc7SQBpSMvGy73U7Z3YqaiqG\\\n",
       "0xxYn6yFeCbSuRmmwdepU6hqHIY3RhRUssTVQVyCcaTmdaiNKCKj9XNeA2GLDilAMefMo/z19aRT\\\n",
       "RAVZeJILzOjNqLXY+brB4+nteoyXFgxl7bpCWjR4NimTluWr2OKFVRk5sHItP736MhatXMuqjByy\\\n",
       "a6q4tGAol4JpCAkWrmBzRrA4uLCzaOVa5o6/lIt476jzUIdrHS5nzk33sOqNv7HvYCXTZ1zCNM8X\\\n",
       "eDxtOHevN8XNqLu4adliPB4PK4t9XDQkqtfFK9xQKcQ+Qk9asRwrag4svDHThAFxcS6+i/KHx1K3\\\n",
       "/TMgtLEiOLXYeZFzw9+uIKtsCc2rFxF365uUxF0ASKoG/g/9pv+Qci2PmHPmmdfas2dPyPH0RvuV\\\n",
       "YCPGko36PBZIFtSU0uL3syojhwllxVxaMNRMG04tK6YkqT8PrCskOTGBZ2dOZcnG7Vy9aAmPJ2Vy\\\n",
       "84erqHJWm2nC1//xRzM9Z8yb/enTNR0EwxCqF599EufuwxmerPxxJGtNZOWPIzolE2eDi/3uWFYs\\\n",
       "/4BDzjpWFvtZ9tbLrD3YbqYUDaMHSIbFNPdYJI+WPjyT5smUgPURToarUc2B9S2O1clnmC0McbE3\\\n",
       "7iLdX4T79TuAwxFRw9+uMK9pnJM89zcczJhLzDnzOPj3m6lech/p/iLqfLHEnDMPR2oeEU0HuPb/\\\n",
       "7WTSZdfz3t8fJd1fRPPqRbRUFvHSXZcwbNgwpk+fbo79eNKH3S1YPp66hM8uX8X6QNvxQr/GpQVD\\\n",
       "KZT6x9h4q2TJxkIeT8pkycZCnp05lallxazK0Oe5Fq1cy6O//TWf/ex22tat5suMHJ5dvooV7y3m\\\n",
       "p+tquPG+P/PCyy+TMf5SLi0YyuhD+5E19aa5YtXix8ifMIOoCA//HTCOfy55A5ezFJezlHfe/5Bq\\\n",
       "fz8+++QDXM5SkuNiyIxooLZNM+fEnn7lvzzz178Sk3s2u9ctZ09LLAPtjazZuIvrfvYEl8ye2+3P\\\n",
       "oKeuxDNpnkwJ2GnMbbOHcVVmMi0en4rC+gDH6+RrXr1IF67YoZRreWgz7qfkL99GNldTQSbp/qIj\\\n",
       "rmkIWfPqRWSVLYH2VnPOq3n1IgCu/j9YWezHL2He0x/x8r5kYs6Zxxu/nc+8P3+I3+9n5cqVTJ8+\\\n",
       "neol9+muxyX3HdPYu3MLdrUvlLAZJg6QrBugpwbXZeTw8/WFrBugR1/zZ5xLZ2fgYM3HxEBk9vJv\\\n",
       "HqJ9y1cg/dTfq4sYSF7b1cyaPz+OlJKyPXuYfsW1PLCukC0DBtKWnMhKy2BWvKeLwu51y2nOHMHa\\\n",
       "QaNYkzqCVW88z1svPkG1vx/JWhMjJ0zjR28s5WOnnRavRr2MwUErf/zn63yxcSt+Kbny299l1YZt\\\n",
       "TMuxUOF08su//BspJZ+vWcs5E8/uMnrqaUHgM8l+r0wcpznBC53VfFjvcqymjK7ME4YJA6Ak7gIi\\\n",
       "mg5gv+ppPPUV2D64h9Yp9+Et+hQkRI67Ev/yR2mPSiXbtZZK0mlLHsf1L+/n8zVfdri3JuDHl47l\\\n",
       "z0u34Pf7O+ybNDCJtd9ppyTuArLvfqvHz9ydUaKrfYdNGsU4rBYuLRjKe1t3cWnBUBZ9tY1Cv8at\\\n",
       "GUm8WFZDBj5ezRjIvPIikm0RHY41LPMAjtu/Q1FhxyYWQghu/t5NvPDPF+n8ORgx+mwu+ekDnG2V\\\n",
       "PJuay8W7v+T86h1kJfejxiN5NWooQytKSPQ20EoUyVoTl39zJg9uOMD7+ROZvG8bl1Z8hVWDx//5\\\n",
       "Gtv3lR5x7+/8zzReevfTI37WOTk5LH50fq/1DQsnE4cSsNMc5UQML0JVwuhcdaOlssh0G+JpJbvh\\\n",
       "EypJp5+vGoelnRZfBA5LOwDlWh7p/iIqSCeNchq8Dqoamhj2Vxf+oF/9OcxhBSuop5544pnOdN7i\\\n",
       "LXO/JmDnj6KJHPo/ZN/+b+DEuBI7i5hRJaPFLyn0a6wLOAdXBX0HmFhWzJcZOcwrP0CyzUqL18ez\\\n",
       "qTmm1d5wIE4oKybPWcZff3JHB6E42vMiNG7+w5+5/7Jp/GLFF2Q7K4ny6s1i7bhxY8eKBy82IvDQ\\\n",
       "jo2cyAZ2+lIoS07mnIb9VLXacTQVc++TizoI5NHuLYTgkyX/wOqu6hXDRjgJmEohnuacrIohipND\\\n",
       "cGUMY17L/fodpPuL4JXraKkswpGaR/bt/yZy7JUk134OQCrlOCzteHwa1bZ8SuIuoDh2Ou1RqVSQ\\\n",
       "SVu0/sEfZ20hJz6CpddFoQWaos5hDndyJ0/yJLnk8iRPcid3Moc5gC5eS6+LIiUuFgRHXdx8LHN9\\\n",
       "zy7/PDC3pT/HopVreTY1l71B4nVP/uHv8ysPML+ymFwCE2FIfnr1ZcyfMZUFNaVcWjDUFK+pZcXc\\\n",
       "m59DUUoGF99zn9kF9mjPK4Qg/ndPk5qaStn69xhafpAMfy2j+jUTRStu7ACMSvCSrDXRjo0hjkZ8\\\n",
       "fojyejirYjeD4m1My9EYk5/FddddZzae7cm9r7vuOkr3bT1j5rG+DkrAFIo+ghHRICG7eqkpDPar\\\n",
       "njbnr4LFwvbBPaZolURPoYIsbBY/2b7t2Br2ImwOsl1rSaMUYY2iJHkWJSmzqIgew8zBEbxzrQNN\\\n",
       "wApWcIAD5JLLi7xILrkc4AArWIGmafznuT8yOj+fxqSJZDuXHrG42TCKHF/VDv2DvcUPC195m4Nu\\\n",
       "DxMO6WK1oKaUe/JzuLPEyaqMHP67/wAPXjuHB6+dTZLV+OiS/OG1d9lTVMqnbh/3rN9hitezM6fy\\\n",
       "xO5i1mXksHHWVcT/7i8gRLfPK4Rg4d03Mi0xlinefYy9+Hqm5VgoyIqlpd1PK1EkiibGZkRQmDqJ\\\n",
       "b1xyOUMcjZx3wSVYAkNqJIY15RotLa1U1jXznfMG8srfn0L04N6v/P0p5n+zgIvnXHfGzGN9HZSA\\\n",
       "KRQngBNRK9D44Edg2tVbKnVnINe+3CEya6ksojF2BK0+KzaLHxwJRM59lnqvHmmncRBaa6kgCwBb\\\n",
       "w16S5/6G5Kt/A5Hx1HujuTTfyi/OtVFPPQtZ2GEsC1lIPfXce/ftTBI7iLv1TZKve7LDGDobRY6n\\\n",
       "aocROTk0eDY1h1czBrJuQA5P7NarbPx6TwmlSSmBo3Wx080dgvmVB2j1w+NJmdx+sJp1GTlsGpBt\\\n",
       "ihfAYM3PqPKDDK4oI2nEaKK/c0u3zzt1zlXcc+/D/DSqjOmX6uk7m83GymI/PikZaG9kzqyZrKA/\\\n",
       "f04dxHObd7OnJZbPPvmA4rY4EkWTec09znb2u2OpbmgmRavnvPPO6/beP/7+dVzz/TuYev3PSckf\\\n",
       "H9KwcSZZ5HtCnxIwIUSWEOITIcQOIcR2IcSdge2JQoiPhBB7At8TenusCkUwxxJ1dNVEMuaceRzM\\\n",
       "mEvy1b8xaxUa13W/fgeyrYXs6qVUL7mPmnceJce1lkaL/uFur1xP25L5xFubafHq9QlszQeInPss\\\n",
       "db5Y0jh4uG5iwyfEW128s1vy2889xBPPgzzYYYwP8iDxxPO7J56mcOXL1LzzaIe6icHP2VmwjqVB\\\n",
       "p1FvcP6Mc5lYVgxAem01qzJyeHb557QH0pypddXMn6GLkp5mzMFhtbJH0581zuNmQlkx88qLeHam\\\n",
       "XmH+2eWfsyg9j2qbnb1pGdQUbsH1v3/v9nlXvfU6//1kJQDO2nr+8Nq7RA05n+L0Aez0pTAoK5WD\\\n",
       "uzcSWenkgt1fce2AKDKtDZS3WIihmex4Kzm2BgAiLT7stBJp1Xj30w189tln3d77z/94mQ8//LDb\\\n",
       "n9eZZJHvCX1KwAAvsEBKORyYDPxICDECuBdYLqUcAiwPvFco+gzHEnV01UTS/fodxJwzr0NB3qTL\\\n",
       "7zeNGJGN+/QLiMP3a4vTF77316pI4yB1vliqYwoAaIvJxf36HSRYGvX0onMj6f4iGr1R/HtvP654\\\n",
       "pRm/hOlMN1NZN3GTmeKaznT8UjLrZTcb+53X5XM6UvPM+onHG4H2T0nmhZl6NHZxmxHFCEb4vfp+\\\n",
       "dyvVtXX84bV3OSc7k4llxVR7PAzx6WaVSdLD/90wm8euuwLQnYy1Xt20UZGUQtu61dTfeztIf7fP\\\n",
       "K6Xkymu/w7Pvb+VPn67h8aRMbitp4v38ibSlpjD24uvJnzCDJG8DQ8sPsv6rjZR642gmmmZi2FQX\\\n",
       "RUO7hXiaqfTF4SaKtzZU8OSit5FSHvXes2bN6lbEziSLfE/o0y5EIcTbwF8CX9OllOVCiHRghZRy\\\n",
       "aHfnKheioq8SXNKpefUiYs6ZZxo1DLEKdiF2Pr6zxd65+C7sjbuQSNKooDh6MrGNhTTFjiDbtZYW\\\n",
       "XwTV0aPIdm8EYE+N7zhciIKNq/7L6CkXHvEcwcV/O/cROx6nouFMvLRgKD9fV8i6Ts7DzBqnmVac\\\n",
       "V17EXr/WoWeYYcMfc6iYzQNyiN2+mT0//h7InrsQhRDc+vunOJCWxcaMXEYcKmJ+42biND+ltU2U\\\n",
       "tMURRSvfnJDP6g3bcPoc+IjASjteIgDIiWzgUGUdD/z5X8fkQtSEYMPqlYyZfN4RPxtVC7EjfS0C\\\n",
       "MxFC5ALjgC+AVCllOUDge/9eHJpC8bXoPHdkWOQPZsztUBHeSC0CZP3gBRJGnkfWD16grbrULCnl\\\n",
       "SM1DRDpIpRxP3HAOZswl0lVGgqWRuIYttPqsOCztpLi2mPcfkmRhSlZEhzG9xVs0inru/OZIGrXG\\\n",
       "jpZy4LxsQcpH93SIsIIjyc6RmbEYufT1h0OmVkMtVja2Afz06st4b+su1gWs8NeU7uNglN7mpTQp\\\n",
       "hYllxXoxX00ze4YV7trDwlfe0o0gZcUkufVCxdasHBKGDj/ieetFAxOuuIZ60XDE8yYOHcGbZ59H\\\n",
       "QksNk/dtY0LRDrZXwupyjZK2OABaieLTrwqp8MXhI4JErRlvQMQG2+tparcwMi+F7OzsI3/WWiOX\\\n",
       "XziJhhD3zsrOZtunb4ac5/ry3X8G+oz984h9ZyJ9UsCEEDHA68BdUsrGYzjvFiHEeiHEeqfTefIG\\\n",
       "qFCcAJIuv58Kskj3F9H0yTMdRCp4/qvzh78RrRklpcziExFRZP3gBcRFD9LiiyDO2kKURU/BRVl8\\\n",
       "eP0Bx5/Xyuc3RTEt5/Cvv2GVv/uCDP7zrQQ0w2MPnDtlIv/+XsERFT+CRavzvJdRZWNp3IUhU6vB\\\n",
       "paH+8Nq7rPpyE5et3KAvYA7UKJw3bTLzyg/QLuAzRxzliclk1jiZX1nMCzOnMnfcSNZ7YeyhElPE\\\n",
       "nk3N1Y0gGTnU2OOIbnVRGxuP7ZmXiBlRcHgAQhD/u7+QduV1XL7gfhCHfxaZw0ZgfeYlppYV86ux\\\n",
       "gxlVvZdPhp1FnT2aWJqZkNLGhBQ38aKZan8/7LgBGJRkxU4rXiI44HZQ649hW52NG2+8kVGDs4Ju\\\n",
       "Lbj523MYd94lHSz2AKPzc3j4tivZ0xLbxTyX6PT9zKbPCZgQIgJdvBZLKd8IbK4MpA4JfK8Kda6U\\\n",
       "8nkp5Xgp5fiUlJRQhygUvUIol6IjNQ9PSuBDNcTnUeeoxriGHH8rdb5Y5PhbKfnDJcRVrKA4ejLJ\\\n",
       "c39DS2UR/uWP4rC04wtkzBq9dlp9FqyaxOsX1Np0kVlxYwxTcqJM8ZqUl0B8wxauzm/nzW/FoGka\\\n",
       "06ZN48M3X8ETk0MFWWax37rtn9HwtyvM952fzSj9dN3F3wxp6Jg3bTLzK4tZ4xM8npTJnSVOSpL6\\\n",
       "E9/cyKqMHOZ/uAqAvX7BpgE5lCcmE9/cyENJUTisFgAzvSiAeeUHcAlBXuUh/WframbzgGxcUdGk\\\n",
       "1NXSz9VM9F/+RUTBWSA04n/3FzKHDOXLjBy+mHUV8b97GoRGxOizmXf/QhbUlPLszKkMmziNz7PH\\\n",
       "UZKUxudDRtNIDA5HFPHxCdRL3fHpxs4QRyMSgRu9hYqddqICYgbw/RuuYdK4AnOdV/pg/d993OB0\\\n",
       "7p43GyEEg3MyuOLbNwJwTroPj8eDc/f6Dq7DUVO/yRBHI6OmfrOn//VOa/rUHJjQ/xRZBNRKKe8K\\\n",
       "2v4HoEZK+TshxL1AopTyZ91dS82BKfoSoSpsQPdzRC2VRVS/dh9ISJ77GzMiM9aEGfNlAC2+CNqu\\\n",
       "fdOMzrx+gVXTf7cr/SmkaoczEg1eB3HWFhq9UbiFg4b6KoYk6aLg9CURTQMOi5dPrRdz/i+XdCxd\\\n",
       "lTyL7Nv/TcVDI0mjlAoyac+YEvLZjoYxVwVwTdl+yrBwT75uoTf6eF1aMJR71hdSHhVDZUKSOf+1\\\n",
       "oKaUak87i9LzzHmwVRk5WLzt+Kwd06Mxzc00x8Sgeb34rVYi9u7kPM1Dpc3B9szBRLpb8VksuCvK\\\n",
       "yegXzZSaYh6ePZv+Kcm4nKV8752PWTlwNOOLtjG+ZC/TcixMvOwmvnz3RRoaGyhpgEvOm8gHn35B\\\n",
       "rexnzoONT2lju1NfOwYQgYeKmiYmZETg80uKPXHmGH21JVgSs0kUTdTKfgxxNJpFgKv9/cx+Yp37\\\n",
       "k50M1BzY8TMV+A5woRBiU+BrFvA74CIhxB7gosB7hSJs6MqlGJx66xyl1bzzKNnOpWRXL6Xx2f/R\\\n",
       "+3hpeaZ4aTPup9Grfzg6LO20LbmZdH8RVb4k3H4bnkCxiij/4ULODV4H9XGjAYi1ttLfUmOKF0CK\\\n",
       "pYZGSzolcReQG2+lpbLITHUCZqToiRtifu/OgdldxXkjCptfeYBfzjyf12+YzdSJY3l25lTmVx6g\\\n",
       "xesjOTGBGZEWKhOSAH3+K73WSanbA0jmlRfh0DTuyc8ho6bKFK+Uuhr9e30NzTF6pOS3Wkmtq+az\\\n",
       "80fx1HkjSG3V7e5t9ii8ETaG2TTG1JTy1qCzzVYrm5Ytplno1xwbaQ90YL4JgBZh4y17PmVaIv9e\\\n",
       "tZWPM8YhrD6umTaGCblRLLHmUmuNI5ZmrLTrFTtSIslKjWfqlCnE00yK1kgszQxI1sUsK95iLowe\\\n",
       "4mik2q+LmeE6VC7EjvSpCOxEoiIwRbjROUqr2/4Z2r+vIc7aAkBJyizwtGJr2IO46CH8y/UWKPW+\\\n",
       "GOItzVT5+9NfqzKjr+CaiMYxJXEXQEQUcRUriLO20OqzUtVvPFHN++mvVdHojSLW2koFmaRRSrmW\\\n",
       "R9ytbwJ0iBSPFjka+/762XYeT8pkQU1ph+aRBqEK+nbupjxv2mSeXb6KNT7YNCCnw/nxzY3Ux8Qy\\\n",
       "v7KYr7zwZUYOw8uLeXxwf/5vfxUvxSTRFB2Dw9VMoruVp7JTmDpxLKsWP8Y7RT4q0wbwWdpgXNEx\\\n",
       "pNVVMajmEKsGjwVgQU0pP5w2lhXvLWazfTA3z5hmjvGTFx/mKd9A1g4axQW7v6LVEsnaQaOYvG8b\\\n",
       "P/TtYnPSJB5PymTm7i84r3onpe1xJGrNDEuNYnW5xYy0OhNFK61EmSL15bv/xOPxYrNZj9qt+USh\\\n",
       "IjCFQnHMdI5kmlY8Y4pXBVlm4d40Sk3xqiCTxsQJFDsmExmItIy5rurIfEqiJ+vHjJ5PnS8WvG6y\\\n",
       "q5dSnziRel8MURYvIiIKv2YDQAZCLIHPNJiEqnXYnTU+2HxizIXNmza5wzFGZGbUQgxuqWJ0U55a\\\n",
       "VmwK24PXzuaJ8SPIrNFToem11aTVOKmPiSW7pgqQfJmRQ2pdNaNLdrNzy+f8n9VBU7SeOhxTU0lp\\\n",
       "Ugo/LK3m5y+/QdSQ82lLTeGh88ZzdaMeHWbXVzG48hAX7vmKm8v2MqJ5O87aetbbh9KOlZbaCnM+\\\n",
       "qr6xmaEVJVy+ay2/nT6JSRWFTN63jaEVJVTUufif7H5cvOtLhjpLKG3Xo6thqVFIBAPtjWTHH456\\\n",
       "I3EzNsFFotZsVrY3bPI2WyRryjVWFvt568UnVAWOTqgITKHoRTqLQfD76iX3kV29lAqyiJ3/fzgX\\\n",
       "30VO4woqZBqR1+g2fOlxke1cakZbjV79Q9IQPmOezJg3qyQdiQVP3BCklOQ0rjCjrlavlSirl3pv\\\n",
       "NPFWF8Wx0xGRDt3lKCDbuZSDGXPNe5akzCL7R/8+6jOFonPLlM4RWHdtVrJrqihJ6s+48hKsUnLv\\\n",
       "kBze2bufZZGxlCcmM6SimBabg7LEw0Yu4fMhLYdFI6a5ieaYfnoKc8ZUHvvgE9ZZbEwq2057cgZV\\\n",
       "7V5SamtZlzuM/al6+nTuni9JOnSI7MgGqtoicWMnXjQzIi2KreVumogmEjeXThjCB+t20xKY+4ql\\\n",
       "mYRIHz4flHp1MUu3NNDq06hHj8Km5Wi0e7xU1DXzzSuvIyVfD4Ccu9fz/hsvm3NmJ3Puy/xZhVEE\\\n",
       "Zu3tASgUZzLmAuB3wPGDFzq8T577Gw6+E21W5xC+NgA88cOJBCLK1tBujaPVZzmcKrQPxOZtJI4W\\\n",
       "KshCm3E/5csfRU68lbYv/4rmayHVUgMNpZSkzNIFzqrPuUVZvZRrebTHpRLvWovwuYmoKSbdX0RJ\\\n",
       "8iyzcG/bkvn64AN/+4ZaaB3KzBEsTPOmTYaVa5k3Y+oRfcKM8lLBFO7aw/I2PwXlBxno89BWp7Ex\\\n",
       "PZtryvYHTB8DzWP3pOlpxpiWZpod+vyXtFiweNtJbG7CGZ9Ic4wuHJ/5NWo+/JT3kgbgioqmKjaB\\\n",
       "+uhY/efR1kprpC5CgyoPkl5VjIcIcx2YnVaGJEewutwC6GvU2rDz/rrdtBKFwIfEgiaguO2wYQOg\\\n",
       "3Ke/H2hvJCs1HhCsLte4aEgqjoQ0PnnxYfQJR8l+dyzTcjRyAY/Hg8tZespbrPRVVASmUPQi3UVg\\\n",
       "RvRS8pdv65GYTCNNVFCSPAtb9Va9YG8nDIehMXdlCGK5lofHnkpOy1rzuIg7VgNQ/fLdRNZtA80K\\\n",
       "Fz2C/Ogh0ig1I7EGrwO3NQ7b3L+bi6+N6wc32AxVRSRYtIy1X0ebD7u0YChLNhYCMtBlGS5buYGS\\\n",
       "pCPrF6TXVlOemEx0czOumI4tgxzNzQxqqiPZ62F1SgZtdjtz9n7F6qRcqgKmkA7Ht7ZwceGXuOLi\\\n",
       "+CxzGG57FJFtrbRFRjFp3xbGle6n1WpjX/8BDKo6RIK3kWEJPnbUWWjDTgzNOKKsLEsaxdCKEqK8\\\n",
       "HmJpppEYBlgbiNDA49PFK9PawKCMBHNey+Us5ct3X8T4q2Blsb4GYlqOBZvNxtiLrzfrIJ7sKExF\\\n",
       "YAqFokc4UvNwBEUrnd8D0N4KgCb9lMRfAALaojPAFULA4sbQGJ9pzqNJj4sKMkn3F+FpOgCBLFp9\\\n",
       "7Gi0gFD2u3gBvHIdCTip+GghaZTS4rUSb3WZIhZHC/X/vpaYb79CyQoXSGirLtUba7a3UpIyi37T\\\n",
       "f8jBQARmYIgWAREzv4fAOHbJ1iJKUgOdlANzYyVJmUS0uWmPtJNaV0Oy28X29GxGN9fjskXSGIio\\\n",
       "xpWXkN3u4f3UTFpiYtgaE8PUsmLa7HaSGmpZk5xDVLseySY31FEdp9cFt3nc/LJoOanJNv5uTcBt\\\n",
       "1yOvi8r20+xzk1NViR03FSlpfD5kLG2WCCxSUldRQhR6o8vhKVY2J01gbeog+vlaGFR+SG9BJqHF\\\n",
       "Z6HeG8OUdD+jYqIYe/HNHaIoo+r9R3tamZZjYVqOhsfjBTRzPix/wgwOlL1M/oQjxf9MRZk4FIo+\\\n",
       "QFcV6lsqiyBC/zDtr1UR0XSAbOdShDWKCrJw+vRIwulLooJM+s26n5hz5tH07Ddpf/ocsp1L8URn\\\n",
       "4fFp2Cz6X/etXiuRLcWm0aJtyXwSLI00eqOI9uomCYdVr+DRmDSRCtIBiLc207x6kVmR3v36HWRX\\\n",
       "LyW74ROELZrI5CPTWsEmDiM12DllGHzs1LJifX7rUAkTDhUzIMrOf4jk8oP7GFSnmy0mueoZj58J\\\n",
       "h4opizgsXhPLill00TkMiLTiidSbTg6sLOemjCTimxupiUukMj6Z4pQBTCgrJtN1uMjPkKoyVkWk\\\n",
       "80fbUNZm5JJSX8s39m5kjHMrOVWV7ErLps4aywx/Bd/c/SV+obF20Ch2pR0uE+Xx+okvXseVe77g\\\n",
       "mx79j4usGEgUTURZ9DUNAonH08aX7754hCFD7z2mfyRPvOx7xMREs7LYz6Zli3E5S1n21svsaYll\\\n",
       "97rlR/vvdMagIjCFog/QeS6s+rX7dKPEy/qHdiXptMUNI3Li9ZQv112BaRykJHUWJQJszi2kUcrB\\\n",
       "1Yuwlq8nnXKwQr03mtiGLdisflp9FkAQZfUSRTkVZCI9LjOac2itWIP+pK0gi+TrngSgZMl9ICD5\\\n",
       "8vv1Woyvr0eOv5WKL/+KJ24wycEFfQPPAIfnswzXYWdjRjD9U5J5ZMIIHlhXyGDNz6L0PPY0N1Kf\\\n",
       "FEtjpN0Uqv0WG9vSdWPF2EMlAIwqP8hwzcfjH33GV0Efa5Ux/XixrIb6jBzSap0IBOWJyYwILPJu\\\n",
       "Ly/BKiG9rYn3huhZs+TGOn2erOYQpd5Y/jv8bMoSU2nXLMQd2kZdmoORlXuJ8PsYXbEbIw442OCn\\\n",
       "1u+gf2s5TdZmII56t49aGQdeyLE1UFEn2O/W59hsyxZ3SAXqEZlgZbEPzxvPI4CB9may8s/hrRef\\\n",
       "YE9LbGBN2M3H8T/s9ERFYApFHyDYQt9SWYTNuRUAW8Meshs+IZVyYmu+RPvg56T7i5BtdZRreUSO\\\n",
       "uxKbc6tZFSPmnHl4YnKo8venQqbRmDSReKuLFl8EzujRZm3ECjLxpIwm27kUu6sYj09g1cDnB6c3\\\n",
       "nhL7OEDSVl2KIzWPfhf8kIiaHbRVl9K04hnS/UVYvnxKn4ezRZktVbpa0GykB4Pt8qF4b+suVmXk\\\n",
       "AIKpZcU8oHnIrqnigvrD1eOsgXn7CYeKeWL8cBbUlHKe5mNR+kAWpeeZ4gaQ1VTHPfl6BfvzW5tY\\\n",
       "PCrHbKC5KD2XJpudzQOy8QiNtFonE/Zv5Y7iT7lyz1quat5BUUoaZYmpAMR4W/gybThrB42iPj6F\\\n",
       "ubUbuHnmuUxIaSNRa2b62cNJ1PSlDK0+/aPVoulGDf21Ll4D7Y1My7F0sRg5UD2lrpnV5Rr73bG8\\\n",
       "8/6H7GmJJVE0kRIXE+Kcw5xpDS9VBKZQ9AGC574O/v1msjhIuZaH/aqnKVnxDLHlnxJvbQZcAMQ3\\\n",
       "7ybO2kLLB/NNByIImj55hpzGFZRbdZNFW3Upda98RYKlEZtbTw/We6Pxn3M7ti//RJPXTqq1HCyY\\\n",
       "C6Aj/F4iXHuItzRT98p1tNz+6eF2L6/fAYl6ZXdp2BDlkc/QmaPNf3U+rkWDVek5TK4p5ctABBf/\\\n",
       "0ecUSsG9Q3L47/5iWoSf59ZtpQgLt2YkM/ZQCV4hGOFvp83n56voOH6SlsATu4spzcjhVVIoWbed\\\n",
       "H3h3MXLKpWxZt49VGTmMPrSfwoQ0KhJSsOCn/OA+rh/SwL7aVvKaK3BF7AAB59buNm3w52l1HBp4\\\n",
       "Ifbcs6j/5ANq/bF8+lUhc745k+Ur30JLLUJWDOOTfsO5OVnSWLibyZMmM+hQ0RHzX4Bp4mj3tDMt\\\n",
       "x8aoqdexbdX7HKysY7/7cEmp1eUQ3SlyC8YwekDXx5xOKBeiQtHHCOVErNv+GW1LbsPqdZFsraPE\\\n",
       "Po5+rn0kWBpp8DqQCOKtLkpSZhFRs8N0AwJklS3RI664Idga9pBGqbkuLBinN54IvAGhxFxbZtjn\\\n",
       "jbYvkcmZXfYnO1aCXYpAyNdGynHhK2/xbGou8ysPAIJnUw9X5bC7W03jxfzKYrZ4YVVGDuMOlbBx\\\n",
       "QDYxrmbyGuvYmp7F5H3b+GlUGUMu/j6LVq5lbkEu932+kY8HFjBt/1Zu0w4w8bKb+PyN51lTfjhJ\\\n",
       "NTIVPrGkk9tQyqdp41ifOZC5e77kp+NyefW9ZTQTQ7q1AS2tlIEDN/Cv6tv4MOUizt2zkVGHigOW\\\n",
       "+QRAHlFVw6hxCHoh3+iYGDNC27RsMfkTZrBt1VJAMPGym7q00Z+IfmHh5EJUAqZQhBElf/22uYg4\\\n",
       "cuyV2N//MQJJrLVVt7tr0bT1GwRRiSTP/Q2gz68FLz4GoKUOm6sIjz2d5OYtOKy6yaAkZRayrYXI\\\n",
       "xn2Iix7EU/jh1xKoo2EsTp5aVsxoq+TZ1NwubfY/f/ktFqXn0s/VzIU1FbydPZhR5SWU9EugMaYf\\\n",
       "aTVO0j2tSCnZNECv5OESgk0DdKPFuEMlREo/17j3MHv2tzt8wAeL4/wZ5/LC8pWMaNoBLU0cqPMy\\\n",
       "OMXGlqTx/Dl1EPGuRuqjY8muqeCCnRu4PM/CZ3vqcGMnEjdpMY14450cqB7O9uR8ZjcW0tDoQQIN\\\n",
       "6CnAYCu8y1nK5288z47yFuqJYaC9kf1ufb5rzk33nPI1X+EkYGoOTKEII5Kv/g0HM+aSfPVv8BR+\\\n",
       "SJy1hVhrq9n/K1Vzku1ai4iM1lN6gWLBwecJWzTZrjW0Z5xH9r0raPv221SQSUncBSRf/Ru0fimk\\\n",
       "cRBP4YddFhoOprt9R8NwHhrzXp3LTgUXA3YEPq2aomP4KjqOBTWl/Pns4VzR5GRiWTEzPS42pmeb\\\n",
       "4vXIhBHkeD3EtDQzuOIQElibkUtZ/PAjRGH+jHNZUFPK/BnnsmjlWv6cOojfJIyn0iOopx9lLZIW\\\n",
       "r+TsQwdM8bpx/wouTHHj8bSR69DTuPFaG5dd/j1yfMMYaKnmyuiXSUvwUU8MDcQQRSsTUtwdWqV8\\\n",
       "+e6LrCnXqCeGIY5GvnnldWY1+tA9wRQGSsAUij5AKBHoqoeYISq2ETNp8Dqo8ven6ZJnqQzY3StJ\\\n",
       "77LqPYBs01ONxjEJI88jdv67iBg9VRfKjGE4DKuX3HfEmLpqvNkT+qck8+zMqQHxmHqEzd4wf8z/\\\n",
       "cBVzx43kmrL9ZNY4eSo7xezavCh9IOfZLVw+OJfUuhpS6mvIxMeSjdt5O3swzY4YPBFWNg3INusr\\\n",
       "GgR3gf7htLHsWfYPpiZZSa2voSQpjcq0sQxxNPJ+wiheyBjMRIvgx5X7uK/uK4anOLDZrKws9uPx\\\n",
       "G61r4ti2ailTr7yVyNwSMlJ30TyognPS/cSj1zqsafKwstjH+2+8zCdFdRy0r+GsAU0MtDdy8Ry9\\\n",
       "jNScm+5RVed7gEohKhSnmFBzXKH6hRnb6nyxeC554oh0XvnDY3VjhZZH+q82dSjp1LTiGbOPWHD6\\\n",
       "r/iJ2Xo9RdKInPuCOYdlWuC76FdmzHcZqcjg43pS+/B4Ca5Mf7S6icZxBhPKikn3e9ngiOWhpCh2\\\n",
       "1NR3WV9xQU0p57Rt56M9rexPH8Cy/ImMPFTEvy8+j2jcrHhvMZ9p2dS2tTCLcuKskpXFPrMU1Kip\\\n",
       "s3j/jZfZ745lSrqf6oZmijw2coduY+YlT+NwR/D6P55gvzuWzIgGbBZBUr9IDkXuZeDADRw8OIwD\\\n",
       "RRNOSa3Do6FSiAqFoktCRSyhop6ky+83zRa2D+454hz7VU+bTkU4HGU1r15k9hGreefRDpFcZOM+\\\n",
       "ANKogFeuM69p9BozOix3Hmvz6kUdUpHB4wyOCk80wREaSNOKHxw5GVHbIxNGMPZQCaPKDzKq/CDr\\\n",
       "MnIo16yUJqXwVeWR/chczlJGNG/nx5X7mDdtstlra0LdPibv28YlhzawaOVanLX1xEeAy93EO4PP\\\n",
       "5v+JXEAyxNForunatmopaQkxTMuxIJDsaYkl2+rhiunPkdIvj03LFlPitZGVvYEKGcl+dywORxR5\\\n",
       "UUMpqxxK6cECBtobVcR1jPSpCEwI8U/gMqBKSjkqsO0h4AeA0VL2Pinl0qNdS0Vgir5KT3tpOVLz\\\n",
       "qNv+Ge7X70COvxWx/m9oM+4PaawwjjNcgl11cm6dch/al38F2kmjImTNRKPG4dHGerLpXJU++P2z\\\n",
       "y1fxbGoOE8qKeWzCCJZsLKTG66MIi/n+2dQcxh4qIV96WW3vR2lSClPLinl2pl5AeNnffsXqco1z\\\n",
       "0v1cfOvD5n2NCvBrE4fyxpBJXLt3HfFlZSTZW1mXMIj/8R9i1tX6YuI1y56jwrqRA3sK8HrtDHE0\\\n",
       "khwXw5pyjSnpfmJiogMOwvcpjVrLgP472b//LCKrs7jq+7pB45MXH2ZlsZ9z0v1Ex0R/LQfhiUBF\\\n",
       "YMfP/wMuCbH9SSnl2MDXUcVLoejLdBexdI7OIpMz8aaPx7v/U9L9RfiXh56LMtZpuV+/AwBhizbT\\\n",
       "h8GRnFj/N9Ie2kbs/A84mDHXFCuj63K6v0ivb0jvihccufi5Yykq/Q/vdRk5PLBOF6tXMwaa7+fP\\\n",
       "mMrUsmI2DchmrT2G0qQU4psbWZWRw7PLV/GH195lb71ew7CirpmS4jW8tOQySorXkJI/nkFZqfSr\\\n",
       "quHavev47phRHEgfwF6SabQ4cERFmQJTYdtEespOcgZvZaC9kSKPjaq4rzh3iN6E8qM9rSx762VW\\\n",
       "FvtI942j1noueVFDTfECvWzUtBwLFXXNfLSnlS/f/ecZtRj569CnBExK+SlQ29vjUCh6i86pREPQ\\\n",
       "EHAwYy72q57W13cJOghdcDqx+rX7dJF7TRciR2oeXPtyyHSjIUyO1Dw8cYP1QQSKB3e+TjBfx3nY\\\n",
       "U4LrKAa7EUF3Dc6vLGZ+5QEemTCCCWXFAMQ2N3FPfk6H1OOT2f2ZWFbMxfVO5lcWY6QiS9LHUJw+\\\n",
       "gIkXzubTLx8lJqmUhWs/4cCubYy9+HouyfAy21rBB/sP8UH+RNYMLmDtoFFstus/p03LFnNg1yjK\\\n",
       "a4ZzyaV/YfqMSxgwYDsD+u+kfnAVEy/7HhcNieLiOddx0ZAoplx8G3PPX8Q3rv/1EYV8jbYpetUO\\\n",
       "wUd7WpUDsQeESyWO24UQ3wXWAwuklHW9PSCF4mTQuZpF0uX3673BgqKghJHn0VJZRMkSwOPS57aS\\\n",
       "M2lOH09kciZNxqxAUL+u5tWLSAqRGgxejGwUDbY17NGFqdN1gglV9/BEUeWs5tnlq2jx+3Foeodo\\\n",
       "Ixpb++EqMwX44LWzzXP+kZhgmjhWl5QydeLYDn3Fzisp5fGkHFMQHSvX0mJz8H7WcIbs38eg5jE8\\\n",
       "ZbueHf2H0+/TNfzpBz/AZovkoz2tTMjdy9w9NWi1DYyvLWaMrR6Xs1Sfr1q2mLHTnyO6Xyb/Wv40\\\n",
       "h7wjEZqfy676BdH9Mk1DhiMh7SgLjPXnzEpNYOJlN2ELHKvonj41BwYghMgF3g2aA0sFqtF/jR4B\\\n",
       "0qWU3+vi3FuAWwCys7PPLi4uPiVjVih6g2DnImC+NlyFpnOwzUV29dKQDsfgHl5Jl99Pw9+u6PC+\\\n",
       "p3N1JxLDGWhgiI4hUMb7zpU6QnVyPiyGPhyahflBDTSN40c0b+fv3gzWDhrF6EP7eX58PrlDR1FS\\\n",
       "vIZPv3yU8yfeT5Iji03LFuPx6Bb4YLegs6mIlYW/xba5HxsO9WNKup+ZQXNqcLjSRlcuQ6OCRv6E\\\n",
       "Gexet7xLoTPuNW3EL0jpd3LSuuE0B9bnBayn+zqjTByK051gEQG6tOaXpMxC2KI77AsVgXXVUPNU\\\n",
       "Ehx9ATg0wfwZ5x5h4jAismBTRiiCxTC4wkfwtQyb/Gb7YOaMG817W3cxb9pkPt1/H1bXl3xSdw33\\\n",
       "n38L/VOSjyjV5Gwq4sMvriVdq6bcm0Sa82KmXHwbLfb2DkLj3L2eZW+9bK7z6or3X/w5pb79ZFoG\\\n",
       "8s2bHjti/2tf3EKCazl10TO4etLzX/fHHRIlYF+DEBFYupSyPPD6bmCSlPLao11HCZjiTKEr0TlW\\\n",
       "Merp8aci+jqaMBXu2sONW4soSerfZekpOCyIRndn43rB67+Czw0uKfXDS8fw62X/5j+Js/hW7VJ+\\\n",
       "eO65bD3wUofoxxCUWq+VRKsXp30K157zkrm92j4ZiyWa+L39+XyPlXOHeKkfXHVEBGUI4z7tUzJS\\\n",
       "d1LuHMYN33rviOdREVhH+pSJQwjxb2ANMFQIUSqE+D7weyHEViHEFuAC4O5eHaRCcZI4XmNEV5Uw\\\n",
       "jnV9Vk8ranydyhtHI7i0VHetV97buouSpP5dVtYo3LXHXCf24LWz+eGlY/h0/32UFK9h1eLHmFuQ\\\n",
       "e0TZKh19Lqrd62X3O69y96jL+VbtUi5IeJV1W39Kgms5Kwt/C+hi4vW1UG2fTHvUqMDZekAwbcQv\\\n",
       "cNqn0N6yS4+Ysg4yLcdCuWVjh2sYrFn2HIWt64lzD6S8ZjjnT/5lyOdO6ZfH1ZOeP2niFW70KROH\\\n",
       "lPLbITb/45QPRKHoBY7XGGEYPUL14ToWenqdE3W/UBjuwUVHab1itmfpFKWZZo91hXpVjpVr+enV\\\n",
       "l/H+hsfY6IuhZu0TlO8ZyUW8x42XX8PKwvuYZj8czXxrcg61Xy3lLK+bT0o95Nru5Yfn/4xN+7Yj\\\n",
       "fK1UWwZz4YhfALCy8LekuNdQFz2DKRm3B+bLbgd0obFaHKRodZT7k5k57iF2H3yV4r0FCItg5oRf\\\n",
       "dHieuqyDDPRuoNZ6Ljec/+6J/rGetvS5FOKJQqUQFeFGb88/dUVfHVcojLmtSwuGmnNZ/VOS+fWr\\\n",
       "r/KXlHxuq9jORX7dQfj+/oePmE8yU4LWc2mrrCE9aQd10TPwttaT4v8Kp3Y2105/FeiYztv9zqtH\\\n",
       "mDTWFb1K0d4HyRu8kAl513Tb6uRYUoMnomVKd6gUokKhOGaMBcVG+aevg5GOrNv+2dder3UyU4ZH\\\n",
       "o/P6r6NhWOdHDB3SoTDwLRdcyIKaUn74jZlMvf7ntNjb8flcOO1TmDbicDQ0bcQvqIuewfRxDzHz\\\n",
       "kqepi57BtBG/oL26AYD26kpe+u8k1hW92kFwjDJUwdb3Xft+T5LFQ/ne+9iy880jzB+vfXELzib9\\\n",
       "38VIDQIdtodi07LFfFJUx5srbuv2uDMBFYEpFH2I7pyDx3OdYJt81g9e6NJ9CCfODHIi6cps8XUI\\\n",
       "dg721M23Z+v/sWrDc0SklpNma6DGZyPJ4un2/MUfX04a2wGoak6kuPBcckZ8zlmTHmfrgZdCugmN\\\n",
       "CLDcn8zMSa+EjMZczlLeXHGbGR2eaDeiisAUCsVxYVTiQPK1oh6jOK82I3RlD/frdxxx/RNlBjkW\\\n",
       "jmZcCa7GcaJYWfhb3fbuT2Zi2k1dlm1yNhXxyuob+M/q6yne8gWlBwvwNydQ4YulzZJJha8fHk9N\\\n",
       "l1FQavloSkpGUNUcz8j8+8gZ8Tme+go2b7mVgtwbzOgOYM+ePYAeAZb7k0nXqllZ+NsjIjXQK3cE\\\n",
       "R4dnMkrAFIo+hNmAcu6RVd+PhebVi0j3F3VoSgmHBdIoSdW5+v3XuefxcLT0ZMf6hycGI004c9Ir\\\n",
       "HPz80y7LNhkmjWT3WipSlpEzbCMDEg8ghY0B7CfN0kRq+6YjHIUGOaMnIYSf8XkPkZ4xlod/VcRN\\\n",
       "N5ZStKGOrQdeMiOnXz71TYYNG8b06dNJ6ZfHhII/UO5PpiD3BlYW/pYE13I+/OLaDiKm3Ig6KoWo\\\n",
       "UJyGhIvxoifjDFVh40QRbIgwFh8X5N7A1gMvUZB7Axv3PY+3ZSfpWh21vgg89hGMz7+LTfv+httd\\\n",
       "SoKvlAbLQC6ZcKSYvLTkMtKTdlDVnMjDvypi5+YaAIQmeOW1F7nminn88qlv8pu7P8D4GJ42bRq3\\\n",
       "P5ZvphenjfjFEenOk70WTKUQFQpFr3Iy034nkp6Ms3NV+u7ozvQRKh3XYm+nfPA+U7wSXMtZt/Ue\\\n",
       "ElzL2bTvb1x7zkvMnLSEGp+NREs7NnchG/c9z4UFvybKV0W0BQawP2QUdv7E+6lqTuR3D2w1xQtA\\\n",
       "+iXfvvp7PPTQQ/z2nmUExxArV67kiQWbTfFK6ZfHzEmvdEgXGuPsKvI7k1ACplAo+jTHMg/WndiF\\\n",
       "+uA3ti3f+oC5KFlEZgMgA4uaU/rlMWb030wRS3Gv4ZO1s4jtfz21vgjKLcP0hctBAulsKuLLihdJ\\\n",
       "TLmLrds8HcYxhznE+mNZuHAhsf5Y5jCnw/4v1qxnTOJPzeiqc7rQSIGe6fNfoARMoVD0cY5lHqw7\\\n",
       "sTOqY/h8LjMKM8RAIElxr8FiiWZ8/l2U+2LxubazruhVXvviFhIdWeQNXkidz0qzD5IsHqqdbyFi\\\n",
       "z2fmWX8hpV9eB4E0XjdpK3l/6fuIQFX9OczhTu7kSZ4kl1ye5Enu5E5TxDRNY+nSpQwZMuSI8RsC\\\n",
       "Wdty8Gv8NE8v1ByYQqHolnCZT+sJXRXDDZ5XWr71AVLcawBocNuJs7upi56Bu2kD6ZreyanWF0Fb\\\n",
       "xCDS/Tup8MViiR7JoPTL2bXvcSYU/AGAdVt/yoSCPzA09XxefXMR1159I3H+eFO8DA5wgLu5m0at\\\n",
       "kaVLlzJz5kxzTMu3PoBAcmHBr01RNFyKJ6ugr5oDUygUpw29uZC5J4Sa2+oKI+IqyL0h5ELilH55\\\n",
       "Zj3DxrZIindNoao5kZz+3wDpM6/jwYZmsQOQZmkkxb2Gor0Pkq5Vs/XAS2w98JL5GuCaK+Zx1U1n\\\n",
       "UU89C1nYYUwLWUg99dzzs9tN8YKOLkhDXOuiZzB00ALTpXimowRMoVB0S2/Y64+FnpoagqMsYyFx\\\n",
       "qHMuLPg1ddEzOHvEP0jJrKB/TK0uTpZGXD49FZhmcaFZoij3JwB6RJZk8VDuT2baiF8cIZSvvrmI\\\n",
       "N17cRDzxPMiDHe73IA8STzyP//7P/PKpb5pzaD6fi4qIMVTbJ5uGjqsnPU9x1X87iOOZTJ8q5qtQ\\\n",
       "KPoenbtE9zWmjfgFKws5qqnhsND17JxWezsRGXGUt8STbqnXxSoilab2Q2DP4+KCR8zr5vb/Brv2\\\n",
       "/R4iklm2aQECgWaJYv3uP1G6ejW/uO/vSD9MZzq55HKAAyxkIQ/yILnkMp3pvOV/i9/c/QE+//c4\\\n",
       "+5whJLvXUu5P5sJJrwB6+tMQx54875mAmgNTKBRnBLsqP+0wLxWKDg0qA3NNRk8vn89FsnstNT4b\\\n",
       "eYMXsq/8HQSSsYNuZd3Wn5KuHWnd31hi4Wff29PBKj+HOaxgBfXUE0+8Ll68Ze4XGqxev5y9NT8l\\\n",
       "XavHaZ+C1eI46Y0szfurOTCFQqHoW3SelwpFcJmpCQV/oC56BhcW/JppI36B19eKK+BAdO77hTk/\\\n",
       "tW7rPaRr1VT6YqjzWjpcLy8Dho6K7rDtLd6iQWvgO9+Jp0HUdxAvgMlTJjJ53IVEOIYBeo8xZZ0P\\\n",
       "jRIwhUJxRtCVgaPzMdX2yVgdQ2hsqcDd9BUfbfoJy7c+QFr7ZqID+hSpgcsHlRFjO6wbS7D6qPNa\\\n",
       "qPLqBo94i4/fPZ7K6NGR5j2MShyzbruUn/3hHETQp/CEKWO45/ExOJuKuLDg11TbJ5vr0QyTybGY\\\n",
       "Vk53+pSACSH+KYSoEkJsC9qWKIT4SAixJ/A9oTfHqFAo+i49+XDfuO/5Lg0cKf3ysFiiSXGvoXzv\\\n",
       "faRr9aS2b0IgcdqncIiBePz6sdEW8LcVMz7/LioixhApWwFIsPqIQF+83OyDGAv89vEMxkwYjNAE\\\n",
       "f/rnvXj6PcO4QbfwuwWreH/pB2iaxrRp0/jZkxPNsQWPxSjs+8rqG/jwi7kkuJbz8dZfnvFC1qcE\\\n",
       "DPh/wCWdtt0LLJdSDgGWB94rFArFEXTnSDT2CaSZjgsleEZF+GiLPnFV4YvmwoJfM6PgESJ9pdg0\\\n",
       "8AZELF2rY/OWW8G9lwSr13QpJlj1A1qkHolFavDwo5L3P/9fEjOWk65Vs27rTwE465x8Hn95Frf9\\\n",
       "JpOc/t/oYJEPjho//OJaUtxrSA90eZaIM76kVJ8SMCnlp0Btp82zgUWB14ugU90VhUKhCNDdXJGx\\\n",
       "78KCX3P1pOepbTnIJ2tnHSECtS0HEbKdOq/+8WiNLjArbSRZPDT7BFYNyv3x1HmtJFk8xOECoM7S\\\n",
       "n3J/AmVkUue1EsnhMlLRFonT9WeGDlpAjc/G0EELAF1YC1IKSXGvYde+3wfE7R6cTUWmdd6Yvyv3\\\n",
       "J1Btn8zMSa8wo+CRM35erM+5EIUQucC7UspRgff1Usr4oP11UsqjphGVC1GhUITCWA/mbvqKdK2e\\\n",
       "Gp+NCyYvBQhsP1xxw2gsCfDRpp/gbzvA0EE/Z3/527R76nF4dhMXiLYAGnyCOIuk3msh3qovfHb5\\\n",
       "wCcFPgQxqfNorvxfEqxeyrVh2KMyyAlY8I25tLT2zfo4A+7D4CK+J6sCfTDKhdhLCCFuEUKsF0Ks\\\n",
       "dzqdvT0chULRBzFSiVpkLuX+ZMaM/luHWoZCeqnwxVERMcYUrw+/uJbU9k2ka/Xs3vtb2lt2ku7f\\\n",
       "aYpXSyB1aOVwQFDh60e910K0BWKtkgSrn7aq/0eC1QtAbPsuElzL2bXvMdK1OiJtyVw89nGq7ZOp\\\n",
       "iBiDz7WFBNdylm1acIp/QuFDOAhYpRAiHSDwvaqrA6WUz0spx0spx6ekpJyyASoUX4cap4uPXtxM\\\n",
       "jdPV20MJe7oycQRvN1KJF439Izd84wuGpp6Ps6kIr6+Fcn8CaZYmpIhgfP5dfLz1lyxbe4Vee9Cr\\\n",
       "131IszSSrtVT54VKr4N6rwWHRVLuTyA2awG1vgharDlIYTWjsAafhTqvRoxFUufVqPNazDk2ItLM\\\n",
       "ea6Vhb/lwoJfE2lLJs2i/3+QbSWqhUoXhIOAvQPMC7yeB7zdi2NRKE44G97dy/BdjWx4d29vDyXs\\\n",
       "6eqDPnh7qG7GRt1BEZlNjc9mmiyS3WtJszQB0BY1knLLMNoCGcMEK/g1hylSwt+Gs+Qp2iIGMYD9\\\n",
       "pGt1NAfKJ7ZiN40dnqjRTJvyIeW+WH2nBJ/Pxfotd5ruwoLcG6jw9aPCF8eEgifUOrAu6FMCJoT4\\\n",
       "N7AGGCqEKBVCfB/4HXCREGIPcFHgvUJx2nDWZYPZMTSWsy4b3NtDCXu6+qA/mgAYrVZkW4lZ03BC\\\n",
       "wR+otk+mXBtGuT+B8fl3QXs1kRp4/Lo7MTNzHuX+BCq8DtKsLSRavcS276QiYgzl/gRizHXNVip8\\\n",
       "+oJmX3sDH2/9pVk0GG9lQCgb9beu7azbeo8ZCULo+S+1HqwPmjhOFMrEoVAojgWj1UqwcWNl4W9p\\\n",
       "81ST1r6ZOq+FVmsOdt9BEi3tAJT7E0jX6mjxgSOoCIfTPoVxg25h/ZYfI5BI+yBo3UOatYUGr2bO\\\n",
       "nVX4+iHsg/D73AhPCf1Eq5labPYJYiyyy/YpXbWG+bqEk4lDFfNVKBRnHJ17baX0yzOL5M4MRDqv\\\n",
       "rL6BFPcaKnyxYNEXKCewH2f0FKqRSATC1wLtdaZ4ef1g1cDrqWPjvudJszRR57WS0L6ZBjPhdTho\\\n",
       "kMJKWvsmXays+vZar5U2rR/pljrK/QlokZk4LUOYESKqPNOL+qoITKFQnFYEt00xSi8Z70GPqry+\\\n",
       "FrNpZVfNLd2tZYGGlTFIWyZ4DiHseVw89nEzledsKuLjrb+kzV1Fgq8IRyB6qvNa8Qg7qZZm87oV\\\n",
       "vmjSLC4qfNEI+xA0SxTjBt3Cli23kGhpp95roVWLZULBEyQ6sjpEf9X2yXzrnMWn5OenIjCFQqHo\\\n",
       "JYLbplw96fkO7wESXMuptk/GaZ+iR2CdIhjj+FpfBFggzdJMeXsFEdEjGDvoVn3hce4NrN/9J3AX\\\n",
       "gT0Pa0QsjkBk1eYnYJXXxavCF40UNjKzvkfVwadJs7iosyWZornePgLaN+OOGsUN571hjuPqSc/z\\\n",
       "yuoboB2zHqKiI0rAFArFaUXn1Frn9ysL4cJuFgRPG/ELPvxiM+mWamq9VtqFnXRLPbjXsnXLehIs\\\n",
       "XnZv+Zg0iwQL0L6Zcn88aIH0n20w6f6dAHp1eqGXnCot/SfpFg/l/gSsvhaz0sbFYx9n+dYHsCLN\\\n",
       "bQYzCh5hZeFvj0gfKnRUClGhOMXUOF1seHcvZ102mKSU6KOfoDglBM+LDUyfTdHeBwOOxPjAui+r\\\n",
       "uQgZ9AobTcSAfRDj8+9i64GXTJFcvvUBfK5C0iwN5vEVEWOItCWb6UvD6bhx3/N4W3aSrtWFNGR0\\\n",
       "TomebMIphdinbPQKxZlAV+u+jnVBs1oA/fUJtqIba8GS3WvZte9x006fmfl9anw2WiKyO5wbbQFr\\\n",
       "9CgibckAtHmq+fCLudS2HGRGwSNIoaf9KnzRpg3/6knPM6PgEdNZuG7rPUEFeuNDtnpRi5i7RgmY\\\n",
       "QvE1OVYh6Wrd17EuaFYLoL8+weKgLx6OpdwXy9BBC6iLnsHMSa9QWrqIJIsHzVdLRcQYKnzR+lfE\\\n",
       "GLy+VhJcy/V1W+2bzer0yzYtIF2rp8LXDylspGt1rNv6UzNFOHPSK/ocnPSZY4lwDGPrgZeOECu1\\\n",
       "iLlrlIApFF+TYxWSpJRoLrppzBHpw2Nd0KwWQH99gsVh64GX9DJRlkaKq/4bmDv7LUMHLaDcn8zQ\\\n",
       "QT9HtpWRZnGRZnERaUvGaokCQEgf5ZZhZnX6yNbtgG6T1ytyCNK1aj784lpTxASSNEsjdV4LlRFj\\\n",
       "zc7PSqx6jhIwhaITJyqiOla6ErYTdbxCJzhtGFxWyujG7LRPMcUrwbWc4qr/csM3vmBf+TuBmoi6\\\n",
       "4Ewb8QsuLPg15f5kvYpGezWeqFGA7kKs8dnIzPweNT4bMRZplqgyoiuv73ADTJstiZR+eV2WuVIp\\\n",
       "xNAoAVMoOnGiIipF36Q7QbBYoplR8IgpaMHRkFH6KcHqw2Kxs2zTAj78Yi6ZmfNMcdIsUVREjKHW\\\n",
       "F0GSxWOmH42q98HXs1gcgN5XrLuIyxBWb8C5qDiMEjCFohPHElEdLVo71v3KmHHy6SpN11nYDlfn\\\n",
       "+C3OpiIuLPi1GaF5fa3mnFfVwadNkZpR8AiRtmQSLe1m00pjLm1o6vlMG/ELlm99gP+svp5xg24J\\\n",
       "7HvtCHdh5yjRYokmxb1GRWGdUAKmUHTiWCKqo0Vrx7K/xuli43MblTHjJBMqTQehha2zqFks0Ywb\\\n",
       "dAuyrQQAl0/QP+sOU6QAsy1LksVDcdV/O9wr2Om49cBLIccR6r5qbiw0aiGzQtFDQq3fOuuywWxg\\\n",
       "b5fRWlf7jWsNnJLBDuO4d/cy3CXZGS3M49Wasa9HqJqHXWEIWzDBi6ANUVm3VY+8XD5BtEVSWbvK\\\n",
       "LPP02he3kOJeQ7VjMnWW6JBV8Zdtqka2lTAh94Yux9J58XWosSlUBKZQ9Jjjsa13Fc0Z19q/pszc\\\n",
       "b6Qux902zjz+RK0ZO1MJjniOJ/3W2eRRFz2DoYMWUOOzmVXjJcJM+RXk3oDTPgUg5MLjlH55WC1R\\\n",
       "pGt1bNr3tx7dV9E1SsAUih4ycEoGO6MFA6dkmNuOdy1W53m2UJFWjdOF3+NjW57ja68ZO1Mx+nxV\\\n",
       "2yd/7fSbISrFVf8NzHkl4LRPMcs9JbiWs/XASwgkye61fLz1lyF7dhl1DVV9w6+PEjCFogs6Rzn7\\\n",
       "15QxzCXZv6bMPOZohg/jGvt2VvPB377i/afX8eHfNlBf04rP42X9G7tM8eosSBve3cvIIhcWm7XL\\\n",
       "NWMDp2SY11cR2ZGk9Mvj2nNe4lvnLD4h0YyzqQivr4Vq+2RmTlrCtee8dIRjMVigQjkeZxQ8Ql30\\\n",
       "DGYUPNLtfV5ZfQP/WX29ch52Q9jUQhRCHACaAB/gPVqtLlULUfF1+ejFzQzf1ciOobFcdNOYDlES\\\n",
       "YM5h7V9TdkTkZBxnCNPOaMEw1+Hftd12yHcHXkcJ2hIj0WwWxl85NOR1upr/MsZoXN8Yq+Lk0JMm\\\n",
       "kqHat4Rq7dKdoBr3gSPbvZxswqkWYrgJ2HgpZXVPjlcCpvg61DhdrHtjJwLRQVQMuhOOYOEzRGzg\\\n",
       "lAz2rCxGevxoNguy3ceoUjflmp90v54I2ZbnwGKzHpNhI9gM0llIFSeerkwhxypMTvsUrBZHl8J2\\\n",
       "LOaTE004CZhKISoUIdjw7l5GFbWg2fRWu53Tc0YKL2/usCNSiP1HJFGm+ek/Isk0Z+xfU8aEK4fx\\\n",
       "zTsmMHhaNrYaN1sz7CR+dyTb86L50OFEevwM39XIujd2mtfas2dPh3F1TmsaJpFBw5JP+8XUoeaT\\\n",
       "TjW6CcNxhCkkVKow1HgLcm+g3J+MP1BD0Tg+1Bq0E5n6PF0JJwGTwDIhxFdCiFt6ezCK05vgOabO\\\n",
       "a7OCU3uhhMO57AAZfg3nsgPAYcPFxuc2UuN0UbRkJ/mtEFnbxv41Zdz/tx/xg4fmsm3NpwCIwBzK\\\n",
       "hx9+yLBhw5h6znmmaJ3J5o2TVVKpJ8IYfEyoNVlHW0NmnL9x3/NmxY7g49U6r+MjnFKIA6SUh4QQ\\\n",
       "/YGPgDuklJ92OuYW4BaA7Ozss4uLi3thpIrTieBUoWFv7zw31pl9O6sp/s9O2hIjmXjtCAA2PrfR\\\n",
       "TDUOnJJB0ZKdtMdH8vAffsDag5sB0ITGozf8nrn3zePVvy/hl3+6Hb/fD8DkrDE8eP8/EAgkkglX\\\n",
       "Djsl0VZfWod2svpi9WReqyfHdDdeQ8yq7ZOxBNaHdfUMp7r/V2fCKYUYNgIWjBDiIaBZSvnHro5R\\\n",
       "c2CKE0Eo40b/EUk4lx0gb+4wBg1LDnm8z+NlVFFLSAOIIQRTzzmP1Ws+73C+pml8++Lv8e8P/4lf\\\n",
       "+jvsKxhyFkuv/NMpNWocTaxPB44mGCdiPupYROl4xPJEEk4CFhYpRCFEtBCin/EauBjY1rujUpwJ\\\n",
       "BC9ENtJ3zmUHjrDTG6x/YxfDdzUiW9rNNWOdRfCjFzfz5drNrP1idYdz5zCHWH8siz94gVgZyxzm\\\n",
       "dNi/fd8m/htfd0rbp5wJLVuOtmjYWAxtsUQfd0R0LAuTVTqx54RFBCaEGAi8GXhrBV6WUj7a3Tkq\\\n",
       "AlOcCLqzzody/n3wt68YVdTC3kgY3Aa7o8CT5mBUUQvb8hxYq1oZ5pJsz4tmw+4vzDThHOZwJ3dy\\\n",
       "gAMsZCEP8iC55PIUT/EWb6FpGkuXLmXmzJkhx9QXUnynK72d0jvVhFMEFhYCdjwoAVMcK6GEoXMq\\\n",
       "MJhQ6TXjGt76Vgoq2wHYnheNRGKraCW/Va916O0fxaiiFv63fRu//NPtxPpjeZInySXXvP4BDnA3\\\n",
       "d9OoNfLKv98g3pVrzp8Z82lAl2vVlKD1PuEofuEkYGGRQlQoThbBtvRgh5/xWiC6TKGFKi1lpBxx\\\n",
       "ewE4qPmJKHchPX7yWyW7owTt0Vbsh1rYmmHnlnu/ywMPPEA99SxkYYfrL2Qh9dTzwAMPEO/KZfiu\\\n",
       "Rqr/tZ1hQQV/O6f4zmSXYl9ENaM8uagITHFG09Wi470rS/B7fB2qY9Q4Xax/Y5e5XSIZVdRCmeYn\\\n",
       "+bsjGTQs2RTCAbvqiUOjHT8RaFTgpzlSQ/hhkB6YUY+f9YOq+P5t1x41Alv4o6c4J2msGcEFF/wN\\\n",
       "RkVgfQsVgZ1cVASmOKMJjmCM6Gn/mjJGFrmIqG9jZJGrQ6+ukUUuCsrcjCxyYatooVzzk+HXKFqy\\\n",
       "kxqni83P6GvGGizQip+qwH3S0Bjcdli8WvGzef96vn/rtfj9fqYznVxyOcABbuImDnCAXHKZznT8\\\n",
       "fj8P/uVOVtds6lCtPlRFetUdum+hqsqfXFQEpjgj6S5SCVWe6ctXCikoc7MvAlr624msdZPfClsz\\\n",
       "7ETWttHWL4LIJg/5raHvt98iAUGM309lPyvVpcXc+Nx3Oljl5zCHFaygnnriiWc603mLt8z9mqax\\\n",
       "ZtUGGnYE9Q9T81+KE4yKwBSKPk53c0WhyjNF1uqVd/t5/UTWuEm6JI8dQ2PJvygPpKSgShevavx4\\\n",
       "0UWpEj97I/Vrem2CgT7oLzVyGr1cEJvF+MyCDvd9i7doFI3cNfVGGkVjB/ECOO+882jYgTnuzhXp\\\n",
       "DQu/mv9SnCkoAVOckXS3vmnfzmr++8jnbP6i1GxV4kmyUy789Jca+W6o+aAIv8dH8Ss7zKryTvwk\\\n",
       "o2EN/Fo5Mx0U3H4W2/IctCXaqQwIm9EF6vXrnmZC1mFnoyY0Ft70R647/0YW/uAJNO3wr+e0adN4\\\n",
       "fcl7+DxetudFm1HWWZcNpmjJTn3tGfK0X7OlUARj7e0BKBS9gekWDEHxf3YyrFVS/vY+hvs1dpY2\\\n",
       "Mcol2ZYXQ027H1u1m7ZEOwVF+txTC34caNgC57fipyJCI35YIpuf2YjdLxncBhUCqtBFsAE/cWi8\\\n",
       "cd3TXPbvO9hycCsLb3+K+Q/cRFJKNAOd4yHSwq/+cidTJp/DP557jb1PrmeUX2PH0NiOHZtdkjLN\\\n",
       "z5BpOUdUBlEoTmeUgCkUQdQ4XWh+fV64OjmS+oQoBk7JYNvKYmRLO5EN7eRcO5z4pCjWv7GLiHIX\\\n",
       "+W6NevzEo1Gm+alNd1BQ5qb+v6VkBqKxRvykSY0KoUdh9VaBzesnCo3f3vU3Ktsq+Z/vzwB0Z6TP\\\n",
       "4+VGxxim3fy/tJw9jNp/bSfDr1Eu/GbKcOCUDPweX6C3mMaONWVKwBRnFErAFIogNry7l+FtsDNa\\\n",
       "MPE7BWaks3dlCaMCC5P3/nsH+3NjGTwtm90fFbG71o1jaiauj0vJ8Gu0VrspF37S5WEbfVvg+m4B\\\n",
       "+6wwqF1gJBNTqtwUyASKnlhPs1VjeDtUCj9b+0ei5Q3D7/GZPcOqBzioX1OmFxgubWJkoKrHDptF\\\n",
       "pQ4VZxxKwBRnHN259c66bDAbOLzPONbv8ZnHxLT5SdvVyN4DjRQElGn3qkPk+zVa8TO4TYNANGZE\\\n",
       "TRYACbl+jQa/H9Dw4qdU07cBpEkNAjb7VKnR1NCO1+XFHx0BQAV+hNAXUO8g8H1NGeOV61BxhqJM\\\n",
       "HIozjp44ECFQdPeVQobvaoRWL/UBE0YaGjujBYFsIJX40fTCG0Sh4cZPBX7ck1LZGS2oyXDQX2rm\\\n",
       "+XEB8bKiEQnstuvntnPYUl8VuPgwlyTFqUd0aWiMKnVT/a/tDJyS0aMmlqHWiikUpwtKwBRnHMEO\\\n",
       "xK4+4A2RM+zzyXUe4gMVNXZHQd7cYbT015Wn2aYxuP3wuXY00tCwf1HJMJeECI3tedEczHCwVw+m\\\n",
       "sKJHa9XxNnKuHc7OaEFE0K9jvV0j69vDKdP0ubN0qbE7CnPhdPW/tvdIlFRpKcXpjBIwxRlHqBYp\\\n",
       "nT/gz7psMNvyHHiS7GzLc2CbM4id0YLqTAf5rbB/TRn5F+WxM1rQEmMBdIeh8X1vJNhnD2JbnsNs\\\n",
       "QllQ5ibadzjKikKjoNZL0ZKd5M0dZq4Za8WPZWwKe1YWU5vuYGuGna1JVmLdfqr7aaaI9USUzoR2\\\n",
       "KIozFyVgijOarj7gk1KisdisjCp1IxBUFdaQN3eYGU31H5FkFtbtX6eHX64Ijd12sFwxiPbcWDIH\\\n",
       "JmCxWRlZ5CKqtIUG/KQH5skA9kboEZXRW6zg9rMoF7ozMX1NJaOKWigoc2ONsZFY5yFNahQ0QG1O\\\n",
       "vx6LkiotpTidUQKmOOPxe3yse2PnESk5Q9wkkuG7GilaspNRRS1oNgvOZQfI8OvzWqlS/zXKa4d8\\\n",
       "N7jf3tehWsbOaMGgdn3uC/TIq0zz05YZTXrgGl5nC+ve2El1fz0Mc6Bb7vdGgs/lwT0plQb87LdA\\\n",
       "2tj+p/YHpFD0UZSAKc5oNry7l5FFLkYVtRyRkjOilwlXDmNbnoP2GCt7I8Hb7CHl4lx2Rguav5HJ\\\n",
       "7ijYr2cRqUJP71UE1mslpUQz7rZxbMu0szcCiiL0yKs23cHgadmUC339WEGt3ncMq4VtmXZ228E5\\\n",
       "wMHgNhhV6qZ9SzVxaAz0gXPZATWvpVAQRgImhLhECLFLCLFXCHFvb49HEX6EMmycddlgtudFsy3P\\\n",
       "cURKzjgewGKzUlDZzuA2KChzU1VYwzceOJf6ffXkt4I/sCDFH6gTlSY1il/ZYd7LEm2jLTOavHa9\\\n",
       "LmJBmZv9a8qoyXAA+kJnAM1mYcK3RtCerqf8tmbY2Z4XTd5cXUSN192lEJXzUHGmEBbrwIQQFuCv\\\n",
       "wEVAKbBOCPGOlLKwd0emCBeMdijDXZIN7DWt8kkp0cy89ayQ55gGj8C6sPWew73AxgfEQwQWI7fG\\\n",
       "2djpaididCrNayqJQa+ZuP6NXViqWhjukqYA+T0+tvXXiEqMJGlXPUURGnntujV//JVDzagQ9G7O\\\n",
       "ms2Cs7SBhOJm7LMHMWhYcrcVN4LH3VW5LIXidCBcIrCJwF4p5X4ppQd4BZjdy2NShBEb3t3boZNx\\\n",
       "T+jccVmzWci/KA/NZjGPGX/lUHYMjUWLjmCYS+Lb5CQm8GvVjh+/y8Mwl2RvpC52fo+PgjLdmp+0\\\n",
       "ppJ4NFLb/WzLtOPtH0Xp/joiDjSyN0KPvoz5t5j/6lU+PG/vO2p0pZyHijOFsIjAgAzgYND7UmBS\\\n",
       "L41FEYZ0rrDRE/avKdMjp5XFWKtaGe6S7CxtYrhLsrF0o9lYMrgXl7feDa0evIESUlENukMxxuNn\\\n",
       "cJGLck2vwmGraKVmSiq2NZU40LDWtTHMJWkp2kdSQAB3xNjMvl/9smJo/biUVqExfFcj61yFWKJt\\\n",
       "IZ+nu0LFCsXpRLhEYCLEtiM6cQohbhFCrBdCrHc6nadgWIpw4Xjs5EYkIxAMc0l2R0F7fCS7o/QK\\\n",
       "GYaJIrg0FVb9V8qKxu6ow/9t06S+fivdrzsQ81sl7Vuqsdw4kh1DY8mbO4wyTa9q34qfvRGYJpCz\\\n",
       "LhtM08FmanJiGBioaGWrdisjh+KMJ1wErBTICnqfCRzqfJCU8nkp5Xgp5fiUlJRTNjjF6UFn84Mh\\\n",
       "euOvHMr2vGiQBNJ/ooPpY90bej+udW/sNK+1NxI8aVEMbiMQdenrxLamRtAaobE3EnP9l9E8M/m7\\\n",
       "IynT9HVgg9v1CBAOz2kJhGk4ybl2ONvyHPg9PmXWUJyxhIuArQOGCCHyhBA24FrgnV4ek+I0o6uq\\\n",
       "HEkpupEi340ZPVlsVjOaM4wcAmHOj7Um26FdX8dVnWJnbyQMboPsyjYGBwoAB3dTrnG6GDQsmcF3\\\n",
       "jzdFKrhtyo6hsYy/cigzbz2LS249m0HDks1F0ioKU5yphMUcmJTSK4S4HfgQsAD/lFJu7+VhKU4z\\\n",
       "gufJOjNwSga7ixtpi7NT74hgfKCO4oZ39zJ4WjY7bGWmM3HdGzuJOtRiChWVHnZH6S+NxczuFDsT\\\n",
       "LhtsOiPXuQqx1rWRN3eY6Yr86MXNDN/VyHaPD7/Hx+ZnNpLzrWGmA9EYryF0xzK/p1CcDoRLBIaU\\\n",
       "cqmUMl9KOUhK+Whvj0dx+tHdPNn+NWXku6Gg0oNms3Soo2ikAZNSoklKiUYgTPGqDNRFTLokj3Kj\\\n",
       "mSV+hnwjj/Vv7DIdikllLQxzSbNIb43Thc/jZXtetFlHMb9VUrRET1MGz7vtD/QHU5GY4kwjLCIw\\\n",
       "haK3MSIwT7IeOUHoiK3G6SKiXJ+TMppaprbB9k1V+Ac44FAL6VLvniwDPiS/BumBditGkV6/x8eo\\\n",
       "oha250Uz4cphfPlKIZG1eoQGh9Od6zw7EYE5uQnKNq84w1ACplD0gP1ryhjuhh3RNjNCC2VX3/Du\\\n",
       "Xoa79Y7OeXNHsm1lcYdq9LujLNSkRZlis+HdvWZjyuDvxa/sAEAiSUqJ5pt3TOhwH0M8hcfHyCIX\\\n",
       "2/Oiu2zSqVCcrigBUyiOQnA6b/xRopzO682M+SqjEsgwl2RHkAHEEEDjuEHDkvW5r4AITrhyWMj7\\\n",
       "dF5/Jj1eVX1DccYRNnNgCkVvseHdvWYV+qNFN507Ogdb8sfdNu6IChmdrfs1TpdeairPYS6U7sn9\\\n",
       "JlzZfX1EheJ0RAmYQnEUjqc0UyhLfiiTSOfjjDqIwTb9nqD6finORJSAKRRH4VjFITiKOprodRbH\\\n",
       "YxFLVXVecaajBEyhOA66E49QUVRXx3cWx2MRy64WXisUZwpKwBSK46A78QgVRRnHb35mIx/87asT\\\n",
       "EjWpqvOKMx0lYArFcdCVeHQo7MthI8dZlw1mZ7Qgv1WG7P4cfH5P04Jq3ktxpqNs9ArFcdBVy5Lg\\\n",
       "ZpJAB2v7uNvGsf6NXUhkl4uOVTNKhaLnKAFTKHpAcGTVXcTTuTpH8Ovuuj93db5CoegaIeURbbVO\\\n",
       "C8aPHy/Xr1/f28NQnCYYhXV3DI01I6OeippCEU4IIb6SUo7v7XH0BDUHplD0gFBzXqH6gCkUilOH\\\n",
       "SiEqFD0g1JxXcB8whUJx6lERmEJxnIy/cqjZaFKhUJx6+ryACSEeEkKUCSE2Bb5m9faYFApQNnaF\\\n",
       "orfp8wIW4Ekp5djA19LeHoxCcSpQpaIUiu4JFwFTKMKOrytAqlSUQtE94SJgtwshtggh/imESOjt\\\n",
       "wSgUPaE7AeqJuKlSUQpF9/SJdWBCiP8CaSF23Q+sBaoBCTwCpEspv9fFdW4BbgHIzs4+u7i4+OQM\\\n",
       "WKHoAd2tEwu1rkyh6AuE0zqwPiFgPUUIkQu8K6UcdbRj1UJmRV9GLYJW9FXCScD6/DowIUS6lLI8\\\n",
       "8PYKYFtvjkehOBF0VUtRoVD0nD4vYMDvhRBj0VOIB4Bbe3U0CoVCoegT9HkBk1J+p7fHoFAoFIq+\\\n",
       "R7i4EBUKhUKh6IASMIVCoVCEJUrAFAqFQhGWKAFTKBQKRViiBEyhUCgUYUlYLWQ+FoQQTuBUluJI\\\n",
       "Rq8YcjqgnqXvcbo8B6hn6YsEP0eOlDKlNwfTU05bATvVCCHWh8vq9aOhnqXvcbo8B6hn6YuE63Oo\\\n",
       "FKJCoVAowhIlYAqFQqEIS5SAnTie7+0BnEDUs/Q9TpfnAPUsfZGwfA41B6ZQKBSKsERFYAqFQqEI\\\n",
       "S5SAnSCEED8RQkghRHLQtl8IIfYKIXYJIWb25viOhhDikUDX601CiGVCiAFB+8LmOQCEEH8QQuwM\\\n",
       "PM+bQoj4oH3h9ixzhRDbhRB+IcT4TvvC7VkuCYx1rxDi3t4ez7EQ6AZfJYTYFrQtUQjxkRBiT+B7\\\n",
       "WHSLF0JkCSE+EULsCPzfujOwPfyeR0qpvr7mF5AFfIi+7iw5sG0EsBmIBPKAfYClt8fazTPEBr3+\\\n",
       "MfBcOD5HYMwXA9bA68eAx8L4WYYDQ4EVwPig7WH1LIAlMMaBgC0w9hG9Pa5jGP/5wFnAtqBtvwfu\\\n",
       "Dby+1/h/1te/gHTgrMDrfsDuwP+nsHseFYGdGJ4Efobes8xgNvCKlLJNSlkE7AUm9sbgeoKUsjHo\\\n",
       "bTSHnyWsngNASrlMSukNvF0LZAZeh+Oz7JBS7gqxK9yeZSKwV0q5X0rpAV5Bf4awQEr5KVDbafNs\\\n",
       "YFHg9SJgzqkc0/EipSyXUm4IvG4CdgAZhOHzKAH7mgghLgfKpJSbO+3KAA4GvS8NbOuzCCEeFUIc\\\n",
       "BK4HfhXYHHbP0YnvAe8HXof7swQTbs8SbuPtCaky0C0+8L1/L4/nmBFC5ALjgC8Iw+fp8w0t+wJC\\\n",
       "iP8CaSF23Q/ch56yOuK0ENt61fLZ3XNIKd+WUt4P3C+E+AVwO/AgffA54OjPEjjmfsALLDZOC3F8\\\n",
       "WDxLqNNCbOv1Z+mGcBvvaY8QIgZ4HbhLStkoRKh/or6NErAeIKX8RqjtQogC9PmHzYF//ExggxBi\\\n",
       "IvpfmFlBh2cCh07yULulq+cIwcvAe+gC1ueeA47+LEKIecBlwAwZSOoTps/SBX3yWboh3MbbEyqF\\\n",
       "EOlSynIhRDpQ1dsD6ilCiAh08VospXwjsDnsnkelEL8GUsqtUsr+UspcKWUu+i/pWVLKCuAd4Foh\\\n",
       "RKQQIg8YAnzZi8PtFiHEkKC3lwM7A6/D6jlAd7sBPwcul1K2BO0Ku2fphnB7lnXAECFEnhDCBlyL\\\n",
       "/gzhzDvAvMDreUBX0XKfQuh/bf8D2CGlfCJoV9g9j4rAThJSyu1CiFeBQvQ01o+klL5eHlZ3/E4I\\\n",
       "MRTwo7spb4OwfA6Av6C78z4KRMZrpZS3heOzCCGuAJ4GUoD3hBCbpJQzw+1ZpJReIcTt6G5dC/BP\\\n",
       "KeX2Xh5WjxFC/BuYDiQLIUrRsxO/A14VQnwfKAHm9t4Ij4mpwHeArUKITYFt9xGGz6MqcSgUCoUi\\\n",
       "LFEpRIVCoVCEJUrAFAqFQhGWKAFTKBQKRViiBEyhUCgUYYkSMIVCoVCEJUrAFAqFQhGWKAFTKBQK\\\n",
       "RViiBEyhUCgUYYkSMIVCoVCEJUrAFAqFQhGWKAFTKBQKRViiBEyhUCgUYYkSMIVCoVCEJUrAFAqF\\\n",
       "QhGWKAFTKBQKRViiBEyhUCgUYYkSMIVCoVCEJUrAFAqFQhGWKAFTKBQKRViiBEyhUCgUYcn/B3lB\\\n",
       "WZ1M+BzuAAAAAElFTkSuQmCC\\\n",
       "\"\n",
       "  frames[1] = \"data:image/png;base64,iVBORw0KGgoAAAANSUhEUgAAAbAAAAEgCAYAAADVKCZpAAAAOXRFWHRTb2Z0d2FyZQBNYXRwbG90\\\n",
       "bGliIHZlcnNpb24zLjUuMiwgaHR0cHM6Ly9tYXRwbG90bGliLm9yZy8qNh9FAAAACXBIWXMAAAsT\\\n",
       "AAALEwEAmpwYAAA1b0lEQVR4nO3de3xV1Z338c/KjVyAJISACReDSASl4RYUL9VA1bbK1BTHztja\\\n",
       "sWiJtXaG1tbW2mcKdFrrU1ucPs+0TKGV9hksbW2Z1IHaeksEBISggCgSwHAJiZDLSUJyTu7r+WOf\\\n",
       "c0hCEgIkOZd8333ldc7ZZ+9z1g4v8+1a67fXNtZaREREQk1EoBsgIiJyMRRgIiISkhRgIiISkhRg\\\n",
       "IiISkhRgIiISkhRgIiISkhRgIiISkhRgIiISkhRgIiISkhRgIiISkhRgIiISkhRgIiISkhRgIiIS\\\n",
       "khRgIiISkhRgIiISkhRgIiISkhRgIiISkhRgIiISkhRgIiISkhRgIiISkhRgIiISkhRgIiISkhRg\\\n",
       "IiISkhRgIiISkhRgIiISkhRgIiISkhRgIiISkhRgIiISkhRgIiISkhRgIiISkhRgIiISkhRgIiIS\\\n",
       "khRgIiISkhRgIiISkqIC3YCBMnr0aJuRkRHoZoiIhJTdu3dXWmtTA92OvgjbAMvIyKCoqCjQzRAR\\\n",
       "CSnGmGOBbkNfaQhRRERCkgJMRERCkgJMRERCkgIsSFRVVV3QdhGRoU4BFgSWL19OVlYWxcXFnbYX\\\n",
       "FxeTlZXF8uXLA9MwEZEgpgALsOXLl7NixQrKysqYP3++P8SKi4uZP38+ZWVlrFixQiEmItJFUAWY\\\n",
       "MSbWGLPTGLPXGPOuMWaFd/soY8zLxphD3sfkgWqDp76Zt146hqe+eaC+ws8XXj6+ENu0aZM/vHwU\\\n",
       "YiIinQVVgAFNwAJr7QxgJvAJY8w84HHgVWvtFOBV7+sBcWBbOds3HOHAtvKB+grAmdtas2ZNp225\\\n",
       "5OIuc7Nw4ULcZW5yye30/po1azQnJiLiFVQBZh313pfR3h8L3AX8xrv9N9DlL3s/mnZDGtcvmsy0\\\n",
       "G9IG6isASElJoaCggPT0dMAJr6Us5RmeIYMMnuEZlrLUH2Lp6ekUFBSQkpIyoO0SEQkVQRVgAMaY\\\n",
       "SGPMHuA08LK19k1grLW2HMD7OGagvj9ueAyzb7+cuOExA/UVfpmZmf4QK6SQoxwlgwzWspYMMjjK\\\n",
       "UQop9IdXZmbmgLdJRCRUBF2AWWvbrLUzgfHAtcaY6X091hiTZ4wpMsYUVVRUDFgb+1NmZiarV6+m\\\n",
       "hhpWsKLTeytYQQ01rF69WuElItJF0AWYj7W2BigEPgGcMsakAXgfT/dwzGprbba1Njs1NSTWoqS4\\\n",
       "uJi8vDySSGIZyzq9t4xlJJFEXl7eOSX2IiJDXVAFmDEm1RiT5H0eB9wKvA+8ANzv3e1+4M8BaeAF\\\n",
       "8lU0uk41dFvZuO/t/dx0w82UlZWRQ45/2HAxi/3DiTnknFNiLyIiYKy1gW6DnzEmC6dIIxInXP9g\\\n",
       "rf2eMSYF+AMwETgO3GOtre7ts7Kzs+1gr0bvqW/mwLZyfwHIK79+j+P7q0lMjaO2wsPM2yYQNyKG\\\n",
       "aTek4W46w7SrrqGi6pT/+FxyKaSQGmpIIokccsgn3/9+eno6+/btUyGHiAwYY8xua212oNvRF0F1\\\n",
       "OxVr7T5gVjfbq4CPDX6LLoyvBL+lqY0Pj9RS+r7LH14AH+ypoK6iEYDZt1/OkrwlPPnD7/uPzyef\\\n",
       "9PR01q1eR15eHvll+Z0+f8mSJQovERGvoAqwUOapb6a1qY0Zt03whxfApJmjgbPhlTQ2jkkzRuOp\\\n",
       "b+bunC8C+EOsY7VhQUFBp4uZly1bpguZRUQ6UID1kwPbytm16SgTp4+i9H0XUdERXD4zhdbmdo7t\\\n",
       "r+JMVSMxcZHUnPLw3tYy4kbEsH3DEe5e9EWiYyJZs2ZNp1L5jiG2ZMkShZeISBdBNQfWnwZ7Dsw3\\\n",
       "/zVpxmg2PL2bxvpWMDiXYXcxLD6SK+eOJTomkqiYSLLmj8fddKbb4cGqqioNG4rIoAmlObCgqkIM\\\n",
       "VR2LN5LHJnDHl7N6DC+AJncb775eRnV5A0WbjnJgW3mPIaXwEhHpnoYQ+0HH4o3oYZGMSk/oMbwA\\\n",
       "4hNjSEyNI/uODMZlJg/4slUiIuFIAdYPfAHkOdNM0aajREaZXvf3nGnGXdvMB29XcOPdUwajiSIi\\\n",
       "YUdDiP3EfaaZw7udBULaWnufV7TtzuN7b5zEdaphoJsmIhKWFGD94MC2cva+fIL66qYLOq7Z3c7r\\\n",
       "6w8OUKtERMKbhhD7wbQb0nCfaeaDtyo4U9XYp2MioyNoa2kndcKIAW6diEh4Ug+sH8QNj+Gmu6fw\\\n",
       "d/8ygxEpsX06pq2lnYnTRzH745cPcOtERMKTemD9wFdG7znT3Oce2MTpo7j1C1cPyn3HRETCkXpg\\\n",
       "/cBXRl95wrmZ9PipyYy9whkaNN0UJCYkx3DTPVPYV1DKzv/54JxV6kVE5PzUA+sHvjL6tCsTiYgy\\\n",
       "3HSPUxq/9flDVBytw1Pf6t83aphheNIw9r12gv2vl3m3RTL7dg0liohcCPXA+kHc8Bhm33455Ydr\\\n",
       "Ob6/mpK9lcQmRDP28pG0tjo189GxEYybmkRrk+VUyRkO7XJK7sdP1YXMIiIXQz2wfuKpb6alqY25\\\n",
       "d2Yw7YY0/+K+ALHDo/jYF67mdEkdze4WKo430ORu1TyYiMglUID1kwPbyinadJTrF00mbrhz08rW\\\n",
       "pjYskDV/vD/QElPjAKfnpfASEbl4CrB+4hsG7DgcGDUskmk3pPkD7WSxi+P7q9XzEhHpBwqwfuKb\\\n",
       "B/PxVSaCc/fluOEx3PqFq/2r1iu8REQujQJsgHTXI/P1xBRiIiKXTlWIA8TXI+saUr6e2YFt5QFq\\\n",
       "mYhIeFAPbJB11zMTEZELpwAbZF3nykRE5OJoCFFEREKSAkxEREJSUAWYMWaCMabAGHPAGPOuMWap\\\n",
       "d/tyY8xJY8we788dgW6riIgEVrDNgbUCX7fWvmWMGQHsNsa87H3vGWvtjwPYNhERCSJBFWDW2nKg\\\n",
       "3Pv8jDHmADAusK0SEZFgFFRDiB0ZYzKAWcCb3k1fMcbsM8Y8a4xJDlzLREQkGARlgBljhgN/Ar5q\\\n",
       "ra0DVgGTgZk4PbSf9HBcnjGmyBhTVFFRMVjNFRGRAAi6ADPGROOE13PW2g0A1tpT1to2a207sAa4\\\n",
       "trtjrbWrrbXZ1trs1NTUwWu0iIgMuqAKMGOMAX4FHLDWruywveOyFZ8G9g9220REJLgEVREHcCPw\\\n",
       "eeAdY8we77YngHuNMTMBCxwFHgpE40REJHgEVYBZa7cCppu3/jLYbRERkeAWVEOIIiIifaUAExGR\\\n",
       "kKQAExGRkKQAExGRkKQAExGRkKQAExGRkKQAExGRkKQAExGRkKQAExGRkKQAExGRkKQAExGRkKQA\\\n",
       "ExGRkKQAExGRkKQAExGRkKQAExGRkKQAE5FuVVVVXdD2oSTYfjfB1p7BogATkXMsX76crKwsiouL\\\n",
       "O20vLi4mKyuL5cuXB6ZhQWBAfzcNVfDGT53HYGhPsLPWhuXPnDlzrIhcuGXLllnAAjY9Pd0ePHjQ\\\n",
       "WmvtwYMHbXp6uv+9ZcuWBbahATDgv5ut/27tspHOY4DaAxTZIPgb3pefgDdgoH4UYCIXruMfxI5/\\\n",
       "GDdu3NjpD+JQDLFB+d3UVzrhVV8ZsPYowILgRwEmcmEqKyvP+cOXS65NIskCNokkm0vuOX8wKyvP\\\n",
       "/8c21AXb72Yg2xNKAaY5MBEBICUlhYKCAtLT0wHIJZelLOUZniGDDJ7hGZaylFxyAUhPT6egoICU\\\n",
       "lJQAtnpwBNvvJtjaEyjGCdzwk52dbYuKigLdDJGQU1xczPz583GXuf1/EH2OcpSv8TXi0+MpKCgg\\\n",
       "MzMzcA0NgGD73QxEe4wxu6212QPU5H6lHpiIdJKZmcnq1aupoYYVrOj03gpWUEMNq1evHnLhBX38\\\n",
       "3Xz1TjLHDU5PZ6j/WynARKST4uJi8vLySCKJZSzr9N4ylpFEEnl5eeeUbQ8Fffrd/NsvKX5hZf99\\\n",
       "aS+l9UP930oBJiJ+viGpsrIycsghgwyOcpTFLOYoR8kggxxyKCsrY/78+WH7h7E7ff7dnLHM//qz\\\n",
       "/fe72bMOXv6u83gx7Qnnf6tAV5F0/AEmAAXAAeBdYKl3+yjgZeCQ9zH5fJ+lKkSR82uorbE7//xH\\\n",
       "21BbE3SVdj4t1dW28pe/tC3V1QP6Pb0ZtN9NfaW1r/3A2teedJ53fT0I7UFViBetFfi6tXYaMA94\\\n",
       "xBhzNfA48Kq1dgrwqve1iFyidwtfYfNza3m38BVSUlJYsmRJp/fzySc+PZ6NGzcSnx5PPvmd3l+y\\\n",
       "ZMmAV7bVbtjA6ad/TO2GDQP6Pb0ZtN/NnnXw+v+G159ynvtex8RDgvezGqpIeX8dS+7/3MC3J9gF\\\n",
       "OkF7+wH+DNwGHATSvNvSgIPnO1Y9MJHOfL2tytIT/l5Xxx6YT7CtxDEQPbCL/cwB+934LmA+XXxu\\\n",
       "D8x3YbPv+WtP+lfrWLb44+e2p77SHvztEzY97TKtxBGwhkEGcBwYCdR0ec91vuMVYDKUdBdE1lpb\\\n",
       "WXrC/umHy/yh9ePP3Gn//fN32x9/5k7//m/8fp3d+od154RYxz/QPr4/1KG+AkflL39p37tqqq38\\\n",
       "5S8v+NgB+d289gMnlH7zqc6rcHQMMN8+f/tOp1BbtvjjNj3tsrPt8S5HdfC3T1xUe0IpwILyOjBj\\\n",
       "zHDgdeAH1toNxpgaa21Sh/dd1trkbo7LA/IAJk6cOOfYsWOD1WSRgNr1wp/Y/Nxabv7cYuZ+6m7/\\\n",
       "9g1PLafk7SImzcrmls9/kXXf/iqtTY3EjUzkCz/5uX8IEeD6u+/lhs+cHZaqqqrqdsipp+0XotXl\\\n",
       "onbDBhIXLSIq+Zz/lAf883z7D1+wgPrXXuv1uO4+u8ffzfFDpJz4C8y87+yQX1cNVc7Q4Mz7nNc7\\\n",
       "V8PRLXDsDef1+Llw7++d4wt+6AwnXv8vcGoffFDoPB8+utN3dGpPh8+vauSC/61C6TqwqEA3oCtj\\\n",
       "TDTwJ+A5a61v0PuUMSbNWltujEkDTnd3rLV2NbAanAuZB6XBIkHgmpxbOz36XPfpf6Tm1IfMvP3v\\\n",
       "eGXNf9Da1AjAsIQRuMrLKdn7tn9f95k63nj+OYyFmZ9Y2OMfvv6YR/HNawGkPPjgoH9eVHIyKQ8+\\\n",
       "SNWvftXtca0uF6516wADWCp/9vNO+/T4uznxF3j5u7Se8VB7MtUJvZj2zoGV/yU49BI0N0DZ285z\\\n",
       "gKg4aPVA6S5n/xuXQovbee/Edmf75Tc6Qba90Nl+49Jz25OQcnZ7wnl/FSEtqALMGGOAXwEHrLUd\\\n",
       "L6R4AbgfeMr7+OcANE8kKLnranm38BWuybmV+JGJnd4rO/gurrJS9rz0P5Qe2O/fXlNeyu+++41O\\\n",
       "+54uOUL5ofcBiI6N5ZqcW3v83L58d28SFy3q9HipLvbzhi9YQP0bb9BaXU2ry0VUcjKtLhcnH/06\\\n",
       "7u3bARj9yCOMfuQR2t3uTvv4e2UdA2rmfdDcQO1L73D6v9+iYedO0j89iagdP3QC68SbTi9q5AR4\\\n",
       "+zmoK4WR4yEhFVobobYUYoZDTBL8n1kQ7U2g9razjf6gEKbcfjYQh7CgCjDgRuDzwDvGmD3ebU/g\\\n",
       "BNcfjDEP4syL3ROY5okEn47DgL7hw6qTpbz27H+SnD6O7IWL8NSfITounhaPu8fPqTzhDLmPm3aN\\\n",
       "P7y6fm5fvrsvfD2g/hKVnEziokXnHUbsOnTY7nbj3rYd9zYnrMY+9hi1Gzb4wytq/HjaPR7AUv3s\\\n",
       "Wto9jUSljKLd7aHyZz+j3e2BEzvgSAHJSzxEfeJxwJDIX2i4YhINr2+mNtFFyq3/Ake3nh0mrDtx\\\n",
       "tlF1pc6PT/MZePFRaG89u814/1SPmwOZH+99iHIICaoAs9Zuxemzd+djg9kWkVDRdfjQXVfLn3/8\\\n",
       "fVxlpRzfv4dJs7Ipefv864K2NHoASJt8FfEjE3scluztu3vS33Ne3enLMKJvnzOFr+PZtYvEuxdh\\\n",
       "khKxNbU0HjgAeHtlW9/Atrbg2VVE9bPPEj1xIgCNBw7g3r6d0Y98mVEPPEDtxv+h5Zi31mxPE6nD\\\n",
       "fghHNxM1rJ30GSXUjogjMfJlKK2H42+cbUh0ghNQbU3eDRFA+9n3feEVnwruCkjPgqsXnhtcHefT\\\n",
       "hmCgBVWAiciFix+Z2Kn3827hK7jKSkm6LI3Ls2YDMGJ0KmcqK/r0efte+xue+jNExcRQeeIY7tpa\\\n",
       "5t51d7dDhB2/u7fhxP6e8+pO4qJFtFZVU7/1DYYvWMCwSZM6vd/qctHu9jD6kS/T8OZOABqKirA1\\\n",
       "tUQkJREzaRJNJSWcfOybNO3fT/QVVxA1fhyRSck07d9P5NixNB87xsi77oQTb9J4yjjhZQxYS9OB\\\n",
       "XRxcX0z6ddXEZYzDdWw4tJ6EmBHOXFdHxnQIL+gUXiYGxkx15rpGZ8LxCogf7Z/X8muoOjufBue+\\\n",
       "PwQowETCzDU5t9LS2Ij1jmXs+OP6Czq+2d3Au4Uv+1+fPLCf+MTEc4YIuwZWb8OJXeeo+qNH1l0l\\\n",
       "oa+HdOKhL5Hx+991mq9qraqm+tlnibp8IikPPEjT4cPETv8I7ePG4d62nZrnfkvD1q3eHhW0fPCB\\\n",
       "8z1NTtC0nToFQN3fKqCxBRKGOQ3xVnKfefMIEEnp5hSidjfT2nAGGIm7spH40W0kZ0YQNcwbVM31\\\n",
       "PZ+YbQZXCdzyLZh8GxR+H9xVUPAkXPvQ2Z7WnnVOeA3h+TAFmEiYiR+ZSHRsLJufW8v1d9/LnL9b\\\n",
       "xP7XXqKpoZc/mr2IjovnijnX+V+762p5+28bKXv/AMf37wGcwOptOLHrnJevR9awcyfpTz3VbYid\\\n",
       "L+Rc656j8mc/o37rG/45q9hp03Bv307L8ePUbthAyoMP+r8r/vrrnc89dpyKn/477TU11G/axOhH\\\n",
       "HsG2OMOFLceOM2z6dJqKi6G52fmimlr/d5rYWKz1hlBDE92LoLXBWeQoanQC7lPgPhVLRJQlZVpD\\\n",
       "D8d00XwGastgw4NQc8wp3ACISTjb0/KF1hAdPgQFmEhYuibnVpqbGsE6PYiLCa+IqGjaW1to8bj5\\\n",
       "YPebpIwbDzhDlL5e3aRZ2f7A6jqU2ZvERYto2LnTKXLwBk1X5x92dHo+sdOmMvymG/29u4i4WMCc\\\n",
       "0+sbvmABNX/8I569+4ieOJHmkg8wkVEkfPQm3G+/BUDc3LlEjh1Dk3c+DICWlrPf2NgIkT1N03fV\\\n",
       "jokdTkR0A/GX1dPeGkFTXST1J2NJvMJztjfWkz3r/OdIZCzM/vzZ0Bric18+CjCRMBQ/MpGYYU4v\\\n",
       "LOmytAs61kREEJ+UzC2fe5D9BS+RnD6OlsZG3HW1/uKO5qZG//ViF1I+7xOVnEz6U0/5e1gddRwa\\\n",
       "hJ5L45Pvu4+I+Phzemip//zP53yXr0Ix5Ytf9Adjwi030/D6Zk5+4zFaS0sZNn06LadP4dm169wv\\\n",
       "S0iABm/vqa2vl5hG0FLqDDvWn4inngg81VE0lMcB9KE31uF72hqdnhg4t1ZpbnDWSIQhOfflowAT\\\n",
       "CTO+uSnfsF/6Vdfw++Xfwna8lqgHI8eMZdLMbPa+tInq8hPc86/f96/yER0by9xPOcUcN97zufN+\\\n",
       "1vn0VErf14KP3krxuw4/dvzM4QsW0LBzJ6MffhiAhtc3A9BSWkp7TQ0RqanYujpsfDy4XM53JSbS\\\n",
       "2tDH4b9uRRAZ38LYWXXUj2km8QpP3w8dOQ5GT4GPfhP+9MDZ1Thu+96QnfvyUYCJhJmuxRRVJ0tJ\\\n",
       "GT+RyhNH/QUHkdExtLU0YyKjsG1nrzdKGptGdIxTnGC8HYC+lsr3l/64yLlrCHb8zNoNG2h4fTMJ\\\n",
       "117L2Mcfp9ztXOeVsmQJrueeI3rcOGp+u56YSZNodrmITE0l/vp5uLfvoLWs7CJa0w5EYNuh7lgc\\\n",
       "7a0GV3E8yZnu8w8jAky/G278qlNx6JsLM3ZI97x8FGAiYaZr4Lz+X7+k8ngJADHxCcTEx3Pbg1+h\\\n",
       "qvQo7tpaijZuYJh3+/F39pB+1TRu/tzii5rb6g/9cZGzL7Bibr+NXS/8iWtybvV/Ztcw8+zaxehH\\\n",
       "HqH50CHGPv44H37v3wBor3fmDSPi4qj7k7OqXdT48bSWei869pbPn59T0NHeZqh8d+TZrX0p6kib\\\n",
       "5YSXr+Jw1BVQ/cHZFTqGOAWYSJjxBY67rpZdL/yJ6z79j7S1tNLW2srJ9/fT7G6gqvSof5+qk8cp\\\n",
       "ebuIJncDk2ZlM+vjFzevFUx8Iegb/oSzpf0dA9I3nNjucVbWaNi5E/f27URfMYmxjz9O9dpfEzNp\\\n",
       "EhFxsUTExtLuaaT62WeJv/56Yq6YRM1zv+17o9oiiB/bSMzwVqJi288dRoxOgLYWaPdWPyZdDvf9\\\n",
       "yXne7D5bVr/lRzD97y/p9xMuFGAiYco3lHjz5xZzz79+H3ddLXv+uhFr6NS7+sSXv+bfHg7h1VFv\\\n",
       "w5+tLhennnqKhtc3Ezd9OmMe+wbDFyzgFM68WPOhQwy/6UZOP/1jxjz2DVIefNBZCzFllL8X59m7\\\n",
       "j6b9+8/57G5Zi/tULLFJZ4iIshA3CtorvW9GQIuvNxYJtMHwMd6V6jfDsW1OgB152emJpU6FhNGq\\\n",
       "Qgx0A0RkYHT94x0/MrHT7VJ8etoeDnob/vTPhd1yM8n33eevZOyuOtL33FfR6Fr3HGBJuO5amvbv\\\n",
       "9w8tmthYp9S+Y9Wij40EwFM9DE9FDCQnk3KZN8BGXgZxo53VN2hzijYmXO/cSsWn2ePcmRng7XXg\\\n",
       "qXae++bChmBpvQJMJEwN9txVqOk4F9axDL/rHFzX+TjfBdQAox/5MmMe+wZxc+ZQ9sQTtHxQQsJN\\\n",
       "1zP6o2M5/bcSmk6U0V5RARFt0O4EWNyoJkZMSyVxXAW0AZHxUFcGnjrnC4aNhE+tcnpb46+FUmfZ\\\n",
       "KwxwbR68+yeoPOSEXMcqxD3r4OXvOs+HSIGHAkxkCLvY26GEgwstFvGV5jur00P8Ddf7e25Vv/qV\\\n",
       "E1633MzY29Kof341CZcvwPOWd/1Jb3gNGxtNY000l00u5oy15CeOILe+kWSAFu/F5k118Lt/BHel\\\n",
       "U7ThEx3n9Kz+YT289ATc/mTnnlbHlTmGiIhAN0BEAsc3T/Zu4SuBbkrAtLpcVP3qV7R6r/nqia80\\\n",
       "PyIuljGPfYNxP/mJv+eWuGgRYx77BulPPUX9yThO702EJjfxV10GQGS8s5pHS0MM7lOxlL8/lTdL\\\n",
       "L2dNbBL5w2OdL4jzhlFskhNe0fFOxeGoyXDDPzvrIALEj4KMm5zHjnw3shwiw4egHpjIkDbY13gF\\\n",
       "o94unO54QXRPQ47QuTeXeJWFGbUkxheQ/MkbqU1LprX8ONUHo2mvd+bFrI3k8s1NfLc9gusmeufK\\\n",
       "ooY5w4KzFjsL+La4vWXzR+DDd85+2RAcKuyJAkxkCOtunmyoDSv2duF013Dr05Dj9HtoH/82VWXH\\\n",
       "iSh+m+TPfg6qDxFxw0wait7G885B4oeVMHJGO1NSPUQlXAYmAjDO3NYbK53wGj0FMj8J2/6PcwHz\\\n",
       "nnVOYA3BocKeKMBEpJOLvctyqOptLuxiVgWp/VshlZv2eV+NJKLoJCnDXiN53nW0v30YM7aRpKuj\\\n",
       "GTZlKq4TO8hPTia3wU1yVYlTWn/FAnCfhk/+GFzHnIrDq+44G1i+oULRHJiIdHZNzq2dVuIYynzh\\\n",
       "1pd7lvnm0oYvWOC/dUv8ddm0Tx/DX+uu5eS2Cqr3tOE+FUt980z42PfIH3s5KyPPkN9aCfGjcTXV\\\n",
       "sPbEi7hsO+x/Hv76mFMuX/rmkJrb6iv1wESkE5XfXxzfcGO720387NnEf2QqySO288pLW7n8zVjK\\\n",
       "r6glEYhMgNbDu2j925PknjoG46aRGwFk3kJ+ewUrz7wH1W+zuGQzpM925sE+tSrQpxeUFGAiIv3A\\\n",
       "N8zY7naWpRpzzzyi6l5j7o03s3tcMld84KGF/bQ1QPX7I2i5fiovzx5Fbux4krf+O7j+i9wFT8C4\\\n",
       "bHJ3PgecgbK3nFXnJ84N6LkFKwWYiEg/8A03trpcNEXDX6Y2sjBiKilzvsic3+VzesOPiZo5naqq\\\n",
       "g6QluCjIOMnKqrfhI7NZfMu3AEPynC+yeM86qCqBK3JgwjwVa/RCASYi0o+ikpN5+aYEVu7+BWdm\\\n",
       "PMyIvb/jljo3ox95hL0ndjJuTwtlU8Zxx9yvcqZuB9Xuan5+pph75ywlec86yLzD+SBfcHVcHmoI\\\n",
       "LhfVGwWYiEh/8QZM7rSFAHhaPRz4r5+TXdBOxFcfoSnaAJB0qBbPS9uIuymBVYd+D0DcK4+yuGSP\\\n",
       "c7fl+U84n/fGT89e8zXzPueeYIdecl6rElEBJiLSb7wXGScDi29ciqvRxcbPW0bMsBRkGVbZ3Sz5\\\n",
       "ZAbHzxzjiizD7DGzmZgwjhsiR5IblwEle3AWPfTqeM2X755gU27XsKJXUAWYMeZZYCFw2lo73btt\\\n",
       "ObAE8C4qxhPW2r8EpoUiIr3ocpFxcmwyC2d/lvyR+eRMyKF1ZDyz757Nrn2/4J+uuYOndz3N8YaT\\\n",
       "XD7uCpKv/xaMGOcc6xsq9A0ndv1sDR8CQRZgwK+B/wD+X5ftz1hrfzz4zRERuQDdXGScfziflbtX\\\n",
       "ArB4+mJ+vufnbDm5hclJkxk3fBwTh0/ks1M/y9qSF8id808kxyafHTo8urXzkKGGDTsJqgCz1m42\\\n",
       "xmQEuh0iIv0l98pcourczN/aQGvSETi+A4DXDm7geKtzC5Uf7foRJXUlgBNyZN7hhNdHv+ks3Ovr\\\n",
       "famIo5NQWYnjK8aYfcaYZ40x578kXkQkSCTHJnPHgVjO/PvPeOWZR/jkvk181CRwvLWOeXHpzBkz\\\n",
       "h5K6EuaMnYOn1YOr0QXFf3F6Xie2dV5h3reQ7551gT2pIBFUPbAerAL+DbDex58AD3S3ozEmD8gD\\\n",
       "mDhx4mC1T0SkV4mLFrHrw118b9RWlkzI5Qezvsz63T+Fy7LwRBh2n95NhbuCVXtXERcVx+KuC/Z2\\\n",
       "nRNTEQcQAgFmrT3le26MWQNs7GXf1cBqgOzsbDvwrRMROb+o5GSu+/oPWXI4n9wrc0mOTSbONZ+V\\\n",
       "u1cy77J5zEubx47yHcyLS8fjrsIVGUFyx/ku3UKlW0EfYMaYNGttufflp4H9gWyPiMjFSI5Ndua3\\\n",
       "vHKvzGXXh7vYcnIL89Lm8XDyLPiggFWeMuLiU8i9Mpf8935Lbn09ydMWQbPbuUasoUrzX15BFWDG\\\n",
       "mPVADjDaGFMKLANyjDEzcYYQjwIPBap9IiIXpKEK1+5fkj98OLlXf9apMARcjS7Wv7/eX4W4o3wH\\\n",
       "U6f8A+83nuIL4z/qhNfhfFa+859Q7WJxZCzExDu9sJgE9cK8girArLX3drP5V4PeEBGR/rBnHfm7\\\n",
       "/y8rRyXjiTDERcWRe2Uu699fz6q9Z1eYnzRyEu/UHma3p4yDx1/i1nE34/mggIev/Ay5bTEw8z5c\\\n",
       "TTXku/aRO20hqmRzBFWAiYiElZn3kdvWCMOH4wH/9WA+aS0tRMQmUVJXQkpcCokxibiaXPzrG09Q\\\n",
       "0lLLoxHRJC90/j98fskLrKzaCWWbWTxqcgBOJvgowERELpKr0UV+h8KMcySkkHzzt1js3TcuKo6c\\\n",
       "CTm8WPIi2aNnUFS5F9oaSB6WTNGpIrLHZhNlovjK1M/z1ju/IfeGJ/wflXtlbqdHCZ3rwEREgo5v\\\n",
       "lY38w/l9PubFkhdZtXcVUVFxAIyJG4OryUVaQhpFp4qIjoxm4tiPsHj+j0g+sNEp2uBsEUi3QTlE\\\n",
       "qQcmInKRLqRX5Au7h2c8zKNzHiVnQg6FJwpZ//56AE41nGJs3Fi2nNzCNzd/kx/FXknya086B6to\\\n",
       "o1sKMBGRi9S1NL43HcMuOTbZWXEDmJU6i/KGctpp55THuex1R/kO8j8yk8W3fQ/XtIXk71/b8zDl\\\n",
       "EF5eSgEmIjIIOoadq9HFd7Z+hy0ntzAuYRwAEUQw77J5lJwpYUz8GHLSboAPNpN/9K9OOT10H5ZD\\\n",
       "+CJnBZiIyCDoWPCRfzifLSe3MGnkJP8ivu20s79qP3UtdZQ3lFO4+z+YVPRHchc8gWfGw/51Es/p\\\n",
       "hXVddmoIUYCJiAwC37VfnlYP9051LnnNmZDDk28+yY5yZ4X6tIQ06mrqSEtIo3rUJFwLniB5zheJ\\\n",
       "K3mBlbtXOuskdu2FdXMLl6FCVYgiIoPMN5w4KXESP7r5R2SPzQYgKiKK8cPHU95Qzq8P/Z78UWMg\\\n",
       "wVlW6tE5j/ZYLFJVVXVB28OFAkxEZBDcO/VeHp3zqL/3RUOVc+NKd7V/n3er36W0vhSA7LHZnYYN\\\n",
       "eyqhX758OVlZWRQXF3faXlxcTFZWFsuXLx+wcwo0BZiIyCA4J4S8xRfrt66g6FRRp31npM5g7mVz\\\n",
       "WbV3Va/XmC1fvpwVK1ZQVlbG/Pnz/SFWXFzM/PnzKSsrY8WKFWEbYgowEZFB5Gp0sXb/WlzTFsJt\\\n",
       "34PLsnrc9+EZD5MzIYe1+9dSUlviHOctv/eFl48vxDZt2uQPL59wDTEFmIjIIPAF1/r31zurd5Rt\\\n",
       "hhuXcmPGbYwfPp7JiZNJiEoAIDoi2r/Y75M7nmTl7pX+x/zD+VRVVbFmzZpOn59LLu4yNwsXLsRd\\\n",
       "5iaX3E7vr1mzJuzmxFSFKCIyCLquxOEryPjFvl/4573mpc1j6qipNLY2ArCtbBt7K/YCMDVlKjeM\\\n",
       "u4GcCTm8cOIF8v+aT+4ncikrKyOXXJaylLu4ixWsYBnLyCDD+V7ySU9Pp6CggJSU8LrQWQEmIjII\\\n",
       "uluJY+3+tTyU9RAt7S20tLWwo3wHe07vobGtsdOx89Lm8cD0B0iOTWbt/rWs3L2SR+c8SkFBAfPn\\\n",
       "z6ewrJC7uIsMMljLWgCOcpRCCv3hlZmZOdinPOCMtTbQbRgQ2dnZtqio6Pw7iogEQMcgWjx9MSW1\\\n",
       "Jfz9n/+eZtsMwDWjrmFu2lziouK4d+q9nW6G2XEF/E2bNrFw4cJO4QWwmMUc5SgbN27kzjvv7HO7\\\n",
       "jDG7rbXZ/Xu2A0NzYCIiAdD12q4XS170hxfAe9XvkRqbyv7K/dQ01fi3d6xmLC4uJi8vjySSWMay\\\n",
       "Tp+/jGUkkUReXt45JfbhQgEmIjKIfEOHgD+ISmpLeOHwC532s1ie3v00W05uYcW2FZ0qEKFzqXwO\\\n",
       "OWSQwVGO+nteGWSQQ845JfbhRHNgIiKDyFfM4Wn1+Le9ffptTjac7PGY43XH/cd8eeaXqaqq6lQq\\\n",
       "n08+AIUUUkMNX+Nr5JDj3+4LsX379oVVIYd6YCIig8g3dOhp9bBq7ypW7V1FpbuSaBMNQFJM0jnH\\\n",
       "VDRWAPh7YCkpKSxZsqTTPvnkE58ez8aNG4lPj/eHl8+SJUvCKrxAASYiMqh8c1hx3jsyAxyuPUyL\\\n",
       "bQHA3eLu8djDNYf9z5c+vpQ7HrrD/9pXbXjnnXdSUFBAenq6/71ly5aF5YXMGkIUEQmAe6fei6fV\\\n",
       "wzuV7zBxxES2l23nQ/eHRJgI6FIcbjBYLC3tLf61EfMP53P8+uOkfphKy/aWTqXymZmZ/hL7JUuW\\\n",
       "hGV4gcroRUSCQkltCf/wP/+Ap83T636+ysX176/H0+ohLiqOj6d+nMnjJp+zb1VV1QUPG4ZSGb16\\\n",
       "YCIiQaDwRCGeNg9RRNFK6znv3zHpDi4feTk5E3L8d3P2XUPWk3Cb8+pKASYiEiCuRhfr31+Pq9HF\\\n",
       "OxXvkBCVQENrQ7f7bi7dzNM3P839L96Pq8nFR8d9tMf7gw0VQRVgxphngYXAaWvtdO+2UcDvgQzg\\\n",
       "KPAZa62rp88QEQkV+Yfz/Yv2nk99Sz1ffe2rNNkmEqIS+MFNP+j2/mBDSbBVIf4a+ESXbY8Dr1pr\\\n",
       "pwCvel+LiIS83CtzmZc2D4C0hDSuSbmm1/2bbBMALe0t1DTVnHNx81ATVD0wa+1mY0xGl813ATne\\\n",
       "578BCoFvDV6rREQGzqwxs5g1Zhb3Tr2X43XH+acX/4l22ns9prm9me9t/57/Rpi9zYOFs2DrgXVn\\\n",
       "rLW2HMD7OCbA7RERuWSuRhff2fodVu1dRVxUHDVNNTzw1wfOG17xkfGA0wvruJbiUBQKAdZnxpg8\\\n",
       "Y0yRMaaooqIi0M0REelR/uF8tpzc4i/GeHLHk50W8+2OweBucy50njVmlr/nNVSHEoNqCLEHp4wx\\\n",
       "adbacmNMGnC6px2ttauB1eBcBzZYDRQRuVBd7w+WkZjBjg939HqM9V7hPGP0DB6Y/gBwdm1FGHpD\\\n",
       "iaEQYC8A9wNPeR//HNjmiIhcOt+SUj6xUbG97j86djSNrY3Ut9YTHRntr0DsGIRDTVANIRpj1gPb\\\n",
       "gauMMaXGmAdxgus2Y8wh4DbvaxGRsNJxbcSuEqISqGysxBgDQEtbCz/f83P/slK+27IMNUHVA7PW\\\n",
       "3tvDWx8b1IaIiAwi3/zVF675AgAf1HzAlpNb/EOGVyZdyd7KvZxpOUPysGT2Vu5lb+Ve4qLihtyw\\\n",
       "YUdB1QMTERkKfDe19AWX74LmIzVHeGD6A1jv/yaOmMjDMx7mSzO+RFpCGmnxaTx505M8PONhHp7x\\\n",
       "8JAcNuwoqHpgIiJDQdfCi9wrc9n14S62nNxC/uF8Hpv7GACPzX2MSYmT+PIrX6a8oRyAQzWHuHfq\\\n",
       "veQfzg9U84OGAkxEZJB1LbxIjk3mBzf9gPzD+eRMyKHwRGGnpaIem/sYnlYP1lpmj5ntX8wXhl7l\\\n",
       "YUcaQhQRGWTdFV74thWeKGTl7pWdeliTEidx8/ib2X16N7/Y94tO148NZeqBiYgEkZ7K4n2vcybk\\\n",
       "MPeyuf7rx4Yy3dBSRET8QumGlhpCFBEJYl0rFuUsBZiISBDzVSyq6vBcmgMTEQliQ3mpqPNRD0xE\\\n",
       "5AIM9pDeUF4q6nwUYCIiF0BDesFDQ4giIhdAQ3rBQwEmInIBut4GRQJHQ4giIhKSFGAiIhKSFGAi\\\n",
       "IhKSFGAiIhKSFGAiIhKSFGAiIhKSFGAiIhKSFGAiIhKSFGAiIhKSFGAiIhKSFGAiIhKSQibAjDFH\\\n",
       "jTHvGGP2GGOKAt0ekUtV3dDML14/QnVDc6CbIhKSQm0x3/nW2spAN0KkPzxfdIIfvvg+AA/dMjnA\\\n",
       "rREJPaEWYCJh457sCZ0eReTChMwQImCBl4wxu40xeYFujMilGpUQw0O3TGZUQkygmyISkkIpwG60\\\n",
       "1s4GPgk8Yoy5uesOxpg8Y0yRMaaooqJi8FsocomqqqouaLvIUBYyAWatLfM+ngb+G7i2m31WW2uz\\\n",
       "rbXZqampg91EkUuyfPlysrKyKC4u7rS9uLiYrKwsli9fHpiGiQSpkAgwY0yCMWaE7zlwO7A/sK0S\\\n",
       "6T/Lly9nxYoVlJWVMX/+fH+IFRcXM3/+fMrKylixYoVCTKSDkAgwYCyw1RizF9gJbLLW/jXAbRLp\\\n",
       "F77w8vGF2KZNm/zh5aMQEznLWGsD3YYBkZ2dbYuKdLmYBLeqqiqysrI6hVQuuRRSSA01JJFEDjnk\\\n",
       "k+9/Pz09nX379pGSkhKAFku4M8bsttZmB7odfREqPTCRsJSSkkJBQQHp6emAE15LWcozPEMGGTzD\\\n",
       "MyxlKbnkAk54FRQUKLxEUICJBFxmZqY/xAop5ChHySCDtawlgwyOcpRCCv3hlZmZGegmiwQFBZhI\\\n",
       "EMjMzGT16tXUUMMKVnR6bwUrqKGG1atXK7xEOlCAiQSQbz3EnXv2k5eXRxJJLGNZp32WsYwkksjL\\\n",
       "yzunxF5kKFOAiQTQ80Un+N5zr3L7bbdSVlZGDjn+YcPFLPYPJ+aQc06JvchQpypEkUFW3dDM80Un\\\n",
       "uCd7AtVVVWTPmUVt5Sn/+xdahdjx87QslVwqVSGKSI98q9A/X3SCKyem8dVHvtTp/XzyiU+PZ+PG\\\n",
       "jcSnx3cKL4AlS5Z0qkLs+HkiQ4lWoxcZRNUNzbibW1n6sSn+Veh9Fyb7LmbuWG1YUFDQ6WLmZcuW\\\n",
       "nXMhs1a1l6FKASYyALoO6x2pqOf7G98jdcQw/lBUyuyJSYDlUzPH8cp7p/iXx54AYM2aNZ1K5TuG\\\n",
       "2JIlS7pdhcO3qr3IUKM5MJF+dqSinrz/V8SRiga+/cmp3JM9gXv+cxtHKhqIijC0tp/9b25Cchwn\\\n",
       "XB6umzSKVffNwTae6fYi5aqqKl28LINCc2AiQ1R1QzMPrN3FkYoGMlLiuSd7Ar/ZVsKRigaGRTnh\\\n",
       "FWmcfTNS4jnh8gDwZkk1v9l2tMeQUniJnEsBJtKPfrOthGPVbgBuzkzlPwuPsP7N4wDERTv/ubVZ\\\n",
       "mD0xkZWfmcm1GcmkJ8Z6jw7P0RCRgaIAE7kEvguRqxuavVuc7lVGSjyNzW2s3vIBp+ud92o8bf7j\\\n",
       "3jpey2PP72HnURcLs9JZ+rEpeJrbeObl4g6fJSK9URGHyCXwlbADPHTLZO6/IYN9pTUUHKyg1OXu\\\n",
       "9dgjlb73LfExkfz01UMAxMdEqihDpA8UYCKXwFe6fuvVY/nF60eYmzEKd3MbCdGRNLS0nedox97S\\\n",
       "Wp5c9BHcza2AUTm8SB8pwEQuwaiEGO7JnsDX/7CHgoMVTE5N4EhFwwV9xpsl1Xx/43v85DMztZKG\\\n",
       "yAXQHJjIJXq+6AQFByu4cXIKN04e3aEoo29GxkZRcLBCK2mIXCD1wEQukW/Iz93cxk9fPcRNV46m\\\n",
       "rLaxz8fXNbYy/6pUDR2KXCAFmMgl8q2E4aseLK/1MDI2irrG1vMeGx1huCwxln9eMEXDhyIXSEOI\\\n",
       "Iv1kVEIM8TGR/KGolLrGVhLjev//hyOGRTJ93EhOuDw89se9Kp8XuUAKMJF+dE/2BK6bNAqAyanD\\\n",
       "uTYjucd9Z0xI5sefmekv/NAcmMiF0RCiSD8alRDDqvvm+KsS8z56Ba3tlg9rG5mbMYoTLjetbe3E\\\n",
       "xUSx4q5rmJw6nOe/dIN/4V8R6Tv1wET62aiEGH7ymZl8+5NTwcBbx2u4J3sCdY0tvHW8hpThw/j9\\\n",
       "Q9czOXW4f/+HbpmsOTCRC6QAExkAvlDyrX8Ilv+18GrmX5XK/1p4dUDbJhIuNIQoMoDuv2ES8TFR\\\n",
       "/vuCrV18baCbJBI2QqYHZoz5hDHmoDHmsDHm8UC3R6QvNDwoMnBCIsCMMZHAz4BPAlcD9xpjNA4j\\\n",
       "IjKEhUSAAdcCh621H1hrm4HfAXcFuE0iIhJAoRJg44COF8mUereJiMgQFSoBZrrZds7ta40xecaY\\\n",
       "ImNMUUVFxSA0S0REAiVUAqwU6HiV53igrOtO1trV1tpsa212amrqoDVOREQGX6gE2C5gijFmkjEm\\\n",
       "BvhH4IUAt0lERAIoJK4Ds9a2GmO+AvwNiASetda+G+BmiYhIABlrz5lKCgvGmArgWJfNo4HKADQn\\\n",
       "EHSu4Wsona/OdfBdbq0NiTmYsA2w7hhjiqy12YFux2DQuYavoXS+OlfpTajMgYmIiHSiABMRkZA0\\\n",
       "1AJsdaAbMIh0ruFrKJ2vzlV6NKTmwEREJHwMtR6YiIiEiSEVYMaYbxhjrDFmdIdt3/beouWgMebj\\\n",
       "gWxffzDG/JsxZp8xZo8x5iVjTHqH98LtXJ82xrzvPd//NsYkdXgv3M71HmPMu8aYdmNMdpf3wupc\\\n",
       "Ifxvn2SMedYYc9oYs7/DtlHGmJeNMYe8j8mBbGMoGDIBZoyZANwGHO+w7WqcVT2uAT4B/Nx765ZQ\\\n",
       "9rS1NstaOxPYCHwXwvZcXwamW2uzgGLg2xC257ofWARs7rgxHM91iNw+6dc4/14dPQ68aq2dArzq\\\n",
       "fS29GDIBBjwDfJPOiwDfBfzOWttkrS0BDuPcuiVkWWvrOrxM4Oz5huO5vmStbfW+3IGzRiaE57ke\\\n",
       "sNYe7OatsDtXhsDtk6y1m4HqLpvvAn7jff4bIHcw2xSKhkSAGWM+BZy01u7t8lZY3qbFGPMDY8wJ\\\n",
       "4HN4e2CE6bl28ADwovd5uJ9rR+F4ruF4Tn0x1lpbDuB9HBPg9gS9kFgLsS+MMa8Al3Xz1neAJ4Db\\\n",
       "uzusm21BX5bZ27laa/9srf0O8B1jzLeBrwDLCNNz9e7zHaAVeM53WDf7h8W5dndYN9uC/lzPIxzP\\\n",
       "SQZA2ASYtfbW7rYbYz4CTAL2GmPAGWZ6yxhzLX28TUuw6elcu/FbYBNOgIXluRpj7gcWAh+zZ68J\\\n",
       "Cctz7UFInut5hOM59cUpY0yatbbcGJMGnA50g4Jd2A8hWmvfsdaOsdZmWGszcP7jmG2t/RDnliz/\\\n",
       "aIwZZoyZBEwBdgawuZfMGDOlw8tPAe97n4fjuX4C+BbwKWutu8NbYXeuvQjHcx2qt096Abjf+/x+\\\n",
       "oKdet3iFTQ/sYlhr3zXG/AF4D2cI6hFrbVuAm3WpnjLGXAW046zG/yUI23P9D2AY8LK3d73DWvul\\\n",
       "cDxXY8yngf8LpAKbjDF7rLUfD8dzHQq3TzLGrAdygNHGmFKcUZKngD8YYx7EqZa+J3AtDA1aiUNE\\\n",
       "REJS2A8hiohIeFKAiYhISFKAiYhISFKAiYhISFKAiYhISFKAiYhISFKAiYhISFKAiYhISFKAiYhI\\\n",
       "SFKAiYhISFKAiYhISFKAiYhISFKAiYhISFKAiYhISFKAiYhISFKAiYhISFKAiYhISFKAiYhISFKA\\\n",
       "iYhISFKAiYhISPr/LNrSSJm8MWcAAAAASUVORK5CYII=\\\n",
       "\"\n",
       "  frames[2] = \"data:image/png;base64,iVBORw0KGgoAAAANSUhEUgAAAbAAAAEgCAYAAADVKCZpAAAAOXRFWHRTb2Z0d2FyZQBNYXRwbG90\\\n",
       "bGliIHZlcnNpb24zLjUuMiwgaHR0cHM6Ly9tYXRwbG90bGliLm9yZy8qNh9FAAAACXBIWXMAAAsT\\\n",
       "AAALEwEAmpwYAAAZvklEQVR4nO3df3Dc9X3n8dfbPwIRECTWgnghdE1ikUvI4hSVYyYHJ4WYuDWT\\\n",
       "KPRoSnM5H2EkyDgzatJJa5K57m6uyXlKUrV3zY9KBcL0csmQCzXUzg9cI+EhSQtyxxgc2wsDAoxc\\\n",
       "LK8tSDDnxvh9f+xqvStL1g9r9f1+tM/HzM5+v5/vd3fen69m9jXfz/fz/crcXQAAhGZR1AUAADAb\\\n",
       "BBgAIEgEGAAgSAQYACBIBBgAIEgEGAAgSAQYACBIBBgAIEgEGAAgSAQYACBIBBgAIEgEGAAgSAQY\\\n",
       "ACBIBBgAIEgEGAAgSAQYACBIBBgAIEgEGAAgSAQYACBIBBgAIEgEGAAgSAQYACBIBBgAIEgEGAAg\\\n",
       "SAQYACBIBBgAIEgEGAAgSAQYACBIBBgAIEgEGAAgSAQYACBIBBgAIEgEGAAgSAQYACBIS6IuoFaW\\\n",
       "LVvmqVQq6jIAICg7duw45O7NUdcxHQs2wFKplAYHB6MuAwCCYmYvRF3DdDGEOEuFQmFG7QCAuUWA\\\n",
       "zUI2m1U6nVY+n69qz+fzSqfTymaz0RQGAHWEAJuhbDarXC6n4eFhtbe3l0Msn8+rvb1dw8PDyuVy\\\n",
       "hBgA1FisAszMzjazx83sSTPbbWa5UvsFZrbVzJ4pvTdFUd9YeI0ZC7EtW7aUw2sMIQYAtRWrAJN0\\\n",
       "TNIH3f1KSaskrTGzayRtkLTN3VdK2lZan1eFQkF9fX1VbR3q0NHho7rxxht1dPioOtRRtb2vr49r\\\n",
       "YgBQI7EKMC/6VWl1aenlkj4q6b5S+33SuKSYB4lEQv39/Uomk5KK4dWtbvWoRyml1KMedau7HGLJ\\\n",
       "ZFL9/f1KJBLzXSoA1IVYBZgkmdliM9sp6aCkre7+z5IucvcDklR6vzCK2lpaWsohNqABDWlIKaV0\\\n",
       "r+5VSikNaUgDGiiHV0tLSxRlAkBdiF2Aufub7r5K0iWSrjazK6b7WTPrMrNBMxscGRmpSX0tLS3q\\\n",
       "7e3VqEaVU65qW045jWpUvb29hBcA1FjsAmyMu49KGpC0RtIrZrZckkrvByf5TK+7t7p7a3NzbW4k\\\n",
       "z+fz6urqUqMalVGmaltGGTWqUV1dXadMsQcAzK1YBZiZNZtZY2n5rZI+JGmvpIckrSvttk7Sg1HU\\\n",
       "VzlVvk1t5WHDW3VreTixTW2nTLEHAMw9c/eoaygzs7SKkzQWqxiu97v7l8wsIel+SZdKelHSze5+\\\n",
       "+HTf1dra6nP5KKlCoaB0Ol01Vb5DHRrQgEY1qkY1qk1t2qRN5e3JZFK7du1iIgeAYJjZDndvjbqO\\\n",
       "6YjVGZi773L397t72t2vcPcvldoL7n69u68svZ82vGohkUios7Ozqm2TNqkh2aDNmzerIdlQFV6S\\\n",
       "1NnZSXgBQI3EKsDiLpvNKpM5ed1rbLbh2rVrq6bYS1Imk+FGZgCooQX7NPpaGQulvr6+qqnyY1Ps\\\n",
       "29vb1dnZSXgBQI3F6hrYXJrra2DjFQqFCYcHJ2sHgBBwDawOTBZShBcAzA8CDAAQJAIMABAkAgwA\\\n",
       "ECRmIY7z9TseKS+v/9YHI6wEAHA6nIEBAIJEgAEAgsQQ4jgMGwJAGDgDAwAEiQADAASJAAMABIkA\\\n",
       "AwAEiQADAASJAAMABIkAAwAEiQADAASJAAMABIkAAwAEiQADAASJAAMABIkAAwAEiQADAASJAAMA\\\n",
       "BIkAAwAEKVYBZmbvMLN+M9tjZrvNrLvUnjWzl81sZ+n1O1HXCgCIVtz+I/NxSX/k7v9iZudJ2mFm\\\n",
       "W0vbetz9qxHWBgCIkVgFmLsfkHSgtPxLM9sj6eJoqwIAxFGshhArmVlK0vsl/XOp6TNmtsvM7jGz\\\n",
       "pugqAwDEQSwDzMzOlfQDSX/o7q9J+qakd0papeIZ2tcm+VyXmQ2a2eDIyMh8lQsAiEDsAszMlqoY\\\n",
       "Xt9x9wckyd1fcfc33f2EpD5JV0/0WXfvdfdWd29tbm6ev6IBAPMuVgFmZibpbkl73P0vKtqXV+z2\\\n",
       "MUlPz3dtAIB4idUkDkkfkPRJSU+Z2c5S2xck3WJmqyS5pCFJt0dRHAAgPmIVYO7+mCSbYNMP57sW\\\n",
       "AEC8xWoIEQCA6SLAAABBIsAAAEEiwAAAQSLAAABBIsAAAEEiwAAAQSLAAABBIsAAAEEiwAAAQSLA\\\n",
       "AABBIsAAAEEiwAAAQSLAAABBIsAAAEEiwAAAQSLAgDpWKBRm1F7v4ny84lxbrRBgQJ3KZrNKp9PK\\\n",
       "5/NV7fl8Xul0WtlsNprCYirOxyvOtdWUuy/I11VXXeUAJpbJZFySS/JkMun79u1zd/d9+/Z5Mpks\\\n",
       "b8tkMtEWGhNxPl5zXZukQY/Bb/h0XpEXUKsXAQZMrPIHr/KHb/PmzVU/eIRYUZyPVy1qI8Bi8CLA\\\n",
       "gFMdOnTolB+2DnV4oxpdkjeq0TvUccoP4qFDh6IuPRJxPl61qi2kAOMaGFBHEomE+vv7lUwmJUkd\\\n",
       "6lC3utWjHqWUUo961K1udahDkpRMJtXf369EIhFh1dGJ8/GKc23zxYqBu/C0trb64OBg1GUAsZTP\\\n",
       "59Xe3q6jw0fLP3hjhjSkz+qzakg2qL+/Xy0tLdEVGhNxPl5zXZuZ7XD31hqWPGc4AwPqUEtLi3p7\\\n",
       "ezWqUeWUq9qWU06jGlVvby/hVRLn4xXn2mqNAAPqUD6fV1dXlxrVqIwyVdsyyqhRjerq6jplWna9\\\n",
       "ivPxinNttUaAAXVmbMhpeHhYbWpTSikNaUi36lYNaUgppdSmNg0PD6u9vX1B/vDNRJyPV5xrmxdR\\\n",
       "zyKpfEl6h6R+SXsk7ZbUXWq/QNJWSc+U3pum+i5mIQKnivOsujiK8/FiFmL8ZiEel/RH7v7vJF0j\\\n",
       "ab2ZvUfSBknb3H2lpG2ldQAzlEgk1NnZWdW2SZvUkGzQ5s2b1ZBs0CZtqtre2dm5oGauzUScj1ec\\\n",
       "a5s3USfo6V6SHpS0WtI+SctLbcsl7Zvqs5yBAZOL85Ml4ijOx4snccTwJSkl6UVJb5M0Om7bkak+\\\n",
       "T4ABp5fJZKp+8MaM/fARXtXifLzmsraQAiyW94GZ2bmSHpX0ZXd/wMxG3b2xYvsRd2+a4HNdkrok\\\n",
       "6dJLL73qhRdemK+SgSAVCoUJh5Qma693cT5ec1VbSPeBxS7AzGyppM2SfuLuf1Fq2yepzd0PmNly\\\n",
       "SQPufvnpvocbmQFg5kIKsFhN4jAzk3S3pD1j4VXykKR1peV1Kl4bAwDUsSVRFzDOByR9UtJTZraz\\\n",
       "1PYFSRsl3W9mt6l4XezmaMoDAMRFrALM3R+TZJNsvn4+awEAxFushhABAJguAgxYoL728RvLr5f3\\\n",
       "7dWx55/Xi7ffrl9u364Xb79dx55/fkbfd/zIERXuvlvHjxypUcXAzMRqCBFAbfzkW3+pDx11vf7o\\\n",
       "dr3x1FM6cfiIXpF06d/8zbS/49UHHtDBu74qSUrcdtuE+xw/ckSvPvCAzr/pJi1pajplHZhLBBhQ\\\n",
       "Bz58xx9q2VvO0iuSmj7xCR35znd00YaZPZHt/JtuqnqfyPiQm07oAbMVu/vA5gr3gQHzjzOw8IV0\\\n",
       "HxgBBgC19HpB2vm/pVX/WTon/k83CSnAGEIEgLn0ekHq/x/Ssw9LK1dLvz4m7fw7ac9m6ZbvBRFi\\\n",
       "oWAWIgBMoXIG5vjZmKfMzvxpjzTYJ42+ID3xt8XwkqT9j0t3XSb1tksjz0TUk4WFMzAAmELlZBRJ\\\n",
       "5eW3XnWVXrrj0zoxOqqDd31Viy5aplTrPp113mm+bPhfpIe/IH3i+zWueuEjwABgCpUzMN8cHdXr\\\n",
       "jz+ucz/4Qb20fr1OjI6W9zvxyiE9t6VJife+qgvf98bkX3jtH9e44vrAECIATGFJU5MSt92mJU1N\\\n",
       "+tUjj+j1R7frV488ouRXvqKll14qLar8KV2kwu7z9eJPT3Ma9tLPal5zPeAMDABmoPJsbElTk971\\\n",
       "8E/0y+3btb/r9oq9Fun1l87R89tMK65/rfoL3npBcUYizhhnYAAwA5VnY2POu+46XdJb/VSTf1u8\\\n",
       "RL9QUs8/8bbqL3j7lfNRZl0gwABgDpx33XW67Ec/LK/vv+Bt2pts1i9eS1bv+Hy/9Pj0H+GFyRFg\\\n",
       "ADBHzlqxQhflcpKkSw6/pncPF3TJ4de05/5xZ2GT/tcozAQBBgBz6IKP/56WXnGF3vLmCV02Mqq3\\\n",
       "vCnpRMPJHRqapV8fLd7wjDNCgAHAHHvX//2+ToxrO/ba4uLC0RHpZ/+z+HgpnBECDABqYFFj5TT6\\\n",
       "RXr5543SoqXF1bMbmYk4BwgwAKiBpz7/Ef26Yv3Ya0ulxLuKK8tWRlLTQkOAAUANrF67Xhv/a4Pe\\\n",
       "LK0fPyEd379PuuAyaf8TzEScAwQYANRA09lN+pNP3aPD5xbXl/givXpitXTe24sNLz3ORI4zRIAB\\\n",
       "QI1ceeGV+uZ/atC/vk3ae7G0/6KD0gs/Kz6N4znuBztTBBgA1NDx91ymrVct0rtfln6094DUsEx6\\\n",
       "43BpK/eDnQmehQgANXRN8hr9IL1H0iI9+d7F2nDoX4vXwd69Vrq6K+rygsYZGADU0Keu+JT8vHP1\\\n",
       "D9cs0ovnmX6w4v3S4eckt+K9YFwHmzUCDABqqOnsJn3rhpPXunIqBdbwoLT1T7mh+QzEKsDM7B4z\\\n",
       "O2hmT1e0Zc3sZTPbWXr9TpQ1AsBMXXnhlVpauonZJT129llS4zullTdILfykzVasAkzStyWtmaC9\\\n",
       "x91XlV4/nGA7AMSa+ckJG5+7cJk0+pz0zMPS09+PsKqwxSrA3H27pMNT7ggAgfnyf/hyefmNxYt1\\\n",
       "ZFnpqRzMRJy1WAXYaXzGzHaVhhibpt4dAOJlzWVrtMROTvz+b6/vlVZ/iZmIZyCEAPumpHdKWiXp\\\n",
       "gKSvTbajmXWZ2aCZDY6MjMxTeQAwPTf8xg3l5UePHSg+0JeZiLMW+wBz91fc/U13PyGpT9LVp9m3\\\n",
       "191b3b21ubl5/ooEgGnY8O83VK0f2fG3zEQ8A7EPMDNbXrH6MUlPT7YvAMRZ09lNWqzF5fVv2K+K\\\n",
       "w4j8a5VZiVWAmdl3Jf1c0uVmtt/MbpP052b2lJntktQu6bORFgkAZ2DjtRvLy1tffjTCSsIXqwBz\\\n",
       "91vcfbm7L3X3S9z9bnf/pLu/z93T7v4Rdz8QdZ0AMFtrLlujpVa8J6xw7Ih+/NhXGEKcpVgFGADU\\\n",
       "g9Wp1eXlP377hQwhzhIBBgDzbMPVJydz+NjCT/+K2YgzRIABwDxrOrv6dtYnf/41ZiPOAgEGABH4\\\n",
       "g8v/oLzcNfyPzEacBQIMACJw5zV3lpeP+hs6ctV/kc5JRFhReAgwAIiBzz3yuahLCA4BBgARuS55\\\n",
       "XXl5cGQwwkrCRIABQET+7No/i7qEoBFgABCR8bMRb950c0SVhIkAA4AIrU2tLS/vfXVvhJWEhwAD\\\n",
       "gAht/I8bq9aP/L8js/qeQmHim6Ana18ICDAAiJFPP/zpGX8mm80qnU4rn89XtefzeaXTaWWz2Tmq\\\n",
       "Ll4IMACI2FItLS/vPrJ7Rp/NZrPK5XIaHh5We3t7OcTy+bza29s1PDysXC63IEOMAAOAiG37+Laq\\\n",
       "9ekOI46F15ixENuyZUs5vMYsxBAjwAAgYuNnI97yD7dM+ZlCoaC+vr6qtg516OjwUd144406OnxU\\\n",
       "Heqo2t7X17egrokRYAAQMy8ffXnKfRKJhPr7+5VMJiUVw6tb3epRj1JKqUc96lZ3OcSSyaT6+/uV\\\n",
       "SCycx1URYAAQA3dde9eMP9PS0lIOsQENaEhDSimle3WvUkppSEMa0EA5vFpaWmpQeXQIMACIgTWX\\\n",
       "rala7xnsmdbnWlpa1Nvbq1GNKqdc1bacchrVqHp7exdceEkEGADE0j2775nWfvl8Xl1dXWpUozLK\\\n",
       "VG3LKKNGNaqrq+uUKfYLAQEGADFR+T/CpqNyqnyb2srDhrfq1vJwYpvaTpliv1CYu0+9V4BaW1t9\\\n",
       "cJCnOwMIy/vue195ef2V63XHqjsm3K9QKCidTldNle9QhwY0oFGNqlGNalObNmlTeXsymdSuXbtO\\\n",
       "O5HDzHa4e+uZ96T2OAMDgJj6+pNfn3RbIpFQZ2dnVdsmbVJDskGbN29WQ7KhKrwkqbOzk1mIAIDa\\\n",
       "uPitF09732w2q0zm5HWvsdmGa9eurZpiL0mZTIYbmQEAtfPj3/vxjPYfC7HxU+Urp9gvxPCSuAYG\\\n",
       "ALFTeR3soY6HtOL8FVN+plAoTDg8OFn7ZLgGBgCYtew1WZlMknTXE9O7wXmykFpI17zGI8AAIGZ+\\\n",
       "9/Lf1YMdD+rai6/V53/r81GXE1uxCjAzu8fMDprZ0xVtF5jZVjN7pvTedLrvAICFYMX5K/SND31j\\\n",
       "WsOH9SpWASbp25LWjGvbIGmbu6+UtK20DgCoc7EKMHffLunwuOaPSrqvtHyfNO7/AwAA6lKsAmwS\\\n",
       "F7n7AUkqvV8YcT0AgBgIIcCmzcy6zGzQzAZHRkaiLgcAUEMhBNgrZrZckkrvByfb0d173b3V3Vub\\\n",
       "m5vnrUAAwPwLIcAekrSutLxO0oMR1gIAiIlYBZiZfVfSzyVdbmb7zew2SRslrTazZyStLq0DAOrc\\\n",
       "kqgLqOTut0yy6fp5LQQAEHuxOgMDAGC6CDAAQJAIMABAkAgwAECQCDAAQJAIMABAkAgwAECQCDAA\\\n",
       "QJAIMABAkAgwAECQCDAAQJAIMABAkAgwAECQCDAAQJAIMABAkAgwAECQCDAAQJAIMABAkAgwAECQ\\\n",
       "CDAAQJAIMABAkAgwAECQCDAAQJAIMABAkAgwAECQCDAAQJCWRF3AdJnZkKRfSnpT0nF3b422IgBA\\\n",
       "lIIJsJJ2dz8UdREAgOgxhAgACFJIAeaSHjazHWbWFXUxAIBohRRgH3D335T025LWm9l143cwsy4z\\\n",
       "GzSzwZGRkfmvEJhEoVCYUTuAqQUTYO4+XHo/KOnvJV09wT697t7q7q3Nzc3zXSIwoWw2q3Q6rXw+\\\n",
       "X9Wez+eVTqeVzWajKQwIXBABZmbnmNl5Y8uSbpD0dLRVAVPLZrPK5XIaHh5We3t7OcTy+bza29s1\\\n",
       "PDysXC5HiAGzEESASbpI0mNm9qSkxyVtcfcfR1wTcFpj4TVmLMS2bNlSDq8xhBgwc+buUddQE62t\\\n",
       "rT44OBh1GahThUJB6XS6KqQ61KEBDWhUo2pUo9rUpk3aVN6eTCa1a9cuJRKJCCoGisxsRyj32YZy\\\n",
       "BgYEJZFIqL+/X8lkUlIxvLrVrR71KKWUetSjbnWrQx2SiuHV399PeAEzQIABNdLS0lIOsQENaEhD\\\n",
       "Simle3WvUkppSEMa0EA5vFpaWqIuGQgKAQbUUEtLi3p7ezWqUeWUq9qWU06jGlVvby/hBcwCAQbU\\\n",
       "UD6fV1dXlxrVqIwyVdsyyqhRjerq6jplij2AqRFgQI1UTpVvU1t52PBW3VoeTmxT2ylT7AFMD7MQ\\\n",
       "gRpgFiJCxSxEoM4lEgl1dnZWtW3SJjUkG7R582Y1JBuqwkuSOjs7CS9gBggwoEay2awymZPXvcZm\\\n",
       "G65du7Zqir0kZTIZbmQGZii0/wcGBGUslPr6+qqmyo9NsW9vb1dnZyfhBcwC18CAeVAoFCYcHpys\\\n",
       "HYgK18AAVJkspAgvYPYIMABAkAgwAECQCDAAQJAIMABAkJhGD5yB1IYt5eWhjWsjrASoP5yBAQCC\\\n",
       "RIABAILEECJwBhg2BKLDGRgAIEgEGAAgSAQYACBIBBgAIEgEGAAgSAQYACBIBBgAIEgL9h9amtmI\\\n",
       "pBeirmOWlkk6FHUREannvkv13f967rsUn/7/hrs3R13EdCzYAAuZmQ2G8h9R51o9912q7/7Xc98l\\\n",
       "+j8bDCECAIJEgAEAgkSAxVNv1AVEqJ77LtV3/+u57xL9nzGugQEAgsQZGAAgSARYTJjZfzezXWa2\\\n",
       "08weNrNkxbY7zexZM9tnZh+Oss5aMbO7zGxv6Rj8vZk1Vmxb0P03s5vNbLeZnTCz1nHbFnTfJcnM\\\n",
       "1pT696yZbYi6nlozs3vM7KCZPV3RdoGZbTWzZ0rvTVHWGAoCLD7ucve0u6+StFnSn0qSmb1H0u9L\\\n",
       "eq+kNZK+YWaLI6uydrZKusLd05Lyku6U6qb/T0u6SdL2ysZ66HupP1+X9NuS3iPpllK/F7Jvq/j3\\\n",
       "rLRB0jZ3XylpW2kdUyDAYsLdX6tYPUfS2MXJj0r6nrsfc/fnJT0r6er5rq/W3P1hdz9eWv0nSZeU\\\n",
       "lhd8/919j7vvm2DTgu+7iv151t2fc/d/k/Q9Ffu9YLn7dkmHxzV/VNJ9peX7JHXMZ02hIsBixMy+\\\n",
       "bGYvSfqESmdgki6W9FLFbvtLbQvZpyT9qLRcj/0fUw99r4c+TsdF7n5AkkrvF0ZcTxCWRF1APTGz\\\n",
       "f5T09gk2fdHdH3T3L0r6opndKekzkjKSbIL9g5w6OlX/S/t8UdJxSd8Z+9gE+wfX/+n0faKPTdAW\\\n",
       "XN+nUA99RI0QYPPI3T80zV3/j6QtKgbYfknvqNh2iaThOS5tXkzVfzNbJ+lGSdf7yfs7FkT/Z/C3\\\n",
       "r7Qg+j6FeujjdLxiZsvd/YCZLZd0MOqCQsAQYkyY2cqK1Y9I2ltafkjS75vZWWa2QtJKSY/Pd321\\\n",
       "ZmZrJP2JpI+4+9GKTXXR/0nUQ9+fkLTSzFaY2VtUnLTyUMQ1ReEhSetKy+skTXZWjgqcgcXHRjO7\\\n",
       "XNIJFZ+if4ckuftuM7tf0i9UHFpb7+5vRldmzfy1pLMkbTUzSfond7+jHvpvZh+T9L8kNUvaYmY7\\\n",
       "3f3D9dB3dz9uZp+R9BNJiyXd4+67Iy6rpszsu5LaJC0zs/0qjrRslHS/md0m6UVJN0dXYTh4EgcA\\\n",
       "IEgMIQIAgkSAAQCCRIABAIJEgAEAgkSAAQCCRIABAIJEgAEAgkSAAQCCRIABAIJEgAEAgkSAAQCC\\\n",
       "RIABAIJEgAEAgkSAAQCCRIABAIJEgAEAgkSAAQCCRIABAIJEgAEAgkSAAQCC9P8Bhml3dEwoIjAA\\\n",
       "AAAASUVORK5CYII=\\\n",
       "\"\n",
       "  frames[3] = \"data:image/png;base64,iVBORw0KGgoAAAANSUhEUgAAAbAAAAEgCAYAAADVKCZpAAAAOXRFWHRTb2Z0d2FyZQBNYXRwbG90\\\n",
       "bGliIHZlcnNpb24zLjUuMiwgaHR0cHM6Ly9tYXRwbG90bGliLm9yZy8qNh9FAAAACXBIWXMAAAsT\\\n",
       "AAALEwEAmpwYAAAV9UlEQVR4nO3df4ykd33Y8ffnbEq6/Mja64N6AHct6rWgaOuUjUVF1e5CaAy2\\\n",
       "wkJkNaRKLRfthspI14DU2kHqzKaKYikl90dLQbvCxn8EqNUmZ+subXCd3VpIBbJXmYtd+8ZWugaz\\\n",
       "rn0es4LkFCL7Pv1jZ9c798P3g519nu/M+yWNZuZ5Zk+fZyzmzTzznd3ITCRJKs2+qgeQJOlSGDBJ\\\n",
       "UpEMmCSpSAZMklQkAyZJKpIBkyQVyYBJkopkwCRJRTJgkqQiGTBJUpEMmCSpSAZMklQkAyZJKpIB\\\n",
       "kyQVyYBJkopkwCRJRTJgkqQiGTBJUpEMmCSpSAZMklQkAyZJKpIBkyQVyYBJkopkwCRJRTJgkqQi\\\n",
       "GTBJUpEMmCSpSAZMklQkAyZJKpIBkyQVyYBJkopkwCRJRTJgkqQiGTBJUpEur3qAfrnqqqtyfHy8\\\n",
       "6jEkqShHjx59MTP3Vz3HhRjYgI2Pj7O6ulr1GJJUlIh4puoZLpSnEC9Rp9O5qO2SpN1lwC5Bq9Vi\\\n",
       "cnKSdrvds73dbjM5OUmr1apmMEkaIgbsIrVaLRYWFlhfX2dmZmY7Yu12m5mZGdbX11lYWDBiktRn\\\n",
       "tQpYRPxMRHwnIr4bEY9HxEJ3+5UR8VBEPNW9vqKK+bbitWUrYkeOHNmO1xYjJkn9VauAAT8BPpCZ\\\n",
       "fw+4AbgpIt4H3Ak8nJnXAQ937++pTqfD0tJSz7ZZZjm5fpJbbrmFk+snmWW2Z//S0pKfiUlSn9Qq\\\n",
       "YLnpL7p3X9e9JPBR4L7u9vvgtFLsgbGxMZaXl2k0GsBmvA5wgIMcZJxxDnKQAxzYjlij0WB5eZmx\\\n",
       "sbG9HlWShkKtAgYQEZdFxKPAC8BDmflt4K2Z+RxA9/otVcw2MTGxHbEVVlhjjXHGuZd7GWecNdZY\\\n",
       "YWU7XhMTE1WMKUlDoXYBy8xXMvMG4O3AjRHxngv92YiYj4jViFg9ceJEX+abmJhgcXGRDTZYYKFn\\\n",
       "3wILbLDB4uKi8ZKkPqtdwLZk5gawAtwEPB8RVwN0r184x88sZuZUZk7t39+fL5K3223m5+cZZZQm\\\n",
       "zZ59TZqMMsr8/PwZS+wlSburVgGLiP0RMdq9/TeBXwCeBB4Ebus+7DbggSrm27lUfprp7dOGt3P7\\\n",
       "9unEaabPWGIvSdp9kZlVz7AtIibZXKRxGZtxvT8zfysixoD7gWuA7wG3ZuZLr/VvTU1N5W7+KqlO\\\n",
       "p8Pk5GTPUvlZZllhhQ02GGWUaaY5xKHt/Y1Gg2PHjrmQQ1IxIuJoZk5VPceFqNU7sMw8lpk/l5mT\\\n",
       "mfmezPyt7vZOZn4wM6/rXr9mvPphbGyMubm5nm2HOMRIY4TDhw8z0hjpiRfA3Nyc8ZKkPqlVwOqu\\\n",
       "1WrRbL76udfWasObb765Z4k9QLPZ9IvMktRHA/vb6PtlK0pLS0s9S+W3ltjPzMwwNzdnvCSpz2r1\\\n",
       "Gdhu2u3PwE7X6XTOenrwXNslqQR+BjYEzhUp4yVJe8OASZKKZMAkSUUyYJKkIrkK8TRf+NSfbN++\\\n",
       "40sfqHASSdJr8R2YJKlIBkySVCRPIZ7G04aSVAbfgUmSimTAJElFMmCSpCIZMElSkQyYJKlIBkyS\\\n",
       "VCQDJkkqkgGTJBXJgEmSimTAJElFMmCSpCIZMElSkQyYJKlIBkySVCQDJkkqkgGTJBWpVgGLiHdE\\\n",
       "xHJEPBERj0fEge72VkT8ICIe7V4+UvWskqRq1e0vMr8MfDYz/3dEvAk4GhEPdfcdzMx/X+FskqQa\\\n",
       "qVXAMvM54Lnu7R9HxBPA26qdSpJUR7U6hbhTRIwDPwd8u7vp0xFxLCLuiYgrqptMklQHtQxYRLwR\\\n",
       "+K/Av8rMHwFfBN4J3MDmO7TPn+Pn5iNiNSJWT5w4sVfjSpIqULuARcTr2IzX72fmHwBk5vOZ+Upm\\\n",
       "ngKWgBvP9rOZuZiZU5k5tX///r0bWpK052oVsIgI4MvAE5n5ezu2X73jYR8DHtvr2SRJ9VKrRRzA\\\n",
       "+4FfA/4sIh7tbvtN4BMRcQOQwBrw61UMJ0mqj1oFLDO/CcRZdv3RXs8iSaq3Wp1ClCTpQhkwSVKR\\\n",
       "DJgkqUgGTJJUJAMmSSqSAZMkFcmASZKKZMAkSUUyYJKkIhkwSVKRDJgkqUgGTJJUJAMmSSqSAZMk\\\n",
       "FcmASZKKZMAkSUUyYNIQ63Q6F7V92NX5+arzbP1iwKQh1Wq1mJycpN1u92xvt9tMTk7SarWqGaym\\\n",
       "6vx81Xm2vsrMgby8973vTUln12w2E0ggG41GHj9+PDMzjx8/no1GY3tfs9msdtCaqPPztduzAatZ\\\n",
       "g9fwC7lUPkC/LgZMOrudL3g7X/gOHz7c84JnxDbV+fnqx2wGrAYXAyad6cUXXzzjhW2W2RxlNIEc\\\n",
       "ZTRnmT3jBfHFF1+sevRK1Pn56tdsJQXMz8CkITI2Nsby8jKNRgOAWWY5wAEOcpBxxjnIQQ5wgFlm\\\n",
       "AWg0GiwvLzM2Nlbh1NWp8/NV59n2SmwGd/BMTU3l6upq1WNItdRut5mZmeHk+sntF7wta6zxG/wG\\\n",
       "I40RlpeXmZiYqG7Qmqjz87Xbs0XE0cyc6uPIu8Z3YNIQmpiYYHFxkQ02WGChZ98CC2ywweLiovHq\\\n",
       "qvPzVefZ+s2ASUOo3W4zPz/PKKM0afbsa9JklFHm5+fPWJY9rOr8fNV5tn4zYNKQ2TrltL6+zjTT\\\n",
       "jDPOGmvczu2sscY440wzzfr6OjMzMwP5wncx6vx81Xm2PVH1KpKdF+AdwDLwBPA4cKC7/UrgIeCp\\\n",
       "7vUV5/u3XIUonanOq+rqqM7Pl6sQ67cK8WXgs5n5LuB9wB0R8W7gTuDhzLwOeLh7X9JFGhsbY25u\\\n",
       "rmfbIQ4x0hjh8OHDjDRGOMShnv1zc3MDtXLtYtT5+arzbHum6oK+1gV4APgQcBy4urvtauD4+X7W\\\n",
       "d2DSudX5N0vUUZ2fL38TRw0vwDjwPeDNwMZp+354vp83YNJrazabPS94W7Ze+IxXrzo/X7s5W0kB\\\n",
       "q+X3wCLijcD/BH47M/8gIjYyc3TH/h9m5hVn+bl5YB7gmmuuee8zzzyzVyNLRep0Omc9pXSu7cOu\\\n",
       "zs/Xbs1W0vfAahewiHgdcBj448z8ve6248B0Zj4XEVcDK5l5/Wv9O36RWZIuXkkBq9UijogI4MvA\\\n",
       "E1vx6noQuK17+zY2PxuTJA2xy6se4DTvB34N+LOIeLS77TeBu4H7I+KTbH4udms140mS6qJWAcvM\\\n",
       "bwJxjt0f3MtZJEn1VqtTiJIkXahavQOTtHs+/09vgVOnYN8+PvufD1c9jrTrfAcmDapuvDh1qupJ\\\n",
       "pL4wYNKg2orXPv9nrsHkKURpQHnaUIPO/2smSSqSAZMkFcmASZKKZMAkSUUyYJKkIhkwSVKRDJgk\\\n",
       "qUgGTJJUJAMmSSqSAZMkFcmASVK/fOkD0PrZzWvtOgMmSf3y/46+ev29P612lgFkwCRpL9xzU9UT\\\n",
       "DBx/G70k9ckTX38zMMIpYB8neVer4oEGjO/AJKlvRoB97GMfpxiBE09VPdBAMWCS1Dcn+avL9vHn\\\n",
       "+0f568suhwf+ZdUDDRQDJkl98q4nv88PrnwzTzbG+MGVb+Yf/2St6pEGip+BSVIfXfnSj7i+e/3S\\\n",
       "yOurHmegGDBJ6qPP/Os38penfgT79sGpU/CXHXjDWNVjDQRPIUpSH33rtm9vxqvrH/wXv9S8WwyY\\\n",
       "JO2Vffv4C05VPcXAqFXAIuKeiHghIh7bsa0VET+IiEe7l49UOaMkXayPv/PjPfe/+8wjFU0yWGoV\\\n",
       "MOArwNm+rn4wM2/oXv5oj2eSpJ/Kwj9c6Ln/z1fuqGiSwVKrgGXmI8BLVc8hSbvtmpFrtm97EnF3\\\n",
       "1Cpgr+HTEXGse4rxiqqHkaSLdeTWIz33v/TolyqaZHCUELAvAu8EbgCeAz5/rgdGxHxErEbE6okT\\\n",
       "J/ZoPEm6eF/47heqHqF4tQ9YZj6fma9k5ilgCbjxNR67mJlTmTm1f//+vRtSki7Az+//+apHGCi1\\\n",
       "D1hEXL3j7seAx871WEmqs3s+ck/P/c/8yWcqmmQw1Oo3cUTE14Bp4KqIeBZoAtMRcQOQwBrw61XN\\\n",
       "J0m76aHvP1T1CEWrVcAy8xNn2fzlPR9EkvrkV6//Vb56/KtVjzEQan8KUZIGyV3vu6vn/u9863cq\\\n",
       "mqR8BkySKuS7sUtnwCRpj7Xe16p6hIFgwCRpj/3y9b/M297wNgDedPmb+OFf/bDiicpkwCSpAl/8\\\n",
       "0Be59s3X8uOXf8yhpw9VPU6RarUKUZKGxbU/ey33ffg+Dj19iNm/M1v1OEUyYJJUkSt+5gpuf8/t\\\n",
       "VY9RLE8hSpKKZMAkSUUyYJKkIhkwSRoAnU7norYPAgMmSYVrtVpMTk7Sbrd7trfbbSYnJ2m1WtUM\\\n",
       "1mcGTJIK1mq1WFhYYH19nZmZme2ItdttZmZmWF9fZ2FhYSAjZsAkqVBb8dqyFbEjR45sx2vLIEbM\\\n",
       "gElSgTqdDktLSz3bZpnl5PpJbrnlFk6un2SW2Z79S0tLA/WZmAGTpAKNjY2xvLxMo9EANuN1gAMc\\\n",
       "5CDjjHOQgxzgwHbEGo0Gy8vLjI2NVTj17jJgklSoiYmJ7YitsMIaa4wzzr3cyzjjrLHGCivb8ZqY\\\n",
       "mKh65F1lwCSpYBMTEywuLrLBBgss9OxbYIENNlhcXBy4eIEBk6Sitdtt5ufnGWWUJs2efU2ajDLK\\\n",
       "/Pz8GUvsB4EBk6RC7VwqP8309mnD27l9+3TiNNNnLLEfFJGZVc/QF1NTU7m6ulr1GJLUF51Oh8nJ\\\n",
       "yZ6l8rPMssIKG2wwyijTTHOIQ9v7G40Gx44de82FHBFxNDOn+jn7bvEdmCQVaGxsjLm5uZ5thzjE\\\n",
       "SGOEw4cPM9IY6YkXwNzcnKsQJUnVa7VaNJuvfu61tdrw5ptv7lliD9BsNgfui8z+QUtJKthWlJaW\\\n",
       "lnqWym8tsZ+ZmWFubm7g4gV+BiZJA6HT6Zz19OC5tp+Ln4FJkvbUuSI1SJ95nc6ASZKKVKuARcQ9\\\n",
       "EfFCRDy2Y9uVEfFQRDzVvb6iyhklSfVQq4ABXwFuOm3bncDDmXkd8HD3viRpyNUqYJn5CPDSaZs/\\\n",
       "CtzXvX0fnPb3ASRJQ6lWATuHt2bmcwDd67dUPI8kqQZKCNgFi4j5iFiNiNUTJ05UPY4kqY9KCNjz\\\n",
       "EXE1QPf6hXM9MDMXM3MqM6f279+/ZwNKkvZeCQF7ELite/s24IEKZ5Ek1UStAhYRXwP+F3B9RDwb\\\n",
       "EZ8E7gY+FBFPAR/q3pckDbla/S7EzPzEOXZ9cE8HkSTVXq3egUmSdKEMmCSpSAZMklQkAyZJKpIB\\\n",
       "kyQVyYBJkopkwCRJRTJgkqQiGTBJUpEMmCSpSAZMklQkAyZJKpIBkyQVyYBJkopkwCRJRTJgkqQi\\\n",
       "GTBJUpEMmCSpSAZMklQkAyZJKpIBkyQVyYBJkopkwCRJRTJgkqQiGTBJUpEMmCSpSJdXPcCFiog1\\\n",
       "4MfAK8DLmTlV7USSpCoVE7Cumcx8seohJEnV8xSiJKlIJQUsgW9ExNGImK96GElStUoK2Psz8+8D\\\n",
       "HwbuiIh/dPoDImI+IlYjYvXEiRN7P6F0Dp1O56K2Szq/YgKWmevd6xeAPwRuPMtjFjNzKjOn9u/f\\\n",
       "v9cjSmfVarWYnJyk3W73bG+320xOTtJqtaoZTCpcEQGLiDdExJu2bgP/BHis2qmk82u1WiwsLLC+\\\n",
       "vs7MzMx2xNrtNjMzM6yvr7OwsGDEpEtQRMCAtwLfjIjvAt8BjmTmf694Juk1bcVry1bEjhw5sh2v\\\n",
       "LUZMuniRmVXP0BdTU1O5urpa9RgaUp1Oh8nJyZ5IzTLLCitssMEoo0wzzSEObe9vNBocO3aMsbGx\\\n",
       "CiaWNkXE0VK+Z1vKOzCpKGNjYywvL9NoNIDNeB3gAAc5yDjjHOQgBzjALLPAZryWl5eNl3QRDJjU\\\n",
       "JxMTE9sRW2GFNdYYZ5x7uZdxxlljjRVWtuM1MTFR9chSUQyY1EcTExMsLi6ywQYLLPTsW2CBDTZY\\\n",
       "XFw0XtIlMGBSH7Xbbebn5xlllCbNnn1Nmowyyvz8/BlL7CWdnwGT+mTnUvlpprdPG97O7dunE6eZ\\\n",
       "PmOJvaQL4ypEqQ9chahSuQpRGnJjY2PMzc31bDvEIUYaIxw+fJiRxkhPvADm5uaMl3QRDJjUJ61W\\\n",
       "i2bz1c+9tlYb3nzzzT1L7AGazaZfZJYuUml/D0wqylaUlpaWepbKby2xn5mZYW5uznhJl8DPwKQ9\\\n",
       "0Ol0znp68Fzbpar4GZikHueKlPGSLp0BkyQVyYBJkopkwCRJRTJgkqQiuYxe+imM33lk+/ba3TdX\\\n",
       "OIk0fHwHJkkqkgGTJBXJU4jST8HThlJ1fAcmSSqSAZMkFcmASZKKZMAkSUUyYJKkIhkwSVKRDJgk\\\n",
       "qUgD+wctI+IE8EzVc1yCq4AXqx6iQsN8/MN87ODx1+X4/3Zm7q96iAsxsAErVUSslvLXUPthmI9/\\\n",
       "mI8dPP5hP/5L4SlESVKRDJgkqUgGrH4Wqx6gYsN8/MN87ODxD/vxXzQ/A5MkFcl3YJKkIhmwmoiI\\\n",
       "fxcRxyLi0Yj4RkQ0duy7KyKejojjEfGLVc7ZLxHxuxHxZPc5+MOIGN2xb6CPPyJujYjHI+JUREyd\\\n",
       "tm+gjx0gIm7qHt/TEXFn1fP0W0TcExEvRMRjO7ZdGREPRcRT3esrqpyxFAasPn43Mycz8wbgMPBv\\\n",
       "ASLi3cCvAH8XuAn4TxFxWWVT9s9DwHsycxJoA3fB0Bz/Y8DHgUd2bhyGY+8ezxeADwPvBj7RPe5B\\\n",
       "9hU2/3vudCfwcGZeBzzcva/zMGA1kZk/2nH3DcDWh5MfBb6emT/JzP8LPA3cuNfz9VtmfiMzX+7e\\\n",
       "/Rbw9u7tgT/+zHwiM4+fZdfAHzubx/N0Zv55Zv418HU2j3tgZeYjwEunbf4ocF/39n3A7F7OVCoD\\\n",
       "ViMR8dsR8X3gn9F9Bwa8Dfj+joc92902yP4F8N+6t4fx+LcMw7EPwzFeiLdm5nMA3eu3VDxPES6v\\\n",
       "eoBhEhH/A/hbZ9n1ucx8IDM/B3wuIu4CPg00gTjL44tcOnq+4+8+5nPAy8Dvb/3YWR5f3PFfyLGf\\\n",
       "7cfOsq24Yz+PYThG9YkB20OZ+QsX+NCvAkfYDNizwDt27Hs7sL7Lo+2J8x1/RNwG3AJ8MF/9fsdA\\\n",
       "HP9F/LffaSCO/TyG4RgvxPMRcXVmPhcRVwMvVD1QCTyFWBMRcd2Ou78EPNm9/SDwKxHx+oi4FrgO\\\n",
       "+M5ez9dvEXET8G+AX8rMkzt2DcXxn8MwHPufAtdFxLUR8TfYXLTyYMUzVeFB4Lbu7duAc70r1w6+\\\n",
       "A6uPuyPieuAUm79F/1MAmfl4RNwP/B82T63dkZmvVDdm3/xH4PXAQxEB8K3M/NQwHH9EfAz4D8B+\\\n",
       "4EhEPJqZvzgMx56ZL0fEp4E/Bi4D7snMxyseq68i4mvANHBVRDzL5pmWu4H7I+KTwPeAW6ubsBz+\\\n",
       "Jg5JUpE8hShJKpIBkyQVyYBJkopkwCRJRTJgkqQiGTBJUpEMmCSpSAZMklQkAyZJKpIBkyQVyYBJ\\\n",
       "kopkwCRJRTJgkqQiGTBJUpEMmCSpSAZMklQkAyZJKpIBkyQVyYBJkopkwCRJRfr/gQPyPTfcmmUA\\\n",
       "AAAASUVORK5CYII=\\\n",
       "\"\n",
       "  frames[4] = \"data:image/png;base64,iVBORw0KGgoAAAANSUhEUgAAAbAAAAEgCAYAAADVKCZpAAAAOXRFWHRTb2Z0d2FyZQBNYXRwbG90\\\n",
       "bGliIHZlcnNpb24zLjUuMiwgaHR0cHM6Ly9tYXRwbG90bGliLm9yZy8qNh9FAAAACXBIWXMAAAsT\\\n",
       "AAALEwEAmpwYAAAU8klEQVR4nO3df2yj933Y8ffHdtZMTQudaSUzm2QKWitrmnHuohoFAgxS06xu\\\n",
       "z2iUAcEaDIVxC6QGSIBbkT/mNMBIdShgoEvvjy3rICFx/EeXzsDai3HXrfE8aUawtalcuBd79tHG\\\n",
       "KqeuDPtMV0iLwzrY/uwPUYp4J92vHvU8X/L9AgiSz0MdPg+N8B0+/FKKzESSpNLcUvUAkiTdCAMm\\\n",
       "SSqSAZMkFcmASZKKZMAkSUUyYJKkIhkwSVKRDJgkqUgGTJJUJAMmSSqSAZMkFcmASZKKZMAkSUUy\\\n",
       "YJKkIhkwSVKRDJgkqUgGTJJUJAMmSSqSAZMkFcmASZKKZMAkSUUyYJKkIhkwSVKRDJgkqUgGTJJU\\\n",
       "JAMmSSqSAZMkFcmASZKKZMAkSUUyYJKkIhkwSVKRDJgkqUgGTJJUJAMmSSrSbVUPMCx33HFHTk9P\\\n",
       "Vz2GJBXlySeffC0zp6qe41qMbMCmp6fZ2NioegxJKkpEvFj1DNfKU4g3qNfrXdd2SdLNZcBuQKfT\\\n",
       "odVq0e12B7Z3u11arRadTqeawSRpjBiw69TpdFheXmZra4v5+fm9iHW7Xebn59na2mJ5edmISdKQ\\\n",
       "1SpgEfH2iPhWRPxJRDwTEcv97bdHxGMR8Xz/+lgV8+3Ga9duxM6ePbsXr11GTJKGq1YBA/4a+KnM\\\n",
       "/AfA3cC9EfGTwAPA45l5F/B4//6R6vV6rK6uDmxbYIGLWxe57777uLh1kQUWBvavrq76mZgkDUmt\\\n",
       "ApY7/qp/9239SwIfAx7ub38YLinFEWg0GqytrdFsNoGdeJ3kJKc4xTTTnOIUJzm5F7Fms8na2hqN\\\n",
       "RuOoR5WksVCrgAFExK0R8RTwKvBYZv4h8K7MfBmgf/3OKmabmZnZi9g662yyyTTTPMRDTDPNJpus\\\n",
       "s74Xr5mZmSrGlKSxULuAZeabmXk38G7gnoj44LX+bEQsRcRGRGxcuHBhKPPNzMywsrLCNtssszyw\\\n",
       "b5llttlmZWXFeEnSkNUuYLsycxtYB+4FXomIOwH6168e8jMrmTmbmbNTU8P5Inm322VpaYlJJmnT\\\n",
       "HtjXps0kkywtLV22xF6SdHPVKmARMRURk/3bfxv4aeA54FHg/v7D7ge+XsV8+5fKzzG3d9rwBCf2\\\n",
       "TifOMXfZEntJ0s0XmVn1DHsiosXOIo1b2YnrI5n5qxHRAB4B3gt8B/hEZr5+pX9rdnY2b+avkur1\\\n",
       "erRarYGl8gsssM4622wzySRzzHGa03v7m80m586dcyGHpGJExJOZOVv1HNeiVu/AMvNcZv54ZrYy\\\n",
       "84OZ+av97b3M/Ehm3tW/vmK8hqHRaLC4uDiw7TSnmWhOcObMGSaaEwPxAlhcXDRekjQktQpY3XU6\\\n",
       "Hdrt733utbva8Pjx4wNL7AHa7bZfZJakIRrZ30Y/LLtRWl1dHVgqv7vEfn5+nsXFReMlSUNWq8/A\\\n",
       "bqab/RnYpXq93oGnBw/bLkkl8DOwMXBYpIyXJB0NAyZJKpIBkyQVyYBJkorkKsRLfOnT/33v9mf+\\\n",
       "w09VOIkk6Up8ByZJKpIBkyQVyVOIl/C0oSSVwXdgkqQiGTBJUpEMmCSpSAZMklQkAyZJKpIBkyQV\\\n",
       "yYBJkopkwCRJRTJgkqQiGTBJUpEMmCSpSAZMklQkAyZJKpIBkyQVyYBJkopkwCRJRapVwCLiPRGx\\\n",
       "FhHPRsQzEXGyv70TEX8eEU/1Lz9X9aySpGrV7S8yvwF8LjP/OCJ+AHgyIh7r7zuVmf+mwtkkSTVS\\\n",
       "q4Bl5svAy/3bfxkRzwI/VO1UkqQ6qtUpxP0iYhr4ceAP+5s+GxHnIuIrEXGsuskkSXVQy4BFxDuA\\\n",
       "/wz8i8z8LvCbwA8Dd7PzDu2Lh/zcUkRsRMTGhQsXjmpcSVIFahewiHgbO/H6rcz8HYDMfCUz38zM\\\n",
       "t4BV4J6DfjYzVzJzNjNnp6amjm5oSdKRq1XAIiKALwPPZuZv7Nt+576HfRx4+qhnkyTVS60WcQAf\\\n",
       "Bn4R+HZEPNXf9ivAJyPibiCBTeCXqhhOklQftQpYZn4TiAN2/d5RzyJJqrdanUKUJOlaGTBJUpEM\\\n",
       "mCSpSAZMklQkAyZJKpIBkyQVyYBJkopkwCRJRTJgkqQiGTBJUpEMmCSpSAZMklQkAyZJKpIBkyQV\\\n",
       "yYBJkopkwCRJRTJg0hjr9XrXtX3c1fn5qvNsw2LApDHV6XRotVp0u92B7d1ul1arRafTqWawmqrz\\\n",
       "81Xn2YYqM0fy8qEPfSglHazdbieQQDabzTx//nxmZp4/fz6bzebevna7Xe2gNVHn5+tmzwZsZA1e\\\n",
       "w6/lUvkAw7oYMOlg+1/w9r/wnTlzZuAFz4jtqPPzNYzZDFgNLgZMutxrr7122QvbAgs5yWQCOclk\\\n",
       "LrBw2Qvia6+9VvXolajz8zWs2UoKmJ+BSWOk0WiwtrZGs9kEYIEFTnKSU5ximmlOcYqTnGSBBQCa\\\n",
       "zSZra2s0Go0Kp65OnZ+vOs92VGInuKNndnY2NzY2qh5DqqVut8v8/DwXty7uveDt2mSTX+aXmWhO\\\n",
       "sLa2xszMTHWD1kSdn6+bPVtEPJmZs0Mc+abxHZg0hmZmZlhZWWGbbZZZHti3zDLbbLOysmK8+ur8\\\n",
       "fNV5tmEzYNIY6na7LC0tMckkbdoD+9q0mWSSpaWly5Zlj6s6P191nm3YDJg0ZnZPOW1tbTHHHNNM\\\n",
       "s8kmJzjBJptMM80cc2xtbTE/Pz+SL3zXo87PV51nOxJVryLZfwHeA6wBzwLPACf7228HHgOe718f\\\n",
       "u9q/5SpE6XJ1XlVXR3V+vlyFWL9ViG8An8vMHwV+EvhMRHwAeAB4PDPvAh7v35d0nRqNBouLiwPb\\\n",
       "TnOaieYEZ86cYaI5wWlOD+xfXFwcqZVr16POz1edZzsyVRf0Shfg68BHgfPAnf1tdwLnr/azvgOT\\\n",
       "Dlfn3yxRR3V+vvxNHDW8ANPAd4AfBLYv2fcXV/t5AyZdWbvdHnjB27X7wme8BtX5+bqZs5UUsFp+\\\n",
       "Dywi3gH8D+DXMvN3ImI7Myf37f+LzDx2wM8tAUsA733vez/04osvHtXIUpF6vd6Bp5QO2z7u6vx8\\\n",
       "3azZSvoeWO0CFhFvA84Av5+Zv9Hfdh6Yy8yXI+JOYD0z33+lf8cvMkvS9SspYLVaxBERAXwZeHY3\\\n",
       "Xn2PAvf3b9/PzmdjkqQxdlvVA1ziw8AvAt+OiKf6234FeBB4JCI+xc7nYp+oZjxJUl3UKmCZ+U0g\\\n",
       "Dtn9kaOcRZJUb7U6hShJ0rWq1TswSTfPF//pffDWW3DLLXzuP52pehzppvMdmDSq+vHirbeqnkQa\\\n",
       "CgMmjardeN3i/8w1mjyFKI0oTxtq1Pl/zSRJRTJgkqQiGTBJUpEMmCSpSAZMklQkAyZJKpIBkyQV\\\n",
       "yYBJkopkwCRJRTJgkqQiGTBJUpEMmCSpSAZMklQkAyZJKpIBkyQVyb8HJklD9Ed/70eZAC4CP/Hc\\\n",
       "s1WPM1J8ByZJQzQBvHHrLbwyNcn//LEfqXqckeI7MEkaspdu/0HONxu8v+pBRowBk6Qhusj/pfn6\\\n",
       "d0ng9te/W/U4I8WASdIQ/cRzf8rf/9L74B23wF9d5NtVDzRCDJgkDdkTn/pjTr9wmoUfWah6lJFS\\\n",
       "q0UcEfGViHg1Ip7et60TEX8eEU/1Lz9X5YySdL2Ovf0YJz54gmNvP1b1KCOlVgEDvgrce8D2U5l5\\\n",
       "d//ye0c8kySphmoVsMx8Ani96jkkSfVXq4BdwWcj4lz/FKPvwSVJRQTsN4EfBu4GXga+eNgDI2Ip\\\n",
       "IjYiYuPChQtHNJ4kqQq1D1hmvpKZb2bmW8AqcM8VHruSmbOZOTs1NXV0Q0qSjlztAxYRd+67+3Hg\\\n",
       "6cMeK0kaH7X6HlhEfA2YA+6IiJeANjAXEXcDCWwCv1TVfJKk+qhVwDLzkwds/vKRDyJJqr3an0KU\\\n",
       "JOkgBkySVCQDJkkqkgGTJBXJgEmSimTAJElFMmCSpCIZMElSkQyYJKlIBkySVCQDJkkjoNfrXdf2\\\n",
       "UWDAJKlwnU6HVqtFt9sd2N7tdmm1WnQ6nWoGGzIDJkkF63Q6LC8vs7W1xfz8/F7Eut0u8/PzbG1t\\\n",
       "sby8PJIRM2CSVKjdeO3ajdjZs2f34rVrFCNmwCSpQL1ej9XV1YFtCyxwcesi9913Hxe3LrLAwsD+\\\n",
       "1dXVkfpMzIBJUoEajQZra2s0m01gJ14nOckpTjHNNKc4xUlO7kWs2WyytrZGo9GocOqby4BJUqFm\\\n",
       "Zmb2IrbOOptsMs00D/EQ00yzySbrrO/Fa2ZmpuqRbyoDJkkFm5mZYWVlhW22WWZ5YN8yy2yzzcrK\\\n",
       "ysjFCwyYJBWt2+2ytLTEJJO0aQ/sa9NmkkmWlpYuW2I/CgyYJBVq/1L5Oeb2Thue4MTe6cQ55i5b\\\n",
       "Yj8qIjOrnmEoZmdnc2Njo+oxJGkoer0erVZrYKn8Aguss84220wyyRxznOb03v5ms8m5c+euuJAj\\\n",
       "Ip7MzNlhzn6z+A5MkgrUaDRYXFwc2Haa00w0Jzhz5gwTzYmBeAEsLi66ClGSVL1Op0O7/b3PvXZX\\\n",
       "Gx4/fnxgiT1Au90euS8y31b1AJKkG7cbpdXV1YGl8rtL7Ofn51lcXBy5eIGfgUnSSOj1egeeHjxs\\\n",
       "+2H8DEySdKQOi9QofeZ1KQMmSSpSrQIWEV+JiFcj4ul9226PiMci4vn+9bEqZ5Qk1UOtAgZ8Fbj3\\\n",
       "km0PAI9n5l3A4/37kqQxV6uAZeYTwOuXbP4Y8HD/9sNwyd8HkCSNpVoF7BDvysyXAfrX76x4HklS\\\n",
       "DZQQsGsWEUsRsRERGxcuXKh6HEnSEJUQsFci4k6A/vWrhz0wM1cyczYzZ6empo5sQEnS0SshYI8C\\\n",
       "9/dv3w98vcJZJEk1UauARcTXgP8FvD8iXoqITwEPAh+NiOeBj/bvS5LGXK1+F2JmfvKQXR850kEk\\\n",
       "SbVXq3dgkiRdKwMmSSqSAZMkFcmASZKKZMAkSUUyYJKkIhkwSVKRDJgkqUgGTJJUJAMmSSqSAZMk\\\n",
       "FcmASZKKZMAkSUUyYJKkIhkwSVKRDJgkqUgGTJJUJAMmSSqSAZMkFcmASZKKZMAkSUUyYJKkIhkw\\\n",
       "SVKRDJgkqUgGTJJUJAMmSSrSbVUPcK0iYhP4S+BN4I3MnK12IklSlYoJWN98Zr5W9RCSpOp5ClGS\\\n",
       "VKSSApbANyLiyYhYqnoYSVK1SgrYhzPzHwI/C3wmIv7RpQ+IiKWI2IiIjQsXLhz9hNIher3edW2X\\\n",
       "dHXFBCwzt/rXrwK/C9xzwGNWMnM2M2enpqaOekTpQJ1Oh1arRbfbHdje7XZptVp0Op1qBpMKV0TA\\\n",
       "IuL7I+IHdm8D/xh4utqppKvrdDosLy+ztbXF/Pz8XsS63S7z8/NsbW2xvLxsxKQbUETAgHcB34yI\\\n",
       "PwG+BZzNzP9a8UzSFe3Ga9duxM6ePbsXr11GTLp+kZlVzzAUs7OzubGxUfUYGlO9Xo9WqzUQqQUW\\\n",
       "WGedbbaZZJI55jjN6b39zWaTc+fO0Wg0KphY2hERT5byPdtS3oFJRWk0GqytrdFsNoGdeJ3kJKc4\\\n",
       "xTTTnOIUJznJAgvATrzW1taMl3QdDJg0JDMzM3sRW2edTTaZZpqHeIhpptlkk3XW9+I1MzNT9chS\\\n",
       "UQyYNEQzMzOsrKywzTbLLA/sW2aZbbZZWVkxXtINMGDSEHW7XZaWlphkkjbtgX1t2kwyydLS0mVL\\\n",
       "7CVdnQGThmT/Uvk55vZOG57gxN7pxDnmLltiL+nauApRGgJXIapUrkKUxlyj0WBxcXFg22lOM9Gc\\\n",
       "4MyZM0w0JwbiBbC4uGi8pOtgwKQh6XQ6tNvf+9xrd7Xh8ePHB5bYA7Tbbb/ILF2n0v4emFSU3Sit\\\n",
       "rq4OLJXfXWI/Pz/P4uKi8ZJugJ+BSUeg1+sdeHrwsO1SVfwMTNKAwyJlvKQbZ8AkSUUyYJKkIhkw\\\n",
       "SVKRDJgkqUguo5f+BqYfOLt3e/PB4xVOIo0f34FJkopkwCRJRfIUovQ34GlDqTq+A5MkFcmASZKK\\\n",
       "ZMAkSUUyYJKkIhkwSVKRDJgkqUgGTJJUpJH9g5YRcQF4seo5bsAdwGtVD1GhcT7+cT528Pjrcvx/\\\n",
       "NzOnqh7iWoxswEoVERul/DXUYRjn4x/nYwePf9yP/0Z4ClGSVCQDJkkqkgGrn5WqB6jYOB//OB87\\\n",
       "ePzjfvzXzc/AJElF8h2YJKlIBqwmIuJfR8S5iHgqIr4REc19+z4fES9ExPmI+Jkq5xyWiPj1iHiu\\\n",
       "/xz8bkRM7ts30scfEZ+IiGci4q2ImL1k30gfO0BE3Ns/vhci4oGq5xm2iPhKRLwaEU/v23Z7RDwW\\\n",
       "Ec/3r49VOWMpDFh9/HpmtjLzbuAM8K8AIuIDwC8APwbcC/z7iLi1simH5zHgg5nZArrA52Fsjv9p\\\n",
       "4J8AT+zfOA7H3j+eLwE/C3wA+GT/uEfZV9n577nfA8DjmXkX8Hj/vq7CgNVEZn53393vB3Y/nPwY\\\n",
       "8NuZ+deZ+afAC8A9Rz3fsGXmNzLzjf7dPwDe3b898sefmc9m5vkDdo38sbNzPC9k5v/JzP8H/DY7\\\n",
       "xz2yMvMJ4PVLNn8MeLh/+2Fg4ShnKpUBq5GI+LWI+DPgn9F/Bwb8EPBn+x72Un/bKPvnwH/p3x7H\\\n",
       "4981Dsc+Dsd4Ld6VmS8D9K/fWfE8Rbit6gHGSUT8N+DvHLDrC5n59cz8AvCFiPg88FmgDcQBjy9y\\\n",
       "6ejVjr//mC8AbwC/tftjBzy+uOO/lmM/6McO2FbcsV/FOByjhsSAHaHM/OlrfOh/BM6yE7CXgPfs\\\n",
       "2/duYOsmj3Ykrnb8EXE/cB/wkfze9ztG4viv47/9fiNx7FcxDsd4LV6JiDsz8+WIuBN4teqBSuAp\\\n",
       "xJqIiLv23f154Ln+7UeBX4iI74uI9wF3Ad866vmGLSLuBf4l8POZeXHfrrE4/kOMw7H/EXBXRLwv\\\n",
       "Iv4WO4tWHq14pio8Ctzfv30/cNi7cu3jO7D6eDAi3g+8xc5v0f80QGY+ExGPAP+bnVNrn8nMN6sb\\\n",
       "c2j+HfB9wGMRAfAHmfnpcTj+iPg48G+BKeBsRDyVmT8zDseemW9ExGeB3wduBb6Smc9UPNZQRcTX\\\n",
       "gDngjoh4iZ0zLQ8Cj0TEp4DvAJ+obsJy+Js4JElF8hSiJKlIBkySVCQDJkkqkgGTJBXJgEmSimTA\\\n",
       "JElFMmCSpCIZMElSkQyYJKlIBkySVCQDJkkqkgGTJBXJgEmSimTAJElFMmCSpCIZMElSkQyYJKlI\\\n",
       "BkySVCQDJkkqkgGTJBXp/wPgVbOsI92iKwAAAABJRU5ErkJggg==\\\n",
       "\"\n",
       "\n",
       "\n",
       "    /* set a timeout to make sure all the above elements are created before\n",
       "       the object is initialized. */\n",
       "    setTimeout(function() {\n",
       "        anim3b3e2012b952469bbe95e38dd9482976 = new Animation(frames, img_id, slider_id, 500.0,\n",
       "                                 loop_select_id);\n",
       "    }, 0);\n",
       "  })()\n",
       "</script>\n"
      ],
      "text/plain": [
       "<IPython.core.display.HTML object>"
      ]
     },
     "execution_count": 79,
     "metadata": {},
     "output_type": "execute_result"
    }
   ],
   "source": [
    "X = data.clone()\n",
    "fig,ax = plt.subplots()\n",
    "ani = FuncAnimation(fig, do_one, frames=5, interval=500, repeat=False)\n",
    "plt.close()\n",
    "HTML(ani.to_jshtml())"
   ]
  },
  {
   "cell_type": "markdown",
   "metadata": {},
   "source": [
    "**Homework:**\n",
    "implement [k-means clustering](https://en.wikipedia.org/wiki/K-means_clustering), [dbscan](https://en.wikipedia.org/wiki/DBSCAN), \n",
    "[locality sensitive hashing](https://en.wikipedia.org/wiki/Locality-sensitive_hashing), \n",
    "or some other clustering, fast nearest neighbors, or similar algorithm of your choice, on the GPU. \n",
    "Check if your version is faster than a pure python or CPU version.\n",
    "\n",
    "Bonus: Implement it in APL too!\n",
    "\n",
    "Super Bonus: Invent a new meanshift algorithm which picks only the closest points to avoid quadratic time.\n",
    "SB+: Publish it!\n"
   ]
  },
  {
   "cell_type": "code",
   "execution_count": 76,
   "metadata": {},
   "outputs": [
    {
     "ename": "SyntaxError",
     "evalue": "invalid syntax (4015990691.py, line 1)",
     "output_type": "error",
     "traceback": [
      "\u001b[0;36m  Input \u001b[0;32mIn [76]\u001b[0;36m\u001b[0m\n\u001b[0;31m    STOP: no GPU\u001b[0m\n\u001b[0m             ^\u001b[0m\n\u001b[0;31mSyntaxError\u001b[0m\u001b[0;31m:\u001b[0m invalid syntax\n"
     ]
    }
   ],
   "source": [
    "STOP: no GPU"
   ]
  },
  {
   "cell_type": "markdown",
   "metadata": {
    "tags": []
   },
   "source": [
    "## GPU batched algorithm"
   ]
  },
  {
   "cell_type": "markdown",
   "metadata": {},
   "source": [
    "To truly accelerate the algorithm, we need to be performing updates on a batch of points per iteration, instead of just one as we were doing."
   ]
  },
  {
   "cell_type": "code",
   "execution_count": 42,
   "metadata": {},
   "outputs": [],
   "source": [
    "def dist_b(a,b): return torch.sqrt(((a[None]-b[:,None])**2).sum(2))"
   ]
  },
  {
   "cell_type": "code",
   "execution_count": 43,
   "metadata": {},
   "outputs": [
    {
     "data": {
      "text/plain": [
       "tensor([[0.6161, 0.7434, 0.7351, 0.9002, 0.5875, 0.5845, 0.2929, 0.1938],\n",
       "        [1.1132, 0.2402, 0.9845, 0.4507, 1.0699, 0.6556, 0.6886, 0.7938],\n",
       "        [0.0261, 0.9847, 0.3508, 1.0109, 0.0595, 0.5418, 0.4450, 0.4208],\n",
       "        [0.4530, 0.8696, 0.1635, 0.7858, 0.4366, 0.4354, 0.6171, 0.7125],\n",
       "        [0.6937, 0.4877, 0.4028, 0.3711, 0.6562, 0.2454, 0.5457, 0.6985]])"
      ]
     },
     "execution_count": 43,
     "metadata": {},
     "output_type": "execute_result"
    }
   ],
   "source": [
    "X=torch.rand(8,2)\n",
    "x=torch.rand(5,2)\n",
    "dist_b(X, x)"
   ]
  },
  {
   "cell_type": "code",
   "execution_count": 44,
   "metadata": {},
   "outputs": [
    {
     "data": {
      "text/plain": [
       "tensor([[1.9947e-01, 1.5541e-01, 5.4735e-02,  ..., 2.2132e-13, 2.0775e-15,\n",
       "         1.6831e-24],\n",
       "        [1.5541e-01, 1.9947e-01, 1.1173e-01,  ..., 3.1427e-13, 2.0317e-15,\n",
       "         9.7350e-25],\n",
       "        [5.4735e-02, 1.1173e-01, 1.9947e-01,  ..., 3.5939e-16, 9.4595e-19,\n",
       "         3.9723e-29],\n",
       "        [7.0175e-02, 3.1377e-02, 1.8560e-02,  ..., 5.2249e-18, 3.3886e-20,\n",
       "         3.0925e-30],\n",
       "        [1.4180e-02, 3.1085e-03, 1.1476e-03,  ..., 8.5815e-20, 8.2003e-22,\n",
       "         9.4978e-32]])"
      ]
     },
     "execution_count": 44,
     "metadata": {},
     "output_type": "execute_result"
    }
   ],
   "source": [
    "bs=5\n",
    "X = data.clone()\n",
    "x = X[:bs]\n",
    "weight = gaussian(dist_b(X, x), 2)\n",
    "weight"
   ]
  },
  {
   "cell_type": "code",
   "execution_count": 45,
   "metadata": {},
   "outputs": [
    {
     "data": {
      "text/plain": [
       "(torch.Size([5, 1500]), torch.Size([1500, 2]))"
      ]
     },
     "execution_count": 45,
     "metadata": {},
     "output_type": "execute_result"
    }
   ],
   "source": [
    "weight.shape,X.shape"
   ]
  },
  {
   "cell_type": "code",
   "execution_count": 46,
   "metadata": {},
   "outputs": [
    {
     "data": {
      "text/plain": [
       "torch.Size([5, 2])"
      ]
     },
     "execution_count": 46,
     "metadata": {},
     "output_type": "execute_result"
    }
   ],
   "source": [
    "num = (weight[...,None]*X[None]).sum(1)\n",
    "num.shape"
   ]
  },
  {
   "cell_type": "code",
   "execution_count": 47,
   "metadata": {},
   "outputs": [
    {
     "data": {
      "text/plain": [
       "torch.Size([5, 1])"
      ]
     },
     "execution_count": 47,
     "metadata": {},
     "output_type": "execute_result"
    }
   ],
   "source": [
    "div = weight.sum(1, keepdim=True)\n",
    "div.shape"
   ]
  },
  {
   "cell_type": "code",
   "execution_count": 48,
   "metadata": {},
   "outputs": [
    {
     "data": {
      "text/plain": [
       "tensor([[-0.5274, 24.3688],\n",
       "        [-1.0042, 23.6233],\n",
       "        [-0.7959, 22.5723],\n",
       "        [ 1.0092, 24.4519],\n",
       "        [ 1.8587, 25.1916]])"
      ]
     },
     "execution_count": 48,
     "metadata": {},
     "output_type": "execute_result"
    }
   ],
   "source": [
    "num/div"
   ]
  },
  {
   "cell_type": "code",
   "execution_count": 49,
   "metadata": {},
   "outputs": [],
   "source": [
    "from fastcore.all import chunked"
   ]
  },
  {
   "cell_type": "code",
   "execution_count": 50,
   "metadata": {},
   "outputs": [],
   "source": [
    "def meanshift(data, bs=500):\n",
    "    n = len(data)\n",
    "    X = data.clone()\n",
    "    for it in range(5):\n",
    "        for i in range(0, n, bs):\n",
    "            s = slice(i, min(i+bs,n))\n",
    "            weight = gaussian(dist_b(X, X[s]), 2)\n",
    "            num = (weight[...,None]*X[None]).sum(1)\n",
    "            div = weight.sum(1, keepdim=True)\n",
    "            X[s] = num/div\n",
    "    return X"
   ]
  },
  {
   "cell_type": "markdown",
   "metadata": {},
   "source": [
    "Although each iteration still has to launch a new cuda kernel, there are now fewer iterations, and the acceleration from updating a batch of points more than makes up for it."
   ]
  },
  {
   "cell_type": "code",
   "execution_count": 51,
   "metadata": {},
   "outputs": [],
   "source": [
    "data = data.cuda()"
   ]
  },
  {
   "cell_type": "code",
   "execution_count": 54,
   "metadata": {},
   "outputs": [],
   "source": [
    "X = meanshift(data).cpu()"
   ]
  },
  {
   "cell_type": "code",
   "execution_count": 55,
   "metadata": {},
   "outputs": [
    {
     "name": "stdout",
     "output_type": "stream",
     "text": [
      "3.25 ms ± 290 µs per loop (mean ± std. dev. of 7 runs, 1 loop each)\n"
     ]
    }
   ],
   "source": [
    "%timeit -n 1 X = meanshift(data).cpu()"
   ]
  },
  {
   "cell_type": "code",
   "execution_count": 56,
   "metadata": {},
   "outputs": [
    {
     "data": {
      "image/png": "[encoded data removed]",
      "text/plain": [
       "<Figure size 432x288 with 1 Axes>"
      ]
     },
     "metadata": {
      "needs_background": "light"
     },
     "output_type": "display_data"
    }
   ],
   "source": [
    "plot_data(centroids+2, X, n_samples)"
   ]
  },
  {
   "cell_type": "code",
   "execution_count": null,
   "metadata": {},
   "outputs": [],
   "source": []
  }
 ],
 "metadata": {
  "anaconda-cloud": {},
  "kernelspec": {
   "display_name": "Python 3 (ipykernel)",
   "language": "python",
   "name": "python3"
  },
  "language_info": {
   "codemirror_mode": {
    "name": "ipython",
    "version": 3
   },
   "file_extension": ".py",
   "mimetype": "text/x-python",
   "name": "python",
   "nbconvert_exporter": "python",
   "pygments_lexer": "ipython3",
   "version": "3.9.13"
  },
  "toc": {
   "base_numbering": 1,
   "nav_menu": {},
   "number_sections": false,
   "sideBar": true,
   "skip_h1_title": false,
   "title_cell": "Table of Contents",
   "title_sidebar": "Contents",
   "toc_cell": false,
   "toc_position": {},
   "toc_section_display": true,
   "toc_window_display": false
  }
 },
 "nbformat": 4,
 "nbformat_minor": 4
}
