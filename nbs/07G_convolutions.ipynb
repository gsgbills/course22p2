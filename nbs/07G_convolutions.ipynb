{
 "cells": [
  {
   "cell_type": "code",
   "execution_count": 1,
   "metadata": {},
   "outputs": [],
   "source": [
    "#|default_exp conv"
   ]
  },
  {
   "cell_type": "markdown",
   "metadata": {},
   "source": [
    "# Convolutions"
   ]
  },
  {
   "cell_type": "code",
   "execution_count": 2,
   "metadata": {},
   "outputs": [],
   "source": [
    "#|export\n",
    "import pickle,gzip,math,os,time,shutil,torch,matplotlib as mpl, numpy as np\n",
    "import pandas as pd,matplotlib.pyplot as plt\n",
    "from pathlib import Path\n",
    "from torch import tensor\n",
    "from torch import nn\n",
    "\n",
    "from torch.utils.data import DataLoader,default_collate\n",
    "from typing import Mapping"
   ]
  },
  {
   "cell_type": "code",
   "execution_count": 3,
   "metadata": {},
   "outputs": [],
   "source": [
    "import logging\n",
    "logging.disable(logging.WARNING)"
   ]
  },
  {
   "cell_type": "code",
   "execution_count": 4,
   "metadata": {},
   "outputs": [],
   "source": [
    "# !pip install -e ..\n",
    "from miniai.training import *\n",
    "from miniai.datasets import *"
   ]
  },
  {
   "cell_type": "code",
   "execution_count": 115,
   "metadata": {},
   "outputs": [],
   "source": [
    "mpl.rcParams['image.cmap'] = 'gray'\n",
    "def_device = 'cuda' if torch.cuda.is_available() else 'cpu'"
   ]
  },
  {
   "cell_type": "code",
   "execution_count": 6,
   "metadata": {},
   "outputs": [],
   "source": [
    "path_data = Path('data')\n",
    "path_gz = path_data/'mnist.pkl.gz'\n",
    "with gzip.open(path_gz, 'rb') as f: ((x_train, y_train), (x_valid, y_valid), _) = pickle.load(f, encoding='latin-1')\n",
    "x_train, y_train, x_valid, y_valid = map(tensor, [x_train, y_train, x_valid, y_valid])"
   ]
  },
  {
   "cell_type": "markdown",
   "metadata": {},
   "source": [
    "In the context of an image, a feature is a visually distinctive attribute. For example, the number 7 is characterized by a horizontal edge near the top of the digit, and a top-right to bottom-left diagonal edge underneath that. Finding the edges in an image is a very common task in computer vision. To do it, we use a *convolution*, which requires only multiplication and addition."
   ]
  },
  {
   "cell_type": "markdown",
   "metadata": {},
   "source": [
    "### Understanding the Convolution Equations"
   ]
  },
  {
   "cell_type": "markdown",
   "metadata": {},
   "source": [
    "To explain the math behind convolutions, fast.ai student Matt Kleinsmith came up with the very clever idea of showing [CNNs from different viewpoints](https://medium.com/impactai/cnns-from-different-viewpoints-fab7f52d159c).\n",
    "<br>\n",
    "Here's the input:"
   ]
  },
  {
   "cell_type": "markdown",
   "metadata": {},
   "source": [
    "<img alt=\"The image\" width=\"75\" src=\"images/att_00032.png\">"
   ]
  },
  {
   "cell_type": "markdown",
   "metadata": {},
   "source": [
    "Here's our kernel:"
   ]
  },
  {
   "cell_type": "markdown",
   "metadata": {},
   "source": [
    "<img alt=\"The kernel\" width=\"55\" src=\"images/att_00033.png\">"
   ]
  },
  {
   "cell_type": "markdown",
   "metadata": {},
   "source": [
    "Since the filter fits in the image four times, we have four results:"
   ]
  },
  {
   "cell_type": "markdown",
   "metadata": {},
   "source": [
    "<img alt=\"The activations\" width=\"52\" src=\"images/att_00034.png\">"
   ]
  },
  {
   "cell_type": "markdown",
   "metadata": {},
   "source": [
    "<img alt=\"Applying the kernel\" width=\"366\" caption=\"Applying the kernel\" id=\"apply_kernel\" src=\"images/att_00035.png\">"
   ]
  },
  {
   "cell_type": "markdown",
   "metadata": {},
   "source": [
    "<img alt=\"The equation\" width=\"436\" caption=\"The equation\" id=\"eq_view\" src=\"images/att_00036.png\">"
   ]
  },
  {
   "cell_type": "code",
   "execution_count": 7,
   "metadata": {},
   "outputs": [],
   "source": [
    "x_imgs = x_train.view(-1,28,28)\n",
    "xv_imgs = x_valid.view(-1,28,28)"
   ]
  },
  {
   "cell_type": "code",
   "execution_count": 8,
   "metadata": {},
   "outputs": [],
   "source": [
    "mpl.rcParams['figure.dpi'] = 30"
   ]
  },
  {
   "cell_type": "code",
   "execution_count": 9,
   "metadata": {},
   "outputs": [
    {
     "data": {
      "image/png": "[encoded data removed]",
      "text/plain": [
       "<Figure size 192x144 with 1 Axes>"
      ]
     },
     "metadata": {},
     "output_type": "display_data"
    }
   ],
   "source": [
    "im3 = x_imgs[7]\n",
    "show_image(im3);"
   ]
  },
  {
   "cell_type": "code",
   "execution_count": 10,
   "metadata": {},
   "outputs": [],
   "source": [
    "top_edge = tensor([[-1,-1,-1],\n",
    "                   [ 0, 0, 0],\n",
    "                   [ 1, 1, 1]]).float()"
   ]
  },
  {
   "cell_type": "markdown",
   "metadata": {},
   "source": [
    "We're going to call this top_edge matrix our $kernel$."
   ]
  },
  {
   "cell_type": "code",
   "execution_count": 11,
   "metadata": {},
   "outputs": [
    {
     "data": {
      "image/png": "[encoded data removed]",
      "text/plain": [
       "<Figure size 192x144 with 1 Axes>"
      ]
     },
     "metadata": {},
     "output_type": "display_data"
    }
   ],
   "source": [
    "show_image(top_edge, noframe=False);"
   ]
  },
  {
   "cell_type": "markdown",
   "metadata": {},
   "source": [
    "The filter will take any window of size 3×3 in our images, and if we name the pixel values like this:\n",
    "\n",
    "$$\\begin{matrix} a1 & a2 & a3 \\\\ a4 & a5 & a6 \\\\ a7 & a8 & a9 \\end{matrix}$$\n",
    "\n",
    "it will return $-a1-a2-a3+a7+a8+a9$."
   ]
  },
  {
   "cell_type": "markdown",
   "metadata": {},
   "source": [
    "Let's grab the first 13 rows and 23 columns of the image and use `Greys` conditional formatting."
   ]
  },
  {
   "cell_type": "code",
   "execution_count": 12,
   "metadata": {},
   "outputs": [
    {
     "data": {
      "text/html": [
       "<style type=\"text/css\">\n",
       "#T_865e2_row0_col0, #T_865e2_row0_col1, #T_865e2_row0_col2, #T_865e2_row0_col3, #T_865e2_row0_col4, #T_865e2_row0_col5, #T_865e2_row0_col6, #T_865e2_row0_col7, #T_865e2_row0_col8, #T_865e2_row0_col9, #T_865e2_row0_col10, #T_865e2_row0_col11, #T_865e2_row0_col12, #T_865e2_row0_col13, #T_865e2_row0_col14, #T_865e2_row0_col15, #T_865e2_row0_col16, #T_865e2_row0_col17, #T_865e2_row0_col18, #T_865e2_row0_col19, #T_865e2_row0_col20, #T_865e2_row0_col21, #T_865e2_row0_col22, #T_865e2_row1_col0, #T_865e2_row1_col1, #T_865e2_row1_col2, #T_865e2_row1_col3, #T_865e2_row1_col4, #T_865e2_row1_col5, #T_865e2_row1_col6, #T_865e2_row1_col7, #T_865e2_row1_col8, #T_865e2_row1_col9, #T_865e2_row1_col10, #T_865e2_row1_col11, #T_865e2_row1_col12, #T_865e2_row1_col13, #T_865e2_row1_col14, #T_865e2_row1_col15, #T_865e2_row1_col16, #T_865e2_row1_col17, #T_865e2_row1_col18, #T_865e2_row1_col19, #T_865e2_row1_col20, #T_865e2_row1_col21, #T_865e2_row1_col22, #T_865e2_row2_col0, #T_865e2_row2_col1, #T_865e2_row2_col2, #T_865e2_row2_col3, #T_865e2_row2_col4, #T_865e2_row2_col5, #T_865e2_row2_col6, #T_865e2_row2_col7, #T_865e2_row2_col8, #T_865e2_row2_col9, #T_865e2_row2_col10, #T_865e2_row2_col11, #T_865e2_row2_col12, #T_865e2_row2_col13, #T_865e2_row2_col14, #T_865e2_row2_col15, #T_865e2_row2_col16, #T_865e2_row2_col17, #T_865e2_row2_col18, #T_865e2_row2_col19, #T_865e2_row2_col20, #T_865e2_row2_col21, #T_865e2_row2_col22, #T_865e2_row3_col0, #T_865e2_row3_col1, #T_865e2_row3_col2, #T_865e2_row3_col3, #T_865e2_row3_col4, #T_865e2_row3_col5, #T_865e2_row3_col6, #T_865e2_row3_col7, #T_865e2_row3_col8, #T_865e2_row3_col9, #T_865e2_row3_col10, #T_865e2_row3_col11, #T_865e2_row3_col12, #T_865e2_row3_col13, #T_865e2_row3_col14, #T_865e2_row3_col15, #T_865e2_row3_col16, #T_865e2_row3_col17, #T_865e2_row3_col18, #T_865e2_row3_col19, #T_865e2_row3_col20, #T_865e2_row3_col21, #T_865e2_row3_col22, #T_865e2_row4_col0, #T_865e2_row4_col1, #T_865e2_row4_col2, #T_865e2_row4_col3, #T_865e2_row4_col4, #T_865e2_row4_col5, #T_865e2_row4_col6, #T_865e2_row4_col7, #T_865e2_row4_col8, #T_865e2_row4_col9, #T_865e2_row4_col10, #T_865e2_row4_col11, #T_865e2_row4_col12, #T_865e2_row4_col13, #T_865e2_row4_col14, #T_865e2_row4_col15, #T_865e2_row4_col16, #T_865e2_row4_col17, #T_865e2_row4_col18, #T_865e2_row4_col19, #T_865e2_row4_col20, #T_865e2_row4_col21, #T_865e2_row4_col22, #T_865e2_row5_col0, #T_865e2_row5_col1, #T_865e2_row5_col2, #T_865e2_row5_col3, #T_865e2_row5_col4, #T_865e2_row5_col5, #T_865e2_row5_col6, #T_865e2_row5_col7, #T_865e2_row5_col8, #T_865e2_row5_col9, #T_865e2_row5_col10, #T_865e2_row5_col22, #T_865e2_row6_col0, #T_865e2_row6_col1, #T_865e2_row6_col2, #T_865e2_row6_col3, #T_865e2_row6_col4, #T_865e2_row6_col5, #T_865e2_row6_col6, #T_865e2_row6_col7, #T_865e2_row6_col8, #T_865e2_row7_col0, #T_865e2_row7_col1, #T_865e2_row7_col2, #T_865e2_row7_col3, #T_865e2_row7_col4, #T_865e2_row7_col5, #T_865e2_row7_col6, #T_865e2_row7_col7, #T_865e2_row7_col8, #T_865e2_row8_col0, #T_865e2_row8_col1, #T_865e2_row8_col2, #T_865e2_row8_col3, #T_865e2_row8_col4, #T_865e2_row8_col5, #T_865e2_row8_col6, #T_865e2_row8_col7, #T_865e2_row8_col8, #T_865e2_row9_col0, #T_865e2_row9_col1, #T_865e2_row9_col2, #T_865e2_row9_col3, #T_865e2_row9_col4, #T_865e2_row9_col5, #T_865e2_row9_col6, #T_865e2_row9_col7, #T_865e2_row9_col8, #T_865e2_row9_col13, #T_865e2_row9_col14, #T_865e2_row9_col15, #T_865e2_row9_col16, #T_865e2_row10_col0, #T_865e2_row10_col1, #T_865e2_row10_col2, #T_865e2_row10_col3, #T_865e2_row10_col4, #T_865e2_row10_col5, #T_865e2_row10_col6, #T_865e2_row10_col7, #T_865e2_row10_col8, #T_865e2_row10_col9, #T_865e2_row10_col10, #T_865e2_row10_col11, #T_865e2_row10_col12, #T_865e2_row10_col13, #T_865e2_row10_col14, #T_865e2_row10_col15, #T_865e2_row10_col16, #T_865e2_row10_col22, #T_865e2_row11_col0, #T_865e2_row11_col1, #T_865e2_row11_col2, #T_865e2_row11_col3, #T_865e2_row11_col4, #T_865e2_row11_col5, #T_865e2_row11_col6, #T_865e2_row11_col7, #T_865e2_row11_col8, #T_865e2_row11_col9, #T_865e2_row11_col10, #T_865e2_row11_col11, #T_865e2_row11_col12, #T_865e2_row11_col13, #T_865e2_row11_col14, #T_865e2_row11_col15, #T_865e2_row11_col22, #T_865e2_row12_col0, #T_865e2_row12_col1, #T_865e2_row12_col2, #T_865e2_row12_col3, #T_865e2_row12_col4, #T_865e2_row12_col5, #T_865e2_row12_col6, #T_865e2_row12_col7, #T_865e2_row12_col8, #T_865e2_row12_col9, #T_865e2_row12_col10, #T_865e2_row12_col11, #T_865e2_row12_col12, #T_865e2_row12_col13, #T_865e2_row12_col22 {\n",
       "  font-size: 7pt;\n",
       "  background-color: #ffffff;\n",
       "  color: #000000;\n",
       "}\n",
       "#T_865e2_row5_col11 {\n",
       "  font-size: 7pt;\n",
       "  background-color: #ececec;\n",
       "  color: #000000;\n",
       "}\n",
       "#T_865e2_row5_col12 {\n",
       "  font-size: 7pt;\n",
       "  background-color: #e8e8e8;\n",
       "  color: #000000;\n",
       "}\n",
       "#T_865e2_row5_col13 {\n",
       "  font-size: 7pt;\n",
       "  background-color: #b0b0b0;\n",
       "  color: #000000;\n",
       "}\n",
       "#T_865e2_row5_col14, #T_865e2_row5_col15, #T_865e2_row5_col16, #T_865e2_row5_col17, #T_865e2_row5_col18, #T_865e2_row5_col19, #T_865e2_row6_col13, #T_865e2_row6_col20, #T_865e2_row7_col9, #T_865e2_row7_col10, #T_865e2_row7_col11, #T_865e2_row7_col12, #T_865e2_row7_col13, #T_865e2_row7_col20, #T_865e2_row7_col21, #T_865e2_row7_col22, #T_865e2_row8_col10, #T_865e2_row8_col11, #T_865e2_row8_col20, #T_865e2_row8_col21, #T_865e2_row8_col22, #T_865e2_row9_col20, #T_865e2_row10_col20, #T_865e2_row11_col20 {\n",
       "  font-size: 7pt;\n",
       "  background-color: #000000;\n",
       "  color: #f1f1f1;\n",
       "}\n",
       "#T_865e2_row5_col20 {\n",
       "  font-size: 7pt;\n",
       "  background-color: #626262;\n",
       "  color: #f1f1f1;\n",
       "}\n",
       "#T_865e2_row5_col21 {\n",
       "  font-size: 7pt;\n",
       "  background-color: #fcfcfc;\n",
       "  color: #000000;\n",
       "}\n",
       "#T_865e2_row6_col9 {\n",
       "  font-size: 7pt;\n",
       "  background-color: #dbdbdb;\n",
       "  color: #000000;\n",
       "}\n",
       "#T_865e2_row6_col10 {\n",
       "  font-size: 7pt;\n",
       "  background-color: #878787;\n",
       "  color: #f1f1f1;\n",
       "}\n",
       "#T_865e2_row6_col11 {\n",
       "  font-size: 7pt;\n",
       "  background-color: #212121;\n",
       "  color: #f1f1f1;\n",
       "}\n",
       "#T_865e2_row6_col12 {\n",
       "  font-size: 7pt;\n",
       "  background-color: #1e1e1e;\n",
       "  color: #f1f1f1;\n",
       "}\n",
       "#T_865e2_row6_col14, #T_865e2_row7_col14 {\n",
       "  font-size: 7pt;\n",
       "  background-color: #020202;\n",
       "  color: #f1f1f1;\n",
       "}\n",
       "#T_865e2_row6_col15, #T_865e2_row6_col16, #T_865e2_row6_col17, #T_865e2_row6_col18, #T_865e2_row6_col19, #T_865e2_row7_col15, #T_865e2_row7_col16, #T_865e2_row7_col17, #T_865e2_row7_col18, #T_865e2_row7_col19, #T_865e2_row8_col18, #T_865e2_row8_col19, #T_865e2_row9_col19, #T_865e2_row10_col19, #T_865e2_row11_col18, #T_865e2_row11_col19, #T_865e2_row12_col17, #T_865e2_row12_col18, #T_865e2_row12_col19 {\n",
       "  font-size: 7pt;\n",
       "  background-color: #010101;\n",
       "  color: #f1f1f1;\n",
       "}\n",
       "#T_865e2_row6_col21 {\n",
       "  font-size: 7pt;\n",
       "  background-color: #727272;\n",
       "  color: #f1f1f1;\n",
       "}\n",
       "#T_865e2_row6_col22 {\n",
       "  font-size: 7pt;\n",
       "  background-color: #dcdcdc;\n",
       "  color: #000000;\n",
       "}\n",
       "#T_865e2_row8_col9 {\n",
       "  font-size: 7pt;\n",
       "  background-color: #777777;\n",
       "  color: #f1f1f1;\n",
       "}\n",
       "#T_865e2_row8_col12 {\n",
       "  font-size: 7pt;\n",
       "  background-color: #1a1a1a;\n",
       "  color: #f1f1f1;\n",
       "}\n",
       "#T_865e2_row8_col13 {\n",
       "  font-size: 7pt;\n",
       "  background-color: #8f8f8f;\n",
       "  color: #f1f1f1;\n",
       "}\n",
       "#T_865e2_row8_col14, #T_865e2_row8_col15, #T_865e2_row8_col16 {\n",
       "  font-size: 7pt;\n",
       "  background-color: #909090;\n",
       "  color: #f1f1f1;\n",
       "}\n",
       "#T_865e2_row8_col17, #T_865e2_row11_col17 {\n",
       "  font-size: 7pt;\n",
       "  background-color: #525252;\n",
       "  color: #f1f1f1;\n",
       "}\n",
       "#T_865e2_row9_col9 {\n",
       "  font-size: 7pt;\n",
       "  background-color: #fdfdfd;\n",
       "  color: #000000;\n",
       "}\n",
       "#T_865e2_row9_col10, #T_865e2_row9_col11, #T_865e2_row9_col22 {\n",
       "  font-size: 7pt;\n",
       "  background-color: #f1f1f1;\n",
       "  color: #000000;\n",
       "}\n",
       "#T_865e2_row9_col12 {\n",
       "  font-size: 7pt;\n",
       "  background-color: #f4f4f4;\n",
       "  color: #000000;\n",
       "}\n",
       "#T_865e2_row9_col17, #T_865e2_row11_col21 {\n",
       "  font-size: 7pt;\n",
       "  background-color: #f8f8f8;\n",
       "  color: #000000;\n",
       "}\n",
       "#T_865e2_row9_col18 {\n",
       "  font-size: 7pt;\n",
       "  background-color: #1f1f1f;\n",
       "  color: #f1f1f1;\n",
       "}\n",
       "#T_865e2_row9_col21 {\n",
       "  font-size: 7pt;\n",
       "  background-color: #646464;\n",
       "  color: #f1f1f1;\n",
       "}\n",
       "#T_865e2_row10_col17 {\n",
       "  font-size: 7pt;\n",
       "  background-color: #c5c5c5;\n",
       "  color: #000000;\n",
       "}\n",
       "#T_865e2_row10_col18 {\n",
       "  font-size: 7pt;\n",
       "  background-color: #0c0c0c;\n",
       "  color: #f1f1f1;\n",
       "}\n",
       "#T_865e2_row10_col21 {\n",
       "  font-size: 7pt;\n",
       "  background-color: #828282;\n",
       "  color: #f1f1f1;\n",
       "}\n",
       "#T_865e2_row11_col16 {\n",
       "  font-size: 7pt;\n",
       "  background-color: #c3c3c3;\n",
       "  color: #000000;\n",
       "}\n",
       "#T_865e2_row12_col14 {\n",
       "  font-size: 7pt;\n",
       "  background-color: #c1c1c1;\n",
       "  color: #000000;\n",
       "}\n",
       "#T_865e2_row12_col15 {\n",
       "  font-size: 7pt;\n",
       "  background-color: #323232;\n",
       "  color: #f1f1f1;\n",
       "}\n",
       "#T_865e2_row12_col16 {\n",
       "  font-size: 7pt;\n",
       "  background-color: #070707;\n",
       "  color: #f1f1f1;\n",
       "}\n",
       "#T_865e2_row12_col20 {\n",
       "  font-size: 7pt;\n",
       "  background-color: #3c3c3c;\n",
       "  color: #f1f1f1;\n",
       "}\n",
       "#T_865e2_row12_col21 {\n",
       "  font-size: 7pt;\n",
       "  background-color: #fbfbfb;\n",
       "  color: #000000;\n",
       "}\n",
       "</style>\n",
       "<table id=\"T_865e2\">\n",
       "  <thead>\n",
       "    <tr>\n",
       "      <th class=\"blank level0\" >&nbsp;</th>\n",
       "      <th id=\"T_865e2_level0_col0\" class=\"col_heading level0 col0\" >0</th>\n",
       "      <th id=\"T_865e2_level0_col1\" class=\"col_heading level0 col1\" >1</th>\n",
       "      <th id=\"T_865e2_level0_col2\" class=\"col_heading level0 col2\" >2</th>\n",
       "      <th id=\"T_865e2_level0_col3\" class=\"col_heading level0 col3\" >3</th>\n",
       "      <th id=\"T_865e2_level0_col4\" class=\"col_heading level0 col4\" >4</th>\n",
       "      <th id=\"T_865e2_level0_col5\" class=\"col_heading level0 col5\" >5</th>\n",
       "      <th id=\"T_865e2_level0_col6\" class=\"col_heading level0 col6\" >6</th>\n",
       "      <th id=\"T_865e2_level0_col7\" class=\"col_heading level0 col7\" >7</th>\n",
       "      <th id=\"T_865e2_level0_col8\" class=\"col_heading level0 col8\" >8</th>\n",
       "      <th id=\"T_865e2_level0_col9\" class=\"col_heading level0 col9\" >9</th>\n",
       "      <th id=\"T_865e2_level0_col10\" class=\"col_heading level0 col10\" >10</th>\n",
       "      <th id=\"T_865e2_level0_col11\" class=\"col_heading level0 col11\" >11</th>\n",
       "      <th id=\"T_865e2_level0_col12\" class=\"col_heading level0 col12\" >12</th>\n",
       "      <th id=\"T_865e2_level0_col13\" class=\"col_heading level0 col13\" >13</th>\n",
       "      <th id=\"T_865e2_level0_col14\" class=\"col_heading level0 col14\" >14</th>\n",
       "      <th id=\"T_865e2_level0_col15\" class=\"col_heading level0 col15\" >15</th>\n",
       "      <th id=\"T_865e2_level0_col16\" class=\"col_heading level0 col16\" >16</th>\n",
       "      <th id=\"T_865e2_level0_col17\" class=\"col_heading level0 col17\" >17</th>\n",
       "      <th id=\"T_865e2_level0_col18\" class=\"col_heading level0 col18\" >18</th>\n",
       "      <th id=\"T_865e2_level0_col19\" class=\"col_heading level0 col19\" >19</th>\n",
       "      <th id=\"T_865e2_level0_col20\" class=\"col_heading level0 col20\" >20</th>\n",
       "      <th id=\"T_865e2_level0_col21\" class=\"col_heading level0 col21\" >21</th>\n",
       "      <th id=\"T_865e2_level0_col22\" class=\"col_heading level0 col22\" >22</th>\n",
       "    </tr>\n",
       "  </thead>\n",
       "  <tbody>\n",
       "    <tr>\n",
       "      <th id=\"T_865e2_level0_row0\" class=\"row_heading level0 row0\" >0</th>\n",
       "      <td id=\"T_865e2_row0_col0\" class=\"data row0 col0\" >0.00</td>\n",
       "      <td id=\"T_865e2_row0_col1\" class=\"data row0 col1\" >0.00</td>\n",
       "      <td id=\"T_865e2_row0_col2\" class=\"data row0 col2\" >0.00</td>\n",
       "      <td id=\"T_865e2_row0_col3\" class=\"data row0 col3\" >0.00</td>\n",
       "      <td id=\"T_865e2_row0_col4\" class=\"data row0 col4\" >0.00</td>\n",
       "      <td id=\"T_865e2_row0_col5\" class=\"data row0 col5\" >0.00</td>\n",
       "      <td id=\"T_865e2_row0_col6\" class=\"data row0 col6\" >0.00</td>\n",
       "      <td id=\"T_865e2_row0_col7\" class=\"data row0 col7\" >0.00</td>\n",
       "      <td id=\"T_865e2_row0_col8\" class=\"data row0 col8\" >0.00</td>\n",
       "      <td id=\"T_865e2_row0_col9\" class=\"data row0 col9\" >0.00</td>\n",
       "      <td id=\"T_865e2_row0_col10\" class=\"data row0 col10\" >0.00</td>\n",
       "      <td id=\"T_865e2_row0_col11\" class=\"data row0 col11\" >0.00</td>\n",
       "      <td id=\"T_865e2_row0_col12\" class=\"data row0 col12\" >0.00</td>\n",
       "      <td id=\"T_865e2_row0_col13\" class=\"data row0 col13\" >0.00</td>\n",
       "      <td id=\"T_865e2_row0_col14\" class=\"data row0 col14\" >0.00</td>\n",
       "      <td id=\"T_865e2_row0_col15\" class=\"data row0 col15\" >0.00</td>\n",
       "      <td id=\"T_865e2_row0_col16\" class=\"data row0 col16\" >0.00</td>\n",
       "      <td id=\"T_865e2_row0_col17\" class=\"data row0 col17\" >0.00</td>\n",
       "      <td id=\"T_865e2_row0_col18\" class=\"data row0 col18\" >0.00</td>\n",
       "      <td id=\"T_865e2_row0_col19\" class=\"data row0 col19\" >0.00</td>\n",
       "      <td id=\"T_865e2_row0_col20\" class=\"data row0 col20\" >0.00</td>\n",
       "      <td id=\"T_865e2_row0_col21\" class=\"data row0 col21\" >0.00</td>\n",
       "      <td id=\"T_865e2_row0_col22\" class=\"data row0 col22\" >0.00</td>\n",
       "    </tr>\n",
       "    <tr>\n",
       "      <th id=\"T_865e2_level0_row1\" class=\"row_heading level0 row1\" >1</th>\n",
       "      <td id=\"T_865e2_row1_col0\" class=\"data row1 col0\" >0.00</td>\n",
       "      <td id=\"T_865e2_row1_col1\" class=\"data row1 col1\" >0.00</td>\n",
       "      <td id=\"T_865e2_row1_col2\" class=\"data row1 col2\" >0.00</td>\n",
       "      <td id=\"T_865e2_row1_col3\" class=\"data row1 col3\" >0.00</td>\n",
       "      <td id=\"T_865e2_row1_col4\" class=\"data row1 col4\" >0.00</td>\n",
       "      <td id=\"T_865e2_row1_col5\" class=\"data row1 col5\" >0.00</td>\n",
       "      <td id=\"T_865e2_row1_col6\" class=\"data row1 col6\" >0.00</td>\n",
       "      <td id=\"T_865e2_row1_col7\" class=\"data row1 col7\" >0.00</td>\n",
       "      <td id=\"T_865e2_row1_col8\" class=\"data row1 col8\" >0.00</td>\n",
       "      <td id=\"T_865e2_row1_col9\" class=\"data row1 col9\" >0.00</td>\n",
       "      <td id=\"T_865e2_row1_col10\" class=\"data row1 col10\" >0.00</td>\n",
       "      <td id=\"T_865e2_row1_col11\" class=\"data row1 col11\" >0.00</td>\n",
       "      <td id=\"T_865e2_row1_col12\" class=\"data row1 col12\" >0.00</td>\n",
       "      <td id=\"T_865e2_row1_col13\" class=\"data row1 col13\" >0.00</td>\n",
       "      <td id=\"T_865e2_row1_col14\" class=\"data row1 col14\" >0.00</td>\n",
       "      <td id=\"T_865e2_row1_col15\" class=\"data row1 col15\" >0.00</td>\n",
       "      <td id=\"T_865e2_row1_col16\" class=\"data row1 col16\" >0.00</td>\n",
       "      <td id=\"T_865e2_row1_col17\" class=\"data row1 col17\" >0.00</td>\n",
       "      <td id=\"T_865e2_row1_col18\" class=\"data row1 col18\" >0.00</td>\n",
       "      <td id=\"T_865e2_row1_col19\" class=\"data row1 col19\" >0.00</td>\n",
       "      <td id=\"T_865e2_row1_col20\" class=\"data row1 col20\" >0.00</td>\n",
       "      <td id=\"T_865e2_row1_col21\" class=\"data row1 col21\" >0.00</td>\n",
       "      <td id=\"T_865e2_row1_col22\" class=\"data row1 col22\" >0.00</td>\n",
       "    </tr>\n",
       "    <tr>\n",
       "      <th id=\"T_865e2_level0_row2\" class=\"row_heading level0 row2\" >2</th>\n",
       "      <td id=\"T_865e2_row2_col0\" class=\"data row2 col0\" >0.00</td>\n",
       "      <td id=\"T_865e2_row2_col1\" class=\"data row2 col1\" >0.00</td>\n",
       "      <td id=\"T_865e2_row2_col2\" class=\"data row2 col2\" >0.00</td>\n",
       "      <td id=\"T_865e2_row2_col3\" class=\"data row2 col3\" >0.00</td>\n",
       "      <td id=\"T_865e2_row2_col4\" class=\"data row2 col4\" >0.00</td>\n",
       "      <td id=\"T_865e2_row2_col5\" class=\"data row2 col5\" >0.00</td>\n",
       "      <td id=\"T_865e2_row2_col6\" class=\"data row2 col6\" >0.00</td>\n",
       "      <td id=\"T_865e2_row2_col7\" class=\"data row2 col7\" >0.00</td>\n",
       "      <td id=\"T_865e2_row2_col8\" class=\"data row2 col8\" >0.00</td>\n",
       "      <td id=\"T_865e2_row2_col9\" class=\"data row2 col9\" >0.00</td>\n",
       "      <td id=\"T_865e2_row2_col10\" class=\"data row2 col10\" >0.00</td>\n",
       "      <td id=\"T_865e2_row2_col11\" class=\"data row2 col11\" >0.00</td>\n",
       "      <td id=\"T_865e2_row2_col12\" class=\"data row2 col12\" >0.00</td>\n",
       "      <td id=\"T_865e2_row2_col13\" class=\"data row2 col13\" >0.00</td>\n",
       "      <td id=\"T_865e2_row2_col14\" class=\"data row2 col14\" >0.00</td>\n",
       "      <td id=\"T_865e2_row2_col15\" class=\"data row2 col15\" >0.00</td>\n",
       "      <td id=\"T_865e2_row2_col16\" class=\"data row2 col16\" >0.00</td>\n",
       "      <td id=\"T_865e2_row2_col17\" class=\"data row2 col17\" >0.00</td>\n",
       "      <td id=\"T_865e2_row2_col18\" class=\"data row2 col18\" >0.00</td>\n",
       "      <td id=\"T_865e2_row2_col19\" class=\"data row2 col19\" >0.00</td>\n",
       "      <td id=\"T_865e2_row2_col20\" class=\"data row2 col20\" >0.00</td>\n",
       "      <td id=\"T_865e2_row2_col21\" class=\"data row2 col21\" >0.00</td>\n",
       "      <td id=\"T_865e2_row2_col22\" class=\"data row2 col22\" >0.00</td>\n",
       "    </tr>\n",
       "    <tr>\n",
       "      <th id=\"T_865e2_level0_row3\" class=\"row_heading level0 row3\" >3</th>\n",
       "      <td id=\"T_865e2_row3_col0\" class=\"data row3 col0\" >0.00</td>\n",
       "      <td id=\"T_865e2_row3_col1\" class=\"data row3 col1\" >0.00</td>\n",
       "      <td id=\"T_865e2_row3_col2\" class=\"data row3 col2\" >0.00</td>\n",
       "      <td id=\"T_865e2_row3_col3\" class=\"data row3 col3\" >0.00</td>\n",
       "      <td id=\"T_865e2_row3_col4\" class=\"data row3 col4\" >0.00</td>\n",
       "      <td id=\"T_865e2_row3_col5\" class=\"data row3 col5\" >0.00</td>\n",
       "      <td id=\"T_865e2_row3_col6\" class=\"data row3 col6\" >0.00</td>\n",
       "      <td id=\"T_865e2_row3_col7\" class=\"data row3 col7\" >0.00</td>\n",
       "      <td id=\"T_865e2_row3_col8\" class=\"data row3 col8\" >0.00</td>\n",
       "      <td id=\"T_865e2_row3_col9\" class=\"data row3 col9\" >0.00</td>\n",
       "      <td id=\"T_865e2_row3_col10\" class=\"data row3 col10\" >0.00</td>\n",
       "      <td id=\"T_865e2_row3_col11\" class=\"data row3 col11\" >0.00</td>\n",
       "      <td id=\"T_865e2_row3_col12\" class=\"data row3 col12\" >0.00</td>\n",
       "      <td id=\"T_865e2_row3_col13\" class=\"data row3 col13\" >0.00</td>\n",
       "      <td id=\"T_865e2_row3_col14\" class=\"data row3 col14\" >0.00</td>\n",
       "      <td id=\"T_865e2_row3_col15\" class=\"data row3 col15\" >0.00</td>\n",
       "      <td id=\"T_865e2_row3_col16\" class=\"data row3 col16\" >0.00</td>\n",
       "      <td id=\"T_865e2_row3_col17\" class=\"data row3 col17\" >0.00</td>\n",
       "      <td id=\"T_865e2_row3_col18\" class=\"data row3 col18\" >0.00</td>\n",
       "      <td id=\"T_865e2_row3_col19\" class=\"data row3 col19\" >0.00</td>\n",
       "      <td id=\"T_865e2_row3_col20\" class=\"data row3 col20\" >0.00</td>\n",
       "      <td id=\"T_865e2_row3_col21\" class=\"data row3 col21\" >0.00</td>\n",
       "      <td id=\"T_865e2_row3_col22\" class=\"data row3 col22\" >0.00</td>\n",
       "    </tr>\n",
       "    <tr>\n",
       "      <th id=\"T_865e2_level0_row4\" class=\"row_heading level0 row4\" >4</th>\n",
       "      <td id=\"T_865e2_row4_col0\" class=\"data row4 col0\" >0.00</td>\n",
       "      <td id=\"T_865e2_row4_col1\" class=\"data row4 col1\" >0.00</td>\n",
       "      <td id=\"T_865e2_row4_col2\" class=\"data row4 col2\" >0.00</td>\n",
       "      <td id=\"T_865e2_row4_col3\" class=\"data row4 col3\" >0.00</td>\n",
       "      <td id=\"T_865e2_row4_col4\" class=\"data row4 col4\" >0.00</td>\n",
       "      <td id=\"T_865e2_row4_col5\" class=\"data row4 col5\" >0.00</td>\n",
       "      <td id=\"T_865e2_row4_col6\" class=\"data row4 col6\" >0.00</td>\n",
       "      <td id=\"T_865e2_row4_col7\" class=\"data row4 col7\" >0.00</td>\n",
       "      <td id=\"T_865e2_row4_col8\" class=\"data row4 col8\" >0.00</td>\n",
       "      <td id=\"T_865e2_row4_col9\" class=\"data row4 col9\" >0.00</td>\n",
       "      <td id=\"T_865e2_row4_col10\" class=\"data row4 col10\" >0.00</td>\n",
       "      <td id=\"T_865e2_row4_col11\" class=\"data row4 col11\" >0.00</td>\n",
       "      <td id=\"T_865e2_row4_col12\" class=\"data row4 col12\" >0.00</td>\n",
       "      <td id=\"T_865e2_row4_col13\" class=\"data row4 col13\" >0.00</td>\n",
       "      <td id=\"T_865e2_row4_col14\" class=\"data row4 col14\" >0.00</td>\n",
       "      <td id=\"T_865e2_row4_col15\" class=\"data row4 col15\" >0.00</td>\n",
       "      <td id=\"T_865e2_row4_col16\" class=\"data row4 col16\" >0.00</td>\n",
       "      <td id=\"T_865e2_row4_col17\" class=\"data row4 col17\" >0.00</td>\n",
       "      <td id=\"T_865e2_row4_col18\" class=\"data row4 col18\" >0.00</td>\n",
       "      <td id=\"T_865e2_row4_col19\" class=\"data row4 col19\" >0.00</td>\n",
       "      <td id=\"T_865e2_row4_col20\" class=\"data row4 col20\" >0.00</td>\n",
       "      <td id=\"T_865e2_row4_col21\" class=\"data row4 col21\" >0.00</td>\n",
       "      <td id=\"T_865e2_row4_col22\" class=\"data row4 col22\" >0.00</td>\n",
       "    </tr>\n",
       "    <tr>\n",
       "      <th id=\"T_865e2_level0_row5\" class=\"row_heading level0 row5\" >5</th>\n",
       "      <td id=\"T_865e2_row5_col0\" class=\"data row5 col0\" >0.00</td>\n",
       "      <td id=\"T_865e2_row5_col1\" class=\"data row5 col1\" >0.00</td>\n",
       "      <td id=\"T_865e2_row5_col2\" class=\"data row5 col2\" >0.00</td>\n",
       "      <td id=\"T_865e2_row5_col3\" class=\"data row5 col3\" >0.00</td>\n",
       "      <td id=\"T_865e2_row5_col4\" class=\"data row5 col4\" >0.00</td>\n",
       "      <td id=\"T_865e2_row5_col5\" class=\"data row5 col5\" >0.00</td>\n",
       "      <td id=\"T_865e2_row5_col6\" class=\"data row5 col6\" >0.00</td>\n",
       "      <td id=\"T_865e2_row5_col7\" class=\"data row5 col7\" >0.00</td>\n",
       "      <td id=\"T_865e2_row5_col8\" class=\"data row5 col8\" >0.00</td>\n",
       "      <td id=\"T_865e2_row5_col9\" class=\"data row5 col9\" >0.00</td>\n",
       "      <td id=\"T_865e2_row5_col10\" class=\"data row5 col10\" >0.00</td>\n",
       "      <td id=\"T_865e2_row5_col11\" class=\"data row5 col11\" >0.15</td>\n",
       "      <td id=\"T_865e2_row5_col12\" class=\"data row5 col12\" >0.17</td>\n",
       "      <td id=\"T_865e2_row5_col13\" class=\"data row5 col13\" >0.41</td>\n",
       "      <td id=\"T_865e2_row5_col14\" class=\"data row5 col14\" >1.00</td>\n",
       "      <td id=\"T_865e2_row5_col15\" class=\"data row5 col15\" >0.99</td>\n",
       "      <td id=\"T_865e2_row5_col16\" class=\"data row5 col16\" >0.99</td>\n",
       "      <td id=\"T_865e2_row5_col17\" class=\"data row5 col17\" >0.99</td>\n",
       "      <td id=\"T_865e2_row5_col18\" class=\"data row5 col18\" >0.99</td>\n",
       "      <td id=\"T_865e2_row5_col19\" class=\"data row5 col19\" >0.99</td>\n",
       "      <td id=\"T_865e2_row5_col20\" class=\"data row5 col20\" >0.68</td>\n",
       "      <td id=\"T_865e2_row5_col21\" class=\"data row5 col21\" >0.02</td>\n",
       "      <td id=\"T_865e2_row5_col22\" class=\"data row5 col22\" >0.00</td>\n",
       "    </tr>\n",
       "    <tr>\n",
       "      <th id=\"T_865e2_level0_row6\" class=\"row_heading level0 row6\" >6</th>\n",
       "      <td id=\"T_865e2_row6_col0\" class=\"data row6 col0\" >0.00</td>\n",
       "      <td id=\"T_865e2_row6_col1\" class=\"data row6 col1\" >0.00</td>\n",
       "      <td id=\"T_865e2_row6_col2\" class=\"data row6 col2\" >0.00</td>\n",
       "      <td id=\"T_865e2_row6_col3\" class=\"data row6 col3\" >0.00</td>\n",
       "      <td id=\"T_865e2_row6_col4\" class=\"data row6 col4\" >0.00</td>\n",
       "      <td id=\"T_865e2_row6_col5\" class=\"data row6 col5\" >0.00</td>\n",
       "      <td id=\"T_865e2_row6_col6\" class=\"data row6 col6\" >0.00</td>\n",
       "      <td id=\"T_865e2_row6_col7\" class=\"data row6 col7\" >0.00</td>\n",
       "      <td id=\"T_865e2_row6_col8\" class=\"data row6 col8\" >0.00</td>\n",
       "      <td id=\"T_865e2_row6_col9\" class=\"data row6 col9\" >0.17</td>\n",
       "      <td id=\"T_865e2_row6_col10\" class=\"data row6 col10\" >0.54</td>\n",
       "      <td id=\"T_865e2_row6_col11\" class=\"data row6 col11\" >0.88</td>\n",
       "      <td id=\"T_865e2_row6_col12\" class=\"data row6 col12\" >0.88</td>\n",
       "      <td id=\"T_865e2_row6_col13\" class=\"data row6 col13\" >0.98</td>\n",
       "      <td id=\"T_865e2_row6_col14\" class=\"data row6 col14\" >0.99</td>\n",
       "      <td id=\"T_865e2_row6_col15\" class=\"data row6 col15\" >0.98</td>\n",
       "      <td id=\"T_865e2_row6_col16\" class=\"data row6 col16\" >0.98</td>\n",
       "      <td id=\"T_865e2_row6_col17\" class=\"data row6 col17\" >0.98</td>\n",
       "      <td id=\"T_865e2_row6_col18\" class=\"data row6 col18\" >0.98</td>\n",
       "      <td id=\"T_865e2_row6_col19\" class=\"data row6 col19\" >0.98</td>\n",
       "      <td id=\"T_865e2_row6_col20\" class=\"data row6 col20\" >0.98</td>\n",
       "      <td id=\"T_865e2_row6_col21\" class=\"data row6 col21\" >0.62</td>\n",
       "      <td id=\"T_865e2_row6_col22\" class=\"data row6 col22\" >0.05</td>\n",
       "    </tr>\n",
       "    <tr>\n",
       "      <th id=\"T_865e2_level0_row7\" class=\"row_heading level0 row7\" >7</th>\n",
       "      <td id=\"T_865e2_row7_col0\" class=\"data row7 col0\" >0.00</td>\n",
       "      <td id=\"T_865e2_row7_col1\" class=\"data row7 col1\" >0.00</td>\n",
       "      <td id=\"T_865e2_row7_col2\" class=\"data row7 col2\" >0.00</td>\n",
       "      <td id=\"T_865e2_row7_col3\" class=\"data row7 col3\" >0.00</td>\n",
       "      <td id=\"T_865e2_row7_col4\" class=\"data row7 col4\" >0.00</td>\n",
       "      <td id=\"T_865e2_row7_col5\" class=\"data row7 col5\" >0.00</td>\n",
       "      <td id=\"T_865e2_row7_col6\" class=\"data row7 col6\" >0.00</td>\n",
       "      <td id=\"T_865e2_row7_col7\" class=\"data row7 col7\" >0.00</td>\n",
       "      <td id=\"T_865e2_row7_col8\" class=\"data row7 col8\" >0.00</td>\n",
       "      <td id=\"T_865e2_row7_col9\" class=\"data row7 col9\" >0.70</td>\n",
       "      <td id=\"T_865e2_row7_col10\" class=\"data row7 col10\" >0.98</td>\n",
       "      <td id=\"T_865e2_row7_col11\" class=\"data row7 col11\" >0.98</td>\n",
       "      <td id=\"T_865e2_row7_col12\" class=\"data row7 col12\" >0.98</td>\n",
       "      <td id=\"T_865e2_row7_col13\" class=\"data row7 col13\" >0.98</td>\n",
       "      <td id=\"T_865e2_row7_col14\" class=\"data row7 col14\" >0.99</td>\n",
       "      <td id=\"T_865e2_row7_col15\" class=\"data row7 col15\" >0.98</td>\n",
       "      <td id=\"T_865e2_row7_col16\" class=\"data row7 col16\" >0.98</td>\n",
       "      <td id=\"T_865e2_row7_col17\" class=\"data row7 col17\" >0.98</td>\n",
       "      <td id=\"T_865e2_row7_col18\" class=\"data row7 col18\" >0.98</td>\n",
       "      <td id=\"T_865e2_row7_col19\" class=\"data row7 col19\" >0.98</td>\n",
       "      <td id=\"T_865e2_row7_col20\" class=\"data row7 col20\" >0.98</td>\n",
       "      <td id=\"T_865e2_row7_col21\" class=\"data row7 col21\" >0.98</td>\n",
       "      <td id=\"T_865e2_row7_col22\" class=\"data row7 col22\" >0.23</td>\n",
       "    </tr>\n",
       "    <tr>\n",
       "      <th id=\"T_865e2_level0_row8\" class=\"row_heading level0 row8\" >8</th>\n",
       "      <td id=\"T_865e2_row8_col0\" class=\"data row8 col0\" >0.00</td>\n",
       "      <td id=\"T_865e2_row8_col1\" class=\"data row8 col1\" >0.00</td>\n",
       "      <td id=\"T_865e2_row8_col2\" class=\"data row8 col2\" >0.00</td>\n",
       "      <td id=\"T_865e2_row8_col3\" class=\"data row8 col3\" >0.00</td>\n",
       "      <td id=\"T_865e2_row8_col4\" class=\"data row8 col4\" >0.00</td>\n",
       "      <td id=\"T_865e2_row8_col5\" class=\"data row8 col5\" >0.00</td>\n",
       "      <td id=\"T_865e2_row8_col6\" class=\"data row8 col6\" >0.00</td>\n",
       "      <td id=\"T_865e2_row8_col7\" class=\"data row8 col7\" >0.00</td>\n",
       "      <td id=\"T_865e2_row8_col8\" class=\"data row8 col8\" >0.00</td>\n",
       "      <td id=\"T_865e2_row8_col9\" class=\"data row8 col9\" >0.43</td>\n",
       "      <td id=\"T_865e2_row8_col10\" class=\"data row8 col10\" >0.98</td>\n",
       "      <td id=\"T_865e2_row8_col11\" class=\"data row8 col11\" >0.98</td>\n",
       "      <td id=\"T_865e2_row8_col12\" class=\"data row8 col12\" >0.90</td>\n",
       "      <td id=\"T_865e2_row8_col13\" class=\"data row8 col13\" >0.52</td>\n",
       "      <td id=\"T_865e2_row8_col14\" class=\"data row8 col14\" >0.52</td>\n",
       "      <td id=\"T_865e2_row8_col15\" class=\"data row8 col15\" >0.52</td>\n",
       "      <td id=\"T_865e2_row8_col16\" class=\"data row8 col16\" >0.52</td>\n",
       "      <td id=\"T_865e2_row8_col17\" class=\"data row8 col17\" >0.74</td>\n",
       "      <td id=\"T_865e2_row8_col18\" class=\"data row8 col18\" >0.98</td>\n",
       "      <td id=\"T_865e2_row8_col19\" class=\"data row8 col19\" >0.98</td>\n",
       "      <td id=\"T_865e2_row8_col20\" class=\"data row8 col20\" >0.98</td>\n",
       "      <td id=\"T_865e2_row8_col21\" class=\"data row8 col21\" >0.98</td>\n",
       "      <td id=\"T_865e2_row8_col22\" class=\"data row8 col22\" >0.23</td>\n",
       "    </tr>\n",
       "    <tr>\n",
       "      <th id=\"T_865e2_level0_row9\" class=\"row_heading level0 row9\" >9</th>\n",
       "      <td id=\"T_865e2_row9_col0\" class=\"data row9 col0\" >0.00</td>\n",
       "      <td id=\"T_865e2_row9_col1\" class=\"data row9 col1\" >0.00</td>\n",
       "      <td id=\"T_865e2_row9_col2\" class=\"data row9 col2\" >0.00</td>\n",
       "      <td id=\"T_865e2_row9_col3\" class=\"data row9 col3\" >0.00</td>\n",
       "      <td id=\"T_865e2_row9_col4\" class=\"data row9 col4\" >0.00</td>\n",
       "      <td id=\"T_865e2_row9_col5\" class=\"data row9 col5\" >0.00</td>\n",
       "      <td id=\"T_865e2_row9_col6\" class=\"data row9 col6\" >0.00</td>\n",
       "      <td id=\"T_865e2_row9_col7\" class=\"data row9 col7\" >0.00</td>\n",
       "      <td id=\"T_865e2_row9_col8\" class=\"data row9 col8\" >0.00</td>\n",
       "      <td id=\"T_865e2_row9_col9\" class=\"data row9 col9\" >0.02</td>\n",
       "      <td id=\"T_865e2_row9_col10\" class=\"data row9 col10\" >0.11</td>\n",
       "      <td id=\"T_865e2_row9_col11\" class=\"data row9 col11\" >0.11</td>\n",
       "      <td id=\"T_865e2_row9_col12\" class=\"data row9 col12\" >0.09</td>\n",
       "      <td id=\"T_865e2_row9_col13\" class=\"data row9 col13\" >0.00</td>\n",
       "      <td id=\"T_865e2_row9_col14\" class=\"data row9 col14\" >0.00</td>\n",
       "      <td id=\"T_865e2_row9_col15\" class=\"data row9 col15\" >0.00</td>\n",
       "      <td id=\"T_865e2_row9_col16\" class=\"data row9 col16\" >0.00</td>\n",
       "      <td id=\"T_865e2_row9_col17\" class=\"data row9 col17\" >0.05</td>\n",
       "      <td id=\"T_865e2_row9_col18\" class=\"data row9 col18\" >0.88</td>\n",
       "      <td id=\"T_865e2_row9_col19\" class=\"data row9 col19\" >0.98</td>\n",
       "      <td id=\"T_865e2_row9_col20\" class=\"data row9 col20\" >0.98</td>\n",
       "      <td id=\"T_865e2_row9_col21\" class=\"data row9 col21\" >0.67</td>\n",
       "      <td id=\"T_865e2_row9_col22\" class=\"data row9 col22\" >0.03</td>\n",
       "    </tr>\n",
       "    <tr>\n",
       "      <th id=\"T_865e2_level0_row10\" class=\"row_heading level0 row10\" >10</th>\n",
       "      <td id=\"T_865e2_row10_col0\" class=\"data row10 col0\" >0.00</td>\n",
       "      <td id=\"T_865e2_row10_col1\" class=\"data row10 col1\" >0.00</td>\n",
       "      <td id=\"T_865e2_row10_col2\" class=\"data row10 col2\" >0.00</td>\n",
       "      <td id=\"T_865e2_row10_col3\" class=\"data row10 col3\" >0.00</td>\n",
       "      <td id=\"T_865e2_row10_col4\" class=\"data row10 col4\" >0.00</td>\n",
       "      <td id=\"T_865e2_row10_col5\" class=\"data row10 col5\" >0.00</td>\n",
       "      <td id=\"T_865e2_row10_col6\" class=\"data row10 col6\" >0.00</td>\n",
       "      <td id=\"T_865e2_row10_col7\" class=\"data row10 col7\" >0.00</td>\n",
       "      <td id=\"T_865e2_row10_col8\" class=\"data row10 col8\" >0.00</td>\n",
       "      <td id=\"T_865e2_row10_col9\" class=\"data row10 col9\" >0.00</td>\n",
       "      <td id=\"T_865e2_row10_col10\" class=\"data row10 col10\" >0.00</td>\n",
       "      <td id=\"T_865e2_row10_col11\" class=\"data row10 col11\" >0.00</td>\n",
       "      <td id=\"T_865e2_row10_col12\" class=\"data row10 col12\" >0.00</td>\n",
       "      <td id=\"T_865e2_row10_col13\" class=\"data row10 col13\" >0.00</td>\n",
       "      <td id=\"T_865e2_row10_col14\" class=\"data row10 col14\" >0.00</td>\n",
       "      <td id=\"T_865e2_row10_col15\" class=\"data row10 col15\" >0.00</td>\n",
       "      <td id=\"T_865e2_row10_col16\" class=\"data row10 col16\" >0.00</td>\n",
       "      <td id=\"T_865e2_row10_col17\" class=\"data row10 col17\" >0.33</td>\n",
       "      <td id=\"T_865e2_row10_col18\" class=\"data row10 col18\" >0.95</td>\n",
       "      <td id=\"T_865e2_row10_col19\" class=\"data row10 col19\" >0.98</td>\n",
       "      <td id=\"T_865e2_row10_col20\" class=\"data row10 col20\" >0.98</td>\n",
       "      <td id=\"T_865e2_row10_col21\" class=\"data row10 col21\" >0.56</td>\n",
       "      <td id=\"T_865e2_row10_col22\" class=\"data row10 col22\" >0.00</td>\n",
       "    </tr>\n",
       "    <tr>\n",
       "      <th id=\"T_865e2_level0_row11\" class=\"row_heading level0 row11\" >11</th>\n",
       "      <td id=\"T_865e2_row11_col0\" class=\"data row11 col0\" >0.00</td>\n",
       "      <td id=\"T_865e2_row11_col1\" class=\"data row11 col1\" >0.00</td>\n",
       "      <td id=\"T_865e2_row11_col2\" class=\"data row11 col2\" >0.00</td>\n",
       "      <td id=\"T_865e2_row11_col3\" class=\"data row11 col3\" >0.00</td>\n",
       "      <td id=\"T_865e2_row11_col4\" class=\"data row11 col4\" >0.00</td>\n",
       "      <td id=\"T_865e2_row11_col5\" class=\"data row11 col5\" >0.00</td>\n",
       "      <td id=\"T_865e2_row11_col6\" class=\"data row11 col6\" >0.00</td>\n",
       "      <td id=\"T_865e2_row11_col7\" class=\"data row11 col7\" >0.00</td>\n",
       "      <td id=\"T_865e2_row11_col8\" class=\"data row11 col8\" >0.00</td>\n",
       "      <td id=\"T_865e2_row11_col9\" class=\"data row11 col9\" >0.00</td>\n",
       "      <td id=\"T_865e2_row11_col10\" class=\"data row11 col10\" >0.00</td>\n",
       "      <td id=\"T_865e2_row11_col11\" class=\"data row11 col11\" >0.00</td>\n",
       "      <td id=\"T_865e2_row11_col12\" class=\"data row11 col12\" >0.00</td>\n",
       "      <td id=\"T_865e2_row11_col13\" class=\"data row11 col13\" >0.00</td>\n",
       "      <td id=\"T_865e2_row11_col14\" class=\"data row11 col14\" >0.00</td>\n",
       "      <td id=\"T_865e2_row11_col15\" class=\"data row11 col15\" >0.00</td>\n",
       "      <td id=\"T_865e2_row11_col16\" class=\"data row11 col16\" >0.34</td>\n",
       "      <td id=\"T_865e2_row11_col17\" class=\"data row11 col17\" >0.74</td>\n",
       "      <td id=\"T_865e2_row11_col18\" class=\"data row11 col18\" >0.98</td>\n",
       "      <td id=\"T_865e2_row11_col19\" class=\"data row11 col19\" >0.98</td>\n",
       "      <td id=\"T_865e2_row11_col20\" class=\"data row11 col20\" >0.98</td>\n",
       "      <td id=\"T_865e2_row11_col21\" class=\"data row11 col21\" >0.05</td>\n",
       "      <td id=\"T_865e2_row11_col22\" class=\"data row11 col22\" >0.00</td>\n",
       "    </tr>\n",
       "    <tr>\n",
       "      <th id=\"T_865e2_level0_row12\" class=\"row_heading level0 row12\" >12</th>\n",
       "      <td id=\"T_865e2_row12_col0\" class=\"data row12 col0\" >0.00</td>\n",
       "      <td id=\"T_865e2_row12_col1\" class=\"data row12 col1\" >0.00</td>\n",
       "      <td id=\"T_865e2_row12_col2\" class=\"data row12 col2\" >0.00</td>\n",
       "      <td id=\"T_865e2_row12_col3\" class=\"data row12 col3\" >0.00</td>\n",
       "      <td id=\"T_865e2_row12_col4\" class=\"data row12 col4\" >0.00</td>\n",
       "      <td id=\"T_865e2_row12_col5\" class=\"data row12 col5\" >0.00</td>\n",
       "      <td id=\"T_865e2_row12_col6\" class=\"data row12 col6\" >0.00</td>\n",
       "      <td id=\"T_865e2_row12_col7\" class=\"data row12 col7\" >0.00</td>\n",
       "      <td id=\"T_865e2_row12_col8\" class=\"data row12 col8\" >0.00</td>\n",
       "      <td id=\"T_865e2_row12_col9\" class=\"data row12 col9\" >0.00</td>\n",
       "      <td id=\"T_865e2_row12_col10\" class=\"data row12 col10\" >0.00</td>\n",
       "      <td id=\"T_865e2_row12_col11\" class=\"data row12 col11\" >0.00</td>\n",
       "      <td id=\"T_865e2_row12_col12\" class=\"data row12 col12\" >0.00</td>\n",
       "      <td id=\"T_865e2_row12_col13\" class=\"data row12 col13\" >0.00</td>\n",
       "      <td id=\"T_865e2_row12_col14\" class=\"data row12 col14\" >0.36</td>\n",
       "      <td id=\"T_865e2_row12_col15\" class=\"data row12 col15\" >0.83</td>\n",
       "      <td id=\"T_865e2_row12_col16\" class=\"data row12 col16\" >0.96</td>\n",
       "      <td id=\"T_865e2_row12_col17\" class=\"data row12 col17\" >0.98</td>\n",
       "      <td id=\"T_865e2_row12_col18\" class=\"data row12 col18\" >0.98</td>\n",
       "      <td id=\"T_865e2_row12_col19\" class=\"data row12 col19\" >0.98</td>\n",
       "      <td id=\"T_865e2_row12_col20\" class=\"data row12 col20\" >0.80</td>\n",
       "      <td id=\"T_865e2_row12_col21\" class=\"data row12 col21\" >0.04</td>\n",
       "      <td id=\"T_865e2_row12_col22\" class=\"data row12 col22\" >0.00</td>\n",
       "    </tr>\n",
       "  </tbody>\n",
       "</table>\n"
      ],
      "text/plain": [
       "<pandas.io.formats.style.Styler at 0x111563f40>"
      ]
     },
     "execution_count": 12,
     "metadata": {},
     "output_type": "execute_result"
    }
   ],
   "source": [
    "df = pd.DataFrame(im3[:13,:23])\n",
    "df.style.format(precision=2).set_properties(**{'font-size':'7pt'}).background_gradient('Greys')"
   ]
  },
  {
   "cell_type": "markdown",
   "metadata": {},
   "source": [
    "If we take rows `[3:6]`, columns `[14:17]` and multiply it by the `top_edge` kernel it gives us a\n",
    "fairly large positive value.\n",
    "This is a DOT product, an element-wise multiplication followed by a sum,\n",
    "This is going to find the top Edge."
   ]
  },
  {
   "cell_type": "code",
   "execution_count": 13,
   "metadata": {},
   "outputs": [
    {
     "data": {
      "text/plain": [
       "tensor(2.9727)"
      ]
     },
     "execution_count": 13,
     "metadata": {},
     "output_type": "execute_result"
    }
   ],
   "source": [
    "(im3[3:6,14:17] * top_edge).sum()"
   ]
  },
  {
   "cell_type": "code",
   "execution_count": 14,
   "metadata": {},
   "outputs": [
    {
     "data": {
      "text/plain": [
       "tensor(-2.9570)"
      ]
     },
     "execution_count": 14,
     "metadata": {},
     "output_type": "execute_result"
    }
   ],
   "source": [
    "(im3[7:10,14:17] * top_edge).sum()"
   ]
  },
  {
   "cell_type": "markdown",
   "metadata": {},
   "source": [
    "We would like to apply the `top_edge` kernel to every single 3x3 section.\n",
    "The `apply_kernel()` function takes a row, column from the input, \n",
    "and a tensor as a kernel and does that multiplication `.sum()`"
   ]
  },
  {
   "cell_type": "code",
   "execution_count": 15,
   "metadata": {},
   "outputs": [],
   "source": [
    "def apply_kernel(row, col, kernel): \n",
    "    return (im3[row-1:row+2,col-1:col+2] * kernel).sum()"
   ]
  },
  {
   "cell_type": "markdown",
   "metadata": {},
   "source": [
    "For example, we can replicate this one by calling `apply_kernel(4,15,top_edge)` (the center of that 3x3 grid area),\n",
    "and get the same number 2.97."
   ]
  },
  {
   "cell_type": "code",
   "execution_count": 16,
   "metadata": {},
   "outputs": [
    {
     "data": {
      "text/plain": [
       "tensor(2.9727)"
      ]
     },
     "execution_count": 16,
     "metadata": {},
     "output_type": "execute_result"
    }
   ],
   "source": [
    "apply_kernel(4,15,top_edge)"
   ]
  },
  {
   "cell_type": "markdown",
   "metadata": {},
   "source": [
    "Here is how we slide the application of the kernel. Notice that we are \"loosing\" 2 cells in the output.\n",
    "Notice that as we are putting our 3x3 through this 5x5, there's only 3 places that we can put it going across, \n",
    "not five places because we need some kind of edge. <br>\n",
    "<img src=\"images/chapter9_nopadconv.svg\" id=\"nopad_conv\" caption=\"Applying a kernel across a grid\" alt=\"Applying a kernel across a grid\" width=\"400\">"
   ]
  },
  {
   "cell_type": "markdown",
   "metadata": {},
   "source": [
    "Now we could apply that kernel to every one of the 3x3 windows in this 28x28 image.\n",
    "We're going to be sliding over like this red bit sliding over here but we've\n",
    "actually got a 28x28 input not just a 5x5 input.\n",
    "<br>\n",
    "To get all of the coordinates let's simplify to a 5x5.\n",
    "We can create a list comprehension we can take `i` through every value in range(5)\n",
    "and for each of those we take `j` for every value in range(5)."
   ]
  },
  {
   "cell_type": "code",
   "execution_count": 17,
   "metadata": {},
   "outputs": [
    {
     "data": {
      "text/plain": [
       "[[(0, 0), (0, 1), (0, 2), (0, 3), (0, 4)],\n",
       " [(1, 0), (1, 1), (1, 2), (1, 3), (1, 4)],\n",
       " [(2, 0), (2, 1), (2, 2), (2, 3), (2, 4)],\n",
       " [(3, 0), (3, 1), (3, 2), (3, 3), (3, 4)],\n",
       " [(4, 0), (4, 1), (4, 2), (4, 3), (4, 4)]]"
      ]
     },
     "execution_count": 17,
     "metadata": {},
     "output_type": "execute_result"
    }
   ],
   "source": [
    "[[(i,j) for j in range(5)] for i in range(5)] #the indexes of the pixels"
   ]
  },
  {
   "cell_type": "markdown",
   "metadata": {},
   "source": [
    "We get a list of lists containing all of the coordinates. This is a list comprehension in a list comprehension."
   ]
  },
  {
   "cell_type": "markdown",
   "metadata": {},
   "source": [
    "We go from 1 to 26 and for each of those go through from 1 to 26 again and call `apply_kernel()`.\n",
    "That's going to give us the result of applying that convolutional kernel to\n",
    "every one of those coordinates. And there's the result, highlighting the top edges."
   ]
  },
  {
   "cell_type": "code",
   "execution_count": 18,
   "metadata": {},
   "outputs": [
    {
     "data": {
      "image/png": "[encoded data removed]",
      "text/plain": [
       "<Figure size 192x144 with 1 Axes>"
      ]
     },
     "metadata": {},
     "output_type": "display_data"
    }
   ],
   "source": [
    "rng = range(1,27) #Notice range indicates the \"loss\" of 2 pixels\n",
    "top_edge3 = tensor([[apply_kernel(i,j,top_edge) for j in rng] for i in rng])\n",
    "show_image(top_edge3);"
   ]
  },
  {
   "cell_type": "code",
   "execution_count": 19,
   "metadata": {},
   "outputs": [],
   "source": [
    "left_edge = tensor([[-1,0,1],\n",
    "                    [-1,0,1],\n",
    "                    [-1,0,1]]).float()"
   ]
  },
  {
   "cell_type": "markdown",
   "metadata": {},
   "source": [
    "We can do another convolution this time with the left Edge tensor,\n",
    "which looks as a rotated version of the top Edge tensor."
   ]
  },
  {
   "cell_type": "code",
   "execution_count": 20,
   "metadata": {},
   "outputs": [
    {
     "data": {
      "image/png": "[encoded data removed]",
      "text/plain": [
       "<Figure size 192x144 with 1 Axes>"
      ]
     },
     "metadata": {},
     "output_type": "display_data"
    }
   ],
   "source": [
    "show_image(left_edge, noframe=False);"
   ]
  },
  {
   "cell_type": "markdown",
   "metadata": {},
   "source": [
    "We apply the left Edge kernel passing the corresponding tensor for the same list comprehension in a list comprehension.\n",
    "This time we're getting highlighting all of the left edges in the digit."
   ]
  },
  {
   "cell_type": "code",
   "execution_count": 21,
   "metadata": {},
   "outputs": [
    {
     "data": {
      "image/png": "[encoded data removed]",
      "text/plain": [
       "<Figure size 192x144 with 1 Axes>"
      ]
     },
     "metadata": {},
     "output_type": "display_data"
    }
   ],
   "source": [
    "left_edge3 = tensor([[apply_kernel(i,j,left_edge) for j in rng] for i in rng])\n",
    "show_image(left_edge3);"
   ]
  },
  {
   "cell_type": "markdown",
   "metadata": {},
   "source": [
    "A 2x2 can be looped over an image creating these outputs. \n",
    "In the process we are losing the outermost pixels of our image.\n",
    "We'll learn about how to fix that later."
   ]
  },
  {
   "cell_type": "markdown",
   "metadata": {},
   "source": [
    "<img alt=\"Result of applying a 3×3 kernel to a 4×4 image\" width=\"782\" caption=\"Result of applying a 3×3 kernel to a 4×4 image (courtesy of Vincent Dumoulin and Francesco Visin)\" id=\"three_ex_four_conv\" src=\"images/att_00028.png\">"
   ]
  },
  {
   "cell_type": "markdown",
   "metadata": {},
   "source": [
    "### Convolutions in PyTorch\n",
    "Speeding up."
   ]
  },
  {
   "cell_type": "code",
   "execution_count": 22,
   "metadata": {},
   "outputs": [],
   "source": [
    "import torch.nn.functional as F\n",
    "import torch"
   ]
  },
  {
   "cell_type": "markdown",
   "metadata": {},
   "source": [
    "What to do if you have [2 months to complete your thesis](https://github.com/Yangqing/caffe/wiki/Convolution-in-Caffe:-a-memo)? Use [im2col](https://hal.inria.fr/inria-00112631/)."
   ]
  },
  {
   "attachments": {
    "image.png": {
     "image/png": "[encoded data removed]"
    }
   },
   "cell_type": "markdown",
   "metadata": {},
   "source": [
    "![image.png](attachment:image.png)"
   ]
  },
  {
   "cell_type": "markdown",
   "metadata": {},
   "source": [
    "Here's a sample [numpy implementation](https://github.com/3outeille/CNNumpy/blob/5394f13e7ed67a808a3e39fd381f168825d65ff5/src/fast/utils.py#L360).\n",
    "We're kind of cheating a little, as implementing that is boring.... so instead we linked to a numpy implementation.\n",
    "It's a little bit tedious with repeats and tiles and reshapes, etc. "
   ]
  },
  {
   "cell_type": "markdown",
   "metadata": {},
   "source": [
    "In pytorch it's called unfold. \n",
    "It expects a batch access and a dimension and a channel dimension so we'll add two unit leading dimensions to it.\n",
    "Then we can unfold our input for a 3x3 and that will give us a 9 by 676."
   ]
  },
  {
   "cell_type": "code",
   "execution_count": 23,
   "metadata": {},
   "outputs": [
    {
     "data": {
      "text/plain": [
       "torch.Size([9, 676])"
      ]
     },
     "execution_count": 23,
     "metadata": {},
     "output_type": "execute_result"
    }
   ],
   "source": [
    "inp = im3[None,None,:,:].float()\n",
    "inp_unf = F.unfold(inp, (3,3))[0]\n",
    "inp_unf.shape"
   ]
  },
  {
   "cell_type": "markdown",
   "metadata": {},
   "source": [
    "We take the kernel and flatten it out into a vector using `.view` to change its shape.\n",
    "-1 means dump everything into this dimension.\n",
    "So it creates `w` a length 9 vector."
   ]
  },
  {
   "cell_type": "code",
   "execution_count": 24,
   "metadata": {},
   "outputs": [
    {
     "data": {
      "text/plain": [
       "torch.Size([9])"
      ]
     },
     "execution_count": 24,
     "metadata": {},
     "output_type": "execute_result"
    }
   ],
   "source": [
    "w = left_edge.view(-1)\n",
    "w.shape"
   ]
  },
  {
   "cell_type": "markdown",
   "metadata": {},
   "source": [
    "Now we can do the matrix multiply of the kernel `w` (weights) by the unrolled input features `inp_unf`\n",
    "That gives us a 676 long vector."
   ]
  },
  {
   "cell_type": "code",
   "execution_count": 25,
   "metadata": {},
   "outputs": [
    {
     "data": {
      "text/plain": [
       "torch.Size([676])"
      ]
     },
     "execution_count": 25,
     "metadata": {},
     "output_type": "execute_result"
    }
   ],
   "source": [
    "out_unf = w@inp_unf\n",
    "out_unf.shape"
   ]
  },
  {
   "cell_type": "markdown",
   "metadata": {},
   "source": [
    "We can then view that as 26 by 26, and we get back our left Edge tensor result."
   ]
  },
  {
   "cell_type": "code",
   "execution_count": 26,
   "metadata": {},
   "outputs": [
    {
     "data": {
      "image/png": "[encoded data removed]",
      "text/plain": [
       "<Figure size 192x144 with 1 Axes>"
      ]
     },
     "metadata": {},
     "output_type": "display_data"
    }
   ],
   "source": [
    "out = out_unf.view(26,26)\n",
    "show_image(out);"
   ]
  },
  {
   "cell_type": "markdown",
   "metadata": {},
   "source": [
    "This is how we can create an implementation of convolutions from scratch.\n",
    "But we're not always creating the GPU optimized versions from scratch.\n",
    "If we use `apply_kernel` we get nearly 9 milliseconds,\n",
    "if we use unfold with matrix multiplier `@` we get about 400 times faster."
   ]
  },
  {
   "cell_type": "code",
   "execution_count": 27,
   "metadata": {},
   "outputs": [
    {
     "name": "stdout",
     "output_type": "stream",
     "text": [
      "8.61 ms ± 1.54 ms per loop (mean ± std. dev. of 7 runs, 1 loop each)\n"
     ]
    }
   ],
   "source": [
    "%timeit -n 1 tensor([[apply_kernel(i,j,left_edge) for j in rng] for i in rng]);"
   ]
  },
  {
   "cell_type": "code",
   "execution_count": 28,
   "metadata": {},
   "outputs": [
    {
     "name": "stdout",
     "output_type": "stream",
     "text": [
      "37.8 µs ± 10.2 µs per loop (mean ± std. dev. of 7 runs, 100 loops each)\n"
     ]
    }
   ],
   "source": [
    "%timeit -n 100 (w@F.unfold(inp, (3,3))[0]).view(26,26);"
   ]
  },
  {
   "cell_type": "markdown",
   "metadata": {},
   "source": [
    "Pytorch's `conv2D` is about the same speed... but would also work on a GPU.\n",
    "Note that this is a small image, need to experimented with bigger ones to measure difference in speeds."
   ]
  },
  {
   "cell_type": "code",
   "execution_count": 29,
   "metadata": {},
   "outputs": [
    {
     "name": "stdout",
     "output_type": "stream",
     "text": [
      "The slowest run took 4.80 times longer than the fastest. This could mean that an intermediate result is being cached.\n",
      "29.3 µs ± 19.9 µs per loop (mean ± std. dev. of 7 runs, 100 loops each)\n"
     ]
    }
   ],
   "source": [
    "%timeit -n 100 F.conv2d(inp, left_edge[None,None])"
   ]
  },
  {
   "cell_type": "markdown",
   "metadata": {},
   "source": [
    "We do the same for diagonal edges `diag1_edge` and `diag2_edge`."
   ]
  },
  {
   "cell_type": "code",
   "execution_count": 30,
   "metadata": {},
   "outputs": [],
   "source": [
    "diag1_edge = tensor([[ 0,-1, 1],\n",
    "                     [-1, 1, 0],\n",
    "                     [ 1, 0, 0]]).float()\n",
    "\n",
    "diag2_edge = tensor([[ 1,-1, 0],\n",
    "                     [ 0, 1,-1],\n",
    "                     [ 0, 0, 1]]).float()"
   ]
  },
  {
   "cell_type": "code",
   "execution_count": 31,
   "metadata": {},
   "outputs": [
    {
     "data": {
      "image/png": "[encoded data removed]",
      "text/plain": [
       "<Figure size 300x150 with 2 Axes>"
      ]
     },
     "metadata": {},
     "output_type": "display_data"
    }
   ],
   "source": [
    "fig,axs = subplots(1,2, imsize=5)\n",
    "show_image(diag1_edge, axs[0], noframe=False, title=\"Diag1\")\n",
    "show_image(diag2_edge, axs[1],noframe=False, title=\"Diag2\");"
   ]
  },
  {
   "cell_type": "markdown",
   "metadata": {},
   "source": [
    "Lets grab the first 16 images and do a convolution on our whole batch with all four Kernels at once."
   ]
  },
  {
   "cell_type": "code",
   "execution_count": 32,
   "metadata": {},
   "outputs": [
    {
     "data": {
      "text/plain": [
       "torch.Size([16, 1, 28, 28])"
      ]
     },
     "execution_count": 32,
     "metadata": {},
     "output_type": "execute_result"
    }
   ],
   "source": [
    "xb = x_imgs[:16][:,None]\n",
    "xb.shape"
   ]
  },
  {
   "cell_type": "code",
   "execution_count": 33,
   "metadata": {},
   "outputs": [
    {
     "data": {
      "text/plain": [
       "torch.Size([4, 1, 3, 3])"
      ]
     },
     "execution_count": 33,
     "metadata": {},
     "output_type": "execute_result"
    }
   ],
   "source": [
    "edge_kernels = torch.stack([left_edge, top_edge, diag1_edge, diag2_edge])[:,None]\n",
    "edge_kernels.shape"
   ]
  },
  {
   "cell_type": "markdown",
   "metadata": {},
   "source": [
    "To get good GPU acceleration we're doing a bunch of kernels and images all at\n",
    "once across across all of their pixels."
   ]
  },
  {
   "cell_type": "code",
   "execution_count": 34,
   "metadata": {},
   "outputs": [
    {
     "data": {
      "text/plain": [
       "torch.Size([16, 4, 26, 26])"
      ]
     },
     "execution_count": 34,
     "metadata": {},
     "output_type": "execute_result"
    }
   ],
   "source": [
    "batch_features = F.conv2d(xb, edge_kernels)\n",
    "batch_features.shape"
   ]
  },
  {
   "cell_type": "markdown",
   "metadata": {},
   "source": [
    "The output shape shows 16 images in the mini-batch, 4 kernels, and 26×26 edge maps \n",
    "(we started with 28×28 images, but lost one pixel from each side). \n",
    "We get the same results as when we did this manually:"
   ]
  },
  {
   "cell_type": "code",
   "execution_count": 35,
   "metadata": {},
   "outputs": [
    {
     "data": {
      "image/png": "[encoded data removed]",
      "text/plain": [
       "<Figure size 192x144 with 1 Axes>"
      ]
     },
     "metadata": {},
     "output_type": "display_data"
    }
   ],
   "source": [
    "img0 = xb[1,0]\n",
    "show_image(img0);"
   ]
  },
  {
   "cell_type": "code",
   "execution_count": 36,
   "metadata": {},
   "outputs": [
    {
     "data": {
      "image/png": "[encoded data removed]",
      "text/plain": [
       "<Figure size 180x180 with 4 Axes>"
      ]
     },
     "metadata": {},
     "output_type": "display_data"
    }
   ],
   "source": [
    "show_images([batch_features[1,i] for i in range(4)])"
   ]
  },
  {
   "cell_type": "markdown",
   "metadata": {},
   "source": [
    "### Strides and Padding\n",
    "We can add padding to deal with the problem of losing one pixel on each side.\n",
    "Rather than starting our window as before, we start it as seen in the Figure below.\n",
    "For the 3 \"imaginary\" pixels on the left the simplest approach is \"padding\", to take their value as 0.\n",
    "(There are alternatives to choose, e.g., assume they're the same as their neighbour.) \n",
    "With appropriate padding, we can ensure that the output activation map is the same size as the original image."
   ]
  },
  {
   "cell_type": "markdown",
   "metadata": {},
   "source": [
    "<img src=\"images/chapter9_padconv.svg\" id=\"pad_conv\" caption=\"A convolution with padding\" alt=\"A convolution with padding\" width=\"600\">"
   ]
  },
  {
   "cell_type": "markdown",
   "metadata": {},
   "source": [
    "With a 5×5 input (blue), 4×4 kernel (gray), and 2 pixels of padding, we end up with a 6×6 (green) activation map.\n",
    "<img alt=\"A 4×4 kernel with 5×5 input and 2 pixels of padding\" width=\"783\" caption=\"A 4×4 kernel with 5×5 input and 2 pixels of padding (courtesy of Vincent Dumoulin and Francesco Visin)\" id=\"four_by_five_conv\" src=\"images/att_00029.png\">"
   ]
  },
  {
   "cell_type": "markdown",
   "metadata": {},
   "source": [
    "We normally use **odd** numbered kernels, even numbered kernels are not used often;\n",
    "Odd numbered edge size kernels are easier to deal with to ensure we end up with the same sizes we start with.\n",
    "For example a 3x3 kernel and one pixel of padding we get back the same size we start with.\n",
    "Same for a 5x5 with three pixels of padding. "
   ]
  },
  {
   "cell_type": "markdown",
   "metadata": {},
   "source": [
    "If we add a kernel of size `ks` by `ks` (with `ks` an odd number), the necessary padding on each side to keep the same shape is `ks//2`.\n",
    "We could move over two pixels after each kernel application. This is known as a *stride-2* convolution.\n",
    "We've got a odd numbered size `ks by ks` size kernel then `ks` truncate divide two ((that's what `//` means)) will give the right size.\n",
    "<br>\n",
    "We can move the window across by a different amount (the **stride**) each time.\n",
    "Below we move it by a stride-2.\n",
    "stride-2 convolutions reduce the dimensionality of the input by a factor of two.\n",
    "We often want to do that size reduction e.g., with an autoencoder and for most classification architectures."
   ]
  },
  {
   "cell_type": "markdown",
   "metadata": {},
   "source": [
    "<img alt=\"A 3×3 kernel with 5×5 input, stride-2 convolution, and 1 pixel of padding\" width=\"774\" caption=\"A 3×3 kernel with 5×5 input, stride-2 convolution, and 1 pixel of padding (courtesy of Vincent Dumoulin and Francesco Visin)\" id=\"three_by_five_conv\" src=\"images/att_00030.png\">"
   ]
  },
  {
   "cell_type": "markdown",
   "metadata": {},
   "source": [
    "## Creating the CNN\n",
    "Let's create a convnet using these approaches.\n",
    "The size of our training set, `n, m, c, nh` are all the same as with our sequential linear models."
   ]
  },
  {
   "cell_type": "code",
   "execution_count": 37,
   "metadata": {},
   "outputs": [],
   "source": [
    "n,m = x_train.shape\n",
    "c = y_train.max()+1\n",
    "nh = 50"
   ]
  },
  {
   "cell_type": "code",
   "execution_count": 38,
   "metadata": {},
   "outputs": [],
   "source": [
    "model = nn.Sequential(nn.Linear(m,nh), nn.ReLU(), nn.Linear(nh,10))"
   ]
  },
  {
   "cell_type": "markdown",
   "metadata": {},
   "source": [
    "With our earlier MLPs we went from the number of pixels to the number of hidden `nh`, and then from `nh` to the number of outputs `c`.\n",
    "We can't do that now because the output is not 10 probabilities for each item in the batch.\n",
    "It is 10 probabilities for each item in our batch for each of the 28x28 pixels.\n",
    "Hence we can't use the same simple approach that we had for MLP.\n",
    "Below `broken_cnn` ilustrates using Pytorch's `nn`."
   ]
  },
  {
   "cell_type": "code",
   "execution_count": 39,
   "metadata": {},
   "outputs": [],
   "source": [
    "broken_cnn = nn.Sequential(\n",
    "    nn.Conv2d(1,30, kernel_size=3, padding=1),\n",
    "    nn.ReLU(),\n",
    "    nn.Conv2d(30,10, kernel_size=3, padding=1)\n",
    ")"
   ]
  },
  {
   "cell_type": "code",
   "execution_count": 40,
   "metadata": {},
   "outputs": [
    {
     "data": {
      "text/plain": [
       "torch.Size([16, 10, 28, 28])"
      ]
     },
     "execution_count": 40,
     "metadata": {},
     "output_type": "execute_result"
    }
   ],
   "source": [
    "broken_cnn(xb).shape"
   ]
  },
  {
   "cell_type": "markdown",
   "metadata": {},
   "source": [
    "Let's create a `conv` function so it does a conv2D with a stride-2 optionally followed by an activation.\n",
    "If `act=True` we add a value activation.\n",
    "`conv()` will either return a `conv2d` or a sequential containing a `Conv2d` followed by a value.\n",
    "Now we can create a CNN from scratch as a sequential model.\n",
    "Since `act=True` by default, this is going to take a 28x28 image starting with one channel and create an output of 4 channels. \n",
    "`ni` is the number of n, `nf` is the number of \"filters\", or the number of \"channels\" of our convolution.\n",
    "That is the number of outputs (similar to the number of outputs in a linear layer) \n",
    "except this is the out number of outputs in our convolution ??"
   ]
  },
  {
   "cell_type": "code",
   "execution_count": 41,
   "metadata": {},
   "outputs": [],
   "source": [
    "#|export\n",
    "def conv(ni, nf, ks=3, stride=2, act=True):\n",
    "    res = nn.Conv2d(ni, nf, stride=stride, kernel_size=ks, padding=ks//2)\n",
    "    if act: res = nn.Sequential(res, nn.ReLU())\n",
    "    return res"
   ]
  },
  {
   "cell_type": "markdown",
   "metadata": {},
   "source": [
    "Refactoring like this helps avoids errors due to inconsistencies in architectures, and makes it more obvious to the reader which parts of your layers are actually changing."
   ]
  },
  {
   "cell_type": "markdown",
   "metadata": {},
   "source": [
    "We add comments to remind of the grid size after each step.\n",
    "We had a 28x28 input, put it through a stride-2 conv so the output is 14x14.\n",
    "Then we go from a 4 Channel input to an 8 channel output, then from 8 to 16. \n",
    "We're now down to a 4x4 and then down to a 2x2 and finally a 1x1x1.\n",
    "On the last layer we don't add an activation, and it is going to create 10 outputs.\n",
    "We call flatten to remove the unnecessary unit axes."
   ]
  },
  {
   "cell_type": "code",
   "execution_count": 42,
   "metadata": {},
   "outputs": [],
   "source": [
    "simple_cnn = nn.Sequential(\n",
    "    conv(1 ,4),            #14x14\n",
    "    conv(4 ,8),            #7x7\n",
    "    conv(8 ,16),           #4x4\n",
    "    conv(16,16),           #2x2\n",
    "    conv(16,10, act=False), #1x1\n",
    "    nn.Flatten(),\n",
    ")"
   ]
  },
  {
   "cell_type": "markdown",
   "metadata": {},
   "source": [
    "We take that `simple_cnn`, pop our mini batch through it, and get what we want a 16x10: for each of the 16 images we've got the 10 probabilities of each possible digit."
   ]
  },
  {
   "cell_type": "code",
   "execution_count": 43,
   "metadata": {},
   "outputs": [
    {
     "data": {
      "text/plain": [
       "torch.Size([16, 10])"
      ]
     },
     "execution_count": 43,
     "metadata": {},
     "output_type": "execute_result"
    }
   ],
   "source": [
    "simple_cnn(xb).shape"
   ]
  },
  {
   "cell_type": "markdown",
   "metadata": {},
   "source": [
    "We take our training and validation sets and make them into 28x28 using `.view`.\n",
    "We create a `Dataset` for each, `train_ds` and `valid_ds` set and we're now going to train this on the GPU."
   ]
  },
  {
   "cell_type": "code",
   "execution_count": 44,
   "metadata": {},
   "outputs": [],
   "source": [
    "x_imgs = x_train.view(-1,1,28,28)\n",
    "xv_imgs = x_valid.view(-1,1,28,28)\n",
    "train_ds,valid_ds = Dataset(x_imgs, y_train),Dataset(xv_imgs, y_valid)"
   ]
  },
  {
   "cell_type": "code",
   "execution_count": 45,
   "metadata": {},
   "outputs": [
    {
     "data": {
      "text/plain": [
       "'1.12.1'"
      ]
     },
     "execution_count": 45,
     "metadata": {},
     "output_type": "execute_result"
    }
   ],
   "source": [
    "torch.__version__"
   ]
  },
  {
   "cell_type": "markdown",
   "metadata": {},
   "source": [
    "An M1 or M2 Apple silicon Mac has a device called MPS, which uses the Mac GPU.\n",
    "If you've got Nvidia you can use Cuda, which is 10+ times faster than a Mac.\n",
    "To know what device to use (Cuda or MPS) we can check `torch.backends.mps.is_available()` or `if torch.cuda.is_available()` for an Nvidia GPU.\n",
    "Turns out that an MPS device on a Mac is much slower than a CPU for matrix multiplication. (on an old Intel Mac, 16 times slower). (Is it simulating MPS?)\n",
    "<br>\n",
    "`to_device()` takes a tensor, or a dictionary, or a list of tensors, etc., and a device to move it to.\n",
    "If it's a dictionary a dictionary of things values moved onto that device.\n",
    "We can create a custom collate function which calls the Pytorch default collation function and then puts those tensors onto our device."
   ]
  },
  {
   "cell_type": "raw",
   "metadata": {},
   "source": [
    "import timeit\n",
    "a_cpu = torch.rand(1000, device='cpu')\n",
    "b_cpu = torch.rand((1000, 1000), device='cpu')\n",
    "a_mps = torch.rand(1000, device='mps')\n",
    "b_mps = torch.rand((1000, 1000), device='mps')\n",
    "\n",
    "print('cpu', timeit.timeit(lambda: a_cpu @ b_cpu, number=10000))\n",
    "print('mps', timeit.timeit(lambda: a_mps @ b_mps, number=10000))"
   ]
  },
  {
   "cell_type": "code",
   "execution_count": null,
   "metadata": {},
   "outputs": [],
   "source": []
  },
  {
   "cell_type": "code",
   "execution_count": 75,
   "metadata": {},
   "outputs": [],
   "source": [
    "#|export\n",
    "#def_device = 'mps' if torch.backends.mps.is_available() else 'cuda' if torch.cuda.is_available() else 'cpu'\n",
    "def_device = 'cuda' if torch.cuda.is_available() else 'cpu'\n",
    "\n",
    "def to_device(x, device=def_device):\n",
    "    if isinstance(x, torch.Tensor): return x.to(device)\n",
    "    if isinstance(x, Mapping): return {k:v.to(device) for k,v in x.items()}\n",
    "    return type(x)(to_device(o, device) for o in x)\n",
    "\n",
    "def collate_device(b): return to_device(default_collate(b))"
   ]
  },
  {
   "cell_type": "markdown",
   "metadata": {},
   "source": [
    "now got enough to run train this neural net."
   ]
  },
  {
   "cell_type": "code",
   "execution_count": 116,
   "metadata": {},
   "outputs": [
    {
     "data": {
      "text/plain": [
       "'cpu'"
      ]
     },
     "execution_count": 116,
     "metadata": {},
     "output_type": "execute_result"
    }
   ],
   "source": [
    "from torch import optim\n",
    "\n",
    "bs = 256\n",
    "lr = 0.4\n",
    "def_device"
   ]
  },
  {
   "cell_type": "markdown",
   "metadata": {},
   "source": [
    "Previously we created `get_dls()` function so we're going to use it \n",
    "passing in the datasets that we just created and our default collation function."
   ]
  },
  {
   "cell_type": "code",
   "execution_count": 77,
   "metadata": {},
   "outputs": [],
   "source": [
    "train_dl,valid_dl = get_dls(train_ds, valid_ds, bs, collate_fn=collate_device)"
   ]
  },
  {
   "cell_type": "markdown",
   "metadata": {},
   "source": [
    "We're going to create our Optimizer using our CNN's parameters\n",
    "and then we call fit (also created in our last lesson)."
   ]
  },
  {
   "cell_type": "code",
   "execution_count": 78,
   "metadata": {},
   "outputs": [],
   "source": [
    "opt = optim.SGD(simple_cnn.parameters(), lr=lr)"
   ]
  },
  {
   "cell_type": "code",
   "execution_count": 79,
   "metadata": {},
   "outputs": [
    {
     "name": "stdout",
     "output_type": "stream",
     "text": [
      "0 0.0769151175737381 0.977099999332428\n",
      "1 0.08565443334579467 0.9749000004768371\n",
      "2 0.1806820174217224 0.9551000001907348\n",
      "3 0.07923175916671753 0.976799999332428\n",
      "4 0.08384039204120636 0.977799999332428\n",
      "CPU times: user 38.9 s, sys: 1.02 s, total: 39.9 s\n",
      "Wall time: 6.82 s\n"
     ]
    }
   ],
   "source": [
    "%time loss,acc = fit(5, simple_cnn.to(def_device), F.cross_entropy, opt, train_dl, valid_dl)"
   ]
  },
  {
   "cell_type": "markdown",
   "metadata": {},
   "source": [
    "JH reduced the learning rate `lr=lr/4` and eventually got to a similar accuracy to what we did on our MLP.\n",
    "Notice we had to take the model and put it on the device."
   ]
  },
  {
   "cell_type": "code",
   "execution_count": 82,
   "metadata": {},
   "outputs": [
    {
     "name": "stdout",
     "output_type": "stream",
     "text": [
      "0 0.06963300051689147 0.981199999332428\n",
      "1 0.07489468629360199 0.9809999994277954\n",
      "2 0.07522314150333405 0.9806999994277954\n",
      "3 0.07798469860553742 0.9812999994277954\n",
      "4 0.0769192450761795 0.9810999994277954\n"
     ]
    }
   ],
   "source": [
    "opt = optim.SGD(simple_cnn.parameters(), lr=lr/4)\n",
    "loss,acc = fit(5, simple_cnn.to(def_device), F.cross_entropy, opt, train_dl, valid_dl)"
   ]
  },
  {
   "cell_type": "markdown",
   "metadata": {},
   "source": [
    "### Understanding Convolution Arithmetic"
   ]
  },
  {
   "cell_type": "markdown",
   "metadata": {},
   "source": [
    "In an input of size `64x1x28x28` the axes are `batch,Channel,Height,Width`, often represented as `NCHW` (where `N` is to batch size). \n",
    "Tensorflow uses `NHWC` order (aka \"channels-last\"). Channels-last is faster for many models, so it's become more common to use this as an option in PyTorch too.\n",
    "We have 1 input channel, 4 output channels, and a 3×3 kernel."
   ]
  },
  {
   "cell_type": "code",
   "execution_count": 83,
   "metadata": {},
   "outputs": [
    {
     "data": {
      "text/plain": [
       "Sequential(\n",
       "  (0): Sequential(\n",
       "    (0): Conv2d(1, 4, kernel_size=(3, 3), stride=(2, 2), padding=(1, 1))\n",
       "    (1): ReLU()\n",
       "  )\n",
       "  (1): Sequential(\n",
       "    (0): Conv2d(4, 8, kernel_size=(3, 3), stride=(2, 2), padding=(1, 1))\n",
       "    (1): ReLU()\n",
       "  )\n",
       "  (2): Sequential(\n",
       "    (0): Conv2d(8, 16, kernel_size=(3, 3), stride=(2, 2), padding=(1, 1))\n",
       "    (1): ReLU()\n",
       "  )\n",
       "  (3): Sequential(\n",
       "    (0): Conv2d(16, 16, kernel_size=(3, 3), stride=(2, 2), padding=(1, 1))\n",
       "    (1): ReLU()\n",
       "  )\n",
       "  (4): Conv2d(16, 10, kernel_size=(3, 3), stride=(2, 2), padding=(1, 1))\n",
       "  (5): Flatten(start_dim=1, end_dim=-1)\n",
       ")"
      ]
     },
     "execution_count": 83,
     "metadata": {},
     "output_type": "execute_result"
    }
   ],
   "source": [
    "simple_cnn"
   ]
  },
  {
   "cell_type": "code",
   "execution_count": 84,
   "metadata": {},
   "outputs": [
    {
     "data": {
      "text/plain": [
       "Sequential(\n",
       "  (0): Conv2d(1, 4, kernel_size=(3, 3), stride=(2, 2), padding=(1, 1))\n",
       "  (1): ReLU()\n",
       ")"
      ]
     },
     "execution_count": 84,
     "metadata": {},
     "output_type": "execute_result"
    }
   ],
   "source": [
    "simple_cnn[0]"
   ]
  },
  {
   "cell_type": "code",
   "execution_count": 85,
   "metadata": {},
   "outputs": [
    {
     "data": {
      "text/plain": [
       "Conv2d(1, 4, kernel_size=(3, 3), stride=(2, 2), padding=(1, 1))"
      ]
     },
     "execution_count": 85,
     "metadata": {},
     "output_type": "execute_result"
    }
   ],
   "source": [
    "simple_cnn[0][0]"
   ]
  },
  {
   "cell_type": "code",
   "execution_count": 87,
   "metadata": {},
   "outputs": [
    {
     "data": {
      "text/plain": [
       "torch.Size([4, 1, 3, 3])"
      ]
     },
     "execution_count": 87,
     "metadata": {},
     "output_type": "execute_result"
    }
   ],
   "source": [
    "conv1 = simple_cnn[0][0]\n",
    "conv1.weight.shape"
   ]
  },
  {
   "cell_type": "code",
   "execution_count": 88,
   "metadata": {},
   "outputs": [
    {
     "data": {
      "text/plain": [
       "torch.Size([4])"
      ]
     },
     "execution_count": 88,
     "metadata": {},
     "output_type": "execute_result"
    }
   ],
   "source": [
    "conv1.bias.shape"
   ]
  },
  {
   "cell_type": "markdown",
   "metadata": {},
   "source": [
    "#### The *receptive field* \n",
    "is the area of an image that is involved in the calculation of a layer. *conv-example.xlsx* shows the calculation of two stride-2 convolutional layers using an MNIST digit. Here's what we see if we click on one of the cells in the *conv2* section, which shows the output of the second convolutional layer, and click *trace precedents*."
   ]
  },
  {
   "cell_type": "markdown",
   "metadata": {},
   "source": [
    "<img alt=\"Immediate precedents of conv2 layer\" width=\"308\" caption=\"Immediate precedents of Conv2 layer\" id=\"preced1\" src=\"images/att_00068.png\">"
   ]
  },
  {
   "cell_type": "markdown",
   "metadata": {},
   "source": [
    "The blue highlighted cells are its *precedents*—that is, the cells used to calculate its value. These cells are the corresponding 3×3 area of cells from the input layer (on the left), and the cells from the filter (on the right). Click *trace precedents* again:"
   ]
  },
  {
   "cell_type": "markdown",
   "metadata": {},
   "source": [
    "<img alt=\"Secondary precedents of conv2 layer\" width=\"601\" caption=\"Secondary precedents of Conv2 layer\" id=\"preced2\" src=\"images/att_00069.png\">"
   ]
  },
  {
   "cell_type": "markdown",
   "metadata": {},
   "source": [
    "In this example, we have just two convolutional layers. A 7×7 area of cells in the input layer is used to calculate the single cell in the Conv2 layer. This 7x7 is the *receptive field*\n",
    "<br>\n",
    "The deeper we are in the network (specifically, the more stride-2 convs we have before a layer), the larger the receptive field for an activation in that layer."
   ]
  },
  {
   "cell_type": "markdown",
   "metadata": {},
   "source": [
    "## Color Images"
   ]
  },
  {
   "cell_type": "markdown",
   "metadata": {},
   "source": [
    "A colour picture is a rank-3 tensor:"
   ]
  },
  {
   "cell_type": "code",
   "execution_count": 21,
   "metadata": {},
   "outputs": [
    {
     "data": {
      "text/plain": [
       "'0.14.1'"
      ]
     },
     "execution_count": 21,
     "metadata": {},
     "output_type": "execute_result"
    }
   ],
   "source": [
    "import torchvision\n",
    "torchvision.__version__"
   ]
  },
  {
   "cell_type": "code",
   "execution_count": 22,
   "metadata": {},
   "outputs": [],
   "source": [
    "from torchvision.io import read_image"
   ]
  },
  {
   "cell_type": "code",
   "execution_count": 23,
   "metadata": {},
   "outputs": [
    {
     "data": {
      "text/plain": [
       "<function torchvision.io.image.read_image(path: str, mode: torchvision.io.image.ImageReadMode = <ImageReadMode.UNCHANGED: 0>) -> torch.Tensor>"
      ]
     },
     "execution_count": 23,
     "metadata": {},
     "output_type": "execute_result"
    }
   ],
   "source": [
    "read_image"
   ]
  },
  {
   "cell_type": "code",
   "execution_count": 15,
   "metadata": {},
   "outputs": [
    {
     "name": "stdout",
     "output_type": "stream",
     "text": [
      "/Users/germangoldszmidt/GitHub/course22p2/nbs\n"
     ]
    }
   ],
   "source": [
    "!pwd"
   ]
  },
  {
   "cell_type": "code",
   "execution_count": 16,
   "metadata": {},
   "outputs": [],
   "source": [
    "s = str(\"images/grizzly.jpg\")"
   ]
  },
  {
   "cell_type": "code",
   "execution_count": 24,
   "metadata": {},
   "outputs": [
    {
     "ename": "AttributeError",
     "evalue": "'_OpNamespace' object has no attribute 'read_file'",
     "output_type": "error",
     "traceback": [
      "\u001b[0;31m---------------------------------------------------------------------------\u001b[0m",
      "\u001b[0;31mRuntimeError\u001b[0m                              Traceback (most recent call last)",
      "File \u001b[0;32m~/mambaforge/lib/python3.9/site-packages/torch/_ops.py:198\u001b[0m, in \u001b[0;36m_OpNamespace.__getattr__\u001b[0;34m(self, op_name)\u001b[0m\n\u001b[1;32m    197\u001b[0m \u001b[38;5;28;01mtry\u001b[39;00m:\n\u001b[0;32m--> 198\u001b[0m     op, overload_names \u001b[38;5;241m=\u001b[39m \u001b[43mtorch\u001b[49m\u001b[38;5;241;43m.\u001b[39;49m\u001b[43m_C\u001b[49m\u001b[38;5;241;43m.\u001b[39;49m\u001b[43m_jit_get_operation\u001b[49m\u001b[43m(\u001b[49m\u001b[43mqualified_op_name\u001b[49m\u001b[43m)\u001b[49m\n\u001b[1;32m    199\u001b[0m \u001b[38;5;28;01mexcept\u001b[39;00m \u001b[38;5;167;01mRuntimeError\u001b[39;00m \u001b[38;5;28;01mas\u001b[39;00m e:\n\u001b[1;32m    200\u001b[0m     \u001b[38;5;66;03m# Turn this into AttributeError so getattr(obj, key, default)\u001b[39;00m\n\u001b[1;32m    201\u001b[0m     \u001b[38;5;66;03m# works (this is called by TorchScript with __origin__)\u001b[39;00m\n",
      "\u001b[0;31mRuntimeError\u001b[0m: No such operator image::read_file",
      "\nThe above exception was the direct cause of the following exception:\n",
      "\u001b[0;31mAttributeError\u001b[0m                            Traceback (most recent call last)",
      "Cell \u001b[0;32mIn [24], line 1\u001b[0m\n\u001b[0;32m----> 1\u001b[0m \u001b[43mread_image\u001b[49m\u001b[43m(\u001b[49m\u001b[38;5;124;43m\"\u001b[39;49m\u001b[38;5;124;43mimages/grizzly.jpg\u001b[39;49m\u001b[38;5;124;43m\"\u001b[39;49m\u001b[43m)\u001b[49m\n",
      "File \u001b[0;32m~/mambaforge/lib/python3.9/site-packages/torchvision/io/image.py:253\u001b[0m, in \u001b[0;36mread_image\u001b[0;34m(path, mode)\u001b[0m\n\u001b[1;32m    251\u001b[0m \u001b[38;5;28;01mif\u001b[39;00m \u001b[38;5;129;01mnot\u001b[39;00m torch\u001b[38;5;241m.\u001b[39mjit\u001b[38;5;241m.\u001b[39mis_scripting() \u001b[38;5;129;01mand\u001b[39;00m \u001b[38;5;129;01mnot\u001b[39;00m torch\u001b[38;5;241m.\u001b[39mjit\u001b[38;5;241m.\u001b[39mis_tracing():\n\u001b[1;32m    252\u001b[0m     _log_api_usage_once(read_image)\n\u001b[0;32m--> 253\u001b[0m data \u001b[38;5;241m=\u001b[39m \u001b[43mread_file\u001b[49m\u001b[43m(\u001b[49m\u001b[43mpath\u001b[49m\u001b[43m)\u001b[49m\n\u001b[1;32m    254\u001b[0m \u001b[38;5;28;01mreturn\u001b[39;00m decode_image(data, mode)\n",
      "File \u001b[0;32m~/mambaforge/lib/python3.9/site-packages/torchvision/io/image.py:47\u001b[0m, in \u001b[0;36mread_file\u001b[0;34m(path)\u001b[0m\n\u001b[1;32m     45\u001b[0m \u001b[38;5;28;01mif\u001b[39;00m \u001b[38;5;129;01mnot\u001b[39;00m torch\u001b[38;5;241m.\u001b[39mjit\u001b[38;5;241m.\u001b[39mis_scripting() \u001b[38;5;129;01mand\u001b[39;00m \u001b[38;5;129;01mnot\u001b[39;00m torch\u001b[38;5;241m.\u001b[39mjit\u001b[38;5;241m.\u001b[39mis_tracing():\n\u001b[1;32m     46\u001b[0m     _log_api_usage_once(read_file)\n\u001b[0;32m---> 47\u001b[0m data \u001b[38;5;241m=\u001b[39m \u001b[43mtorch\u001b[49m\u001b[38;5;241;43m.\u001b[39;49m\u001b[43mops\u001b[49m\u001b[38;5;241;43m.\u001b[39;49m\u001b[43mimage\u001b[49m\u001b[38;5;241;43m.\u001b[39;49m\u001b[43mread_file\u001b[49m(path)\n\u001b[1;32m     48\u001b[0m \u001b[38;5;28;01mreturn\u001b[39;00m data\n",
      "File \u001b[0;32m~/mambaforge/lib/python3.9/site-packages/torch/_ops.py:202\u001b[0m, in \u001b[0;36m_OpNamespace.__getattr__\u001b[0;34m(self, op_name)\u001b[0m\n\u001b[1;32m    198\u001b[0m     op, overload_names \u001b[38;5;241m=\u001b[39m torch\u001b[38;5;241m.\u001b[39m_C\u001b[38;5;241m.\u001b[39m_jit_get_operation(qualified_op_name)\n\u001b[1;32m    199\u001b[0m \u001b[38;5;28;01mexcept\u001b[39;00m \u001b[38;5;167;01mRuntimeError\u001b[39;00m \u001b[38;5;28;01mas\u001b[39;00m e:\n\u001b[1;32m    200\u001b[0m     \u001b[38;5;66;03m# Turn this into AttributeError so getattr(obj, key, default)\u001b[39;00m\n\u001b[1;32m    201\u001b[0m     \u001b[38;5;66;03m# works (this is called by TorchScript with __origin__)\u001b[39;00m\n\u001b[0;32m--> 202\u001b[0m     \u001b[38;5;28;01mraise\u001b[39;00m \u001b[38;5;167;01mAttributeError\u001b[39;00m(\u001b[38;5;124mf\u001b[39m\u001b[38;5;124m\"\u001b[39m\u001b[38;5;124m'\u001b[39m\u001b[38;5;124m_OpNamespace\u001b[39m\u001b[38;5;124m'\u001b[39m\u001b[38;5;124m object has no attribute \u001b[39m\u001b[38;5;124m'\u001b[39m\u001b[38;5;132;01m{\u001b[39;00mop_name\u001b[38;5;132;01m}\u001b[39;00m\u001b[38;5;124m'\u001b[39m\u001b[38;5;124m\"\u001b[39m) \u001b[38;5;28;01mfrom\u001b[39;00m \u001b[38;5;21;01me\u001b[39;00m\n\u001b[1;32m    204\u001b[0m \u001b[38;5;66;03m# let the script frontend know that op is identical to the builtin op\u001b[39;00m\n\u001b[1;32m    205\u001b[0m \u001b[38;5;66;03m# with qualified_op_name\u001b[39;00m\n\u001b[1;32m    206\u001b[0m torch\u001b[38;5;241m.\u001b[39mjit\u001b[38;5;241m.\u001b[39m_builtins\u001b[38;5;241m.\u001b[39m_register_builtin(op, qualified_op_name)\n",
      "\u001b[0;31mAttributeError\u001b[0m: '_OpNamespace' object has no attribute 'read_file'"
     ]
    }
   ],
   "source": [
    "read_image(\"images/grizzly.jpg\")"
   ]
  },
  {
   "cell_type": "code",
   "execution_count": null,
   "metadata": {},
   "outputs": [],
   "source": [
    "show_image(im.permute(1,2,0));"
   ]
  },
  {
   "cell_type": "code",
   "execution_count": null,
   "metadata": {},
   "outputs": [],
   "source": [
    "_,axs = plt.subplots(1,3)\n",
    "for bear,ax,color in zip(im,axs,('Reds','Greens','Blues')): show_image(255-bear, ax=ax, cmap=color)"
   ]
  },
  {
   "cell_type": "markdown",
   "metadata": {},
   "source": [
    "<img src=\"images/chapter9_rgbconv.svg\" id=\"rgbconv\" caption=\"Convolution over an RGB image\" alt=\"Convolution over an RGB image\" width=\"550\">"
   ]
  },
  {
   "cell_type": "markdown",
   "metadata": {},
   "source": [
    "These are then all added together, to produce a single number, for each grid location, for each output feature."
   ]
  },
  {
   "cell_type": "markdown",
   "metadata": {},
   "source": [
    "<img src=\"images/chapter9_rgb_conv_stack.svg\" id=\"rgbconv2\" caption=\"Adding the RGB filters\" alt=\"Adding the RGB filters\" width=\"500\">"
   ]
  },
  {
   "cell_type": "markdown",
   "metadata": {},
   "source": [
    "We have `ch_out` filters like this, so in the end, the result of our convolutional layer will be a batch of images with `ch_out` channels."
   ]
  },
  {
   "cell_type": "markdown",
   "metadata": {},
   "source": [
    "## Export -"
   ]
  },
  {
   "cell_type": "code",
   "execution_count": null,
   "metadata": {},
   "outputs": [],
   "source": [
    "import nbdev; nbdev.nbdev_export()"
   ]
  },
  {
   "cell_type": "code",
   "execution_count": null,
   "metadata": {},
   "outputs": [],
   "source": []
  }
 ],
 "metadata": {
  "jupytext": {
   "split_at_heading": true
  },
  "kernelspec": {
   "display_name": "Python 3 (ipykernel)",
   "language": "python",
   "name": "python3"
  },
  "language_info": {
   "codemirror_mode": {
    "name": "ipython",
    "version": 3
   },
   "file_extension": ".py",
   "mimetype": "text/x-python",
   "name": "python",
   "nbconvert_exporter": "python",
   "pygments_lexer": "ipython3",
   "version": "3.9.15"
  }
 },
 "nbformat": 4,
 "nbformat_minor": 4
}
