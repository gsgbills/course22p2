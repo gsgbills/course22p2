{
 "cells": [
  {
   "cell_type": "code",
   "execution_count": 10,
   "id": "da7e553f",
   "metadata": {},
   "outputs": [],
   "source": [
    "#| default_exp learner"
   ]
  },
  {
   "cell_type": "code",
   "execution_count": 11,
   "id": "846e1328-dbf4-42cb-a955-d8543ff81758",
   "metadata": {},
   "outputs": [],
   "source": [
    "import logging\n",
    "logging.disable(logging.WARNING)\n",
    "\n",
    "import warnings\n",
    "warnings.filterwarnings('ignore')"
   ]
  },
  {
   "cell_type": "markdown",
   "id": "cab19179-75d4-4c6b-87f0-264e8c6a6a16",
   "metadata": {},
   "source": [
    "<span style='color:Blue'> \n",
    "NB: JH made several changes to the code AFTER the lesson where this was presented.\n",
    "To find those changes (made to the code in the last week), we \n",
    "can go to the course repo, add /compare in GitHub,  and then we can compare across different things.\n",
    "One of the examples they provide is to compare across different times, e.g., \n",
    "the master Branch now versus one day ago.\n",
    "To change that to vs. 7 days ago, change in the URL to 7.\n",
    "This way we can see all the commits, the changes from last week. \n",
    "</span>"
   ]
  },
  {
   "cell_type": "code",
   "execution_count": 12,
   "id": "7e8f8491",
   "metadata": {},
   "outputs": [],
   "source": [
    "#|export\n",
    "import pickle,gzip,math,os,time,shutil,torch,matplotlib as mpl,numpy as np,matplotlib.pyplot as plt\n",
    "import fastcore.all as fc\n",
    "from collections.abc import Mapping\n",
    "from pathlib import Path\n",
    "from operator import attrgetter,itemgetter\n",
    "from functools import partial\n",
    "from copy import copy\n",
    "from contextlib import contextmanager\n",
    "from warnings import warn\n",
    "\n",
    "from torch import tensor,nn,optim\n",
    "from torch.utils.data import DataLoader\n",
    "from torch.utils.data.dataloader import default_collate\n",
    "import torch.nn.functional as F\n",
    "import torchvision.transforms.functional as TF\n",
    "from datasets import load_dataset,load_dataset_builder\n",
    "\n",
    "from miniai.datasets import *\n",
    "from miniai.conv import *\n",
    "\n",
    "from fastprogress import progress_bar,master_bar"
   ]
  },
  {
   "cell_type": "code",
   "execution_count": 13,
   "id": "84a947f2",
   "metadata": {},
   "outputs": [],
   "source": [
    "from fastcore.test import test_close\n",
    "\n",
    "torch.set_printoptions(precision=2, linewidth=140, sci_mode=False)\n",
    "torch.manual_seed(1)\n",
    "mpl.rcParams['image.cmap'] = 'gray'"
   ]
  },
  {
   "cell_type": "markdown",
   "id": "0fa525fe-d797-4431-bf4a-f93383d1e304",
   "metadata": {},
   "source": [
    "### Preliminaries\n",
    "From previous notebooks."
   ]
  },
  {
   "cell_type": "code",
   "execution_count": 14,
   "id": "c7aca6e0-fc91-403c-b28e-5bd3086ab804",
   "metadata": {},
   "outputs": [
    {
     "data": {
      "text/plain": [
       "('image', 'label')"
      ]
     },
     "execution_count": 14,
     "metadata": {},
     "output_type": "execute_result"
    }
   ],
   "source": [
    "name = \"fashion_mnist\"\n",
    "ds_builder = load_dataset_builder(name)\n",
    "x,y = ds_builder.info.features\n",
    "x, y"
   ]
  },
  {
   "cell_type": "code",
   "execution_count": 15,
   "id": "b22868a9",
   "metadata": {},
   "outputs": [
    {
     "data": {
      "application/vnd.jupyter.widget-view+json": {
       "model_id": "6d0ccbdd79354938a913d4c60c26a91b",
       "version_major": 2,
       "version_minor": 0
      },
      "text/plain": [
       "  0%|          | 0/2 [00:00<?, ?it/s]"
      ]
     },
     "metadata": {},
     "output_type": "display_data"
    }
   ],
   "source": [
    "dsd = load_dataset(name)"
   ]
  },
  {
   "cell_type": "markdown",
   "id": "2e2fd0e2-d55b-4605-ba67-e909fe873f42",
   "metadata": {},
   "source": [
    "We define an `@inplace` transform `transformi(b)`\n",
    "that converts each image `o in b[x]` into a tensor with `TF.to_tensor(o)`.\n",
    "<br>\n",
    "`tds` is the transformed dataset dictionary, via `dsd.with_transform(transformi)`"
   ]
  },
  {
   "cell_type": "code",
   "execution_count": 16,
   "id": "88ec27b0-67dd-4284-adc2-06bd131d05c0",
   "metadata": {},
   "outputs": [],
   "source": [
    "@inplace\n",
    "def transformi(b): b[x] = [torch.flatten(TF.to_tensor(o)) for o in b[x]]\n",
    "\n",
    "tds = dsd.with_transform(transformi)"
   ]
  },
  {
   "cell_type": "markdown",
   "id": "bdee991f-b02f-44ee-a8a6-b6829ce5f6f0",
   "metadata": {},
   "source": [
    "`class DataLoaders:` defined similar to before.\n",
    "We pass 2 dataloaders `dls[:2]` and store them in `.train`, `.valid`.\n",
    "<br>\n",
    "We define a `@classmethod` `from_dd`, that calls `DataLoader` on each of the `ds` \n",
    "(dataset dictionary items), with the `batch_size` and instantiate our class.\n",
    "<br>\n",
    "`@classmethod` allows us to later write `DataLoaders.`something, e.g., `DataLoaders.from_dd`.\n",
    "<mark > To construct this we could have put this in `init()`, \n",
    "but lets start by getting the basic structure.?? \n",
    "</mark> \n",
    "Nothing on the device because that didn't work (previous notebook)."
   ]
  },
  {
   "cell_type": "code",
   "execution_count": 17,
   "id": "ba214e6b",
   "metadata": {},
   "outputs": [],
   "source": [
    "#|export\n",
    "class DataLoaders:\n",
    "    def __init__(self, *dls): self.train,self.valid = dls[:2]\n",
    "\n",
    "    @classmethod\n",
    "    def from_dd(cls, dd, batch_size, as_tuple=True, **kwargs):\n",
    "        return cls(*[DataLoader(ds, batch_size, collate_fn=collate_dict(ds), **kwargs) for ds in dd.values()])"
   ]
  },
  {
   "cell_type": "code",
   "execution_count": 18,
   "id": "9cb11029",
   "metadata": {},
   "outputs": [
    {
     "data": {
      "text/plain": [
       "(torch.Size([1024, 784]), tensor([9, 0, 0, 3, 0, 2, 7, 2, 5, 5]))"
      ]
     },
     "execution_count": 18,
     "metadata": {},
     "output_type": "execute_result"
    }
   ],
   "source": [
    "bs = 1024\n",
    "dls = DataLoaders.from_dd(tds, bs, num_workers=4)\n",
    "dt = dls.train\n",
    "xb,yb = next(iter(dt))\n",
    "xb.shape,yb[:10]"
   ]
  },
  {
   "cell_type": "markdown",
   "id": "18454f2f-190d-4220-8db7-d4911f69147a",
   "metadata": {
    "tags": []
   },
   "source": [
    "### Basic Learner"
   ]
  },
  {
   "cell_type": "markdown",
   "id": "11b2b32d-14ab-4c83-b1b6-56edd08e6ae8",
   "metadata": {
    "jp-MarkdownHeadingCollapsed": true,
    "tags": []
   },
   "source": [
    "A simple learner that fits on one screen and replaces our `fit` function.\n",
    "<mark> A learner is something that is going to train or learn a particular model,\n",
    "using a particular set of data loaders, a particular loss function, a particular learning rate, a particular Optimizer, or some particular optimization function. </mark> <br>\n",
    "To avoid the boilerplate of storing each of these items separately, we call `fc.store_attr()` in `__init__`.\n",
    "```Python\n",
    " def __init__(self, model, dls, loss_func, lr, opt_func=optim.SGD): fc.store_attr()\n",
    "```\n",
    "Lets look first at the `fit()` method.\n",
    "```Python\n",
    "   def fit(self, n_epochs):\n",
    "        self.accs,self.losses,self.ns = [],[],[]\n",
    "        self.model.to(def_device)\n",
    "        self.opt = self.opt_func(self.model.parameters(), self.lr)\n",
    "        self.n_epochs = n_epochs\n",
    "        for self.epoch in range(n_epochs):\n",
    "            self.one_epoch(True)\n",
    "            with torch.no_grad(): self.one_epoch(False)\n",
    "```            \n",
    "It has `self.accs` for keeping track of accuracy (for classification where we can use accuracy),\n",
    "`self.losses`, etc.\n",
    "We put the model on the `def_device`, create the optimizer,\n",
    "store how many `n_epochs` we're going through.\n",
    "Then for each `epoch` we call the `one_epoch` function, \n",
    "either to do train (`True`) or evaluation (`False`).\n",
    "\n",
    "```Python\n",
    "def one_epoch(self, train):\n",
    "        self.model.training = train\n",
    "        dl = self.dls.train if train else self.dls.valid\n",
    "        for self.num,self.batch in enumerate(dl): self.one_batch()\n",
    "        n = sum(self.ns)\n",
    "        print(self.epoch, self.model.training, sum(self.losses).item()/n, sum(self.accs).item()/n)\n",
    "```\n",
    "In `one_epoch` we set `model.training` to training/valid mode, \n",
    "and then set `dl` to use the `train` or `valid` set accordingly.  \n",
    "Then we go through each `batch` in the `dl` dataloader and call `one_batch()`.\n",
    "```Python\n",
    "def one_batch(self):\n",
    "        self.xb,self.yb = to_device(self.batch)\n",
    "        self.preds = self.model(self.xb)\n",
    "        self.loss = self.loss_func(self.preds, self.yb)\n",
    "        if self.model.training:\n",
    "            self.loss.backward()\n",
    "            self.opt.step()\n",
    "            self.opt.zero_grad()\n",
    "        with torch.no_grad(): self.calc_stats()\n",
    "```\n",
    "`one_batch()` saves the `xb` and `yb` parts of the batch, \n",
    "calls the `.model` saving the results in `.preds`, \n",
    "calls the loss function `loss_func` with the `.preds` and targets `yb`.\n",
    "If `model.training` do the backward pass.\n",
    "Calculate the statistics for our accuracy, and at the end of the epoch print that.\n",
    "\n",
    "This basic learner is not very flexible but it did something good.\n",
    "It's not going to help us, for example, with our Autoencoder because there's no\n",
    "way of changing which things are used for predicting with or for calculating with.\n",
    "We can use it ONLY for things that involve accuracy with a multi-class classification.\n",
    "It's a start, all on one screen (31 LoCs), to see what a basic learner is."
   ]
  },
  {
   "cell_type": "code",
   "execution_count": 19,
   "id": "d733c9b0",
   "metadata": {},
   "outputs": [],
   "source": [
    "class Learner:\n",
    "    def __init__(self, model, dls, loss_func, lr, opt_func=optim.SGD): fc.store_attr()\n",
    "\n",
    "    def one_batch(self):\n",
    "        self.xb,self.yb = to_device(self.batch)\n",
    "        self.preds = self.model(self.xb)\n",
    "        self.loss = self.loss_func(self.preds, self.yb)\n",
    "        if self.model.training:\n",
    "            self.loss.backward()\n",
    "            self.opt.step()\n",
    "            self.opt.zero_grad()\n",
    "        with torch.no_grad(): self.calc_stats()\n",
    "\n",
    "    def calc_stats(self):\n",
    "        acc = (self.preds.argmax(dim=1)==self.yb).float().sum()\n",
    "        self.accs.append(acc)\n",
    "        n = len(self.xb)\n",
    "        self.losses.append(self.loss*n)\n",
    "        self.ns.append(n)\n",
    "\n",
    "    def one_epoch(self, train):\n",
    "        self.model.training = train\n",
    "        dl = self.dls.train if train else self.dls.valid\n",
    "        for self.num,self.batch in enumerate(dl): self.one_batch()\n",
    "        n = sum(self.ns)\n",
    "        print(self.epoch, self.model.training, sum(self.losses).item()/n, sum(self.accs).item()/n)\n",
    "    \n",
    "    def fit(self, n_epochs):\n",
    "        self.accs,self.losses,self.ns = [],[],[]\n",
    "        self.model.to(def_device)\n",
    "        self.opt = self.opt_func(self.model.parameters(), self.lr)\n",
    "        self.n_epochs = n_epochs\n",
    "        for self.epoch in range(n_epochs):\n",
    "            self.one_epoch(True)\n",
    "            with torch.no_grad(): self.one_epoch(False)"
   ]
  },
  {
   "cell_type": "markdown",
   "id": "c3fd44c8-adfb-4c65-bb58-be397d3181a4",
   "metadata": {},
   "source": [
    "Lets create a simple model to test the (basic) Learner."
   ]
  },
  {
   "cell_type": "code",
   "execution_count": 20,
   "id": "1a0218d6-62a4-4422-8ef8-d1a449810247",
   "metadata": {},
   "outputs": [
    {
     "name": "stdout",
     "output_type": "stream",
     "text": [
      "0 True 1.1852194010416666 0.59565\n",
      "0 False 1.1349697544642856 0.6088142857142858\n"
     ]
    }
   ],
   "source": [
    "m,nh = 28*28,50\n",
    "model = nn.Sequential(nn.Linear(m,nh), nn.ReLU(), nn.Linear(nh,10))\n",
    "\n",
    "learn = Learner(model, dls, F.cross_entropy, lr=0.2)\n",
    "learn.fit(1)"
   ]
  },
  {
   "cell_type": "markdown",
   "id": "1742b87c-ec56-4cc7-9acf-448dc09f8b93",
   "metadata": {
    "tags": []
   },
   "source": [
    "## Callbacks"
   ]
  },
  {
   "cell_type": "markdown",
   "id": "3693a8ec-982d-4fd1-b1a9-17f83703d93e",
   "metadata": {},
   "source": [
    "Default exceptions to be ignored."
   ]
  },
  {
   "cell_type": "code",
   "execution_count": 21,
   "id": "534c00e6",
   "metadata": {},
   "outputs": [],
   "source": [
    "#|export\n",
    "class CancelFitException(Exception): pass\n",
    "class CancelBatchException(Exception): pass\n",
    "class CancelEpochException(Exception): pass"
   ]
  },
  {
   "cell_type": "markdown",
   "id": "f9b92dd6-04f4-4630-8abc-14c758d01d88",
   "metadata": {},
   "source": [
    "Note that in `class Callback(): order = 0`\n",
    "so all callbacks have the default order of zero unless we ask otherwise."
   ]
  },
  {
   "cell_type": "code",
   "execution_count": 22,
   "id": "3b3850ac-dce7-4443-9697-0dd907232977",
   "metadata": {},
   "outputs": [],
   "source": [
    "#|export\n",
    "class Callback(): order = 0"
   ]
  },
  {
   "cell_type": "markdown",
   "id": "bf367093-2178-417b-ba2c-a35b8f794486",
   "metadata": {},
   "source": [
    "`run_cbs` will run all the `cb` callbacks in `cbs` in `order`.\n",
    "It uses `getattr()` to retrieve the `method` name in the `cb`.\n",
    "(`getattr`: Get a named attribute from an object; `getattr(x, 'y')` is equivalent to `x.y`).\n",
    "If the method exists, it calls it."
   ]
  },
  {
   "cell_type": "markdown",
   "id": "b51dc31f-3496-4f20-92f9-bda69a4504c9",
   "metadata": {},
   "source": [
    "NB: An earlier version of this notebook, was putting the learner object itself into self.learn in each callback.\n",
    "That meant we were referring to, e.g., `self.learn.model`, `self.learn.opt`, etc. \n",
    "As it was ugly, JH modified this to instead pass in the learner `learn` as an argument\n",
    "when it calls the `run_cbs`.\n",
    "As it passes the learner as a parameter to the method, the learner no longer \n",
    "needs to go through the callbacks and set a `.learn` attribute.\n",
    "Now we have to put `learn` as an argument in all of the Callback methods.\n",
    "For example, `deviceCB` has a `before_fit`, so now it's got ( ..,learn).\n",
    "Also we avoid a cycle, where the learner has a reference to the callbacks and \n",
    "also the callbacks have a reference back to the learner."
   ]
  },
  {
   "cell_type": "code",
   "execution_count": 23,
   "id": "3154924e-af0e-4c9b-a60d-67336f5eab8c",
   "metadata": {},
   "outputs": [],
   "source": [
    "#|export\n",
    "def run_cbs(cbs, method_nm, learn=None):\n",
    "    for cb in sorted(cbs, key=attrgetter('order')):\n",
    "        method = getattr(cb, method_nm, None)\n",
    "        if method is not None: method(learn)"
   ]
  },
  {
   "cell_type": "markdown",
   "id": "7d587cf6-76ec-4560-97e0-e90431ae58e1",
   "metadata": {},
   "source": [
    "### Simple Callback CompletionCB\n",
    "Before we look at how callbacks work, let's just run a simple callback `CompletionCB`. \n",
    "Before we start fitting a new model it will set its `count` attribute to 0.\n",
    "After each batch it will increment `count`, and after completing the fitting process\n",
    "it will print out `count`, how many batches we've done."
   ]
  },
  {
   "cell_type": "code",
   "execution_count": 24,
   "id": "583ce114",
   "metadata": {},
   "outputs": [],
   "source": [
    "class CompletionCB(Callback):\n",
    "    def before_fit(self, learn): self.count = 0\n",
    "    def after_batch(self, learn): self.count += 1\n",
    "    def after_fit(self, learn): print(f'Completed {self.count} batches')"
   ]
  },
  {
   "cell_type": "markdown",
   "id": "5cfeefbe-751f-4fd2-b500-28cca81786f1",
   "metadata": {},
   "source": [
    "(Before we even train a model) lets run manually `before_fit`,\n",
    "`after_batch`, and `after_fit` using `run_cbs`, to make sure they work as we want.\n",
    "We set the list of `cbs` to have a single member, `CompletionCB()`."
   ]
  },
  {
   "cell_type": "code",
   "execution_count": 26,
   "id": "c2b41ea4",
   "metadata": {},
   "outputs": [
    {
     "name": "stdout",
     "output_type": "stream",
     "text": [
      "Completed 1 batches\n"
     ]
    }
   ],
   "source": [
    "cbs = [CompletionCB()]\n",
    "run_cbs(cbs, 'before_fit')\n",
    "run_cbs(cbs, 'after_batch')\n",
    "run_cbs(cbs, 'nonexistent')\n",
    "run_cbs(cbs, 'after_fit')"
   ]
  },
  {
   "cell_type": "markdown",
   "id": "f78948e4-99ce-4898-989e-c33a9ef49bb4",
   "metadata": {},
   "source": [
    "As expected, it printed \"Completed 1 batches\". \n",
    "`run_cbs` went through each `cb` in the cbs list. (there's only one),\n",
    "used `getattr` to find an attribute with the corresponding name, (e.g., `before_fit`),\n",
    "and called it. Notice how it ignored `nonexistent`,"
   ]
  },
  {
   "cell_type": "markdown",
   "id": "0b82b9e6-aec0-4030-8e03-dcfadccc5f3f",
   "metadata": {},
   "source": [
    "<mark> NB: **Don't just run code willy-nilly but understand it by experimenting with it. Don't just use what is already created** </mark> <br>\n",
    "Lets do it all manually: create a callback `cb` set it to `cbs[0]`, just like later in the learner loop.\n",
    "Q: What happens if we call `getattr` and pass in the `cb` callback?"
   ]
  },
  {
   "cell_type": "code",
   "execution_count": 27,
   "id": "2162aecd-5987-4d24-845c-bebe6b64663a",
   "metadata": {},
   "outputs": [
    {
     "data": {
      "text/plain": [
       "<bound method CompletionCB.after_batch of <__main__.CompletionCB object at 0x12beaac10>>"
      ]
     },
     "execution_count": 27,
     "metadata": {},
     "output_type": "execute_result"
    }
   ],
   "source": [
    "cbs = [CompletionCB()]\n",
    "cb = cbs[0]\n",
    "\n",
    "getattr(cb, 'after_batch', None)"
   ]
  },
  {
   "cell_type": "markdown",
   "id": "04fdacbd-f774-412b-ae39-4cdaeb2b6687",
   "metadata": {},
   "source": [
    "A: `getattr` returned a method. \n",
    "What happens to that method it gets called? let's try calling it."
   ]
  },
  {
   "cell_type": "code",
   "execution_count": 28,
   "id": "d9656578-e594-4e7b-bb9a-92415aaa9f87",
   "metadata": {},
   "outputs": [],
   "source": [
    "getattr(cb, 'before_fit', None)(learn)"
   ]
  },
  {
   "cell_type": "markdown",
   "id": "2821aa50-3ea0-48d6-8bd4-703c9650f9a9",
   "metadata": {},
   "source": [
    "when we call the `before_fit` it doesn't do anything interesting.\n",
    "But if we call `after_batch` and then call `after_fit` it does."
   ]
  },
  {
   "cell_type": "code",
   "execution_count": 29,
   "id": "0ba5d6d9-32e8-46c1-abbc-afef6dc5af44",
   "metadata": {},
   "outputs": [
    {
     "name": "stdout",
     "output_type": "stream",
     "text": [
      "Completed 1 batches\n"
     ]
    }
   ],
   "source": [
    "getattr(cb, 'after_batch', None)(learn)\n",
    "\n",
    "getattr(cb, 'after_fit', None)(learn)"
   ]
  },
  {
   "cell_type": "markdown",
   "id": "0d3832e6-8c49-4cab-9cd6-fba1cb7aed92",
   "metadata": {
    "tags": []
   },
   "source": [
    "## Basic Callbacks Learner"
   ]
  },
  {
   "cell_type": "markdown",
   "id": "2e584bfd-2dbe-4c78-93ca-7b7511df1075",
   "metadata": {
    "jp-MarkdownHeadingCollapsed": true,
    "tags": []
   },
   "source": [
    "Our previous learner wasn't flexible but it had all the basic pieces: \n",
    "a fit method, etc. \n",
    "We are hard coding that:\n",
    "- we can only calculate accuracy and average loss\n",
    "- we're putting things on a default device\n",
    "- a single learning rate \n",
    "\n",
    "Now lets do an intermediate step: a basic callbacks learner, \n",
    "which has nearly all the functionality of the full learner.\n",
    "After this we're going to create some callbacks and metrics, \n",
    "and look at the flexible learner.\n",
    "\n",
    "The basic callbacks learner is similar to the previous learner:\n",
    "it's got a `fit()` function which is going to\n",
    "go through each epoch calling `one_epoch()` with training on and then training off.\n",
    "`one_epoch` will go through each batch and call `one_batch`, which\n",
    "will call the model, the loss function and if we're training it will do the backward step.\n",
    "<mark> And a few more things..</mark>\n",
    "For example, in `fit()`, after creating the optimizer, \n",
    "```Python\n",
    "self.opt = self.opt_func(self.model.parameters(), self.lr)\n",
    "```\n",
    "`self.opt_func` defaults to `SGD`, as `opt_func=optim.SGD`.\n",
    "We instantiate an SGD object passing in our model's parameters, and the requested learning rate (`lr`).\n",
    "Before we start looping through `one_epoch` at a time.\n",
    "```Python\n",
    "try:\n",
    "            self.callback('before_epoch')\n",
    "```           \n",
    "We first call `self.callback('before_epoch')` which takes a method name.\n",
    "It calls `run_cbs`, passes in `.cbs` (a list of our callbacks) and the method name.\n",
    "```Python\n",
    "def callback(self, method_nm): run_cbs(self.cbs, method_nm)\n",
    "```\n",
    "`run_cbs` sort the callbacks in their order attribute and invokes the methods."
   ]
  },
  {
   "cell_type": "code",
   "execution_count": 31,
   "id": "01de6ea0",
   "metadata": {},
   "outputs": [],
   "source": [
    "class Learner():\n",
    "    def __init__(self, model, dls, loss_func, lr, cbs, opt_func=optim.SGD): fc.store_attr()\n",
    "     \n",
    "    def one_batch(self):\n",
    "        self.preds = self.model(self.batch[0])\n",
    "        self.loss = self.loss_func(self.preds, self.batch[1])\n",
    "        if self.model.training:\n",
    "            self.loss.backward()\n",
    "            self.opt.step()\n",
    "            self.opt.zero_grad()\n",
    "\n",
    "    def one_epoch(self, train):\n",
    "        self.model.train(train)\n",
    "        self.dl = self.dls.train if train else self.dls.valid\n",
    "        try:\n",
    "            self.callback('before_epoch')\n",
    "            for self.iter,self.batch in enumerate(self.dl):\n",
    "                try:\n",
    "                    self.callback('before_batch')\n",
    "                    self.one_batch()\n",
    "                    self.callback('after_batch')\n",
    "                except CancelBatchException: pass\n",
    "            self.callback('after_epoch')\n",
    "        except CancelEpochException: pass\n",
    "    \n",
    "    def fit(self, n_epochs):\n",
    "        self.n_epochs = n_epochs\n",
    "        self.epochs = range(n_epochs)\n",
    "        self.opt = self.opt_func(self.model.parameters(), self.lr)\n",
    "        try:\n",
    "            self.callback('before_fit')\n",
    "            for self.epoch in self.epochs:\n",
    "                self.one_epoch(True)\n",
    "                self.one_epoch(False)\n",
    "            self.callback('after_fit')\n",
    "        except CancelFitException: pass\n",
    "\n",
    "    def callback(self, method_nm): run_cbs(self.cbs, method_nm, self)"
   ]
  },
  {
   "cell_type": "markdown",
   "id": "8ce43731-e1da-4773-a466-6e0ef81da39c",
   "metadata": {
    "tags": []
   },
   "source": [
    "### Experimenting with exceptions\n",
    "The `get_model()` function below creates a `nn.Sequential` model.\n",
    "We instantiate the `model` and the `learn` and call `fit()`. \n",
    "Since the only callback we added was `completionCB`, it just reports the number of batches as expected."
   ]
  },
  {
   "cell_type": "code",
   "execution_count": 32,
   "id": "e1304c01-499c-4415-853f-931803ba1419",
   "metadata": {},
   "outputs": [
    {
     "name": "stdout",
     "output_type": "stream",
     "text": [
      "Completed 69 batches\n"
     ]
    }
   ],
   "source": [
    "m,nh = 28*28,50\n",
    "def get_model(): return nn.Sequential(nn.Linear(m,nh), nn.ReLU(), nn.Linear(nh,10))\n",
    "\n",
    "model = get_model()\n",
    "learn = Learner(model, dls, F.cross_entropy, lr=0.2, cbs=[CompletionCB()])\n",
    "learn.fit(1)"
   ]
  },
  {
   "cell_type": "markdown",
   "id": "021d7dd5-9094-47cf-84fc-9ff4a83856d1",
   "metadata": {},
   "source": [
    "We now have a trained model, who didn't print any metrics because it does not have any callbacks for that."
   ]
  },
  {
   "cell_type": "markdown",
   "id": "dcb787dc-67fe-4426-aabb-67cea77d7f45",
   "metadata": {},
   "source": [
    "`SingleBatchCB(SimpleCB)` after a single batch raises a `cancelEpochException`.\n",
    "This could be useful if we want to just run one batch to make sure a model works.\n",
    "\n",
    "(It'll run the final fit?.)"
   ]
  },
  {
   "cell_type": "code",
   "execution_count": 33,
   "id": "e5c14d8e",
   "metadata": {},
   "outputs": [],
   "source": [
    "class SingleBatchCB(Callback):\n",
    "    def after_batch(self, learn): raise CancelEpochException()"
   ]
  },
  {
   "cell_type": "markdown",
   "id": "e4a8f0ec-45a1-4550-b014-fd0ceea53041",
   "metadata": {},
   "source": [
    "We add to `cbs`, the `SingleBatchCB`, and call `fit` to try it."
   ]
  },
  {
   "cell_type": "code",
   "execution_count": 34,
   "id": "a7eeb329-d054-4f8d-8ef8-c246eba95548",
   "metadata": {},
   "outputs": [
    {
     "name": "stdout",
     "output_type": "stream",
     "text": [
      "Completed 0 batches\n"
     ]
    }
   ],
   "source": [
    "learn = Learner(get_model(), dls, F.cross_entropy, lr=0.2, cbs=[SingleBatchCB(), CompletionCB()])\n",
    "learn.fit(1)"
   ]
  },
  {
   "cell_type": "markdown",
   "id": "d6026ed1-ba75-471b-83d7-b2010b9864e5",
   "metadata": {},
   "source": [
    "It ran, but nothing happened because it canceled before `CompletionCB()` could run.\n",
    "We can make `SingleBatchCB` run second by setting its `order` higher, \n",
    "e.g., 1 (default order is 0), and `cbs_run` sorts by `order` attribute."
   ]
  },
  {
   "cell_type": "code",
   "execution_count": 37,
   "id": "e944d855-86d7-4e88-a381-8291bd2d7faa",
   "metadata": {},
   "outputs": [],
   "source": [
    "class SingleBatchCB(Callback):\n",
    "    order = 1\n",
    "    def after_batch(self, learn): raise CancelEpochException()"
   ]
  },
  {
   "cell_type": "code",
   "execution_count": 38,
   "id": "29310ca2",
   "metadata": {},
   "outputs": [
    {
     "name": "stdout",
     "output_type": "stream",
     "text": [
      "Completed 2 batches\n"
     ]
    }
   ],
   "source": [
    "learn = Learner(get_model(), dls, F.cross_entropy, lr=0.2, cbs=[SingleBatchCB(), CompletionCB()])\n",
    "learn.fit(1)"
   ]
  },
  {
   "cell_type": "markdown",
   "id": "39e810c3-6e98-42a1-aa02-311429131422",
   "metadata": {},
   "source": [
    "**Callbacks** are not \"magic\", it's just a name we use to refer to callables.\n",
    "We pass into something that will then call back to that callable at particular times.\n",
    "There are interesting kinds of callbacks that have multiple methods in them."
   ]
  },
  {
   "cell_type": "markdown",
   "id": "f2cf89b9-4fe2-425a-a740-9e11cf460421",
   "metadata": {
    "tags": []
   },
   "source": [
    "## Metrics"
   ]
  },
  {
   "cell_type": "markdown",
   "id": "92e6d7bc-6e9f-42da-9474-7658eeb2df65",
   "metadata": {
    "tags": []
   },
   "source": [
    "Lets define a class `Metric` that can keep track of a metric, e.g., to tell us the accuracy and the loss.\n",
    "We're going to keep track of all of the actual values that we're averaging and the number in each minibatch.\n",
    "When we `add` a minibatch we call calculate (`calc`).\n",
    "A subclass will override the parent classes `calc` so it does the calculation there.\n",
    "And then we append the result (`last`) to our list of values, `self.vals.append(self.last)`\n",
    "and append to `ns` (list of batch sizes) the current batch size, `self.ns.append(n)`."
   ]
  },
  {
   "cell_type": "code",
   "execution_count": 27,
   "id": "f810c642",
   "metadata": {},
   "outputs": [],
   "source": [
    "class Metric:\n",
    "    def __init__(self): self.reset()\n",
    "    def reset(self): self.vals,self.ns = [],[]\n",
    "    def add(self, inp, targ=None, n=1):\n",
    "        self.last = self.calc(inp, targ)\n",
    "        self.vals.append(self.last)\n",
    "        self.ns.append(n)\n",
    "    @property\n",
    "    def value(self):\n",
    "        ns = tensor(self.ns)\n",
    "        return (tensor(self.vals)*ns).sum()/ns.sum()\n",
    "    def calc(self, inps, targs): return inps"
   ]
  },
  {
   "cell_type": "markdown",
   "id": "3aa9f4ad-34ac-4db0-a4c1-8ee0fe5018ce",
   "metadata": {
    "tags": []
   },
   "source": [
    "### Accuracy metric\n",
    "Lets define, for example, an `Accuracy(Metric)` by defining the calculation:\n",
    "the `mean` of how often the input `inps` equals the targets `targs`."
   ]
  },
  {
   "cell_type": "code",
   "execution_count": 28,
   "id": "092dd298",
   "metadata": {},
   "outputs": [],
   "source": [
    "class Accuracy(Metric):\n",
    "    def calc(self, inps, targs): return (inps==targs).float().mean()"
   ]
  },
  {
   "cell_type": "markdown",
   "id": "7e825a72-c207-4d6b-a7a4-c42003a62c1c",
   "metadata": {},
   "source": [
    "We create `acc` an `Accuracy` metric object, `add` a few batches of inputs and targets,\n",
    "and get the `acc.value`, i.e., the accuracy."
   ]
  },
  {
   "cell_type": "code",
   "execution_count": 29,
   "id": "87752b24",
   "metadata": {},
   "outputs": [
    {
     "data": {
      "text/plain": [
       "tensor(0.63)"
      ]
     },
     "execution_count": 29,
     "metadata": {},
     "output_type": "execute_result"
    }
   ],
   "source": [
    "acc = Accuracy()\n",
    "acc.add(tensor([0, 1, 2, 0, 1, 2]), tensor([0, 1, 1, 2, 1, 0]))\n",
    "acc.add(tensor([1, 1, 2, 0, 1]), tensor([0, 1, 1, 2, 1]))\n",
    "acc.add(tensor([1, 1, 2, 0, 1]), tensor([1, 1, 2, 0, 1]))\n",
    "acc.value"
   ]
  },
  {
   "cell_type": "markdown",
   "id": "f283004d-97a1-459b-a0ee-eeeecc730462",
   "metadata": {},
   "source": [
    "Notice that for `acc.value`, because it's a `@property` we didn't have to put parentheses after it to get the calculation to happen."
   ]
  },
  {
   "cell_type": "markdown",
   "id": "1a27e805-8867-47c7-9d29-cb3c01c7f4da",
   "metadata": {},
   "source": [
    "Another way: create a metric which simply gets the weighted average, \n",
    "for example of your loss.\n",
    "`add` 0.6 is the loss with a batch size of 32; \n",
    "`add` 0.9 is a loss and a batch size of 2;\n",
    "That gives us a weighted average loss of 0.62 which is\n",
    "equal to the (manual) weighted average calculation."
   ]
  },
  {
   "cell_type": "code",
   "execution_count": 30,
   "id": "4cdf18e8",
   "metadata": {},
   "outputs": [
    {
     "data": {
      "text/plain": [
       "(tensor(0.62), 0.62)"
      ]
     },
     "execution_count": 30,
     "metadata": {},
     "output_type": "execute_result"
    }
   ],
   "source": [
    "loss = Metric()\n",
    "loss.add(0.6, n=32)\n",
    "loss.add(0.9, n=2)\n",
    "loss.value, round((0.6*32+0.9*2)/(32+2), 2)"
   ]
  },
  {
   "cell_type": "markdown",
   "id": "1ca935dc",
   "metadata": {
    "tags": []
   },
   "source": [
    "## Some callbacks to print out, etc"
   ]
  },
  {
   "cell_type": "markdown",
   "id": "762a6adf-d0c8-45eb-9d21-a11833611111",
   "metadata": {},
   "source": [
    "We now need some way to use this metric in a callback to actually print out.\n",
    "First lets create a `deviceCB(Callback)`, to use a GPU, without the complications we had before,\n",
    "i.e., to allow multiple processes in the dataloader and also use the GPU device. \n",
    "\n",
    "`before_fit()` put the model onto the default device,\n",
    "and `before_batch()` is run put that batch onto the device.\n",
    "NB: In the learner everything is put inside self which means it's all modifiable."
   ]
  },
  {
   "cell_type": "markdown",
   "id": "559c0986",
   "metadata": {
    "tags": []
   },
   "source": [
    "We check that the `deviceCB` callback works by using the old learner, replacing `SingleBatchCB()` by  `deviceCB()`."
   ]
  },
  {
   "cell_type": "raw",
   "id": "210e1b23-de47-4136-98e1-c402bbe2c0e0",
   "metadata": {},
   "source": [
    "learn = Learner(get_model(), dls, F.cross_entropy, lr=0.2, cbs=[DeviceCB(), CompletionCB()])\n",
    "learn.fit(1)"
   ]
  },
  {
   "cell_type": "markdown",
   "id": "e16df8dd",
   "metadata": {},
   "source": [
    "### Torcheval\n",
    "We don't have to write every single metric because they\n",
    "already exist in [torcheval](https://pytorch.org/torcheval/stable/), \n",
    "a Pytorch project that we can pip install (not on conda?).\n",
    "```shell\n",
    "pip install torcheval\n",
    "```\n",
    "`torcheval` has a similar approach to ours, with `.update` and `.compute`. \n",
    "They provide a list of metrics to pick from.\n",
    "As we've already built our own we can now use theirs."
   ]
  },
  {
   "cell_type": "markdown",
   "id": "faab580b-6cdf-4a38-b1de-7c6b4d170b29",
   "metadata": {},
   "source": [
    "[MulticlassAccuracy](https://pytorch.org/torcheval/stable/generated/torcheval.metrics.MulticlassAccuracy.html#torcheval.metrics.MulticlassAccuracy)"
   ]
  },
  {
   "cell_type": "markdown",
   "id": "c2be49ec-819c-4b46-9cb8-3447975224ac",
   "metadata": {
    "tags": []
   },
   "source": [
    "We import the `MulticlassAccuracy` and the `Mean` metrics.<br>\n",
    "**NB: The following import fails first time, succeeds 2nd time.\n",
    "so we capture the Error and import again.**\n",
    "<div style=\"background-color: #FFB6C1\">\n",
    "\n",
    "File ~/mambaforge/lib/python3.9/site-packages/torcheval/__init__.py:9\n",
    "\n",
    "-> 152     aten.mm.default: _matmul_flop_jit,\n",
    "\n",
    "AttributeError: 'builtin_function_or_method' object has no attribute 'default'\n",
    "</div>"
   ]
  },
  {
   "cell_type": "code",
   "execution_count": 32,
   "id": "e67c006c",
   "metadata": {},
   "outputs": [],
   "source": [
    "#|export\n",
    "try: from torcheval.metrics import MulticlassAccuracy\n",
    "except ImportError:     pass\n",
    "from torcheval.metrics import MulticlassAccuracy, Mean"
   ]
  },
  {
   "cell_type": "markdown",
   "id": "6a2d76d5-5180-42e0-9f36-4c7a7409fd2c",
   "metadata": {},
   "source": [
    "We create a `MulticlassAccuracy` metric and we pass in a minibatch of\n",
    "inputs and targets and then `update` and `compute`."
   ]
  },
  {
   "cell_type": "code",
   "execution_count": 33,
   "id": "ee473e22",
   "metadata": {},
   "outputs": [
    {
     "data": {
      "text/plain": [
       "tensor(0.50)"
      ]
     },
     "execution_count": 33,
     "metadata": {},
     "output_type": "execute_result"
    }
   ],
   "source": [
    "metric = MulticlassAccuracy()\n",
    "metric.update(tensor([0, 2, 1, 3]), tensor([0, 1, 2, 3]))\n",
    "metric.compute()"
   ]
  },
  {
   "cell_type": "markdown",
   "id": "21c16902-a1ca-450b-ae86-134e5ea53d9f",
   "metadata": {},
   "source": [
    "We call `reset` at the start of each epoch.\n",
    "After `reset`, `compute` returns `nan` because accuracy is meaningless when we don't have any data yet."
   ]
  },
  {
   "cell_type": "code",
   "execution_count": 34,
   "id": "0c531ca0",
   "metadata": {},
   "outputs": [
    {
     "data": {
      "text/plain": [
       "tensor(nan)"
      ]
     },
     "execution_count": 34,
     "metadata": {},
     "output_type": "execute_result"
    }
   ],
   "source": [
    "metric.reset()\n",
    "metric.compute()"
   ]
  },
  {
   "cell_type": "markdown",
   "id": "0e47f99a-fa86-4cdb-9c2a-3dde8172b654",
   "metadata": {},
   "source": [
    "NB: Some`torcheval` metrics didn't work correctly when tensors were on the GPU and had `requires_grad`.\n",
    "Created a `to_cpu` function that calls `detach()` to remove \n",
    "all the computation history used to calculate a gradient, and also puts the tensor on the CPU.\n",
    "It'll do the same for dictionaries, lists and tuples of tensors."
   ]
  },
  {
   "cell_type": "code",
   "execution_count": 35,
   "id": "6f8692bd",
   "metadata": {},
   "outputs": [],
   "source": [
    "#|export\n",
    "def to_cpu(x):\n",
    "    if isinstance(x, Mapping): return {k:to_cpu(v) for k,v in x.items()}\n",
    "    if isinstance(x, list): return [to_cpu(o) for o in x]\n",
    "    if isinstance(x, tuple): return tuple(to_cpu(list(x)))\n",
    "    return x.detach().cpu()"
   ]
  },
  {
   "cell_type": "markdown",
   "id": "71567f98-2a53-4620-8e34-ea0fa479c37c",
   "metadata": {
    "tags": []
   },
   "source": [
    "### `MetricsCB(Callback)`"
   ]
  },
  {
   "cell_type": "markdown",
   "id": "5bdf4bcb-4145-4da2-9574-1077e06ea566",
   "metadata": {
    "jp-MarkdownHeadingCollapsed": true,
    "tags": []
   },
   "source": [
    "For the `MetricsCB(Callback)` we're going to be passing in the names and\n",
    "objects of the metrics to track and print.\n",
    "```Python\n",
    "    def __init__(self, *ms, **metrics):\n",
    "        for o in ms: metrics[type(o).__name__] = o\n",
    "        self.metrics = metrics\n",
    "        self.all_metrics = copy(metrics)\n",
    "        self.all_metrics['loss'] = self.loss = Mean()\n",
    "```\n",
    "As a shortcut, if we didn't want to write `accuracy=` we could just\n",
    "remove that and run it, and then it will give it a name and\n",
    "it'll use the same name as the class.\n",
    "`for o in ms: metrics[type(o).__name__] = o`\n",
    "We can either pass in `*ms`, will be a tuple,\n",
    "it's going to be pulled out, so it's just passing a list of positional\n",
    "arguments which will be turned into a tuple.\n",
    "Or we can pass in named arguments, will be turned into a dictionary.\n",
    "If we pass in positional arguments, then we turn them into named arguments in the dictionary \n",
    "by grabbing the name from their type.\n",
    "We'll store that in: `self.metrics = metrics`\n",
    "And adding manually an additional metric the `loss` as the weighted average of the losses.\n",
    "`self.all_metrics['loss'] = self.loss = Mean()`\n",
    "\n",
    "Before fit we tell the learner that we (`self`) are the metrics callback.\n",
    "`self.learn.metrics = self`.\n",
    "Before each epoch we reset all of our metrics:\n",
    "```Python\n",
    "def before_epoch(self): [o.reset() for o in self.all_metrics.values()]\n",
    "```\n",
    "After each epoch we create a dictionary of the keys `k` and values `v` which \n",
    "we want to print out, and call `_log` which (for now) just prints them. \n",
    "```Python\n",
    "    def after_epoch(self, learn):\n",
    "        log = {k:f'{v.compute():.3f}' for k,v in self.all_metrics.items()}\n",
    "        log['epoch'] = learn.epoch\n",
    "        log['train'] = 'train' if learn.model.training else 'eval'\n",
    "        self._log(log)\n",
    "```\n",
    "After each batch take the input and target to put them on the CPU.\n",
    "Then go through each of our `m` metrics and call `m.update`.  \n",
    "The `update` in the metric says *here's a batch of data*, \n",
    "(predictions and targets). \n",
    "Then `loss.update` for the special loss metric, passing in the actual loss and the minibatch size.\n",
    "```Python\n",
    "def after_batch(self, learn):\n",
    "        x,y,*_ = to_cpu(learn.batch)\n",
    "        for m in self.metrics.values(): m.update(to_cpu(learn.preds), y)\n",
    "        self.loss.update(to_cpu(learn.loss), weight=len(x))\n",
    "```"
   ]
  },
  {
   "cell_type": "code",
   "execution_count": 36,
   "id": "c9423a05-c196-4997-ac03-2734a3ae0058",
   "metadata": {},
   "outputs": [],
   "source": [
    "#|export\n",
    "class MetricsCB(Callback):\n",
    "    def __init__(self, *ms, **metrics):\n",
    "        for o in ms: metrics[type(o).__name__] = o\n",
    "        self.metrics = metrics\n",
    "        self.all_metrics = copy(metrics)\n",
    "        self.all_metrics['loss'] = self.loss = Mean()\n",
    "\n",
    "    def _log(self, d): print(d)\n",
    "    def before_fit(self, learn): learn.metrics = self\n",
    "    def before_epoch(self, learn): [o.reset() for o in self.all_metrics.values()]\n",
    "\n",
    "    def after_epoch(self, learn):\n",
    "        log = {k:f'{v.compute():.3f}' for k,v in self.all_metrics.items()}\n",
    "        log['epoch'] = learn.epoch\n",
    "        log['train'] = 'train' if learn.model.training else 'eval'\n",
    "        self._log(log)\n",
    "\n",
    "    def after_batch(self, learn):\n",
    "        x,y,*_ = to_cpu(learn.batch)\n",
    "        for m in self.metrics.values(): m.update(to_cpu(learn.preds), y)\n",
    "        self.loss.update(to_cpu(learn.loss), weight=len(x))"
   ]
  },
  {
   "cell_type": "markdown",
   "id": "5bc25f5f-c85b-455f-aa64-3d26cd6e8b22",
   "metadata": {},
   "source": [
    "Below we create `metrics`, a `MetricsCB` object that's going to calculate and print out `accuracy`.\n",
    "We pass `metrics` as a `cbs` to the `Learner`.\n",
    "During `learn.fit()`, it's going to print the `accuracy`, `loss`, `epoch` number, and whether it's training or evaluating."
   ]
  },
  {
   "cell_type": "code",
   "execution_count": 37,
   "id": "2d0eabc4-5764-49a5-96b9-2705ddc19fcd",
   "metadata": {},
   "outputs": [],
   "source": [
    "#|export\n",
    "class DeviceCB(Callback):\n",
    "    def __init__(self, device=def_device): fc.store_attr()\n",
    "    def before_fit(self, learn): learn.model.to(self.device)\n",
    "    def before_batch(self, learn): learn.batch = to_device(learn.batch, device=self.device)"
   ]
  },
  {
   "cell_type": "code",
   "execution_count": 38,
   "id": "f5ce9364",
   "metadata": {},
   "outputs": [
    {
     "name": "stdout",
     "output_type": "stream",
     "text": [
      "{'accuracy': '0.616', 'loss': '1.159', 'epoch': 0, 'train': 'train'}\n",
      "{'accuracy': '0.707', 'loss': '0.784', 'epoch': 0, 'train': 'eval'}\n"
     ]
    }
   ],
   "source": [
    "model = get_model()\n",
    "metrics = MetricsCB(accuracy=MulticlassAccuracy())\n",
    "learn = Learner(model, dls, F.cross_entropy, lr=0.2, cbs=[DeviceCB(), metrics])\n",
    "learn.fit(1)"
   ]
  },
  {
   "cell_type": "markdown",
   "id": "a47fe46b-97e6-4b5f-bccd-c153e2f26209",
   "metadata": {
    "tags": []
   },
   "source": [
    "## Flexible learner"
   ]
  },
  {
   "cell_type": "markdown",
   "id": "c99ec896-115a-43af-99ab-fc4df8baf890",
   "metadata": {
    "tags": []
   },
   "source": [
    "Using a **context manager** we can make the Learner more sophisticated,\n",
    "and still fit in a single screen.\n",
    "<sub><sup>(*JH was going to do it with a decorator but realized a context manager is better.*) </sub></sup>\n",
    "<br>\n",
    "We're call our `before_` and `after_` callbacks in a `try except` block,\n",
    "and use a `with` statement for the callbacks in the block.\n",
    "One way is using the `@contextmanager` decorator:\n",
    "Everything up to the `yield` statement is called before our code,\n",
    "at `yield` it calls our code, and everything after the `yield` is called after our code."
   ]
  },
  {
   "cell_type": "markdown",
   "id": "77e34738-8030-4905-99c0-c8b7266829dc",
   "metadata": {},
   "source": [
    "***TODO: Update this commentary for changes**\n",
    "\n",
    "```Python\n",
    "@contextmanager\n",
    "    def callback_ctx(self, nm):\n",
    "        try:\n",
    "            self.callback(f'before_{nm}')\n",
    "            yield\n",
    "        except globals()[f'Cancel{nm.title()}Exception']: pass\n",
    "        finally: self.callback(f'after_{nm}')\n",
    "```\n",
    "Here it's going to `try self.callback(f'before_{nm}')` where `{nm}` is fit. \n",
    "Where the `yield` is it calls \"our code\" (for self.epoch, Etc.)\n",
    "And `finally:` it will call `self.callback` after the `except`. \n",
    "\n",
    "We need to grab the `CancelFitException`.\n",
    "All global variables in Python \"live\" inside a special dictionary with the namespace returned by `globals()` \n",
    "We look up in that dictionary the variable called `CancelFitException`.\n",
    "Now we only have to write this block once (rather than at least three times).\n",
    "\n",
    "We create our Optimizer and then with our callback context manager for `fit`.\n",
    "We go through each epoch call `one_epoch()` set it to training or non-training mode\n",
    "based on the `train` argument we pass in. \n",
    "\n",
    "```Python\n",
    "   def one_epoch(self, train):\n",
    "        self.model.train(train)\n",
    "        self.dl = self.dls.train if train else self.dls.valid\n",
    "        with self.cb_ctx('epoch'):\n",
    "            for self.iter,self.batch in enumerate(self.dl):\n",
    "                with self.cb_ctx('batch'):\n",
    "                    self.predict()\n",
    "                    self.get_loss()\n",
    "                    if self.model.training:\n",
    "                        self.backward()\n",
    "                        self.step()\n",
    "                        self.zero_grad()\n",
    "```\n",
    "In `one_epoch()` we grab the training or validation set based on the argument,\n",
    "and then use the context manager for `epoch`, `cb_ctx('epoch')`.\n",
    "Loop through each `batch` in the `dl` dataloader. \n",
    "Then for each batch in `dl` using the `batch` context..\n",
    "**interesting**\n",
    "we call `self.predict(), self.get_loss()` and, if we're training, `self.backward(), self.step()`, and `self.zero_grad()`.\n",
    "\n",
    "Previously we called `self.model()`, `self.loss()`, etc.,\n",
    "but now we are calling instead `self.predict()`, `self.get_loss()`, etc.                 \n",
    "How is it working because they are not defined here at all?\n",
    "We do this for flexibility, as we can now create our own way of doing \n",
    "`predict`, `get_loss`, etc. for different situations.\n",
    "\n",
    "What happens if we call `self.predict()` and it doesn't exist?\n",
    "It doesn't necessarily cause an error.\n",
    "What happens is it calls a special Python magic method called `__getattr__` :\n",
    "```Python\n",
    "def __getattr__(self, name):\n",
    "    if name in ('predict','get_loss','backward','step','zero_grad'): \n",
    "        return partial(self.callback, name)\n",
    "    raise AttributeError(name)\n",
    "```\n",
    "If it's one of these special 5 things, it does **not** raise an `AttributeError(name)`, \n",
    "else it does.\n",
    "And instead call `partial(self.callback, name)`, which calls `self.callback predict`.\n",
    "To make this work as before, we need a callback (`TrainCB`) which does these five things (Below)."
   ]
  },
  {
   "cell_type": "code",
   "execution_count": 39,
   "id": "4a815dad-be0a-48f9-bc09-46225434424d",
   "metadata": {},
   "outputs": [],
   "source": [
    "#|export\n",
    "class Learner():\n",
    "    def __init__(self, model, dls, loss_func, lr=None, cbs=None, opt_func=optim.SGD):\n",
    "        cbs = fc.L(cbs)\n",
    "        fc.store_attr()\n",
    "    \n",
    "    @contextmanager\n",
    "    def cb_ctx(self, nm):\n",
    "        try:\n",
    "            self.callback(f'before_{nm}')\n",
    "            yield\n",
    "            self.callback(f'after_{nm}')\n",
    "        except globals()[f'Cancel{nm.title()}Exception']: pass\n",
    "        finally: self.callback(f'cleanup_{nm}')\n",
    "\n",
    "    def one_epoch(self, train):\n",
    "        self.model.train(train)\n",
    "        self.dl = self.dls.train if train else self.dls.valid\n",
    "        with self.cb_ctx('epoch'):\n",
    "            for self.iter,self.batch in enumerate(self.dl):\n",
    "                with self.cb_ctx('batch'):\n",
    "                    self.predict()\n",
    "                    self.get_loss()\n",
    "                    if self.training:\n",
    "                        self.backward()\n",
    "                        self.step()\n",
    "                        self.zero_grad()\n",
    "    \n",
    "    def fit(self, n_epochs, train=True, valid=True, cbs=None, lr=None):\n",
    "        cbs = fc.L(cbs)\n",
    "        # `add_cb` and `rm_cb` were added in lesson 18\n",
    "        for cb in cbs: self.cbs.append(cb)\n",
    "        try:\n",
    "            self.n_epochs = n_epochs\n",
    "            self.epochs = range(n_epochs)\n",
    "            self.opt = self.opt_func(self.model.parameters(), self.lr if lr is None else lr)\n",
    "            with self.cb_ctx('fit'):\n",
    "                for self.epoch in self.epochs:\n",
    "                    if train: self.one_epoch(True)\n",
    "                    if valid: torch.no_grad()(self.one_epoch)(False)\n",
    "        finally:\n",
    "            for cb in cbs: self.cbs.remove(cb)\n",
    "\n",
    "    def __getattr__(self, name):\n",
    "        if name in ('predict','get_loss','backward','step','zero_grad'): return partial(self.callback, name)\n",
    "        raise AttributeError(name)\n",
    "\n",
    "    def callback(self, method_nm): run_cbs(self.cbs, method_nm, self)\n",
    "    \n",
    "    @property\n",
    "    def training(self): return self.model.training"
   ]
  },
  {
   "cell_type": "markdown",
   "id": "1581cfdf-ebab-4e6a-8d52-727397530b5a",
   "metadata": {},
   "source": [
    "<span style='color:Blue'>\n",
    "NB: After the class, some changes:\n",
    "\n",
    "Added to the learner more parameters to fit. It used to take just `n_epochs` and `cbs`. \n",
    "Now also has a `lr` learning rate parameter, so we can provide it to the constructor.\n",
    "And we can override the learning rate `lr` for one `fit`.\n",
    "If we pass in the learning rate `lr` it will use it, else it will use the `lr` passed into the constructor.\n",
    "Also added 2 booleans `train` and `valid` to say do you want to do the training loop and the validation Loop.\n",
    "By default it'll do both. \n",
    "\n",
    "TODO: think why we didn't have to say `with torch.nograd` but instead call `torch.nograd()`\n",
    "Great if you understand why that works and what it does, it will help understanding of decorators.\n",
    "    \n",
    "NB: JH also added `self.n_inp` to `TrainCB` below after the lesson. This allows us to train models with more than one input or output.\n",
    "</span>"
   ]
  },
  {
   "cell_type": "code",
   "execution_count": 40,
   "id": "04e62c89-34bd-4e14-ba97-18cd09b84f2b",
   "metadata": {
    "tags": []
   },
   "outputs": [],
   "source": [
    "#|export\n",
    "class TrainCB(Callback):\n",
    "    def __init__(self, n_inp=1): self.n_inp = n_inp\n",
    "    def predict(self, learn): learn.preds = learn.model(*learn.batch[:self.n_inp])\n",
    "    def get_loss(self, learn): learn.loss = learn.loss_func(learn.preds, *learn.batch[self.n_inp:])\n",
    "    def backward(self, learn): learn.loss.backward()\n",
    "    def step(self, learn): learn.opt.step()\n",
    "    def zero_grad(self, learn): learn.opt.zero_grad()"
   ]
  },
  {
   "cell_type": "markdown",
   "id": "1f8619e5-6e6f-424c-ade6-17dfe3fe515f",
   "metadata": {},
   "source": [
    "In `TrainCB` they're almost the same as in our intermediate learner \n",
    "but now we need to have `learn` in front of each (preds, loss, etc.),\n",
    "because this is a callback, it's not the learner."
   ]
  },
  {
   "cell_type": "markdown",
   "id": "03ead92b-5d23-474d-a338-9988b70e4786",
   "metadata": {
    "tags": []
   },
   "source": [
    "## Progressbar"
   ]
  },
  {
   "cell_type": "markdown",
   "id": "cf45097d-b0fa-447f-9876-8171f6ade909",
   "metadata": {
    "tags": []
   },
   "source": [
    "Let's create a `ProgressCB(Callback)` show our current loss using [Fastprogress](https://github.com/fastai/fastprogress).\n",
    "<br>\n",
    "Before we `fit` we have to set `self.learn.epochs`, the thing that we loop through for `self.epoch`.\n",
    "We change it now so instead of a normal range it is a progress bar around a range.\n",
    "```Python\n",
    "self.learn.epochs = self.mbar = master_bar(self.learn.epochs)\n",
    "```\n",
    "If the learner has a `metrics` attribute,\n",
    "let's replace the `_log` method with ours which will write to the progress bar.\n",
    "```Python\n",
    "if hasattr(self.learn, 'metrics'): self.learn.metrics._log = self._log\n",
    "        self.losses = []\n",
    "def _log(self, d): self.mbar.write(str(d))\n",
    "```\n",
    "We can modify how our metrics are displayed, e.g.,\n",
    "replace this, e.g., with something that creates an HTML table, another thing FirstProgress does.\n",
    "The `MetricsCB` had a `_log` method, instead of just `print`, \n",
    "so we can replace how the metrics are displayed.\n",
    "So we could change that to send them over to weights and biases, etc. \n",
    "\n",
    "`Before_epoch` we do a similar thing: the `self.learn.dl` iterator we change to have a `progress_bar` wrapped around it.\n",
    "And then `after_batch` we set the progress bars `comment` to be the `loss`,\n",
    "so it will show the loss on the progress bar as it goes.\n",
    "`self.learn.dl.comment = f'{self.learn.loss:.3f}'`\n",
    "And if we've asked to plot `if self.plot` then we will append the losses to a list of losses \n",
    "and we `update_graph` with the losses and the batch numbers."
   ]
  },
  {
   "cell_type": "code",
   "execution_count": 41,
   "id": "afda2cf9-f6c7-45c9-9962-9ce1397b099a",
   "metadata": {},
   "outputs": [],
   "source": [
    "#|export\n",
    "class ProgressCB(Callback):\n",
    "    order = MetricsCB.order+1\n",
    "    def __init__(self, plot=False): self.plot = plot\n",
    "    def before_fit(self, learn):\n",
    "        learn.epochs = self.mbar = master_bar(learn.epochs)\n",
    "        self.first = True\n",
    "        if hasattr(learn, 'metrics'): learn.metrics._log = self._log\n",
    "        self.losses = []\n",
    "\n",
    "    def _log(self, d):\n",
    "        if self.first:\n",
    "            self.mbar.write(list(d), table=True)\n",
    "            self.first = False\n",
    "        self.mbar.write(list(d.values()), table=True)\n",
    "\n",
    "    def before_epoch(self, learn): learn.dl = progress_bar(learn.dl, leave=False, parent=self.mbar)\n",
    "    def after_batch(self, learn):\n",
    "        learn.dl.comment = f'{learn.loss:.3f}'\n",
    "        if self.plot and hasattr(learn, 'metrics') and learn.training:\n",
    "            self.losses.append(learn.loss.item())\n",
    "            self.mbar.update_graph([[fc.L.range(self.losses), self.losses]])"
   ]
  },
  {
   "cell_type": "markdown",
   "id": "e2e10393-2de9-4ea8-b225-b72670048332",
   "metadata": {},
   "source": [
    "Let's get the model and train and in real time see updates to the graph."
   ]
  },
  {
   "cell_type": "code",
   "execution_count": 42,
   "id": "f0da0730-6fe2-4455-86e4-7b4cd506a3e3",
   "metadata": {},
   "outputs": [],
   "source": [
    "model = get_model()\n",
    "\n",
    "metrics = MetricsCB(accuracy=MulticlassAccuracy())\n",
    "cbs = [TrainCB(), DeviceCB(), metrics, ProgressCB(plot=True)]\n",
    "learn = Learner(model, dls, F.cross_entropy, lr=0.2, cbs=cbs)"
   ]
  },
  {
   "cell_type": "code",
   "execution_count": 43,
   "id": "d0d7461c-245a-47b7-bf34-3d0f27cb1405",
   "metadata": {},
   "outputs": [
    {
     "data": {
      "text/html": [
       "\n",
       "<style>\n",
       "    /* Turns off some styling */\n",
       "    progress {\n",
       "        /* gets rid of default border in Firefox and Opera. */\n",
       "        border: none;\n",
       "        /* Needs to be in here for Safari polyfill so background images work as expected. */\n",
       "        background-size: auto;\n",
       "    }\n",
       "    progress:not([value]), progress:not([value])::-webkit-progress-bar {\n",
       "        background: repeating-linear-gradient(45deg, #7e7e7e, #7e7e7e 10px, #5c5c5c 10px, #5c5c5c 20px);\n",
       "    }\n",
       "    .progress-bar-interrupted, .progress-bar-interrupted::-webkit-progress-bar {\n",
       "        background: #F44336;\n",
       "    }\n",
       "</style>\n"
      ],
      "text/plain": [
       "<IPython.core.display.HTML object>"
      ]
     },
     "metadata": {},
     "output_type": "display_data"
    },
    {
     "data": {
      "text/html": [
       "<table border=\"1\" class=\"dataframe\">\n",
       "  <thead>\n",
       "    <tr style=\"text-align: left;\">\n",
       "      <th>accuracy</th>\n",
       "      <th>loss</th>\n",
       "      <th>epoch</th>\n",
       "      <th>train</th>\n",
       "    </tr>\n",
       "  </thead>\n",
       "  <tbody>\n",
       "    <tr>\n",
       "      <td>0.602</td>\n",
       "      <td>1.190</td>\n",
       "      <td>0</td>\n",
       "      <td>train</td>\n",
       "    </tr>\n",
       "    <tr>\n",
       "      <td>0.690</td>\n",
       "      <td>0.805</td>\n",
       "      <td>0</td>\n",
       "      <td>eval</td>\n",
       "    </tr>\n",
       "  </tbody>\n",
       "</table>"
      ],
      "text/plain": [
       "<IPython.core.display.HTML object>"
      ]
     },
     "metadata": {},
     "output_type": "display_data"
    },
    {
     "data": {
      "image/png": "[encoded data removed]",
      "text/plain": [
       "<Figure size 600x400 with 1 Axes>"
      ]
     },
     "metadata": {},
     "output_type": "display_data"
    }
   ],
   "source": [
    "learn.fit(1)"
   ]
  },
  {
   "cell_type": "markdown",
   "id": "bcccbd7e-c064-452e-a21e-7f01c3bd8007",
   "metadata": {},
   "source": [
    "We now have a nice working flexible learner, which we can understand its training Loop.\n",
    "We can use a framework which we control and can make it work how we want to.\n",
    "Ideally not by changing the learner itself, but by creating callbacks.\n",
    "We haven't added inference yet, but that shouldn't be too much to add.\n",
    "\n",
    "Python is so flexible that when we said `self.predict self.get self.lost`,\n",
    "if they don't exist then it's going to use `__getatrr__` \n",
    "and it's going to try to find those in the callbacks.\n",
    "We could have multiple callbacks that define these things and then chain them together."
   ]
  },
  {
   "cell_type": "markdown",
   "id": "cee1f3e4-9e9f-40ff-a8c7-87b9fa7243c1",
   "metadata": {
    "tags": []
   },
   "source": [
    "## TrainLearner and MomentumLearner"
   ]
  },
  {
   "cell_type": "code",
   "execution_count": 44,
   "id": "36b98a43-ae47-4cbb-ba4d-08343075061d",
   "metadata": {},
   "outputs": [],
   "source": [
    "#|export\n",
    "class TrainLearner(Learner):\n",
    "    def predict(self): self.preds = self.model(self.batch[0])\n",
    "    def get_loss(self): self.loss = self.loss_func(self.preds, self.batch[1])\n",
    "    def backward(self): self.loss.backward()\n",
    "    def step(self): self.opt.step()\n",
    "    def zero_grad(self): self.opt.zero_grad()"
   ]
  },
  {
   "cell_type": "markdown",
   "id": "bb20a71d-7685-4f1a-b806-455d32295dbc",
   "metadata": {},
   "source": [
    "The learner isn't doing anything that it wasn't doing before, but\n",
    "now if we want to use huggingface accelerate, \n",
    "or something that works on huggingface data Styles, dictionary things, etc.,\n",
    "we can change how it behaves, by creating a callback for training like `TrainCB`.\n",
    "And if we want everything except one thing to be the same, we can inherit from `TrainCB`."
   ]
  },
  {
   "cell_type": "code",
   "execution_count": 45,
   "id": "912fd798-7ce5-4f9c-b327-e1104433b392",
   "metadata": {},
   "outputs": [],
   "source": [
    "#|export\n",
    "class MomentumLearner(TrainLearner):\n",
    "    def __init__(self, model, dls, loss_func, lr=None, cbs=None, opt_func=optim.SGD, mom=0.85):\n",
    "        self.mom = mom\n",
    "        super().__init__(model, dls, loss_func, lr, cbs, opt_func)\n",
    "\n",
    "    def zero_grad(self):\n",
    "        with torch.no_grad():\n",
    "            for p in self.model.parameters(): p.grad *= self.mom"
   ]
  },
  {
   "cell_type": "code",
   "execution_count": 46,
   "id": "452eff1d",
   "metadata": {},
   "outputs": [
    {
     "data": {
      "text/html": [
       "\n",
       "<style>\n",
       "    /* Turns off some styling */\n",
       "    progress {\n",
       "        /* gets rid of default border in Firefox and Opera. */\n",
       "        border: none;\n",
       "        /* Needs to be in here for Safari polyfill so background images work as expected. */\n",
       "        background-size: auto;\n",
       "    }\n",
       "    progress:not([value]), progress:not([value])::-webkit-progress-bar {\n",
       "        background: repeating-linear-gradient(45deg, #7e7e7e, #7e7e7e 10px, #5c5c5c 10px, #5c5c5c 20px);\n",
       "    }\n",
       "    .progress-bar-interrupted, .progress-bar-interrupted::-webkit-progress-bar {\n",
       "        background: #F44336;\n",
       "    }\n",
       "</style>\n"
      ],
      "text/plain": [
       "<IPython.core.display.HTML object>"
      ]
     },
     "metadata": {},
     "output_type": "display_data"
    },
    {
     "data": {
      "text/html": [
       "<table border=\"1\" class=\"dataframe\">\n",
       "  <thead>\n",
       "    <tr style=\"text-align: left;\">\n",
       "      <th>accuracy</th>\n",
       "      <th>loss</th>\n",
       "      <th>epoch</th>\n",
       "      <th>train</th>\n",
       "    </tr>\n",
       "  </thead>\n",
       "  <tbody>\n",
       "    <tr>\n",
       "      <td>0.653</td>\n",
       "      <td>1.029</td>\n",
       "      <td>0</td>\n",
       "      <td>train</td>\n",
       "    </tr>\n",
       "    <tr>\n",
       "      <td>0.790</td>\n",
       "      <td>0.577</td>\n",
       "      <td>0</td>\n",
       "      <td>eval</td>\n",
       "    </tr>\n",
       "  </tbody>\n",
       "</table>"
      ],
      "text/plain": [
       "<IPython.core.display.HTML object>"
      ]
     },
     "metadata": {},
     "output_type": "display_data"
    },
    {
     "data": {
      "image/png": "[encoded data removed]",
      "text/plain": [
       "<Figure size 600x400 with 1 Axes>"
      ]
     },
     "metadata": {},
     "output_type": "display_data"
    }
   ],
   "source": [
    "# NB: No TrainCB\n",
    "metrics = MetricsCB(accuracy=MulticlassAccuracy())\n",
    "cbs = [DeviceCB(), metrics, ProgressCB(plot=True)]\n",
    "learn = MomentumLearner(get_model(), dls, F.cross_entropy, lr=0.2, cbs=cbs)\n",
    "learn.fit(1)"
   ]
  },
  {
   "cell_type": "markdown",
   "id": "2d13a814-c06e-4258-91fa-b141e9058c12",
   "metadata": {},
   "source": [
    "### TrainingLearner subclass"
   ]
  },
  {
   "cell_type": "markdown",
   "id": "68072775-c6a1-4457-9ecd-adf1e5f3bea3",
   "metadata": {},
   "source": [
    "There's another way we could make these exist: we could subclass `Learner`.\n",
    "Let's not use `trainCB` just to show us how a subclass would work.\n",
    "We subclass `Learner` and define the 5 methods directly in the subclass.\n",
    "This way it's never going to end up going to `__getattr__` \n",
    "(which is only called if something doesn't exist).\n",
    "All these five are exactly the same as in `TrainCB`, but we don't need self.learn anymore, because we are in the learner, so self. suffices.\n",
    "\n",
    "We copy and paste all those, add mom=0.85, and call Super().\n",
    "*make sure to call the super classes passing in all the stuff*.\n",
    "We could use delegates for this.\n",
    "\n",
    "Normally for momentum we have to store a complete copy of all the gradients, \n",
    "to keep track of a running exponentially waited moving average.\n",
    "But using this \"trick\" we're using the `.grad` themselves to store the\n",
    "exponentially weighted moving average, obtining an accelerated optimizers and memory savings."
   ]
  },
  {
   "cell_type": "raw",
   "id": "bbd7edd2-7f50-4c19-80b1-fa3e873d6a74",
   "metadata": {},
   "source": [
    "#|export\n",
    "class MomentumLearner(Learner):\n",
    "    def __init__(self, model, dls, loss_func, lr, cbs, opt_func=optim.SGD, mom=0.85):\n",
    "        self.mom = mom\n",
    "        super().__init__(model, dls, loss_func, lr, cbs, opt_func)\n",
    "\n",
    "    def predict(self): self.preds = self.model(self.batch[0])\n",
    "    def get_loss(self): self.loss = self.loss_func(self.preds, self.batch[1])\n",
    "    def backward(self): self.loss.backward()\n",
    "    def step(self): self.opt.step()\n",
    "    def zero_grad(self):\n",
    "        with torch.no_grad():\n",
    "            for p in self.model.parameters(): p.grad *= self.mom"
   ]
  },
  {
   "cell_type": "markdown",
   "id": "68ae28f4-4324-436f-b615-293e96965d74",
   "metadata": {},
   "source": [
    "Also changed `zero_grad` \n",
    "*to do something a bit crazy not sure if this has been done before*.\n",
    "`zero_grad` we call after we take the optimizer step.\n",
    "Pytorch always adds the gradients to the existing gradients and that's why we normally have to call zero_grad.\n",
    "But, we doesn't actually have to zero the gradients.\n",
    "Instead we can multiply the gradients by some constant number, e.g.,  0.85.\n",
    "Our previous gradients would still be there, but they would be reduced a bit.\n",
    "Lets try it:"
   ]
  },
  {
   "cell_type": "markdown",
   "id": "786b1a3a-6168-4952-9ee1-a012abd1a814",
   "metadata": {},
   "source": [
    "Still trains but there's no trainCB callback anymore in the list.\n",
    "We don't need one because it finds the 5 methods in the subclass now.\n",
    "This is training at the same learning rate for the same time, and the accuracy improves.\n",
    "*This is a lot like gradient accumulation callback*\n",
    "Loss improved from 0.8 to 0.55 and the accuracy from 0.7 to 0.8.\n",
    "We have just implemented momentum, which can make us reach the destination faster."
   ]
  },
  {
   "cell_type": "markdown",
   "id": "2c61a9bb-6f91-4ae5-ae58-3dc0b69a1412",
   "metadata": {},
   "source": [
    "## LRFinderCB"
   ]
  },
  {
   "cell_type": "markdown",
   "id": "abab867b-60f3-47c7-af9d-4716fa09eeb2",
   "metadata": {},
   "source": [
    "Another callback is the learning rate finder.\n",
    "We increase the LR gradually over time, plot the loss against the LR\n",
    "and find how high can the LR be before the loss starts getting worse.\n",
    "We want it roughly where the steepest slope is, below about 0.1.\n",
    "\n",
    "An LRfinder needs to know how much to multiply the LR by each batch, \n",
    "e.g., 30%, `lr_mult=1.3`.\n",
    "Before we fit we need to keep track of what we put on a plot: LRs and losses. \n",
    "We have to decide when do we stop training, when it has clearly gone off the rails.\n",
    "JH decided that if the loss is 3 times higher than the minimum loss we've seen then we stop.\n",
    "We keep track of the minimum loss (`self.min`), initially set to Infinity (`math.inf`).\n",
    "\n",
    "If we're not training then we don't want to do anything,\n",
    "(we don't use the LRfinder during validation), so we raise `CancelEpochException()`,\n",
    "which stops it from doing that epoch entirely.\n",
    "`one_epoch` does with the Callback context manager Epoch, \n",
    "and that will say \"got canceled\" so it goes straight to the\n",
    "`except` which goes to the end of that code and it's going to skip it.\n",
    "\n",
    "Pytorch stores the LRs inside the optimizer in `param_groups`. \n",
    "We can grab the LR from that dictionary.\n",
    "We've got to keep track of the loss, so append it to our list of losses,\n",
    "and if it's less than the minimum we've seen then record it as the minimum.\n",
    "If it's greater than 3 times the minimum, then raise the `cancelFitexception` to stop everything.\n",
    "Finally we've got to update our learning rate to 1.3 times the previous one.\n",
    "In Pytorch we have to go through each `param_group`, grab the LR in the dictionary and multiply it."
   ]
  },
  {
   "cell_type": "code",
   "execution_count": 47,
   "id": "ca5b9f65",
   "metadata": {},
   "outputs": [],
   "source": [
    "class LRFinderCB(Callback):\n",
    "    def __init__(self, lr_mult=1.3): fc.store_attr()\n",
    "    \n",
    "    def before_fit(self, learn):\n",
    "        self.lrs,self.losses = [],[]\n",
    "        self.min = math.inf\n",
    "\n",
    "    def after_batch(self, learn):\n",
    "        if not learn.training: raise CancelEpochException()\n",
    "        self.lrs.append(learn.opt.param_groups[0]['lr'])\n",
    "        loss = to_cpu(learn.loss)\n",
    "        self.losses.append(loss)\n",
    "        if loss < self.min: self.min = loss\n",
    "        if loss > self.min*3: raise CancelFitException()\n",
    "        for g in learn.opt.param_groups: g['lr'] *= self.lr_mult"
   ]
  },
  {
   "cell_type": "markdown",
   "id": "40fc3cf0-3f35-4e46-ae7c-2a164c9cde72",
   "metadata": {},
   "source": [
    "The `LRFinder` callback needs to be instantiated first, to be able to grab its learning rates \n",
    "and its losses."
   ]
  },
  {
   "cell_type": "code",
   "execution_count": 48,
   "id": "09da2d55",
   "metadata": {},
   "outputs": [
    {
     "data": {
      "image/png": "[encoded data removed]",
      "text/plain": [
       "<Figure size 640x480 with 1 Axes>"
      ]
     },
     "metadata": {},
     "output_type": "display_data"
    }
   ],
   "source": [
    "lrfind = LRFinderCB()\n",
    "cbs = [DeviceCB(), lrfind]\n",
    "learn = MomentumLearner(get_model(), dls, F.cross_entropy, lr=1e-4, cbs=cbs)\n",
    "learn.fit(1)\n",
    "plt.plot(lrfind.lrs, lrfind.losses)\n",
    "plt.xscale('log')"
   ]
  },
  {
   "cell_type": "markdown",
   "id": "679e04d9-a65b-43a1-9037-57ffa1755cd4",
   "metadata": {},
   "source": [
    "We could implement this with a Pytorch learning rate scheduler, but it won't save much.\n",
    "The Pytorch LR scheduler basically does this one line of code for us:\n",
    "```Python\n",
    " for g in self.learn.opt.param_groups: g['lr'] *= self.lr_mult\n",
    "```\n",
    "Lets create a new LRfinderCB, using the Pytorch `ExponentialLR ` scheduler.\n",
    "\n",
    "NB: *the documentation of this is wrong it claims that it decays the learning\n",
    "rate of each parameter Group by gamma, just some number you pass in.\n",
    "It says every epoch but it's not actually done every Epoch.\n",
    "In Pytorch the schedulers have a step method and the Decay happens each time you call step.\n",
    "If you set gamma (actually LRmult) to a number bigger than 1,\n",
    "it's not a Decay it's an increase.*"
   ]
  },
  {
   "cell_type": "code",
   "execution_count": 49,
   "id": "313fcb31",
   "metadata": {},
   "outputs": [],
   "source": [
    "#|export\n",
    "from torch.optim.lr_scheduler import ExponentialLR"
   ]
  },
  {
   "cell_type": "markdown",
   "id": "b7f61663",
   "metadata": {},
   "source": [
    "[ExponentialLR](https://pytorch.org/docs/stable/generated/torch.optim.lr_scheduler.ExponentialLR.html#torch.optim.lr_scheduler.ExponentialLR)"
   ]
  },
  {
   "cell_type": "markdown",
   "id": "1dc46236-f4cf-4579-8d0a-dfc857ff3f27",
   "metadata": {},
   "source": [
    "The main difference here is that `before_fit` we're going to create a `self.shed`\n",
    "```Python\n",
    "self.sched = ExponentialLR(self.learn.opt, self.gamma)\n",
    "```\n",
    "equal to the scheduler because it's going to be adjusting the learning rates.\n",
    "It needs access to the optimizer and the learning rate multiplier.\n",
    "`After_batch` rather than having \n",
    "```Python\n",
    " for g in self.learn.opt.param_groups: g['lr'] *= self.lr_mult\n",
    "```\n",
    "we replace it with this line of code: `self.shed.step()`.\n",
    "\n",
    "We're not gaining much by using the Pytorch ExponentialLR scheduler.\n",
    "Pytorch schedulers are not doing anything magic, just that one line of code for us."
   ]
  },
  {
   "cell_type": "code",
   "execution_count": 50,
   "id": "1dd3748d",
   "metadata": {},
   "outputs": [],
   "source": [
    "#|export\n",
    "class LRFinderCB(Callback):\n",
    "    def __init__(self, gamma=1.3, max_mult=3): fc.store_attr()\n",
    "    \n",
    "    def before_fit(self, learn):\n",
    "        self.sched = ExponentialLR(learn.opt, self.gamma)\n",
    "        self.lrs,self.losses = [],[]\n",
    "        self.min = math.inf\n",
    "\n",
    "    def after_batch(self, learn):\n",
    "        if not learn.training: raise CancelEpochException()\n",
    "        self.lrs.append(learn.opt.param_groups[0]['lr'])\n",
    "        loss = to_cpu(learn.loss)\n",
    "        self.losses.append(loss)\n",
    "        if loss < self.min: self.min = loss\n",
    "        if loss > self.min*self.max_mult:\n",
    "            raise CancelFitException()\n",
    "        self.sched.step()\n",
    "\n",
    "    def cleanup_fit(self, learn):\n",
    "        plt.plot(self.lrs, self.losses)\n",
    "        plt.xscale('log')"
   ]
  },
  {
   "cell_type": "code",
   "execution_count": 51,
   "id": "33dbff4d-f480-4511-b5b5-4bd3237186c3",
   "metadata": {},
   "outputs": [
    {
     "data": {
      "image/png": "[encoded data removed]",
      "text/plain": [
       "<Figure size 640x480 with 1 Axes>"
      ]
     },
     "metadata": {},
     "output_type": "display_data"
    }
   ],
   "source": [
    "cbs = [DeviceCB()]\n",
    "learn = MomentumLearner(get_model(), dls, F.cross_entropy, lr=1e-5, cbs=cbs)\n",
    "learn.fit(3, cbs=LRFinderCB())"
   ]
  },
  {
   "cell_type": "markdown",
   "id": "3189b771-a8e6-4c3a-8a5d-47415b749a1a",
   "metadata": {},
   "source": [
    "<span style='color:Blue'>\n",
    "Calling the LRfinder is now easier because we added a `@patch` to the learner\n",
    "`@fc.patch` decorator lets you take a function and it will turn that function into a method \n",
    "of the class we put after the colon (here `Learner`).\n",
    "This has created a new method called `lr_find` or `Learner.lr_find'.\n",
    "`lr_find` calls `self.fit` where `self` is a `learner`,\n",
    "passing in `max_epochs` as maximum number of epochs, \n",
    "what to start the learning rate 'start_lr`, \n",
    "and to use as `cbs` callbacks the LRFinderCB` callback.\n",
    "</span>"
   ]
  },
  {
   "cell_type": "code",
   "execution_count": 52,
   "id": "73326d2b-351a-4441-8aa6-79a8ba7d4a9d",
   "metadata": {},
   "outputs": [],
   "source": [
    "#|export\n",
    "@fc.patch\n",
    "def lr_find(self:Learner, gamma=1.3, max_mult=3, start_lr=1e-5, max_epochs=10):\n",
    "    self.fit(max_epochs, lr=start_lr, cbs=LRFinderCB(gamma=gamma, max_mult=max_mult))"
   ]
  },
  {
   "cell_type": "markdown",
   "id": "2a126947-8aba-4beb-893d-16db6c3b375b",
   "metadata": {},
   "source": [
    "`lr_find` was added in lesson 18. It's just a shorter way of using `LRFinderCB`.\n",
    "`@patch` \n",
    "<span style='color:Blue'> is a very convenient thing. \n",
    "Python has a lot of \"folk wisdom\" about what is and isn't considered \"pythonic\" or good.\n",
    "A lot of people don't like patching.\n",
    "In other languages it's used very widely and is considered good.\n",
    "JH doesn't have strong opinions either way about what's good or what's bad.\n",
    "In this situation it's very nice to be able to add in this additional functionality to our class.\n",
    "    </span>"
   ]
  },
  {
   "cell_type": "code",
   "execution_count": 53,
   "id": "25e3f6e5-4fb1-4d65-9fa2-63165ea93003",
   "metadata": {},
   "outputs": [
    {
     "data": {
      "image/png": "[encoded data removed]",
      "text/plain": [
       "<Figure size 640x480 with 1 Axes>"
      ]
     },
     "metadata": {},
     "output_type": "display_data"
    }
   ],
   "source": [
    "MomentumLearner(get_model(), dls, F.cross_entropy, cbs=cbs).lr_find()"
   ]
  },
  {
   "cell_type": "markdown",
   "id": "7bfb9bd2",
   "metadata": {},
   "source": [
    "## Export -"
   ]
  },
  {
   "cell_type": "code",
   "execution_count": 54,
   "id": "465118f0",
   "metadata": {},
   "outputs": [],
   "source": [
    "import nbdev; nbdev.nbdev_export()"
   ]
  },
  {
   "cell_type": "code",
   "execution_count": null,
   "id": "caa0ee5e-a7ff-4bf1-bd4f-884414605e4c",
   "metadata": {},
   "outputs": [],
   "source": []
  }
 ],
 "metadata": {
  "kernelspec": {
   "display_name": "Python 3 (ipykernel)",
   "language": "python",
   "name": "python3"
  },
  "language_info": {
   "codemirror_mode": {
    "name": "ipython",
    "version": 3
   },
   "file_extension": ".py",
   "mimetype": "text/x-python",
   "name": "python",
   "nbconvert_exporter": "python",
   "pygments_lexer": "ipython3",
   "version": "3.9.15"
  }
 },
 "nbformat": 4,
 "nbformat_minor": 5
}
