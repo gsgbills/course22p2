{
 "cells": [
  {
   "cell_type": "markdown",
   "id": "fc9313c9",
   "metadata": {},
   "source": [
    "# Setup"
   ]
  },
  {
   "cell_type": "code",
   "execution_count": 19,
   "id": "70f01ebe",
   "metadata": {},
   "outputs": [],
   "source": [
    "import pickle,gzip,math,os,time,shutil,torch,random,timm,torchvision,io,PIL\n",
    "import fastcore.all as fc,matplotlib as mpl,numpy as np,matplotlib.pyplot as plt\n",
    "from collections.abc import Mapping\n",
    "from pathlib import Path\n",
    "from operator import attrgetter,itemgetter\n",
    "from functools import partial\n",
    "from copy import copy\n",
    "from contextlib import contextmanager\n",
    "\n",
    "import torchvision.transforms.functional as TF,torch.nn.functional as F\n",
    "from torchvision import transforms\n",
    "from torch import tensor,nn,optim\n",
    "from torch.utils.data import DataLoader,default_collate\n",
    "from torch.nn import init\n",
    "from torch.optim import lr_scheduler\n",
    "from torcheval.metrics import MulticlassAccuracy\n",
    "from datasets import load_dataset,load_dataset_builder\n",
    "from fastcore.foundation import L, store_attr\n",
    "\n",
    "from miniai.datasets import *\n",
    "from miniai.conv import *\n",
    "from miniai.learner import *\n",
    "from miniai.activations import *\n",
    "from miniai.init import *\n",
    "from miniai.sgd import *\n",
    "from miniai.resnet import *"
   ]
  },
  {
   "cell_type": "code",
   "execution_count": 20,
   "id": "f1794251",
   "metadata": {},
   "outputs": [],
   "source": [
    "# Image URLs for demos. Change as desired.\n",
    "face_url = \"https://images.pexels.com/photos/2690323/pexels-photo-2690323.jpeg?w=256\"\n",
    "spiderweb_url = \"https://images.pexels.com/photos/34225/spider-web-with-water-beads-network-dewdrop.jpg?w=256\""
   ]
  },
  {
   "cell_type": "markdown",
   "id": "6ee5f031",
   "metadata": {},
   "source": [
    "# Loading Images"
   ]
  },
  {
   "cell_type": "code",
   "execution_count": 42,
   "id": "6e0fad67-d477-4964-b982-902a57d1a67e",
   "metadata": {},
   "outputs": [],
   "source": [
    "def download_image(url):\n",
    "    imgb = fc.urlread(url, decode=False) \n",
    "    return torchvision.io.decode_image(tensor(list(imgb), dtype=torch.uint8)).float()/255."
   ]
  },
  {
   "cell_type": "code",
   "execution_count": 46,
   "id": "61ef1220-79db-4c59-8019-0b9f33616ade",
   "metadata": {},
   "outputs": [
    {
     "data": {
      "text/plain": [
       "'0.14.1'"
      ]
     },
     "execution_count": 46,
     "metadata": {},
     "output_type": "execute_result"
    }
   ],
   "source": [
    "torchvision.__version__"
   ]
  },
  {
   "cell_type": "code",
   "execution_count": 47,
   "id": "d0851ea3-ab16-4503-97ad-1623ee9b151a",
   "metadata": {},
   "outputs": [
    {
     "ename": "UnicodeDecodeError",
     "evalue": "'utf-8' codec can't decode byte 0xff in position 0: invalid start byte",
     "output_type": "error",
     "traceback": [
      "\u001b[0;31m---------------------------------------------------------------------------\u001b[0m",
      "\u001b[0;31mUnicodeDecodeError\u001b[0m                        Traceback (most recent call last)",
      "Cell \u001b[0;32mIn [47], line 1\u001b[0m\n\u001b[0;32m----> 1\u001b[0m content_im \u001b[38;5;241m=\u001b[39m \u001b[43mdownload_image\u001b[49m\u001b[43m(\u001b[49m\u001b[43mface_url\u001b[49m\u001b[43m)\u001b[49m\u001b[38;5;241m.\u001b[39mto(def_device)\n\u001b[1;32m      2\u001b[0m \u001b[38;5;28mprint\u001b[39m(\u001b[38;5;124m'\u001b[39m\u001b[38;5;124mcontent_im.shape:\u001b[39m\u001b[38;5;124m'\u001b[39m, content_im\u001b[38;5;241m.\u001b[39mshape)\n\u001b[1;32m      3\u001b[0m show_image(content_im);\n",
      "Cell \u001b[0;32mIn [45], line 2\u001b[0m, in \u001b[0;36mdownload_image\u001b[0;34m(url)\u001b[0m\n\u001b[1;32m      1\u001b[0m \u001b[38;5;28;01mdef\u001b[39;00m \u001b[38;5;21mdownload_image\u001b[39m(url):\n\u001b[0;32m----> 2\u001b[0m     imgb \u001b[38;5;241m=\u001b[39m \u001b[43mfc\u001b[49m\u001b[38;5;241;43m.\u001b[39;49m\u001b[43murlread\u001b[49m\u001b[43m(\u001b[49m\u001b[43murl\u001b[49m\u001b[43m)\u001b[49m \u001b[38;5;66;03m#, decode=False) \u001b[39;00m\n\u001b[1;32m      3\u001b[0m     \u001b[38;5;28;01mreturn\u001b[39;00m (tensor(\u001b[38;5;28mlist\u001b[39m(imgb), dtype\u001b[38;5;241m=\u001b[39mtorch\u001b[38;5;241m.\u001b[39muint8))\u001b[38;5;241m.\u001b[39mfloat()\u001b[38;5;241m/\u001b[39m\u001b[38;5;241m255.\u001b[39m\n",
      "File \u001b[0;32m~/mambaforge/lib/python3.9/site-packages/fastcore/net.py:122\u001b[0m, in \u001b[0;36murlread\u001b[0;34m(url, data, headers, decode, return_json, return_headers, timeout, **kwargs)\u001b[0m\n\u001b[1;32m    119\u001b[0m     \u001b[38;5;28;01mif\u001b[39;00m \u001b[38;5;241m400\u001b[39m \u001b[38;5;241m<\u001b[39m\u001b[38;5;241m=\u001b[39m e\u001b[38;5;241m.\u001b[39mcode \u001b[38;5;241m<\u001b[39m \u001b[38;5;241m500\u001b[39m: \u001b[38;5;28;01mraise\u001b[39;00m ExceptionsHTTP[e\u001b[38;5;241m.\u001b[39mcode](e\u001b[38;5;241m.\u001b[39murl, e\u001b[38;5;241m.\u001b[39mhdrs, e\u001b[38;5;241m.\u001b[39mfp, msg\u001b[38;5;241m=\u001b[39me\u001b[38;5;241m.\u001b[39mmsg) \u001b[38;5;28;01mfrom\u001b[39;00m \u001b[38;5;28mNone\u001b[39m\n\u001b[1;32m    120\u001b[0m     \u001b[38;5;28;01melse\u001b[39;00m: \u001b[38;5;28;01mraise\u001b[39;00m\n\u001b[0;32m--> 122\u001b[0m \u001b[38;5;28;01mif\u001b[39;00m decode: res \u001b[38;5;241m=\u001b[39m \u001b[43mres\u001b[49m\u001b[38;5;241;43m.\u001b[39;49m\u001b[43mdecode\u001b[49m\u001b[43m(\u001b[49m\u001b[43m)\u001b[49m\n\u001b[1;32m    123\u001b[0m \u001b[38;5;28;01mif\u001b[39;00m return_json: res \u001b[38;5;241m=\u001b[39m loads(res)\n\u001b[1;32m    124\u001b[0m \u001b[38;5;28;01mreturn\u001b[39;00m (res,\u001b[38;5;28mdict\u001b[39m(hdrs)) \u001b[38;5;28;01mif\u001b[39;00m return_headers \u001b[38;5;28;01melse\u001b[39;00m res\n",
      "\u001b[0;31mUnicodeDecodeError\u001b[0m: 'utf-8' codec can't decode byte 0xff in position 0: invalid start byte"
     ]
    }
   ],
   "source": [
    "content_im = download_image(face_url).to(def_device)\n",
    "print('content_im.shape:', content_im.shape)\n",
    "show_image(content_im);"
   ]
  },
  {
   "cell_type": "code",
   "execution_count": null,
   "id": "b4225ac6",
   "metadata": {},
   "outputs": [],
   "source": [
    "content_im.min(),content_im.max() # Check bounds"
   ]
  },
  {
   "cell_type": "markdown",
   "id": "b5b50605",
   "metadata": {},
   "source": [
    "# Optimizing Images"
   ]
  },
  {
   "cell_type": "markdown",
   "id": "635f3bed-16a3-4937-b61b-eb938154d69d",
   "metadata": {},
   "source": [
    "GOAL: We want to make the image to continue to look like that lady,\n",
    "and change the style to match the style of another picture.\n",
    "In the optimization loop, each step will be moving the style closer.\n",
    "We loop through steps of a optimization loop (not thru different images)."
   ]
  },
  {
   "cell_type": "markdown",
   "id": "e0d657d2-2ec6-494d-bca9-3781f55c01ea",
   "metadata": {},
   "source": [
    "We don't have a dataset with training examples. \n",
    "We just have a single target and a single thing we're optimizing.\n",
    "We define a `LengthDataset()` class to follow the dataset standard, with `__getitem__` and `__len__`. \n",
    "But for `__getitem__` it returns 0 0, as we do not care about the content from this dataset.\n",
    "We just need something that we can pass to the learner to do a number of training iterations.\n",
    "We define a fake dummy dataloaders `get_dummy_dls(length=100)` with a hundred items.\n",
    "It creates the dataloaders and gives us a way to train for a number of steps."
   ]
  },
  {
   "cell_type": "code",
   "execution_count": 10,
   "id": "8de53881",
   "metadata": {},
   "outputs": [],
   "source": [
    "class LengthDataset():\n",
    "    def __init__(self, length=1): self.length=length\n",
    "    def __len__(self): return self.length\n",
    "    def __getitem__(self, idx): return 0,0\n",
    "\n",
    "def get_dummy_dls(length=100):\n",
    "    return DataLoaders(DataLoader(LengthDataset(length), batch_size=1), # Train\n",
    "                       DataLoader(LengthDataset(1), batch_size=1))      # Valid (length 1)"
   ]
  },
  {
   "cell_type": "markdown",
   "id": "d82b0d1b-b239-404a-80d6-b5dafd6bb836",
   "metadata": {},
   "source": [
    "We define a `TensorModel` `Module` class which just has a tensor `t` as its parameter.\n",
    "There is no actual neural network.\n",
    "We are just going to pass in a random image or some image shaped tensor, with a set of numbers that we can optimize.\n",
    "<br>\n",
    "Putting something in an `nn.Parameter` doesn't change it in any way, it is just a normal tensor, \n",
    "but it is stored inside the Module as being a tensor to optimize.\n",
    "We're not optimizing a model, we're optimizing the pixels of an image directly.\n",
    "Because it's in a parameter if we look at it e.g., `model.t` it does `require_grad` as that's already set up because the `nn.Module` \n",
    "is going to look for any parameters."
   ]
  },
  {
   "cell_type": "markdown",
   "id": "b8b67006-7663-4d5f-a431-2de04505bf3d",
   "metadata": {},
   "source": [
    "The shape of the parameters that we're optimizing is the same shape as the image.\n",
    "That tensor will be optimized if we pass it into a learner fit method.\n",
    "This model has an argument (`x=0`) passed to forward, which we ignore.\n",
    "We just make it easier ourselves by making the model look the way our learner expects."
   ]
  },
  {
   "cell_type": "code",
   "execution_count": 23,
   "id": "c152c296",
   "metadata": {},
   "outputs": [],
   "source": [
    "class TensorModel(nn.Module):\n",
    "    def __init__(self, t):\n",
    "        super().__init__()\n",
    "        self.t = nn.Parameter(t.clone())\n",
    "    def forward(self, x=0): return self.t"
   ]
  },
  {
   "cell_type": "code",
   "execution_count": 24,
   "id": "778de91b",
   "metadata": {},
   "outputs": [
    {
     "ename": "NameError",
     "evalue": "name 'content_im' is not defined",
     "output_type": "error",
     "traceback": [
      "\u001b[0;31m---------------------------------------------------------------------------\u001b[0m",
      "\u001b[0;31mNameError\u001b[0m                                 Traceback (most recent call last)",
      "Cell \u001b[0;32mIn [24], line 1\u001b[0m\n\u001b[0;32m----> 1\u001b[0m model \u001b[38;5;241m=\u001b[39m TensorModel(torch\u001b[38;5;241m.\u001b[39mrand_like(\u001b[43mcontent_im\u001b[49m))\n\u001b[1;32m      2\u001b[0m show_image(model());\n",
      "\u001b[0;31mNameError\u001b[0m: name 'content_im' is not defined"
     ]
    }
   ],
   "source": [
    "model = TensorModel(torch.rand_like(content_im))\n",
    "show_image(model());"
   ]
  },
  {
   "cell_type": "code",
   "execution_count": null,
   "id": "30783b5a",
   "metadata": {},
   "outputs": [],
   "source": [
    "[p.shape for p in model.parameters()]"
   ]
  },
  {
   "cell_type": "markdown",
   "id": "71e5e891-7fdc-497f-b880-e730ca34af6f",
   "metadata": {},
   "source": [
    "Alternatively, we could use e.g. `TrainCB`, set it up with a custom `predict` method that \n",
    "calls the model forward method with no parameters, calling the loss function on just the predictions.\n",
    "But if we want to skip this, as we take `x=0` and never use it.\n",
    "That should also work without this callback, either way is fine.\n",
    "It is a nice approach if you already have an existing model which expects some number of parameters,\n",
    "just modify the `TrainCB` callback, but we don't need to in this case."
   ]
  },
  {
   "cell_type": "markdown",
   "id": "ead333aa-c7ce-4748-b626-da28e12d6c60",
   "metadata": {},
   "source": [
    "Let's put this in a Learner, let's optimize it with some loss function.\n",
    "To clarify the `get_loss` had to change because normally we pass a Target to the loss function.\n",
    "Let's learn our grids and then `learn.batch`.\n",
    "We could remove that if we wanted to have the loss function take a target that we then ignore.\n",
    "\n",
    "We build on the idea of modifying the training callback in the ddpm example.\n",
    "In `ImageOptCB` it is a 2 lines change.\n",
    "To get our model predictions `preds` we call the `forward` method which returns an image that we're optimizing.\n",
    "We evaluate this according to a loss function that just takes in an image."
   ]
  },
  {
   "cell_type": "code",
   "execution_count": null,
   "id": "f3fb8264",
   "metadata": {},
   "outputs": [],
   "source": [
    "class ImageOptCB(TrainCB):\n",
    "    def predict(self, learn): learn.preds = learn.model()\n",
    "    def get_loss(self, learn): learn.loss = learn.loss_func(learn.preds)"
   ]
  },
  {
   "cell_type": "markdown",
   "id": "2f0ddcd8-2aac-40cb-a604-cd24a7aace2c",
   "metadata": {},
   "source": [
    "For the first loss function `loss_fn_mse` we use Mean Squared Error between the image that we are generating (output of the model)\n",
    "and the content image that is our target."
   ]
  },
  {
   "cell_type": "code",
   "execution_count": null,
   "id": "7ecb41c9-a448-4ef2-a4fc-e72a4aebf141",
   "metadata": {},
   "outputs": [],
   "source": [
    "def loss_fn_mse(im):\n",
    "    return F.mse_loss(im, content_im)"
   ]
  },
  {
   "cell_type": "markdown",
   "id": "5a2b7683-ebed-4c3f-9901-24fd90c64999",
   "metadata": {},
   "source": [
    "We set up our model and start it with a random image like the one above.\n",
    "We create a learner with a dummy dataloader for 100 steps, `loss_fn_mes` as the loss function, an `lr` and  `optim.Adam`.\n",
    "(default optimizer probably works fine).\n",
    "We run it and the loss goes from a non-zero number to close to zero."
   ]
  },
  {
   "cell_type": "code",
   "execution_count": null,
   "id": "74649c75-1139-4b4e-ae04-19fcbfd603b3",
   "metadata": {},
   "outputs": [],
   "source": [
    "model = TensorModel(torch.rand_like(content_im))\n",
    "cbs = [ImageOptCB(), ProgressCB(), MetricsCB(), DeviceCB()]\n",
    "learn = Learner(model, get_dummy_dls(100), loss_fn_mse, \n",
    "                lr=1e-2, cbs=cbs, opt_func=torch.optim.Adam)\n",
    "learn.fit(1)"
   ]
  },
  {
   "cell_type": "markdown",
   "id": "57756cd1-1cd4-4755-abd2-310b96fb1cb6",
   "metadata": {},
   "source": [
    "We look at the final result (call learn.model) and show it as an image and compare it with the source input image.\n",
    "They look identical."
   ]
  },
  {
   "cell_type": "code",
   "execution_count": null,
   "id": "948b05b9",
   "metadata": {},
   "outputs": [],
   "source": [
    "# Result (left) vs target image (right):\n",
    "show_images([learn.model().clip(0, 1), content_im]);"
   ]
  },
  {
   "cell_type": "markdown",
   "id": "9e99a7b8-a6de-43e3-8cef-ff017f6db6ce",
   "metadata": {},
   "source": [
    "JH: To clarify this \"pointless\" example, where we started with a noisy image and used SGD to make the pixels get closer \n",
    "to the source image (lady in the sunglasses).\n",
    "This is just to show that we can turn noisy pixels into something else by having it follow a loss function.\n",
    "And this loss function makes the pixels look as the source image.\n",
    "It's a very simple loss a one Direction that you update, almost trivial to solve.\n",
    "It helps us get the framework in place."
   ]
  },
  {
   "cell_type": "markdown",
   "id": "728a1944",
   "metadata": {},
   "source": [
    "## Viewing progress"
   ]
  },
  {
   "cell_type": "markdown",
   "id": "44363000-0a32-457c-97e5-3c6440a07e8e",
   "metadata": {},
   "source": [
    "Just seeing that result is not instructive.. maybe is a bug in the code that just duplicated the image.\n",
    "We need a way of observing progress. \n",
    "We define a login callback `ImageLogCB` that after every batch stores the output as an image.\n",
    "Every `log_every` iterations it's going to append the current image in a list, to be shown after the training.\n",
    "All else is as before but passing in `ImageLogCB` callback it will show the progress."
   ]
  },
  {
   "cell_type": "code",
   "execution_count": null,
   "id": "bd8d045f",
   "metadata": {},
   "outputs": [],
   "source": [
    "class ImageLogCB(Callback):\n",
    "    order = ProgressCB.order + 1\n",
    "    def __init__(self, log_every=10): store_attr(); self.images=[]; self.i=0\n",
    "    def after_batch(self, learn): \n",
    "        if self.i%self.log_every == 0: self.images.append(to_cpu(learn.preds.clip(0, 1)))\n",
    "        self.i += 1\n",
    "    def after_fit(self, learn): show_images(self.images)"
   ]
  },
  {
   "cell_type": "markdown",
   "id": "e8b18e52-444c-4359-83c4-f2ecda987382",
   "metadata": {},
   "source": [
    "Starting from noise after a few iterations already most noise is gone.\n",
    "By the end it looks exactly like the content image.\n",
    "<br>\n",
    "We have the infrastructure in place to create a variety of interesting outputs, e.g., artistic, \n",
    "image reconstruction, super resolution, colorization, etc.\n",
    "We just have to modify the loss function and we first created the easiest, checked it before we start doing fancy stuff.\n",
    "Now that is all in place, we will be able to visually see if things are going wrong, and we know what we need to modify.\n",
    "\n",
    "It would be great if we could see what is happening over time. \n",
    "You could save individual images and turn them into a video, \n",
    "but for quick feedback we can also log images every few iterations and display them in a grid in `after_fit`:"
   ]
  },
  {
   "cell_type": "code",
   "execution_count": null,
   "id": "582c48fb",
   "metadata": {},
   "outputs": [],
   "source": [
    "model = TensorModel(torch.rand_like(content_im))\n",
    "learn = Learner(model, get_dummy_dls(150), loss_fn_mse, \n",
    "                lr=1e-2, cbs=cbs, opt_func=torch.optim.Adam)\n",
    "learn.fit(1, cbs=[ImageLogCB(30)])"
   ]
  },
  {
   "cell_type": "markdown",
   "id": "c63ab0f7",
   "metadata": {},
   "source": [
    "## Getting Features from VGG16\n",
    "\n",
    "Maybe we want to match an image but also have a particular overall color, or something more complicated.\n",
    "To get a richer measure of what the image looks like, we extract features  from a pre-trained network.\n",
    "This is the core idea of this notebook: \n",
    "We feed in an image, and then have downsampling convolutions with Maxpooling until some final prediction.\n",
    "<br>\n",
    "JH: A big difference: that 7x7x512 nowadays we use Adaptive or Global pooling to get down to 1x1x512.\n",
    "Vgg16 is unusual (by today's standards), it just flattens that out into a 1x1x4096.\n",
    "This might be an interesting property. \n",
    "We should consider training resNets without global pooling and instead do flattening.\n",
    "We don't do flattening because that very last linear layer from 1x1x4096 to 1x1x1000 is for an Imagenet model.\n",
    "It is going to need a big weight Matrix, 4096x1000, hence very memory intensive for a poor performing model by modern standards.\n",
    "But, doing that actually also has some some potential benefits."
   ]
  },
  {
   "cell_type": "markdown",
   "id": "3b2366de",
   "metadata": {},
   "source": [
    "We're going to peek inside a small CNN and extract the outputs of different layers."
   ]
  },
  {
   "cell_type": "markdown",
   "id": "ceb6794f",
   "metadata": {},
   "source": [
    "### Load VGG network"
   ]
  },
  {
   "cell_type": "markdown",
   "id": "a9f99425",
   "metadata": {},
   "source": [
    "![vgg diag](https://neurohive.io/wp-content/uploads/2018/11/vgg16-1-e1542731207177.png)"
   ]
  },
  {
   "cell_type": "code",
   "execution_count": 29,
   "id": "f6d3c623",
   "metadata": {},
   "outputs": [
    {
     "name": "stdout",
     "output_type": "stream",
     "text": [
      "['repvgg_a2', 'repvgg_b0', 'repvgg_b1', 'repvgg_b1g4', 'repvgg_b2', 'repvgg_b2g4', 'repvgg_b3', 'repvgg_b3g4', 'vgg11', 'vgg11_bn', 'vgg13', 'vgg13_bn', 'vgg16', 'vgg16_bn', 'vgg19', 'vgg19_bn']\n"
     ]
    }
   ],
   "source": [
    "print(timm.list_models('*vgg*'))"
   ]
  },
  {
   "cell_type": "markdown",
   "id": "edadd944-cbec-4b1e-bfa4-09f3e4cdfc56",
   "metadata": {},
   "source": [
    "Let's load the model, look at what the layers are and then in the next section\n",
    "we can see what kinds of images work when we optimize towards different layers in there.\n",
    "In the `vgg16` network we have convolutions, RELUs, Maxpooling, etc, all in one `nn.Sequential`.\n",
    "It doesn't have the head so we said `.features` so this is the features subNetwork.\n",
    "That's everything up until some point and then you have the flattening and the classification which we're throwing away.\n",
    "This is the the body of the network and we're going to tag into various layers and extract the outputs."
   ]
  },
  {
   "cell_type": "code",
   "execution_count": 31,
   "id": "9dc35e44",
   "metadata": {},
   "outputs": [
    {
     "name": "stderr",
     "output_type": "stream",
     "text": [
      "Downloading: \"https://download.pytorch.org/models/vgg16-397923af.pth\" to /Users/germangoldszmidt/.cache/torch/hub/checkpoints/vgg16-397923af.pth\n"
     ]
    }
   ],
   "source": [
    "vgg16 = timm.create_model('vgg16', pretrained=True).to(def_device).features"
   ]
  },
  {
   "cell_type": "code",
   "execution_count": null,
   "id": "5fe122af",
   "metadata": {},
   "outputs": [],
   "source": [
    "# vgg16"
   ]
  },
  {
   "cell_type": "markdown",
   "id": "7d3ff854",
   "metadata": {},
   "source": [
    "### Normalize Images"
   ]
  },
  {
   "cell_type": "markdown",
   "id": "6747b048-d3d2-4cc5-810e-da6089dafbc8",
   "metadata": {},
   "source": [
    "This model was trained on a normalized version of Imagenet, using the dataset mean and std to normalize the images.\n",
    "To match what the data looked like during training we need to match that normalization step.\n",
    "We've done this on grayscale images where we just subtract the mean divide by the standard deviation.\n",
    "But here these are 3 Channel RGB image, we can't get away with just subtract the mean and divide by the standard deviation."
   ]
  },
  {
   "cell_type": "markdown",
   "id": "8f8a3fee-f24e-45a7-be2f-1b6abaa67cc3",
   "metadata": {},
   "source": [
    "This model expacts images normalized with the same stats as those used during training, which in this case requires the stats of the ImageNet dataset. "
   ]
  },
  {
   "cell_type": "code",
   "execution_count": 32,
   "id": "c3659224",
   "metadata": {},
   "outputs": [],
   "source": [
    "imagenet_mean = tensor([0.485, 0.456, 0.406])\n",
    "imagenet_std = tensor([0.229, 0.224, 0.225])"
   ]
  },
  {
   "cell_type": "markdown",
   "id": "b63ca0d9-dedc-4477-990d-4ab08e1bde88",
   "metadata": {},
   "source": [
    "We now need to be more careful than we can with just a scalar value. "
   ]
  },
  {
   "cell_type": "code",
   "execution_count": 35,
   "id": "011a4eaf",
   "metadata": {},
   "outputs": [],
   "source": [
    "# Try 1 (won't work):\n",
    "#(content_im - imagenet_mean) / imagenet_std"
   ]
  },
  {
   "cell_type": "markdown",
   "id": "4f015157-4be6-4ea2-9710-0622bcac8e56",
   "metadata": {},
   "source": [
    "With single-channel images normalizing is straightforward. With 3 channels, we must consider\n",
    "the shapes and broadcasting rules."
   ]
  },
  {
   "cell_type": "markdown",
   "id": "af011ec6-7425-45cc-8824-a50fdab94986",
   "metadata": {},
   "source": [
    "The `imagenet_mean` has 3 values, one for each RGB channel."
   ]
  },
  {
   "cell_type": "code",
   "execution_count": 36,
   "id": "2dc1a5f0",
   "metadata": {},
   "outputs": [
    {
     "data": {
      "text/plain": [
       "torch.Size([3])"
      ]
     },
     "execution_count": 36,
     "metadata": {},
     "output_type": "execute_result"
    }
   ],
   "source": [
    "imagenet_mean.shape"
   ]
  },
  {
   "cell_type": "markdown",
   "id": "90e8f976-d6f9-4f2a-9a8b-14324b524635",
   "metadata": {},
   "source": [
    "The content image has 3 channels 256x256. \n",
    "If we just say `(content_im - imagenet_mean)` going from right to left and find the first non-unit axis.\n",
    "Anything with a size > 1 it's going to try and line those up, in this case the 3 and the 256, which don't\n",
    "match, so we get an error.\n",
    "More perniciously if the shape did happen to match, it might not be what we intended."
   ]
  },
  {
   "cell_type": "code",
   "execution_count": 37,
   "id": "92d78641",
   "metadata": {},
   "outputs": [
    {
     "ename": "NameError",
     "evalue": "name 'content_im' is not defined",
     "output_type": "error",
     "traceback": [
      "\u001b[0;31m---------------------------------------------------------------------------\u001b[0m",
      "\u001b[0;31mNameError\u001b[0m                                 Traceback (most recent call last)",
      "Cell \u001b[0;32mIn [37], line 1\u001b[0m\n\u001b[0;32m----> 1\u001b[0m \u001b[43mcontent_im\u001b[49m\u001b[38;5;241m.\u001b[39mshape\n",
      "\u001b[0;31mNameError\u001b[0m: name 'content_im' is not defined"
     ]
    }
   ],
   "source": [
    "content_im.shape"
   ]
  },
  {
   "cell_type": "markdown",
   "id": "21ec90ef-9648-4552-9cb8-dd7888f74020",
   "metadata": {},
   "source": [
    "We want the 3 channels mapped to the 3 channels of the image and then somehow expand those values out across the two other dimensions.\n",
    "For this, we add two additional dimensions with `None` on the right of the `imagenet.mean`.\n",
    "Alternatively, we  could use `.unsqueeze(-1)` (twice?) but `None` is what we are using.\n",
    "Now the shapes match, from right to left, if it is a unit Dimension size one it expands it out to match the other tensor.\n",
    "If it is a non-unit dimension then the shapes must match."
   ]
  },
  {
   "cell_type": "markdown",
   "id": "cab55d04-2356-4d97-aca7-329ada6bb06c",
   "metadata": {},
   "source": [
    "With this reshaping operation we can write a `normalize(im)` to apply to the images."
   ]
  },
  {
   "cell_type": "code",
   "execution_count": null,
   "id": "6e8ca4b4",
   "metadata": {},
   "outputs": [],
   "source": [
    "# Try 2:\n",
    "def normalize(im):\n",
    "    imagenet_mean = tensor([0.485, 0.456, 0.406])[:,None,None].to(im.device)\n",
    "    imagenet_std = tensor([0.229, 0.224, 0.225])[:,None,None].to(im.device)\n",
    "    return (im - imagenet_mean) / imagenet_std"
   ]
  },
  {
   "cell_type": "markdown",
   "id": "f85ba461-ab3d-4e6f-947d-9ec330f1c545",
   "metadata": {},
   "source": [
    "We check their `min` and `max` to ensure that they make sense."
   ]
  },
  {
   "cell_type": "code",
   "execution_count": null,
   "id": "508fc6b2",
   "metadata": {},
   "outputs": [],
   "source": [
    "normalize(content_im).min(), normalize(content_im).max()"
   ]
  },
  {
   "cell_type": "markdown",
   "id": "ae544430-3f25-4170-a036-018e6def0180",
   "metadata": {},
   "source": [
    "We check the `mean` to ensure that it is somewhat close to zero.\n",
    "Our Blue channel is brighter than the others and if we go back and look at our image it is."
   ]
  },
  {
   "cell_type": "code",
   "execution_count": null,
   "id": "9d61bb6d",
   "metadata": {},
   "outputs": [],
   "source": [
    "normalize(content_im).mean(dim=(1, 2))"
   ]
  },
  {
   "cell_type": "markdown",
   "id": "910795bb-cf61-4598-b1d1-21eafaa8019a",
   "metadata": {},
   "source": [
    "As we've implemented it, we can use `torchvision.transforms.Normalize`.\n",
    "We pass the mean and standard deviation `std` to it and it ensures that the devices and shapes match."
   ]
  },
  {
   "cell_type": "code",
   "execution_count": null,
   "id": "70d3a24d",
   "metadata": {},
   "outputs": [],
   "source": [
    "# And with torchvision transforms:\n",
    "normalize = transforms.Normalize(mean=[0.485, 0.456, 0.406], std=[0.229, 0.224, 0.225])"
   ]
  },
  {
   "cell_type": "markdown",
   "id": "acad1f6f-323b-4919-9474-27abba6df056",
   "metadata": {},
   "source": [
    "The Min, Max and Means are the same, i.e., our function does the same as the torchvision normalized transform."
   ]
  },
  {
   "cell_type": "code",
   "execution_count": null,
   "id": "ebc65ef1",
   "metadata": {},
   "outputs": [],
   "source": [
    "normalize(content_im).min(), normalize(content_im).max(), normalize(content_im).mean(dim=(1, 2))"
   ]
  },
  {
   "cell_type": "markdown",
   "id": "d7bd96f2",
   "metadata": {},
   "source": [
    "### Get intermediate representations, take 1:"
   ]
  },
  {
   "cell_type": "markdown",
   "id": "7f1f1926",
   "metadata": {},
   "source": [
    "We want to feed some data through the network, storing the outputs of different layers. Here's one way to do this:"
   ]
  },
  {
   "cell_type": "markdown",
   "id": "e6d02f08-5fd6-458f-9767-6e346c9df9a9",
   "metadata": {},
   "source": [
    "To extract the features from this network we are going to normalize our inputs `imgs`, \n",
    "and run through each `layer` in the sequential stack.\n",
    "We pass the result of the layer `x` through each layer.\n",
    "If we're in one of the special `target_layers`, append the outputs of that layer to a list `feats`.\n",
    "The term *features* here means the activations of a layer, in this case two particular layers 18 and 25."
   ]
  },
  {
   "cell_type": "code",
   "execution_count": 48,
   "id": "fc49e495",
   "metadata": {},
   "outputs": [],
   "source": [
    "def calc_features(imgs, target_layers=(18, 25)): \n",
    "    x = normalize(imgs)\n",
    "    feats = []\n",
    "    for i, layer in enumerate(vgg16[:max(target_layers)+1]):\n",
    "        x = layer(x)\n",
    "        if i in target_layers:\n",
    "            feats.append(x.clone())\n",
    "    return feats"
   ]
  },
  {
   "cell_type": "markdown",
   "id": "3a6bcd05-1642-42e1-8602-0f05332959c7",
   "metadata": {},
   "source": [
    "<mark> NB: There's a problem (Python?/Pytorch?) using a list as a default, so we should use tuples.\n",
    "When we use a mutable type like a list in a python default parameter it keeps it around.\n",
    "And if we change it later then it modifies the function.\n",
    "Suggest never using a list as a default parameter because at some point it will create weird problems.\n",
    "    </mark>"
   ]
  },
  {
   "cell_type": "code",
   "execution_count": 49,
   "id": "8e67af7c",
   "metadata": {},
   "outputs": [
    {
     "ename": "NameError",
     "evalue": "name 'content_im' is not defined",
     "output_type": "error",
     "traceback": [
      "\u001b[0;31m---------------------------------------------------------------------------\u001b[0m",
      "\u001b[0;31mNameError\u001b[0m                                 Traceback (most recent call last)",
      "Cell \u001b[0;32mIn [49], line 2\u001b[0m\n\u001b[1;32m      1\u001b[0m \u001b[38;5;66;03m# Testing it out to see the shapes of the resulting feature maps for the 18 and 25 layers:\u001b[39;00m\n\u001b[0;32m----> 2\u001b[0m feats \u001b[38;5;241m=\u001b[39m calc_features(\u001b[43mcontent_im\u001b[49m)\n\u001b[1;32m      3\u001b[0m [f\u001b[38;5;241m.\u001b[39mshape \u001b[38;5;28;01mfor\u001b[39;00m f \u001b[38;5;129;01min\u001b[39;00m feats]\n",
      "\u001b[0;31mNameError\u001b[0m: name 'content_im' is not defined"
     ]
    }
   ],
   "source": [
    "# Testing it out to see the shapes of the resulting feature maps for the 18 and 25 layers:\n",
    "feats = calc_features(content_im)\n",
    "[f.shape for f in feats]"
   ]
  },
  {
   "cell_type": "markdown",
   "id": "69c6dbc1-086e-4faf-bdb8-4ff87abdc555",
   "metadata": {},
   "source": [
    "**TODO Homework**: Do this using Hooks."
   ]
  },
  {
   "cell_type": "markdown",
   "id": "3ffeb55f",
   "metadata": {},
   "source": [
    "### What's the point?"
   ]
  },
  {
   "cell_type": "markdown",
   "id": "14d8e8ec",
   "metadata": {},
   "source": [
    "You may remember us looking at [Feature visualization](https://distill.pub/2017/feature-visualization/) and talking about how deep CNNs 'learn' to classify images. Early layers tend to capture gradients and textures, while later layers more complex types of features. We exploit this complexity hierarchy for artistic purposes.\n",
    "Being able to choose what kind of features to use when comparing images has a number of other useful applications. "
   ]
  },
  {
   "cell_type": "markdown",
   "id": "6f939b15",
   "metadata": {},
   "source": [
    "# Optimizing an Image with Content Loss"
   ]
  },
  {
   "cell_type": "markdown",
   "id": "40469ff0",
   "metadata": {},
   "source": [
    "Let's start optimizing an image by comparing it's features (from two later layers) with those from the target image. If our theory is right, we should see the structure of the target emerge from the noise without necessarily seeing a perfect re-production of the target like we did in the previous MSE loss example."
   ]
  },
  {
   "cell_type": "markdown",
   "id": "efbe9dfc-d845-4f4d-9f3c-ff00b79aa660",
   "metadata": {},
   "source": [
    "We're feeding in an image that's 256x256 and the first layer that we're looking at is (18).\n",
    "It's getting half to 128x128 then to 64x64, and 32x32x512.\n",
    "(The ones in the VGG diagram are different sizes because they have a different starting size.)\n",
    "Those are the features for layer 18, a tensor of shape 512x32x32.\n",
    "For every spatial location in that 32x32 grid we have the output from 512 different filters, which \n",
    "are the \"features\" (ie channels in a single convolution).\n",
    "We want to capture different concepts at different layers.\n",
    "To get a feel for this we just compare these feature Maps, we institute a \"Content loss\" also called a \"perceptual loss\".\n",
    "We focus on a couple of later layers we pass-in `target_im`, eg the content image,\n",
    "and we calculate those features in those target layers.\n",
    "In the `__call__` we compare to our inputs and calculate the features of our inputs \n",
    "and do the MSE between those and our target features.\n",
    "<br>\n",
    "`ContentLossToTarget` is a loss function which has a `__call__` method (a callable in Python).\n",
    "(In a Module we call it forward but in normal Python it is `__call__`.)\n",
    "It takes one input which is the way we set up the image training callback earlier.\n",
    "It's just going to pass in the input `target_im` which is the image as it's been optimized to so far.\n",
    "Initially it's going to be random noise, and then the loss we are calculating is the MSE\n",
    "of how far away is `input_im` from the target image `target_im`.\n",
    "The MSE for each of the layers (default 18 and 25).\n",
    "It is a bit strange weird to call (eg 2) different neural network features,\n",
    "not because that's the model we're optimizing, but because it's the loss function it's how far away are we.\n",
    "If we SGD optimize that loss function we are not going to get the same pixels, \n",
    "we get pixels which have the same activations of those features."
   ]
  },
  {
   "cell_type": "code",
   "execution_count": null,
   "id": "b0770e08",
   "metadata": {},
   "outputs": [],
   "source": [
    "class ContentLossToTarget():\n",
    "    def __init__(self, target_im, target_layers=(18, 25)):\n",
    "        fc.store_attr()\n",
    "        with torch.no_grad():\n",
    "            self.target_features = calc_features(target_im, target_layers)\n",
    "    def __call__(self, input_im): \n",
    "        return sum((f1-f2).pow(2).mean() for f1, f2 in \n",
    "               zip(calc_features(input_im, self.target_layers), self.target_features))"
   ]
  },
  {
   "cell_type": "markdown",
   "id": "182cc0a3-e758-4d6f-afeb-caef8b20e0b9",
   "metadata": {},
   "source": [
    "If we run it we can see the shape of the source image person, but it doesn't match on a color and style basis.\n",
    "18 and 25 are fairly deep (there are 31 layers).\n",
    "Color often doesn't have much of a semantic property, that may be why it doesn't care much about color.\n",
    "E.g., it's still going to be an eyeball whether it is green or blue.\n",
    "\n",
    "We aren't constraining the tensor that we're optimizing to be in the same bounds as a normal image\n",
    "so some of these may also be <0  or >1. \n",
    "Almost hacking the ANN to get the same features that those deep layers have \n",
    "by passing in something that it's never seen during training.\n",
    "For display we're clipping it to be an image,\n",
    "But we may want to have either some sort of sigmoid function or some other way to clamp \n",
    "the tensor model and to have outputs that are within the allowed range.\n",
    "Notice that the background hasn't changed much.\n",
    "The reason for that would be that the VGG model we're using in the loss function was trained on Imagenet.\n",
    "Imagenet is good at recognizing a single big object like a dog or a boat.\n",
    "It's not going to care about the background, so the background \n",
    "isn't going to have much in the way of features at all.\n",
    "That is why it hasn't changed the background yeah.\n"
   ]
  },
  {
   "cell_type": "code",
   "execution_count": null,
   "id": "6aa72403",
   "metadata": {},
   "outputs": [],
   "source": [
    "loss_function_perceptual = ContentLossToTarget(content_im)\n",
    "model = TensorModel(torch.rand_like(content_im))\n",
    "learn = Learner(model, get_dummy_dls(150), loss_function_perceptual, \n",
    "                lr=1e-2, cbs=cbs, opt_func=torch.optim.Adam)\n",
    "learn.fit(1, cbs=[ImageLogCB(log_every=30)])"
   ]
  },
  {
   "cell_type": "markdown",
   "id": "36ae383f-7a00-415b-8726-4be24b26ce9c",
   "metadata": {},
   "source": [
    "Interesting to see how little it looks like the image, at the same time we can recognize it.\n",
    "We can also try passing-in them earlier list right and comparing on those earlier layers and\n",
    "we get a different result because now we're optimizing to some image that is a lot closer to the original.\n",
    "Still it doesn't look the same, so there are a few things that are worth noting.\n",
    "We're hooking into these RELU layers which might mean,\n",
    "for example, that if we are looking at the very early layers we're missing out on some \n",
    "features that was one of my guesses as to why this didn't have as dark as the input image.\n",
    "Also we might be going out of bounds to get the same kinds of features.\n",
    "\n",
    "We can see how by looking at really deep layers we really don't care about the color or Texture.\n",
    "We are just getting like sunglasses bits, and by looking at the earlier layers\n",
    "we have a more rigid adherence to the the lower level features.\n",
    "It gives us a tunable way to compare two images.\n",
    "We can say do we care that they match exactly on pixels, then we can use MSE,\n",
    "but if we care about the exact match then we can use some early layers.\n",
    "If we only care about the overall semantics we can go to deeper layers and we can experiment with.\n",
    "\n",
    "This is like the technique that Xyler and Fergus and the distilled papers use to identify what do filters look at. \n",
    "We can optimize an image to maximize a particular filter. \n",
    "For example that would be a similar loss function to the one we've built here.\n",
    "Fun project: calculate these feature maps, pick one of the 512 features,\n",
    "and optimize the image to maximize that activation.\n",
    "By default we might quite a noisy weird result like almost an adversarial input.\n",
    "\"Feature Visualization\" people add things like augmentations.\n",
    "So we are optimizing an image that under some augmentations still activates that feature.\n"
   ]
  },
  {
   "cell_type": "markdown",
   "id": "0f155077",
   "metadata": {},
   "source": [
    "**Choosing the layers determines the kind of features that are important:**"
   ]
  },
  {
   "cell_type": "code",
   "execution_count": null,
   "id": "3edd6544",
   "metadata": {},
   "outputs": [],
   "source": [
    "loss_function_perceptual = ContentLossToTarget(content_im, target_layers=(1, 6))\n",
    "model = TensorModel(torch.rand_like(content_im))\n",
    "learn = Learner(model, get_dummy_dls(150), loss_function_perceptual, \n",
    "                lr=1e-2, cbs=cbs, opt_func=torch.optim.Adam)\n",
    "learn.fit(1, cbs=[ImageLogCB(log_every=30)])"
   ]
  },
  {
   "cell_type": "markdown",
   "id": "d537f2ad-1e76-4291-bdd6-5c051151f538",
   "metadata": {},
   "source": [
    "We know how to optimize an image, how to extract features from this neural network.\n",
    "This is for comparing, for different types of features how similar are two images.\n",
    "For a full style transfer artistic application we need to keep the structure\n",
    "of the source image, and have the style (eg., style, textures) come from a different image.\n",
    "<br>\n",
    "The feature maps have a spatial component.\n",
    "For example, we had a 32x32x512 feature map, each location in the 32x32 grid correspond to some part of the input image.\n",
    "If we just do MSE for the activations from some early layers, \n",
    "that would be asking for the same types of features in the same locations.\n",
    "We want to get an image that matches the source image, with the same colors and textures,\n",
    "but they may  be in different parts of the image, i.e., we want to get rid of the spatial aspect. \n",
    "For example,  give us the image in the style of Van Gogh Starry Night.\n",
    "We're not asking where in the image there should be something with this texture,\n",
    "just that the kinds of textures that are used anywhere in that image should\n",
    "also appear in in our version, but not necessarily in the same place.\n",
    "The solution that Seller? and Ferguson proposed uses a Gram Matrix.\n",
    "We want some measure of what kinds of styles are present without worrying about where they are."
   ]
  },
  {
   "cell_type": "markdown",
   "id": "8692048f",
   "metadata": {},
   "source": [
    "# Style Loss with Gram Matrix"
   ]
  },
  {
   "cell_type": "markdown",
   "id": "3d9bf193",
   "metadata": {},
   "source": [
    "REFERENCES:\n",
    "Style transfer was first invented in the Gattys paper.\n",
    "Seiler and Ferguson did the feature visualization.\n",
    "Lets open the original paper and use Jono's explanation to understand the paper, which has some nice pictures. \n",
    "Gram Matrix inner product between the vectorized feature map, but it doesn't explain how the gram Matrix works.\n",
    "People have used Gram Matrices in other contexts for similar kinds of measures.\n",
    "Pytorch has named parameters, we can name layers of a sequential model.\n",
    "\n",
    "\n",
    "We know how to extract feature maps. The next thing we'd like to do is find a way to capture the **style** of an input image, based on those early layers and the kinds of textural feature that they learn. Unfortunately, we can't just compare the feature maps from some early layers since these 'maps' encode information spatially - which we don't want!"
   ]
  },
  {
   "attachments": {
    "feature_map_extraction.png": {
     "image/png": "[encoded data removed]"
    }
   },
   "cell_type": "markdown",
   "id": "e3253cbe",
   "metadata": {},
   "source": [
    "![feature_map_extraction.png](attachment:feature_map_extraction.png)"
   ]
  },
  {
   "cell_type": "markdown",
   "id": "8dffd0de",
   "metadata": {},
   "source": [
    "So, we need a way to measure what **kinds** of style features are present, and ideally which kinds occur together, without worrying about **where** these features occur in the image. \n",
    "\n",
    "Enter something called the Gram Matrix. The idea here is that we'll measure the **correlation** between features. Given a feature map with `f` features in an `h` x `w` grid, we'll flatten out the spatial component and then for every feature we'll take the dot product of that row with itself, giving an `f` x `f` matrix as the result. Each entry in this matrix quantifies how correlated the relevant pair of features are and how frequently they occur - exactly what we want. In this diagram each feature is represented as a colored dot."
   ]
  },
  {
   "cell_type": "markdown",
   "id": "c945c1c2-5bde-492a-a35a-53dd2178376c",
   "metadata": {},
   "source": [
    "It is difficult to represent more than two-dimensional things on a 2d grid.\n",
    "The feature map has a height and width (eg 32x32), and a number of features (a 3rd dimension) represented as colored dots.\n",
    "With a Gram Matrix we flatten out the spatial Dimension, reshape it to have the width times the height.\n",
    "The spatial (features) dimension is on the horizontal (vertical) axis.\n",
    "Each row (e.g, yellow) has a 1 if there is a corresponding (eg yellow) dot in the location else it gets a 0.\n",
    "Once we flattened the feature map, we only care about which types of features we have and do they occur with each other.\n",
    "We get the dot products of each row with all other rows."
   ]
  },
  {
   "attachments": {
    "gram_calculation.png": {
     "image/png": "[encoded data removed]"
    }
   },
   "cell_type": "markdown",
   "id": "95fcb86d",
   "metadata": {},
   "source": [
    "![gram_calculation.png](attachment:gram_calculation.png)"
   ]
  },
  {
   "cell_type": "markdown",
   "id": "d5dea6a4-b0ce-47b7-9236-02fb353376a6",
   "metadata": {},
   "source": [
    "For these feature vectors how correlated are they with each other.\n",
    "We end up with a Gram Matrix (correlation of features).\n",
    "We can read this example as: there are 7 Reds in total, only one location red occurs alongside a green.\n",
    "The Gram Matrix has no spatial component, it's just a feature Dimension by feature Dimension.\n",
    "It is a measure of how common these features are (eg an uncommon one is green),\n",
    "and how frequently they occur together with other features."
   ]
  },
  {
   "cell_type": "markdown",
   "id": "2ac4d48c-ca2b-46c0-86a3-df80952782db",
   "metadata": {},
   "source": [
    "We implement this diagram in code, use 0 or 1 for simplicity, but we could have different size activations,\n",
    "but not as easy to represent visually."
   ]
  },
  {
   "cell_type": "markdown",
   "id": "f755c371",
   "metadata": {},
   "source": [
    "Re-creating the diagram operations in code:"
   ]
  },
  {
   "cell_type": "code",
   "execution_count": null,
   "id": "69c46226",
   "metadata": {},
   "outputs": [],
   "source": [
    "t = tensor([[0, 1, 0, 1, 1, 0, 0, 1, 1],\n",
    "            [0, 1, 0, 1, 0, 0, 0, 0, 1],\n",
    "            [1, 0, 1, 1, 1, 1, 1, 1, 0],\n",
    "            [1, 0, 1, 1, 0, 1, 1, 0, 0]])"
   ]
  },
  {
   "cell_type": "markdown",
   "id": "80f62486-2365-41ae-927b-76f4751548d0",
   "metadata": {},
   "source": [
    "We do it with an einsum because it makes it easy to add later the (Bastion?) engine.\n",
    "It is the Matrix multiplied with its own transpose, and doing it with `matmul` \n",
    "we get the same result, so that is the Gram Matrix calculation.\n",
    "We can now use it to create a measure and when we look at things like word2Vic, it's got some similarities.\n",
    "The idea of co-occurrence of features also reminds me of the clip loss.\n",
    "It is a dot product with itself."
   ]
  },
  {
   "cell_type": "code",
   "execution_count": null,
   "id": "57c154e4",
   "metadata": {},
   "outputs": [],
   "source": [
    "torch.einsum('fs, gs -> fg', t, t)"
   ]
  },
  {
   "cell_type": "code",
   "execution_count": null,
   "id": "b1e70db7",
   "metadata": {},
   "outputs": [],
   "source": [
    "t.matmul(t.T) # Alternate approach"
   ]
  },
  {
   "cell_type": "markdown",
   "id": "3b3119fa-5cd6-40ff-b8b4-4778faac2507",
   "metadata": {},
   "source": [
    "The idea of multiplying with your own transpose is a common mathematical technique, used \n",
    "in many areas, e.g., protein folding.\n",
    "The difference in each case is the Matrix that we're multiplying by its own transpose.\n",
    "For covariance the Matrix is the Matrix of differences to the mean.\n",
    "In this case the matrix is the flattened picture."
   ]
  },
  {
   "cell_type": "markdown",
   "id": "d31dbe7f",
   "metadata": {},
   "source": [
    "### Trying it out"
   ]
  },
  {
   "cell_type": "code",
   "execution_count": null,
   "id": "f5910728",
   "metadata": {},
   "outputs": [],
   "source": [
    "style_im = download_image(spiderweb_url).to(def_device)\n",
    "show_image(style_im);"
   ]
  },
  {
   "cell_type": "markdown",
   "id": "59691634-7d98-4e89-9525-de424ac4e070",
   "metadata": {},
   "source": [
    "The `calc_grams` will do that operation we did above, but we're going to add scaling,\n",
    "because we have a feature map and we might pass in images of different sizes.\n",
    "<br>\n",
    "As there is a relation to the number of spatial locations, by scaling by this width times height\n",
    "we get a relative measure as opposed to an absolute measure.\n",
    "Hence the comparisons are going to be valid even for images of different sizes.\n",
    "We have a `chw, dhw ->cd` (channels/features by height by width image).\n",
    "we pass-in two versions of `x` because it's the same image in both times.\n",
    "And we map this down to just features by features.\n",
    "We can't repeat variables in einsum so that's why it is`c` and `d`."
   ]
  },
  {
   "cell_type": "code",
   "execution_count": null,
   "id": "6a5c0acb",
   "metadata": {},
   "outputs": [],
   "source": [
    "def calc_grams(img, target_layers=(1, 6, 11, 18, 25)):\n",
    "    return L(torch.einsum('chw, dhw -> cd', x, x) / (x.shape[-2]*x.shape[-1]) # 'bchw, bdhw -> bcd' if batched\n",
    "            for x in calc_features(img, target_layers))"
   ]
  },
  {
   "cell_type": "markdown",
   "id": "f6ef4f98-aec8-427c-b59a-33f346c0aa97",
   "metadata": {},
   "source": [
    "We run this on our style image `style_im` and see we are targeting 5 different layers."
   ]
  },
  {
   "cell_type": "code",
   "execution_count": null,
   "id": "48a261bf",
   "metadata": {},
   "outputs": [],
   "source": [
    "style_grams = calc_grams(style_im)"
   ]
  },
  {
   "cell_type": "markdown",
   "id": "c61a31f3-1bb0-4ab5-b63f-cb59d3332b55",
   "metadata": {},
   "source": [
    "For each one the first layer has 64 features and so we get a 64 by 164 gram Matrix.\n",
    "The second one is 128 features so we can hit 128x128 gram Matrix, etc."
   ]
  },
  {
   "cell_type": "code",
   "execution_count": null,
   "id": "bba2aac1",
   "metadata": {},
   "outputs": [],
   "source": [
    "[g.shape for g in style_grams] # The gram matrices for features from different layers"
   ]
  },
  {
   "cell_type": "markdown",
   "id": "a9557ed4-992e-41e8-b298-20b54a3baa56",
   "metadata": {},
   "source": [
    "We use the `attrgot` method (it is a `fc.L` \"magic list\"), \n",
    "Let's use `StyleLosstoTarget()` as a loss just like with the content lost before,\n",
    "we're going to take in a Target image which is going to be our style,\n",
    "calculate the Gram matrices and when we get an input to our last function."
   ]
  },
  {
   "cell_type": "code",
   "execution_count": null,
   "id": "4f598361",
   "metadata": {},
   "outputs": [],
   "source": [
    "style_grams.attrgot('shape') # The magic of fastcore's L"
   ]
  },
  {
   "cell_type": "markdown",
   "id": "7e63e350-8100-46dc-928c-cbaa7d6bbf6b",
   "metadata": {},
   "source": [
    "We calculate the Gram matrices for that and do the MSE between the gram matrices.\n",
    "These have no spatial components just what features are there.\n",
    "Comparing the two to make sure that they have the same kinds of features,\n",
    "and the same kinds of correlations between features."
   ]
  },
  {
   "cell_type": "code",
   "execution_count": null,
   "id": "3a30d927",
   "metadata": {},
   "outputs": [],
   "source": [
    "class StyleLossToTarget():\n",
    "    def __init__(self, target_im, target_layers=(1, 6, 11, 18, 25)):\n",
    "        fc.store_attr()\n",
    "        with torch.no_grad(): self.target_grams = calc_grams(target_im, target_layers)\n",
    "    def __call__(self, input_im): \n",
    "        return sum((f1-f2).pow(2).mean() for f1, f2 in \n",
    "               zip(calc_grams(input_im, self.target_layers), self.target_grams))"
   ]
  },
  {
   "cell_type": "code",
   "execution_count": null,
   "id": "25ad04c3",
   "metadata": {},
   "outputs": [],
   "source": [
    "style_loss = StyleLossToTarget(style_im)"
   ]
  },
  {
   "cell_type": "markdown",
   "id": "659ec0e9-5b89-4ff7-8340-018f428dacc7",
   "metadata": {},
   "source": [
    "The content image `content_im` at the moment has a high loss when we compare it to our style image `style_im`.\n",
    "That means the physical content image doesn't look anything like a spider web in terms of its textures, etc. "
   ]
  },
  {
   "cell_type": "code",
   "execution_count": null,
   "id": "ea19abdf",
   "metadata": {},
   "outputs": [],
   "source": [
    "style_loss(content_im)"
   ]
  },
  {
   "cell_type": "markdown",
   "id": "56e9370b",
   "metadata": {},
   "source": [
    "## Style Transfer"
   ]
  },
  {
   "cell_type": "markdown",
   "id": "ba768244-64ff-4783-82fa-59e9a57de612",
   "metadata": {},
   "source": [
    "We set up an optimization. \n",
    "One difference is that now we are starting from the content image itself rather than optimizing from random noise."
   ]
  },
  {
   "cell_type": "markdown",
   "id": "0e622b3b-7c83-484f-9189-cfa69783d751",
   "metadata": {},
   "source": [
    "We can choose either way. For style transfer it's nice to use the content image as a starting point.\n",
    "At the beginning it just looks like our content image.\n",
    "As we do more steps we maintain the structure, because we're using the content loss as one component of our loss function.\n",
    "And we also have more of the style because at the early layers we're evaluating the style loss.\n",
    "It doesn't have the same layout as the style image spider web, \n",
    "but it has the same kinds of textures and structures.\n",
    "The final result has done our goal of taking one image and do it in the style of another."
   ]
  },
  {
   "cell_type": "code",
   "execution_count": null,
   "id": "ccb838ee",
   "metadata": {},
   "outputs": [],
   "source": [
    "model = TensorModel(content_im) # Start from content image\n",
    "style_loss = StyleLossToTarget(style_im)\n",
    "content_loss = ContentLossToTarget(content_im)\n",
    "def combined_loss(x):\n",
    "    return style_loss(x) + content_loss(x)\n",
    "learn = Learner(model, get_dummy_dls(150), combined_loss, lr=1e-2, cbs=cbs, opt_func=torch.optim.Adam)\n",
    "learn.fit(1, cbs=[ImageLogCB(30)])"
   ]
  },
  {
   "cell_type": "markdown",
   "id": "3c00c44c-2210-4019-b7c1-da3cb5d621c1",
   "metadata": {},
   "source": [
    "Notice that the spider web is nicely laid out, she's almost picking it out with her fingers,\n",
    "and her face, very important in terms of object recognition, the model didn't mess with the face.\n",
    "match at all so it's kept the spider webs away from that like I think it's the more you look at it the more\n",
    "This is impressive how it's managed to find a way to add spider webs without messing up the\n",
    "overall semantics of the image."
   ]
  },
  {
   "cell_type": "code",
   "execution_count": null,
   "id": "9e2c9e93",
   "metadata": {},
   "outputs": [],
   "source": [
    "show_image(learn.model().clip(0, 1)); # View the final result"
   ]
  },
  {
   "cell_type": "markdown",
   "id": "f5c14a97",
   "metadata": {},
   "source": [
    "And trying with random starting image, weighting the style loss lower, using different layers:"
   ]
  },
  {
   "cell_type": "code",
   "execution_count": null,
   "id": "9d3aa3fe",
   "metadata": {},
   "outputs": [],
   "source": [
    "model = TensorModel(torch.rand_like(content_im))\n",
    "style_loss = StyleLossToTarget(style_im)\n",
    "content_loss = ContentLossToTarget(content_im, target_layers=(6, 18, 25))\n",
    "def combined_loss(x):\n",
    "    return style_loss(x) * 0.2 + content_loss(x)\n",
    "learn = Learner(model, get_dummy_dls(300), combined_loss, lr=5e-2, cbs=cbs, opt_func=torch.optim.Adam)\n",
    "learn.fit(1, cbs=[ImageLogCB(60)])"
   ]
  },
  {
   "cell_type": "markdown",
   "id": "8d3e907a-7707-40f2-a626-a45c49567d7e",
   "metadata": {},
   "source": [
    "TODO: find your own pictures and make sure not to steal someone's licensed work.\n",
    "There's a lot of Creative Commons images to try bashing together.\n",
    "Do it at a larger size, higher resolution style, etc.\n",
    "There's so much to experiment with: for example change the content loss to focus on.\n",
    "Maybe an earlier layer can start from a random image  instead of a content image.\n",
    "Or we can start from the style image and optimize towards the content image.\n",
    "We can change how we scale these two components of the loss function, how long to train for, the learning rate, etc. \n",
    "What you can optimize and what you can explore, get different results with\n",
    "different scalings and different focus layers...\n",
    "There is a lot of fun experimentation to finding a set of parameters that give \n",
    "a pleasent result for a given style content pair, and for a given effect on the output."
   ]
  },
  {
   "cell_type": "markdown",
   "id": "d898d839",
   "metadata": {},
   "source": [
    "## For Comparison: non-miniai version"
   ]
  },
  {
   "cell_type": "markdown",
   "id": "8267e9a2-5d19-4b53-812a-486ef0dd9e17",
   "metadata": {},
   "source": [
    "On the experimentation version, we're doing all this work setting up these callbacks,\n",
    "and isn't it nicer to just have here's my image that I'm optimizing, \n",
    "set up an Optimizer, a loss function, and an optimization Loop.\n",
    "It is easier when we want to do it once.\n",
    "In a tutorial we keep it as minimal as possible, just show what style loss is...\n",
    "But when we want to try it again, adding a different layer, add some progress, etc., it gets messy quickly.\n",
    "As soon as we want to save images for a video and mess with the loss function,\n",
    "do some sort of annealing on the learning rate, ....\n",
    "Each of these things is going to grow this loop into something messier.\n",
    "It was fun to quickly  convert to being able to experiment with a completely new version \n",
    "with minimal lines of code, minimal changes, \n",
    "having everything in its own piece like the the image logging.\n",
    "Or to make a movie showing the progress that goes in a separate callback.\n",
    "To tweak the model we're just tweaking one thing, \n",
    "all the other infrastructure can stay the same."
   ]
  },
  {
   "cell_type": "code",
   "execution_count": null,
   "id": "5492fc1f",
   "metadata": {},
   "outputs": [],
   "source": [
    "# The image to be optimized\n",
    "im = torch.rand(3, 256, 256).to(def_device)\n",
    "im.requires_grad = True\n",
    "\n",
    "# Set up the optimizer\n",
    "opt = torch.optim.Adam([im], lr=5e-2)\n",
    "\n",
    "# Define the loss function\n",
    "style_loss = StyleLossToTarget(style_im)\n",
    "content_loss = ContentLossToTarget(content_im, target_layers=[6, 18, 25])\n",
    "def combined_loss(x):\n",
    "    return style_loss(x) * 0.2 + content_loss(x)\n",
    "\n",
    "# Optimization loop\n",
    "for i in range(300):\n",
    "    loss = combined_loss(im)\n",
    "    loss.backward()\n",
    "    opt.step()\n",
    "    opt.zero_grad()\n",
    "    \n",
    "# Show the result\n",
    "show_image(im.clip(0, 1));"
   ]
  },
  {
   "cell_type": "markdown",
   "id": "38f76f93-1490-46fe-a158-b896a3d88a89",
   "metadata": {},
   "source": [
    "## Comments\n",
    "T: May be worthwhile to play with other (non VGG) networks, as some special properties of VGG\n",
    "that are good for style transfer.\n",
    "There are papers that explore how to use other networks for style transfer that maintain some of the properties of VGG.\n",
    "Explore these papers, and use the framework that allows us to Plug and Play different networks.\n",
    "\n",
    "JH: taking a convnet or a resnet, replacing its head with a VGG head would be interesting to try.\n",
    "On the experimentation version, we're doing all this work setting up these callbacks,\n",
    "and isn't it nicer to just have here's my image that I'm optimizing, \n",
    "set up an Optimizer, a loss function, and an optimization Loop.\n",
    "\n",
    "It is easier when we want to do it once.\n",
    "In a tutorial we keep it as minimal as possible, just show what style loss is...\n",
    "But when we want to try it again, adding a different layer, show progress, save images for a video,\n",
    "change the loss function, annealing on the learning rate, etc., the training loop gets messy quickly.\n",
    "With miniAI it was fast to experiment with a completely new version with minimal lines of code, minimal changes, \n",
    "having everything in its own piece like the the image logging.\n",
    "To tweak the model we touch one thing and the other infrastructure can stay the same.\n",
    "\n",
    "JH: When using the fastAI library people jump straight into Data blocks.\n",
    "But they may be working on a custom thing where there isn't a data block already written for.\n",
    "Step One is lets write a data block, and that's not easy.\n",
    "Would be better to focus on building a model.\n",
    "JH tells people to go down a layer of abstraction.\n",
    "JH doesn't often start at the lowest level of abstraction, because he does not do it right, e.g., forget zero_grad.\n",
    "Easier to mess up something, especially when trying to have it run quick.\n",
    "So he starts at a reasonably low level, but not the lowest.\n",
    "<br>\n",
    "With miniAI we understand all the (few) layers. \n",
    "We could write our own e.g., trainCB, and it ensures to use torch.nograd, and to put it in a Val mode, etc.,\n",
    "and it will be done correctly.\n",
    "We can run a learning rate finder, run on Cuda, etc.\n",
    "We can have \"our own\"  framework where there are multiple ways of doing the same thing.\n",
    "For example, Jonna showed with the imageOptCB callback can be implemented in different ways.\n",
    "\n",
    "Using these pre-trained networks as smart feature extractors is powerful.\n",
    "Unlike the \"fun crazy\" example that we're going to look at, they also have very valid uses.\n",
    "For example, for super resolution or even something like difusion,\n",
    "adding in a perceptual loss or even a style loss to the target image can improve things. \n",
    "We've played around with using perceptual loss for diffusion, \n",
    "or even to generate an image that matches a face, image to image with stable diffusion.\n",
    "Maybe you have an extra guidance function that makes sure that structurally it matches \n",
    "is but maybe it actually doesn't.\n",
    "Maybe you want to pass in a style image and have that guide the diffusion process \n",
    "to be a particular style without having to say the style name.\n",
    "For many image to image tasks, using the features from a network like vgg \n",
    "has many practical uses apart from artistic."
   ]
  },
  {
   "cell_type": "markdown",
   "id": "d360535f",
   "metadata": {},
   "source": [
    "What do you think are some pros and cons? How would this look once we start displaying progress, testing different configurations and so on?"
   ]
  }
 ],
 "metadata": {
  "kernelspec": {
   "display_name": "Python 3 (ipykernel)",
   "language": "python",
   "name": "python3"
  },
  "language_info": {
   "codemirror_mode": {
    "name": "ipython",
    "version": 3
   },
   "file_extension": ".py",
   "mimetype": "text/x-python",
   "name": "python",
   "nbconvert_exporter": "python",
   "pygments_lexer": "ipython3",
   "version": "3.9.15"
  }
 },
 "nbformat": 4,
 "nbformat_minor": 5
}
